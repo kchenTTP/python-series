{
  "cells": [
    {
      "cell_type": "markdown",
      "metadata": {
        "id": "view-in-github",
        "colab_type": "text"
      },
      "source": [
        "<a href=\"https://colab.research.google.com/github/kchenTTP/python-series/blob/main/loops_and_iteration_in_python/Loops_and_Iteration_in_Python.ipynb\" target=\"_parent\"><img src=\"https://colab.research.google.com/assets/colab-badge.svg\" alt=\"Open In Colab\"/></a>"
      ]
    },
    {
      "cell_type": "markdown",
      "metadata": {
        "id": "u77EAJpG99fN"
      },
      "source": [
        "# **Loops and Iteration in Python**\n",
        "\n",
        "In our fundamentals class, we learned about the 2 basic types of looping in programming (for and while loops). In this session, we'll deepen our understanding of python loops by covering some useful features and techniques in looping.\n",
        "\n",
        "### **Table of Contents**\n",
        "- [Control Statements in Loops](#scrollTo=SjSk4P04ztmb)\n",
        "- [Generators](#scrollTo=F1UkVbQY0Ujf)\n",
        "- [Comprehensions](#scrollTo=Q0k6wPSw1AnG)\n",
        "- [Useful Functions & Techniques for Iterations](#scrollTo=L6bDCdvdzm65)"
      ]
    },
    {
      "cell_type": "markdown",
      "metadata": {
        "id": "SjSk4P04ztmb"
      },
      "source": [
        "## **Control Statements in Loops**\n",
        "\n",
        "Control statements dictate the flow within loops. These statements are like traffic signals within your loop that gives you fine-grained command over how your loops execute.\n"
      ]
    },
    {
      "cell_type": "markdown",
      "metadata": {
        "id": "UJ2GaUu91t52"
      },
      "source": [
        "### **`break`**\n",
        "\n",
        "`break` acts like an emergency stop button for your loop. It immediately terminates the loop's execution, and the program flow jumps to the statement immediately following the loop.\n"
      ]
    },
    {
      "cell_type": "code",
      "execution_count": 1,
      "metadata": {
        "id": "HtLHnjlNjDR9",
        "colab": {
          "base_uri": "https://localhost:8080/"
        },
        "outputId": "f52abbe6-9d9d-46b4-d18d-6baa2b3b1069"
      },
      "outputs": [
        {
          "output_type": "stream",
          "name": "stdout",
          "text": [
            "1\n",
            "2\n",
            "3\n",
            "4\n",
            "statement after the loop\n"
          ]
        }
      ],
      "source": [
        "l1 = [1, 2, 3, 4, 5, 6, 7, 8, 9, 10]\n",
        "\n",
        "for i in l1:\n",
        "  print(i)\n",
        "  if i == 4:\n",
        "    break\n",
        "\n",
        "print(\"statement after the loop\")"
      ]
    },
    {
      "cell_type": "markdown",
      "metadata": {
        "id": "nAZbpY6J2oAI"
      },
      "source": [
        "### **`continue`**\n",
        "\n",
        "`continue` is like a \"skip this iteration\" command. When the interpreter hits a `continue` statement, it immediately jumps to the next iteration of the loop, skipping any remaining code within the current iteration.\n"
      ]
    },
    {
      "cell_type": "code",
      "execution_count": 2,
      "metadata": {
        "id": "vJpyKCYAjD1s",
        "colab": {
          "base_uri": "https://localhost:8080/"
        },
        "outputId": "55cec541-484b-4841-87f1-ea293394cc43"
      },
      "outputs": [
        {
          "output_type": "stream",
          "name": "stdout",
          "text": [
            "1\n",
            "3\n",
            "5\n",
            "7\n",
            "9\n"
          ]
        }
      ],
      "source": [
        "for i in l1:\n",
        "  if i % 2 == 0:\n",
        "    continue\n",
        "  print(i)"
      ]
    },
    {
      "cell_type": "markdown",
      "metadata": {
        "id": "ZVKCp6Avvjr2"
      },
      "source": [
        "### **`else`**\n",
        "\n",
        "The `else` block only runs if the loop completes normally (doesn't encounter a break). So if the loop finishes all iterations, the `else` runs. If the loop is stopped by a break, the else does not run.\n"
      ]
    },
    {
      "cell_type": "code",
      "execution_count": 3,
      "metadata": {
        "id": "0qrQo8levkGJ",
        "colab": {
          "base_uri": "https://localhost:8080/"
        },
        "outputId": "583462e8-5da3-426a-da40-70c48ad50340"
      },
      "outputs": [
        {
          "output_type": "stream",
          "name": "stdout",
          "text": [
            "1\n",
            "2\n",
            "3\n",
            "4\n"
          ]
        }
      ],
      "source": [
        "# Else doesn't get executed\n",
        "for i in l1:\n",
        "  print(i)\n",
        "  if i == 4:\n",
        "    break\n",
        "else:\n",
        "  print(\"Loop finished without break.\")"
      ]
    },
    {
      "cell_type": "code",
      "source": [
        "# Else does get executed\n",
        "for i in l1:\n",
        "  print(i)\n",
        "else:\n",
        "  print(\"Loop finished without break.\")"
      ],
      "metadata": {
        "colab": {
          "base_uri": "https://localhost:8080/"
        },
        "id": "J6dchoEgnREL",
        "outputId": "a8859fed-f76b-4cbc-923f-ca9c943050cc"
      },
      "execution_count": 4,
      "outputs": [
        {
          "output_type": "stream",
          "name": "stdout",
          "text": [
            "1\n",
            "2\n",
            "3\n",
            "4\n",
            "5\n",
            "6\n",
            "7\n",
            "8\n",
            "9\n",
            "10\n",
            "Loop finished without break.\n"
          ]
        }
      ]
    },
    {
      "cell_type": "markdown",
      "metadata": {
        "id": "F1UkVbQY0Ujf"
      },
      "source": [
        "## **Generators**\n",
        "\n",
        "Generator functions are similar to regular functions, but instead of returning a single value and exiting, they *yield values one at a time, pausing between each.*\n",
        "\n",
        "They use the `yield` keyword instead of (or in addition to) `return`. When you call a generator function, it **doesn't execute the function body immediately**. Instead, it returns a **generator object** that produces values **lazily** (one at a time) as you iterate over it.\n"
      ]
    },
    {
      "cell_type": "markdown",
      "source": [
        "Let's look at a regular function first:\n"
      ],
      "metadata": {
        "id": "HQFrpjTspTw0"
      }
    },
    {
      "cell_type": "code",
      "execution_count": 5,
      "metadata": {
        "id": "wlXD8UTuwH2x"
      },
      "outputs": [],
      "source": [
        "def get_filenames_regular(prefix: str, count: int) -> list:\n",
        "  i = 1\n",
        "\n",
        "  files = []\n",
        "  while i <= count:\n",
        "    files.append(f\"{prefix}_{i}.txt\")\n",
        "    i += 1\n",
        "\n",
        "  return files"
      ]
    },
    {
      "cell_type": "code",
      "execution_count": 6,
      "metadata": {
        "colab": {
          "base_uri": "https://localhost:8080/"
        },
        "id": "n_s6lv02wutJ",
        "outputId": "26ec44f2-8ca1-4469-8104-bdb66dc4e5e3"
      },
      "outputs": [
        {
          "output_type": "stream",
          "name": "stdout",
          "text": [
            "['file_1.txt', 'file_2.txt', 'file_3.txt', 'file_4.txt', 'file_5.txt', 'file_6.txt', 'file_7.txt', 'file_8.txt', 'file_9.txt', 'file_10.txt', 'file_11.txt', 'file_12.txt', 'file_13.txt', 'file_14.txt', 'file_15.txt', 'file_16.txt', 'file_17.txt', 'file_18.txt', 'file_19.txt', 'file_20.txt']\n"
          ]
        }
      ],
      "source": [
        "prefix = \"file\"\n",
        "count = 20\n",
        "\n",
        "filenames = get_filenames_regular(prefix, count)\n",
        "print(filenames)"
      ]
    },
    {
      "cell_type": "markdown",
      "source": [
        "When a regular function like `get_filenames_regular` is called, it runs completely, builds a full list of filenames, and returns it all at once. This uses memory to store the entire list upfront, even if you only need a few of the filenames.\n",
        "\n",
        "Now let's see how generators work:\n"
      ],
      "metadata": {
        "id": "8d7a7IHq1nd0"
      }
    },
    {
      "cell_type": "code",
      "execution_count": 7,
      "metadata": {
        "id": "qtnEGXGBUvur"
      },
      "outputs": [],
      "source": [
        "from typing import Generator # for type hints\n",
        "\n",
        "def get_filenames_generator(prefix: str, count: int) -> Generator:\n",
        "  i = 1\n",
        "  while i <= count:\n",
        "    yield f\"{prefix}_{i}.txt\"\n",
        "    i += 1"
      ]
    },
    {
      "cell_type": "code",
      "source": [
        "filenames = get_filenames_generator(prefix, count)\n",
        "print(filenames)"
      ],
      "metadata": {
        "colab": {
          "base_uri": "https://localhost:8080/"
        },
        "id": "ipkWVivPpLpm",
        "outputId": "412c7e33-1594-45b9-a85c-1a7c49e47d84"
      },
      "execution_count": 8,
      "outputs": [
        {
          "output_type": "stream",
          "name": "stdout",
          "text": [
            "<generator object get_filenames_generator at 0x7d7944a1f760>\n"
          ]
        }
      ]
    },
    {
      "cell_type": "markdown",
      "source": [
        "With generators, however, you can use the `next` keyword to extract values from a generator one at a time:\n"
      ],
      "metadata": {
        "id": "DwGoa6Wq1r6C"
      }
    },
    {
      "cell_type": "code",
      "execution_count": 9,
      "metadata": {
        "id": "9TP0MucxQShw",
        "colab": {
          "base_uri": "https://localhost:8080/"
        },
        "outputId": "3989b765-e0cf-4720-e6af-7b6703611ab2"
      },
      "outputs": [
        {
          "output_type": "stream",
          "name": "stdout",
          "text": [
            "file_1.txt\n",
            "file_2.txt\n"
          ]
        }
      ],
      "source": [
        "print(next(filenames))\n",
        "print(next(filenames))"
      ]
    },
    {
      "cell_type": "markdown",
      "source": [
        "Or iterate through it using a loop:\n"
      ],
      "metadata": {
        "id": "p8TIQnLqszu8"
      }
    },
    {
      "cell_type": "code",
      "execution_count": 10,
      "metadata": {
        "id": "lDQ6ToBWVIW2",
        "colab": {
          "base_uri": "https://localhost:8080/"
        },
        "outputId": "692567c2-68d6-442d-cdb8-20f79570af52"
      },
      "outputs": [
        {
          "output_type": "stream",
          "name": "stdout",
          "text": [
            "file_3.txt\n",
            "file_4.txt\n",
            "file_5.txt\n",
            "file_6.txt\n",
            "file_7.txt\n",
            "file_8.txt\n",
            "file_9.txt\n",
            "file_10.txt\n",
            "file_11.txt\n",
            "file_12.txt\n",
            "file_13.txt\n",
            "file_14.txt\n",
            "file_15.txt\n",
            "file_16.txt\n",
            "file_17.txt\n",
            "file_18.txt\n",
            "file_19.txt\n",
            "file_20.txt\n"
          ]
        }
      ],
      "source": [
        "for file in filenames:\n",
        "  print(file)"
      ]
    },
    {
      "cell_type": "markdown",
      "source": [
        "You'll notice that after an item has been extracted, the generator pauses until the next item is extracted. In other words, a generator function **pauses** in between each extraction.\n",
        "\n",
        "Once a generator is **depleted** (i.e. all values have been yielded), it can't be reused and calling `next()` again will raise a `StopIteration` exception.\n"
      ],
      "metadata": {
        "id": "Up75IDoos4N_"
      }
    },
    {
      "cell_type": "code",
      "source": [
        "next(filenames)"
      ],
      "metadata": {
        "colab": {
          "base_uri": "https://localhost:8080/",
          "height": 141
        },
        "id": "msW9UOIRqQmU",
        "outputId": "2b1c4246-63fb-4502-e774-72f99fcec492"
      },
      "execution_count": 11,
      "outputs": [
        {
          "output_type": "error",
          "ename": "StopIteration",
          "evalue": "",
          "traceback": [
            "\u001b[0;31m---------------------------------------------------------------------------\u001b[0m",
            "\u001b[0;31mStopIteration\u001b[0m                             Traceback (most recent call last)",
            "\u001b[0;32m<ipython-input-11-902869738e81>\u001b[0m in \u001b[0;36m<cell line: 0>\u001b[0;34m()\u001b[0m\n\u001b[0;32m----> 1\u001b[0;31m \u001b[0mnext\u001b[0m\u001b[0;34m(\u001b[0m\u001b[0mfilenames\u001b[0m\u001b[0;34m)\u001b[0m\u001b[0;34m\u001b[0m\u001b[0;34m\u001b[0m\u001b[0m\n\u001b[0m",
            "\u001b[0;31mStopIteration\u001b[0m: "
          ]
        }
      ]
    },
    {
      "cell_type": "markdown",
      "source": [
        "### 💡 **Benefits of Using Generators**\n",
        "\n",
        "- Memory Efficient: They don't build the entire result in memory.\n",
        "\n",
        "- Lazy Evaluation: They only generate values when needed.\n",
        "\n",
        "- Infinite Sequences: You can use them to model endless data sources.\n"
      ],
      "metadata": {
        "id": "t8oZa1_Wt3yh"
      }
    },
    {
      "cell_type": "code",
      "source": [
        "# Infinite sequence generator\n",
        "def infinite_sequence(start: int = 0, step_size: int = 1) -> Generator:\n",
        "  num = start\n",
        "  while True:\n",
        "    yield num\n",
        "    num += step_size"
      ],
      "metadata": {
        "id": "1GssE3jruXBJ"
      },
      "execution_count": 12,
      "outputs": []
    },
    {
      "cell_type": "code",
      "source": [
        "# This will keep generate numbers forever, please manually stop execution\n",
        "for num in infinite_sequence(start=10, step_size=2):\n",
        "  print(num)"
      ],
      "metadata": {
        "id": "3E83iWKvuurF"
      },
      "execution_count": null,
      "outputs": []
    },
    {
      "cell_type": "markdown",
      "metadata": {
        "id": "Q0k6wPSw1AnG"
      },
      "source": [
        "## **Comprehensions**\n",
        "\n",
        "**Comprehensions** in Python are a concise way to create new collections (like lists, dictionaries, sets, or generators) from an iterable **all in a single line of code**.\n",
        "\n",
        "> 📒 In Python, an *iterable* is any object that can return its elements one at a time, allowing it to be used in a `for` loop.\n",
        "\n",
        "They replace longer `for` loop patterns with a compact expression that is easier to write."
      ]
    },
    {
      "cell_type": "markdown",
      "source": [
        "### **List Comprehensions**\n",
        "\n",
        "A list comprehension is a **concise way to create lists** using a single line of code.\n"
      ],
      "metadata": {
        "id": "vCPdK65mwkug"
      }
    },
    {
      "cell_type": "code",
      "source": [
        "# Traditional for loop\n",
        "nums = [1, 2, 3, 4, 5]\n",
        "cubes = []\n",
        "for n in nums:\n",
        "  cubes.append(n ** 3)\n",
        "\n",
        "print(cubes)"
      ],
      "metadata": {
        "colab": {
          "base_uri": "https://localhost:8080/"
        },
        "id": "qpsexB4cwzB2",
        "outputId": "3d98ed88-b71d-4889-c8ae-b1df47dc4d35"
      },
      "execution_count": 14,
      "outputs": [
        {
          "output_type": "stream",
          "name": "stdout",
          "text": [
            "[1, 8, 27, 64, 125]\n"
          ]
        }
      ]
    },
    {
      "cell_type": "code",
      "source": [
        "# List comprehension\n",
        "nums = [1, 2, 3, 4, 5]\n",
        "cubes = [n ** 3 for n in nums]\n",
        "print(cubes)"
      ],
      "metadata": {
        "colab": {
          "base_uri": "https://localhost:8080/"
        },
        "id": "CIwODBioxLK7",
        "outputId": "1055913b-f240-4078-aeb7-196b202d5746"
      },
      "execution_count": 15,
      "outputs": [
        {
          "output_type": "stream",
          "name": "stdout",
          "text": [
            "[1, 8, 27, 64, 125]\n"
          ]
        }
      ]
    },
    {
      "cell_type": "markdown",
      "source": [
        "**Explanation:**\n",
        "\n",
        "- `n ** 3` → what to add to the list\n",
        "- `for n in nums` → where the values come from\n"
      ],
      "metadata": {
        "id": "0kLp4X8WxdNF"
      }
    },
    {
      "cell_type": "markdown",
      "source": [
        "#### **Using Comprehensions With Conditionals**\n",
        "\n",
        "You can also filter elements by adding an `if` clause at the end.\n"
      ],
      "metadata": {
        "id": "irqQA3Wcx1_X"
      }
    },
    {
      "cell_type": "code",
      "source": [
        "nums = [1, 2, 3, 4, 5]\n",
        "evens = [n for n in nums if n % 2 == 0]\n",
        "print(evens)"
      ],
      "metadata": {
        "colab": {
          "base_uri": "https://localhost:8080/"
        },
        "id": "BuYc9gqcyMlf",
        "outputId": "b7ad457a-a77a-47aa-afc5-7bc2da5cc681"
      },
      "execution_count": 16,
      "outputs": [
        {
          "output_type": "stream",
          "name": "stdout",
          "text": [
            "[2, 4]\n"
          ]
        }
      ]
    },
    {
      "cell_type": "markdown",
      "source": [
        "### **Dictionary Comprehensions**\n",
        "\n",
        "Similar to list comprehensions, you can create dictionaries using a similar format.\n"
      ],
      "metadata": {
        "id": "guWHoLXzyM30"
      }
    },
    {
      "cell_type": "code",
      "source": [
        "nums = [1, 2, 3, 4, 5]\n",
        "squares_d = {n: n ** 3 for n in nums}\n",
        "print(squares_d)"
      ],
      "metadata": {
        "colab": {
          "base_uri": "https://localhost:8080/"
        },
        "id": "GcRWbm8Gzi6H",
        "outputId": "22e64256-c775-42a2-93ee-365fee0041d9"
      },
      "execution_count": 17,
      "outputs": [
        {
          "output_type": "stream",
          "name": "stdout",
          "text": [
            "{1: 1, 2: 8, 3: 27, 4: 64, 5: 125}\n"
          ]
        }
      ]
    },
    {
      "cell_type": "code",
      "source": [
        "# Reversing a dictionary\n",
        "d = {\"a\": 1, \"b\": 2, \"c\": 3}\n",
        "reversed_d = {v: k for k, v in d.items()}\n",
        "print(reversed_d)"
      ],
      "metadata": {
        "colab": {
          "base_uri": "https://localhost:8080/"
        },
        "id": "YxM7kiYvzHt9",
        "outputId": "56c059a8-ee69-4d61-9f0b-7a6655377fb1"
      },
      "execution_count": 18,
      "outputs": [
        {
          "output_type": "stream",
          "name": "stdout",
          "text": [
            "{1: 'a', 2: 'b', 3: 'c'}\n"
          ]
        }
      ]
    },
    {
      "cell_type": "markdown",
      "source": [
        "### **Generator Comprehensions**\n",
        "\n",
        "Just like list comprehensions, but with parentheses. They return a **generator** instead of a list.\n"
      ],
      "metadata": {
        "id": "NDHVK2vAzIMK"
      }
    },
    {
      "cell_type": "code",
      "source": [
        "phrase = \"Stavros Niarchos Foundation Library\"\n",
        "str_gen = (char for char in phrase if char.lower() not in [\"a\", \"s\", \" \"])"
      ],
      "metadata": {
        "id": "3nwRK4bs0mt8"
      },
      "execution_count": 19,
      "outputs": []
    },
    {
      "cell_type": "code",
      "source": [
        "next(str_gen)"
      ],
      "metadata": {
        "colab": {
          "base_uri": "https://localhost:8080/",
          "height": 35
        },
        "id": "0hhPC4iW-j_0",
        "outputId": "c4fbb7c5-89ff-4a45-af13-582d44330fb6"
      },
      "execution_count": 20,
      "outputs": [
        {
          "output_type": "execute_result",
          "data": {
            "text/plain": [
              "'t'"
            ],
            "application/vnd.google.colaboratory.intrinsic+json": {
              "type": "string"
            }
          },
          "metadata": {},
          "execution_count": 20
        }
      ]
    },
    {
      "cell_type": "code",
      "source": [
        "for char in str_gen:\n",
        "  print(char)"
      ],
      "metadata": {
        "colab": {
          "base_uri": "https://localhost:8080/"
        },
        "id": "5ti2H7fl-tBE",
        "outputId": "872f027b-fc30-4a05-df16-26c82afa812d"
      },
      "execution_count": 21,
      "outputs": [
        {
          "output_type": "stream",
          "name": "stdout",
          "text": [
            "v\n",
            "r\n",
            "o\n",
            "N\n",
            "i\n",
            "r\n",
            "c\n",
            "h\n",
            "o\n",
            "F\n",
            "o\n",
            "u\n",
            "n\n",
            "d\n",
            "t\n",
            "i\n",
            "o\n",
            "n\n",
            "L\n",
            "i\n",
            "b\n",
            "r\n",
            "r\n",
            "y\n"
          ]
        }
      ]
    },
    {
      "cell_type": "markdown",
      "source": [
        "### 💡 **Benefits of Using Comprehensions**\n",
        "\n",
        "- More compact and readable\n",
        "- Faster than using loops in many cases\n"
      ],
      "metadata": {
        "id": "aPz4gXi8_Zws"
      }
    },
    {
      "cell_type": "markdown",
      "source": [
        "### **Nested Comprehensions (Additional Material)**\n",
        "\n",
        "> 📒 **NOTE:** This section might be slightly more challenging. Feel free to skip ahead and come back once you are more comforatble with comprehensions.\n"
      ],
      "metadata": {
        "id": "6s0KQBzjvr9a"
      }
    },
    {
      "cell_type": "markdown",
      "source": [
        "You can turn nested loops into nest comprehensions like this:\n"
      ],
      "metadata": {
        "id": "CWb-H0plCblF"
      }
    },
    {
      "cell_type": "code",
      "execution_count": 22,
      "metadata": {
        "id": "GGUeheCN1Cvx"
      },
      "outputs": [],
      "source": [
        "colors = [\"red\", \"green\"]\n",
        "sizes = [\"S\", \"M\", \"L\"]"
      ]
    },
    {
      "cell_type": "code",
      "source": [
        "# Traditional for loop\n",
        "combinations = []\n",
        "for num in colors:\n",
        "  for size in sizes:\n",
        "    combinations.append((num, size))\n",
        "print(combinations)"
      ],
      "metadata": {
        "colab": {
          "base_uri": "https://localhost:8080/"
        },
        "id": "p849WCP7BoX6",
        "outputId": "04210397-8461-4cfc-9658-1d325bf7b5b6"
      },
      "execution_count": 23,
      "outputs": [
        {
          "output_type": "stream",
          "name": "stdout",
          "text": [
            "[('red', 'S'), ('red', 'M'), ('red', 'L'), ('green', 'S'), ('green', 'M'), ('green', 'L')]\n"
          ]
        }
      ]
    },
    {
      "cell_type": "code",
      "source": [
        "# Nested list comprehension\n",
        "combinations = [(color, size) for color in colors for size in sizes]\n",
        "print(combinations)"
      ],
      "metadata": {
        "colab": {
          "base_uri": "https://localhost:8080/"
        },
        "id": "jfHx-iLbBoQr",
        "outputId": "a7da8bee-4bf2-4fb9-ca39-9ea27b1ae03a"
      },
      "execution_count": 24,
      "outputs": [
        {
          "output_type": "stream",
          "name": "stdout",
          "text": [
            "[('red', 'S'), ('red', 'M'), ('red', 'L'), ('green', 'S'), ('green', 'M'), ('green', 'L')]\n"
          ]
        }
      ]
    },
    {
      "cell_type": "markdown",
      "source": [
        "**Explanation:**\n",
        "- `(color, size)` → what to add to the list (a tuple of color and size)\n",
        "\n",
        "- `for color in colors` → outer loop (go through each color)\n",
        "\n",
        "- `for size in sizes` → inner loop (for each color, pair it with every size)\n"
      ],
      "metadata": {
        "id": "LN4BMFR9CFwo"
      }
    },
    {
      "cell_type": "markdown",
      "metadata": {
        "id": "L6bDCdvdzm65"
      },
      "source": [
        "## **Useful Functions & Techniques for Iterations**\n",
        "\n",
        "Here are some more useful tools and techniques that help you write cleaner, more efficient loops in Python:\n"
      ]
    },
    {
      "cell_type": "markdown",
      "source": [
        "### **`range()`**\n",
        "\n",
        "`range()` generates a sequence of numbers.\n"
      ],
      "metadata": {
        "id": "WUHt5K1THsCU"
      }
    },
    {
      "cell_type": "code",
      "source": [
        "for i in range(5):\n",
        "  print(i)"
      ],
      "metadata": {
        "colab": {
          "base_uri": "https://localhost:8080/"
        },
        "id": "KsxfJX8AHz2g",
        "outputId": "19768f40-1a1b-4d12-cdde-9efe0a08dda8"
      },
      "execution_count": 25,
      "outputs": [
        {
          "output_type": "stream",
          "name": "stdout",
          "text": [
            "0\n",
            "1\n",
            "2\n",
            "3\n",
            "4\n"
          ]
        }
      ]
    },
    {
      "cell_type": "markdown",
      "source": [
        "You can even specify the starting number, stopping number, and step size like this:\n",
        "\n",
        "`range(start, stop, step)`\n"
      ],
      "metadata": {
        "id": "FPXegsXxIhIA"
      }
    },
    {
      "cell_type": "code",
      "source": [
        "for i in range(10, 100, 10):\n",
        "  print(i)"
      ],
      "metadata": {
        "colab": {
          "base_uri": "https://localhost:8080/"
        },
        "id": "7kfXlvZbIA-M",
        "outputId": "8a82f7d2-fe5f-401d-e782-abf283d7ed54"
      },
      "execution_count": 26,
      "outputs": [
        {
          "output_type": "stream",
          "name": "stdout",
          "text": [
            "10\n",
            "20\n",
            "30\n",
            "40\n",
            "50\n",
            "60\n",
            "70\n",
            "80\n",
            "90\n"
          ]
        }
      ]
    },
    {
      "cell_type": "markdown",
      "source": [
        "### **`enumerate()`**\n",
        "\n",
        "`enumerate()` loops over both the **index** and the **value** of a sequence.\n"
      ],
      "metadata": {
        "id": "W_VYZJpwIR9l"
      }
    },
    {
      "cell_type": "code",
      "source": [
        "foods = [\"pizza\", \"burger\", \"pasta\", \"coke\", \"beer\", \"wine\"]\n",
        "\n",
        "for i, food in enumerate(foods):\n",
        "  print(i, food)"
      ],
      "metadata": {
        "colab": {
          "base_uri": "https://localhost:8080/"
        },
        "id": "C6KqtohaIPKx",
        "outputId": "5f2267e1-17bc-4463-d819-4b637ccd52df"
      },
      "execution_count": 27,
      "outputs": [
        {
          "output_type": "stream",
          "name": "stdout",
          "text": [
            "0 pizza\n",
            "1 burger\n",
            "2 pasta\n",
            "3 coke\n",
            "4 beer\n",
            "5 wine\n"
          ]
        }
      ]
    },
    {
      "cell_type": "markdown",
      "source": [
        "You can also specify the starting index like this:\n"
      ],
      "metadata": {
        "id": "Rj0UL3OiI5OS"
      }
    },
    {
      "cell_type": "code",
      "source": [
        "for i, food in enumerate(foods, 10):\n",
        "  print(i, food)"
      ],
      "metadata": {
        "colab": {
          "base_uri": "https://localhost:8080/"
        },
        "id": "okJ4PdmbIPIc",
        "outputId": "04549477-884a-4333-e849-d748b30ca97f"
      },
      "execution_count": 28,
      "outputs": [
        {
          "output_type": "stream",
          "name": "stdout",
          "text": [
            "10 pizza\n",
            "11 burger\n",
            "12 pasta\n",
            "13 coke\n",
            "14 beer\n",
            "15 wine\n"
          ]
        }
      ]
    },
    {
      "cell_type": "markdown",
      "source": [
        "### **`zip()`**\n",
        "\n",
        "`zip()` lets you loop over multiple iterables (of the same length) at the same time. It pairs up the elements from each iterable based on their positions, creating tuples of corresponding items.\n"
      ],
      "metadata": {
        "id": "9VezUwwNI_-Z"
      }
    },
    {
      "cell_type": "code",
      "source": [
        "names = [\"Timmy\", \"Jenifer\", \"Hank\"]\n",
        "grades = [90, 78, 82]\n",
        "\n",
        "for i in zip(names, grades):\n",
        "  print(i)"
      ],
      "metadata": {
        "colab": {
          "base_uri": "https://localhost:8080/"
        },
        "id": "2i8qj8G4IPGU",
        "outputId": "5bfcfb26-3d19-48f5-cb87-3f1507152a37"
      },
      "execution_count": 29,
      "outputs": [
        {
          "output_type": "stream",
          "name": "stdout",
          "text": [
            "('Timmy', 90)\n",
            "('Jenifer', 78)\n",
            "('Hank', 82)\n"
          ]
        }
      ]
    },
    {
      "cell_type": "markdown",
      "source": [
        "You can also immediately unpack the tuple in the for loop.\n"
      ],
      "metadata": {
        "id": "_dGBshfVLEpm"
      }
    },
    {
      "cell_type": "code",
      "source": [
        "for name, grade in zip(names, grades):\n",
        "  print(f\"{name} scored {grade}\")"
      ],
      "metadata": {
        "colab": {
          "base_uri": "https://localhost:8080/"
        },
        "id": "S73SW_vWIPD-",
        "outputId": "0d10d754-1681-4641-b2e5-76200ea7a9fd"
      },
      "execution_count": 30,
      "outputs": [
        {
          "output_type": "stream",
          "name": "stdout",
          "text": [
            "Timmy scored 90\n",
            "Jenifer scored 78\n",
            "Hank scored 82\n"
          ]
        }
      ]
    },
    {
      "cell_type": "markdown",
      "source": [
        "📒 **NOTE:** In Python, you can assign multiple variables at once by **unpacking** a container. This is called multiple assignment.\n"
      ],
      "metadata": {
        "id": "TcAPYE08LRFM"
      }
    },
    {
      "cell_type": "code",
      "source": [
        "a, b, c = [1, 2, 3]\n",
        "print(a)\n",
        "print(b)\n",
        "print(c)"
      ],
      "metadata": {
        "colab": {
          "base_uri": "https://localhost:8080/"
        },
        "id": "BjyF-axiIPAo",
        "outputId": "e787b625-33c7-40c2-f276-203b60eced9e"
      },
      "execution_count": 31,
      "outputs": [
        {
          "output_type": "stream",
          "name": "stdout",
          "text": [
            "1\n",
            "2\n",
            "3\n"
          ]
        }
      ]
    },
    {
      "cell_type": "markdown",
      "source": [
        "You can even do flexible **extended unpacking** like this:\n"
      ],
      "metadata": {
        "id": "JAnhsxQ3NC1h"
      }
    },
    {
      "cell_type": "code",
      "source": [
        "numbers = range(10)\n",
        "num_first, *num_others, num_last = numbers\n",
        "print(num_first)\n",
        "print(num_others)\n",
        "print(num_last)"
      ],
      "metadata": {
        "colab": {
          "base_uri": "https://localhost:8080/"
        },
        "id": "Z1GYTxLBIO9I",
        "outputId": "1f7bfe3f-4514-41e9-b3cc-9f2863a04028"
      },
      "execution_count": 32,
      "outputs": [
        {
          "output_type": "stream",
          "name": "stdout",
          "text": [
            "0\n",
            "[1, 2, 3, 4, 5, 6, 7, 8]\n",
            "9\n"
          ]
        }
      ]
    },
    {
      "cell_type": "markdown",
      "source": [
        "### **Combining Index Slicing with Loops**\n",
        "\n",
        "We've already covered indexing in our container data types class. It allows you to access specific parts of an iterable.\n",
        "\n",
        "While slicing can be used anywhere, it becomes especially powerful when combined with loops to process only a portion of data or step through elements in custom ways.\n"
      ],
      "metadata": {
        "id": "fB-fQbkwMYQK"
      }
    },
    {
      "cell_type": "code",
      "source": [
        "numbers = range(10, 101, 10)\n",
        "print([n for n in numbers])"
      ],
      "metadata": {
        "colab": {
          "base_uri": "https://localhost:8080/"
        },
        "id": "Zs3ef1lFRYpq",
        "outputId": "01aaf6da-9c76-4648-aa52-8929adc7e8ba"
      },
      "execution_count": 33,
      "outputs": [
        {
          "output_type": "stream",
          "name": "stdout",
          "text": [
            "[10, 20, 30, 40, 50, 60, 70, 80, 90, 100]\n"
          ]
        }
      ]
    },
    {
      "cell_type": "code",
      "execution_count": 34,
      "metadata": {
        "id": "LD-X1Wq0nM2E",
        "colab": {
          "base_uri": "https://localhost:8080/"
        },
        "outputId": "f36a126a-a956-4bdf-8c3f-f59e65faf482"
      },
      "outputs": [
        {
          "output_type": "stream",
          "name": "stdout",
          "text": [
            "30\n",
            "40\n",
            "50\n"
          ]
        }
      ],
      "source": [
        "# Looping over a subsection of a list (index 2, 3, 4)\n",
        "for num in numbers[2:5]:\n",
        "  print(num)"
      ]
    },
    {
      "cell_type": "code",
      "source": [
        "# Loop from index 2 to index 8 with a step size of 2\n",
        "for num in numbers[2:8:2]:\n",
        "  print(num)"
      ],
      "metadata": {
        "colab": {
          "base_uri": "https://localhost:8080/"
        },
        "id": "lQ8eoAGMQABA",
        "outputId": "757c51ba-bdcc-409a-bfdc-1999723b9f6c"
      },
      "execution_count": 35,
      "outputs": [
        {
          "output_type": "stream",
          "name": "stdout",
          "text": [
            "30\n",
            "50\n",
            "70\n"
          ]
        }
      ]
    },
    {
      "cell_type": "code",
      "source": [
        "# Loop from index 2 to the end with a step size of 3\n",
        "for num in numbers[2::3]:\n",
        "  print(num)"
      ],
      "metadata": {
        "colab": {
          "base_uri": "https://localhost:8080/"
        },
        "id": "ndpGpDlKQL-X",
        "outputId": "39481747-d87e-43fa-fac0-4d6ee3415e3d"
      },
      "execution_count": 36,
      "outputs": [
        {
          "output_type": "stream",
          "name": "stdout",
          "text": [
            "30\n",
            "60\n",
            "90\n"
          ]
        }
      ]
    },
    {
      "cell_type": "code",
      "source": [
        "# Loop through a list in reverse\n",
        "for num in numbers[::-1]:\n",
        "  print(num)"
      ],
      "metadata": {
        "colab": {
          "base_uri": "https://localhost:8080/"
        },
        "id": "z4bvnYrtQPiY",
        "outputId": "672a38b2-6ac2-495a-978d-4b3164e22cbc"
      },
      "execution_count": 37,
      "outputs": [
        {
          "output_type": "stream",
          "name": "stdout",
          "text": [
            "100\n",
            "90\n",
            "80\n",
            "70\n",
            "60\n",
            "50\n",
            "40\n",
            "30\n",
            "20\n",
            "10\n"
          ]
        }
      ]
    },
    {
      "cell_type": "markdown",
      "metadata": {
        "id": "zQ2OYCzZ1Dj7"
      },
      "source": [
        "## **Conclusion**\n",
        "\n",
        "That's it for this class. If you'd like to dive deeper into Python loops and iteration techniques, here are some useful resources:\n",
        "\n",
        "- [Python `for` and `while` Loops](https://docs.python.org/3/tutorial/controlflow.html#for-statements)\n",
        "- [`range()` function](https://docs.python.org/3/library/functions.html#func-range)\n",
        "- [`enumerate()` function](https://docs.python.org/3/library/functions.html#enumerate)\n",
        "- [`zip()` function](https://docs.python.org/3/library/functions.html#zip)\n",
        "- [List slicing in Python](https://geeksforgeeks.org/python-list-slicing/)\n",
        "\n",
        "For even more advanced iteration patterns, check out Python's built-in `itertools` module:\n",
        "\n",
        "- [Python `itertools` documentation](https://docs.python.org/3/library/itertools.html)\n",
        "\n",
        "Have fun looping! 🔁🐍🔁\n"
      ]
    }
  ],
  "metadata": {
    "colab": {
      "provenance": [],
      "collapsed_sections": [
        "6s0KQBzjvr9a"
      ],
      "include_colab_link": true
    },
    "kernelspec": {
      "display_name": "Python 3",
      "name": "python3"
    },
    "language_info": {
      "name": "python"
    }
  },
  "nbformat": 4,
  "nbformat_minor": 0
}