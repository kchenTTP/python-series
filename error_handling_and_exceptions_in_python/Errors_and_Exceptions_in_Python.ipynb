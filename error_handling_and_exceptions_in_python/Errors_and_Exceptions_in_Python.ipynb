{
  "nbformat": 4,
  "nbformat_minor": 0,
  "metadata": {
    "colab": {
      "provenance": [],
      "collapsed_sections": [
        "E--ry4Xyl7LP"
      ],
      "toc_visible": true,
      "authorship_tag": "ABX9TyNLZvlg3jTy6AhyhclpKOL6",
      "include_colab_link": true
    },
    "kernelspec": {
      "name": "python3",
      "display_name": "Python 3"
    },
    "language_info": {
      "name": "python"
    }
  },
  "cells": [
    {
      "cell_type": "markdown",
      "metadata": {
        "id": "view-in-github",
        "colab_type": "text"
      },
      "source": [
        "<a href=\"https://colab.research.google.com/github/kchenTTP/python-series/blob/main/error_handling_and_exceptions_in_python/Errors_and_Exceptions_in_Python.ipynb\" target=\"_parent\"><img src=\"https://colab.research.google.com/assets/colab-badge.svg\" alt=\"Open In Colab\"/></a>"
      ]
    },
    {
      "cell_type": "markdown",
      "source": [
        "# **Errors and Exceptions in Python**\n",
        "\n",
        "This is the first class of a two part series covering various types of Python error, how they occor, and how to effectively handle them. In this class, we'll focus on the different kinds of errors as well as ways to minimize potential errors in your code.\n",
        "\n",
        "<br>\n",
        "\n",
        "### **Table of Contents**\n",
        "\n",
        "- [Understanding Error Messages and Tracebacks](#scrollTo=g38m6TM3QU0o)\n",
        "- [Errors & Exceptions](#scrollTo=0GAHckPu7YV9)\n",
        "- [Type Checking](#scrollTo=yrC2t-8fGB8t)\n",
        "- [Type Hints & Function Documentation](#scrollTo=nQ18LxcjJH90)\n"
      ],
      "metadata": {
        "id": "2zqFUEgCwaSx"
      }
    },
    {
      "cell_type": "markdown",
      "source": [
        "## **Understanding Error Messages and Tracebacks**\n",
        "\n",
        "Before we jump in and look at all kinds of errors that might occur in Python, let's first learn how to read error messages.\n",
        "\n",
        "Error messages and tracebacks are essential tools for debugging in Python. When an error occurs, Python generates a detailed message that pinpoints where the issue happened and what type of error it is. Understanding these messages can help you quickly identify and fix problems in your code and make the debugging process more efficient and less frustrating.\n"
      ],
      "metadata": {
        "id": "g38m6TM3QU0o"
      }
    },
    {
      "cell_type": "markdown",
      "source": [
        "Let's look at an example where we interactively get user input to perform a mathematical calculation.\n"
      ],
      "metadata": {
        "id": "YrFUEL2TbN9C"
      }
    },
    {
      "cell_type": "code",
      "source": [
        "def cube(x):\n",
        "  return x ** 3\n",
        "\n",
        "def cube_app():\n",
        "  user_input = input(\"Enter a number to cube: \")\n",
        "  result = cube(float(user_input))\n",
        "  print(f\"The cube of {user_input} is {result}\")"
      ],
      "metadata": {
        "id": "tL6skSpAUwFf"
      },
      "execution_count": null,
      "outputs": []
    },
    {
      "cell_type": "code",
      "source": [
        "# Put a string (such as \"apple\", \"Bob\", or \"peanut\") in the input to see the error\n",
        "cube_app()"
      ],
      "metadata": {
        "colab": {
          "base_uri": "https://localhost:8080/",
          "height": 280
        },
        "id": "gYn08JIDQuHd",
        "outputId": "239e0bd2-bee2-474c-8f20-285ac8c5f2d2"
      },
      "execution_count": null,
      "outputs": [
        {
          "name": "stdout",
          "output_type": "stream",
          "text": [
            "Enter a number to cube: bob\n"
          ]
        },
        {
          "output_type": "error",
          "ename": "ValueError",
          "evalue": "could not convert string to float: 'bob'",
          "traceback": [
            "\u001b[0;31m---------------------------------------------------------------------------\u001b[0m",
            "\u001b[0;31mValueError\u001b[0m                                Traceback (most recent call last)",
            "\u001b[0;32m<ipython-input-6-b5ad812845ca>\u001b[0m in \u001b[0;36m<cell line: 0>\u001b[0;34m()\u001b[0m\n\u001b[1;32m      1\u001b[0m \u001b[0;31m# Put a string (such as \"apple\", \"Bob\", or \"peanut\") in the input to see the error\u001b[0m\u001b[0;34m\u001b[0m\u001b[0;34m\u001b[0m\u001b[0m\n\u001b[0;32m----> 2\u001b[0;31m \u001b[0mcube_app\u001b[0m\u001b[0;34m(\u001b[0m\u001b[0;34m)\u001b[0m\u001b[0;34m\u001b[0m\u001b[0;34m\u001b[0m\u001b[0m\n\u001b[0m",
            "\u001b[0;32m<ipython-input-4-7dbe1de5de19>\u001b[0m in \u001b[0;36mcube_app\u001b[0;34m()\u001b[0m\n\u001b[1;32m      4\u001b[0m \u001b[0;32mdef\u001b[0m \u001b[0mcube_app\u001b[0m\u001b[0;34m(\u001b[0m\u001b[0;34m)\u001b[0m\u001b[0;34m:\u001b[0m\u001b[0;34m\u001b[0m\u001b[0;34m\u001b[0m\u001b[0m\n\u001b[1;32m      5\u001b[0m   \u001b[0muser_input\u001b[0m \u001b[0;34m=\u001b[0m \u001b[0minput\u001b[0m\u001b[0;34m(\u001b[0m\u001b[0;34m\"Enter a number to cube: \"\u001b[0m\u001b[0;34m)\u001b[0m\u001b[0;34m\u001b[0m\u001b[0;34m\u001b[0m\u001b[0m\n\u001b[0;32m----> 6\u001b[0;31m   \u001b[0mresult\u001b[0m \u001b[0;34m=\u001b[0m \u001b[0mcube\u001b[0m\u001b[0;34m(\u001b[0m\u001b[0mfloat\u001b[0m\u001b[0;34m(\u001b[0m\u001b[0muser_input\u001b[0m\u001b[0;34m)\u001b[0m\u001b[0;34m)\u001b[0m\u001b[0;34m\u001b[0m\u001b[0;34m\u001b[0m\u001b[0m\n\u001b[0m\u001b[1;32m      7\u001b[0m   \u001b[0mprint\u001b[0m\u001b[0;34m(\u001b[0m\u001b[0;34mf\"The cube of {user_input} is {result}\"\u001b[0m\u001b[0;34m)\u001b[0m\u001b[0;34m\u001b[0m\u001b[0;34m\u001b[0m\u001b[0m\n",
            "\u001b[0;31mValueError\u001b[0m: could not convert string to float: 'bob'"
          ]
        }
      ]
    },
    {
      "cell_type": "markdown",
      "source": [
        "When we run this code and input a string such as \"bob\", Python throws an error:\n",
        "\n",
        "```markdown\n",
        "---------------------------------------------------------------------------\n",
        "ValueError                                Traceback (most recent call last)\n",
        "<ipython-input-5-b5ad812845ca> in <cell line: 0>()\n",
        "      1 # Put a string (such as \"apple\", \"Bob\", or \"peanut\") in the input to see the error\n",
        "----> 2 cube_app()\n",
        "\n",
        "<ipython-input-4-7dbe1de5de19> in cube_app()\n",
        "      4 def cube_app():\n",
        "      5   user_input = input(\"Enter a number to cube: \")\n",
        "----> 6   result = cube(float(user_input))\n",
        "      7   print(f\"The cube of {user_input} is {result}\")\n",
        "\n",
        "ValueError: could not convert string to float: ' bob'\n",
        "```\n",
        "\n",
        "<br>\n",
        "\n",
        "**Breakdown of the Traceback**\n",
        "\n",
        "- **Traceback**: The traceback shows the sequence of function calls that led to the error.\n",
        "- **File and Line Information:** Each line in the traceback provides the file name and line number where each function call occurred.\n",
        "- **Error Type:** In this case, `ValueError` indicates that Python encountered an invalid value when passing arguments into a function.\n",
        "- **Error Message:** `\"could not convert string to float: ' bob'\"` gives more context about the specific issue.\n"
      ],
      "metadata": {
        "id": "goIVCpDAQuiq"
      }
    },
    {
      "cell_type": "markdown",
      "source": [
        "## **Errors & Exceptions**\n",
        "\n",
        "Now that we know how to read error messages, let's dive into some common errors in Python. We'll also cover how exceptions work, why they occur, and how they can be identified in code.\n",
        "\n",
        "For more details, see the official [Python Documentation on Errors and Exceptions](https://docs.python.org/3/tutorial/errors.html).\n"
      ],
      "metadata": {
        "id": "0GAHckPu7YV9"
      }
    },
    {
      "cell_type": "markdown",
      "source": [
        "### **Syntax Errors**\n",
        "\n",
        "Syntax errors occur when the Python interpreter detects incorrect syntax in the code.\n"
      ],
      "metadata": {
        "id": "D-Ay2McW8iIe"
      }
    },
    {
      "cell_type": "code",
      "source": [
        "while True print('Hello world')"
      ],
      "metadata": {
        "colab": {
          "base_uri": "https://localhost:8080/",
          "height": 106
        },
        "id": "N33MPjSO73tk",
        "outputId": "ac1227dd-9695-4f12-d313-b588eccb7a25"
      },
      "execution_count": null,
      "outputs": [
        {
          "output_type": "error",
          "ename": "SyntaxError",
          "evalue": "invalid syntax (<ipython-input-7-2b688bc740d7>, line 1)",
          "traceback": [
            "\u001b[0;36m  File \u001b[0;32m\"<ipython-input-7-2b688bc740d7>\"\u001b[0;36m, line \u001b[0;32m1\u001b[0m\n\u001b[0;31m    while True print('Hello world')\u001b[0m\n\u001b[0m               ^\u001b[0m\n\u001b[0;31mSyntaxError\u001b[0m\u001b[0;31m:\u001b[0m invalid syntax\n"
          ]
        }
      ]
    },
    {
      "cell_type": "markdown",
      "source": [
        "> 💡 Being good at reading and understanding error messages is key to efficient debugging. Learning to interpret these messages will help you identify the source of issues quickly and make it easier to resolve them effectively.\n"
      ],
      "metadata": {
        "id": "3FO9TLEJkpsp"
      }
    },
    {
      "cell_type": "markdown",
      "source": [
        "### **Runtime Errors (Exceptions)**\n",
        "\n",
        "Runtime errors, or exceptions are errors that occur while a program is running. We'll explore various types of exceptions, how they interrupt code execution, and in the next class, we'll look at how to handle them to maintain program stability.\n"
      ],
      "metadata": {
        "id": "hacqvX2G8nfn"
      }
    },
    {
      "cell_type": "code",
      "source": [
        "# NameError\n",
        "nonexistent_var * 3"
      ],
      "metadata": {
        "colab": {
          "base_uri": "https://localhost:8080/",
          "height": 159
        },
        "id": "DlZAB8jS85T1",
        "outputId": "11fe080d-6668-4c2e-8e07-8815c50e228c"
      },
      "execution_count": null,
      "outputs": [
        {
          "output_type": "error",
          "ename": "NameError",
          "evalue": "name 'nonexistent_var' is not defined",
          "traceback": [
            "\u001b[0;31m---------------------------------------------------------------------------\u001b[0m",
            "\u001b[0;31mNameError\u001b[0m                                 Traceback (most recent call last)",
            "\u001b[0;32m<ipython-input-8-a784b3359eaa>\u001b[0m in \u001b[0;36m<cell line: 0>\u001b[0;34m()\u001b[0m\n\u001b[1;32m      1\u001b[0m \u001b[0;31m# NameError\u001b[0m\u001b[0;34m\u001b[0m\u001b[0;34m\u001b[0m\u001b[0m\n\u001b[0;32m----> 2\u001b[0;31m \u001b[0mnonexistent_var\u001b[0m \u001b[0;34m*\u001b[0m \u001b[0;36m3\u001b[0m\u001b[0;34m\u001b[0m\u001b[0;34m\u001b[0m\u001b[0m\n\u001b[0m",
            "\u001b[0;31mNameError\u001b[0m: name 'nonexistent_var' is not defined"
          ]
        }
      ]
    },
    {
      "cell_type": "code",
      "source": [
        "# TypeError\n",
        "'2' + 2"
      ],
      "metadata": {
        "colab": {
          "base_uri": "https://localhost:8080/",
          "height": 159
        },
        "id": "JJBU467f8-Qo",
        "outputId": "09781d89-06bc-4017-eede-af17d7532c77"
      },
      "execution_count": null,
      "outputs": [
        {
          "output_type": "error",
          "ename": "TypeError",
          "evalue": "can only concatenate str (not \"int\") to str",
          "traceback": [
            "\u001b[0;31m---------------------------------------------------------------------------\u001b[0m",
            "\u001b[0;31mTypeError\u001b[0m                                 Traceback (most recent call last)",
            "\u001b[0;32m<ipython-input-9-9b4afe85d229>\u001b[0m in \u001b[0;36m<cell line: 0>\u001b[0;34m()\u001b[0m\n\u001b[1;32m      1\u001b[0m \u001b[0;31m# TypeError\u001b[0m\u001b[0;34m\u001b[0m\u001b[0;34m\u001b[0m\u001b[0m\n\u001b[0;32m----> 2\u001b[0;31m \u001b[0;34m'2'\u001b[0m \u001b[0;34m+\u001b[0m \u001b[0;36m2\u001b[0m\u001b[0;34m\u001b[0m\u001b[0;34m\u001b[0m\u001b[0m\n\u001b[0m",
            "\u001b[0;31mTypeError\u001b[0m: can only concatenate str (not \"int\") to str"
          ]
        }
      ]
    },
    {
      "cell_type": "markdown",
      "source": [
        "> 💡 We'll cover how to effectively combat **TypeError** in the [type checking section](#scrollTo=yrC2t-8fGB8t)\n"
      ],
      "metadata": {
        "id": "hgS8YMmDXqWu"
      }
    },
    {
      "cell_type": "code",
      "source": [
        "# KeyError\n",
        "d2 = {\"a\": 1, \"b\": 2, \"c\": 3}\n",
        "d2[\"d\"]"
      ],
      "metadata": {
        "colab": {
          "base_uri": "https://localhost:8080/",
          "height": 176
        },
        "id": "6j34acK0xRRS",
        "outputId": "803f9924-5d1b-45c7-c259-5afe4638de65"
      },
      "execution_count": null,
      "outputs": [
        {
          "output_type": "error",
          "ename": "KeyError",
          "evalue": "'d'",
          "traceback": [
            "\u001b[0;31m---------------------------------------------------------------------------\u001b[0m",
            "\u001b[0;31mKeyError\u001b[0m                                  Traceback (most recent call last)",
            "\u001b[0;32m<ipython-input-10-d737b5de923d>\u001b[0m in \u001b[0;36m<cell line: 0>\u001b[0;34m()\u001b[0m\n\u001b[1;32m      1\u001b[0m \u001b[0;31m# KeyError\u001b[0m\u001b[0;34m\u001b[0m\u001b[0;34m\u001b[0m\u001b[0m\n\u001b[1;32m      2\u001b[0m \u001b[0md2\u001b[0m \u001b[0;34m=\u001b[0m \u001b[0;34m{\u001b[0m\u001b[0;34m\"a\"\u001b[0m\u001b[0;34m:\u001b[0m \u001b[0;36m1\u001b[0m\u001b[0;34m,\u001b[0m \u001b[0;34m\"b\"\u001b[0m\u001b[0;34m:\u001b[0m \u001b[0;36m2\u001b[0m\u001b[0;34m,\u001b[0m \u001b[0;34m\"c\"\u001b[0m\u001b[0;34m:\u001b[0m \u001b[0;36m3\u001b[0m\u001b[0;34m}\u001b[0m\u001b[0;34m\u001b[0m\u001b[0;34m\u001b[0m\u001b[0m\n\u001b[0;32m----> 3\u001b[0;31m \u001b[0md2\u001b[0m\u001b[0;34m[\u001b[0m\u001b[0;34m\"d\"\u001b[0m\u001b[0;34m]\u001b[0m\u001b[0;34m\u001b[0m\u001b[0;34m\u001b[0m\u001b[0m\n\u001b[0m",
            "\u001b[0;31mKeyError\u001b[0m: 'd'"
          ]
        }
      ]
    },
    {
      "cell_type": "code",
      "source": [
        "# ZeroDivisionError\n",
        "10.0 / 0"
      ],
      "metadata": {
        "colab": {
          "base_uri": "https://localhost:8080/",
          "height": 159
        },
        "id": "sZ5FarB78sLJ",
        "outputId": "b723e2ec-f868-4f50-8fee-5806318bfef6"
      },
      "execution_count": null,
      "outputs": [
        {
          "output_type": "error",
          "ename": "ZeroDivisionError",
          "evalue": "float division by zero",
          "traceback": [
            "\u001b[0;31m---------------------------------------------------------------------------\u001b[0m",
            "\u001b[0;31mZeroDivisionError\u001b[0m                         Traceback (most recent call last)",
            "\u001b[0;32m<ipython-input-11-b3363a4daeb9>\u001b[0m in \u001b[0;36m<cell line: 0>\u001b[0;34m()\u001b[0m\n\u001b[1;32m      1\u001b[0m \u001b[0;31m# ZeroDivisionError\u001b[0m\u001b[0;34m\u001b[0m\u001b[0;34m\u001b[0m\u001b[0m\n\u001b[0;32m----> 2\u001b[0;31m \u001b[0;36m10.0\u001b[0m \u001b[0;34m/\u001b[0m \u001b[0;36m0\u001b[0m\u001b[0;34m\u001b[0m\u001b[0;34m\u001b[0m\u001b[0m\n\u001b[0m",
            "\u001b[0;31mZeroDivisionError\u001b[0m: float division by zero"
          ]
        }
      ]
    },
    {
      "cell_type": "code",
      "source": [
        "# Custom errors from external libraries\n",
        "import requests\n",
        "\n",
        "resp = requests.get(\"https://api.spoonacular.com/recipes/complexSearch?query=pasta&maxFat=25&number=2\")\n",
        "resp.raise_for_status()"
      ],
      "metadata": {
        "colab": {
          "base_uri": "https://localhost:8080/",
          "height": 297
        },
        "id": "QfQ9Mpl4x5-u",
        "outputId": "ac5080b2-25cb-4061-d2d7-ca248bc3af42"
      },
      "execution_count": null,
      "outputs": [
        {
          "output_type": "error",
          "ename": "HTTPError",
          "evalue": "401 Client Error: Unauthorized for url: https://api.spoonacular.com/recipes/complexSearch?query=pasta&maxFat=25&number=2",
          "traceback": [
            "\u001b[0;31m---------------------------------------------------------------------------\u001b[0m",
            "\u001b[0;31mHTTPError\u001b[0m                                 Traceback (most recent call last)",
            "\u001b[0;32m<ipython-input-12-b1b23273ddf2>\u001b[0m in \u001b[0;36m<cell line: 0>\u001b[0;34m()\u001b[0m\n\u001b[1;32m      3\u001b[0m \u001b[0;34m\u001b[0m\u001b[0m\n\u001b[1;32m      4\u001b[0m \u001b[0mresp\u001b[0m \u001b[0;34m=\u001b[0m \u001b[0mrequests\u001b[0m\u001b[0;34m.\u001b[0m\u001b[0mget\u001b[0m\u001b[0;34m(\u001b[0m\u001b[0;34m\"https://api.spoonacular.com/recipes/complexSearch?query=pasta&maxFat=25&number=2\"\u001b[0m\u001b[0;34m)\u001b[0m\u001b[0;34m\u001b[0m\u001b[0;34m\u001b[0m\u001b[0m\n\u001b[0;32m----> 5\u001b[0;31m \u001b[0mresp\u001b[0m\u001b[0;34m.\u001b[0m\u001b[0mraise_for_status\u001b[0m\u001b[0;34m(\u001b[0m\u001b[0;34m)\u001b[0m\u001b[0;34m\u001b[0m\u001b[0;34m\u001b[0m\u001b[0m\n\u001b[0m",
            "\u001b[0;32m/usr/local/lib/python3.11/dist-packages/requests/models.py\u001b[0m in \u001b[0;36mraise_for_status\u001b[0;34m(self)\u001b[0m\n\u001b[1;32m   1022\u001b[0m \u001b[0;34m\u001b[0m\u001b[0m\n\u001b[1;32m   1023\u001b[0m         \u001b[0;32mif\u001b[0m \u001b[0mhttp_error_msg\u001b[0m\u001b[0;34m:\u001b[0m\u001b[0;34m\u001b[0m\u001b[0;34m\u001b[0m\u001b[0m\n\u001b[0;32m-> 1024\u001b[0;31m             \u001b[0;32mraise\u001b[0m \u001b[0mHTTPError\u001b[0m\u001b[0;34m(\u001b[0m\u001b[0mhttp_error_msg\u001b[0m\u001b[0;34m,\u001b[0m \u001b[0mresponse\u001b[0m\u001b[0;34m=\u001b[0m\u001b[0mself\u001b[0m\u001b[0;34m)\u001b[0m\u001b[0;34m\u001b[0m\u001b[0;34m\u001b[0m\u001b[0m\n\u001b[0m\u001b[1;32m   1025\u001b[0m \u001b[0;34m\u001b[0m\u001b[0m\n\u001b[1;32m   1026\u001b[0m     \u001b[0;32mdef\u001b[0m \u001b[0mclose\u001b[0m\u001b[0;34m(\u001b[0m\u001b[0mself\u001b[0m\u001b[0;34m)\u001b[0m\u001b[0;34m:\u001b[0m\u001b[0;34m\u001b[0m\u001b[0;34m\u001b[0m\u001b[0m\n",
            "\u001b[0;31mHTTPError\u001b[0m: 401 Client Error: Unauthorized for url: https://api.spoonacular.com/recipes/complexSearch?query=pasta&maxFat=25&number=2"
          ]
        }
      ]
    },
    {
      "cell_type": "markdown",
      "source": [
        "> 💡 This is a custom error from the `requests` library. We'll see how these are implemented in the section about [custom errors](#scrollTo=E--ry4Xyl7LP)\n"
      ],
      "metadata": {
        "id": "XqxNYG8WYiPF"
      }
    },
    {
      "cell_type": "markdown",
      "source": [
        "### **Logical Errors**\n",
        "\n",
        "Sometimes, your code may not contain any syntax or runtime errors but could still have **human errors** such as logical errors, infinite loops, or incorrect calculations.\n",
        "\n",
        "These types of errors can be harder to spot because they don't always trigger exceptions but can still lead to unexpected results or poor performance.\n"
      ],
      "metadata": {
        "id": "OVBp9BqxCW5f"
      }
    },
    {
      "cell_type": "code",
      "source": [
        "# Logical errors leading to actual errors\n",
        "def average(numbers):\n",
        "  total = 0\n",
        "  for number in numbers:\n",
        "    total += number\n",
        "  return total / len(numbers)\n",
        "\n",
        "# Example\n",
        "numbers = [10, 20, 30]\n",
        "avg = average(numbers)\n",
        "print(\"The average is:\", average)\n",
        "\n",
        "# Logical error example\n",
        "numbers = []\n",
        "avg = average(numbers)\n",
        "print(\"The average is:\", avg) # This will give us an ZeroDivisionError"
      ],
      "metadata": {
        "colab": {
          "base_uri": "https://localhost:8080/",
          "height": 332
        },
        "id": "JBpoY2LUthaq",
        "outputId": "5d825d30-d8cc-485f-a73f-b07fd56cfb9d"
      },
      "execution_count": null,
      "outputs": [
        {
          "output_type": "stream",
          "name": "stdout",
          "text": [
            "The average is: <function average at 0x7dc68eb0e200>\n"
          ]
        },
        {
          "output_type": "error",
          "ename": "ZeroDivisionError",
          "evalue": "division by zero",
          "traceback": [
            "\u001b[0;31m---------------------------------------------------------------------------\u001b[0m",
            "\u001b[0;31mZeroDivisionError\u001b[0m                         Traceback (most recent call last)",
            "\u001b[0;32m<ipython-input-13-8906118e7951>\u001b[0m in \u001b[0;36m<cell line: 0>\u001b[0;34m()\u001b[0m\n\u001b[1;32m     13\u001b[0m \u001b[0;31m# Logical error example\u001b[0m\u001b[0;34m\u001b[0m\u001b[0;34m\u001b[0m\u001b[0m\n\u001b[1;32m     14\u001b[0m \u001b[0mnumbers\u001b[0m \u001b[0;34m=\u001b[0m \u001b[0;34m[\u001b[0m\u001b[0;34m]\u001b[0m\u001b[0;34m\u001b[0m\u001b[0;34m\u001b[0m\u001b[0m\n\u001b[0;32m---> 15\u001b[0;31m \u001b[0mavg\u001b[0m \u001b[0;34m=\u001b[0m \u001b[0maverage\u001b[0m\u001b[0;34m(\u001b[0m\u001b[0mnumbers\u001b[0m\u001b[0;34m)\u001b[0m\u001b[0;34m\u001b[0m\u001b[0;34m\u001b[0m\u001b[0m\n\u001b[0m\u001b[1;32m     16\u001b[0m \u001b[0mprint\u001b[0m\u001b[0;34m(\u001b[0m\u001b[0;34m\"The average is:\"\u001b[0m\u001b[0;34m,\u001b[0m \u001b[0mavg\u001b[0m\u001b[0;34m)\u001b[0m \u001b[0;31m# This will give us an ZeroDivisionError\u001b[0m\u001b[0;34m\u001b[0m\u001b[0;34m\u001b[0m\u001b[0m\n",
            "\u001b[0;32m<ipython-input-13-8906118e7951>\u001b[0m in \u001b[0;36maverage\u001b[0;34m(numbers)\u001b[0m\n\u001b[1;32m      4\u001b[0m   \u001b[0;32mfor\u001b[0m \u001b[0mnumber\u001b[0m \u001b[0;32min\u001b[0m \u001b[0mnumbers\u001b[0m\u001b[0;34m:\u001b[0m\u001b[0;34m\u001b[0m\u001b[0;34m\u001b[0m\u001b[0m\n\u001b[1;32m      5\u001b[0m     \u001b[0mtotal\u001b[0m \u001b[0;34m+=\u001b[0m \u001b[0mnumber\u001b[0m\u001b[0;34m\u001b[0m\u001b[0;34m\u001b[0m\u001b[0m\n\u001b[0;32m----> 6\u001b[0;31m   \u001b[0;32mreturn\u001b[0m \u001b[0mtotal\u001b[0m \u001b[0;34m/\u001b[0m \u001b[0mlen\u001b[0m\u001b[0;34m(\u001b[0m\u001b[0mnumbers\u001b[0m\u001b[0;34m)\u001b[0m\u001b[0;34m\u001b[0m\u001b[0;34m\u001b[0m\u001b[0m\n\u001b[0m\u001b[1;32m      7\u001b[0m \u001b[0;34m\u001b[0m\u001b[0m\n\u001b[1;32m      8\u001b[0m \u001b[0;31m# Example\u001b[0m\u001b[0;34m\u001b[0m\u001b[0;34m\u001b[0m\u001b[0m\n",
            "\u001b[0;31mZeroDivisionError\u001b[0m: division by zero"
          ]
        }
      ]
    },
    {
      "cell_type": "markdown",
      "source": [
        "This code seems correct, but it contains a logical error. The `calculate_average` function calculates the sum of the numbers correctly, but it divides by the length of the list numbers even if the list is empty, which will result in a `ZeroDivisionError`.\n",
        "\n",
        "To fix this, we can check if the list is empty before performing the division and return 0 before any division is performed:\n"
      ],
      "metadata": {
        "id": "9xJwBsScwVaf"
      }
    },
    {
      "cell_type": "code",
      "source": [
        "def average_fixed(numbers):\n",
        "  if not numbers:\n",
        "    return 0  # Handle the case where the list is empty\n",
        "\n",
        "  total = 0\n",
        "  for number in numbers:\n",
        "    total += number\n",
        "  return total / len(numbers)\n",
        "\n",
        "# Examples\n",
        "numbers = [10, 20, 30]\n",
        "avg = average_fixed(numbers)\n",
        "print(\"The average is:\", avg)\n",
        "\n",
        "numbers = []\n",
        "avg = average_fixed(numbers)\n",
        "print(\"The average is:\", avg)"
      ],
      "metadata": {
        "colab": {
          "base_uri": "https://localhost:8080/"
        },
        "id": "IZzmHRVjxG7K",
        "outputId": "690f79bb-b73f-4bee-8612-c13ba9ce0cc8"
      },
      "execution_count": null,
      "outputs": [
        {
          "output_type": "stream",
          "name": "stdout",
          "text": [
            "The average is: 20.0\n",
            "The average is: 0\n"
          ]
        }
      ]
    },
    {
      "cell_type": "markdown",
      "source": [
        "### **Manually Raising Exceptions**\n",
        "\n",
        "There are times when you may need to deliberately raise an exception to signal an error or enforce certain conditions in your code.\n",
        "\n",
        "Python's `raise` statement allows you to manually trigger exceptions, either with built-in error types or custom ones. Let's look at some examples:\n"
      ],
      "metadata": {
        "id": "DXiYBDZaxuFM"
      }
    },
    {
      "cell_type": "code",
      "source": [
        "# Raising a generic exception manually\n",
        "raise Exception('Error message')"
      ],
      "metadata": {
        "colab": {
          "base_uri": "https://localhost:8080/",
          "height": 159
        },
        "id": "97zVlEcfo-kz",
        "outputId": "017ddb8d-cfbe-4019-ad0b-fc219b0abbc4"
      },
      "execution_count": null,
      "outputs": [
        {
          "output_type": "error",
          "ename": "Exception",
          "evalue": "Error message",
          "traceback": [
            "\u001b[0;31m---------------------------------------------------------------------------\u001b[0m",
            "\u001b[0;31mException\u001b[0m                                 Traceback (most recent call last)",
            "\u001b[0;32m<ipython-input-15-f685d5eeebe5>\u001b[0m in \u001b[0;36m<cell line: 0>\u001b[0;34m()\u001b[0m\n\u001b[1;32m      1\u001b[0m \u001b[0;31m# Raising a generic exception manually\u001b[0m\u001b[0;34m\u001b[0m\u001b[0;34m\u001b[0m\u001b[0m\n\u001b[0;32m----> 2\u001b[0;31m \u001b[0;32mraise\u001b[0m \u001b[0mException\u001b[0m\u001b[0;34m(\u001b[0m\u001b[0;34m'Error message'\u001b[0m\u001b[0;34m)\u001b[0m\u001b[0;34m\u001b[0m\u001b[0;34m\u001b[0m\u001b[0m\n\u001b[0m",
            "\u001b[0;31mException\u001b[0m: Error message"
          ]
        }
      ]
    },
    {
      "cell_type": "code",
      "source": [
        "# Raising a specific kind of exception\n",
        "raise NameError('Error message')"
      ],
      "metadata": {
        "colab": {
          "base_uri": "https://localhost:8080/",
          "height": 159
        },
        "id": "x2tmmwgpx3hB",
        "outputId": "b0d29e93-4a3f-4c87-fce5-1407f88a431b"
      },
      "execution_count": null,
      "outputs": [
        {
          "output_type": "error",
          "ename": "NameError",
          "evalue": "Error message",
          "traceback": [
            "\u001b[0;31m---------------------------------------------------------------------------\u001b[0m",
            "\u001b[0;31mNameError\u001b[0m                                 Traceback (most recent call last)",
            "\u001b[0;32m<ipython-input-16-6989a6a230c0>\u001b[0m in \u001b[0;36m<cell line: 0>\u001b[0;34m()\u001b[0m\n\u001b[1;32m      1\u001b[0m \u001b[0;31m# Raising a specific kind of exception\u001b[0m\u001b[0;34m\u001b[0m\u001b[0;34m\u001b[0m\u001b[0m\n\u001b[0;32m----> 2\u001b[0;31m \u001b[0;32mraise\u001b[0m \u001b[0mNameError\u001b[0m\u001b[0;34m(\u001b[0m\u001b[0;34m'Error message'\u001b[0m\u001b[0;34m)\u001b[0m\u001b[0;34m\u001b[0m\u001b[0;34m\u001b[0m\u001b[0m\n\u001b[0m",
            "\u001b[0;31mNameError\u001b[0m: Error message"
          ]
        }
      ]
    },
    {
      "cell_type": "code",
      "source": [
        "# Raising errors based on different conditions\n",
        "def check_age(age):\n",
        "  if age < 0:\n",
        "    raise ValueError(\"Age cannot be negative.\")\n",
        "  elif age < 18:\n",
        "    raise PermissionError(\"You must be at least 18 years old.\")\n",
        "  else:\n",
        "    print(\"Access granted.\")\n",
        "\n",
        "# Example\n",
        "check_age(-5)"
      ],
      "metadata": {
        "colab": {
          "base_uri": "https://localhost:8080/",
          "height": 297
        },
        "id": "ZHSOFaHMpkms",
        "outputId": "4b09bde1-90e3-4f18-c73f-7dfdb8248eba"
      },
      "execution_count": null,
      "outputs": [
        {
          "output_type": "error",
          "ename": "ValueError",
          "evalue": "Age cannot be negative.",
          "traceback": [
            "\u001b[0;31m---------------------------------------------------------------------------\u001b[0m",
            "\u001b[0;31mValueError\u001b[0m                                Traceback (most recent call last)",
            "\u001b[0;32m<ipython-input-17-94446da4d240>\u001b[0m in \u001b[0;36m<cell line: 0>\u001b[0;34m()\u001b[0m\n\u001b[1;32m      9\u001b[0m \u001b[0;34m\u001b[0m\u001b[0m\n\u001b[1;32m     10\u001b[0m \u001b[0;31m# Example\u001b[0m\u001b[0;34m\u001b[0m\u001b[0;34m\u001b[0m\u001b[0m\n\u001b[0;32m---> 11\u001b[0;31m \u001b[0mcheck_age\u001b[0m\u001b[0;34m(\u001b[0m\u001b[0;34m-\u001b[0m\u001b[0;36m5\u001b[0m\u001b[0;34m)\u001b[0m\u001b[0;34m\u001b[0m\u001b[0;34m\u001b[0m\u001b[0m\n\u001b[0m",
            "\u001b[0;32m<ipython-input-17-94446da4d240>\u001b[0m in \u001b[0;36mcheck_age\u001b[0;34m(age)\u001b[0m\n\u001b[1;32m      2\u001b[0m \u001b[0;32mdef\u001b[0m \u001b[0mcheck_age\u001b[0m\u001b[0;34m(\u001b[0m\u001b[0mage\u001b[0m\u001b[0;34m)\u001b[0m\u001b[0;34m:\u001b[0m\u001b[0;34m\u001b[0m\u001b[0;34m\u001b[0m\u001b[0m\n\u001b[1;32m      3\u001b[0m   \u001b[0;32mif\u001b[0m \u001b[0mage\u001b[0m \u001b[0;34m<\u001b[0m \u001b[0;36m0\u001b[0m\u001b[0;34m:\u001b[0m\u001b[0;34m\u001b[0m\u001b[0;34m\u001b[0m\u001b[0m\n\u001b[0;32m----> 4\u001b[0;31m     \u001b[0;32mraise\u001b[0m \u001b[0mValueError\u001b[0m\u001b[0;34m(\u001b[0m\u001b[0;34m\"Age cannot be negative.\"\u001b[0m\u001b[0;34m)\u001b[0m\u001b[0;34m\u001b[0m\u001b[0;34m\u001b[0m\u001b[0m\n\u001b[0m\u001b[1;32m      5\u001b[0m   \u001b[0;32melif\u001b[0m \u001b[0mage\u001b[0m \u001b[0;34m<\u001b[0m \u001b[0;36m18\u001b[0m\u001b[0;34m:\u001b[0m\u001b[0;34m\u001b[0m\u001b[0;34m\u001b[0m\u001b[0m\n\u001b[1;32m      6\u001b[0m     \u001b[0;32mraise\u001b[0m \u001b[0mPermissionError\u001b[0m\u001b[0;34m(\u001b[0m\u001b[0;34m\"You must be at least 18 years old.\"\u001b[0m\u001b[0;34m)\u001b[0m\u001b[0;34m\u001b[0m\u001b[0;34m\u001b[0m\u001b[0m\n",
            "\u001b[0;31mValueError\u001b[0m: Age cannot be negative."
          ]
        }
      ]
    },
    {
      "cell_type": "markdown",
      "source": [
        "**Explanation**\n",
        "\n",
        "1. **Manual Exception Raising**: The `check_age` function checks the `age` parameter. If `age` is less than 0, it raises a `ValueError`. If `age` is less than 18 but non-negative, it raises a `PermissionError`.\n",
        "\n",
        "2. **Using `raise` for Validation**: Raising these exceptions helps validate inputs and enforce rules (e.g., age restrictions) directly in the code.\n"
      ],
      "metadata": {
        "id": "cmxxS9HNqCsT"
      }
    },
    {
      "cell_type": "markdown",
      "source": [
        "### **Custom Errors (Additional Material)**\n",
        "\n",
        "> 📒 **NOTE:** This section requires some object-oriented programming (OOP) knowledge. Feel free to skip ahead and come back when you learn about inheritance in object-oriented programming.\n"
      ],
      "metadata": {
        "id": "E--ry4Xyl7LP"
      }
    },
    {
      "cell_type": "markdown",
      "source": [
        "In some cases, the built-in errors provided by Python and libraries may not fully capture the specific issues you want to address in your program. Custom errors let you define exceptions that are tailored to your program's unique requirements.\n",
        "\n",
        "By creating custom error classes, you can generate more meaningful error messages and handle special cases that standard exceptions might overlook. This approach makes debugging easier and improves code clarity.\n",
        "\n",
        "<br>\n",
        "\n",
        "To create custom errors, we'll have to define a new class that **inherits** from the built-in `Exception` or other exception classes such as `ValueError`.\n"
      ],
      "metadata": {
        "id": "Ztyu-df8a6dx"
      }
    },
    {
      "cell_type": "code",
      "source": [
        "# Custom error for insufficient errors\n",
        "class InsufficientFundsError(Exception):\n",
        "  def __init__(self, balance, amount):\n",
        "    self.balance = balance\n",
        "    self.amount = amount\n",
        "    super().__init__(f\"Attempted to withdraw {amount}, but only {balance} is available.\")\n",
        "\n",
        "# A simple bank account class that raises the custom error\n",
        "class BankAccount:\n",
        "  def __init__(self, balance=0):\n",
        "    self.balance = balance\n",
        "\n",
        "  def deposit(self, amount):\n",
        "    if amount <= 0:\n",
        "      raise ValueError(\"Deposit amount must be positive.\")\n",
        "    self.balance += amount\n",
        "\n",
        "  def withdraw(self, amount):\n",
        "    if amount > self.balance:\n",
        "      raise InsufficientFundsError(self.balance, amount)\n",
        "    self.balance -= amount\n",
        "\n",
        "\n",
        "# Example usage\n",
        "account = BankAccount(100)\n",
        "account.withdraw(150)"
      ],
      "metadata": {
        "colab": {
          "base_uri": "https://localhost:8080/",
          "height": 297
        },
        "id": "k1xuqze5m_U1",
        "outputId": "d1f603fa-8081-44b1-b27a-259660fbf535"
      },
      "execution_count": null,
      "outputs": [
        {
          "output_type": "error",
          "ename": "InsufficientFundsError",
          "evalue": "Attempted to withdraw 150, but only 100 is available.",
          "traceback": [
            "\u001b[0;31m---------------------------------------------------------------------------\u001b[0m",
            "\u001b[0;31mInsufficientFundsError\u001b[0m                    Traceback (most recent call last)",
            "\u001b[0;32m<ipython-input-18-51db648c80c2>\u001b[0m in \u001b[0;36m<cell line: 0>\u001b[0;34m()\u001b[0m\n\u001b[1;32m     24\u001b[0m \u001b[0;31m# Example usage\u001b[0m\u001b[0;34m\u001b[0m\u001b[0;34m\u001b[0m\u001b[0m\n\u001b[1;32m     25\u001b[0m \u001b[0maccount\u001b[0m \u001b[0;34m=\u001b[0m \u001b[0mBankAccount\u001b[0m\u001b[0;34m(\u001b[0m\u001b[0;36m100\u001b[0m\u001b[0;34m)\u001b[0m\u001b[0;34m\u001b[0m\u001b[0;34m\u001b[0m\u001b[0m\n\u001b[0;32m---> 26\u001b[0;31m \u001b[0maccount\u001b[0m\u001b[0;34m.\u001b[0m\u001b[0mwithdraw\u001b[0m\u001b[0;34m(\u001b[0m\u001b[0;36m150\u001b[0m\u001b[0;34m)\u001b[0m\u001b[0;34m\u001b[0m\u001b[0;34m\u001b[0m\u001b[0m\n\u001b[0m",
            "\u001b[0;32m<ipython-input-18-51db648c80c2>\u001b[0m in \u001b[0;36mwithdraw\u001b[0;34m(self, amount)\u001b[0m\n\u001b[1;32m     18\u001b[0m   \u001b[0;32mdef\u001b[0m \u001b[0mwithdraw\u001b[0m\u001b[0;34m(\u001b[0m\u001b[0mself\u001b[0m\u001b[0;34m,\u001b[0m \u001b[0mamount\u001b[0m\u001b[0;34m)\u001b[0m\u001b[0;34m:\u001b[0m\u001b[0;34m\u001b[0m\u001b[0;34m\u001b[0m\u001b[0m\n\u001b[1;32m     19\u001b[0m     \u001b[0;32mif\u001b[0m \u001b[0mamount\u001b[0m \u001b[0;34m>\u001b[0m \u001b[0mself\u001b[0m\u001b[0;34m.\u001b[0m\u001b[0mbalance\u001b[0m\u001b[0;34m:\u001b[0m\u001b[0;34m\u001b[0m\u001b[0;34m\u001b[0m\u001b[0m\n\u001b[0;32m---> 20\u001b[0;31m       \u001b[0;32mraise\u001b[0m \u001b[0mInsufficientFundsError\u001b[0m\u001b[0;34m(\u001b[0m\u001b[0mself\u001b[0m\u001b[0;34m.\u001b[0m\u001b[0mbalance\u001b[0m\u001b[0;34m,\u001b[0m \u001b[0mamount\u001b[0m\u001b[0;34m)\u001b[0m\u001b[0;34m\u001b[0m\u001b[0;34m\u001b[0m\u001b[0m\n\u001b[0m\u001b[1;32m     21\u001b[0m     \u001b[0mself\u001b[0m\u001b[0;34m.\u001b[0m\u001b[0mbalance\u001b[0m \u001b[0;34m-=\u001b[0m \u001b[0mamount\u001b[0m\u001b[0;34m\u001b[0m\u001b[0;34m\u001b[0m\u001b[0m\n\u001b[1;32m     22\u001b[0m \u001b[0;34m\u001b[0m\u001b[0m\n",
            "\u001b[0;31mInsufficientFundsError\u001b[0m: Attempted to withdraw 150, but only 100 is available."
          ]
        }
      ]
    },
    {
      "cell_type": "markdown",
      "source": [
        "**Explanation**\n",
        "\n",
        "1. **Custom Exception**: `InsufficientFundsError` is a custom exception that inherits from `Exception`. It includes a message that displays both the attempted withdrawal amount and the available balance.\n",
        "\n",
        "2. **BankAccount Class**: This class has `deposit` and `withdraw` methods. If the `withdraw` method is called with an amount greater than the balance, it raises an `InsufficientFundsError`.\n",
        "\n",
        "3. **Usage**: In the example usage, we attempt to withdraw more than the balance, triggering the custom exception.\n"
      ],
      "metadata": {
        "id": "4X4WMb7Eps2q"
      }
    },
    {
      "cell_type": "markdown",
      "source": [
        "## **Type Checking**\n",
        "\n",
        "Since Python is a **dynamically typed** language, it is extremely helpful to manually check the types of variables inside your program to minimize errors. Let's see how we can do that in Python.\n",
        "\n",
        "> 💡 **Dynamically Typed**: If a progam in dynamically typed, you don't need to declare variable types explicitly. The datatype of a variable is determined at runtime based on the assigned value, and you can reassign a variable to a different type without errors.\n"
      ],
      "metadata": {
        "id": "yrC2t-8fGB8t"
      }
    },
    {
      "cell_type": "markdown",
      "source": [
        "### **Example: User Input**\n",
        "\n",
        "Let's use a modified version of our `cube_app()` example from earlier as an example.\n",
        "\n",
        "The `cube_app_2()` function uses `input()` to get values from the user, but since `input()` always returns data as a string, it could lead to a `TypeError` when passed to the `cube()` function, which expects either an integer or a float.\n"
      ],
      "metadata": {
        "id": "HyqvJkIzyUm3"
      }
    },
    {
      "cell_type": "code",
      "source": [
        "# Example: Passing outputs of functions as arguments\n",
        "def cube(x):\n",
        "  return x ** 3\n",
        "\n",
        "def cube_app_2():\n",
        "  user_input = input(\"Enter a number to cube: \")\n",
        "  result = cube(user_input)  # This will raise a TypeError\n",
        "  print(f\"The cube of {user_input} is {result}\")"
      ],
      "metadata": {
        "id": "iRHHvyVQGIzF"
      },
      "execution_count": null,
      "outputs": []
    },
    {
      "cell_type": "code",
      "source": [
        "cube_app_2()"
      ],
      "metadata": {
        "colab": {
          "base_uri": "https://localhost:8080/",
          "height": 304
        },
        "id": "msVHvRcrGNu_",
        "outputId": "f4c93f26-75af-4959-8694-8b76c87d7ded"
      },
      "execution_count": null,
      "outputs": [
        {
          "name": "stdout",
          "output_type": "stream",
          "text": [
            "Enter a number to cube: 12\n"
          ]
        },
        {
          "output_type": "error",
          "ename": "TypeError",
          "evalue": "unsupported operand type(s) for ** or pow(): 'str' and 'int'",
          "traceback": [
            "\u001b[0;31m---------------------------------------------------------------------------\u001b[0m",
            "\u001b[0;31mTypeError\u001b[0m                                 Traceback (most recent call last)",
            "\u001b[0;32m<ipython-input-20-7b84929eec0b>\u001b[0m in \u001b[0;36m<cell line: 0>\u001b[0;34m()\u001b[0m\n\u001b[0;32m----> 1\u001b[0;31m \u001b[0mcube_app_2\u001b[0m\u001b[0;34m(\u001b[0m\u001b[0;34m)\u001b[0m\u001b[0;34m\u001b[0m\u001b[0;34m\u001b[0m\u001b[0m\n\u001b[0m",
            "\u001b[0;32m<ipython-input-19-dc79225db5a9>\u001b[0m in \u001b[0;36mcube_app_2\u001b[0;34m()\u001b[0m\n\u001b[1;32m      5\u001b[0m \u001b[0;32mdef\u001b[0m \u001b[0mcube_app_2\u001b[0m\u001b[0;34m(\u001b[0m\u001b[0;34m)\u001b[0m\u001b[0;34m:\u001b[0m\u001b[0;34m\u001b[0m\u001b[0;34m\u001b[0m\u001b[0m\n\u001b[1;32m      6\u001b[0m   \u001b[0muser_input\u001b[0m \u001b[0;34m=\u001b[0m \u001b[0minput\u001b[0m\u001b[0;34m(\u001b[0m\u001b[0;34m\"Enter a number to cube: \"\u001b[0m\u001b[0;34m)\u001b[0m\u001b[0;34m\u001b[0m\u001b[0;34m\u001b[0m\u001b[0m\n\u001b[0;32m----> 7\u001b[0;31m   \u001b[0mresult\u001b[0m \u001b[0;34m=\u001b[0m \u001b[0mcube\u001b[0m\u001b[0;34m(\u001b[0m\u001b[0muser_input\u001b[0m\u001b[0;34m)\u001b[0m  \u001b[0;31m# This will raise a TypeError\u001b[0m\u001b[0;34m\u001b[0m\u001b[0;34m\u001b[0m\u001b[0m\n\u001b[0m\u001b[1;32m      8\u001b[0m   \u001b[0mprint\u001b[0m\u001b[0;34m(\u001b[0m\u001b[0;34mf\"The cube of {user_input} is {result}\"\u001b[0m\u001b[0;34m)\u001b[0m\u001b[0;34m\u001b[0m\u001b[0;34m\u001b[0m\u001b[0m\n",
            "\u001b[0;32m<ipython-input-19-dc79225db5a9>\u001b[0m in \u001b[0;36mcube\u001b[0;34m(x)\u001b[0m\n\u001b[1;32m      1\u001b[0m \u001b[0;31m# Example: Passing outputs of functions as arguments\u001b[0m\u001b[0;34m\u001b[0m\u001b[0;34m\u001b[0m\u001b[0m\n\u001b[1;32m      2\u001b[0m \u001b[0;32mdef\u001b[0m \u001b[0mcube\u001b[0m\u001b[0;34m(\u001b[0m\u001b[0mx\u001b[0m\u001b[0;34m)\u001b[0m\u001b[0;34m:\u001b[0m\u001b[0;34m\u001b[0m\u001b[0;34m\u001b[0m\u001b[0m\n\u001b[0;32m----> 3\u001b[0;31m   \u001b[0;32mreturn\u001b[0m \u001b[0mx\u001b[0m \u001b[0;34m**\u001b[0m \u001b[0;36m3\u001b[0m\u001b[0;34m\u001b[0m\u001b[0;34m\u001b[0m\u001b[0m\n\u001b[0m\u001b[1;32m      4\u001b[0m \u001b[0;34m\u001b[0m\u001b[0m\n\u001b[1;32m      5\u001b[0m \u001b[0;32mdef\u001b[0m \u001b[0mcube_app_2\u001b[0m\u001b[0;34m(\u001b[0m\u001b[0;34m)\u001b[0m\u001b[0;34m:\u001b[0m\u001b[0;34m\u001b[0m\u001b[0;34m\u001b[0m\u001b[0m\n",
            "\u001b[0;31mTypeError\u001b[0m: unsupported operand type(s) for ** or pow(): 'str' and 'int'"
          ]
        }
      ]
    },
    {
      "cell_type": "markdown",
      "source": [
        "**Fixing the Error**\n",
        "\n",
        "To fix this issue, we can convert the input data to the correct type before passing it into the `cube()` function.\n"
      ],
      "metadata": {
        "id": "61q_H8Ej038m"
      }
    },
    {
      "cell_type": "code",
      "source": [
        "def cube_app_casted():\n",
        "  user_input = input(\"Enter a number to cube: \")\n",
        "  result = cube(float(user_input))\n",
        "  print(f\"The cube of {user_input} is {result}\")"
      ],
      "metadata": {
        "id": "5LJ5YkO61zaP"
      },
      "execution_count": null,
      "outputs": []
    },
    {
      "cell_type": "code",
      "source": [
        "cube_app_casted()"
      ],
      "metadata": {
        "colab": {
          "base_uri": "https://localhost:8080/"
        },
        "id": "taZZosfq2Exc",
        "outputId": "dedae8fa-68a5-4bb9-d962-1261a1dff2cf"
      },
      "execution_count": null,
      "outputs": [
        {
          "output_type": "stream",
          "name": "stdout",
          "text": [
            "Enter a number to cube: 12\n",
            "The cube of 12 is 1728.0\n"
          ]
        }
      ]
    },
    {
      "cell_type": "markdown",
      "source": [
        "However, this does not solve the problem when we pass non-numerical values to the input:\n"
      ],
      "metadata": {
        "id": "2R7jYLr7GCa7"
      }
    },
    {
      "cell_type": "code",
      "source": [
        "# Put a string (such as \"apple\", \"Bob\", or \"peanut\") in the input to see the error\n",
        "cube_app_casted()"
      ],
      "metadata": {
        "colab": {
          "base_uri": "https://localhost:8080/",
          "height": 280
        },
        "id": "gGoLWCuHGVa3",
        "outputId": "b5575b4b-58e4-4c49-ab0c-e3d09c22dfdb"
      },
      "execution_count": null,
      "outputs": [
        {
          "name": "stdout",
          "output_type": "stream",
          "text": [
            "Enter a number to cube: timmy\n"
          ]
        },
        {
          "output_type": "error",
          "ename": "ValueError",
          "evalue": "could not convert string to float: 'timmy'",
          "traceback": [
            "\u001b[0;31m---------------------------------------------------------------------------\u001b[0m",
            "\u001b[0;31mValueError\u001b[0m                                Traceback (most recent call last)",
            "\u001b[0;32m<ipython-input-23-24db83d2379d>\u001b[0m in \u001b[0;36m<cell line: 0>\u001b[0;34m()\u001b[0m\n\u001b[1;32m      1\u001b[0m \u001b[0;31m# Put a string (such as \"apple\", \"Bob\", or \"peanut\") in the input to see the error\u001b[0m\u001b[0;34m\u001b[0m\u001b[0;34m\u001b[0m\u001b[0m\n\u001b[0;32m----> 2\u001b[0;31m \u001b[0mcube_app_casted\u001b[0m\u001b[0;34m(\u001b[0m\u001b[0;34m)\u001b[0m\u001b[0;34m\u001b[0m\u001b[0;34m\u001b[0m\u001b[0m\n\u001b[0m",
            "\u001b[0;32m<ipython-input-21-71c8d516e0d4>\u001b[0m in \u001b[0;36mcube_app_casted\u001b[0;34m()\u001b[0m\n\u001b[1;32m      1\u001b[0m \u001b[0;32mdef\u001b[0m \u001b[0mcube_app_casted\u001b[0m\u001b[0;34m(\u001b[0m\u001b[0;34m)\u001b[0m\u001b[0;34m:\u001b[0m\u001b[0;34m\u001b[0m\u001b[0;34m\u001b[0m\u001b[0m\n\u001b[1;32m      2\u001b[0m   \u001b[0muser_input\u001b[0m \u001b[0;34m=\u001b[0m \u001b[0minput\u001b[0m\u001b[0;34m(\u001b[0m\u001b[0;34m\"Enter a number to cube: \"\u001b[0m\u001b[0;34m)\u001b[0m\u001b[0;34m\u001b[0m\u001b[0;34m\u001b[0m\u001b[0m\n\u001b[0;32m----> 3\u001b[0;31m   \u001b[0mresult\u001b[0m \u001b[0;34m=\u001b[0m \u001b[0mcube\u001b[0m\u001b[0;34m(\u001b[0m\u001b[0mfloat\u001b[0m\u001b[0;34m(\u001b[0m\u001b[0muser_input\u001b[0m\u001b[0;34m)\u001b[0m\u001b[0;34m)\u001b[0m\u001b[0;34m\u001b[0m\u001b[0;34m\u001b[0m\u001b[0m\n\u001b[0m\u001b[1;32m      4\u001b[0m   \u001b[0mprint\u001b[0m\u001b[0;34m(\u001b[0m\u001b[0;34mf\"The cube of {user_input} is {result}\"\u001b[0m\u001b[0;34m)\u001b[0m\u001b[0;34m\u001b[0m\u001b[0;34m\u001b[0m\u001b[0m\n",
            "\u001b[0;31mValueError\u001b[0m: could not convert string to float: 'timmy'"
          ]
        }
      ]
    },
    {
      "cell_type": "markdown",
      "source": [
        "To prevent our program from halting each time it encounters an unsupported value, we can check the data type of the input and handle them effectively so that our program can continue running smoothly even with unexpected input.\n",
        "\n",
        "<br>\n",
        "\n",
        "Let's look at how we can perform type checking in Python:\n"
      ],
      "metadata": {
        "id": "VeZmTN3WGy4k"
      }
    },
    {
      "cell_type": "markdown",
      "source": [
        "### **`type()`**\n",
        "\n",
        "To look at what the type of a piece of data is, we can use the `type()` function like this:\n"
      ],
      "metadata": {
        "id": "9jF1hfQ12WaK"
      }
    },
    {
      "cell_type": "code",
      "source": [
        "str_1 = \"A quick brown fox jumps over the lazy dog\"\n",
        "int_1 = 2023\n",
        "list_1 = [1, 2, 3, 4, 5]\n",
        "dict_1 = {\"a\": 1, \"b\": 2, \"c\": 3}\n",
        "\n",
        "print(type(str_1))\n",
        "print(type(int_1))\n",
        "print(type(list_1))\n",
        "print(type(dict_1))\n",
        "print(type(cube_app))"
      ],
      "metadata": {
        "colab": {
          "base_uri": "https://localhost:8080/"
        },
        "id": "aGB3DpWx2rpO",
        "outputId": "1cc03c60-77f6-4373-81b8-0e9a21cc0218"
      },
      "execution_count": null,
      "outputs": [
        {
          "output_type": "stream",
          "name": "stdout",
          "text": [
            "<class 'str'>\n",
            "<class 'int'>\n",
            "<class 'list'>\n",
            "<class 'dict'>\n",
            "<class 'function'>\n"
          ]
        }
      ]
    },
    {
      "cell_type": "markdown",
      "source": [
        "It is, however, not recommended to use `type()` to check for datatypes when performing type checking. Here are some reasons:\n",
        "\n",
        "<br>\n",
        "\n",
        "- **Limited to Exact Types**\n",
        "\n",
        "  `type()` only checks for the **exact** type of an object, which may not be flexible enough in many cases.\n",
        "\n",
        "- **Doesn't Support Class Derived from Other Classes (Inheritance)**\n",
        "\n",
        "  If you're working with class hierarchies (inheritance), `type()` won't recognize subclass relationships.\n",
        "\n",
        "<br>\n",
        "\n",
        "**For example:**\n",
        "\n",
        "Both `int` and `float` are derived from the `Number` type but since they are not exactly the same, `type()` will return a `False`.\n"
      ],
      "metadata": {
        "id": "EUdYaz9CGTI7"
      }
    },
    {
      "cell_type": "code",
      "source": [
        "from numbers import Number\n",
        "\n",
        "print(type(1.0) == float)\n",
        "print(type(1) == int)\n",
        "print(type(1.0) == Number)\n",
        "print(type(1) == Number)"
      ],
      "metadata": {
        "colab": {
          "base_uri": "https://localhost:8080/"
        },
        "id": "R--pvkdq4nxN",
        "outputId": "3b6844d2-6db6-41c4-d3b8-484a143f1de8"
      },
      "execution_count": null,
      "outputs": [
        {
          "output_type": "stream",
          "name": "stdout",
          "text": [
            "True\n",
            "True\n",
            "False\n",
            "False\n"
          ]
        }
      ]
    },
    {
      "cell_type": "markdown",
      "source": [
        "Similar to the previous example, here `dict_keys`, `dict_values`, and `list` are all a kind of `Iterable` *(a datatype which you can iterate with a for loop)* but `type()` doesn't not recognize that.\n"
      ],
      "metadata": {
        "id": "5v8P2zxn5EQ_"
      }
    },
    {
      "cell_type": "code",
      "source": [
        "d = {\"a\": 1, \"b\": 2, \"c\": 3}\n",
        "keys = d.keys()\n",
        "values = d.values()\n",
        "lst = [1, 2, 3]\n",
        "\n",
        "print(\"----\", \"Type\", \"----\")\n",
        "print(f\"{keys}\", type(keys), sep=\"\\t\")\n",
        "print(f\"{values}\", type(values), sep=\"\\t\\t\")\n",
        "print(f\"{lst}\", type(lst), sep=\"\\t\\t\\t\")\n",
        "print()\n",
        "\n",
        "# dict_keys, dict_values, and lists share similar characteristics and function usage since they all derive from the Iterable class\n",
        "print(\"----\", \"Characteristics: Iteration\", \"----\")\n",
        "for k in keys:\n",
        "  print(k)\n",
        "for v in values:\n",
        "  print(v)\n",
        "for i in lst:\n",
        "  print(i)\n",
        "print()\n",
        "\n",
        "print(\"----\", \"Characteristics: Length\", \"----\")\n",
        "print(len(keys))\n",
        "print(len(values))\n",
        "print(len(lst))\n",
        "print()\n",
        "\n",
        "# dict_keys, dict_values, and lists are all Iterables but they all fail this kind of type checking\n",
        "from collections.abc import Iterable\n",
        "\n",
        "print(\"----\", \"Incorrect Type Checking\", \"----\")\n",
        "print(type(keys) == Iterable)\n",
        "print(type(values) == Iterable)\n",
        "print(type(lst) == Iterable)\n",
        "print()\n",
        "\n",
        "# We have to nail down the exact types to actually check them, which is very inflexible and error prone\n",
        "print(\"----\", \"Inflexible Type Checking\", \"----\")\n",
        "print(type(keys) == type({}.keys()))\n",
        "print(type(values) == type({}.values()))\n",
        "print(type(lst) == list)"
      ],
      "metadata": {
        "colab": {
          "base_uri": "https://localhost:8080/"
        },
        "id": "mz0yPUw15OhS",
        "outputId": "978c7989-10aa-4174-afcb-1dfdecc17c9b"
      },
      "execution_count": null,
      "outputs": [
        {
          "output_type": "stream",
          "name": "stdout",
          "text": [
            "---- Type ----\n",
            "dict_keys(['a', 'b', 'c'])\t<class 'dict_keys'>\n",
            "dict_values([1, 2, 3])\t\t<class 'dict_values'>\n",
            "[1, 2, 3]\t\t\t<class 'list'>\n",
            "\n",
            "---- Characteristics: Iteration ----\n",
            "a\n",
            "b\n",
            "c\n",
            "1\n",
            "2\n",
            "3\n",
            "1\n",
            "2\n",
            "3\n",
            "\n",
            "---- Characteristics: Length ----\n",
            "3\n",
            "3\n",
            "3\n",
            "\n",
            "---- Incorrect Type Checking ----\n",
            "False\n",
            "False\n",
            "False\n",
            "\n",
            "---- Inflexible Type Checking ----\n",
            "True\n",
            "True\n",
            "True\n"
          ]
        }
      ]
    },
    {
      "cell_type": "markdown",
      "source": [
        "To aviod these issues, we can instead leverage the better alternative: `isinstance()`"
      ],
      "metadata": {
        "id": "GPBcpliWf9np"
      }
    },
    {
      "cell_type": "markdown",
      "source": [
        "### **`isinstance()`**\n",
        "\n",
        "`isinstance()` is a more flexible approach for type checking. It supports the checking of sub-types (inheritance) and allows you to check for multiple types at once.\n",
        "\n",
        "> 💡 In general, `isinstance()` is preferred over `type()` when performing type checking.\n"
      ],
      "metadata": {
        "id": "9mRTp-c6Galu"
      }
    },
    {
      "cell_type": "code",
      "source": [
        "# Better way of doing type checking\n",
        "print(isinstance(keys, Iterable))\n",
        "print(isinstance(values, Iterable))\n",
        "print(isinstance(lst, Iterable))"
      ],
      "metadata": {
        "colab": {
          "base_uri": "https://localhost:8080/"
        },
        "id": "3tqQ5yahGZ74",
        "outputId": "dd5875d1-fa8b-44db-a076-9e17f6ff5dc3"
      },
      "execution_count": null,
      "outputs": [
        {
          "output_type": "stream",
          "name": "stdout",
          "text": [
            "True\n",
            "True\n",
            "True\n"
          ]
        }
      ]
    },
    {
      "cell_type": "markdown",
      "source": [
        "You can also check for multiple types at once like this:\n"
      ],
      "metadata": {
        "id": "dywczmfagbZw"
      }
    },
    {
      "cell_type": "code",
      "source": [
        "x = 5.0\n",
        "print(isinstance(x, (int, float)))"
      ],
      "metadata": {
        "colab": {
          "base_uri": "https://localhost:8080/"
        },
        "id": "zALEL-Gxgjzx",
        "outputId": "5e6afd2e-58ba-4e32-828a-8112c3b2a526"
      },
      "execution_count": null,
      "outputs": [
        {
          "output_type": "stream",
          "name": "stdout",
          "text": [
            "True\n"
          ]
        }
      ]
    },
    {
      "cell_type": "markdown",
      "source": [
        "### **How to Properly Check Types**\n",
        "\n",
        "A common approach for type checking is to use a conditional statement with the `isinstance()` function and manually raise an error if the check fails. Here's how you can use it and some of its benefits:\n",
        "\n",
        "- **Using `isinstance()` with a Conditional**: The `isinstance()` function checks if `var_1` is an instance of Iterable. If not, it raises an error or prints an error message, depending on how you choose to handle it.\n",
        "\n",
        "- **Flexibility**: This approach allows for customized error messages and more complex handling if needed.\n",
        "\n"
      ],
      "metadata": {
        "id": "g9cwaaM7Gc_j"
      }
    },
    {
      "cell_type": "code",
      "source": [
        "var_1 = [1, 2, 3, 4]\n",
        "\n",
        "# You can choose to raise an error if the type check failed\n",
        "if not isinstance(var_1, Iterable):\n",
        "  raise TypeError(f\"Expected an iterable, but got {type(var_1).__name__}.\")\n",
        "\n",
        "var_1 = 234.32\n",
        "\n",
        "# Or handle the error by either logging it or do something with it\n",
        "if not isinstance(var_1, Iterable):\n",
        "  print(\"Error: Expected an iterable. Fix your error!\")"
      ],
      "metadata": {
        "colab": {
          "base_uri": "https://localhost:8080/"
        },
        "id": "57xRh74IGmkI",
        "outputId": "d932379a-3d7c-4f3b-d2ef-e46458320f42"
      },
      "execution_count": null,
      "outputs": [
        {
          "output_type": "stream",
          "name": "stdout",
          "text": [
            "Error: Expected an iterable. Fix your error!\n"
          ]
        }
      ]
    },
    {
      "cell_type": "markdown",
      "source": [
        "Alternatively, you can use the `assert` keyword, which is commonly used for testing and debugging. `assert` will raise an `AssertionError` if the condition is False.\n",
        "\n",
        "> 📒 **Suitability for Testing**\n",
        ">\n",
        "> `assert` is particularly useful during testing and heavily used in testing libraries such as [`pytest`](https://docs.pytest.org/en/stable/) because it stops the program if an assertion is violated.\n",
        "\n"
      ],
      "metadata": {
        "id": "eFdAakf2Gp5c"
      }
    },
    {
      "cell_type": "code",
      "source": [
        "var_1 = [1, 2, 3, 4]\n",
        "\n",
        "print(isinstance(var_1, Iterable))  # Prints: True\n",
        "assert isinstance(var_1, Iterable), f\"Error: Expected an iterable, but got {type(var_1).__name__}.\"\n",
        "\n",
        "var_1 = 234.32\n",
        "\n",
        "print(isinstance(var_1, Iterable))  # Prints: False\n",
        "assert isinstance(var_1, Iterable), f\"Error: Expected an iterable, but got {type(var_1).__name__}.\""
      ],
      "metadata": {
        "colab": {
          "base_uri": "https://localhost:8080/",
          "height": 211
        },
        "id": "s2dTR-XBGq0q",
        "outputId": "f1809fc4-d331-475c-9c56-c93b6bb4e413"
      },
      "execution_count": null,
      "outputs": [
        {
          "output_type": "stream",
          "name": "stdout",
          "text": [
            "True\n",
            "False\n"
          ]
        },
        {
          "output_type": "error",
          "ename": "AssertionError",
          "evalue": "Error: Expected an iterable, but got float.",
          "traceback": [
            "\u001b[0;31m---------------------------------------------------------------------------\u001b[0m",
            "\u001b[0;31mAssertionError\u001b[0m                            Traceback (most recent call last)",
            "\u001b[0;32m<ipython-input-30-d3cb58ec8af6>\u001b[0m in \u001b[0;36m<cell line: 0>\u001b[0;34m()\u001b[0m\n\u001b[1;32m      7\u001b[0m \u001b[0;34m\u001b[0m\u001b[0m\n\u001b[1;32m      8\u001b[0m \u001b[0mprint\u001b[0m\u001b[0;34m(\u001b[0m\u001b[0misinstance\u001b[0m\u001b[0;34m(\u001b[0m\u001b[0mvar_1\u001b[0m\u001b[0;34m,\u001b[0m \u001b[0mIterable\u001b[0m\u001b[0;34m)\u001b[0m\u001b[0;34m)\u001b[0m  \u001b[0;31m# Prints: False\u001b[0m\u001b[0;34m\u001b[0m\u001b[0;34m\u001b[0m\u001b[0m\n\u001b[0;32m----> 9\u001b[0;31m \u001b[0;32massert\u001b[0m \u001b[0misinstance\u001b[0m\u001b[0;34m(\u001b[0m\u001b[0mvar_1\u001b[0m\u001b[0;34m,\u001b[0m \u001b[0mIterable\u001b[0m\u001b[0;34m)\u001b[0m\u001b[0;34m,\u001b[0m \u001b[0;34mf\"Error: Expected an iterable, but got {type(var_1).__name__}.\"\u001b[0m\u001b[0;34m\u001b[0m\u001b[0;34m\u001b[0m\u001b[0m\n\u001b[0m",
            "\u001b[0;31mAssertionError\u001b[0m: Error: Expected an iterable, but got float."
          ]
        }
      ]
    },
    {
      "cell_type": "markdown",
      "source": [
        "### **Combine Type Checking with Raising Exceptions**\n",
        "\n",
        "Now that we have all the tools to perform type checking let's combine it with raising exceptions and update our `cube_app()` so that it can handle multiple kinds of user inputs.\n"
      ],
      "metadata": {
        "id": "QchEksnl9kOI"
      }
    },
    {
      "cell_type": "code",
      "source": [
        "def cube(x):\n",
        "  # Technically this is not necassary because we casted all our input to float but it's nice to have if you want to use it with something else\n",
        "  if not isinstance(x, (int, float)):\n",
        "    raise TypeError(f\"Expected an integer or float, but got {type(x).__name__}: '{x}'\")\n",
        "\n",
        "  return x ** 3\n",
        "\n",
        "\n",
        "def is_valid_input(user_input):\n",
        "  \"\"\"Check if input string is an integer or float.\"\"\"\n",
        "\n",
        "  if \".\" not in user_input and user_input.isdigit():\n",
        "    return True\n",
        "  elif \".\" in user_input and user_input.replace(\".\", \"\", 1).isdigit():\n",
        "    return True\n",
        "\n",
        "  return False\n",
        "\n",
        "\n",
        "def robust_cube_app():\n",
        "  user_input = \"\"\n",
        "\n",
        "  # Since we have an input here, re-prompting the user for a new input is more suitable than raising an error\n",
        "  # so that they don't have to rerun the program every single time something unexpected happens\n",
        "  while not is_valid_input(user_input):\n",
        "    user_input = input(\"Enter a number to cube: \").strip()\n",
        "\n",
        "  result = cube(float(user_input))\n",
        "  print(f\"The cube of {user_input} is {result}\")"
      ],
      "metadata": {
        "id": "8Obtd6oAe-dw"
      },
      "execution_count": null,
      "outputs": []
    },
    {
      "cell_type": "code",
      "source": [
        "robust_cube_app()"
      ],
      "metadata": {
        "colab": {
          "base_uri": "https://localhost:8080/"
        },
        "id": "Gq3_3-9afiy9",
        "outputId": "df047369-8fc7-4db0-8b71-cf2f6b34c964"
      },
      "execution_count": null,
      "outputs": [
        {
          "output_type": "stream",
          "name": "stdout",
          "text": [
            "Enter a number to cube: apple\n",
            "Enter a number to cube: 12.2.4\n",
            "Enter a number to cube: 10\n",
            "The cube of 10 is 1000.0\n"
          ]
        }
      ]
    },
    {
      "cell_type": "markdown",
      "source": [
        "As you can see, type checking combined with raising exceptions makes our code more robust and user-friendly. By checking the type of inputs and raising custom error messages when the type is incorrect, we can prevent unexpected behavior and make debugging easier.\n"
      ],
      "metadata": {
        "id": "nO9rl5gplCSW"
      }
    },
    {
      "cell_type": "markdown",
      "source": [
        "## **Type Hints & Function Documentation**\n",
        "\n",
        "Type hints and function documentations (docstrings) are *optional* features in python that help you as a programmer and your tools (code editors) better understand the code and prevent or catch potential errors.\n"
      ],
      "metadata": {
        "id": "nQ18LxcjJH90"
      }
    },
    {
      "cell_type": "markdown",
      "source": [
        "### **Type Hints**\n",
        "\n",
        "Type hints provide a way to annotate code with expected types.\n",
        "\n",
        "<br>\n",
        "\n",
        "**Benefits include:**\n",
        "\n",
        "- **Self-documenting code**\n",
        "  \n",
        "  Clarifies what types are expected, making code easier to read.\n",
        "\n",
        "- **IDE support and code completion**\n",
        "\n",
        "  Enhances code suggestions and error detection in many code editors.\n",
        "\n",
        "- **Static type checking**\n",
        "\n",
        "  Tools like [mypy](https://mypy.readthedocs.io/en/stable/index.html) or [pyright](https://github.com/microsoft/pyright) can catch type-related errors before runtime.\n",
        "\n",
        "- **Ease of understanding and refactoring**\n",
        "\n",
        "  Simplifies the process of understanding code, especially in larger projects.\n",
        "\n",
        "<br>\n",
        "\n",
        "> 📒 **Note**: Type hints do not change the functionality of your code and are completely optional. However, including them can significantly improve the readability and maintainability of your code.\n"
      ],
      "metadata": {
        "id": "87tpeu6uiwir"
      }
    },
    {
      "cell_type": "markdown",
      "source": [
        "Let's look at the difference between a function with type hints and a function without type hints:\n"
      ],
      "metadata": {
        "id": "E6naI8VEdPhn"
      }
    },
    {
      "cell_type": "code",
      "source": [
        "# No type hint example\n",
        "def cube_(number):\n",
        "  return number ** 3\n",
        "\n",
        "number = input(\"Enter a number: \") # input() function returns a string\n",
        "\n",
        "# We don't get a red squiggly line from the code editor because it doesn't know what data type to expect even though this will clearly error\n",
        "print(cube_(number))"
      ],
      "metadata": {
        "colab": {
          "base_uri": "https://localhost:8080/",
          "height": 315
        },
        "id": "3MuipkNgp8TG",
        "outputId": "aaeb3c26-76cb-4c3f-9786-9338dc3991a0"
      },
      "execution_count": null,
      "outputs": [
        {
          "name": "stdout",
          "output_type": "stream",
          "text": [
            "Enter a number: two\n"
          ]
        },
        {
          "output_type": "error",
          "ename": "TypeError",
          "evalue": "unsupported operand type(s) for ** or pow(): 'str' and 'int'",
          "traceback": [
            "\u001b[0;31m---------------------------------------------------------------------------\u001b[0m",
            "\u001b[0;31mTypeError\u001b[0m                                 Traceback (most recent call last)",
            "\u001b[0;32m<ipython-input-31-30eb611a4aa9>\u001b[0m in \u001b[0;36m<cell line: 0>\u001b[0;34m()\u001b[0m\n\u001b[1;32m      6\u001b[0m \u001b[0;34m\u001b[0m\u001b[0m\n\u001b[1;32m      7\u001b[0m \u001b[0;31m# We don't get a red squiggly line from the code editor because it doesn't know what data type to expect even though this will clearly error\u001b[0m\u001b[0;34m\u001b[0m\u001b[0;34m\u001b[0m\u001b[0m\n\u001b[0;32m----> 8\u001b[0;31m \u001b[0mprint\u001b[0m\u001b[0;34m(\u001b[0m\u001b[0mcube_\u001b[0m\u001b[0;34m(\u001b[0m\u001b[0mnumber\u001b[0m\u001b[0;34m)\u001b[0m\u001b[0;34m)\u001b[0m\u001b[0;34m\u001b[0m\u001b[0;34m\u001b[0m\u001b[0m\n\u001b[0m",
            "\u001b[0;32m<ipython-input-31-30eb611a4aa9>\u001b[0m in \u001b[0;36mcube_\u001b[0;34m(number)\u001b[0m\n\u001b[1;32m      1\u001b[0m \u001b[0;31m# No type hint example\u001b[0m\u001b[0;34m\u001b[0m\u001b[0;34m\u001b[0m\u001b[0m\n\u001b[1;32m      2\u001b[0m \u001b[0;32mdef\u001b[0m \u001b[0mcube_\u001b[0m\u001b[0;34m(\u001b[0m\u001b[0mnumber\u001b[0m\u001b[0;34m)\u001b[0m\u001b[0;34m:\u001b[0m\u001b[0;34m\u001b[0m\u001b[0;34m\u001b[0m\u001b[0m\n\u001b[0;32m----> 3\u001b[0;31m   \u001b[0;32mreturn\u001b[0m \u001b[0mnumber\u001b[0m \u001b[0;34m**\u001b[0m \u001b[0;36m3\u001b[0m\u001b[0;34m\u001b[0m\u001b[0;34m\u001b[0m\u001b[0m\n\u001b[0m\u001b[1;32m      4\u001b[0m \u001b[0;34m\u001b[0m\u001b[0m\n\u001b[1;32m      5\u001b[0m \u001b[0mnumber\u001b[0m \u001b[0;34m=\u001b[0m \u001b[0minput\u001b[0m\u001b[0;34m(\u001b[0m\u001b[0;34m\"Enter a number: \"\u001b[0m\u001b[0;34m)\u001b[0m \u001b[0;31m# input() function returns a string\u001b[0m\u001b[0;34m\u001b[0m\u001b[0;34m\u001b[0m\u001b[0m\n",
            "\u001b[0;31mTypeError\u001b[0m: unsupported operand type(s) for ** or pow(): 'str' and 'int'"
          ]
        }
      ]
    },
    {
      "cell_type": "code",
      "source": [
        "# Basic type hint example\n",
        "def process_string(text: str, times: int = 1) -> str:\n",
        "  return text * times\n",
        "\n",
        "def cube(number: float) -> float:\n",
        "  return number ** 3\n",
        "\n",
        "number = input(\"Enter a number: \") # input() function returns a string\n",
        "\n",
        "# We get a red squiggly line from the code editor because this will raise an error: strings cannot be used in arithmetic operations.\n",
        "print(cube(number))"
      ],
      "metadata": {
        "colab": {
          "base_uri": "https://localhost:8080/",
          "height": 315
        },
        "id": "QcOzjg8PooIY",
        "outputId": "0d7f1030-bfe9-4341-c900-29b3dc2ec376"
      },
      "execution_count": null,
      "outputs": [
        {
          "name": "stdout",
          "output_type": "stream",
          "text": [
            "Enter a number: two\n"
          ]
        },
        {
          "output_type": "error",
          "ename": "TypeError",
          "evalue": "unsupported operand type(s) for ** or pow(): 'str' and 'int'",
          "traceback": [
            "\u001b[0;31m---------------------------------------------------------------------------\u001b[0m",
            "\u001b[0;31mTypeError\u001b[0m                                 Traceback (most recent call last)",
            "\u001b[0;32m<ipython-input-33-5256f2aeaaac>\u001b[0m in \u001b[0;36m<cell line: 0>\u001b[0;34m()\u001b[0m\n\u001b[1;32m      9\u001b[0m \u001b[0;34m\u001b[0m\u001b[0m\n\u001b[1;32m     10\u001b[0m \u001b[0;31m# We get a red squiggly line from the code editor because this will raise an error: strings cannot be used in arithmetic operations.\u001b[0m\u001b[0;34m\u001b[0m\u001b[0;34m\u001b[0m\u001b[0m\n\u001b[0;32m---> 11\u001b[0;31m \u001b[0mprint\u001b[0m\u001b[0;34m(\u001b[0m\u001b[0mcube\u001b[0m\u001b[0;34m(\u001b[0m\u001b[0mnumber\u001b[0m\u001b[0;34m)\u001b[0m\u001b[0;34m)\u001b[0m\u001b[0;34m\u001b[0m\u001b[0;34m\u001b[0m\u001b[0m\n\u001b[0m",
            "\u001b[0;32m<ipython-input-33-5256f2aeaaac>\u001b[0m in \u001b[0;36mcube\u001b[0;34m(number)\u001b[0m\n\u001b[1;32m      4\u001b[0m \u001b[0;34m\u001b[0m\u001b[0m\n\u001b[1;32m      5\u001b[0m \u001b[0;32mdef\u001b[0m \u001b[0mcube\u001b[0m\u001b[0;34m(\u001b[0m\u001b[0mnumber\u001b[0m\u001b[0;34m:\u001b[0m \u001b[0mfloat\u001b[0m\u001b[0;34m)\u001b[0m \u001b[0;34m->\u001b[0m \u001b[0mfloat\u001b[0m\u001b[0;34m:\u001b[0m\u001b[0;34m\u001b[0m\u001b[0;34m\u001b[0m\u001b[0m\n\u001b[0;32m----> 6\u001b[0;31m   \u001b[0;32mreturn\u001b[0m \u001b[0mnumber\u001b[0m \u001b[0;34m**\u001b[0m \u001b[0;36m3\u001b[0m\u001b[0;34m\u001b[0m\u001b[0;34m\u001b[0m\u001b[0m\n\u001b[0m\u001b[1;32m      7\u001b[0m \u001b[0;34m\u001b[0m\u001b[0m\n\u001b[1;32m      8\u001b[0m \u001b[0mnumber\u001b[0m \u001b[0;34m=\u001b[0m \u001b[0minput\u001b[0m\u001b[0;34m(\u001b[0m\u001b[0;34m\"Enter a number: \"\u001b[0m\u001b[0;34m)\u001b[0m \u001b[0;31m# input() function returns a string\u001b[0m\u001b[0;34m\u001b[0m\u001b[0;34m\u001b[0m\u001b[0m\n",
            "\u001b[0;31mTypeError\u001b[0m: unsupported operand type(s) for ** or pow(): 'str' and 'int'"
          ]
        }
      ]
    },
    {
      "cell_type": "markdown",
      "source": [
        "We can even write type hints for variables\n",
        "\n",
        "> 🚨 There is no need to do this for every variable but for obscure ones where the datatype of the variable is very hard to infer, this is extremely useful!\n"
      ],
      "metadata": {
        "id": "xfDzr0FcwkuD"
      }
    },
    {
      "cell_type": "code",
      "source": [
        "# Type hinting variables\n",
        "num_1: int = 1\n",
        "num_2: float = 1.0\n",
        "\n",
        "var_3 = {\"a\": 1, \"b\": 2, \"c\": 3, \"d\": 4}\n",
        "num_3: int | None = var_3.get(\"apple\") # in this example get() can either return an 'int' or 'None'. Using type hint makes it clearer to see what kind of datatype you are getting"
      ],
      "metadata": {
        "id": "YkFY44Bhwu10"
      },
      "execution_count": null,
      "outputs": []
    },
    {
      "cell_type": "markdown",
      "source": [
        "If our function or variable can take or return multiple data types, we can use the `|` operator to separate multiple types:\n"
      ],
      "metadata": {
        "id": "qNBUE3h2qgfL"
      }
    },
    {
      "cell_type": "code",
      "source": [
        "# Multiple acceptable types\n",
        "def is_even(num: int | float) -> bool:\n",
        "  return num % 2 == 0"
      ],
      "metadata": {
        "id": "2f2x67BqrJT6"
      },
      "execution_count": null,
      "outputs": []
    },
    {
      "cell_type": "markdown",
      "source": [
        "Here are some more type hint examples:\n"
      ],
      "metadata": {
        "id": "mM2zKM-BrKYi"
      }
    },
    {
      "cell_type": "code",
      "source": [
        "class CustomType:\n",
        "  def do_sth(self) -> None:\n",
        "    pass\n",
        "\n",
        "# Using our own class for type hint\n",
        "def construct_custom_type() -> CustomType:\n",
        "  return CustomType()"
      ],
      "metadata": {
        "id": "IhCAw8h_sGqX"
      },
      "execution_count": null,
      "outputs": []
    },
    {
      "cell_type": "code",
      "source": [
        "from typing import Literal\n",
        "\n",
        "# Parameter `color` expects string literals: \"red\", \"green\", or \"blue\"\n",
        "def choose_color(color: Literal[\"red\", \"green\", \"blue\"]) -> None:\n",
        "  if not isinstance(color, str): raise TypeError(\"Expected a string\")\n",
        "  if not color.lower() in [\"red\", \"green\", \"blue\"]: raise ValueError(\"Invalid color\")\n",
        "\n",
        "  match color:\n",
        "    case \"red\":\n",
        "      pass\n",
        "    case \"green\":\n",
        "      pass\n",
        "    case \"blue\":\n",
        "      pass\n",
        "    case _:\n",
        "      print(\"Shouldn't be able to reach here, something is very wrong!\")\n",
        "  print(f\"You chose {color}\")\n",
        "\n",
        "choose_color(\"red\")\n",
        "choose_color(\"green\")\n",
        "choose_color(\"blue\")"
      ],
      "metadata": {
        "colab": {
          "base_uri": "https://localhost:8080/"
        },
        "id": "yZ0Sz6hhsEsl",
        "outputId": "a073ed1c-5693-40b2-df82-ef9c67eb0830"
      },
      "execution_count": null,
      "outputs": [
        {
          "output_type": "stream",
          "name": "stdout",
          "text": [
            "You chose red\n",
            "You chose green\n",
            "You chose blue\n"
          ]
        }
      ]
    },
    {
      "cell_type": "code",
      "source": [
        "from collections.abc import Callable\n",
        "from typing import Any\n",
        "\n",
        "# Parameter `func` expects a function or method. `args` and `kwargs` can be any data type\n",
        "def repeat_func(func: Callable, times: int, *args: Any, **kwargs: Any) -> None:\n",
        "  for _ in range(times):\n",
        "    rv = func(*args, **kwargs)\n",
        "    print(rv)\n",
        "\n",
        "\n",
        "repeat_func(greet, times=2, name=\"Timmy\", greeting=\"What's up\")\n",
        "repeat_func(cube, times=3, number=2)"
      ],
      "metadata": {
        "colab": {
          "base_uri": "https://localhost:8080/"
        },
        "id": "iGMy2vP5r-QZ",
        "outputId": "248d3695-6488-4b49-d9e9-c51f8cf6d6ac"
      },
      "execution_count": null,
      "outputs": [
        {
          "output_type": "stream",
          "name": "stdout",
          "text": [
            "What's up, Timmy!\n",
            "What's up, Timmy!\n",
            "8\n",
            "8\n",
            "8\n"
          ]
        }
      ]
    },
    {
      "cell_type": "code",
      "source": [
        "import pandas as pd\n",
        "\n",
        "# Using data types from some python package\n",
        "def create_df(data: dict) -> pd.DataFrame:\n",
        "  return pd.DataFrame(data)\n",
        "\n",
        "\n",
        "data = {\n",
        "    'name': ['Alice', 'Bob', 'Charlie'],\n",
        "    'age': [25, 30, 35],\n",
        "    'city': ['New York', 'London', 'Paris']\n",
        "}\n",
        "\n",
        "df = create_df(data)\n",
        "df"
      ],
      "metadata": {
        "colab": {
          "base_uri": "https://localhost:8080/",
          "height": 143
        },
        "id": "zJVMLkYysCKM",
        "outputId": "d2853005-93ed-4610-9a4d-f2a3653fab12"
      },
      "execution_count": null,
      "outputs": [
        {
          "output_type": "execute_result",
          "data": {
            "text/plain": [
              "      name  age      city\n",
              "0    Alice   25  New York\n",
              "1      Bob   30    London\n",
              "2  Charlie   35     Paris"
            ],
            "text/html": [
              "\n",
              "  <div id=\"df-2f22582b-2f26-4763-bd22-947f3ff83271\" class=\"colab-df-container\">\n",
              "    <div>\n",
              "<style scoped>\n",
              "    .dataframe tbody tr th:only-of-type {\n",
              "        vertical-align: middle;\n",
              "    }\n",
              "\n",
              "    .dataframe tbody tr th {\n",
              "        vertical-align: top;\n",
              "    }\n",
              "\n",
              "    .dataframe thead th {\n",
              "        text-align: right;\n",
              "    }\n",
              "</style>\n",
              "<table border=\"1\" class=\"dataframe\">\n",
              "  <thead>\n",
              "    <tr style=\"text-align: right;\">\n",
              "      <th></th>\n",
              "      <th>name</th>\n",
              "      <th>age</th>\n",
              "      <th>city</th>\n",
              "    </tr>\n",
              "  </thead>\n",
              "  <tbody>\n",
              "    <tr>\n",
              "      <th>0</th>\n",
              "      <td>Alice</td>\n",
              "      <td>25</td>\n",
              "      <td>New York</td>\n",
              "    </tr>\n",
              "    <tr>\n",
              "      <th>1</th>\n",
              "      <td>Bob</td>\n",
              "      <td>30</td>\n",
              "      <td>London</td>\n",
              "    </tr>\n",
              "    <tr>\n",
              "      <th>2</th>\n",
              "      <td>Charlie</td>\n",
              "      <td>35</td>\n",
              "      <td>Paris</td>\n",
              "    </tr>\n",
              "  </tbody>\n",
              "</table>\n",
              "</div>\n",
              "    <div class=\"colab-df-buttons\">\n",
              "\n",
              "  <div class=\"colab-df-container\">\n",
              "    <button class=\"colab-df-convert\" onclick=\"convertToInteractive('df-2f22582b-2f26-4763-bd22-947f3ff83271')\"\n",
              "            title=\"Convert this dataframe to an interactive table.\"\n",
              "            style=\"display:none;\">\n",
              "\n",
              "  <svg xmlns=\"http://www.w3.org/2000/svg\" height=\"24px\" viewBox=\"0 -960 960 960\">\n",
              "    <path d=\"M120-120v-720h720v720H120Zm60-500h600v-160H180v160Zm220 220h160v-160H400v160Zm0 220h160v-160H400v160ZM180-400h160v-160H180v160Zm440 0h160v-160H620v160ZM180-180h160v-160H180v160Zm440 0h160v-160H620v160Z\"/>\n",
              "  </svg>\n",
              "    </button>\n",
              "\n",
              "  <style>\n",
              "    .colab-df-container {\n",
              "      display:flex;\n",
              "      gap: 12px;\n",
              "    }\n",
              "\n",
              "    .colab-df-convert {\n",
              "      background-color: #E8F0FE;\n",
              "      border: none;\n",
              "      border-radius: 50%;\n",
              "      cursor: pointer;\n",
              "      display: none;\n",
              "      fill: #1967D2;\n",
              "      height: 32px;\n",
              "      padding: 0 0 0 0;\n",
              "      width: 32px;\n",
              "    }\n",
              "\n",
              "    .colab-df-convert:hover {\n",
              "      background-color: #E2EBFA;\n",
              "      box-shadow: 0px 1px 2px rgba(60, 64, 67, 0.3), 0px 1px 3px 1px rgba(60, 64, 67, 0.15);\n",
              "      fill: #174EA6;\n",
              "    }\n",
              "\n",
              "    .colab-df-buttons div {\n",
              "      margin-bottom: 4px;\n",
              "    }\n",
              "\n",
              "    [theme=dark] .colab-df-convert {\n",
              "      background-color: #3B4455;\n",
              "      fill: #D2E3FC;\n",
              "    }\n",
              "\n",
              "    [theme=dark] .colab-df-convert:hover {\n",
              "      background-color: #434B5C;\n",
              "      box-shadow: 0px 1px 3px 1px rgba(0, 0, 0, 0.15);\n",
              "      filter: drop-shadow(0px 1px 2px rgba(0, 0, 0, 0.3));\n",
              "      fill: #FFFFFF;\n",
              "    }\n",
              "  </style>\n",
              "\n",
              "    <script>\n",
              "      const buttonEl =\n",
              "        document.querySelector('#df-2f22582b-2f26-4763-bd22-947f3ff83271 button.colab-df-convert');\n",
              "      buttonEl.style.display =\n",
              "        google.colab.kernel.accessAllowed ? 'block' : 'none';\n",
              "\n",
              "      async function convertToInteractive(key) {\n",
              "        const element = document.querySelector('#df-2f22582b-2f26-4763-bd22-947f3ff83271');\n",
              "        const dataTable =\n",
              "          await google.colab.kernel.invokeFunction('convertToInteractive',\n",
              "                                                    [key], {});\n",
              "        if (!dataTable) return;\n",
              "\n",
              "        const docLinkHtml = 'Like what you see? Visit the ' +\n",
              "          '<a target=\"_blank\" href=https://colab.research.google.com/notebooks/data_table.ipynb>data table notebook</a>'\n",
              "          + ' to learn more about interactive tables.';\n",
              "        element.innerHTML = '';\n",
              "        dataTable['output_type'] = 'display_data';\n",
              "        await google.colab.output.renderOutput(dataTable, element);\n",
              "        const docLink = document.createElement('div');\n",
              "        docLink.innerHTML = docLinkHtml;\n",
              "        element.appendChild(docLink);\n",
              "      }\n",
              "    </script>\n",
              "  </div>\n",
              "\n",
              "\n",
              "<div id=\"df-f86629be-f5e6-466e-8721-4eaa5c6b0f84\">\n",
              "  <button class=\"colab-df-quickchart\" onclick=\"quickchart('df-f86629be-f5e6-466e-8721-4eaa5c6b0f84')\"\n",
              "            title=\"Suggest charts\"\n",
              "            style=\"display:none;\">\n",
              "\n",
              "<svg xmlns=\"http://www.w3.org/2000/svg\" height=\"24px\"viewBox=\"0 0 24 24\"\n",
              "     width=\"24px\">\n",
              "    <g>\n",
              "        <path d=\"M19 3H5c-1.1 0-2 .9-2 2v14c0 1.1.9 2 2 2h14c1.1 0 2-.9 2-2V5c0-1.1-.9-2-2-2zM9 17H7v-7h2v7zm4 0h-2V7h2v10zm4 0h-2v-4h2v4z\"/>\n",
              "    </g>\n",
              "</svg>\n",
              "  </button>\n",
              "\n",
              "<style>\n",
              "  .colab-df-quickchart {\n",
              "      --bg-color: #E8F0FE;\n",
              "      --fill-color: #1967D2;\n",
              "      --hover-bg-color: #E2EBFA;\n",
              "      --hover-fill-color: #174EA6;\n",
              "      --disabled-fill-color: #AAA;\n",
              "      --disabled-bg-color: #DDD;\n",
              "  }\n",
              "\n",
              "  [theme=dark] .colab-df-quickchart {\n",
              "      --bg-color: #3B4455;\n",
              "      --fill-color: #D2E3FC;\n",
              "      --hover-bg-color: #434B5C;\n",
              "      --hover-fill-color: #FFFFFF;\n",
              "      --disabled-bg-color: #3B4455;\n",
              "      --disabled-fill-color: #666;\n",
              "  }\n",
              "\n",
              "  .colab-df-quickchart {\n",
              "    background-color: var(--bg-color);\n",
              "    border: none;\n",
              "    border-radius: 50%;\n",
              "    cursor: pointer;\n",
              "    display: none;\n",
              "    fill: var(--fill-color);\n",
              "    height: 32px;\n",
              "    padding: 0;\n",
              "    width: 32px;\n",
              "  }\n",
              "\n",
              "  .colab-df-quickchart:hover {\n",
              "    background-color: var(--hover-bg-color);\n",
              "    box-shadow: 0 1px 2px rgba(60, 64, 67, 0.3), 0 1px 3px 1px rgba(60, 64, 67, 0.15);\n",
              "    fill: var(--button-hover-fill-color);\n",
              "  }\n",
              "\n",
              "  .colab-df-quickchart-complete:disabled,\n",
              "  .colab-df-quickchart-complete:disabled:hover {\n",
              "    background-color: var(--disabled-bg-color);\n",
              "    fill: var(--disabled-fill-color);\n",
              "    box-shadow: none;\n",
              "  }\n",
              "\n",
              "  .colab-df-spinner {\n",
              "    border: 2px solid var(--fill-color);\n",
              "    border-color: transparent;\n",
              "    border-bottom-color: var(--fill-color);\n",
              "    animation:\n",
              "      spin 1s steps(1) infinite;\n",
              "  }\n",
              "\n",
              "  @keyframes spin {\n",
              "    0% {\n",
              "      border-color: transparent;\n",
              "      border-bottom-color: var(--fill-color);\n",
              "      border-left-color: var(--fill-color);\n",
              "    }\n",
              "    20% {\n",
              "      border-color: transparent;\n",
              "      border-left-color: var(--fill-color);\n",
              "      border-top-color: var(--fill-color);\n",
              "    }\n",
              "    30% {\n",
              "      border-color: transparent;\n",
              "      border-left-color: var(--fill-color);\n",
              "      border-top-color: var(--fill-color);\n",
              "      border-right-color: var(--fill-color);\n",
              "    }\n",
              "    40% {\n",
              "      border-color: transparent;\n",
              "      border-right-color: var(--fill-color);\n",
              "      border-top-color: var(--fill-color);\n",
              "    }\n",
              "    60% {\n",
              "      border-color: transparent;\n",
              "      border-right-color: var(--fill-color);\n",
              "    }\n",
              "    80% {\n",
              "      border-color: transparent;\n",
              "      border-right-color: var(--fill-color);\n",
              "      border-bottom-color: var(--fill-color);\n",
              "    }\n",
              "    90% {\n",
              "      border-color: transparent;\n",
              "      border-bottom-color: var(--fill-color);\n",
              "    }\n",
              "  }\n",
              "</style>\n",
              "\n",
              "  <script>\n",
              "    async function quickchart(key) {\n",
              "      const quickchartButtonEl =\n",
              "        document.querySelector('#' + key + ' button');\n",
              "      quickchartButtonEl.disabled = true;  // To prevent multiple clicks.\n",
              "      quickchartButtonEl.classList.add('colab-df-spinner');\n",
              "      try {\n",
              "        const charts = await google.colab.kernel.invokeFunction(\n",
              "            'suggestCharts', [key], {});\n",
              "      } catch (error) {\n",
              "        console.error('Error during call to suggestCharts:', error);\n",
              "      }\n",
              "      quickchartButtonEl.classList.remove('colab-df-spinner');\n",
              "      quickchartButtonEl.classList.add('colab-df-quickchart-complete');\n",
              "    }\n",
              "    (() => {\n",
              "      let quickchartButtonEl =\n",
              "        document.querySelector('#df-f86629be-f5e6-466e-8721-4eaa5c6b0f84 button');\n",
              "      quickchartButtonEl.style.display =\n",
              "        google.colab.kernel.accessAllowed ? 'block' : 'none';\n",
              "    })();\n",
              "  </script>\n",
              "</div>\n",
              "\n",
              "  <div id=\"id_94e1ae42-2e98-491b-8d31-2f2dc2522a3e\">\n",
              "    <style>\n",
              "      .colab-df-generate {\n",
              "        background-color: #E8F0FE;\n",
              "        border: none;\n",
              "        border-radius: 50%;\n",
              "        cursor: pointer;\n",
              "        display: none;\n",
              "        fill: #1967D2;\n",
              "        height: 32px;\n",
              "        padding: 0 0 0 0;\n",
              "        width: 32px;\n",
              "      }\n",
              "\n",
              "      .colab-df-generate:hover {\n",
              "        background-color: #E2EBFA;\n",
              "        box-shadow: 0px 1px 2px rgba(60, 64, 67, 0.3), 0px 1px 3px 1px rgba(60, 64, 67, 0.15);\n",
              "        fill: #174EA6;\n",
              "      }\n",
              "\n",
              "      [theme=dark] .colab-df-generate {\n",
              "        background-color: #3B4455;\n",
              "        fill: #D2E3FC;\n",
              "      }\n",
              "\n",
              "      [theme=dark] .colab-df-generate:hover {\n",
              "        background-color: #434B5C;\n",
              "        box-shadow: 0px 1px 3px 1px rgba(0, 0, 0, 0.15);\n",
              "        filter: drop-shadow(0px 1px 2px rgba(0, 0, 0, 0.3));\n",
              "        fill: #FFFFFF;\n",
              "      }\n",
              "    </style>\n",
              "    <button class=\"colab-df-generate\" onclick=\"generateWithVariable('df')\"\n",
              "            title=\"Generate code using this dataframe.\"\n",
              "            style=\"display:none;\">\n",
              "\n",
              "  <svg xmlns=\"http://www.w3.org/2000/svg\" height=\"24px\"viewBox=\"0 0 24 24\"\n",
              "       width=\"24px\">\n",
              "    <path d=\"M7,19H8.4L18.45,9,17,7.55,7,17.6ZM5,21V16.75L18.45,3.32a2,2,0,0,1,2.83,0l1.4,1.43a1.91,1.91,0,0,1,.58,1.4,1.91,1.91,0,0,1-.58,1.4L9.25,21ZM18.45,9,17,7.55Zm-12,3A5.31,5.31,0,0,0,4.9,8.1,5.31,5.31,0,0,0,1,6.5,5.31,5.31,0,0,0,4.9,4.9,5.31,5.31,0,0,0,6.5,1,5.31,5.31,0,0,0,8.1,4.9,5.31,5.31,0,0,0,12,6.5,5.46,5.46,0,0,0,6.5,12Z\"/>\n",
              "  </svg>\n",
              "    </button>\n",
              "    <script>\n",
              "      (() => {\n",
              "      const buttonEl =\n",
              "        document.querySelector('#id_94e1ae42-2e98-491b-8d31-2f2dc2522a3e button.colab-df-generate');\n",
              "      buttonEl.style.display =\n",
              "        google.colab.kernel.accessAllowed ? 'block' : 'none';\n",
              "\n",
              "      buttonEl.onclick = () => {\n",
              "        google.colab.notebook.generateWithVariable('df');\n",
              "      }\n",
              "      })();\n",
              "    </script>\n",
              "  </div>\n",
              "\n",
              "    </div>\n",
              "  </div>\n"
            ],
            "application/vnd.google.colaboratory.intrinsic+json": {
              "type": "dataframe",
              "variable_name": "df",
              "summary": "{\n  \"name\": \"df\",\n  \"rows\": 3,\n  \"fields\": [\n    {\n      \"column\": \"name\",\n      \"properties\": {\n        \"dtype\": \"string\",\n        \"num_unique_values\": 3,\n        \"samples\": [\n          \"Alice\",\n          \"Bob\",\n          \"Charlie\"\n        ],\n        \"semantic_type\": \"\",\n        \"description\": \"\"\n      }\n    },\n    {\n      \"column\": \"age\",\n      \"properties\": {\n        \"dtype\": \"number\",\n        \"std\": 5,\n        \"min\": 25,\n        \"max\": 35,\n        \"num_unique_values\": 3,\n        \"samples\": [\n          25,\n          30,\n          35\n        ],\n        \"semantic_type\": \"\",\n        \"description\": \"\"\n      }\n    },\n    {\n      \"column\": \"city\",\n      \"properties\": {\n        \"dtype\": \"string\",\n        \"num_unique_values\": 3,\n        \"samples\": [\n          \"New York\",\n          \"London\",\n          \"Paris\"\n        ],\n        \"semantic_type\": \"\",\n        \"description\": \"\"\n      }\n    }\n  ]\n}"
            }
          },
          "metadata": {},
          "execution_count": 36
        }
      ]
    },
    {
      "cell_type": "markdown",
      "source": [
        "For more in-depth information on writing type hints, check out [Python's documentation](https://peps.python.org/pep-0484/)\n"
      ],
      "metadata": {
        "id": "K1RDuSP9dj7T"
      }
    },
    {
      "cell_type": "markdown",
      "source": [
        "### **Docstrings**\n",
        "\n",
        "Docstrings provide a standardized way to document Python functions and can serve multiple purposes, including:\n",
        "\n",
        "- Clear documentation for other developers\n",
        "- Interactive help, such as through the `help()` function in Python or hover text in code editors\n",
        "- Source for automatic documentation generators like [Sphinx](https://www.sphinx-doc.org/en/master/index.html) and [Swagger](https://swagger.io/docs/).\n",
        "\n",
        "A well-structured docstrings can improve code readability and make maintenance a lot easier. Here are a few popular docstring styles to consider:\n",
        "\n",
        "<br>\n",
        "\n",
        "**Common Docstring Styles**\n",
        "\n",
        "- [Google Style](https://github.com/google/styleguide/blob/gh-pages/pyguide.md#38-comments-and-docstrings): Known for its readability, with parameters and return values clearly outlined.\n",
        "- [NumPy Style](https://numpydoc.readthedocs.io/en/latest/format.html#docstring-standard): Particularly useful in scientific and data-centric projects, with structured sections for extended explanations.\n",
        "- [reStructuredText Style](https://sphinx-rtd-tutorial.readthedocs.io/en/latest/docstrings.html): Often used with Sphinx, this style supports extensive formatting options and compatibility with reStructuredText-based documentation tools.\n"
      ],
      "metadata": {
        "id": "vVNXZ9nwYeFc"
      }
    },
    {
      "cell_type": "code",
      "source": [
        "# Google Style Example\n",
        "def scream(some_string: str) -> None:\n",
        "  \"\"\"Scream out the input string.\n",
        "\n",
        "  Converts all characters in a string to uppercase to simulate screaming. The longer the string, the more exclamation marks will be added at the end.\n",
        "\n",
        "  Args:\n",
        "    some_string (str): The string to convert to uppercase.\n",
        "\n",
        "  Returns:\n",
        "    None\n",
        "\n",
        "  Raises:\n",
        "    TypeError: If the input is not a string.\n",
        "    ValueError: If the input is an empty string.\n",
        "\n",
        "  Examples:\n",
        "    >>> scream(\"go home denis, you are drunk\")\n",
        "    GO HOME DENIS, YOU ARE DRUNK!!!!!!!!!!!!!!\n",
        "  \"\"\"\n",
        "  if not isinstance(some_string, str):\n",
        "    raise TypeError(f\"Expected a string, instead got: {type(some_string)}\")\n",
        "\n",
        "  some_string = some_string.strip()\n",
        "\n",
        "  if not some_string:\n",
        "    raise ValueError(\"Expected a non-empty string\")\n",
        "\n",
        "  volume = max(len(some_string) // 2, 1)\n",
        "  print(f\"{some_string.upper()}{'!' * volume}\")"
      ],
      "metadata": {
        "id": "NijtRom7gfND"
      },
      "execution_count": null,
      "outputs": []
    },
    {
      "cell_type": "markdown",
      "source": [
        "Now, if you use the `help()` function or hover your mouse over the function name in the code cell or an editor, the tooltip will show the function signature along with the docstring.\n",
        "\n",
        "This makes it much easier to quickly understand what the function does, its parameters, and any exceptions it may raise.\n"
      ],
      "metadata": {
        "id": "Gf-VezhYiJgm"
      }
    },
    {
      "cell_type": "code",
      "source": [
        "help(scream)"
      ],
      "metadata": {
        "colab": {
          "base_uri": "https://localhost:8080/"
        },
        "id": "hDoyPX9hiPxW",
        "outputId": "41e94546-a023-48db-f320-45c66e6747b4"
      },
      "execution_count": null,
      "outputs": [
        {
          "output_type": "stream",
          "name": "stdout",
          "text": [
            "Help on function scream in module __main__:\n",
            "\n",
            "scream(some_string: str) -> None\n",
            "    Scream out the input string.\n",
            "    \n",
            "    Converts all characters in a string to uppercase to simulate screaming. The longer the string, the more exclamation marks will be added at the end.\n",
            "    \n",
            "    Args:\n",
            "      some_string (str): The string to convert to uppercase.\n",
            "    \n",
            "    Returns:\n",
            "      None\n",
            "    \n",
            "    Raises:\n",
            "      TypeError: If the input is not a string.\n",
            "      ValueError: If the input is an empty string.\n",
            "    \n",
            "    Examples:\n",
            "      >>> scream(\"go home denis, you are drunk\")\n",
            "      GO HOME DENIS, YOU ARE DRUNK!!!!!!!!!!!!!!\n",
            "\n"
          ]
        }
      ]
    },
    {
      "cell_type": "code",
      "source": [
        "# Try hovering your mouse over the the function name\n",
        "\n",
        "scream(\"Shhh\")\n",
        "scream(\"It's 10 past 12 already\")\n",
        "scream(\"Be quiet\")"
      ],
      "metadata": {
        "colab": {
          "base_uri": "https://localhost:8080/"
        },
        "id": "GlIXnnbfhihr",
        "outputId": "9967f2eb-6eea-4062-ce3a-3fe61211cd98"
      },
      "execution_count": null,
      "outputs": [
        {
          "output_type": "stream",
          "name": "stdout",
          "text": [
            "SHHH!!\n",
            "IT'S 10 PAST 12 ALREADY!!!!!!!!!!!\n",
            "BE QUIET!!!!\n"
          ]
        }
      ]
    },
    {
      "cell_type": "markdown",
      "source": [
        "For more in-depth information on writing effective docstrings, check out this [article on docstrings](https://www.dataquest.io/blog/documenting-in-python-with-docstrings/).\n"
      ],
      "metadata": {
        "id": "5bC0WkyKfo4T"
      }
    },
    {
      "cell_type": "markdown",
      "source": [
        "## **Conclusion**  \n",
        "\n",
        "That's the end of our overview of errors and exceptions in Python! For further reading, check out these resources:  \n",
        "\n",
        "- [Python Documentation](https://docs.python.org/3/tutorial/errors.html)  \n",
        "- [GeeksforGeeks: Errors and Exceptions in Python](https://www.geeksforgeeks.org/errors-and-exceptions-in-python/)  \n",
        "\n",
        "<br>\n",
        "\n",
        "In our next session, we'll dive into effective error handling (including handling the errors we raise ourselves) and introduce testing to help you write more reliable code.\n"
      ],
      "metadata": {
        "id": "0FWnYbrQA6M1"
      }
    }
  ]
}