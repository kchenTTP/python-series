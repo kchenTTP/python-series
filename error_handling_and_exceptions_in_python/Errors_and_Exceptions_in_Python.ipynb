{
  "nbformat": 4,
  "nbformat_minor": 0,
  "metadata": {
    "colab": {
      "provenance": [],
      "toc_visible": true,
      "authorship_tag": "ABX9TyOWcmS7J8HxX/oOkHMPHlUz",
      "include_colab_link": true
    },
    "kernelspec": {
      "name": "python3",
      "display_name": "Python 3"
    },
    "language_info": {
      "name": "python"
    }
  },
  "cells": [
    {
      "cell_type": "markdown",
      "metadata": {
        "id": "view-in-github",
        "colab_type": "text"
      },
      "source": [
        "<a href=\"https://colab.research.google.com/github/kchenTTP/python-series/blob/main/error_handling_and_exceptions_in_python/Errors_and_Exceptions_in_Python.ipynb\" target=\"_parent\"><img src=\"https://colab.research.google.com/assets/colab-badge.svg\" alt=\"Open In Colab\"/></a>"
      ]
    },
    {
      "cell_type": "markdown",
      "source": [
        "# **Errors and Exceptions in Python**\n",
        "\n",
        "This is the first class of a two part series covering various types of Python error, how they occor, and how to effectively handle them. In this class, we'll focus on the different kinds of errors as well as ways to minimize potential errors in your code.\n",
        "\n",
        "<br>\n",
        "\n",
        "### **Table of Contents**\n",
        "\n",
        "- [Understanding Error Messages and Tracebacks](#scrollTo=g38m6TM3QU0o)\n",
        "- [Errors & Exceptions](#scrollTo=0GAHckPu7YV9)\n",
        "- [Manually Raising Exceptions (Additional Material)](#scrollTo=DXiYBDZaxuFM)\n",
        "- [Type Checking](#scrollTo=yrC2t-8fGB8t)\n",
        "- [Type Hints & Function Documentation](#scrollTo=nQ18LxcjJH90)\n"
      ],
      "metadata": {
        "id": "2zqFUEgCwaSx"
      }
    },
    {
      "cell_type": "markdown",
      "source": [
        "## **Understanding Error Messages and Tracebacks**\n",
        "\n",
        "When an error occurs, Python generates a detailed message that pinpoints where the issue happened and what type of error it is.\n",
        "\n",
        "Understanding these messages can help you quickly identify and fix problems in your code and make the debugging process more efficient and less frustrating.\n"
      ],
      "metadata": {
        "id": "g38m6TM3QU0o"
      }
    },
    {
      "cell_type": "markdown",
      "source": [
        "Let's look at an example where we interactively get user input to perform a mathematical calculation.\n"
      ],
      "metadata": {
        "id": "YrFUEL2TbN9C"
      }
    },
    {
      "cell_type": "code",
      "source": [
        "def cube(x):\n",
        "  return x ** 3\n",
        "\n",
        "def cube_app():\n",
        "  user_input = input(\"Enter a number to cube: \")\n",
        "  result = cube(float(user_input))\n",
        "  print(f\"The cube of {user_input} is {result}\")"
      ],
      "metadata": {
        "id": "tL6skSpAUwFf"
      },
      "execution_count": 1,
      "outputs": []
    },
    {
      "cell_type": "code",
      "source": [
        "# Put a string (such as \"apple\", \"Bob\", or \"peanut\") in the input to see the error\n",
        "cube_app()"
      ],
      "metadata": {
        "colab": {
          "base_uri": "https://localhost:8080/",
          "height": 280
        },
        "id": "gYn08JIDQuHd",
        "outputId": "ba1dfda8-4fa5-4d31-967d-32e0b3b55d2b"
      },
      "execution_count": 2,
      "outputs": [
        {
          "name": "stdout",
          "output_type": "stream",
          "text": [
            "Enter a number to cube: bob\n"
          ]
        },
        {
          "output_type": "error",
          "ename": "ValueError",
          "evalue": "could not convert string to float: 'bob'",
          "traceback": [
            "\u001b[0;31m---------------------------------------------------------------------------\u001b[0m",
            "\u001b[0;31mValueError\u001b[0m                                Traceback (most recent call last)",
            "\u001b[0;32m<ipython-input-2-b5ad812845ca>\u001b[0m in \u001b[0;36m<cell line: 0>\u001b[0;34m()\u001b[0m\n\u001b[1;32m      1\u001b[0m \u001b[0;31m# Put a string (such as \"apple\", \"Bob\", or \"peanut\") in the input to see the error\u001b[0m\u001b[0;34m\u001b[0m\u001b[0;34m\u001b[0m\u001b[0m\n\u001b[0;32m----> 2\u001b[0;31m \u001b[0mcube_app\u001b[0m\u001b[0;34m(\u001b[0m\u001b[0;34m)\u001b[0m\u001b[0;34m\u001b[0m\u001b[0;34m\u001b[0m\u001b[0m\n\u001b[0m",
            "\u001b[0;32m<ipython-input-1-7dbe1de5de19>\u001b[0m in \u001b[0;36mcube_app\u001b[0;34m()\u001b[0m\n\u001b[1;32m      4\u001b[0m \u001b[0;32mdef\u001b[0m \u001b[0mcube_app\u001b[0m\u001b[0;34m(\u001b[0m\u001b[0;34m)\u001b[0m\u001b[0;34m:\u001b[0m\u001b[0;34m\u001b[0m\u001b[0;34m\u001b[0m\u001b[0m\n\u001b[1;32m      5\u001b[0m   \u001b[0muser_input\u001b[0m \u001b[0;34m=\u001b[0m \u001b[0minput\u001b[0m\u001b[0;34m(\u001b[0m\u001b[0;34m\"Enter a number to cube: \"\u001b[0m\u001b[0;34m)\u001b[0m\u001b[0;34m\u001b[0m\u001b[0;34m\u001b[0m\u001b[0m\n\u001b[0;32m----> 6\u001b[0;31m   \u001b[0mresult\u001b[0m \u001b[0;34m=\u001b[0m \u001b[0mcube\u001b[0m\u001b[0;34m(\u001b[0m\u001b[0mfloat\u001b[0m\u001b[0;34m(\u001b[0m\u001b[0muser_input\u001b[0m\u001b[0;34m)\u001b[0m\u001b[0;34m)\u001b[0m\u001b[0;34m\u001b[0m\u001b[0;34m\u001b[0m\u001b[0m\n\u001b[0m\u001b[1;32m      7\u001b[0m   \u001b[0mprint\u001b[0m\u001b[0;34m(\u001b[0m\u001b[0;34mf\"The cube of {user_input} is {result}\"\u001b[0m\u001b[0;34m)\u001b[0m\u001b[0;34m\u001b[0m\u001b[0;34m\u001b[0m\u001b[0m\n",
            "\u001b[0;31mValueError\u001b[0m: could not convert string to float: 'bob'"
          ]
        }
      ]
    },
    {
      "cell_type": "markdown",
      "source": [
        "When we run this code and input a string such as \"bob\", Python throws an error:\n",
        "\n",
        "```markdown\n",
        "---------------------------------------------------------------------------\n",
        "ValueError                                Traceback (most recent call last)\n",
        "<ipython-input-5-b5ad812845ca> in <cell line: 0>()\n",
        "      1 # Put a string (such as \"apple\", \"Bob\", or \"peanut\") in the input to see the error\n",
        "----> 2 cube_app()\n",
        "\n",
        "<ipython-input-4-7dbe1de5de19> in cube_app()\n",
        "      4 def cube_app():\n",
        "      5   user_input = input(\"Enter a number to cube: \")\n",
        "----> 6   result = cube(float(user_input))\n",
        "      7   print(f\"The cube of {user_input} is {result}\")\n",
        "\n",
        "ValueError: could not convert string to float: ' bob'\n",
        "```\n",
        "\n",
        "<br>\n",
        "\n",
        "**Breakdown of the Traceback**\n",
        "\n",
        "- **Traceback**: The traceback shows the sequence of function calls that led to the error.\n",
        "- **File and Line Information:** Each line in the traceback provides the file name and line number where each function call occurred.\n",
        "- **Error Type:** In this case, `ValueError` indicates that Python encountered an invalid value when passing arguments into a function.\n",
        "- **Error Message:** `\"could not convert string to float: ' bob'\"` gives more context about the specific issue.\n"
      ],
      "metadata": {
        "id": "goIVCpDAQuiq"
      }
    },
    {
      "cell_type": "markdown",
      "source": [
        "> 💡 Being good at reading and understanding error messages is key to efficient debugging. Learning to interpret these messages will help you identify the source of issues quickly and make it easier to resolve them effectively.\n"
      ],
      "metadata": {
        "id": "3FO9TLEJkpsp"
      }
    },
    {
      "cell_type": "markdown",
      "source": [
        "## **Errors & Exceptions**\n",
        "\n",
        "Now that we know how to read error messages, let's dive into some common errors in Python.\n",
        "\n",
        "For more details, see the official [Python Documentation on Errors and Exceptions](https://docs.python.org/3/tutorial/errors.html).\n"
      ],
      "metadata": {
        "id": "0GAHckPu7YV9"
      }
    },
    {
      "cell_type": "markdown",
      "source": [
        "### **Syntax Errors**\n",
        "\n",
        "Syntax errors occur when the Python interpreter detects incorrect syntax in the code.\n"
      ],
      "metadata": {
        "id": "D-Ay2McW8iIe"
      }
    },
    {
      "cell_type": "code",
      "source": [
        "while True print('Hello world')"
      ],
      "metadata": {
        "colab": {
          "base_uri": "https://localhost:8080/",
          "height": 106
        },
        "id": "N33MPjSO73tk",
        "outputId": "8844e41d-c5dd-4567-9ae8-b4af94b97251"
      },
      "execution_count": 3,
      "outputs": [
        {
          "output_type": "error",
          "ename": "SyntaxError",
          "evalue": "invalid syntax (<ipython-input-3-2b688bc740d7>, line 1)",
          "traceback": [
            "\u001b[0;36m  File \u001b[0;32m\"<ipython-input-3-2b688bc740d7>\"\u001b[0;36m, line \u001b[0;32m1\u001b[0m\n\u001b[0;31m    while True print('Hello world')\u001b[0m\n\u001b[0m               ^\u001b[0m\n\u001b[0;31mSyntaxError\u001b[0m\u001b[0;31m:\u001b[0m invalid syntax\n"
          ]
        }
      ]
    },
    {
      "cell_type": "code",
      "source": [
        "print()\n",
        "  print(\"something\")"
      ],
      "metadata": {
        "colab": {
          "base_uri": "https://localhost:8080/",
          "height": 106
        },
        "id": "6V4M1EuAwyRS",
        "outputId": "7c09c5a6-38d9-451a-b6b7-5bd53e6a3c93"
      },
      "execution_count": 4,
      "outputs": [
        {
          "output_type": "error",
          "ename": "IndentationError",
          "evalue": "unexpected indent (<ipython-input-4-1750780699f4>, line 2)",
          "traceback": [
            "\u001b[0;36m  File \u001b[0;32m\"<ipython-input-4-1750780699f4>\"\u001b[0;36m, line \u001b[0;32m2\u001b[0m\n\u001b[0;31m    print(\"something\")\u001b[0m\n\u001b[0m    ^\u001b[0m\n\u001b[0;31mIndentationError\u001b[0m\u001b[0;31m:\u001b[0m unexpected indent\n"
          ]
        }
      ]
    },
    {
      "cell_type": "markdown",
      "source": [
        "### **Runtime Errors (Exceptions)**\n",
        "\n",
        "Runtime errors, or exceptions are errors that occur while a program is running. We'll explore various types of exceptions, how they interrupt code execution, and in the next class, we'll look at how to handle them to maintain program stability.\n"
      ],
      "metadata": {
        "id": "hacqvX2G8nfn"
      }
    },
    {
      "cell_type": "code",
      "source": [
        "# NameError\n",
        "nonexistent_var * 3"
      ],
      "metadata": {
        "colab": {
          "base_uri": "https://localhost:8080/",
          "height": 159
        },
        "id": "DlZAB8jS85T1",
        "outputId": "29553d13-041f-4245-993c-7735faba1833"
      },
      "execution_count": 5,
      "outputs": [
        {
          "output_type": "error",
          "ename": "NameError",
          "evalue": "name 'nonexistent_var' is not defined",
          "traceback": [
            "\u001b[0;31m---------------------------------------------------------------------------\u001b[0m",
            "\u001b[0;31mNameError\u001b[0m                                 Traceback (most recent call last)",
            "\u001b[0;32m<ipython-input-5-a784b3359eaa>\u001b[0m in \u001b[0;36m<cell line: 0>\u001b[0;34m()\u001b[0m\n\u001b[1;32m      1\u001b[0m \u001b[0;31m# NameError\u001b[0m\u001b[0;34m\u001b[0m\u001b[0;34m\u001b[0m\u001b[0m\n\u001b[0;32m----> 2\u001b[0;31m \u001b[0mnonexistent_var\u001b[0m \u001b[0;34m*\u001b[0m \u001b[0;36m3\u001b[0m\u001b[0;34m\u001b[0m\u001b[0;34m\u001b[0m\u001b[0m\n\u001b[0m",
            "\u001b[0;31mNameError\u001b[0m: name 'nonexistent_var' is not defined"
          ]
        }
      ]
    },
    {
      "cell_type": "code",
      "source": [
        "# TypeError\n",
        "'2' + 2"
      ],
      "metadata": {
        "colab": {
          "base_uri": "https://localhost:8080/",
          "height": 159
        },
        "id": "JJBU467f8-Qo",
        "outputId": "37dbdcae-7697-4bca-bce0-6f230eb495fb"
      },
      "execution_count": 6,
      "outputs": [
        {
          "output_type": "error",
          "ename": "TypeError",
          "evalue": "can only concatenate str (not \"int\") to str",
          "traceback": [
            "\u001b[0;31m---------------------------------------------------------------------------\u001b[0m",
            "\u001b[0;31mTypeError\u001b[0m                                 Traceback (most recent call last)",
            "\u001b[0;32m<ipython-input-6-9b4afe85d229>\u001b[0m in \u001b[0;36m<cell line: 0>\u001b[0;34m()\u001b[0m\n\u001b[1;32m      1\u001b[0m \u001b[0;31m# TypeError\u001b[0m\u001b[0;34m\u001b[0m\u001b[0;34m\u001b[0m\u001b[0m\n\u001b[0;32m----> 2\u001b[0;31m \u001b[0;34m'2'\u001b[0m \u001b[0;34m+\u001b[0m \u001b[0;36m2\u001b[0m\u001b[0;34m\u001b[0m\u001b[0;34m\u001b[0m\u001b[0m\n\u001b[0m",
            "\u001b[0;31mTypeError\u001b[0m: can only concatenate str (not \"int\") to str"
          ]
        }
      ]
    },
    {
      "cell_type": "markdown",
      "source": [
        "💡 We'll cover how to effectively combat **TypeError** in the [type checking section](#scrollTo=yrC2t-8fGB8t)\n"
      ],
      "metadata": {
        "id": "hgS8YMmDXqWu"
      }
    },
    {
      "cell_type": "code",
      "source": [
        "# KeyError\n",
        "d2 = {\"a\": 1, \"b\": 2, \"c\": 3}\n",
        "d2[\"d\"]"
      ],
      "metadata": {
        "colab": {
          "base_uri": "https://localhost:8080/",
          "height": 176
        },
        "id": "6j34acK0xRRS",
        "outputId": "8c6f486f-7482-4504-84f5-6aaf3c161e51"
      },
      "execution_count": 7,
      "outputs": [
        {
          "output_type": "error",
          "ename": "KeyError",
          "evalue": "'d'",
          "traceback": [
            "\u001b[0;31m---------------------------------------------------------------------------\u001b[0m",
            "\u001b[0;31mKeyError\u001b[0m                                  Traceback (most recent call last)",
            "\u001b[0;32m<ipython-input-7-d737b5de923d>\u001b[0m in \u001b[0;36m<cell line: 0>\u001b[0;34m()\u001b[0m\n\u001b[1;32m      1\u001b[0m \u001b[0;31m# KeyError\u001b[0m\u001b[0;34m\u001b[0m\u001b[0;34m\u001b[0m\u001b[0m\n\u001b[1;32m      2\u001b[0m \u001b[0md2\u001b[0m \u001b[0;34m=\u001b[0m \u001b[0;34m{\u001b[0m\u001b[0;34m\"a\"\u001b[0m\u001b[0;34m:\u001b[0m \u001b[0;36m1\u001b[0m\u001b[0;34m,\u001b[0m \u001b[0;34m\"b\"\u001b[0m\u001b[0;34m:\u001b[0m \u001b[0;36m2\u001b[0m\u001b[0;34m,\u001b[0m \u001b[0;34m\"c\"\u001b[0m\u001b[0;34m:\u001b[0m \u001b[0;36m3\u001b[0m\u001b[0;34m}\u001b[0m\u001b[0;34m\u001b[0m\u001b[0;34m\u001b[0m\u001b[0m\n\u001b[0;32m----> 3\u001b[0;31m \u001b[0md2\u001b[0m\u001b[0;34m[\u001b[0m\u001b[0;34m\"d\"\u001b[0m\u001b[0;34m]\u001b[0m\u001b[0;34m\u001b[0m\u001b[0;34m\u001b[0m\u001b[0m\n\u001b[0m",
            "\u001b[0;31mKeyError\u001b[0m: 'd'"
          ]
        }
      ]
    },
    {
      "cell_type": "markdown",
      "source": [
        "On top of built in errors, you will also encounter more specific errors from libraries such as `requests`:\n"
      ],
      "metadata": {
        "id": "VYXf9VBmp3tM"
      }
    },
    {
      "cell_type": "code",
      "source": [
        "# Custom errors from external libraries\n",
        "import requests\n",
        "\n",
        "resp = requests.get(\"https://api.spoonacular.com/recipes/complexSearch?query=pasta&maxFat=25&number=2\")\n",
        "resp.raise_for_status()"
      ],
      "metadata": {
        "colab": {
          "base_uri": "https://localhost:8080/",
          "height": 297
        },
        "id": "QfQ9Mpl4x5-u",
        "outputId": "156b5c3f-bc1a-466a-acc5-f38cb29d79d8"
      },
      "execution_count": 8,
      "outputs": [
        {
          "output_type": "error",
          "ename": "HTTPError",
          "evalue": "401 Client Error: Unauthorized for url: https://api.spoonacular.com/recipes/complexSearch?query=pasta&maxFat=25&number=2",
          "traceback": [
            "\u001b[0;31m---------------------------------------------------------------------------\u001b[0m",
            "\u001b[0;31mHTTPError\u001b[0m                                 Traceback (most recent call last)",
            "\u001b[0;32m<ipython-input-8-b1b23273ddf2>\u001b[0m in \u001b[0;36m<cell line: 0>\u001b[0;34m()\u001b[0m\n\u001b[1;32m      3\u001b[0m \u001b[0;34m\u001b[0m\u001b[0m\n\u001b[1;32m      4\u001b[0m \u001b[0mresp\u001b[0m \u001b[0;34m=\u001b[0m \u001b[0mrequests\u001b[0m\u001b[0;34m.\u001b[0m\u001b[0mget\u001b[0m\u001b[0;34m(\u001b[0m\u001b[0;34m\"https://api.spoonacular.com/recipes/complexSearch?query=pasta&maxFat=25&number=2\"\u001b[0m\u001b[0;34m)\u001b[0m\u001b[0;34m\u001b[0m\u001b[0;34m\u001b[0m\u001b[0m\n\u001b[0;32m----> 5\u001b[0;31m \u001b[0mresp\u001b[0m\u001b[0;34m.\u001b[0m\u001b[0mraise_for_status\u001b[0m\u001b[0;34m(\u001b[0m\u001b[0;34m)\u001b[0m\u001b[0;34m\u001b[0m\u001b[0;34m\u001b[0m\u001b[0m\n\u001b[0m",
            "\u001b[0;32m/usr/local/lib/python3.11/dist-packages/requests/models.py\u001b[0m in \u001b[0;36mraise_for_status\u001b[0;34m(self)\u001b[0m\n\u001b[1;32m   1022\u001b[0m \u001b[0;34m\u001b[0m\u001b[0m\n\u001b[1;32m   1023\u001b[0m         \u001b[0;32mif\u001b[0m \u001b[0mhttp_error_msg\u001b[0m\u001b[0;34m:\u001b[0m\u001b[0;34m\u001b[0m\u001b[0;34m\u001b[0m\u001b[0m\n\u001b[0;32m-> 1024\u001b[0;31m             \u001b[0;32mraise\u001b[0m \u001b[0mHTTPError\u001b[0m\u001b[0;34m(\u001b[0m\u001b[0mhttp_error_msg\u001b[0m\u001b[0;34m,\u001b[0m \u001b[0mresponse\u001b[0m\u001b[0;34m=\u001b[0m\u001b[0mself\u001b[0m\u001b[0;34m)\u001b[0m\u001b[0;34m\u001b[0m\u001b[0;34m\u001b[0m\u001b[0m\n\u001b[0m\u001b[1;32m   1025\u001b[0m \u001b[0;34m\u001b[0m\u001b[0m\n\u001b[1;32m   1026\u001b[0m     \u001b[0;32mdef\u001b[0m \u001b[0mclose\u001b[0m\u001b[0;34m(\u001b[0m\u001b[0mself\u001b[0m\u001b[0;34m)\u001b[0m\u001b[0;34m:\u001b[0m\u001b[0;34m\u001b[0m\u001b[0;34m\u001b[0m\u001b[0m\n",
            "\u001b[0;31mHTTPError\u001b[0m: 401 Client Error: Unauthorized for url: https://api.spoonacular.com/recipes/complexSearch?query=pasta&maxFat=25&number=2"
          ]
        }
      ]
    },
    {
      "cell_type": "markdown",
      "source": [
        "> 💡 This is a custom error from the `requests` library. You can check out how to implement these in the section about [custom errors](#scrollTo=E--ry4Xyl7LP)\n"
      ],
      "metadata": {
        "id": "XqxNYG8WYiPF"
      }
    },
    {
      "cell_type": "markdown",
      "source": [
        "### **Logical Errors**\n",
        "\n",
        "Sometimes, your code may not contain any syntax or runtime errors but could still have **human errors** such as logical errors, infinite loops, or incorrect calculations.\n",
        "\n",
        "These types of errors can be harder to spot because they don't always trigger exceptions but can still lead to unexpected results or poor performance.\n"
      ],
      "metadata": {
        "id": "OVBp9BqxCW5f"
      }
    },
    {
      "cell_type": "code",
      "source": [
        "# Logical errors leading to actual errors\n",
        "def average(numbers):\n",
        "  total = 0\n",
        "  for number in numbers:\n",
        "    total += number\n",
        "  return total / len(numbers)\n",
        "\n",
        "# Example\n",
        "numbers = [10, 20, 30]\n",
        "avg = average(numbers)\n",
        "print(\"The average is:\", avg)\n",
        "\n",
        "# Logical error example: Didn't consider the possibility of and empty list\n",
        "numbers = []\n",
        "avg = average(numbers)\n",
        "print(\"The average is:\", avg) # This will give us an ZeroDivisionError"
      ],
      "metadata": {
        "colab": {
          "base_uri": "https://localhost:8080/",
          "height": 332
        },
        "id": "JBpoY2LUthaq",
        "outputId": "f28dd4cc-93c8-4427-eaf5-9f73dce2b0aa"
      },
      "execution_count": 9,
      "outputs": [
        {
          "output_type": "stream",
          "name": "stdout",
          "text": [
            "The average is: 20.0\n"
          ]
        },
        {
          "output_type": "error",
          "ename": "ZeroDivisionError",
          "evalue": "division by zero",
          "traceback": [
            "\u001b[0;31m---------------------------------------------------------------------------\u001b[0m",
            "\u001b[0;31mZeroDivisionError\u001b[0m                         Traceback (most recent call last)",
            "\u001b[0;32m<ipython-input-9-07fb353cbf47>\u001b[0m in \u001b[0;36m<cell line: 0>\u001b[0;34m()\u001b[0m\n\u001b[1;32m     13\u001b[0m \u001b[0;31m# Logical error example: Didn't consider the possibility of and empty list\u001b[0m\u001b[0;34m\u001b[0m\u001b[0;34m\u001b[0m\u001b[0m\n\u001b[1;32m     14\u001b[0m \u001b[0mnumbers\u001b[0m \u001b[0;34m=\u001b[0m \u001b[0;34m[\u001b[0m\u001b[0;34m]\u001b[0m\u001b[0;34m\u001b[0m\u001b[0;34m\u001b[0m\u001b[0m\n\u001b[0;32m---> 15\u001b[0;31m \u001b[0mavg\u001b[0m \u001b[0;34m=\u001b[0m \u001b[0maverage\u001b[0m\u001b[0;34m(\u001b[0m\u001b[0mnumbers\u001b[0m\u001b[0;34m)\u001b[0m\u001b[0;34m\u001b[0m\u001b[0;34m\u001b[0m\u001b[0m\n\u001b[0m\u001b[1;32m     16\u001b[0m \u001b[0mprint\u001b[0m\u001b[0;34m(\u001b[0m\u001b[0;34m\"The average is:\"\u001b[0m\u001b[0;34m,\u001b[0m \u001b[0mavg\u001b[0m\u001b[0;34m)\u001b[0m \u001b[0;31m# This will give us an ZeroDivisionError\u001b[0m\u001b[0;34m\u001b[0m\u001b[0;34m\u001b[0m\u001b[0m\n",
            "\u001b[0;32m<ipython-input-9-07fb353cbf47>\u001b[0m in \u001b[0;36maverage\u001b[0;34m(numbers)\u001b[0m\n\u001b[1;32m      4\u001b[0m   \u001b[0;32mfor\u001b[0m \u001b[0mnumber\u001b[0m \u001b[0;32min\u001b[0m \u001b[0mnumbers\u001b[0m\u001b[0;34m:\u001b[0m\u001b[0;34m\u001b[0m\u001b[0;34m\u001b[0m\u001b[0m\n\u001b[1;32m      5\u001b[0m     \u001b[0mtotal\u001b[0m \u001b[0;34m+=\u001b[0m \u001b[0mnumber\u001b[0m\u001b[0;34m\u001b[0m\u001b[0;34m\u001b[0m\u001b[0m\n\u001b[0;32m----> 6\u001b[0;31m   \u001b[0;32mreturn\u001b[0m \u001b[0mtotal\u001b[0m \u001b[0;34m/\u001b[0m \u001b[0mlen\u001b[0m\u001b[0;34m(\u001b[0m\u001b[0mnumbers\u001b[0m\u001b[0;34m)\u001b[0m\u001b[0;34m\u001b[0m\u001b[0;34m\u001b[0m\u001b[0m\n\u001b[0m\u001b[1;32m      7\u001b[0m \u001b[0;34m\u001b[0m\u001b[0m\n\u001b[1;32m      8\u001b[0m \u001b[0;31m# Example\u001b[0m\u001b[0;34m\u001b[0m\u001b[0;34m\u001b[0m\u001b[0m\n",
            "\u001b[0;31mZeroDivisionError\u001b[0m: division by zero"
          ]
        }
      ]
    },
    {
      "cell_type": "markdown",
      "source": [
        "This code seems correct, but it contains a logical error. The `calculate_average` function calculates the sum of the numbers correctly, but it divides by the length of the list numbers even if the list is empty, which will result in a `ZeroDivisionError`.\n",
        "\n",
        "To fix this, we can check if the list is empty before performing the division and return 0 before any division is performed:\n"
      ],
      "metadata": {
        "id": "9xJwBsScwVaf"
      }
    },
    {
      "cell_type": "code",
      "source": [
        "def average_fixed(numbers):\n",
        "  if not numbers:\n",
        "    return 0  # Handle the case where the list is empty\n",
        "\n",
        "  total = 0\n",
        "  for number in numbers:\n",
        "    total += number\n",
        "  return total / len(numbers)\n",
        "\n",
        "# Examples\n",
        "numbers = [10, 20, 30]\n",
        "avg = average_fixed(numbers)\n",
        "print(\"The average is:\", avg)\n",
        "\n",
        "numbers = []\n",
        "avg = average_fixed(numbers)\n",
        "print(\"The average is:\", avg)"
      ],
      "metadata": {
        "colab": {
          "base_uri": "https://localhost:8080/"
        },
        "id": "IZzmHRVjxG7K",
        "outputId": "94b4bc6d-5015-4401-e064-274f66a85f98"
      },
      "execution_count": 10,
      "outputs": [
        {
          "output_type": "stream",
          "name": "stdout",
          "text": [
            "The average is: 20.0\n",
            "The average is: 0\n"
          ]
        }
      ]
    },
    {
      "cell_type": "markdown",
      "source": [
        "## **Manually Raising Exceptions (Additional Material)**\n",
        "\n",
        "> 📒 **NOTE:** This section requires some object-oriented programming (OOP) knowledge. Feel free to skip ahead and come back when you learn about inheritance in object-oriented programming.\n"
      ],
      "metadata": {
        "id": "DXiYBDZaxuFM"
      }
    },
    {
      "cell_type": "markdown",
      "source": [
        "There are times when you may need to deliberately raise an exception to signal an error or enforce certain conditions in your code.\n",
        "\n",
        "Python's `raise` statement allows you to manually trigger exceptions, either with built-in error types or custom ones. Let's look at some examples:\n"
      ],
      "metadata": {
        "id": "Ajzh4k9y0dc1"
      }
    },
    {
      "cell_type": "code",
      "source": [
        "# Raising a generic exception manually\n",
        "raise Exception('Error message')"
      ],
      "metadata": {
        "colab": {
          "base_uri": "https://localhost:8080/",
          "height": 159
        },
        "id": "97zVlEcfo-kz",
        "outputId": "664517fe-391e-4f76-8187-670bafa36563"
      },
      "execution_count": 11,
      "outputs": [
        {
          "output_type": "error",
          "ename": "Exception",
          "evalue": "Error message",
          "traceback": [
            "\u001b[0;31m---------------------------------------------------------------------------\u001b[0m",
            "\u001b[0;31mException\u001b[0m                                 Traceback (most recent call last)",
            "\u001b[0;32m<ipython-input-11-f685d5eeebe5>\u001b[0m in \u001b[0;36m<cell line: 0>\u001b[0;34m()\u001b[0m\n\u001b[1;32m      1\u001b[0m \u001b[0;31m# Raising a generic exception manually\u001b[0m\u001b[0;34m\u001b[0m\u001b[0;34m\u001b[0m\u001b[0m\n\u001b[0;32m----> 2\u001b[0;31m \u001b[0;32mraise\u001b[0m \u001b[0mException\u001b[0m\u001b[0;34m(\u001b[0m\u001b[0;34m'Error message'\u001b[0m\u001b[0;34m)\u001b[0m\u001b[0;34m\u001b[0m\u001b[0;34m\u001b[0m\u001b[0m\n\u001b[0m",
            "\u001b[0;31mException\u001b[0m: Error message"
          ]
        }
      ]
    },
    {
      "cell_type": "code",
      "source": [
        "# Raising a specific kind of exception\n",
        "raise NameError('Error message')"
      ],
      "metadata": {
        "colab": {
          "base_uri": "https://localhost:8080/",
          "height": 159
        },
        "id": "x2tmmwgpx3hB",
        "outputId": "15035153-c36e-4bab-ee0f-52d8dcb90100"
      },
      "execution_count": 12,
      "outputs": [
        {
          "output_type": "error",
          "ename": "NameError",
          "evalue": "Error message",
          "traceback": [
            "\u001b[0;31m---------------------------------------------------------------------------\u001b[0m",
            "\u001b[0;31mNameError\u001b[0m                                 Traceback (most recent call last)",
            "\u001b[0;32m<ipython-input-12-6989a6a230c0>\u001b[0m in \u001b[0;36m<cell line: 0>\u001b[0;34m()\u001b[0m\n\u001b[1;32m      1\u001b[0m \u001b[0;31m# Raising a specific kind of exception\u001b[0m\u001b[0;34m\u001b[0m\u001b[0;34m\u001b[0m\u001b[0m\n\u001b[0;32m----> 2\u001b[0;31m \u001b[0;32mraise\u001b[0m \u001b[0mNameError\u001b[0m\u001b[0;34m(\u001b[0m\u001b[0;34m'Error message'\u001b[0m\u001b[0;34m)\u001b[0m\u001b[0;34m\u001b[0m\u001b[0;34m\u001b[0m\u001b[0m\n\u001b[0m",
            "\u001b[0;31mNameError\u001b[0m: Error message"
          ]
        }
      ]
    },
    {
      "cell_type": "code",
      "source": [
        "# Raising errors based on different conditions\n",
        "def check_age(age):\n",
        "  if age < 0:\n",
        "    raise ValueError(\"Age cannot be negative.\")\n",
        "  elif age < 18:\n",
        "    raise PermissionError(\"You must be at least 18 years old.\")\n",
        "  else:\n",
        "    print(\"Access granted.\")\n",
        "\n",
        "# Example\n",
        "check_age(-5)"
      ],
      "metadata": {
        "colab": {
          "base_uri": "https://localhost:8080/",
          "height": 297
        },
        "id": "ZHSOFaHMpkms",
        "outputId": "3c5a1c22-ead0-439e-ee9f-f57be851883a"
      },
      "execution_count": 13,
      "outputs": [
        {
          "output_type": "error",
          "ename": "ValueError",
          "evalue": "Age cannot be negative.",
          "traceback": [
            "\u001b[0;31m---------------------------------------------------------------------------\u001b[0m",
            "\u001b[0;31mValueError\u001b[0m                                Traceback (most recent call last)",
            "\u001b[0;32m<ipython-input-13-94446da4d240>\u001b[0m in \u001b[0;36m<cell line: 0>\u001b[0;34m()\u001b[0m\n\u001b[1;32m      9\u001b[0m \u001b[0;34m\u001b[0m\u001b[0m\n\u001b[1;32m     10\u001b[0m \u001b[0;31m# Example\u001b[0m\u001b[0;34m\u001b[0m\u001b[0;34m\u001b[0m\u001b[0m\n\u001b[0;32m---> 11\u001b[0;31m \u001b[0mcheck_age\u001b[0m\u001b[0;34m(\u001b[0m\u001b[0;34m-\u001b[0m\u001b[0;36m5\u001b[0m\u001b[0;34m)\u001b[0m\u001b[0;34m\u001b[0m\u001b[0;34m\u001b[0m\u001b[0m\n\u001b[0m",
            "\u001b[0;32m<ipython-input-13-94446da4d240>\u001b[0m in \u001b[0;36mcheck_age\u001b[0;34m(age)\u001b[0m\n\u001b[1;32m      2\u001b[0m \u001b[0;32mdef\u001b[0m \u001b[0mcheck_age\u001b[0m\u001b[0;34m(\u001b[0m\u001b[0mage\u001b[0m\u001b[0;34m)\u001b[0m\u001b[0;34m:\u001b[0m\u001b[0;34m\u001b[0m\u001b[0;34m\u001b[0m\u001b[0m\n\u001b[1;32m      3\u001b[0m   \u001b[0;32mif\u001b[0m \u001b[0mage\u001b[0m \u001b[0;34m<\u001b[0m \u001b[0;36m0\u001b[0m\u001b[0;34m:\u001b[0m\u001b[0;34m\u001b[0m\u001b[0;34m\u001b[0m\u001b[0m\n\u001b[0;32m----> 4\u001b[0;31m     \u001b[0;32mraise\u001b[0m \u001b[0mValueError\u001b[0m\u001b[0;34m(\u001b[0m\u001b[0;34m\"Age cannot be negative.\"\u001b[0m\u001b[0;34m)\u001b[0m\u001b[0;34m\u001b[0m\u001b[0;34m\u001b[0m\u001b[0m\n\u001b[0m\u001b[1;32m      5\u001b[0m   \u001b[0;32melif\u001b[0m \u001b[0mage\u001b[0m \u001b[0;34m<\u001b[0m \u001b[0;36m18\u001b[0m\u001b[0;34m:\u001b[0m\u001b[0;34m\u001b[0m\u001b[0;34m\u001b[0m\u001b[0m\n\u001b[1;32m      6\u001b[0m     \u001b[0;32mraise\u001b[0m \u001b[0mPermissionError\u001b[0m\u001b[0;34m(\u001b[0m\u001b[0;34m\"You must be at least 18 years old.\"\u001b[0m\u001b[0;34m)\u001b[0m\u001b[0;34m\u001b[0m\u001b[0;34m\u001b[0m\u001b[0m\n",
            "\u001b[0;31mValueError\u001b[0m: Age cannot be negative."
          ]
        }
      ]
    },
    {
      "cell_type": "markdown",
      "source": [
        "**Explanation**\n",
        "\n",
        "1. **Manual Exception Raising**: The `check_age` function checks the `age` parameter. If `age` is less than 0, it raises a `ValueError`. If `age` is less than 18 but non-negative, it raises a `PermissionError`.\n",
        "\n",
        "2. **Using `raise` for Validation**: Raising these exceptions helps validate inputs and enforce rules (e.g., age restrictions) directly in the code.\n"
      ],
      "metadata": {
        "id": "cmxxS9HNqCsT"
      }
    },
    {
      "cell_type": "markdown",
      "source": [
        "### **Custom Errors**\n",
        "\n",
        "In some cases, the built-in errors provided by Python and libraries may not fully capture the specific issues you want to address in your program. Custom errors let you define exceptions that are tailored to your program's unique requirements.\n",
        "\n",
        "By creating custom error classes, you can generate more meaningful error messages and handle special cases that standard exceptions might overlook. This approach makes debugging easier and improves code clarity.\n",
        "\n",
        "<br>\n",
        "\n",
        "To create custom errors, we'll have to define a new class that **inherits** from the built-in `Exception` or other exception classes such as `ValueError`.\n"
      ],
      "metadata": {
        "id": "E--ry4Xyl7LP"
      }
    },
    {
      "cell_type": "code",
      "source": [
        "# Custom error for insufficient errors\n",
        "class InsufficientFundsError(Exception):\n",
        "  def __init__(self, balance, amount):\n",
        "    self.balance = balance\n",
        "    self.amount = amount\n",
        "    super().__init__(f\"Attempted to withdraw {amount}, but only {balance} is available.\")\n",
        "\n",
        "# A simple bank account class that raises the custom error\n",
        "class BankAccount:\n",
        "  def __init__(self, balance=0):\n",
        "    self.balance = balance\n",
        "\n",
        "  def deposit(self, amount):\n",
        "    if amount <= 0:\n",
        "      raise ValueError(\"Deposit amount must be positive.\")\n",
        "    self.balance += amount\n",
        "\n",
        "  def withdraw(self, amount):\n",
        "    if amount > self.balance:\n",
        "      raise InsufficientFundsError(self.balance, amount)\n",
        "    self.balance -= amount\n",
        "\n",
        "\n",
        "# Example usage\n",
        "account = BankAccount(100)\n",
        "account.withdraw(150)"
      ],
      "metadata": {
        "colab": {
          "base_uri": "https://localhost:8080/",
          "height": 297
        },
        "id": "k1xuqze5m_U1",
        "outputId": "a8a97ddf-043c-4176-a29c-82b5cc39c1b2"
      },
      "execution_count": 14,
      "outputs": [
        {
          "output_type": "error",
          "ename": "InsufficientFundsError",
          "evalue": "Attempted to withdraw 150, but only 100 is available.",
          "traceback": [
            "\u001b[0;31m---------------------------------------------------------------------------\u001b[0m",
            "\u001b[0;31mInsufficientFundsError\u001b[0m                    Traceback (most recent call last)",
            "\u001b[0;32m<ipython-input-14-51db648c80c2>\u001b[0m in \u001b[0;36m<cell line: 0>\u001b[0;34m()\u001b[0m\n\u001b[1;32m     24\u001b[0m \u001b[0;31m# Example usage\u001b[0m\u001b[0;34m\u001b[0m\u001b[0;34m\u001b[0m\u001b[0m\n\u001b[1;32m     25\u001b[0m \u001b[0maccount\u001b[0m \u001b[0;34m=\u001b[0m \u001b[0mBankAccount\u001b[0m\u001b[0;34m(\u001b[0m\u001b[0;36m100\u001b[0m\u001b[0;34m)\u001b[0m\u001b[0;34m\u001b[0m\u001b[0;34m\u001b[0m\u001b[0m\n\u001b[0;32m---> 26\u001b[0;31m \u001b[0maccount\u001b[0m\u001b[0;34m.\u001b[0m\u001b[0mwithdraw\u001b[0m\u001b[0;34m(\u001b[0m\u001b[0;36m150\u001b[0m\u001b[0;34m)\u001b[0m\u001b[0;34m\u001b[0m\u001b[0;34m\u001b[0m\u001b[0m\n\u001b[0m",
            "\u001b[0;32m<ipython-input-14-51db648c80c2>\u001b[0m in \u001b[0;36mwithdraw\u001b[0;34m(self, amount)\u001b[0m\n\u001b[1;32m     18\u001b[0m   \u001b[0;32mdef\u001b[0m \u001b[0mwithdraw\u001b[0m\u001b[0;34m(\u001b[0m\u001b[0mself\u001b[0m\u001b[0;34m,\u001b[0m \u001b[0mamount\u001b[0m\u001b[0;34m)\u001b[0m\u001b[0;34m:\u001b[0m\u001b[0;34m\u001b[0m\u001b[0;34m\u001b[0m\u001b[0m\n\u001b[1;32m     19\u001b[0m     \u001b[0;32mif\u001b[0m \u001b[0mamount\u001b[0m \u001b[0;34m>\u001b[0m \u001b[0mself\u001b[0m\u001b[0;34m.\u001b[0m\u001b[0mbalance\u001b[0m\u001b[0;34m:\u001b[0m\u001b[0;34m\u001b[0m\u001b[0;34m\u001b[0m\u001b[0m\n\u001b[0;32m---> 20\u001b[0;31m       \u001b[0;32mraise\u001b[0m \u001b[0mInsufficientFundsError\u001b[0m\u001b[0;34m(\u001b[0m\u001b[0mself\u001b[0m\u001b[0;34m.\u001b[0m\u001b[0mbalance\u001b[0m\u001b[0;34m,\u001b[0m \u001b[0mamount\u001b[0m\u001b[0;34m)\u001b[0m\u001b[0;34m\u001b[0m\u001b[0;34m\u001b[0m\u001b[0m\n\u001b[0m\u001b[1;32m     21\u001b[0m     \u001b[0mself\u001b[0m\u001b[0;34m.\u001b[0m\u001b[0mbalance\u001b[0m \u001b[0;34m-=\u001b[0m \u001b[0mamount\u001b[0m\u001b[0;34m\u001b[0m\u001b[0;34m\u001b[0m\u001b[0m\n\u001b[1;32m     22\u001b[0m \u001b[0;34m\u001b[0m\u001b[0m\n",
            "\u001b[0;31mInsufficientFundsError\u001b[0m: Attempted to withdraw 150, but only 100 is available."
          ]
        }
      ]
    },
    {
      "cell_type": "markdown",
      "source": [
        "**Explanation**\n",
        "\n",
        "1. **Custom Exception**: `InsufficientFundsError` is a custom exception that inherits from `Exception`. It includes a message that displays both the attempted withdrawal amount and the available balance.\n",
        "\n",
        "2. **BankAccount Class**: This class has `deposit` and `withdraw` methods. If the `withdraw` method is called with an amount greater than the balance, it raises an `InsufficientFundsError`.\n",
        "\n",
        "3. **Usage**: In the example usage, we attempt to withdraw more than the balance, triggering the custom exception.\n"
      ],
      "metadata": {
        "id": "4X4WMb7Eps2q"
      }
    },
    {
      "cell_type": "markdown",
      "source": [
        "## **Type Checking**\n",
        "\n",
        "Since Python is a **dynamically typed** language, it is extremely helpful to manually check the types of variables inside your program to minimize errors. Let's see how we can do that in Python.\n",
        "\n",
        "> 💡 **Dynamically Typed**: If a progam in dynamically typed, you don't need to declare variable types explicitly. The datatype of a variable is determined at runtime based on the assigned value, and you can reassign a variable to a different type without errors.\n"
      ],
      "metadata": {
        "id": "yrC2t-8fGB8t"
      }
    },
    {
      "cell_type": "markdown",
      "source": [
        "### **Example: User Input**\n",
        "\n",
        "Let's use a modified version of our `cube_app()` example from earlier as an example.\n",
        "\n",
        "The `cube_app_2()` function uses `input()` to get values from the user, but since `input()` always returns data as a string, it could lead to a `TypeError` when performing the cube operation (`user_input ** 3`).\n"
      ],
      "metadata": {
        "id": "HyqvJkIzyUm3"
      }
    },
    {
      "cell_type": "code",
      "source": [
        "def cube_app_2():\n",
        "  user_input = input(\"Enter a number to cube: \")\n",
        "  result = user_input ** 3  # This will raise a TypeError\n",
        "  print(f\"The cube of {user_input} is {result}\")"
      ],
      "metadata": {
        "id": "iRHHvyVQGIzF"
      },
      "execution_count": 15,
      "outputs": []
    },
    {
      "cell_type": "code",
      "source": [
        "cube_app_2()"
      ],
      "metadata": {
        "colab": {
          "base_uri": "https://localhost:8080/",
          "height": 263
        },
        "id": "msVHvRcrGNu_",
        "outputId": "24858abf-9cea-43ae-986d-ceb3827e4ee3"
      },
      "execution_count": 16,
      "outputs": [
        {
          "name": "stdout",
          "output_type": "stream",
          "text": [
            "Enter a number to cube: 12\n"
          ]
        },
        {
          "output_type": "error",
          "ename": "TypeError",
          "evalue": "unsupported operand type(s) for ** or pow(): 'str' and 'int'",
          "traceback": [
            "\u001b[0;31m---------------------------------------------------------------------------\u001b[0m",
            "\u001b[0;31mTypeError\u001b[0m                                 Traceback (most recent call last)",
            "\u001b[0;32m<ipython-input-16-7b84929eec0b>\u001b[0m in \u001b[0;36m<cell line: 0>\u001b[0;34m()\u001b[0m\n\u001b[0;32m----> 1\u001b[0;31m \u001b[0mcube_app_2\u001b[0m\u001b[0;34m(\u001b[0m\u001b[0;34m)\u001b[0m\u001b[0;34m\u001b[0m\u001b[0;34m\u001b[0m\u001b[0m\n\u001b[0m",
            "\u001b[0;32m<ipython-input-15-04368fd3c026>\u001b[0m in \u001b[0;36mcube_app_2\u001b[0;34m()\u001b[0m\n\u001b[1;32m      1\u001b[0m \u001b[0;32mdef\u001b[0m \u001b[0mcube_app_2\u001b[0m\u001b[0;34m(\u001b[0m\u001b[0;34m)\u001b[0m\u001b[0;34m:\u001b[0m\u001b[0;34m\u001b[0m\u001b[0;34m\u001b[0m\u001b[0m\n\u001b[1;32m      2\u001b[0m   \u001b[0muser_input\u001b[0m \u001b[0;34m=\u001b[0m \u001b[0minput\u001b[0m\u001b[0;34m(\u001b[0m\u001b[0;34m\"Enter a number to cube: \"\u001b[0m\u001b[0;34m)\u001b[0m\u001b[0;34m\u001b[0m\u001b[0;34m\u001b[0m\u001b[0m\n\u001b[0;32m----> 3\u001b[0;31m   \u001b[0mresult\u001b[0m \u001b[0;34m=\u001b[0m \u001b[0muser_input\u001b[0m \u001b[0;34m**\u001b[0m \u001b[0;36m3\u001b[0m  \u001b[0;31m# This will raise a TypeError\u001b[0m\u001b[0;34m\u001b[0m\u001b[0;34m\u001b[0m\u001b[0m\n\u001b[0m\u001b[1;32m      4\u001b[0m   \u001b[0mprint\u001b[0m\u001b[0;34m(\u001b[0m\u001b[0;34mf\"The cube of {user_input} is {result}\"\u001b[0m\u001b[0;34m)\u001b[0m\u001b[0;34m\u001b[0m\u001b[0;34m\u001b[0m\u001b[0m\n",
            "\u001b[0;31mTypeError\u001b[0m: unsupported operand type(s) for ** or pow(): 'str' and 'int'"
          ]
        }
      ]
    },
    {
      "cell_type": "markdown",
      "source": [
        "**Fixing the Error**\n",
        "\n",
        "To fix the issue, we need to:\n",
        "\n",
        "1. Verify the return type of `input()` since it always returns a *string*.\n",
        "\n",
        "2. Convert that string to a number (`int`, `float`, etc.) before performing the cube operation.\n",
        "\n",
        "Here's how to check types in Python:\n"
      ],
      "metadata": {
        "id": "61q_H8Ej038m"
      }
    },
    {
      "cell_type": "markdown",
      "source": [
        "### **`isinstance()`**\n",
        "\n",
        "`isinstance()` is a flexible way to check data types. It returns a *boolean* value based on whether an object matches a specified type.\n",
        "\n",
        "It supports checking for exact types, subtypes (via *inheritance*), and even multiple types at once.\n"
      ],
      "metadata": {
        "id": "9mRTp-c6Galu"
      }
    },
    {
      "cell_type": "code",
      "source": [
        "# Checking for exact types\n",
        "print(isinstance(1, int))\n",
        "print(isinstance(1.0, float))\n",
        "print(isinstance(\"hello\", str))\n",
        "print(isinstance([1, 2, 3], list))"
      ],
      "metadata": {
        "colab": {
          "base_uri": "https://localhost:8080/"
        },
        "id": "3tqQ5yahGZ74",
        "outputId": "857dab5f-88a7-4646-e16f-48f16fb8fc5c"
      },
      "execution_count": 17,
      "outputs": [
        {
          "output_type": "stream",
          "name": "stdout",
          "text": [
            "True\n",
            "True\n",
            "True\n",
            "True\n"
          ]
        }
      ]
    },
    {
      "cell_type": "markdown",
      "source": [
        "💡 **Dictionary keys**, **dictionary values**, and **lists** are all subtypes of **iterables**, which simply means they can be looped over. Even though, their exact data type is different.\n"
      ],
      "metadata": {
        "id": "Tlm8RZjLwdXJ"
      }
    },
    {
      "cell_type": "code",
      "source": [
        "# Checking for subtypes\n",
        "from typing import Iterable\n",
        "\n",
        "dict_2 = {\"a\": 1, \"b\": 2, \"c\": 3, \"d\": 4}\n",
        "keys = dict_2.keys()\n",
        "values = dict_2.values()\n",
        "lst = [1, 2, 3]\n",
        "\n",
        "print(isinstance(keys, Iterable))\n",
        "print(isinstance(values, Iterable))\n",
        "print(isinstance(lst, Iterable))"
      ],
      "metadata": {
        "colab": {
          "base_uri": "https://localhost:8080/"
        },
        "id": "mOYRug43wTLp",
        "outputId": "2683c596-8932-4fa2-a067-4ff7e8ba79eb"
      },
      "execution_count": 18,
      "outputs": [
        {
          "output_type": "stream",
          "name": "stdout",
          "text": [
            "True\n",
            "True\n",
            "True\n"
          ]
        }
      ]
    },
    {
      "cell_type": "markdown",
      "source": [
        "Checking against multiple types at once:\n"
      ],
      "metadata": {
        "id": "dywczmfagbZw"
      }
    },
    {
      "cell_type": "code",
      "source": [
        "x = 5.0\n",
        "print(isinstance(x, (int, float)))"
      ],
      "metadata": {
        "colab": {
          "base_uri": "https://localhost:8080/"
        },
        "id": "zALEL-Gxgjzx",
        "outputId": "6a15069f-d530-4366-863b-fb79f86e2cb5"
      },
      "execution_count": 19,
      "outputs": [
        {
          "output_type": "stream",
          "name": "stdout",
          "text": [
            "True\n"
          ]
        }
      ]
    },
    {
      "cell_type": "markdown",
      "source": [
        "📒 Although `type()` shows the exact type, `isinstance()` is generally preferred over `type()` for type checking because it supports inheritance, making it more flexible.\n",
        "\n",
        "[Here's a helpful explanation on Stack Overflow](https://stackoverflow.com/questions/1549801/what-are-the-differences-between-type-and-isinstance).\n"
      ],
      "metadata": {
        "id": "g0l5CbexxcnE"
      }
    },
    {
      "cell_type": "markdown",
      "source": [
        "### **How to Properly Check Types**\n",
        "\n",
        "A common approach for type checking is to use a conditional statement with the `isinstance()` function and handling it if the check fails.\n"
      ],
      "metadata": {
        "id": "g9cwaaM7Gc_j"
      }
    },
    {
      "cell_type": "code",
      "source": [
        "var_1 = [1, 2, 3, 4]\n",
        "\n",
        "# Type checking passed\n",
        "if not isinstance(var_1, Iterable):\n",
        "  print(f\"Expected an iterable, but got {type(var_1).__name__}.\")\n",
        "\n",
        "var_1 = 234.32\n",
        "\n",
        "# Type checking failed\n",
        "if not isinstance(var_1, Iterable):\n",
        "  print(f\"Expected an iterable, but got {type(var_1).__name__}. Handle the incorrect data type here...\")"
      ],
      "metadata": {
        "colab": {
          "base_uri": "https://localhost:8080/"
        },
        "id": "57xRh74IGmkI",
        "outputId": "f8e15f50-0251-4ec9-c350-9e666a8c2acd"
      },
      "execution_count": 20,
      "outputs": [
        {
          "output_type": "stream",
          "name": "stdout",
          "text": [
            "Expected an iterable, but got float. Handle the incorrect data type here...\n"
          ]
        }
      ]
    },
    {
      "cell_type": "markdown",
      "source": [
        "Now, let's apply this to our buggy `cube_app()` function and make it handle a wider range of user inputs.\n"
      ],
      "metadata": {
        "id": "QchEksnl9kOI"
      }
    },
    {
      "cell_type": "code",
      "source": [
        "def cube(x):\n",
        "  # Technically this is not necassary because we casted all our input to float but it's nice to have if you want to use it with something else\n",
        "  if not isinstance(x, (int, float)):\n",
        "    return None\n",
        "\n",
        "  return x ** 3\n",
        "\n",
        "\n",
        "def is_valid_input(user_input):\n",
        "  \"\"\"Check if input string is an integer or float.\"\"\"\n",
        "\n",
        "  if user_input.count(\".\") > 1:\n",
        "    return False\n",
        "\n",
        "  # Check if user input is a number string\n",
        "  return user_input.replace(\".\", \"\", 1).isdigit()\n",
        "\n",
        "\n",
        "def robust_cube_app():\n",
        "  user_input = \"\"\n",
        "\n",
        "  # Re-prompting the user for a new input every time something unexpected happens\n",
        "  while not is_valid_input(user_input):\n",
        "    user_input = input(\"Enter a number to cube: \").strip()\n",
        "\n",
        "  result = cube(float(user_input))\n",
        "  print(f\"The cube of {user_input} is {result}\")"
      ],
      "metadata": {
        "id": "8Obtd6oAe-dw"
      },
      "execution_count": 21,
      "outputs": []
    },
    {
      "cell_type": "code",
      "source": [
        "robust_cube_app()"
      ],
      "metadata": {
        "colab": {
          "base_uri": "https://localhost:8080/"
        },
        "id": "Gq3_3-9afiy9",
        "outputId": "42442c13-c847-40f8-8a65-166eec19bbf0"
      },
      "execution_count": 22,
      "outputs": [
        {
          "output_type": "stream",
          "name": "stdout",
          "text": [
            "Enter a number to cube: apple\n",
            "Enter a number to cube: 12.2.5\n",
            "Enter a number to cube: *\\\"()+-^\n",
            "Enter a number to cube:          \n",
            "Enter a number to cube: 10\n",
            "The cube of 10 is 1000.0\n"
          ]
        }
      ]
    },
    {
      "cell_type": "markdown",
      "source": [
        "As you can see, type checking makes our code more robust and user-friendly. By checking the type of inputs and handling it when the type is incorrect, we can prevent unexpected behavior and make debugging easier.\n"
      ],
      "metadata": {
        "id": "nO9rl5gplCSW"
      }
    },
    {
      "cell_type": "markdown",
      "source": [
        "## **Type Hints & Function Documentation**\n",
        "\n",
        "Type hints and function documentations (docstrings) are ***optional*** features in python that help you as a programmer and your tools (code editors) better understand the code and prevent or catch potential errors.\n"
      ],
      "metadata": {
        "id": "nQ18LxcjJH90"
      }
    },
    {
      "cell_type": "markdown",
      "source": [
        "### **Type Hints**\n",
        "\n",
        "Type hints let you annotate your code with the expected types of arguments and return values.\n",
        "\n",
        "For example, if a function takes two arguments:\n",
        "\n",
        "1. The first is a `string`, the second is an `integer`.\n",
        "\n",
        "2. The return value is a `string`.\n",
        "\n",
        "You'd write it like this:\n"
      ],
      "metadata": {
        "id": "87tpeu6uiwir"
      }
    },
    {
      "cell_type": "code",
      "source": [
        "def multiply_string(text: str, times: int) -> str:\n",
        "  return text * times"
      ],
      "metadata": {
        "id": "Bo9kwHmC92uW"
      },
      "execution_count": 23,
      "outputs": []
    },
    {
      "cell_type": "markdown",
      "source": [
        "🚨 You can also type hint variables. Although, there is no need to do this unless the datatype of such variable is extremely unclear:\n"
      ],
      "metadata": {
        "id": "HG6Ug3YLBpgW"
      }
    },
    {
      "cell_type": "code",
      "source": [
        "# Type hinting variables\n",
        "num_1: int = 1\n",
        "num_2: float = 1.0"
      ],
      "metadata": {
        "id": "YkFY44Bhwu10"
      },
      "execution_count": 24,
      "outputs": []
    },
    {
      "cell_type": "markdown",
      "source": [
        "If our function or variable can take or return multiple data types, we can use the `|` operator to separate multiple types:\n"
      ],
      "metadata": {
        "id": "qNBUE3h2qgfL"
      }
    },
    {
      "cell_type": "code",
      "source": [
        "# Multiple acceptable types\n",
        "def get_val_from_key(dictionary: dict, key: str) -> int | None:\n",
        "  return dictionary.get(key) # get() can either return an 'int' or 'None'\n",
        "\n",
        "def is_even(num: int | float) -> bool:\n",
        "  return num % 2 == 0"
      ],
      "metadata": {
        "id": "2f2x67BqrJT6"
      },
      "execution_count": 25,
      "outputs": []
    },
    {
      "cell_type": "markdown",
      "source": [
        "Type hints are completely optional and not strictly enforced at runtime. However, they offer several benefits:\n",
        "\n",
        "- **Self-documenting code**\n",
        "  \n",
        "  Clarifies what types are expected, improving readability.\n",
        "\n",
        "- **Better tooling support**\n",
        "\n",
        "  IDEs, autocompletion, and static type checkers like [pyright](https://github.com/microsoft/pyright) can catch type-related errors early and improve the coding experience.\n",
        "\n",
        "- **Easier understanding and refactoring**\n",
        "\n",
        "  Help others (and your future self) quickly understand the code, especially useful in larger projects or during refactoring.\n"
      ],
      "metadata": {
        "id": "w2MT4wW3-NV1"
      }
    },
    {
      "cell_type": "markdown",
      "source": [
        "Here are a couple more examples:\n"
      ],
      "metadata": {
        "id": "E6naI8VEdPhn"
      }
    },
    {
      "cell_type": "code",
      "source": [
        "from collections.abc import Callable\n",
        "from typing import Any\n",
        "\n",
        "# Parameter `func` expects a function or method. `args` and `kwargs` can be any data type\n",
        "def repeat_func(func: Callable, times: int, *args: Any, **kwargs: Any) -> None:\n",
        "  for _ in range(times):\n",
        "    rv = func(*args, **kwargs)\n",
        "    print(rv)\n",
        "\n",
        "\n",
        "repeat_func(cube, times=3, number=2)"
      ],
      "metadata": {
        "colab": {
          "base_uri": "https://localhost:8080/",
          "height": 297
        },
        "id": "iGMy2vP5r-QZ",
        "outputId": "df869b8f-2d10-49cc-ca34-e83a3699cc9d"
      },
      "execution_count": 26,
      "outputs": [
        {
          "output_type": "error",
          "ename": "TypeError",
          "evalue": "cube() got an unexpected keyword argument 'number'",
          "traceback": [
            "\u001b[0;31m---------------------------------------------------------------------------\u001b[0m",
            "\u001b[0;31mTypeError\u001b[0m                                 Traceback (most recent call last)",
            "\u001b[0;32m<ipython-input-26-9eab7d1d7ecd>\u001b[0m in \u001b[0;36m<cell line: 0>\u001b[0;34m()\u001b[0m\n\u001b[1;32m      9\u001b[0m \u001b[0;34m\u001b[0m\u001b[0m\n\u001b[1;32m     10\u001b[0m \u001b[0;34m\u001b[0m\u001b[0m\n\u001b[0;32m---> 11\u001b[0;31m \u001b[0mrepeat_func\u001b[0m\u001b[0;34m(\u001b[0m\u001b[0mcube\u001b[0m\u001b[0;34m,\u001b[0m \u001b[0mtimes\u001b[0m\u001b[0;34m=\u001b[0m\u001b[0;36m3\u001b[0m\u001b[0;34m,\u001b[0m \u001b[0mnumber\u001b[0m\u001b[0;34m=\u001b[0m\u001b[0;36m2\u001b[0m\u001b[0;34m)\u001b[0m\u001b[0;34m\u001b[0m\u001b[0;34m\u001b[0m\u001b[0m\n\u001b[0m",
            "\u001b[0;32m<ipython-input-26-9eab7d1d7ecd>\u001b[0m in \u001b[0;36mrepeat_func\u001b[0;34m(func, times, *args, **kwargs)\u001b[0m\n\u001b[1;32m      5\u001b[0m \u001b[0;32mdef\u001b[0m \u001b[0mrepeat_func\u001b[0m\u001b[0;34m(\u001b[0m\u001b[0mfunc\u001b[0m\u001b[0;34m:\u001b[0m \u001b[0mCallable\u001b[0m\u001b[0;34m,\u001b[0m \u001b[0mtimes\u001b[0m\u001b[0;34m:\u001b[0m \u001b[0mint\u001b[0m\u001b[0;34m,\u001b[0m \u001b[0;34m*\u001b[0m\u001b[0margs\u001b[0m\u001b[0;34m:\u001b[0m \u001b[0mAny\u001b[0m\u001b[0;34m,\u001b[0m \u001b[0;34m**\u001b[0m\u001b[0mkwargs\u001b[0m\u001b[0;34m:\u001b[0m \u001b[0mAny\u001b[0m\u001b[0;34m)\u001b[0m \u001b[0;34m->\u001b[0m \u001b[0;32mNone\u001b[0m\u001b[0;34m:\u001b[0m\u001b[0;34m\u001b[0m\u001b[0;34m\u001b[0m\u001b[0m\n\u001b[1;32m      6\u001b[0m   \u001b[0;32mfor\u001b[0m \u001b[0m_\u001b[0m \u001b[0;32min\u001b[0m \u001b[0mrange\u001b[0m\u001b[0;34m(\u001b[0m\u001b[0mtimes\u001b[0m\u001b[0;34m)\u001b[0m\u001b[0;34m:\u001b[0m\u001b[0;34m\u001b[0m\u001b[0;34m\u001b[0m\u001b[0m\n\u001b[0;32m----> 7\u001b[0;31m     \u001b[0mrv\u001b[0m \u001b[0;34m=\u001b[0m \u001b[0mfunc\u001b[0m\u001b[0;34m(\u001b[0m\u001b[0;34m*\u001b[0m\u001b[0margs\u001b[0m\u001b[0;34m,\u001b[0m \u001b[0;34m**\u001b[0m\u001b[0mkwargs\u001b[0m\u001b[0;34m)\u001b[0m\u001b[0;34m\u001b[0m\u001b[0;34m\u001b[0m\u001b[0m\n\u001b[0m\u001b[1;32m      8\u001b[0m     \u001b[0mprint\u001b[0m\u001b[0;34m(\u001b[0m\u001b[0mrv\u001b[0m\u001b[0;34m)\u001b[0m\u001b[0;34m\u001b[0m\u001b[0;34m\u001b[0m\u001b[0m\n\u001b[1;32m      9\u001b[0m \u001b[0;34m\u001b[0m\u001b[0m\n",
            "\u001b[0;31mTypeError\u001b[0m: cube() got an unexpected keyword argument 'number'"
          ]
        }
      ]
    },
    {
      "cell_type": "code",
      "source": [
        "import pandas as pd\n",
        "\n",
        "# Using data types from some python package\n",
        "def create_df(data: dict) -> pd.DataFrame:\n",
        "  return pd.DataFrame(data)\n",
        "\n",
        "\n",
        "data = {\n",
        "    'name': ['Alice', 'Bob', 'Charlie'],\n",
        "    'age': [25, 30, 35],\n",
        "    'city': ['New York', 'London', 'Paris']\n",
        "}\n",
        "\n",
        "df = create_df(data)\n",
        "df"
      ],
      "metadata": {
        "colab": {
          "base_uri": "https://localhost:8080/",
          "height": 143
        },
        "id": "zJVMLkYysCKM",
        "outputId": "22911ad6-3788-43cb-9364-0f92f4c6f685"
      },
      "execution_count": 27,
      "outputs": [
        {
          "output_type": "execute_result",
          "data": {
            "text/plain": [
              "      name  age      city\n",
              "0    Alice   25  New York\n",
              "1      Bob   30    London\n",
              "2  Charlie   35     Paris"
            ],
            "text/html": [
              "\n",
              "  <div id=\"df-326520ce-4ba9-49c6-b957-eb7e8813c97e\" class=\"colab-df-container\">\n",
              "    <div>\n",
              "<style scoped>\n",
              "    .dataframe tbody tr th:only-of-type {\n",
              "        vertical-align: middle;\n",
              "    }\n",
              "\n",
              "    .dataframe tbody tr th {\n",
              "        vertical-align: top;\n",
              "    }\n",
              "\n",
              "    .dataframe thead th {\n",
              "        text-align: right;\n",
              "    }\n",
              "</style>\n",
              "<table border=\"1\" class=\"dataframe\">\n",
              "  <thead>\n",
              "    <tr style=\"text-align: right;\">\n",
              "      <th></th>\n",
              "      <th>name</th>\n",
              "      <th>age</th>\n",
              "      <th>city</th>\n",
              "    </tr>\n",
              "  </thead>\n",
              "  <tbody>\n",
              "    <tr>\n",
              "      <th>0</th>\n",
              "      <td>Alice</td>\n",
              "      <td>25</td>\n",
              "      <td>New York</td>\n",
              "    </tr>\n",
              "    <tr>\n",
              "      <th>1</th>\n",
              "      <td>Bob</td>\n",
              "      <td>30</td>\n",
              "      <td>London</td>\n",
              "    </tr>\n",
              "    <tr>\n",
              "      <th>2</th>\n",
              "      <td>Charlie</td>\n",
              "      <td>35</td>\n",
              "      <td>Paris</td>\n",
              "    </tr>\n",
              "  </tbody>\n",
              "</table>\n",
              "</div>\n",
              "    <div class=\"colab-df-buttons\">\n",
              "\n",
              "  <div class=\"colab-df-container\">\n",
              "    <button class=\"colab-df-convert\" onclick=\"convertToInteractive('df-326520ce-4ba9-49c6-b957-eb7e8813c97e')\"\n",
              "            title=\"Convert this dataframe to an interactive table.\"\n",
              "            style=\"display:none;\">\n",
              "\n",
              "  <svg xmlns=\"http://www.w3.org/2000/svg\" height=\"24px\" viewBox=\"0 -960 960 960\">\n",
              "    <path d=\"M120-120v-720h720v720H120Zm60-500h600v-160H180v160Zm220 220h160v-160H400v160Zm0 220h160v-160H400v160ZM180-400h160v-160H180v160Zm440 0h160v-160H620v160ZM180-180h160v-160H180v160Zm440 0h160v-160H620v160Z\"/>\n",
              "  </svg>\n",
              "    </button>\n",
              "\n",
              "  <style>\n",
              "    .colab-df-container {\n",
              "      display:flex;\n",
              "      gap: 12px;\n",
              "    }\n",
              "\n",
              "    .colab-df-convert {\n",
              "      background-color: #E8F0FE;\n",
              "      border: none;\n",
              "      border-radius: 50%;\n",
              "      cursor: pointer;\n",
              "      display: none;\n",
              "      fill: #1967D2;\n",
              "      height: 32px;\n",
              "      padding: 0 0 0 0;\n",
              "      width: 32px;\n",
              "    }\n",
              "\n",
              "    .colab-df-convert:hover {\n",
              "      background-color: #E2EBFA;\n",
              "      box-shadow: 0px 1px 2px rgba(60, 64, 67, 0.3), 0px 1px 3px 1px rgba(60, 64, 67, 0.15);\n",
              "      fill: #174EA6;\n",
              "    }\n",
              "\n",
              "    .colab-df-buttons div {\n",
              "      margin-bottom: 4px;\n",
              "    }\n",
              "\n",
              "    [theme=dark] .colab-df-convert {\n",
              "      background-color: #3B4455;\n",
              "      fill: #D2E3FC;\n",
              "    }\n",
              "\n",
              "    [theme=dark] .colab-df-convert:hover {\n",
              "      background-color: #434B5C;\n",
              "      box-shadow: 0px 1px 3px 1px rgba(0, 0, 0, 0.15);\n",
              "      filter: drop-shadow(0px 1px 2px rgba(0, 0, 0, 0.3));\n",
              "      fill: #FFFFFF;\n",
              "    }\n",
              "  </style>\n",
              "\n",
              "    <script>\n",
              "      const buttonEl =\n",
              "        document.querySelector('#df-326520ce-4ba9-49c6-b957-eb7e8813c97e button.colab-df-convert');\n",
              "      buttonEl.style.display =\n",
              "        google.colab.kernel.accessAllowed ? 'block' : 'none';\n",
              "\n",
              "      async function convertToInteractive(key) {\n",
              "        const element = document.querySelector('#df-326520ce-4ba9-49c6-b957-eb7e8813c97e');\n",
              "        const dataTable =\n",
              "          await google.colab.kernel.invokeFunction('convertToInteractive',\n",
              "                                                    [key], {});\n",
              "        if (!dataTable) return;\n",
              "\n",
              "        const docLinkHtml = 'Like what you see? Visit the ' +\n",
              "          '<a target=\"_blank\" href=https://colab.research.google.com/notebooks/data_table.ipynb>data table notebook</a>'\n",
              "          + ' to learn more about interactive tables.';\n",
              "        element.innerHTML = '';\n",
              "        dataTable['output_type'] = 'display_data';\n",
              "        await google.colab.output.renderOutput(dataTable, element);\n",
              "        const docLink = document.createElement('div');\n",
              "        docLink.innerHTML = docLinkHtml;\n",
              "        element.appendChild(docLink);\n",
              "      }\n",
              "    </script>\n",
              "  </div>\n",
              "\n",
              "\n",
              "    <div id=\"df-5a1dcdb5-2b6a-4561-91cb-77c84d8adf87\">\n",
              "      <button class=\"colab-df-quickchart\" onclick=\"quickchart('df-5a1dcdb5-2b6a-4561-91cb-77c84d8adf87')\"\n",
              "                title=\"Suggest charts\"\n",
              "                style=\"display:none;\">\n",
              "\n",
              "<svg xmlns=\"http://www.w3.org/2000/svg\" height=\"24px\"viewBox=\"0 0 24 24\"\n",
              "     width=\"24px\">\n",
              "    <g>\n",
              "        <path d=\"M19 3H5c-1.1 0-2 .9-2 2v14c0 1.1.9 2 2 2h14c1.1 0 2-.9 2-2V5c0-1.1-.9-2-2-2zM9 17H7v-7h2v7zm4 0h-2V7h2v10zm4 0h-2v-4h2v4z\"/>\n",
              "    </g>\n",
              "</svg>\n",
              "      </button>\n",
              "\n",
              "<style>\n",
              "  .colab-df-quickchart {\n",
              "      --bg-color: #E8F0FE;\n",
              "      --fill-color: #1967D2;\n",
              "      --hover-bg-color: #E2EBFA;\n",
              "      --hover-fill-color: #174EA6;\n",
              "      --disabled-fill-color: #AAA;\n",
              "      --disabled-bg-color: #DDD;\n",
              "  }\n",
              "\n",
              "  [theme=dark] .colab-df-quickchart {\n",
              "      --bg-color: #3B4455;\n",
              "      --fill-color: #D2E3FC;\n",
              "      --hover-bg-color: #434B5C;\n",
              "      --hover-fill-color: #FFFFFF;\n",
              "      --disabled-bg-color: #3B4455;\n",
              "      --disabled-fill-color: #666;\n",
              "  }\n",
              "\n",
              "  .colab-df-quickchart {\n",
              "    background-color: var(--bg-color);\n",
              "    border: none;\n",
              "    border-radius: 50%;\n",
              "    cursor: pointer;\n",
              "    display: none;\n",
              "    fill: var(--fill-color);\n",
              "    height: 32px;\n",
              "    padding: 0;\n",
              "    width: 32px;\n",
              "  }\n",
              "\n",
              "  .colab-df-quickchart:hover {\n",
              "    background-color: var(--hover-bg-color);\n",
              "    box-shadow: 0 1px 2px rgba(60, 64, 67, 0.3), 0 1px 3px 1px rgba(60, 64, 67, 0.15);\n",
              "    fill: var(--button-hover-fill-color);\n",
              "  }\n",
              "\n",
              "  .colab-df-quickchart-complete:disabled,\n",
              "  .colab-df-quickchart-complete:disabled:hover {\n",
              "    background-color: var(--disabled-bg-color);\n",
              "    fill: var(--disabled-fill-color);\n",
              "    box-shadow: none;\n",
              "  }\n",
              "\n",
              "  .colab-df-spinner {\n",
              "    border: 2px solid var(--fill-color);\n",
              "    border-color: transparent;\n",
              "    border-bottom-color: var(--fill-color);\n",
              "    animation:\n",
              "      spin 1s steps(1) infinite;\n",
              "  }\n",
              "\n",
              "  @keyframes spin {\n",
              "    0% {\n",
              "      border-color: transparent;\n",
              "      border-bottom-color: var(--fill-color);\n",
              "      border-left-color: var(--fill-color);\n",
              "    }\n",
              "    20% {\n",
              "      border-color: transparent;\n",
              "      border-left-color: var(--fill-color);\n",
              "      border-top-color: var(--fill-color);\n",
              "    }\n",
              "    30% {\n",
              "      border-color: transparent;\n",
              "      border-left-color: var(--fill-color);\n",
              "      border-top-color: var(--fill-color);\n",
              "      border-right-color: var(--fill-color);\n",
              "    }\n",
              "    40% {\n",
              "      border-color: transparent;\n",
              "      border-right-color: var(--fill-color);\n",
              "      border-top-color: var(--fill-color);\n",
              "    }\n",
              "    60% {\n",
              "      border-color: transparent;\n",
              "      border-right-color: var(--fill-color);\n",
              "    }\n",
              "    80% {\n",
              "      border-color: transparent;\n",
              "      border-right-color: var(--fill-color);\n",
              "      border-bottom-color: var(--fill-color);\n",
              "    }\n",
              "    90% {\n",
              "      border-color: transparent;\n",
              "      border-bottom-color: var(--fill-color);\n",
              "    }\n",
              "  }\n",
              "</style>\n",
              "\n",
              "      <script>\n",
              "        async function quickchart(key) {\n",
              "          const quickchartButtonEl =\n",
              "            document.querySelector('#' + key + ' button');\n",
              "          quickchartButtonEl.disabled = true;  // To prevent multiple clicks.\n",
              "          quickchartButtonEl.classList.add('colab-df-spinner');\n",
              "          try {\n",
              "            const charts = await google.colab.kernel.invokeFunction(\n",
              "                'suggestCharts', [key], {});\n",
              "          } catch (error) {\n",
              "            console.error('Error during call to suggestCharts:', error);\n",
              "          }\n",
              "          quickchartButtonEl.classList.remove('colab-df-spinner');\n",
              "          quickchartButtonEl.classList.add('colab-df-quickchart-complete');\n",
              "        }\n",
              "        (() => {\n",
              "          let quickchartButtonEl =\n",
              "            document.querySelector('#df-5a1dcdb5-2b6a-4561-91cb-77c84d8adf87 button');\n",
              "          quickchartButtonEl.style.display =\n",
              "            google.colab.kernel.accessAllowed ? 'block' : 'none';\n",
              "        })();\n",
              "      </script>\n",
              "    </div>\n",
              "\n",
              "  <div id=\"id_b50d7381-1df0-47dc-82a9-7fae2d726333\">\n",
              "    <style>\n",
              "      .colab-df-generate {\n",
              "        background-color: #E8F0FE;\n",
              "        border: none;\n",
              "        border-radius: 50%;\n",
              "        cursor: pointer;\n",
              "        display: none;\n",
              "        fill: #1967D2;\n",
              "        height: 32px;\n",
              "        padding: 0 0 0 0;\n",
              "        width: 32px;\n",
              "      }\n",
              "\n",
              "      .colab-df-generate:hover {\n",
              "        background-color: #E2EBFA;\n",
              "        box-shadow: 0px 1px 2px rgba(60, 64, 67, 0.3), 0px 1px 3px 1px rgba(60, 64, 67, 0.15);\n",
              "        fill: #174EA6;\n",
              "      }\n",
              "\n",
              "      [theme=dark] .colab-df-generate {\n",
              "        background-color: #3B4455;\n",
              "        fill: #D2E3FC;\n",
              "      }\n",
              "\n",
              "      [theme=dark] .colab-df-generate:hover {\n",
              "        background-color: #434B5C;\n",
              "        box-shadow: 0px 1px 3px 1px rgba(0, 0, 0, 0.15);\n",
              "        filter: drop-shadow(0px 1px 2px rgba(0, 0, 0, 0.3));\n",
              "        fill: #FFFFFF;\n",
              "      }\n",
              "    </style>\n",
              "    <button class=\"colab-df-generate\" onclick=\"generateWithVariable('df')\"\n",
              "            title=\"Generate code using this dataframe.\"\n",
              "            style=\"display:none;\">\n",
              "\n",
              "  <svg xmlns=\"http://www.w3.org/2000/svg\" height=\"24px\"viewBox=\"0 0 24 24\"\n",
              "       width=\"24px\">\n",
              "    <path d=\"M7,19H8.4L18.45,9,17,7.55,7,17.6ZM5,21V16.75L18.45,3.32a2,2,0,0,1,2.83,0l1.4,1.43a1.91,1.91,0,0,1,.58,1.4,1.91,1.91,0,0,1-.58,1.4L9.25,21ZM18.45,9,17,7.55Zm-12,3A5.31,5.31,0,0,0,4.9,8.1,5.31,5.31,0,0,0,1,6.5,5.31,5.31,0,0,0,4.9,4.9,5.31,5.31,0,0,0,6.5,1,5.31,5.31,0,0,0,8.1,4.9,5.31,5.31,0,0,0,12,6.5,5.46,5.46,0,0,0,6.5,12Z\"/>\n",
              "  </svg>\n",
              "    </button>\n",
              "    <script>\n",
              "      (() => {\n",
              "      const buttonEl =\n",
              "        document.querySelector('#id_b50d7381-1df0-47dc-82a9-7fae2d726333 button.colab-df-generate');\n",
              "      buttonEl.style.display =\n",
              "        google.colab.kernel.accessAllowed ? 'block' : 'none';\n",
              "\n",
              "      buttonEl.onclick = () => {\n",
              "        google.colab.notebook.generateWithVariable('df');\n",
              "      }\n",
              "      })();\n",
              "    </script>\n",
              "  </div>\n",
              "\n",
              "    </div>\n",
              "  </div>\n"
            ],
            "application/vnd.google.colaboratory.intrinsic+json": {
              "type": "dataframe",
              "variable_name": "df",
              "summary": "{\n  \"name\": \"df\",\n  \"rows\": 3,\n  \"fields\": [\n    {\n      \"column\": \"name\",\n      \"properties\": {\n        \"dtype\": \"string\",\n        \"num_unique_values\": 3,\n        \"samples\": [\n          \"Alice\",\n          \"Bob\",\n          \"Charlie\"\n        ],\n        \"semantic_type\": \"\",\n        \"description\": \"\"\n      }\n    },\n    {\n      \"column\": \"age\",\n      \"properties\": {\n        \"dtype\": \"number\",\n        \"std\": 5,\n        \"min\": 25,\n        \"max\": 35,\n        \"num_unique_values\": 3,\n        \"samples\": [\n          25,\n          30,\n          35\n        ],\n        \"semantic_type\": \"\",\n        \"description\": \"\"\n      }\n    },\n    {\n      \"column\": \"city\",\n      \"properties\": {\n        \"dtype\": \"string\",\n        \"num_unique_values\": 3,\n        \"samples\": [\n          \"New York\",\n          \"London\",\n          \"Paris\"\n        ],\n        \"semantic_type\": \"\",\n        \"description\": \"\"\n      }\n    }\n  ]\n}"
            }
          },
          "metadata": {},
          "execution_count": 27
        }
      ]
    },
    {
      "cell_type": "markdown",
      "source": [
        "For more in-depth information on writing type hints, check out [Python's documentation](https://peps.python.org/pep-0484/)\n"
      ],
      "metadata": {
        "id": "K1RDuSP9dj7T"
      }
    },
    {
      "cell_type": "markdown",
      "source": [
        "### **Docstrings**\n",
        "\n",
        "Docstrings provide a standardized way to document Python functions, classes, and modules. They're written directly inside the definition using triple quotes (`'''` or `\"\"\"`) and can span multiple lines.\n",
        "\n",
        " Here's an example:\n"
      ],
      "metadata": {
        "id": "vVNXZ9nwYeFc"
      }
    },
    {
      "cell_type": "code",
      "source": [
        "def greet(name: str) -> str:\n",
        "  \"\"\"Return a friendly greeting with the given name.\"\"\"\n",
        "  return f\"Hello, {name}!\""
      ],
      "metadata": {
        "id": "22JafmmGEFx8"
      },
      "execution_count": 28,
      "outputs": []
    },
    {
      "cell_type": "markdown",
      "source": [
        "Although, there isn't a strict rule on how you should write your docstrings, there are a few common docstring styles:\n",
        "\n",
        "- [Google Style](https://github.com/google/styleguide/blob/gh-pages/pyguide.md#38-comments-and-docstrings)\n",
        "\n",
        "- [NumPy Style](https://numpydoc.readthedocs.io/en/latest/format.html#docstring-standard)\n",
        "\n",
        "- [reStructuredText Style](https://sphinx-rtd-tutorial.readthedocs.io/en/latest/docstrings.html)\n"
      ],
      "metadata": {
        "id": "91UFXRn5EGEX"
      }
    },
    {
      "cell_type": "code",
      "source": [
        "# Google Style Example\n",
        "def scream(some_string: str) -> None:\n",
        "  \"\"\"Scream out the input string.\n",
        "\n",
        "  Converts all characters in a string to uppercase to simulate screaming. The longer the string, the more exclamation marks will be added at the end.\n",
        "\n",
        "  Args:\n",
        "    some_string (str): The string to convert to uppercase.\n",
        "\n",
        "  Returns:\n",
        "    None\n",
        "\n",
        "  Raises:\n",
        "    TypeError: If the input is not a string.\n",
        "    ValueError: If the input is an empty string.\n",
        "\n",
        "  Examples:\n",
        "    >>> scream(\"go home denis, you are drunk\")\n",
        "    GO HOME DENIS, YOU ARE DRUNK!!!!!!!!!!!!!!\n",
        "  \"\"\"\n",
        "  if not isinstance(some_string, str):\n",
        "    raise TypeError(f\"Expected a string, instead got: {type(some_string)}\")\n",
        "\n",
        "  some_string = some_string.strip()\n",
        "\n",
        "  if not some_string:\n",
        "    raise ValueError(\"Expected a non-empty string\")\n",
        "\n",
        "  volume = max(len(some_string) // 2, 1)\n",
        "  print(f\"{some_string.upper()}{'!' * volume}\")"
      ],
      "metadata": {
        "id": "NijtRom7gfND"
      },
      "execution_count": 29,
      "outputs": []
    },
    {
      "cell_type": "markdown",
      "source": [
        "The docstring will show up in tooltips when you hover your mouse over the function in an IDE, and it can also be accessed using the built-in `help()` function like this:\n"
      ],
      "metadata": {
        "id": "vkOKcP3_FpdL"
      }
    },
    {
      "cell_type": "code",
      "source": [
        "help(scream)"
      ],
      "metadata": {
        "colab": {
          "base_uri": "https://localhost:8080/"
        },
        "id": "hDoyPX9hiPxW",
        "outputId": "cd4836b6-0524-464c-80f1-5b61ad62ba3a"
      },
      "execution_count": 30,
      "outputs": [
        {
          "output_type": "stream",
          "name": "stdout",
          "text": [
            "Help on function scream in module __main__:\n",
            "\n",
            "scream(some_string: str) -> None\n",
            "    Scream out the input string.\n",
            "    \n",
            "    Converts all characters in a string to uppercase to simulate screaming. The longer the string, the more exclamation marks will be added at the end.\n",
            "    \n",
            "    Args:\n",
            "      some_string (str): The string to convert to uppercase.\n",
            "    \n",
            "    Returns:\n",
            "      None\n",
            "    \n",
            "    Raises:\n",
            "      TypeError: If the input is not a string.\n",
            "      ValueError: If the input is an empty string.\n",
            "    \n",
            "    Examples:\n",
            "      >>> scream(\"go home denis, you are drunk\")\n",
            "      GO HOME DENIS, YOU ARE DRUNK!!!!!!!!!!!!!!\n",
            "\n"
          ]
        }
      ]
    },
    {
      "cell_type": "code",
      "source": [
        "# Try hovering your mouse over the the function name\n",
        "\n",
        "scream(\"Shhh\")\n",
        "scream(\"It's 10 past 12 already\")\n",
        "scream(\"Be quiet\")"
      ],
      "metadata": {
        "colab": {
          "base_uri": "https://localhost:8080/"
        },
        "id": "GlIXnnbfhihr",
        "outputId": "8eeea686-1c8c-4fa8-af1d-d43dc650e101"
      },
      "execution_count": 31,
      "outputs": [
        {
          "output_type": "stream",
          "name": "stdout",
          "text": [
            "SHHH!!\n",
            "IT'S 10 PAST 12 ALREADY!!!!!!!!!!!\n",
            "BE QUIET!!!!\n"
          ]
        }
      ]
    },
    {
      "cell_type": "markdown",
      "source": [
        "For more in-depth information on writing effective docstrings, check out this [article on docstrings](https://www.dataquest.io/blog/documenting-in-python-with-docstrings/).\n"
      ],
      "metadata": {
        "id": "5bC0WkyKfo4T"
      }
    },
    {
      "cell_type": "markdown",
      "source": [
        "## **Conclusion**  \n",
        "\n",
        "That's the end of our overview of errors and exceptions in Python! For further reading, check out these resources:  \n",
        "\n",
        "- [Python Documentation](https://docs.python.org/3/tutorial/errors.html)  \n",
        "- [GeeksforGeeks: Errors and Exceptions in Python](https://www.geeksforgeeks.org/errors-and-exceptions-in-python/)  \n",
        "\n",
        "<br>\n",
        "\n",
        "In our next session, we'll dive into effective error handling (including handling the errors we raise ourselves) and introduce testing to help you write more reliable code.\n"
      ],
      "metadata": {
        "id": "0FWnYbrQA6M1"
      }
    }
  ]
}