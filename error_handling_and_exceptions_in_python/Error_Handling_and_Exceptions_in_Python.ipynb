{
  "nbformat": 4,
  "nbformat_minor": 0,
  "metadata": {
    "colab": {
      "provenance": [],
      "toc_visible": true,
      "collapsed_sections": [
        "STnsuQR8Hr6w"
      ],
      "authorship_tag": "ABX9TyNlIRjv3ogk+D6Bdp7eis9U",
      "include_colab_link": true
    },
    "kernelspec": {
      "name": "python3",
      "display_name": "Python 3"
    },
    "language_info": {
      "name": "python"
    }
  },
  "cells": [
    {
      "cell_type": "markdown",
      "metadata": {
        "id": "view-in-github",
        "colab_type": "text"
      },
      "source": [
        "<a href=\"https://colab.research.google.com/github/kchenTTP/python-series/blob/main/error_handling_and_exceptions_in_python/Error_Handling_and_Exceptions_in_Python.ipynb\" target=\"_parent\"><img src=\"https://colab.research.google.com/assets/colab-badge.svg\" alt=\"Open In Colab\"/></a>"
      ]
    },
    {
      "cell_type": "markdown",
      "source": [
        "# **Error Handling and Exceptions in Python**\n",
        "\n",
        "In this class, we'll explore various types of Python errors, how they occur, and how to effectively handle them.\n",
        "\n",
        "**Table of Contents**\n",
        "\n",
        "- [Type Checking](#scrollTo=yrC2t-8fGB8t)\n",
        "- [Errors & Exceptions](#scrollTo=0GAHckPu7YV9)\n",
        "- [Handling Errors & Exceptions](#scrollTo=2-spc3mG9BiP)\n",
        "- [Testing Your Code](#scrollTo=22qEVIyKG_i0)\n"
      ],
      "metadata": {
        "id": "2zqFUEgCwaSx"
      }
    },
    {
      "cell_type": "markdown",
      "source": [
        "## **Type Checking**\n",
        "\n",
        "Before diving into the various types of errors and how to handle them, let's first explore how we can check for types in Python.\n",
        "\n",
        "Type checking is an essential practice that helps ensure the data you're working with matches the expected types to reduce the chances of errors later on.\n",
        "\n",
        "In this section, we'll cover how to check types effectively using tools like `isinstance()`.\n"
      ],
      "metadata": {
        "id": "yrC2t-8fGB8t"
      }
    },
    {
      "cell_type": "markdown",
      "source": [
        "### **Example: User Input**\n",
        "\n",
        "Let's consider an example where we interactively get user input to perform a mathematical calculation.\n",
        "\n",
        "The `cube_app()` function uses `input()` to get values from the user, but since `input()` always returns data as a string, it could lead to a `TypeError` when passed to the `cube()` function, which expects either an integer or a float.\n",
        "\n",
        "**Explanation**\n",
        "\n",
        "1. **User Input**: The `input()` function takes user input as a string. In the `cube_app()` function, this string is passed directly to the `cube()` function, which expects an integer or float.\n",
        "\n",
        "2. **Error Occurrence**: Since the string cannot be used in arithmetic operations, a `TypeError` is raised when we attempt to cube the string value.\n"
      ],
      "metadata": {
        "id": "HyqvJkIzyUm3"
      }
    },
    {
      "cell_type": "code",
      "source": [
        "# Example: Passing outputs of functions as arguments\n",
        "def cube(x: int | float) -> int | float:\n",
        "    return x ** 3\n",
        "\n",
        "def cube_app():\n",
        "    user_input = input(\"Enter a number to cube: \")\n",
        "    result = cube(user_input)  # This will raise a TypeError\n",
        "    print(f\"The cube of {user_input} is {result}\")"
      ],
      "metadata": {
        "id": "iRHHvyVQGIzF"
      },
      "execution_count": 1,
      "outputs": []
    },
    {
      "cell_type": "code",
      "source": [
        "cube_app()"
      ],
      "metadata": {
        "colab": {
          "base_uri": "https://localhost:8080/",
          "height": 304
        },
        "id": "msVHvRcrGNu_",
        "outputId": "0f3f6d29-ac78-4e78-9f9b-99595d5b84d5"
      },
      "execution_count": 2,
      "outputs": [
        {
          "name": "stdout",
          "output_type": "stream",
          "text": [
            "Enter a number to cube: 12\n"
          ]
        },
        {
          "output_type": "error",
          "ename": "TypeError",
          "evalue": "unsupported operand type(s) for ** or pow(): 'str' and 'int'",
          "traceback": [
            "\u001b[0;31m---------------------------------------------------------------------------\u001b[0m",
            "\u001b[0;31mTypeError\u001b[0m                                 Traceback (most recent call last)",
            "\u001b[0;32m<ipython-input-2-d19e733b10b7>\u001b[0m in \u001b[0;36m<cell line: 1>\u001b[0;34m()\u001b[0m\n\u001b[0;32m----> 1\u001b[0;31m \u001b[0mcube_app\u001b[0m\u001b[0;34m(\u001b[0m\u001b[0;34m)\u001b[0m\u001b[0;34m\u001b[0m\u001b[0;34m\u001b[0m\u001b[0m\n\u001b[0m",
            "\u001b[0;32m<ipython-input-1-8afdcb92a737>\u001b[0m in \u001b[0;36mcube_app\u001b[0;34m()\u001b[0m\n\u001b[1;32m      5\u001b[0m \u001b[0;32mdef\u001b[0m \u001b[0mcube_app\u001b[0m\u001b[0;34m(\u001b[0m\u001b[0;34m)\u001b[0m\u001b[0;34m:\u001b[0m\u001b[0;34m\u001b[0m\u001b[0;34m\u001b[0m\u001b[0m\n\u001b[1;32m      6\u001b[0m     \u001b[0muser_input\u001b[0m \u001b[0;34m=\u001b[0m \u001b[0minput\u001b[0m\u001b[0;34m(\u001b[0m\u001b[0;34m\"Enter a number to cube: \"\u001b[0m\u001b[0;34m)\u001b[0m\u001b[0;34m\u001b[0m\u001b[0;34m\u001b[0m\u001b[0m\n\u001b[0;32m----> 7\u001b[0;31m     \u001b[0mresult\u001b[0m \u001b[0;34m=\u001b[0m \u001b[0mcube\u001b[0m\u001b[0;34m(\u001b[0m\u001b[0muser_input\u001b[0m\u001b[0;34m)\u001b[0m  \u001b[0;31m# This will raise a TypeError\u001b[0m\u001b[0;34m\u001b[0m\u001b[0;34m\u001b[0m\u001b[0m\n\u001b[0m\u001b[1;32m      8\u001b[0m     \u001b[0mprint\u001b[0m\u001b[0;34m(\u001b[0m\u001b[0;34mf\"The cube of {user_input} is {result}\"\u001b[0m\u001b[0;34m)\u001b[0m\u001b[0;34m\u001b[0m\u001b[0;34m\u001b[0m\u001b[0m\n",
            "\u001b[0;32m<ipython-input-1-8afdcb92a737>\u001b[0m in \u001b[0;36mcube\u001b[0;34m(x)\u001b[0m\n\u001b[1;32m      1\u001b[0m \u001b[0;31m# Example: Passing outputs of functions as arguments\u001b[0m\u001b[0;34m\u001b[0m\u001b[0;34m\u001b[0m\u001b[0m\n\u001b[1;32m      2\u001b[0m \u001b[0;32mdef\u001b[0m \u001b[0mcube\u001b[0m\u001b[0;34m(\u001b[0m\u001b[0mx\u001b[0m\u001b[0;34m:\u001b[0m \u001b[0mint\u001b[0m \u001b[0;34m|\u001b[0m \u001b[0mfloat\u001b[0m\u001b[0;34m)\u001b[0m \u001b[0;34m->\u001b[0m \u001b[0mint\u001b[0m \u001b[0;34m|\u001b[0m \u001b[0mfloat\u001b[0m\u001b[0;34m:\u001b[0m\u001b[0;34m\u001b[0m\u001b[0;34m\u001b[0m\u001b[0m\n\u001b[0;32m----> 3\u001b[0;31m     \u001b[0;32mreturn\u001b[0m \u001b[0mx\u001b[0m \u001b[0;34m**\u001b[0m \u001b[0;36m3\u001b[0m\u001b[0;34m\u001b[0m\u001b[0;34m\u001b[0m\u001b[0m\n\u001b[0m\u001b[1;32m      4\u001b[0m \u001b[0;34m\u001b[0m\u001b[0m\n\u001b[1;32m      5\u001b[0m \u001b[0;32mdef\u001b[0m \u001b[0mcube_app\u001b[0m\u001b[0;34m(\u001b[0m\u001b[0;34m)\u001b[0m\u001b[0;34m:\u001b[0m\u001b[0;34m\u001b[0m\u001b[0;34m\u001b[0m\u001b[0m\n",
            "\u001b[0;31mTypeError\u001b[0m: unsupported operand type(s) for ** or pow(): 'str' and 'int'"
          ]
        }
      ]
    },
    {
      "cell_type": "markdown",
      "source": [
        "**Fixing the Error**\n",
        "\n",
        "To fix this issue, we can either check the type of data we're receiving and handle it accordingly, or we can convert the input data to the correct type before passing it into the `cube()` function.\n"
      ],
      "metadata": {
        "id": "61q_H8Ej038m"
      }
    },
    {
      "cell_type": "code",
      "source": [
        "def cube_app_fixed():\n",
        "    user_input = input(\"Enter a number to cube: \")\n",
        "    result = cube(float(user_input))\n",
        "    print(f\"The cube of {user_input} is {result}\")"
      ],
      "metadata": {
        "id": "5LJ5YkO61zaP"
      },
      "execution_count": 3,
      "outputs": []
    },
    {
      "cell_type": "code",
      "source": [
        "cube_app_fixed()"
      ],
      "metadata": {
        "colab": {
          "base_uri": "https://localhost:8080/"
        },
        "id": "taZZosfq2Exc",
        "outputId": "23a33da7-0330-4f59-c699-788eb221b639"
      },
      "execution_count": 4,
      "outputs": [
        {
          "output_type": "stream",
          "name": "stdout",
          "text": [
            "Enter a number to cube: 13\n",
            "The cube of 13 is 2197.0\n"
          ]
        }
      ]
    },
    {
      "cell_type": "markdown",
      "source": [
        "### **`type()`**\n",
        "\n",
        "To look at what the type of a piece of data is, we can use the `type()` function like this:\n"
      ],
      "metadata": {
        "id": "9jF1hfQ12WaK"
      }
    },
    {
      "cell_type": "code",
      "source": [
        "str_1 = \"A quick brown fox jumps over the lazy dog\"\n",
        "int_1 = 2023\n",
        "list_1 = [1, 2, 3, 4, 5]\n",
        "dict_1 = {\"a\": 1, \"b\": 2, \"c\": 3}\n",
        "\n",
        "print(type(str_1))\n",
        "print(type(int_1))\n",
        "print(type(list_1))\n",
        "print(type(dict_1))\n",
        "print(type(cube_app))"
      ],
      "metadata": {
        "colab": {
          "base_uri": "https://localhost:8080/"
        },
        "id": "aGB3DpWx2rpO",
        "outputId": "59664c5d-695d-4946-e4ac-d78cf352b619"
      },
      "execution_count": 5,
      "outputs": [
        {
          "output_type": "stream",
          "name": "stdout",
          "text": [
            "<class 'str'>\n",
            "<class 'int'>\n",
            "<class 'list'>\n",
            "<class 'dict'>\n",
            "<class 'function'>\n"
          ]
        }
      ]
    },
    {
      "cell_type": "markdown",
      "source": [
        "It is, however, not recommended to use `type()` to check for datatypes when performing type checking. Here are some reasons:\n",
        "\n",
        "<br>\n",
        "\n",
        "**Limited to Exact Types**\n",
        "\n",
        "`type()` only checks for the exact type of an object, which may not be flexible enough in many cases.\n",
        "\n",
        "<br>\n",
        "\n",
        "For example:\n",
        "\n",
        "both `int` and `float` are derived from the `Number` type but since they are not exactly the same, `type()` will return a `False`.\n"
      ],
      "metadata": {
        "id": "EUdYaz9CGTI7"
      }
    },
    {
      "cell_type": "code",
      "source": [
        "from numbers import Number\n",
        "\n",
        "print(type(1.0) == float)\n",
        "print(type(1) == int)\n",
        "print(type(1.0) == Number)\n",
        "print(type(1) == Number)"
      ],
      "metadata": {
        "colab": {
          "base_uri": "https://localhost:8080/"
        },
        "id": "R--pvkdq4nxN",
        "outputId": "1d7dffb8-29bb-4537-a98d-ba1dc290726a"
      },
      "execution_count": 6,
      "outputs": [
        {
          "output_type": "stream",
          "name": "stdout",
          "text": [
            "True\n",
            "True\n",
            "False\n",
            "False\n"
          ]
        }
      ]
    },
    {
      "cell_type": "markdown",
      "source": [
        "**Doesn't Support Class Derived from Other Classes (Inheritance)**\n",
        "\n",
        "If you're working with class hierarchies (inheritance), `type()` won't recognize subclass relationships.\n",
        "\n",
        "Similar to the previous example, Since `dict_keys`, `dict_values`, and `list` are all inherited from `Iterable` but `type()` cannont recognize that.\n"
      ],
      "metadata": {
        "id": "5v8P2zxn5EQ_"
      }
    },
    {
      "cell_type": "code",
      "source": [
        "d = {\"a\": 1, \"b\": 2, \"c\": 3}\n",
        "l = [1, 2, 3]\n",
        "keys = d.keys()\n",
        "values = d.values()\n",
        "\n",
        "print(\"----\", \"Type\", \"----\")\n",
        "print(type(keys))\n",
        "print(type(values))\n",
        "print(type(l))\n",
        "\n",
        "# They are all Iterables with similar characteristics\n",
        "print(\"----\", \"Characteristics: len()\", \"----\")\n",
        "print(len(keys))\n",
        "print(len(values))\n",
        "print(len(l))\n",
        "\n",
        "# They all share similar functions and usage\n",
        "print(\"----\", \"Characteristics: in\", \"----\")\n",
        "print('a' in keys)\n",
        "print(1 in values)\n",
        "print(1 in l)"
      ],
      "metadata": {
        "colab": {
          "base_uri": "https://localhost:8080/"
        },
        "id": "mz0yPUw15OhS",
        "outputId": "bed785e2-ab7b-4f47-e90e-05031e585db3"
      },
      "execution_count": 7,
      "outputs": [
        {
          "output_type": "stream",
          "name": "stdout",
          "text": [
            "---- Type ----\n",
            "<class 'dict_keys'>\n",
            "<class 'dict_values'>\n",
            "<class 'list'>\n",
            "---- Characteristics: len() ----\n",
            "3\n",
            "3\n",
            "3\n",
            "---- Characteristics: in ----\n",
            "True\n",
            "True\n",
            "True\n"
          ]
        }
      ]
    },
    {
      "cell_type": "code",
      "source": [
        "from collections.abc import Iterable\n",
        "\n",
        "# They are all Iterables with similar characteristics but they all fail this kind of type checking\n",
        "print(\"----\", \"Incorrect Type Checking\", \"----\")\n",
        "print(type(keys) == Iterable)\n",
        "print(type(values) == Iterable)\n",
        "print(type(l) == Iterable)\n",
        "print()\n",
        "\n",
        "# We have to nail down the exact types to actually check them\n",
        "print(\"----\", \"Inflexible Type Checking\", \"----\")\n",
        "print(type(keys) == type({}.keys()))\n",
        "print(type(values) == type({}.values()))\n",
        "print(type(l) == list)"
      ],
      "metadata": {
        "colab": {
          "base_uri": "https://localhost:8080/"
        },
        "id": "uHilpkSYGYMm",
        "outputId": "26390735-34d0-45b1-bf16-aba282730ef8"
      },
      "execution_count": 8,
      "outputs": [
        {
          "output_type": "stream",
          "name": "stdout",
          "text": [
            "---- Incorrect Type Checking ----\n",
            "False\n",
            "False\n",
            "False\n",
            "\n",
            "---- Inflexible Type Checking ----\n",
            "True\n",
            "True\n",
            "True\n"
          ]
        }
      ]
    },
    {
      "cell_type": "markdown",
      "source": [
        "To aviod these issues, we can instead leverage the better alternative: `isinstance()` to perform type checking for us."
      ],
      "metadata": {
        "id": "GPBcpliWf9np"
      }
    },
    {
      "cell_type": "markdown",
      "source": [
        "### **`isinstance()`**\n",
        "\n",
        "`isinstance()` is a more flexible and recommended approach for type checking. It supports inheritance and allows you to check for multiple types at once.\n",
        "\n",
        "> 💡 In general, `isinstance()` is preferred over `type()` when performing type checking.\n"
      ],
      "metadata": {
        "id": "9mRTp-c6Galu"
      }
    },
    {
      "cell_type": "code",
      "source": [
        "# Better way of doing type checking\n",
        "print(isinstance(keys, Iterable))\n",
        "print(isinstance(values, Iterable))\n",
        "print(isinstance(l, Iterable))"
      ],
      "metadata": {
        "colab": {
          "base_uri": "https://localhost:8080/"
        },
        "id": "3tqQ5yahGZ74",
        "outputId": "500d413a-ec36-4841-abfd-1cf0cd87a846"
      },
      "execution_count": 9,
      "outputs": [
        {
          "output_type": "stream",
          "name": "stdout",
          "text": [
            "True\n",
            "True\n",
            "True\n"
          ]
        }
      ]
    },
    {
      "cell_type": "markdown",
      "source": [
        "You can also check for multiple types at once like this:\n"
      ],
      "metadata": {
        "id": "dywczmfagbZw"
      }
    },
    {
      "cell_type": "code",
      "source": [
        "x = 5.0\n",
        "print(isinstance(x, (int, float)))"
      ],
      "metadata": {
        "colab": {
          "base_uri": "https://localhost:8080/"
        },
        "id": "zALEL-Gxgjzx",
        "outputId": "378108bc-9064-4751-c848-d4bb2827e582"
      },
      "execution_count": 10,
      "outputs": [
        {
          "output_type": "stream",
          "name": "stdout",
          "text": [
            "True\n"
          ]
        }
      ]
    },
    {
      "cell_type": "markdown",
      "source": [
        "### **How to Properly Check Types**\n",
        "\n",
        "A common approach for type checking is to use a conditional statement with the `isinstance()` function and manually raise an error if the check fails. Here's how you can use it and some of its benefits:\n",
        "\n",
        "- **Using `isinstance()` with a Conditional**: The `isinstance()` function checks if `var_1` is an instance of Iterable. If not, it raises an error or prints an error message, depending on how you choose to handle it.\n",
        "\n",
        "- **Flexibility**: This approach allows for customized error messages and more complex handling if needed.\n",
        "\n"
      ],
      "metadata": {
        "id": "g9cwaaM7Gc_j"
      }
    },
    {
      "cell_type": "code",
      "source": [
        "var_1 = [1, 2, 3, 4]\n",
        "\n",
        "# You can choose to raise an error if the type check failed\n",
        "if not isinstance(var_1, Iterable):\n",
        "  raise TypeError(f\"Expected an iterable, but got {type(var_1).__name__}.\")\n",
        "\n",
        "var_1 = 234.32\n",
        "\n",
        "# Or handle the error by either logging it or do something with it\n",
        "if not isinstance(var_1, Iterable):\n",
        "  print(\"Error: Expected an iterable.\")"
      ],
      "metadata": {
        "colab": {
          "base_uri": "https://localhost:8080/"
        },
        "id": "57xRh74IGmkI",
        "outputId": "0cdcf572-15b3-4451-a6bc-d7a92492356f"
      },
      "execution_count": 11,
      "outputs": [
        {
          "output_type": "stream",
          "name": "stdout",
          "text": [
            "Error: Expected an iterable.\n"
          ]
        }
      ]
    },
    {
      "cell_type": "markdown",
      "source": [
        "Alternatively, you can use the `assert` keyword, which is commonly used for testing and debugging. `assert` will raise an `AssertionError` if the condition is False.\n",
        "\n",
        "> 📒 **Suitability for Testing**\n",
        ">\n",
        "> `assert` is particularly useful during testing because it stops the program if a condition is violated, alerting you to issues in your code logic or data handling.\n",
        "\n"
      ],
      "metadata": {
        "id": "eFdAakf2Gp5c"
      }
    },
    {
      "cell_type": "code",
      "source": [
        "var_1 = [1, 2, 3, 4]\n",
        "\n",
        "print(isinstance(var_1, Iterable))  # Prints: True\n",
        "assert isinstance(var_1, Iterable), f\"Error: Expected an iterable, but got {type(var_1).__name__}.\"\n",
        "\n",
        "var_1 = 234.32\n",
        "\n",
        "print(isinstance(var_1, Iterable))  # Prints: False\n",
        "assert isinstance(var_1, Iterable), f\"Error: Expected an iterable, but got {type(var_1).__name__}.\""
      ],
      "metadata": {
        "colab": {
          "base_uri": "https://localhost:8080/",
          "height": 211
        },
        "id": "s2dTR-XBGq0q",
        "outputId": "e43576f7-bb7b-4189-b2e3-3b2690fd98e2"
      },
      "execution_count": 12,
      "outputs": [
        {
          "output_type": "stream",
          "name": "stdout",
          "text": [
            "True\n",
            "False\n"
          ]
        },
        {
          "output_type": "error",
          "ename": "AssertionError",
          "evalue": "Error: Expected an iterable, but got float.",
          "traceback": [
            "\u001b[0;31m---------------------------------------------------------------------------\u001b[0m",
            "\u001b[0;31mAssertionError\u001b[0m                            Traceback (most recent call last)",
            "\u001b[0;32m<ipython-input-12-d3cb58ec8af6>\u001b[0m in \u001b[0;36m<cell line: 9>\u001b[0;34m()\u001b[0m\n\u001b[1;32m      7\u001b[0m \u001b[0;34m\u001b[0m\u001b[0m\n\u001b[1;32m      8\u001b[0m \u001b[0mprint\u001b[0m\u001b[0;34m(\u001b[0m\u001b[0misinstance\u001b[0m\u001b[0;34m(\u001b[0m\u001b[0mvar_1\u001b[0m\u001b[0;34m,\u001b[0m \u001b[0mIterable\u001b[0m\u001b[0;34m)\u001b[0m\u001b[0;34m)\u001b[0m  \u001b[0;31m# Prints: False\u001b[0m\u001b[0;34m\u001b[0m\u001b[0;34m\u001b[0m\u001b[0m\n\u001b[0;32m----> 9\u001b[0;31m \u001b[0;32massert\u001b[0m \u001b[0misinstance\u001b[0m\u001b[0;34m(\u001b[0m\u001b[0mvar_1\u001b[0m\u001b[0;34m,\u001b[0m \u001b[0mIterable\u001b[0m\u001b[0;34m)\u001b[0m\u001b[0;34m,\u001b[0m \u001b[0;34mf\"Error: Expected an iterable, but got {type(var_1).__name__}.\"\u001b[0m\u001b[0;34m\u001b[0m\u001b[0;34m\u001b[0m\u001b[0m\n\u001b[0m",
            "\u001b[0;31mAssertionError\u001b[0m: Error: Expected an iterable, but got float."
          ]
        }
      ]
    },
    {
      "cell_type": "markdown",
      "source": [
        "## **Errors & Exceptions**\n",
        "\n",
        "In this section, we'll dive into common types of errors in Python, including syntax errors, runtime errors, and logical errors. We'll also cover how exceptions work, why they occur, and how they can be identified in code.\n",
        "\n",
        "For more details, see the official [Python Documentation on Errors and Exceptions](https://docs.python.org/3/tutorial/errors.html).\n"
      ],
      "metadata": {
        "id": "0GAHckPu7YV9"
      }
    },
    {
      "cell_type": "markdown",
      "source": [
        "### **Syntax Errors**\n",
        "\n",
        "Syntax errors occur when the Python interpreter detects incorrect syntax in the code.\n"
      ],
      "metadata": {
        "id": "D-Ay2McW8iIe"
      }
    },
    {
      "cell_type": "code",
      "source": [
        "while True print('Hello world')"
      ],
      "metadata": {
        "colab": {
          "base_uri": "https://localhost:8080/",
          "height": 106
        },
        "id": "N33MPjSO73tk",
        "outputId": "1cf7f460-80d2-474b-b314-b3ecea868a6f"
      },
      "execution_count": 13,
      "outputs": [
        {
          "output_type": "error",
          "ename": "SyntaxError",
          "evalue": "invalid syntax (<ipython-input-13-2b688bc740d7>, line 1)",
          "traceback": [
            "\u001b[0;36m  File \u001b[0;32m\"<ipython-input-13-2b688bc740d7>\"\u001b[0;36m, line \u001b[0;32m1\u001b[0m\n\u001b[0;31m    while True print('Hello world')\u001b[0m\n\u001b[0m               ^\u001b[0m\n\u001b[0;31mSyntaxError\u001b[0m\u001b[0;31m:\u001b[0m invalid syntax\n"
          ]
        }
      ]
    },
    {
      "cell_type": "markdown",
      "source": [
        "> 💡 Being good at reading and understanding error messages is key to efficient debugging. Learning to interpret these messages will help you identify the source of issues quickly and make it easier to resolve them effectively.\n"
      ],
      "metadata": {
        "id": "3FO9TLEJkpsp"
      }
    },
    {
      "cell_type": "markdown",
      "source": [
        "### **Runtime Errors (Exceptions)**\n",
        "\n",
        "In this section, we'll focus on runtime errors, or exceptions. These errors occur while a program is running. We'll explore various types of exceptions, how they interrupt code execution, and how to handle them to maintain program stability.\n"
      ],
      "metadata": {
        "id": "hacqvX2G8nfn"
      }
    },
    {
      "cell_type": "code",
      "source": [
        "# NameError\n",
        "nonexistent_var * 3"
      ],
      "metadata": {
        "colab": {
          "base_uri": "https://localhost:8080/",
          "height": 159
        },
        "id": "DlZAB8jS85T1",
        "outputId": "ee578cb6-82e2-41cc-825a-49c8fc2780c2"
      },
      "execution_count": 14,
      "outputs": [
        {
          "output_type": "error",
          "ename": "NameError",
          "evalue": "name 'nonexistent_var' is not defined",
          "traceback": [
            "\u001b[0;31m---------------------------------------------------------------------------\u001b[0m",
            "\u001b[0;31mNameError\u001b[0m                                 Traceback (most recent call last)",
            "\u001b[0;32m<ipython-input-14-a784b3359eaa>\u001b[0m in \u001b[0;36m<cell line: 2>\u001b[0;34m()\u001b[0m\n\u001b[1;32m      1\u001b[0m \u001b[0;31m# NameError\u001b[0m\u001b[0;34m\u001b[0m\u001b[0;34m\u001b[0m\u001b[0m\n\u001b[0;32m----> 2\u001b[0;31m \u001b[0mnonexistent_var\u001b[0m \u001b[0;34m*\u001b[0m \u001b[0;36m3\u001b[0m\u001b[0;34m\u001b[0m\u001b[0;34m\u001b[0m\u001b[0m\n\u001b[0m",
            "\u001b[0;31mNameError\u001b[0m: name 'nonexistent_var' is not defined"
          ]
        }
      ]
    },
    {
      "cell_type": "code",
      "source": [
        "# TypeError\n",
        "'2' + 2"
      ],
      "metadata": {
        "colab": {
          "base_uri": "https://localhost:8080/",
          "height": 159
        },
        "id": "JJBU467f8-Qo",
        "outputId": "c9798ee8-7655-44aa-d1b9-0b19a32bbba2"
      },
      "execution_count": 15,
      "outputs": [
        {
          "output_type": "error",
          "ename": "TypeError",
          "evalue": "can only concatenate str (not \"int\") to str",
          "traceback": [
            "\u001b[0;31m---------------------------------------------------------------------------\u001b[0m",
            "\u001b[0;31mTypeError\u001b[0m                                 Traceback (most recent call last)",
            "\u001b[0;32m<ipython-input-15-9b4afe85d229>\u001b[0m in \u001b[0;36m<cell line: 2>\u001b[0;34m()\u001b[0m\n\u001b[1;32m      1\u001b[0m \u001b[0;31m# TypeError\u001b[0m\u001b[0;34m\u001b[0m\u001b[0;34m\u001b[0m\u001b[0m\n\u001b[0;32m----> 2\u001b[0;31m \u001b[0;34m'2'\u001b[0m \u001b[0;34m+\u001b[0m \u001b[0;36m2\u001b[0m\u001b[0;34m\u001b[0m\u001b[0;34m\u001b[0m\u001b[0m\n\u001b[0m",
            "\u001b[0;31mTypeError\u001b[0m: can only concatenate str (not \"int\") to str"
          ]
        }
      ]
    },
    {
      "cell_type": "code",
      "source": [
        "# KeyError\n",
        "d2 = {\"a\": 1, \"b\": 2, \"c\": 3}\n",
        "d2[\"d\"]"
      ],
      "metadata": {
        "colab": {
          "base_uri": "https://localhost:8080/",
          "height": 176
        },
        "id": "6j34acK0xRRS",
        "outputId": "14b6450b-8b47-45ec-fdf5-70a057729dcb"
      },
      "execution_count": 16,
      "outputs": [
        {
          "output_type": "error",
          "ename": "KeyError",
          "evalue": "'d'",
          "traceback": [
            "\u001b[0;31m---------------------------------------------------------------------------\u001b[0m",
            "\u001b[0;31mKeyError\u001b[0m                                  Traceback (most recent call last)",
            "\u001b[0;32m<ipython-input-16-d737b5de923d>\u001b[0m in \u001b[0;36m<cell line: 3>\u001b[0;34m()\u001b[0m\n\u001b[1;32m      1\u001b[0m \u001b[0;31m# KeyError\u001b[0m\u001b[0;34m\u001b[0m\u001b[0;34m\u001b[0m\u001b[0m\n\u001b[1;32m      2\u001b[0m \u001b[0md2\u001b[0m \u001b[0;34m=\u001b[0m \u001b[0;34m{\u001b[0m\u001b[0;34m\"a\"\u001b[0m\u001b[0;34m:\u001b[0m \u001b[0;36m1\u001b[0m\u001b[0;34m,\u001b[0m \u001b[0;34m\"b\"\u001b[0m\u001b[0;34m:\u001b[0m \u001b[0;36m2\u001b[0m\u001b[0;34m,\u001b[0m \u001b[0;34m\"c\"\u001b[0m\u001b[0;34m:\u001b[0m \u001b[0;36m3\u001b[0m\u001b[0;34m}\u001b[0m\u001b[0;34m\u001b[0m\u001b[0;34m\u001b[0m\u001b[0m\n\u001b[0;32m----> 3\u001b[0;31m \u001b[0md2\u001b[0m\u001b[0;34m[\u001b[0m\u001b[0;34m\"d\"\u001b[0m\u001b[0;34m]\u001b[0m\u001b[0;34m\u001b[0m\u001b[0;34m\u001b[0m\u001b[0m\n\u001b[0m",
            "\u001b[0;31mKeyError\u001b[0m: 'd'"
          ]
        }
      ]
    },
    {
      "cell_type": "code",
      "source": [
        "# ZeroDivisionError\n",
        "10.0 / 0"
      ],
      "metadata": {
        "colab": {
          "base_uri": "https://localhost:8080/",
          "height": 159
        },
        "id": "sZ5FarB78sLJ",
        "outputId": "825a9b09-5404-4cd6-f872-9d98b9866f22"
      },
      "execution_count": 17,
      "outputs": [
        {
          "output_type": "error",
          "ename": "ZeroDivisionError",
          "evalue": "float division by zero",
          "traceback": [
            "\u001b[0;31m---------------------------------------------------------------------------\u001b[0m",
            "\u001b[0;31mZeroDivisionError\u001b[0m                         Traceback (most recent call last)",
            "\u001b[0;32m<ipython-input-17-b3363a4daeb9>\u001b[0m in \u001b[0;36m<cell line: 2>\u001b[0;34m()\u001b[0m\n\u001b[1;32m      1\u001b[0m \u001b[0;31m# ZeroDivisionError\u001b[0m\u001b[0;34m\u001b[0m\u001b[0;34m\u001b[0m\u001b[0m\n\u001b[0;32m----> 2\u001b[0;31m \u001b[0;36m10.0\u001b[0m \u001b[0;34m/\u001b[0m \u001b[0;36m0\u001b[0m\u001b[0;34m\u001b[0m\u001b[0;34m\u001b[0m\u001b[0m\n\u001b[0m",
            "\u001b[0;31mZeroDivisionError\u001b[0m: float division by zero"
          ]
        }
      ]
    },
    {
      "cell_type": "code",
      "source": [
        "# Custom errors from external libraries\n",
        "import requests\n",
        "\n",
        "resp = requests.get(\"https://api.spoonacular.com/recipes/complexSearch?query=pasta&maxFat=25&number=2\")\n",
        "resp.raise_for_status()"
      ],
      "metadata": {
        "colab": {
          "base_uri": "https://localhost:8080/",
          "height": 297
        },
        "id": "QfQ9Mpl4x5-u",
        "outputId": "c94a857e-67ac-489e-b085-8d9f030ec924"
      },
      "execution_count": 18,
      "outputs": [
        {
          "output_type": "error",
          "ename": "HTTPError",
          "evalue": "401 Client Error: Unauthorized for url: https://api.spoonacular.com/recipes/complexSearch?query=pasta&maxFat=25&number=2",
          "traceback": [
            "\u001b[0;31m---------------------------------------------------------------------------\u001b[0m",
            "\u001b[0;31mHTTPError\u001b[0m                                 Traceback (most recent call last)",
            "\u001b[0;32m<ipython-input-18-b1b23273ddf2>\u001b[0m in \u001b[0;36m<cell line: 5>\u001b[0;34m()\u001b[0m\n\u001b[1;32m      3\u001b[0m \u001b[0;34m\u001b[0m\u001b[0m\n\u001b[1;32m      4\u001b[0m \u001b[0mresp\u001b[0m \u001b[0;34m=\u001b[0m \u001b[0mrequests\u001b[0m\u001b[0;34m.\u001b[0m\u001b[0mget\u001b[0m\u001b[0;34m(\u001b[0m\u001b[0;34m\"https://api.spoonacular.com/recipes/complexSearch?query=pasta&maxFat=25&number=2\"\u001b[0m\u001b[0;34m)\u001b[0m\u001b[0;34m\u001b[0m\u001b[0;34m\u001b[0m\u001b[0m\n\u001b[0;32m----> 5\u001b[0;31m \u001b[0mresp\u001b[0m\u001b[0;34m.\u001b[0m\u001b[0mraise_for_status\u001b[0m\u001b[0;34m(\u001b[0m\u001b[0;34m)\u001b[0m\u001b[0;34m\u001b[0m\u001b[0;34m\u001b[0m\u001b[0m\n\u001b[0m",
            "\u001b[0;32m/usr/local/lib/python3.10/dist-packages/requests/models.py\u001b[0m in \u001b[0;36mraise_for_status\u001b[0;34m(self)\u001b[0m\n\u001b[1;32m   1022\u001b[0m \u001b[0;34m\u001b[0m\u001b[0m\n\u001b[1;32m   1023\u001b[0m         \u001b[0;32mif\u001b[0m \u001b[0mhttp_error_msg\u001b[0m\u001b[0;34m:\u001b[0m\u001b[0;34m\u001b[0m\u001b[0;34m\u001b[0m\u001b[0m\n\u001b[0;32m-> 1024\u001b[0;31m             \u001b[0;32mraise\u001b[0m \u001b[0mHTTPError\u001b[0m\u001b[0;34m(\u001b[0m\u001b[0mhttp_error_msg\u001b[0m\u001b[0;34m,\u001b[0m \u001b[0mresponse\u001b[0m\u001b[0;34m=\u001b[0m\u001b[0mself\u001b[0m\u001b[0;34m)\u001b[0m\u001b[0;34m\u001b[0m\u001b[0;34m\u001b[0m\u001b[0m\n\u001b[0m\u001b[1;32m   1025\u001b[0m \u001b[0;34m\u001b[0m\u001b[0m\n\u001b[1;32m   1026\u001b[0m     \u001b[0;32mdef\u001b[0m \u001b[0mclose\u001b[0m\u001b[0;34m(\u001b[0m\u001b[0mself\u001b[0m\u001b[0;34m)\u001b[0m\u001b[0;34m:\u001b[0m\u001b[0;34m\u001b[0m\u001b[0;34m\u001b[0m\u001b[0m\n",
            "\u001b[0;31mHTTPError\u001b[0m: 401 Client Error: Unauthorized for url: https://api.spoonacular.com/recipes/complexSearch?query=pasta&maxFat=25&number=2"
          ]
        }
      ]
    },
    {
      "cell_type": "markdown",
      "source": [
        "### **Custom Errors**\n",
        "\n",
        "In some cases, the built-in errors provided by Python and libraries may not fully capture the specific issues you want to address in your program. Custom errors let you define exceptions that are tailored to your program's unique requirements.\n",
        "\n",
        "By creating custom error classes, you can generate more meaningful error messages and handle special cases that standard exceptions might overlook. This approach makes debugging easier and improves code clarity.\n",
        "\n",
        "<br>\n",
        "\n",
        "To create custom errors, we'll have to define a new class that inherits from the built-in `Exception` or other exception classes such as `ValueError`.\n"
      ],
      "metadata": {
        "id": "E--ry4Xyl7LP"
      }
    },
    {
      "cell_type": "code",
      "source": [
        "# Custom error for insufficient errors\n",
        "class InsufficientFundsError(Exception):\n",
        "  def __init__(self, balance, amount):\n",
        "    self.balance = balance\n",
        "    self.amount = amount\n",
        "    super().__init__(f\"Attempted to withdraw {amount}, but only {balance} is available.\")\n",
        "\n",
        "# A simple bank account class that raises the custom error\n",
        "class BankAccount:\n",
        "  def __init__(self, balance=0):\n",
        "    self.balance = balance\n",
        "\n",
        "  def deposit(self, amount):\n",
        "    if amount <= 0:\n",
        "      raise ValueError(\"Deposit amount must be positive.\")\n",
        "    self.balance += amount\n",
        "\n",
        "  def withdraw(self, amount):\n",
        "    if amount > self.balance:\n",
        "      raise InsufficientFundsError(self.balance, amount)\n",
        "    self.balance -= amount\n",
        "\n",
        "\n",
        "# Example usage\n",
        "account = BankAccount(100)\n",
        "account.withdraw(150)"
      ],
      "metadata": {
        "colab": {
          "base_uri": "https://localhost:8080/",
          "height": 297
        },
        "id": "k1xuqze5m_U1",
        "outputId": "5352c24e-af7b-4190-9be2-5c0defc78085"
      },
      "execution_count": 21,
      "outputs": [
        {
          "output_type": "error",
          "ename": "InsufficientFundsError",
          "evalue": "Attempted to withdraw 150, but only 100 is available.",
          "traceback": [
            "\u001b[0;31m---------------------------------------------------------------------------\u001b[0m",
            "\u001b[0;31mInsufficientFundsError\u001b[0m                    Traceback (most recent call last)",
            "\u001b[0;32m<ipython-input-21-51db648c80c2>\u001b[0m in \u001b[0;36m<cell line: 26>\u001b[0;34m()\u001b[0m\n\u001b[1;32m     24\u001b[0m \u001b[0;31m# Example usage\u001b[0m\u001b[0;34m\u001b[0m\u001b[0;34m\u001b[0m\u001b[0m\n\u001b[1;32m     25\u001b[0m \u001b[0maccount\u001b[0m \u001b[0;34m=\u001b[0m \u001b[0mBankAccount\u001b[0m\u001b[0;34m(\u001b[0m\u001b[0;36m100\u001b[0m\u001b[0;34m)\u001b[0m\u001b[0;34m\u001b[0m\u001b[0;34m\u001b[0m\u001b[0m\n\u001b[0;32m---> 26\u001b[0;31m \u001b[0maccount\u001b[0m\u001b[0;34m.\u001b[0m\u001b[0mwithdraw\u001b[0m\u001b[0;34m(\u001b[0m\u001b[0;36m150\u001b[0m\u001b[0;34m)\u001b[0m\u001b[0;34m\u001b[0m\u001b[0;34m\u001b[0m\u001b[0m\n\u001b[0m",
            "\u001b[0;32m<ipython-input-21-51db648c80c2>\u001b[0m in \u001b[0;36mwithdraw\u001b[0;34m(self, amount)\u001b[0m\n\u001b[1;32m     18\u001b[0m   \u001b[0;32mdef\u001b[0m \u001b[0mwithdraw\u001b[0m\u001b[0;34m(\u001b[0m\u001b[0mself\u001b[0m\u001b[0;34m,\u001b[0m \u001b[0mamount\u001b[0m\u001b[0;34m)\u001b[0m\u001b[0;34m:\u001b[0m\u001b[0;34m\u001b[0m\u001b[0;34m\u001b[0m\u001b[0m\n\u001b[1;32m     19\u001b[0m     \u001b[0;32mif\u001b[0m \u001b[0mamount\u001b[0m \u001b[0;34m>\u001b[0m \u001b[0mself\u001b[0m\u001b[0;34m.\u001b[0m\u001b[0mbalance\u001b[0m\u001b[0;34m:\u001b[0m\u001b[0;34m\u001b[0m\u001b[0;34m\u001b[0m\u001b[0m\n\u001b[0;32m---> 20\u001b[0;31m       \u001b[0;32mraise\u001b[0m \u001b[0mInsufficientFundsError\u001b[0m\u001b[0;34m(\u001b[0m\u001b[0mself\u001b[0m\u001b[0;34m.\u001b[0m\u001b[0mbalance\u001b[0m\u001b[0;34m,\u001b[0m \u001b[0mamount\u001b[0m\u001b[0;34m)\u001b[0m\u001b[0;34m\u001b[0m\u001b[0;34m\u001b[0m\u001b[0m\n\u001b[0m\u001b[1;32m     21\u001b[0m     \u001b[0mself\u001b[0m\u001b[0;34m.\u001b[0m\u001b[0mbalance\u001b[0m \u001b[0;34m-=\u001b[0m \u001b[0mamount\u001b[0m\u001b[0;34m\u001b[0m\u001b[0;34m\u001b[0m\u001b[0m\n\u001b[1;32m     22\u001b[0m \u001b[0;34m\u001b[0m\u001b[0m\n",
            "\u001b[0;31mInsufficientFundsError\u001b[0m: Attempted to withdraw 150, but only 100 is available."
          ]
        }
      ]
    },
    {
      "cell_type": "markdown",
      "source": [
        "**Explanation**\n",
        "\n",
        "1. **Custom Exception**: `InsufficientFundsError` is a custom exception that inherits from `Exception`. It includes a message that displays both the attempted withdrawal amount and the available balance.\n",
        "\n",
        "2. **BankAccount Class**: This class has `deposit` and `withdraw` methods. If the `withdraw` method is called with an amount greater than the balance, it raises an `InsufficientFundsError`.\n",
        "\n",
        "3. **Usage**: In the example usage, we attempt to withdraw more than the balance, triggering the custom exception.\n"
      ],
      "metadata": {
        "id": "4X4WMb7Eps2q"
      }
    },
    {
      "cell_type": "markdown",
      "source": [
        "### **Logical Errors**\n",
        "\n",
        "Sometimes, your code may not contain any syntax or runtime errors but could still have **human errors** such as logical errors, infinite loops, or incorrect calculations.\n",
        "\n",
        "These types of errors can be harder to spot because they don't always trigger exceptions but can still lead to unexpected results or poor performance.\n"
      ],
      "metadata": {
        "id": "OVBp9BqxCW5f"
      }
    },
    {
      "cell_type": "code",
      "source": [
        "# Logical errors leading to actual errors\n",
        "def average(numbers):\n",
        "  total = 0\n",
        "  for number in numbers:\n",
        "    total += number\n",
        "  return total / len(numbers)\n",
        "\n",
        "# Example\n",
        "numbers = [10, 20, 30]\n",
        "avg = average(numbers)\n",
        "print(\"The average is:\", average)\n",
        "\n",
        "# Logical error example\n",
        "numbers = []\n",
        "avg = average(numbers)\n",
        "print(\"The average is:\", avg) # This will give us an ZeroDivisionError"
      ],
      "metadata": {
        "colab": {
          "base_uri": "https://localhost:8080/",
          "height": 332
        },
        "id": "JBpoY2LUthaq",
        "outputId": "de368a4d-5adc-4059-f001-2946c4c0a182"
      },
      "execution_count": 19,
      "outputs": [
        {
          "output_type": "stream",
          "name": "stdout",
          "text": [
            "The average is: <function average at 0x79adb0863d90>\n"
          ]
        },
        {
          "output_type": "error",
          "ename": "ZeroDivisionError",
          "evalue": "division by zero",
          "traceback": [
            "\u001b[0;31m---------------------------------------------------------------------------\u001b[0m",
            "\u001b[0;31mZeroDivisionError\u001b[0m                         Traceback (most recent call last)",
            "\u001b[0;32m<ipython-input-19-3e693d402113>\u001b[0m in \u001b[0;36m<cell line: 15>\u001b[0;34m()\u001b[0m\n\u001b[1;32m     13\u001b[0m \u001b[0;31m# Logical error example\u001b[0m\u001b[0;34m\u001b[0m\u001b[0;34m\u001b[0m\u001b[0m\n\u001b[1;32m     14\u001b[0m \u001b[0mnumbers\u001b[0m \u001b[0;34m=\u001b[0m \u001b[0;34m[\u001b[0m\u001b[0;34m]\u001b[0m\u001b[0;34m\u001b[0m\u001b[0;34m\u001b[0m\u001b[0m\n\u001b[0;32m---> 15\u001b[0;31m \u001b[0mavg\u001b[0m \u001b[0;34m=\u001b[0m \u001b[0maverage\u001b[0m\u001b[0;34m(\u001b[0m\u001b[0mnumbers\u001b[0m\u001b[0;34m)\u001b[0m\u001b[0;34m\u001b[0m\u001b[0;34m\u001b[0m\u001b[0m\n\u001b[0m\u001b[1;32m     16\u001b[0m \u001b[0mprint\u001b[0m\u001b[0;34m(\u001b[0m\u001b[0;34m\"The average is:\"\u001b[0m\u001b[0;34m,\u001b[0m \u001b[0mavg\u001b[0m\u001b[0;34m)\u001b[0m \u001b[0;31m# This will give us an ZeroDivisionError\u001b[0m\u001b[0;34m\u001b[0m\u001b[0;34m\u001b[0m\u001b[0m\n",
            "\u001b[0;32m<ipython-input-19-3e693d402113>\u001b[0m in \u001b[0;36maverage\u001b[0;34m(numbers)\u001b[0m\n\u001b[1;32m      4\u001b[0m   \u001b[0;32mfor\u001b[0m \u001b[0mnumber\u001b[0m \u001b[0;32min\u001b[0m \u001b[0mnumbers\u001b[0m\u001b[0;34m:\u001b[0m\u001b[0;34m\u001b[0m\u001b[0;34m\u001b[0m\u001b[0m\n\u001b[1;32m      5\u001b[0m     \u001b[0mtotal\u001b[0m \u001b[0;34m+=\u001b[0m \u001b[0mnumber\u001b[0m\u001b[0;34m\u001b[0m\u001b[0;34m\u001b[0m\u001b[0m\n\u001b[0;32m----> 6\u001b[0;31m   \u001b[0;32mreturn\u001b[0m \u001b[0mtotal\u001b[0m \u001b[0;34m/\u001b[0m \u001b[0mlen\u001b[0m\u001b[0;34m(\u001b[0m\u001b[0mnumbers\u001b[0m\u001b[0;34m)\u001b[0m\u001b[0;34m\u001b[0m\u001b[0;34m\u001b[0m\u001b[0m\n\u001b[0m\u001b[1;32m      7\u001b[0m \u001b[0;34m\u001b[0m\u001b[0m\n\u001b[1;32m      8\u001b[0m \u001b[0;31m# Example\u001b[0m\u001b[0;34m\u001b[0m\u001b[0;34m\u001b[0m\u001b[0m\n",
            "\u001b[0;31mZeroDivisionError\u001b[0m: division by zero"
          ]
        }
      ]
    },
    {
      "cell_type": "markdown",
      "source": [
        "This code seems correct, but it contains a logical error. The `calculate_average` function calculates the sum of the numbers correctly, but it divides by the length of the list numbers even if the list is empty, which will result in a `ZeroDivisionError`.\n",
        "\n",
        "To fix this, we can check if the list is empty before performing the division:\n"
      ],
      "metadata": {
        "id": "9xJwBsScwVaf"
      }
    },
    {
      "cell_type": "code",
      "source": [
        "def average_fixed(numbers):\n",
        "  if not numbers:\n",
        "    return 0  # Handle the case where the list is empty\n",
        "\n",
        "  total = 0\n",
        "  for number in numbers:\n",
        "    total += number\n",
        "  return total / len(numbers)\n",
        "\n",
        "# Examples\n",
        "numbers = [10, 20, 30]\n",
        "avg = average_fixed(numbers)\n",
        "print(\"The average is:\", avg)\n",
        "\n",
        "numbers = []\n",
        "avg = average_fixed(numbers)\n",
        "print(\"The average is:\", avg)"
      ],
      "metadata": {
        "colab": {
          "base_uri": "https://localhost:8080/"
        },
        "id": "IZzmHRVjxG7K",
        "outputId": "565ede3e-eb36-4915-c146-a1f8a1d0d041"
      },
      "execution_count": 20,
      "outputs": [
        {
          "output_type": "stream",
          "name": "stdout",
          "text": [
            "The average is: 20.0\n",
            "The average is: 0\n"
          ]
        }
      ]
    },
    {
      "cell_type": "markdown",
      "source": [
        "### **Manually Raising Exceptions**\n",
        "\n",
        "There are times when you may need to deliberately raise an exception to signal an error or enforce certain conditions in your code.\n",
        "\n",
        "Python's `raise` statement allows you to manually trigger exceptions, either with built-in error types or custom ones. Let's look at some examples:\n"
      ],
      "metadata": {
        "id": "DXiYBDZaxuFM"
      }
    },
    {
      "cell_type": "code",
      "source": [
        "# Raising a generic exception manually\n",
        "raise Exception('Error message')"
      ],
      "metadata": {
        "colab": {
          "base_uri": "https://localhost:8080/",
          "height": 141
        },
        "id": "97zVlEcfo-kz",
        "outputId": "8e4c89ce-0681-407e-ba4d-9ecd354c49f2"
      },
      "execution_count": 23,
      "outputs": [
        {
          "output_type": "error",
          "ename": "Exception",
          "evalue": "Error message",
          "traceback": [
            "\u001b[0;31m---------------------------------------------------------------------------\u001b[0m",
            "\u001b[0;31mException\u001b[0m                                 Traceback (most recent call last)",
            "\u001b[0;32m<ipython-input-23-9b442cd13d77>\u001b[0m in \u001b[0;36m<cell line: 1>\u001b[0;34m()\u001b[0m\n\u001b[0;32m----> 1\u001b[0;31m \u001b[0;32mraise\u001b[0m \u001b[0mException\u001b[0m\u001b[0;34m(\u001b[0m\u001b[0;34m'Error message'\u001b[0m\u001b[0;34m)\u001b[0m\u001b[0;34m\u001b[0m\u001b[0;34m\u001b[0m\u001b[0m\n\u001b[0m",
            "\u001b[0;31mException\u001b[0m: Error message"
          ]
        }
      ]
    },
    {
      "cell_type": "code",
      "source": [
        "# Raising a specific kind of exception\n",
        "raise NameError('Error message')"
      ],
      "metadata": {
        "colab": {
          "base_uri": "https://localhost:8080/",
          "height": 159
        },
        "id": "x2tmmwgpx3hB",
        "outputId": "7d2a351d-e9cc-4e06-9fa5-14a605b2dda1"
      },
      "execution_count": 22,
      "outputs": [
        {
          "output_type": "error",
          "ename": "NameError",
          "evalue": "Error message",
          "traceback": [
            "\u001b[0;31m---------------------------------------------------------------------------\u001b[0m",
            "\u001b[0;31mNameError\u001b[0m                                 Traceback (most recent call last)",
            "\u001b[0;32m<ipython-input-22-f08cd7e6834e>\u001b[0m in \u001b[0;36m<cell line: 2>\u001b[0;34m()\u001b[0m\n\u001b[1;32m      1\u001b[0m \u001b[0;31m# Raising an exception manually\u001b[0m\u001b[0;34m\u001b[0m\u001b[0;34m\u001b[0m\u001b[0m\n\u001b[0;32m----> 2\u001b[0;31m \u001b[0;32mraise\u001b[0m \u001b[0mNameError\u001b[0m\u001b[0;34m(\u001b[0m\u001b[0;34m'Error message'\u001b[0m\u001b[0;34m)\u001b[0m\u001b[0;34m\u001b[0m\u001b[0;34m\u001b[0m\u001b[0m\n\u001b[0m",
            "\u001b[0;31mNameError\u001b[0m: Error message"
          ]
        }
      ]
    },
    {
      "cell_type": "code",
      "source": [
        "# Raising errors based on different conditions\n",
        "def check_age(age):\n",
        "  if age < 0:\n",
        "    raise ValueError(\"Age cannot be negative.\")\n",
        "  elif age < 18:\n",
        "    raise PermissionError(\"You must be at least 18 years old.\")\n",
        "  else:\n",
        "    print(\"Access granted.\")\n",
        "\n",
        "# Example\n",
        "check_age(-5)"
      ],
      "metadata": {
        "colab": {
          "base_uri": "https://localhost:8080/",
          "height": 297
        },
        "id": "ZHSOFaHMpkms",
        "outputId": "d41b5c35-4318-4a98-e61e-aa07f6c1fc3e"
      },
      "execution_count": 51,
      "outputs": [
        {
          "output_type": "error",
          "ename": "ValueError",
          "evalue": "Age cannot be negative.",
          "traceback": [
            "\u001b[0;31m---------------------------------------------------------------------------\u001b[0m",
            "\u001b[0;31mValueError\u001b[0m                                Traceback (most recent call last)",
            "\u001b[0;32m<ipython-input-51-94446da4d240>\u001b[0m in \u001b[0;36m<cell line: 11>\u001b[0;34m()\u001b[0m\n\u001b[1;32m      9\u001b[0m \u001b[0;34m\u001b[0m\u001b[0m\n\u001b[1;32m     10\u001b[0m \u001b[0;31m# Example\u001b[0m\u001b[0;34m\u001b[0m\u001b[0;34m\u001b[0m\u001b[0m\n\u001b[0;32m---> 11\u001b[0;31m \u001b[0mcheck_age\u001b[0m\u001b[0;34m(\u001b[0m\u001b[0;34m-\u001b[0m\u001b[0;36m5\u001b[0m\u001b[0;34m)\u001b[0m\u001b[0;34m\u001b[0m\u001b[0;34m\u001b[0m\u001b[0m\n\u001b[0m",
            "\u001b[0;32m<ipython-input-51-94446da4d240>\u001b[0m in \u001b[0;36mcheck_age\u001b[0;34m(age)\u001b[0m\n\u001b[1;32m      2\u001b[0m \u001b[0;32mdef\u001b[0m \u001b[0mcheck_age\u001b[0m\u001b[0;34m(\u001b[0m\u001b[0mage\u001b[0m\u001b[0;34m)\u001b[0m\u001b[0;34m:\u001b[0m\u001b[0;34m\u001b[0m\u001b[0;34m\u001b[0m\u001b[0m\n\u001b[1;32m      3\u001b[0m   \u001b[0;32mif\u001b[0m \u001b[0mage\u001b[0m \u001b[0;34m<\u001b[0m \u001b[0;36m0\u001b[0m\u001b[0;34m:\u001b[0m\u001b[0;34m\u001b[0m\u001b[0;34m\u001b[0m\u001b[0m\n\u001b[0;32m----> 4\u001b[0;31m     \u001b[0;32mraise\u001b[0m \u001b[0mValueError\u001b[0m\u001b[0;34m(\u001b[0m\u001b[0;34m\"Age cannot be negative.\"\u001b[0m\u001b[0;34m)\u001b[0m\u001b[0;34m\u001b[0m\u001b[0;34m\u001b[0m\u001b[0m\n\u001b[0m\u001b[1;32m      5\u001b[0m   \u001b[0;32melif\u001b[0m \u001b[0mage\u001b[0m \u001b[0;34m<\u001b[0m \u001b[0;36m18\u001b[0m\u001b[0;34m:\u001b[0m\u001b[0;34m\u001b[0m\u001b[0;34m\u001b[0m\u001b[0m\n\u001b[1;32m      6\u001b[0m     \u001b[0;32mraise\u001b[0m \u001b[0mPermissionError\u001b[0m\u001b[0;34m(\u001b[0m\u001b[0;34m\"You must be at least 18 years old.\"\u001b[0m\u001b[0;34m)\u001b[0m\u001b[0;34m\u001b[0m\u001b[0;34m\u001b[0m\u001b[0m\n",
            "\u001b[0;31mValueError\u001b[0m: Age cannot be negative."
          ]
        }
      ]
    },
    {
      "cell_type": "markdown",
      "source": [
        "**Explanation**\n",
        "\n",
        "1. **Manual Exception Raising**: The `check_age` function checks the `age` parameter. If `age` is less than 0, it raises a `ValueError`. If `age` is less than 18 but non-negative, it raises a `PermissionError`.\n",
        "\n",
        "2. **Using `raise` for Validation**: Raising these exceptions helps validate inputs and enforce rules (e.g., age restrictions) directly in the code.\n"
      ],
      "metadata": {
        "id": "cmxxS9HNqCsT"
      }
    },
    {
      "cell_type": "markdown",
      "source": [
        "### **Combine Type Checking with Raising Exceptions**\n",
        "\n",
        "Type checking can be combined with raising exceptions to make your code more robust and user-friendly.\n",
        "\n",
        "By checking the type of inputs and raising custom error messages when the type is incorrect, you can prevent unexpected behavior and make debugging easier.\n"
      ],
      "metadata": {
        "id": "QchEksnl9kOI"
      }
    },
    {
      "cell_type": "code",
      "source": [
        "def process_data(data):\n",
        "  if not isinstance(data, Iterable):\n",
        "    raise TypeError(f\"Expected an iterable, but got {type(data).__name__}: '{data}'\")\n",
        "\n",
        "  # Continue with processing if data is an iterable\n",
        "  print(\"Processing data:\", data)\n",
        "\n",
        "process_data([1, 2, 3])  # Valid input\n",
        "process_data(42)         # Invalid input, will raise TypeError"
      ],
      "metadata": {
        "colab": {
          "base_uri": "https://localhost:8080/",
          "height": 315
        },
        "id": "8lwYLTxNmmwK",
        "outputId": "72f1af04-4a97-48da-ce0f-39d736a84e63"
      },
      "execution_count": 25,
      "outputs": [
        {
          "output_type": "stream",
          "name": "stdout",
          "text": [
            "Processing data: [1, 2, 3]\n"
          ]
        },
        {
          "output_type": "error",
          "ename": "TypeError",
          "evalue": "Expected an iterable, but got int: '42'",
          "traceback": [
            "\u001b[0;31m---------------------------------------------------------------------------\u001b[0m",
            "\u001b[0;31mTypeError\u001b[0m                                 Traceback (most recent call last)",
            "\u001b[0;32m<ipython-input-25-a30a1b12a3ec>\u001b[0m in \u001b[0;36m<cell line: 9>\u001b[0;34m()\u001b[0m\n\u001b[1;32m      7\u001b[0m \u001b[0;34m\u001b[0m\u001b[0m\n\u001b[1;32m      8\u001b[0m \u001b[0mprocess_data\u001b[0m\u001b[0;34m(\u001b[0m\u001b[0;34m[\u001b[0m\u001b[0;36m1\u001b[0m\u001b[0;34m,\u001b[0m \u001b[0;36m2\u001b[0m\u001b[0;34m,\u001b[0m \u001b[0;36m3\u001b[0m\u001b[0;34m]\u001b[0m\u001b[0;34m)\u001b[0m  \u001b[0;31m# Valid input\u001b[0m\u001b[0;34m\u001b[0m\u001b[0;34m\u001b[0m\u001b[0m\n\u001b[0;32m----> 9\u001b[0;31m \u001b[0mprocess_data\u001b[0m\u001b[0;34m(\u001b[0m\u001b[0;36m42\u001b[0m\u001b[0;34m)\u001b[0m         \u001b[0;31m# Invalid input, will raise TypeError\u001b[0m\u001b[0;34m\u001b[0m\u001b[0;34m\u001b[0m\u001b[0m\n\u001b[0m",
            "\u001b[0;32m<ipython-input-25-a30a1b12a3ec>\u001b[0m in \u001b[0;36mprocess_data\u001b[0;34m(data)\u001b[0m\n\u001b[1;32m      1\u001b[0m \u001b[0;32mdef\u001b[0m \u001b[0mprocess_data\u001b[0m\u001b[0;34m(\u001b[0m\u001b[0mdata\u001b[0m\u001b[0;34m)\u001b[0m\u001b[0;34m:\u001b[0m\u001b[0;34m\u001b[0m\u001b[0;34m\u001b[0m\u001b[0m\n\u001b[1;32m      2\u001b[0m   \u001b[0;32mif\u001b[0m \u001b[0;32mnot\u001b[0m \u001b[0misinstance\u001b[0m\u001b[0;34m(\u001b[0m\u001b[0mdata\u001b[0m\u001b[0;34m,\u001b[0m \u001b[0mIterable\u001b[0m\u001b[0;34m)\u001b[0m\u001b[0;34m:\u001b[0m\u001b[0;34m\u001b[0m\u001b[0;34m\u001b[0m\u001b[0m\n\u001b[0;32m----> 3\u001b[0;31m     \u001b[0;32mraise\u001b[0m \u001b[0mTypeError\u001b[0m\u001b[0;34m(\u001b[0m\u001b[0;34mf\"Expected an iterable, but got {type(data).__name__}: '{data}'\"\u001b[0m\u001b[0;34m)\u001b[0m\u001b[0;34m\u001b[0m\u001b[0;34m\u001b[0m\u001b[0m\n\u001b[0m\u001b[1;32m      4\u001b[0m \u001b[0;34m\u001b[0m\u001b[0m\n\u001b[1;32m      5\u001b[0m   \u001b[0;31m# Continue with processing if data is an iterable\u001b[0m\u001b[0;34m\u001b[0m\u001b[0;34m\u001b[0m\u001b[0m\n",
            "\u001b[0;31mTypeError\u001b[0m: Expected an iterable, but got int: '42'"
          ]
        }
      ]
    },
    {
      "cell_type": "markdown",
      "source": [
        "## **Handling Errors & Exceptions**\n",
        "\n",
        "In Python, you can handle exceptions using `try`, `except`, `else`, and `finally` blocks to manage different outcomes in your code:\n",
        "\n",
        "- **`try`**: Use this block to wrap code that might raise an exception. If an error occurs, Python will jump to the `except` block.\n",
        "- **`except`**: This block handles the error, allowing the program to continue running or to provide a helpful error message instead of crashing. Multiple `except` blocks are allowed.\n",
        "- **`else`**: If no exceptions occur in the `try` block, the code in the `else` block will run. This is useful for code that should only execute when no errors are raised.\n",
        "- **`finally`**: This block will always run, regardless of whether an exception was raised or not. It's typically used for cleanup tasks, like closing files or releasing resources.\n"
      ],
      "metadata": {
        "id": "2-spc3mG9BiP"
      }
    },
    {
      "cell_type": "markdown",
      "source": [
        "#### **Handling Generic Exceptions**\n",
        "\n",
        "If you are unsure what kind of exception might occur, you can use a generic `except` block to handle any exception. However, it is generally recommended to avoid catching all exceptions this way unless absolutely necessary, as it can mask important errors and make debugging more challenging.\n",
        "\n",
        "> 💡 **Important:** When possible, specify the exceptions you want to catch explicitly instead of using a generic catch all exception for better error management.\n"
      ],
      "metadata": {
        "id": "hlY90HYLWRZg"
      }
    },
    {
      "cell_type": "code",
      "source": [
        "# Generic Exceptions\n",
        "try:\n",
        "  print(nonexistent_var)\n",
        "except Exception as e:\n",
        "  print(e)\n",
        "  print(\"...do something else\")"
      ],
      "metadata": {
        "colab": {
          "base_uri": "https://localhost:8080/"
        },
        "id": "wZZmXVH49prm",
        "outputId": "c7d95e9f-fc81-4efe-c202-48bebb92d3b1"
      },
      "execution_count": 26,
      "outputs": [
        {
          "output_type": "stream",
          "name": "stdout",
          "text": [
            "name 'nonexistent_var' is not defined\n",
            "...do something else\n"
          ]
        }
      ]
    },
    {
      "cell_type": "markdown",
      "source": [
        "#### **Handling Specific Exceptions**\n",
        "\n",
        "Using specific exceptions (like `ValueError` or `ZeroDivisionError`) improves code clarity, as it's clearer which errors you expect and handle.\n",
        "\n",
        "Generic exceptions should be reserved for cases where you genuinely need to capture any unexpected issue, such as logging errors in critical applications or unknown input conditions.\n",
        "\n",
        "> *Uncomment each print statement individually to see how Python handles specific exceptions.*\n"
      ],
      "metadata": {
        "id": "ZFmVHqTgWpQT"
      }
    },
    {
      "cell_type": "code",
      "source": [
        "import requests\n",
        "\n",
        "\n",
        "dict1 = {\"1\": \"apple\", \"2\": \"banana\"}\n",
        "l1 = [1, 2, 3, 4]\n",
        "\n",
        "try:\n",
        "  # Uncomment one line at a time to see each exception handling in action\n",
        "\n",
        "  # Name error\n",
        "  # print(nonexistent_var)\n",
        "\n",
        "  # Key error\n",
        "  # print(dict1[\"3\"])\n",
        "\n",
        "  # HTTPError\n",
        "  resp = requests.get(\"https://api.spoonacular.com/recipes/complexSearch?query=pasta&maxFat=25&number=2\")\n",
        "  resp.raise_for_status()  # Raises HTTPError for unsuccessful status codes\n",
        "\n",
        "  # Index error (other kinds of unspecified error)\n",
        "  # print(l1[5])\n",
        "except NameError as e:\n",
        "  print(\"This is a NameError: A variable is being used before it is defined.\")\n",
        "except KeyError as e:\n",
        "  print(\"This is a KeyError: Trying to access a dictionary key that doesn’t exist.\")\n",
        "except requests.exceptions.HTTPError as e:\n",
        "  print(\"This is an HTTPError: A request was unsuccessful (e.g., bad status code).\")\n",
        "except Exception as e:\n",
        "  print(\"This is a generic exception, which can be used to catch all unspecified exceptions.\")"
      ],
      "metadata": {
        "colab": {
          "base_uri": "https://localhost:8080/"
        },
        "id": "YZw9wpmz-wZK",
        "outputId": "e4cb17fb-3359-44b1-8eaa-3a6808514241"
      },
      "execution_count": 27,
      "outputs": [
        {
          "output_type": "stream",
          "name": "stdout",
          "text": [
            "This is an HTTPError: A request was unsuccessful (e.g., bad status code).\n"
          ]
        }
      ]
    },
    {
      "cell_type": "markdown",
      "source": [
        "> ❗❗ It is important to note that when you handle specific exceptions, any exceptions that aren't explicitly listed will still cause an error and stop the program, which will help you discover unexpected errors in your code.\n"
      ],
      "metadata": {
        "id": "IjLKk1ZlwkQY"
      }
    },
    {
      "cell_type": "code",
      "source": [
        "try:\n",
        "  print(nonexistent_var)\n",
        "except TypeError as _:\n",
        "  print(\"No TypeError in try block, failed to catch error\")"
      ],
      "metadata": {
        "colab": {
          "base_uri": "https://localhost:8080/",
          "height": 193
        },
        "id": "g_WAbXZK-H8g",
        "outputId": "0526fa4e-59be-4208-cd9f-e8ec96f8c69d"
      },
      "execution_count": 28,
      "outputs": [
        {
          "output_type": "error",
          "ename": "NameError",
          "evalue": "name 'nonexistent_var' is not defined",
          "traceback": [
            "\u001b[0;31m---------------------------------------------------------------------------\u001b[0m",
            "\u001b[0;31mNameError\u001b[0m                                 Traceback (most recent call last)",
            "\u001b[0;32m<ipython-input-28-2b287ee1d36b>\u001b[0m in \u001b[0;36m<cell line: 1>\u001b[0;34m()\u001b[0m\n\u001b[1;32m      1\u001b[0m \u001b[0;32mtry\u001b[0m\u001b[0;34m:\u001b[0m\u001b[0;34m\u001b[0m\u001b[0;34m\u001b[0m\u001b[0m\n\u001b[0;32m----> 2\u001b[0;31m   \u001b[0mprint\u001b[0m\u001b[0;34m(\u001b[0m\u001b[0mnonexistent_var\u001b[0m\u001b[0;34m)\u001b[0m\u001b[0;34m\u001b[0m\u001b[0;34m\u001b[0m\u001b[0m\n\u001b[0m\u001b[1;32m      3\u001b[0m \u001b[0;32mexcept\u001b[0m \u001b[0mTypeError\u001b[0m \u001b[0;32mas\u001b[0m \u001b[0m_\u001b[0m\u001b[0;34m:\u001b[0m\u001b[0;34m\u001b[0m\u001b[0;34m\u001b[0m\u001b[0m\n\u001b[1;32m      4\u001b[0m   \u001b[0mprint\u001b[0m\u001b[0;34m(\u001b[0m\u001b[0;34m\"No TypeError in try block, failed to catch error\"\u001b[0m\u001b[0;34m)\u001b[0m\u001b[0;34m\u001b[0m\u001b[0;34m\u001b[0m\u001b[0m\n",
            "\u001b[0;31mNameError\u001b[0m: name 'nonexistent_var' is not defined"
          ]
        }
      ]
    },
    {
      "cell_type": "code",
      "source": [
        "l2 = [\"red\", \"green\", \"blue\", \"orange\"]\n",
        "print(l2)\n",
        "idx = input(\"Input the index of a color you would like to see: \")\n",
        "\n",
        "try:\n",
        "  print(l2[int(idx)])\n",
        "except IndexError as e:\n",
        "  print(f\"Index Error: {e}\")"
      ],
      "metadata": {
        "colab": {
          "base_uri": "https://localhost:8080/",
          "height": 245
        },
        "id": "CYwFx9PHFNys",
        "outputId": "e77ed770-a8ed-443f-e341-bce43b612531"
      },
      "execution_count": 56,
      "outputs": [
        {
          "name": "stdout",
          "output_type": "stream",
          "text": [
            "['red', 'green', 'blue', 'orange']\n",
            "Input the index of a color you would like to see: 5.5\n"
          ]
        },
        {
          "output_type": "error",
          "ename": "ValueError",
          "evalue": "invalid literal for int() with base 10: '5.5'",
          "traceback": [
            "\u001b[0;31m---------------------------------------------------------------------------\u001b[0m",
            "\u001b[0;31mValueError\u001b[0m                                Traceback (most recent call last)",
            "\u001b[0;32m<ipython-input-56-29e05a6010c1>\u001b[0m in \u001b[0;36m<cell line: 5>\u001b[0;34m()\u001b[0m\n\u001b[1;32m      4\u001b[0m \u001b[0;34m\u001b[0m\u001b[0m\n\u001b[1;32m      5\u001b[0m \u001b[0;32mtry\u001b[0m\u001b[0;34m:\u001b[0m\u001b[0;34m\u001b[0m\u001b[0;34m\u001b[0m\u001b[0m\n\u001b[0;32m----> 6\u001b[0;31m   \u001b[0mprint\u001b[0m\u001b[0;34m(\u001b[0m\u001b[0ml2\u001b[0m\u001b[0;34m[\u001b[0m\u001b[0mint\u001b[0m\u001b[0;34m(\u001b[0m\u001b[0midx\u001b[0m\u001b[0;34m)\u001b[0m\u001b[0;34m]\u001b[0m\u001b[0;34m)\u001b[0m\u001b[0;34m\u001b[0m\u001b[0;34m\u001b[0m\u001b[0m\n\u001b[0m\u001b[1;32m      7\u001b[0m \u001b[0;32mexcept\u001b[0m \u001b[0mIndexError\u001b[0m \u001b[0;32mas\u001b[0m \u001b[0me\u001b[0m\u001b[0;34m:\u001b[0m\u001b[0;34m\u001b[0m\u001b[0;34m\u001b[0m\u001b[0m\n\u001b[1;32m      8\u001b[0m   \u001b[0mprint\u001b[0m\u001b[0;34m(\u001b[0m\u001b[0;34mf\"Index Error: {e}\"\u001b[0m\u001b[0;34m)\u001b[0m\u001b[0;34m\u001b[0m\u001b[0;34m\u001b[0m\u001b[0m\n",
            "\u001b[0;31mValueError\u001b[0m: invalid literal for int() with base 10: '5.5'"
          ]
        }
      ]
    },
    {
      "cell_type": "markdown",
      "source": [
        "For example, in the code above, I initially only checked for an `IndexError`, assuming it would be the only potential error. However, by running the code and observing all exceptions, I discovered a `ValueError` that could also occur when the program tries to convert a non-numeric string to an integer.\n",
        "\n",
        "> *Catching these unexpected errors improves my understanding of my own code and helps me better understand how it behaves in various scenarios.*\n"
      ],
      "metadata": {
        "id": "FmSaAvIKG576"
      }
    },
    {
      "cell_type": "markdown",
      "source": [
        "#### **Handling Cases with No Exceptions and Cleanup**\n",
        "\n",
        "In Python, the `else` and `finally` blocks can be used to handle situations where no exceptions occur and to perform any necessary cleanup, regardless of whether an exception was raised.\n",
        "\n",
        "- **`else`**: Executes only if no exceptions were raised in the `try` block. This is useful for code that should only run when everything goes smoothly.\n",
        "- **`finally`**: Always executes, whether an exception was raised or not. This block is ideal for cleanup tasks, such as closing files or releasing resources.\n",
        "\n",
        "<br>\n",
        "\n",
        "Let's look at an example:\n"
      ],
      "metadata": {
        "id": "GgG9TpAd_00A"
      }
    },
    {
      "cell_type": "code",
      "source": [
        "try:\n",
        "  file = open(\"example.txt\", \"r\")\n",
        "  content = file.read()\n",
        "except FileNotFoundError:\n",
        "  print(\"Error: The file was not found.\")\n",
        "else:\n",
        "  print(\"File read successfully!\")\n",
        "  print(content)\n",
        "finally:\n",
        "  if 'file' in locals():\n",
        "    file.close()\n",
        "    print(\"File closed.\")"
      ],
      "metadata": {
        "colab": {
          "base_uri": "https://localhost:8080/"
        },
        "id": "b_oIufzlzpsG",
        "outputId": "1898af0f-de67-4fa0-b593-379d72c4e8f2"
      },
      "execution_count": 29,
      "outputs": [
        {
          "output_type": "stream",
          "name": "stdout",
          "text": [
            "Error: The file was not found.\n"
          ]
        }
      ]
    },
    {
      "cell_type": "markdown",
      "source": [
        "**Explanation**\n",
        "\n",
        "1. **`try`**: Attempts to open and read from `example.txt`.\n",
        "2. **`except`**: Catches a `FileNotFoundError` if the file doesn't exist, preventing a crash.\n",
        "3. **`else`**: Runs only if the file is found and read successfully, allowing you to print the file's content.\n",
        "4. **`finally`**: Ensures the file is closed whether or not an exception occurred to prevent potential resource leaks.\n"
      ],
      "metadata": {
        "id": "ywiD9T0Uz32l"
      }
    },
    {
      "cell_type": "markdown",
      "source": [
        "## **Testing Your Code**\n",
        "\n",
        "Testing is essential to ensure that your code works as expected and handles errors properly. Various approaches and methodologies exist for testing, such as **unit tests**, **integration tests**, and **system tests**.\n",
        "\n",
        "In this course, we'll focus on the basics of **unit testing**, which involves testing individual functions or components in isolation.\n"
      ],
      "metadata": {
        "id": "22qEVIyKG_i0"
      }
    },
    {
      "cell_type": "markdown",
      "source": [
        "### **Getting Started with Unit Testing**\n",
        "\n",
        "To start unit testing, create test cases for specific functions or components to verify that they work as expected.\n",
        "\n",
        "You can perform these tests manually, but using a library like `pytest` simplifies and enhances the process.\n",
        "\n",
        "**Benefits of unit testing**\n",
        "\n",
        "- **Verify functionality**: Confirm that each part of your code behaves as expected.\n",
        "- **Catch bugs early**: Identify issues during development, reducing problems later on.\n",
        "- **Improve maintainability**: Simplify future code changes by confirming that core behaviors remain stable.\n",
        "\n",
        "Let's take a look at how you can test your code manually:\n"
      ],
      "metadata": {
        "id": "03D9NL7sGPWw"
      }
    },
    {
      "cell_type": "code",
      "source": [
        "# Create the function to be tested\n",
        "def add(a: int | float, b: int | float) -> int | float:\n",
        "  return a + b"
      ],
      "metadata": {
        "id": "U1V68XHEJCpe"
      },
      "execution_count": 30,
      "outputs": []
    },
    {
      "cell_type": "code",
      "source": [
        "# Write some test cases to make sure the results from the function is correct\n",
        "res = add(2, 3)\n",
        "assert res == 5\n",
        "\n",
        "res = add(-1, 1)\n",
        "assert res == 0\n",
        "\n",
        "print(\"2 test passed\")"
      ],
      "metadata": {
        "colab": {
          "base_uri": "https://localhost:8080/"
        },
        "id": "ChH-EVCvKk00",
        "outputId": "be66b8e5-207a-410b-f2e6-429dac2fe7b6"
      },
      "execution_count": 31,
      "outputs": [
        {
          "output_type": "stream",
          "name": "stdout",
          "text": [
            "2 test passed\n"
          ]
        }
      ]
    },
    {
      "cell_type": "markdown",
      "source": [
        "If your code is incorrect, then your test cases should catch the errors.\n"
      ],
      "metadata": {
        "id": "-xK9AaaXK-Vd"
      }
    },
    {
      "cell_type": "code",
      "source": [
        "# Error in function\n",
        "def square_incorrect(x: int | float) -> int | float:\n",
        "  return x ** 3  # incorrect operation"
      ],
      "metadata": {
        "id": "8m9rzxegLFS4"
      },
      "execution_count": 32,
      "outputs": []
    },
    {
      "cell_type": "code",
      "source": [
        "# Test case 1\n",
        "res = square_incorrect(2)\n",
        "\n",
        "# 2 square is 4, but our function is incorrect, which will give us an assertion error\n",
        "assert res == 4, f\"Function {square_incorrect.__name__}: Expected result {4}, got {res} instead.\""
      ],
      "metadata": {
        "colab": {
          "base_uri": "https://localhost:8080/",
          "height": 176
        },
        "id": "B2nkWMABLXWE",
        "outputId": "f36c3fa5-3c11-4808-8864-9d0e20956498"
      },
      "execution_count": 33,
      "outputs": [
        {
          "output_type": "error",
          "ename": "AssertionError",
          "evalue": "Function square_incorrect: Expected result 4, got 8 instead.",
          "traceback": [
            "\u001b[0;31m---------------------------------------------------------------------------\u001b[0m",
            "\u001b[0;31mAssertionError\u001b[0m                            Traceback (most recent call last)",
            "\u001b[0;32m<ipython-input-33-e527df4d39fb>\u001b[0m in \u001b[0;36m<cell line: 5>\u001b[0;34m()\u001b[0m\n\u001b[1;32m      3\u001b[0m \u001b[0;34m\u001b[0m\u001b[0m\n\u001b[1;32m      4\u001b[0m \u001b[0;31m# 2 square is 4, but our function is incorrect, which will give us an assertion error\u001b[0m\u001b[0;34m\u001b[0m\u001b[0;34m\u001b[0m\u001b[0m\n\u001b[0;32m----> 5\u001b[0;31m \u001b[0;32massert\u001b[0m \u001b[0mres\u001b[0m \u001b[0;34m==\u001b[0m \u001b[0;36m4\u001b[0m\u001b[0;34m,\u001b[0m \u001b[0;34mf\"Function {square_incorrect.__name__}: Expected result {4}, got {res} instead.\"\u001b[0m\u001b[0;34m\u001b[0m\u001b[0;34m\u001b[0m\u001b[0m\n\u001b[0m",
            "\u001b[0;31mAssertionError\u001b[0m: Function square_incorrect: Expected result 4, got 8 instead."
          ]
        }
      ]
    },
    {
      "cell_type": "code",
      "source": [
        "# Test case 2\n",
        "res = square_incorrect(-1)\n",
        "assert res == 1, f\"Function {square_incorrect.__name__}: Expected result {1}, got {res} instead.\""
      ],
      "metadata": {
        "colab": {
          "base_uri": "https://localhost:8080/",
          "height": 176
        },
        "id": "ODy-sDkMMWjp",
        "outputId": "fc459d2c-c3d6-4ef1-85ff-79beb875835a"
      },
      "execution_count": 34,
      "outputs": [
        {
          "output_type": "error",
          "ename": "AssertionError",
          "evalue": "Function square_incorrect: Expected result 1, got -1 instead.",
          "traceback": [
            "\u001b[0;31m---------------------------------------------------------------------------\u001b[0m",
            "\u001b[0;31mAssertionError\u001b[0m                            Traceback (most recent call last)",
            "\u001b[0;32m<ipython-input-34-d7ea71fe334b>\u001b[0m in \u001b[0;36m<cell line: 3>\u001b[0;34m()\u001b[0m\n\u001b[1;32m      1\u001b[0m \u001b[0;31m# Test case 2\u001b[0m\u001b[0;34m\u001b[0m\u001b[0;34m\u001b[0m\u001b[0m\n\u001b[1;32m      2\u001b[0m \u001b[0mres\u001b[0m \u001b[0;34m=\u001b[0m \u001b[0msquare_incorrect\u001b[0m\u001b[0;34m(\u001b[0m\u001b[0;34m-\u001b[0m\u001b[0;36m1\u001b[0m\u001b[0;34m)\u001b[0m\u001b[0;34m\u001b[0m\u001b[0;34m\u001b[0m\u001b[0m\n\u001b[0;32m----> 3\u001b[0;31m \u001b[0;32massert\u001b[0m \u001b[0mres\u001b[0m \u001b[0;34m==\u001b[0m \u001b[0;36m1\u001b[0m\u001b[0;34m,\u001b[0m \u001b[0;34mf\"Function {square_incorrect.__name__}: Expected result {1}, got {res} instead.\"\u001b[0m\u001b[0;34m\u001b[0m\u001b[0;34m\u001b[0m\u001b[0m\n\u001b[0m",
            "\u001b[0;31mAssertionError\u001b[0m: Function square_incorrect: Expected result 1, got -1 instead."
          ]
        }
      ]
    },
    {
      "cell_type": "markdown",
      "source": [
        "### **`pytest` (Additional Material)**\n",
        "\n",
        "Now let's look at some examples to see how `pytest` can streamline unit testing.\n",
        "\n",
        "> 🚨 `pytest` expects `.py` files for test scripts, which can be a bit tricky to use directly in Google Colab. To work around this, you can write test functions within a cell, save it as a file, and use `!pytest` commands in Colab, or run `pytest` locally after saving test scripts as `.py` files.\n",
        "\n",
        "`pytest` is a popular testing framework in Python that simplifies writing and running tests. It automatically discovers and runs test cases, provides clear error messages, and offers useful testing features for both beginners and experienced developers.\n"
      ],
      "metadata": {
        "id": "STnsuQR8Hr6w"
      }
    },
    {
      "cell_type": "markdown",
      "source": [
        "**With `pytest`, you can:**\n",
        "\n",
        "- Write simple test functions to check specific outputs or behaviors.\n",
        "- Easily run tests with informative reports.\n",
        "- Use features like exception testing and test coverage, which make debugging easier and faster.\n",
        "\n",
        "<br>\n",
        "\n",
        "Let's look at an example:\n",
        "\n",
        "<br>\n",
        "\n",
        "First, we want to create a file that contains all our functions:\n",
        "\n",
        "> *The first line save this cell to a file called `my_module.py` on the disk when executed*\n",
        "\n"
      ],
      "metadata": {
        "id": "D8aUoCMAJOXE"
      }
    },
    {
      "cell_type": "code",
      "source": [
        "%%file my_module.py\n",
        "\"\"\"\n",
        "This is the file where we write our functions.\n",
        "\"\"\"\n",
        "\n",
        "\n",
        "def add(a: int | float, b: int | float) -> int | float:\n",
        "  return a + b\n",
        "\n",
        "def plus_one(x: int | float) -> int | float:\n",
        "  return x + 1"
      ],
      "metadata": {
        "colab": {
          "base_uri": "https://localhost:8080/"
        },
        "id": "MLBnJe1IJe2l",
        "outputId": "922b11ce-f39b-4873-a0f5-c14e56fc413a"
      },
      "execution_count": 35,
      "outputs": [
        {
          "output_type": "stream",
          "name": "stdout",
          "text": [
            "Writing my_module.py\n"
          ]
        }
      ]
    },
    {
      "cell_type": "markdown",
      "source": [
        "Next, create a file that contains all our test cases:\n",
        "\n",
        "> *To write a unit test, create test functions named `test_<functionality>`*\n"
      ],
      "metadata": {
        "id": "1Xv_GbBYWCKA"
      }
    },
    {
      "cell_type": "code",
      "source": [
        "%%file test_my_module.py\n",
        "\"\"\"\n",
        "This is the file where we write our tests.\n",
        "\"\"\"\n",
        "import pytest\n",
        "from my_module import add, plus_one  # Import functions from our `my_module.py` file\n",
        "\n",
        "\n",
        "def test_add():\n",
        "  assert add(2, 3) == 5\n",
        "  assert add(-1, 1) == 0\n",
        "\n",
        "\n",
        "def test_plus_one():\n",
        "  assert plus_one(2) == 3\n",
        "  assert plus_one(-1) == 0"
      ],
      "metadata": {
        "colab": {
          "base_uri": "https://localhost:8080/"
        },
        "id": "96IOk5OZVQw8",
        "outputId": "f38bc102-a8d1-4fd0-a339-c71da0721a37"
      },
      "execution_count": 46,
      "outputs": [
        {
          "output_type": "stream",
          "name": "stdout",
          "text": [
            "Writing test_my_module.py\n"
          ]
        }
      ]
    },
    {
      "cell_type": "markdown",
      "source": [
        "Finally, to run the tests, simply use `pytest` in the terminal:\n",
        "\n",
        "```sh\n",
        "pytest <test_filename>\n",
        "```\n",
        "\n",
        "> *Please make sure `pytest` is installed*\n"
      ],
      "metadata": {
        "id": "AN0h_M49WNRT"
      }
    },
    {
      "cell_type": "code",
      "source": [
        "!pytest test_my_module.py"
      ],
      "metadata": {
        "colab": {
          "base_uri": "https://localhost:8080/"
        },
        "id": "bJ4Pdq4IWmNd",
        "outputId": "88393c53-c7c6-4845-e715-496e6cb5f5c0"
      },
      "execution_count": 47,
      "outputs": [
        {
          "output_type": "stream",
          "name": "stdout",
          "text": [
            "\u001b[1m======================================= test session starts ========================================\u001b[0m\n",
            "platform linux -- Python 3.10.12, pytest-8.3.3, pluggy-1.5.0\n",
            "rootdir: /content\n",
            "plugins: cov-6.0.0, typeguard-4.4.1, anyio-3.7.1\n",
            "\u001b[1mcollecting ... \u001b[0m\u001b[1m\rcollected 2 items                                                                                  \u001b[0m\n",
            "\n",
            "test_my_module.py \u001b[32m.\u001b[0m\u001b[32m.\u001b[0m\u001b[32m                                                                         [100%]\u001b[0m\n",
            "\n",
            "\u001b[32m======================================== \u001b[32m\u001b[1m2 passed\u001b[0m\u001b[32m in 0.01s\u001b[0m\u001b[32m =========================================\u001b[0m\n"
          ]
        }
      ]
    },
    {
      "cell_type": "markdown",
      "source": [
        "#### **Parametrizing Tests**\n",
        "\n",
        "`pytest` allows you to easily **parametrize** test functions, enabling you to run the same test with multiple inputs and expected outputs without writing multiple `assert` statements. This helps keep your code cleaner and allows you to quickly test multiple cases, including expected exceptions.\n"
      ],
      "metadata": {
        "id": "7Y7bMU8qYdm4"
      }
    },
    {
      "cell_type": "code",
      "source": [
        "%%file test_file_parametrize.py\n",
        "\"\"\"\n",
        "Updated test cases with parameters.\n",
        "\"\"\"\n",
        "import pytest\n",
        "from my_module import add, plus_one\n",
        "\n",
        "\n",
        "@pytest.mark.parametrize(\"x\", [1, 2, 3])\n",
        "@pytest.mark.parametrize(\"y\", [-1, 0, 2])\n",
        "def test_add(x, y):\n",
        "  assert add(x, y) == x + y\n",
        "\n",
        "@pytest.mark.parametrize(\"x\", [-1, 0, 1, 2, 3.5])\n",
        "def test_plus_one(x):\n",
        "  assert plus_one(x) == x + 1"
      ],
      "metadata": {
        "colab": {
          "base_uri": "https://localhost:8080/"
        },
        "id": "rcNrOMTlZd7i",
        "outputId": "90d223fa-ce24-43d0-c188-5f5b87bfc79a"
      },
      "execution_count": 38,
      "outputs": [
        {
          "output_type": "stream",
          "name": "stdout",
          "text": [
            "Writing test_file_parametrize.py\n"
          ]
        }
      ]
    },
    {
      "cell_type": "code",
      "source": [
        "!pytest test_file_parametrize.py"
      ],
      "metadata": {
        "colab": {
          "base_uri": "https://localhost:8080/"
        },
        "id": "-1PWTBnYaHSO",
        "outputId": "769a712d-5c1e-4a08-ff99-ff913abe81a9"
      },
      "execution_count": 39,
      "outputs": [
        {
          "output_type": "stream",
          "name": "stdout",
          "text": [
            "\u001b[1m======================================= test session starts ========================================\u001b[0m\n",
            "platform linux -- Python 3.10.12, pytest-8.3.3, pluggy-1.5.0\n",
            "rootdir: /content\n",
            "plugins: typeguard-4.4.1, anyio-3.7.1\n",
            "\u001b[1mcollecting ... \u001b[0m\u001b[1m\rcollected 14 items                                                                                 \u001b[0m\n",
            "\n",
            "test_file_parametrize.py \u001b[32m.\u001b[0m\u001b[32m.\u001b[0m\u001b[32m.\u001b[0m\u001b[32m.\u001b[0m\u001b[32m.\u001b[0m\u001b[32m.\u001b[0m\u001b[32m.\u001b[0m\u001b[32m.\u001b[0m\u001b[32m.\u001b[0m\u001b[32m.\u001b[0m\u001b[32m.\u001b[0m\u001b[32m.\u001b[0m\u001b[32m.\u001b[0m\u001b[32m.\u001b[0m\u001b[32m                                                      [100%]\u001b[0m\n",
            "\n",
            "\u001b[32m======================================== \u001b[32m\u001b[1m14 passed\u001b[0m\u001b[32m in 0.03s\u001b[0m\u001b[32m ========================================\u001b[0m\n"
          ]
        }
      ]
    },
    {
      "cell_type": "markdown",
      "source": [
        "**Testing Exceptions with `pytest`**\n",
        "\n",
        "When testing functions that may raise exceptions, you can use the `pytest.raises` context manager to ensure specific errors are raised when expected.\n"
      ],
      "metadata": {
        "id": "rBOeqjXDHsPC"
      }
    },
    {
      "cell_type": "code",
      "source": [
        "%%file div_module.py\n",
        "\"\"\"\n",
        "This is the file containing our divide function.\n",
        "\"\"\"\n",
        "\n",
        "\n",
        "def divide(a: int | float, b: int | float) -> int | float:\n",
        "  if b == 0:\n",
        "    raise ValueError(\"Cannot divide by zero\")\n",
        "  return a / b"
      ],
      "metadata": {
        "colab": {
          "base_uri": "https://localhost:8080/"
        },
        "id": "BmQdxQhG-T-i",
        "outputId": "e92d69a6-75c7-4748-da01-c2fa7cbaffa9"
      },
      "execution_count": 40,
      "outputs": [
        {
          "output_type": "stream",
          "name": "stdout",
          "text": [
            "Writing div_module.py\n"
          ]
        }
      ]
    },
    {
      "cell_type": "code",
      "source": [
        "%%file test_div_module.py\n",
        "\"\"\"\n",
        "This is the file where we test the divide function.\n",
        "\"\"\"\n",
        "import pytest\n",
        "from div_module import divide\n",
        "\n",
        "\n",
        "def test_divide_by_zero():\n",
        "  with pytest.raises(ValueError, match=\"Cannot divide by zero\"):\n",
        "    divide(10, 0)"
      ],
      "metadata": {
        "colab": {
          "base_uri": "https://localhost:8080/"
        },
        "id": "CELnGx8k-uDM",
        "outputId": "866f90a1-5a9e-4303-a705-5fca6b7b81a9"
      },
      "execution_count": 41,
      "outputs": [
        {
          "output_type": "stream",
          "name": "stdout",
          "text": [
            "Writing test_div_module.py\n"
          ]
        }
      ]
    },
    {
      "cell_type": "code",
      "source": [
        "!pytest test_div_module.py"
      ],
      "metadata": {
        "colab": {
          "base_uri": "https://localhost:8080/"
        },
        "id": "EucNGs8j_F76",
        "outputId": "3a71b2e5-32a1-4422-9f26-e7fbc0869545"
      },
      "execution_count": 43,
      "outputs": [
        {
          "output_type": "stream",
          "name": "stdout",
          "text": [
            "\u001b[1m======================================= test session starts ========================================\u001b[0m\n",
            "platform linux -- Python 3.10.12, pytest-8.3.3, pluggy-1.5.0\n",
            "rootdir: /content\n",
            "plugins: typeguard-4.4.1, anyio-3.7.1\n",
            "\u001b[1mcollecting ... \u001b[0m\u001b[1m\rcollected 1 item                                                                                   \u001b[0m\n",
            "\n",
            "test_div_module.py \u001b[32m.\u001b[0m\u001b[32m                                                                         [100%]\u001b[0m\n",
            "\n",
            "\u001b[32m======================================== \u001b[32m\u001b[1m1 passed\u001b[0m\u001b[32m in 0.01s\u001b[0m\u001b[32m =========================================\u001b[0m\n"
          ]
        }
      ]
    },
    {
      "cell_type": "markdown",
      "source": [
        "#### **Checking Test Coverage**\n",
        "\n",
        "To ensure you've tested all important parts of your code, you can check **test coverage** using the `pytest-cov` plugin. This shows the percentage of your code covered by tests, helping you identify any gaps.\n"
      ],
      "metadata": {
        "id": "hVabpcE5-UQV"
      }
    },
    {
      "cell_type": "code",
      "source": [
        "# Install\n",
        "!pip install pytest-cov"
      ],
      "metadata": {
        "colab": {
          "base_uri": "https://localhost:8080/"
        },
        "id": "fy2twLzz_cYF",
        "outputId": "e44c2b27-0da9-48c8-d859-1f7faa1c5642"
      },
      "execution_count": 45,
      "outputs": [
        {
          "output_type": "stream",
          "name": "stdout",
          "text": [
            "Collecting pytest-cov\n",
            "  Downloading pytest_cov-6.0.0-py3-none-any.whl.metadata (27 kB)\n",
            "Requirement already satisfied: pytest>=4.6 in /usr/local/lib/python3.10/dist-packages (from pytest-cov) (8.3.3)\n",
            "Collecting coverage>=7.5 (from coverage[toml]>=7.5->pytest-cov)\n",
            "  Downloading coverage-7.6.4-cp310-cp310-manylinux_2_5_x86_64.manylinux1_x86_64.manylinux_2_17_x86_64.manylinux2014_x86_64.whl.metadata (8.2 kB)\n",
            "Requirement already satisfied: tomli in /usr/local/lib/python3.10/dist-packages (from coverage[toml]>=7.5->pytest-cov) (2.0.2)\n",
            "Requirement already satisfied: iniconfig in /usr/local/lib/python3.10/dist-packages (from pytest>=4.6->pytest-cov) (2.0.0)\n",
            "Requirement already satisfied: packaging in /usr/local/lib/python3.10/dist-packages (from pytest>=4.6->pytest-cov) (24.2)\n",
            "Requirement already satisfied: pluggy<2,>=1.5 in /usr/local/lib/python3.10/dist-packages (from pytest>=4.6->pytest-cov) (1.5.0)\n",
            "Requirement already satisfied: exceptiongroup>=1.0.0rc8 in /usr/local/lib/python3.10/dist-packages (from pytest>=4.6->pytest-cov) (1.2.2)\n",
            "Downloading pytest_cov-6.0.0-py3-none-any.whl (22 kB)\n",
            "Downloading coverage-7.6.4-cp310-cp310-manylinux_2_5_x86_64.manylinux1_x86_64.manylinux_2_17_x86_64.manylinux2014_x86_64.whl (234 kB)\n",
            "\u001b[2K   \u001b[90m━━━━━━━━━━━━━━━━━━━━━━━━━━━━━━━━━━━━━━━━\u001b[0m \u001b[32m234.6/234.6 kB\u001b[0m \u001b[31m16.5 MB/s\u001b[0m eta \u001b[36m0:00:00\u001b[0m\n",
            "\u001b[?25hInstalling collected packages: coverage, pytest-cov\n",
            "Successfully installed coverage-7.6.4 pytest-cov-6.0.0\n"
          ]
        }
      ]
    },
    {
      "cell_type": "markdown",
      "source": [
        "To run `pytest` with coverage:\n",
        "\n",
        "```sh\n",
        "pytest --cov=<module_filename> <test_filename>\n",
        "```\n",
        "\n",
        "> *Do not include `.py` file extension for the module file you are testing\n"
      ],
      "metadata": {
        "id": "3qyuflkZAHJ-"
      }
    },
    {
      "cell_type": "code",
      "source": [
        "!pytest --cov=my_module test_my_module.py"
      ],
      "metadata": {
        "colab": {
          "base_uri": "https://localhost:8080/"
        },
        "id": "0gBqewh1_hKM",
        "outputId": "29a90e6b-0ef3-41d4-af00-0647f6c04081"
      },
      "execution_count": 50,
      "outputs": [
        {
          "output_type": "stream",
          "name": "stdout",
          "text": [
            "\u001b[1m======================================= test session starts ========================================\u001b[0m\n",
            "platform linux -- Python 3.10.12, pytest-8.3.3, pluggy-1.5.0\n",
            "rootdir: /content\n",
            "plugins: cov-6.0.0, typeguard-4.4.1, anyio-3.7.1\n",
            "\u001b[1mcollecting ... \u001b[0m\u001b[1m\rcollected 2 items                                                                                  \u001b[0m\n",
            "\n",
            "test_my_module.py \u001b[32m.\u001b[0m\u001b[32m.\u001b[0m\u001b[32m                                                                         [100%]\u001b[0m\n",
            "\n",
            "---------- coverage: platform linux, python 3.10.12-final-0 ----------\n",
            "Name           Stmts   Miss  Cover\n",
            "----------------------------------\n",
            "my_module.py       4      0   100%\n",
            "----------------------------------\n",
            "TOTAL              4      0   100%\n",
            "\n",
            "\n",
            "\u001b[32m======================================== \u001b[32m\u001b[1m2 passed\u001b[0m\u001b[32m in 0.05s\u001b[0m\u001b[32m =========================================\u001b[0m\n"
          ]
        }
      ]
    },
    {
      "cell_type": "markdown",
      "source": [
        "That wraps up our overview of error handling and exceptions in Python! Keep practicing, and remember that understanding errors is a huge step toward mastering Python. With time, you'll feel more confident troubleshooting and writing resilient code.\n"
      ],
      "metadata": {
        "id": "0FWnYbrQA6M1"
      }
    }
  ]
}