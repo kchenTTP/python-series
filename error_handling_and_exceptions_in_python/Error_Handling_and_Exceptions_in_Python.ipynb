{
  "nbformat": 4,
  "nbformat_minor": 0,
  "metadata": {
    "colab": {
      "provenance": [],
      "toc_visible": true,
      "collapsed_sections": [
        "STnsuQR8Hr6w"
      ],
      "authorship_tag": "ABX9TyPs5zO3ue7PsCvdr6k2lkZM",
      "include_colab_link": true
    },
    "kernelspec": {
      "name": "python3",
      "display_name": "Python 3"
    },
    "language_info": {
      "name": "python"
    }
  },
  "cells": [
    {
      "cell_type": "markdown",
      "metadata": {
        "id": "view-in-github",
        "colab_type": "text"
      },
      "source": [
        "<a href=\"https://colab.research.google.com/github/kchenTTP/python-series/blob/main/error_handling_and_exceptions_in_python/Error_Handling_and_Exceptions_in_Python.ipynb\" target=\"_parent\"><img src=\"https://colab.research.google.com/assets/colab-badge.svg\" alt=\"Open In Colab\"/></a>"
      ]
    },
    {
      "cell_type": "markdown",
      "source": [
        "# **Error Handling and Exceptions in Python**\n",
        "\n",
        "In this class, we'll explore various types of Python errors, how they occur, and how to effectively handle them.\n",
        "\n",
        "**Table of Contents**\n",
        "\n",
        "- [Type Checking](#scrollTo=yrC2t-8fGB8t)\n",
        "- [Understanding Tracebacks](#scrollTo=g38m6TM3QU0o)\n",
        "- [Errors & Exceptions](#scrollTo=0GAHckPu7YV9)\n",
        "- [Handling Errors & Exceptions](#scrollTo=2-spc3mG9BiP)\n",
        "- [Testing Your Code](#scrollTo=22qEVIyKG_i0)\n"
      ],
      "metadata": {
        "id": "2zqFUEgCwaSx"
      }
    },
    {
      "cell_type": "markdown",
      "source": [
        "## **Type Checking**\n",
        "\n",
        "Before diving into the various types of errors and how to handle them, let's first explore how we can check for types in Python.\n",
        "\n",
        "Type checking is an essential practice that helps ensure the data you're working with matches the expected types to reduce the chances of errors later on.\n",
        "\n",
        "In this section, we'll cover how to check types effectively.\n"
      ],
      "metadata": {
        "id": "yrC2t-8fGB8t"
      }
    },
    {
      "cell_type": "markdown",
      "source": [
        "### **Example: User Input**\n",
        "\n",
        "Let's consider an example where we interactively get user input to perform a mathematical calculation.\n",
        "\n",
        "The `cube_app()` function uses `input()` to get values from the user, but since `input()` always returns data as a string, it could lead to a `TypeError` when passed to the `cube()` function, which expects either an integer or a float.\n"
      ],
      "metadata": {
        "id": "HyqvJkIzyUm3"
      }
    },
    {
      "cell_type": "code",
      "source": [
        "# Example: Passing outputs of functions as arguments\n",
        "def cube(x):\n",
        "  return x ** 3\n",
        "\n",
        "def cube_app():\n",
        "  user_input = input(\"Enter a number to cube: \")\n",
        "  result = cube(user_input)  # This will raise a TypeError\n",
        "  print(f\"The cube of {user_input} is {result}\")"
      ],
      "metadata": {
        "id": "iRHHvyVQGIzF"
      },
      "execution_count": 23,
      "outputs": []
    },
    {
      "cell_type": "code",
      "source": [
        "cube_app()"
      ],
      "metadata": {
        "colab": {
          "base_uri": "https://localhost:8080/",
          "height": 304
        },
        "id": "msVHvRcrGNu_",
        "outputId": "94bca14c-9879-4b0a-f1af-02c287550f8d"
      },
      "execution_count": 24,
      "outputs": [
        {
          "name": "stdout",
          "output_type": "stream",
          "text": [
            "Enter a number to cube: 12\n"
          ]
        },
        {
          "output_type": "error",
          "ename": "TypeError",
          "evalue": "unsupported operand type(s) for ** or pow(): 'str' and 'int'",
          "traceback": [
            "\u001b[0;31m---------------------------------------------------------------------------\u001b[0m",
            "\u001b[0;31mTypeError\u001b[0m                                 Traceback (most recent call last)",
            "\u001b[0;32m<ipython-input-24-d19e733b10b7>\u001b[0m in \u001b[0;36m<cell line: 1>\u001b[0;34m()\u001b[0m\n\u001b[0;32m----> 1\u001b[0;31m \u001b[0mcube_app\u001b[0m\u001b[0;34m(\u001b[0m\u001b[0;34m)\u001b[0m\u001b[0;34m\u001b[0m\u001b[0;34m\u001b[0m\u001b[0m\n\u001b[0m",
            "\u001b[0;32m<ipython-input-23-ca2b947d1872>\u001b[0m in \u001b[0;36mcube_app\u001b[0;34m()\u001b[0m\n\u001b[1;32m      5\u001b[0m \u001b[0;32mdef\u001b[0m \u001b[0mcube_app\u001b[0m\u001b[0;34m(\u001b[0m\u001b[0;34m)\u001b[0m\u001b[0;34m:\u001b[0m\u001b[0;34m\u001b[0m\u001b[0;34m\u001b[0m\u001b[0m\n\u001b[1;32m      6\u001b[0m   \u001b[0muser_input\u001b[0m \u001b[0;34m=\u001b[0m \u001b[0minput\u001b[0m\u001b[0;34m(\u001b[0m\u001b[0;34m\"Enter a number to cube: \"\u001b[0m\u001b[0;34m)\u001b[0m\u001b[0;34m\u001b[0m\u001b[0;34m\u001b[0m\u001b[0m\n\u001b[0;32m----> 7\u001b[0;31m   \u001b[0mresult\u001b[0m \u001b[0;34m=\u001b[0m \u001b[0mcube\u001b[0m\u001b[0;34m(\u001b[0m\u001b[0muser_input\u001b[0m\u001b[0;34m)\u001b[0m  \u001b[0;31m# This will raise a TypeError\u001b[0m\u001b[0;34m\u001b[0m\u001b[0;34m\u001b[0m\u001b[0m\n\u001b[0m\u001b[1;32m      8\u001b[0m   \u001b[0mprint\u001b[0m\u001b[0;34m(\u001b[0m\u001b[0;34mf\"The cube of {user_input} is {result}\"\u001b[0m\u001b[0;34m)\u001b[0m\u001b[0;34m\u001b[0m\u001b[0;34m\u001b[0m\u001b[0m\n",
            "\u001b[0;32m<ipython-input-23-ca2b947d1872>\u001b[0m in \u001b[0;36mcube\u001b[0;34m(x)\u001b[0m\n\u001b[1;32m      1\u001b[0m \u001b[0;31m# Example: Passing outputs of functions as arguments\u001b[0m\u001b[0;34m\u001b[0m\u001b[0;34m\u001b[0m\u001b[0m\n\u001b[1;32m      2\u001b[0m \u001b[0;32mdef\u001b[0m \u001b[0mcube\u001b[0m\u001b[0;34m(\u001b[0m\u001b[0mx\u001b[0m\u001b[0;34m:\u001b[0m \u001b[0mint\u001b[0m \u001b[0;34m|\u001b[0m \u001b[0mfloat\u001b[0m\u001b[0;34m)\u001b[0m \u001b[0;34m->\u001b[0m \u001b[0mint\u001b[0m \u001b[0;34m|\u001b[0m \u001b[0mfloat\u001b[0m\u001b[0;34m:\u001b[0m\u001b[0;34m\u001b[0m\u001b[0;34m\u001b[0m\u001b[0m\n\u001b[0;32m----> 3\u001b[0;31m   \u001b[0;32mreturn\u001b[0m \u001b[0mx\u001b[0m \u001b[0;34m**\u001b[0m \u001b[0;36m3\u001b[0m\u001b[0;34m\u001b[0m\u001b[0;34m\u001b[0m\u001b[0m\n\u001b[0m\u001b[1;32m      4\u001b[0m \u001b[0;34m\u001b[0m\u001b[0m\n\u001b[1;32m      5\u001b[0m \u001b[0;32mdef\u001b[0m \u001b[0mcube_app\u001b[0m\u001b[0;34m(\u001b[0m\u001b[0;34m)\u001b[0m\u001b[0;34m:\u001b[0m\u001b[0;34m\u001b[0m\u001b[0;34m\u001b[0m\u001b[0m\n",
            "\u001b[0;31mTypeError\u001b[0m: unsupported operand type(s) for ** or pow(): 'str' and 'int'"
          ]
        }
      ]
    },
    {
      "cell_type": "markdown",
      "source": [
        "**Fixing the Error**\n",
        "\n",
        "To fix this issue, we can convert the input data to the correct type before passing it into the `cube()` function.\n"
      ],
      "metadata": {
        "id": "61q_H8Ej038m"
      }
    },
    {
      "cell_type": "code",
      "source": [
        "def cube_app_casted():\n",
        "  user_input = input(\"Enter a number to cube: \")\n",
        "  result = cube(float(user_input))\n",
        "  print(f\"The cube of {user_input} is {result}\")"
      ],
      "metadata": {
        "id": "5LJ5YkO61zaP"
      },
      "execution_count": 25,
      "outputs": []
    },
    {
      "cell_type": "code",
      "source": [
        "cube_app_casted()"
      ],
      "metadata": {
        "colab": {
          "base_uri": "https://localhost:8080/"
        },
        "id": "taZZosfq2Exc",
        "outputId": "88600942-8ab2-4d04-8007-189dcfd81960"
      },
      "execution_count": 26,
      "outputs": [
        {
          "output_type": "stream",
          "name": "stdout",
          "text": [
            "Enter a number to cube: 12\n",
            "The cube of 12 is 1728.0\n"
          ]
        }
      ]
    },
    {
      "cell_type": "markdown",
      "source": [
        "However, this does not solve the problem when we pass non-numerical values to the input:\n"
      ],
      "metadata": {
        "id": "2R7jYLr7GCa7"
      }
    },
    {
      "cell_type": "code",
      "source": [
        "# Put a string (such as \"apple\", \"Bob\", or \"peanut\") in the input to see the error\n",
        "cube_app_casted()"
      ],
      "metadata": {
        "colab": {
          "base_uri": "https://localhost:8080/",
          "height": 280
        },
        "id": "gGoLWCuHGVa3",
        "outputId": "22b9f211-81c3-4deb-d6e7-8e948592c68b"
      },
      "execution_count": 27,
      "outputs": [
        {
          "name": "stdout",
          "output_type": "stream",
          "text": [
            "Enter a number to cube: apple\n"
          ]
        },
        {
          "output_type": "error",
          "ename": "ValueError",
          "evalue": "could not convert string to float: 'apple'",
          "traceback": [
            "\u001b[0;31m---------------------------------------------------------------------------\u001b[0m",
            "\u001b[0;31mValueError\u001b[0m                                Traceback (most recent call last)",
            "\u001b[0;32m<ipython-input-27-24db83d2379d>\u001b[0m in \u001b[0;36m<cell line: 2>\u001b[0;34m()\u001b[0m\n\u001b[1;32m      1\u001b[0m \u001b[0;31m# Put a string (such as \"apple\", \"Bob\", or \"peanut\") in the input to see the error\u001b[0m\u001b[0;34m\u001b[0m\u001b[0;34m\u001b[0m\u001b[0m\n\u001b[0;32m----> 2\u001b[0;31m \u001b[0mcube_app_casted\u001b[0m\u001b[0;34m(\u001b[0m\u001b[0;34m)\u001b[0m\u001b[0;34m\u001b[0m\u001b[0;34m\u001b[0m\u001b[0m\n\u001b[0m",
            "\u001b[0;32m<ipython-input-25-71c8d516e0d4>\u001b[0m in \u001b[0;36mcube_app_casted\u001b[0;34m()\u001b[0m\n\u001b[1;32m      1\u001b[0m \u001b[0;32mdef\u001b[0m \u001b[0mcube_app_casted\u001b[0m\u001b[0;34m(\u001b[0m\u001b[0;34m)\u001b[0m\u001b[0;34m:\u001b[0m\u001b[0;34m\u001b[0m\u001b[0;34m\u001b[0m\u001b[0m\n\u001b[1;32m      2\u001b[0m   \u001b[0muser_input\u001b[0m \u001b[0;34m=\u001b[0m \u001b[0minput\u001b[0m\u001b[0;34m(\u001b[0m\u001b[0;34m\"Enter a number to cube: \"\u001b[0m\u001b[0;34m)\u001b[0m\u001b[0;34m\u001b[0m\u001b[0;34m\u001b[0m\u001b[0m\n\u001b[0;32m----> 3\u001b[0;31m   \u001b[0mresult\u001b[0m \u001b[0;34m=\u001b[0m \u001b[0mcube\u001b[0m\u001b[0;34m(\u001b[0m\u001b[0mfloat\u001b[0m\u001b[0;34m(\u001b[0m\u001b[0muser_input\u001b[0m\u001b[0;34m)\u001b[0m\u001b[0;34m)\u001b[0m\u001b[0;34m\u001b[0m\u001b[0;34m\u001b[0m\u001b[0m\n\u001b[0m\u001b[1;32m      4\u001b[0m   \u001b[0mprint\u001b[0m\u001b[0;34m(\u001b[0m\u001b[0;34mf\"The cube of {user_input} is {result}\"\u001b[0m\u001b[0;34m)\u001b[0m\u001b[0;34m\u001b[0m\u001b[0;34m\u001b[0m\u001b[0m\n",
            "\u001b[0;31mValueError\u001b[0m: could not convert string to float: 'apple'"
          ]
        }
      ]
    },
    {
      "cell_type": "markdown",
      "source": [
        "To prevent our program from halting each time it encounters an unsupported value, we can check the data type of the input and handle errors effectively ([like this](#scrollTo=mERQAgj4IM_8)). This allows our program to continue running smoothly even with unexpected input.\n",
        "\n",
        "> 💡 *This class aims to clarify and demonstrate these techniques to help you write more secure and robust programs by handling errors in a structured way.*\n"
      ],
      "metadata": {
        "id": "VeZmTN3WGy4k"
      }
    },
    {
      "cell_type": "markdown",
      "source": [
        "### **`type()`**\n",
        "\n",
        "To look at what the type of a piece of data is, we can use the `type()` function like this:\n"
      ],
      "metadata": {
        "id": "9jF1hfQ12WaK"
      }
    },
    {
      "cell_type": "code",
      "source": [
        "str_1 = \"A quick brown fox jumps over the lazy dog\"\n",
        "int_1 = 2023\n",
        "list_1 = [1, 2, 3, 4, 5]\n",
        "dict_1 = {\"a\": 1, \"b\": 2, \"c\": 3}\n",
        "\n",
        "print(type(str_1))\n",
        "print(type(int_1))\n",
        "print(type(list_1))\n",
        "print(type(dict_1))\n",
        "print(type(cube_app))"
      ],
      "metadata": {
        "colab": {
          "base_uri": "https://localhost:8080/"
        },
        "id": "aGB3DpWx2rpO",
        "outputId": "18c0c5d1-1bff-40f1-fef1-928ead6a9ead"
      },
      "execution_count": 28,
      "outputs": [
        {
          "output_type": "stream",
          "name": "stdout",
          "text": [
            "<class 'str'>\n",
            "<class 'int'>\n",
            "<class 'list'>\n",
            "<class 'dict'>\n",
            "<class 'function'>\n"
          ]
        }
      ]
    },
    {
      "cell_type": "markdown",
      "source": [
        "It is, however, not recommended to use `type()` to check for datatypes when performing type checking. Here are some reasons:\n",
        "\n",
        "<br>\n",
        "\n",
        "**Limited to Exact Types**\n",
        "\n",
        "`type()` only checks for the exact type of an object, which may not be flexible enough in many cases.\n",
        "\n",
        "**Doesn't Support Class Derived from Other Classes (Inheritance)**\n",
        "\n",
        "If you're working with class hierarchies (inheritance), `type()` won't recognize subclass relationships.\n",
        "\n",
        "<br>\n",
        "\n",
        "For example:\n",
        "\n",
        "both `int` and `float` are derived from the `Number` type but since they are not exactly the same, `type()` will return a `False`.\n"
      ],
      "metadata": {
        "id": "EUdYaz9CGTI7"
      }
    },
    {
      "cell_type": "code",
      "source": [
        "from numbers import Number\n",
        "\n",
        "print(type(1.0) == float)\n",
        "print(type(1) == int)\n",
        "print(type(1.0) == Number)\n",
        "print(type(1) == Number)"
      ],
      "metadata": {
        "colab": {
          "base_uri": "https://localhost:8080/"
        },
        "id": "R--pvkdq4nxN",
        "outputId": "4c4ce2e8-c6e7-4a53-dec2-7b0a64f290ea"
      },
      "execution_count": 29,
      "outputs": [
        {
          "output_type": "stream",
          "name": "stdout",
          "text": [
            "True\n",
            "True\n",
            "False\n",
            "False\n"
          ]
        }
      ]
    },
    {
      "cell_type": "markdown",
      "source": [
        "Similar to the previous example, here `dict_keys`, `dict_values`, and `list` are all inherited from `Iterable` but `type()` cannont recognize that.\n"
      ],
      "metadata": {
        "id": "5v8P2zxn5EQ_"
      }
    },
    {
      "cell_type": "code",
      "source": [
        "d = {\"a\": 1, \"b\": 2, \"c\": 3}\n",
        "keys = d.keys()\n",
        "values = d.values()\n",
        "lst = [1, 2, 3]\n",
        "\n",
        "print(\"----\", \"Type\", \"----\")\n",
        "print(f\"{keys}\", type(keys), sep=\"\\t\")\n",
        "print(f\"{values}\", type(values), sep=\"\\t\\t\")\n",
        "print(f\"{lst}\", type(lst), sep=\"\\t\\t\\t\")\n",
        "print()\n",
        "\n",
        "# dict_keys, dict_values, and lists share similar characteristics and function usage since they all derive from the Iterable class\n",
        "print(\"----\", \"Characteristics: Iteration\", \"----\")\n",
        "for k in keys:\n",
        "  print(k)\n",
        "for v in values:\n",
        "  print(v)\n",
        "for i in lst:\n",
        "  print(i)\n",
        "print()\n",
        "\n",
        "print(\"----\", \"Characteristics: Length\", \"----\")\n",
        "print(len(keys))\n",
        "print(len(values))\n",
        "print(len(lst))\n",
        "print()\n",
        "\n",
        "# dict_keys, dict_values, and lists are all Iterables but they all fail this kind of type checking\n",
        "from collections.abc import Iterable\n",
        "\n",
        "print(\"----\", \"Incorrect Type Checking\", \"----\")\n",
        "print(type(keys) == Iterable)\n",
        "print(type(values) == Iterable)\n",
        "print(type(lst) == Iterable)\n",
        "print()\n",
        "\n",
        "# We have to nail down the exact types to actually check them, which is very inflexible and error prone\n",
        "print(\"----\", \"Inflexible Type Checking\", \"----\")\n",
        "print(type(keys) == type({}.keys()))\n",
        "print(type(values) == type({}.values()))\n",
        "print(type(lst) == list)"
      ],
      "metadata": {
        "colab": {
          "base_uri": "https://localhost:8080/"
        },
        "id": "mz0yPUw15OhS",
        "outputId": "5b6733e8-85f9-43fb-8abc-858707f8c4cf"
      },
      "execution_count": 95,
      "outputs": [
        {
          "output_type": "stream",
          "name": "stdout",
          "text": [
            "---- Type ----\n",
            "dict_keys(['a', 'b', 'c'])\t<class 'dict_keys'>\n",
            "dict_values([1, 2, 3])\t\t<class 'dict_values'>\n",
            "[1, 2, 3]\t\t\t<class 'list'>\n",
            "\n",
            "---- Characteristics: Iteration ----\n",
            "a\n",
            "b\n",
            "c\n",
            "1\n",
            "2\n",
            "3\n",
            "1\n",
            "2\n",
            "3\n",
            "\n",
            "---- Characteristics: Length ----\n",
            "3\n",
            "3\n",
            "3\n",
            "\n",
            "---- Incorrect Type Checking ----\n",
            "False\n",
            "False\n",
            "False\n",
            "\n",
            "---- Inflexible Type Checking ----\n",
            "True\n",
            "True\n",
            "True\n"
          ]
        }
      ]
    },
    {
      "cell_type": "markdown",
      "source": [
        "To aviod these issues, we can instead leverage the better alternative: `isinstance()` to perform type checking for us."
      ],
      "metadata": {
        "id": "GPBcpliWf9np"
      }
    },
    {
      "cell_type": "markdown",
      "source": [
        "### **`isinstance()`**\n",
        "\n",
        "`isinstance()` is a more flexible and recommended approach for type checking. It supports inheritance and allows you to check for multiple types at once.\n",
        "\n",
        "> 💡 In general, `isinstance()` is preferred over `type()` when performing type checking.\n"
      ],
      "metadata": {
        "id": "9mRTp-c6Galu"
      }
    },
    {
      "cell_type": "code",
      "source": [
        "# Better way of doing type checking\n",
        "print(isinstance(keys, Iterable))\n",
        "print(isinstance(values, Iterable))\n",
        "print(isinstance(lst, Iterable))"
      ],
      "metadata": {
        "colab": {
          "base_uri": "https://localhost:8080/"
        },
        "id": "3tqQ5yahGZ74",
        "outputId": "4e482a7b-a6f1-4527-b11e-713c2806f036"
      },
      "execution_count": 32,
      "outputs": [
        {
          "output_type": "stream",
          "name": "stdout",
          "text": [
            "True\n",
            "True\n",
            "True\n"
          ]
        }
      ]
    },
    {
      "cell_type": "markdown",
      "source": [
        "You can also check for multiple types at once like this:\n"
      ],
      "metadata": {
        "id": "dywczmfagbZw"
      }
    },
    {
      "cell_type": "code",
      "source": [
        "x = 5.0\n",
        "print(isinstance(x, (int, float)))"
      ],
      "metadata": {
        "colab": {
          "base_uri": "https://localhost:8080/"
        },
        "id": "zALEL-Gxgjzx",
        "outputId": "2837fca8-9cc6-4517-eef1-981caa351e8c"
      },
      "execution_count": 33,
      "outputs": [
        {
          "output_type": "stream",
          "name": "stdout",
          "text": [
            "True\n"
          ]
        }
      ]
    },
    {
      "cell_type": "markdown",
      "source": [
        "### **How to Properly Check Types**\n",
        "\n",
        "A common approach for type checking is to use a conditional statement with the `isinstance()` function and manually raise an error if the check fails. Here's how you can use it and some of its benefits:\n",
        "\n",
        "- **Using `isinstance()` with a Conditional**: The `isinstance()` function checks if `var_1` is an instance of Iterable. If not, it raises an error or prints an error message, depending on how you choose to handle it.\n",
        "\n",
        "- **Flexibility**: This approach allows for customized error messages and more complex handling if needed.\n",
        "\n"
      ],
      "metadata": {
        "id": "g9cwaaM7Gc_j"
      }
    },
    {
      "cell_type": "code",
      "source": [
        "var_1 = [1, 2, 3, 4]\n",
        "\n",
        "# You can choose to raise an error if the type check failed\n",
        "if not isinstance(var_1, Iterable):\n",
        "  raise TypeError(f\"Expected an iterable, but got {type(var_1).__name__}.\")\n",
        "\n",
        "var_1 = 234.32\n",
        "\n",
        "# Or handle the error by either logging it or do something with it\n",
        "if not isinstance(var_1, Iterable):\n",
        "  print(\"Error: Expected an iterable. Fix your error!\")"
      ],
      "metadata": {
        "colab": {
          "base_uri": "https://localhost:8080/"
        },
        "id": "57xRh74IGmkI",
        "outputId": "821c0426-5f1b-431a-edf4-5f16eec3a0a8"
      },
      "execution_count": 35,
      "outputs": [
        {
          "output_type": "stream",
          "name": "stdout",
          "text": [
            "Error: Expected an iterable. Fix your error!\n"
          ]
        }
      ]
    },
    {
      "cell_type": "markdown",
      "source": [
        "Alternatively, you can use the `assert` keyword, which is commonly used for testing and debugging. `assert` will raise an `AssertionError` if the condition is False.\n",
        "\n",
        "> 📒 **Suitability for Testing**\n",
        ">\n",
        "> `assert` is particularly useful during testing because it stops the program if a condition is violated, alerting you to issues in your code logic or data handling.\n",
        "\n"
      ],
      "metadata": {
        "id": "eFdAakf2Gp5c"
      }
    },
    {
      "cell_type": "code",
      "source": [
        "var_1 = [1, 2, 3, 4]\n",
        "\n",
        "print(isinstance(var_1, Iterable))  # Prints: True\n",
        "assert isinstance(var_1, Iterable), f\"Error: Expected an iterable, but got {type(var_1).__name__}.\"\n",
        "\n",
        "var_1 = 234.32\n",
        "\n",
        "print(isinstance(var_1, Iterable))  # Prints: False\n",
        "assert isinstance(var_1, Iterable), f\"Error: Expected an iterable, but got {type(var_1).__name__}.\""
      ],
      "metadata": {
        "colab": {
          "base_uri": "https://localhost:8080/",
          "height": 211
        },
        "id": "s2dTR-XBGq0q",
        "outputId": "2e576478-30b4-4dfa-dec0-3c20fc5ecc2a"
      },
      "execution_count": 36,
      "outputs": [
        {
          "output_type": "stream",
          "name": "stdout",
          "text": [
            "True\n",
            "False\n"
          ]
        },
        {
          "output_type": "error",
          "ename": "AssertionError",
          "evalue": "Error: Expected an iterable, but got float.",
          "traceback": [
            "\u001b[0;31m---------------------------------------------------------------------------\u001b[0m",
            "\u001b[0;31mAssertionError\u001b[0m                            Traceback (most recent call last)",
            "\u001b[0;32m<ipython-input-36-d3cb58ec8af6>\u001b[0m in \u001b[0;36m<cell line: 9>\u001b[0;34m()\u001b[0m\n\u001b[1;32m      7\u001b[0m \u001b[0;34m\u001b[0m\u001b[0m\n\u001b[1;32m      8\u001b[0m \u001b[0mprint\u001b[0m\u001b[0;34m(\u001b[0m\u001b[0misinstance\u001b[0m\u001b[0;34m(\u001b[0m\u001b[0mvar_1\u001b[0m\u001b[0;34m,\u001b[0m \u001b[0mIterable\u001b[0m\u001b[0;34m)\u001b[0m\u001b[0;34m)\u001b[0m  \u001b[0;31m# Prints: False\u001b[0m\u001b[0;34m\u001b[0m\u001b[0;34m\u001b[0m\u001b[0m\n\u001b[0;32m----> 9\u001b[0;31m \u001b[0;32massert\u001b[0m \u001b[0misinstance\u001b[0m\u001b[0;34m(\u001b[0m\u001b[0mvar_1\u001b[0m\u001b[0;34m,\u001b[0m \u001b[0mIterable\u001b[0m\u001b[0;34m)\u001b[0m\u001b[0;34m,\u001b[0m \u001b[0;34mf\"Error: Expected an iterable, but got {type(var_1).__name__}.\"\u001b[0m\u001b[0;34m\u001b[0m\u001b[0;34m\u001b[0m\u001b[0m\n\u001b[0m",
            "\u001b[0;31mAssertionError\u001b[0m: Error: Expected an iterable, but got float."
          ]
        }
      ]
    },
    {
      "cell_type": "markdown",
      "source": [
        "## **Understanding Tracebacks**\n",
        "\n",
        "Error messages and tracebacks are essential tools for debugging in Python. When an error occurs, Python generates a detailed message that pinpoints where the issue happened and what type of error it is. Understanding these messages can help you quickly identify and fix problems in your code and make the debugging process more efficient and less frustrating.\n",
        "\n",
        "<br>\n",
        "\n",
        "Let's look at our [user input example](#scrollTo=HyqvJkIzyUm3):\n"
      ],
      "metadata": {
        "id": "g38m6TM3QU0o"
      }
    },
    {
      "cell_type": "code",
      "source": [
        "# Put a string (such as \"apple\", \"Bob\", or \"peanut\") in the input to see the error\n",
        "cube_app_casted()"
      ],
      "metadata": {
        "colab": {
          "base_uri": "https://localhost:8080/",
          "height": 280
        },
        "id": "gYn08JIDQuHd",
        "outputId": "162b1456-75f9-4b87-8862-595a9d43a2ed"
      },
      "execution_count": 71,
      "outputs": [
        {
          "name": "stdout",
          "output_type": "stream",
          "text": [
            "Enter a number to cube:  bob\n"
          ]
        },
        {
          "output_type": "error",
          "ename": "ValueError",
          "evalue": "could not convert string to float: ' bob'",
          "traceback": [
            "\u001b[0;31m---------------------------------------------------------------------------\u001b[0m",
            "\u001b[0;31mValueError\u001b[0m                                Traceback (most recent call last)",
            "\u001b[0;32m<ipython-input-71-24db83d2379d>\u001b[0m in \u001b[0;36m<cell line: 2>\u001b[0;34m()\u001b[0m\n\u001b[1;32m      1\u001b[0m \u001b[0;31m# Put a string (such as \"apple\", \"Bob\", or \"peanut\") in the input to see the error\u001b[0m\u001b[0;34m\u001b[0m\u001b[0;34m\u001b[0m\u001b[0m\n\u001b[0;32m----> 2\u001b[0;31m \u001b[0mcube_app_casted\u001b[0m\u001b[0;34m(\u001b[0m\u001b[0;34m)\u001b[0m\u001b[0;34m\u001b[0m\u001b[0;34m\u001b[0m\u001b[0m\n\u001b[0m",
            "\u001b[0;32m<ipython-input-25-71c8d516e0d4>\u001b[0m in \u001b[0;36mcube_app_casted\u001b[0;34m()\u001b[0m\n\u001b[1;32m      1\u001b[0m \u001b[0;32mdef\u001b[0m \u001b[0mcube_app_casted\u001b[0m\u001b[0;34m(\u001b[0m\u001b[0;34m)\u001b[0m\u001b[0;34m:\u001b[0m\u001b[0;34m\u001b[0m\u001b[0;34m\u001b[0m\u001b[0m\n\u001b[1;32m      2\u001b[0m   \u001b[0muser_input\u001b[0m \u001b[0;34m=\u001b[0m \u001b[0minput\u001b[0m\u001b[0;34m(\u001b[0m\u001b[0;34m\"Enter a number to cube: \"\u001b[0m\u001b[0;34m)\u001b[0m\u001b[0;34m\u001b[0m\u001b[0;34m\u001b[0m\u001b[0m\n\u001b[0;32m----> 3\u001b[0;31m   \u001b[0mresult\u001b[0m \u001b[0;34m=\u001b[0m \u001b[0mcube\u001b[0m\u001b[0;34m(\u001b[0m\u001b[0mfloat\u001b[0m\u001b[0;34m(\u001b[0m\u001b[0muser_input\u001b[0m\u001b[0;34m)\u001b[0m\u001b[0;34m)\u001b[0m\u001b[0;34m\u001b[0m\u001b[0;34m\u001b[0m\u001b[0m\n\u001b[0m\u001b[1;32m      4\u001b[0m   \u001b[0mprint\u001b[0m\u001b[0;34m(\u001b[0m\u001b[0;34mf\"The cube of {user_input} is {result}\"\u001b[0m\u001b[0;34m)\u001b[0m\u001b[0;34m\u001b[0m\u001b[0;34m\u001b[0m\u001b[0m\n",
            "\u001b[0;31mValueError\u001b[0m: could not convert string to float: ' bob'"
          ]
        }
      ]
    },
    {
      "cell_type": "markdown",
      "source": [
        "When we run this code and input a string, Python throws an error:\n",
        "\n",
        "```markdown\n",
        "---------------------------------------------------------------------------\n",
        "ValueError                                Traceback (most recent call last)\n",
        "<ipython-input-71-24db83d2379d> in <cell line: 2>()\n",
        "      1 # Put a string (such as \"apple\", \"Bob\", or \"peanut\") in the input to see the error\n",
        "----> 2 cube_app_casted()\n",
        "\n",
        "<ipython-input-25-71c8d516e0d4> in cube_app_casted()\n",
        "      1 def cube_app_casted():\n",
        "      2   user_input = input(\"Enter a number to cube: \")\n",
        "----> 3   result = cube(float(user_input))\n",
        "      4   print(f\"The cube of {user_input} is {result}\")\n",
        "\n",
        "ValueError: could not convert string to float: ' bob'\n",
        "```\n",
        "\n",
        "<br>\n",
        "\n",
        "**Breakdown of the Traceback**\n",
        "\n",
        "- **Traceback**: The traceback shows the sequence of function calls that led to the error.\n",
        "- **File and Line Information:** Each line in the traceback provides the file name and line number where each function call occurred.\n",
        "- **Error Type:** In this case, `ValueError` indicates that Python encountered an invalid value when passing arguments into a function.\n",
        "- **Error Message:** `\"could not convert string to float: ' bob'\"` gives more context about the specific issue.\n"
      ],
      "metadata": {
        "id": "goIVCpDAQuiq"
      }
    },
    {
      "cell_type": "markdown",
      "source": [
        "## **Errors & Exceptions**\n",
        "\n",
        "In this section, we'll dive into common types of errors in Python, including syntax errors, runtime errors, and logical errors. We'll also cover how exceptions work, why they occur, and how they can be identified in code.\n",
        "\n",
        "For more details, see the official [Python Documentation on Errors and Exceptions](https://docs.python.org/3/tutorial/errors.html).\n"
      ],
      "metadata": {
        "id": "0GAHckPu7YV9"
      }
    },
    {
      "cell_type": "markdown",
      "source": [
        "### **Syntax Errors**\n",
        "\n",
        "Syntax errors occur when the Python interpreter detects incorrect syntax in the code.\n"
      ],
      "metadata": {
        "id": "D-Ay2McW8iIe"
      }
    },
    {
      "cell_type": "code",
      "source": [
        "while True print('Hello world')"
      ],
      "metadata": {
        "colab": {
          "base_uri": "https://localhost:8080/",
          "height": 106
        },
        "id": "N33MPjSO73tk",
        "outputId": "66224c1b-b3a4-406a-f11f-b4487596b1c2"
      },
      "execution_count": 37,
      "outputs": [
        {
          "output_type": "error",
          "ename": "SyntaxError",
          "evalue": "invalid syntax (<ipython-input-37-2b688bc740d7>, line 1)",
          "traceback": [
            "\u001b[0;36m  File \u001b[0;32m\"<ipython-input-37-2b688bc740d7>\"\u001b[0;36m, line \u001b[0;32m1\u001b[0m\n\u001b[0;31m    while True print('Hello world')\u001b[0m\n\u001b[0m               ^\u001b[0m\n\u001b[0;31mSyntaxError\u001b[0m\u001b[0;31m:\u001b[0m invalid syntax\n"
          ]
        }
      ]
    },
    {
      "cell_type": "markdown",
      "source": [
        "> 💡 Being good at reading and understanding error messages is key to efficient debugging. Learning to interpret these messages will help you identify the source of issues quickly and make it easier to resolve them effectively.\n"
      ],
      "metadata": {
        "id": "3FO9TLEJkpsp"
      }
    },
    {
      "cell_type": "markdown",
      "source": [
        "### **Runtime Errors (Exceptions)**\n",
        "\n",
        "In this section, we'll focus on runtime errors, or exceptions. These errors occur while a program is running. We'll explore various types of exceptions, how they interrupt code execution, and how to handle them to maintain program stability.\n"
      ],
      "metadata": {
        "id": "hacqvX2G8nfn"
      }
    },
    {
      "cell_type": "code",
      "source": [
        "# NameError\n",
        "nonexistent_var * 3"
      ],
      "metadata": {
        "colab": {
          "base_uri": "https://localhost:8080/",
          "height": 159
        },
        "id": "DlZAB8jS85T1",
        "outputId": "8a5afd07-e0f4-4e1f-8399-7167a7b35d1b"
      },
      "execution_count": 38,
      "outputs": [
        {
          "output_type": "error",
          "ename": "NameError",
          "evalue": "name 'nonexistent_var' is not defined",
          "traceback": [
            "\u001b[0;31m---------------------------------------------------------------------------\u001b[0m",
            "\u001b[0;31mNameError\u001b[0m                                 Traceback (most recent call last)",
            "\u001b[0;32m<ipython-input-38-a784b3359eaa>\u001b[0m in \u001b[0;36m<cell line: 2>\u001b[0;34m()\u001b[0m\n\u001b[1;32m      1\u001b[0m \u001b[0;31m# NameError\u001b[0m\u001b[0;34m\u001b[0m\u001b[0;34m\u001b[0m\u001b[0m\n\u001b[0;32m----> 2\u001b[0;31m \u001b[0mnonexistent_var\u001b[0m \u001b[0;34m*\u001b[0m \u001b[0;36m3\u001b[0m\u001b[0;34m\u001b[0m\u001b[0;34m\u001b[0m\u001b[0m\n\u001b[0m",
            "\u001b[0;31mNameError\u001b[0m: name 'nonexistent_var' is not defined"
          ]
        }
      ]
    },
    {
      "cell_type": "code",
      "source": [
        "# TypeError\n",
        "'2' + 2"
      ],
      "metadata": {
        "colab": {
          "base_uri": "https://localhost:8080/",
          "height": 159
        },
        "id": "JJBU467f8-Qo",
        "outputId": "76bba379-8f2d-4c19-aa6b-d59ba06a99e0"
      },
      "execution_count": 39,
      "outputs": [
        {
          "output_type": "error",
          "ename": "TypeError",
          "evalue": "can only concatenate str (not \"int\") to str",
          "traceback": [
            "\u001b[0;31m---------------------------------------------------------------------------\u001b[0m",
            "\u001b[0;31mTypeError\u001b[0m                                 Traceback (most recent call last)",
            "\u001b[0;32m<ipython-input-39-9b4afe85d229>\u001b[0m in \u001b[0;36m<cell line: 2>\u001b[0;34m()\u001b[0m\n\u001b[1;32m      1\u001b[0m \u001b[0;31m# TypeError\u001b[0m\u001b[0;34m\u001b[0m\u001b[0;34m\u001b[0m\u001b[0m\n\u001b[0;32m----> 2\u001b[0;31m \u001b[0;34m'2'\u001b[0m \u001b[0;34m+\u001b[0m \u001b[0;36m2\u001b[0m\u001b[0;34m\u001b[0m\u001b[0;34m\u001b[0m\u001b[0m\n\u001b[0m",
            "\u001b[0;31mTypeError\u001b[0m: can only concatenate str (not \"int\") to str"
          ]
        }
      ]
    },
    {
      "cell_type": "code",
      "source": [
        "# KeyError\n",
        "d2 = {\"a\": 1, \"b\": 2, \"c\": 3}\n",
        "d2[\"d\"]"
      ],
      "metadata": {
        "colab": {
          "base_uri": "https://localhost:8080/",
          "height": 176
        },
        "id": "6j34acK0xRRS",
        "outputId": "a9d67e4b-e4c6-4c53-a1f7-4116ea04ed7f"
      },
      "execution_count": 40,
      "outputs": [
        {
          "output_type": "error",
          "ename": "KeyError",
          "evalue": "'d'",
          "traceback": [
            "\u001b[0;31m---------------------------------------------------------------------------\u001b[0m",
            "\u001b[0;31mKeyError\u001b[0m                                  Traceback (most recent call last)",
            "\u001b[0;32m<ipython-input-40-d737b5de923d>\u001b[0m in \u001b[0;36m<cell line: 3>\u001b[0;34m()\u001b[0m\n\u001b[1;32m      1\u001b[0m \u001b[0;31m# KeyError\u001b[0m\u001b[0;34m\u001b[0m\u001b[0;34m\u001b[0m\u001b[0m\n\u001b[1;32m      2\u001b[0m \u001b[0md2\u001b[0m \u001b[0;34m=\u001b[0m \u001b[0;34m{\u001b[0m\u001b[0;34m\"a\"\u001b[0m\u001b[0;34m:\u001b[0m \u001b[0;36m1\u001b[0m\u001b[0;34m,\u001b[0m \u001b[0;34m\"b\"\u001b[0m\u001b[0;34m:\u001b[0m \u001b[0;36m2\u001b[0m\u001b[0;34m,\u001b[0m \u001b[0;34m\"c\"\u001b[0m\u001b[0;34m:\u001b[0m \u001b[0;36m3\u001b[0m\u001b[0;34m}\u001b[0m\u001b[0;34m\u001b[0m\u001b[0;34m\u001b[0m\u001b[0m\n\u001b[0;32m----> 3\u001b[0;31m \u001b[0md2\u001b[0m\u001b[0;34m[\u001b[0m\u001b[0;34m\"d\"\u001b[0m\u001b[0;34m]\u001b[0m\u001b[0;34m\u001b[0m\u001b[0;34m\u001b[0m\u001b[0m\n\u001b[0m",
            "\u001b[0;31mKeyError\u001b[0m: 'd'"
          ]
        }
      ]
    },
    {
      "cell_type": "code",
      "source": [
        "# ZeroDivisionError\n",
        "10.0 / 0"
      ],
      "metadata": {
        "colab": {
          "base_uri": "https://localhost:8080/",
          "height": 159
        },
        "id": "sZ5FarB78sLJ",
        "outputId": "f9afd0e8-62fb-4f4e-d8b6-b3cf0e1a68a9"
      },
      "execution_count": 41,
      "outputs": [
        {
          "output_type": "error",
          "ename": "ZeroDivisionError",
          "evalue": "float division by zero",
          "traceback": [
            "\u001b[0;31m---------------------------------------------------------------------------\u001b[0m",
            "\u001b[0;31mZeroDivisionError\u001b[0m                         Traceback (most recent call last)",
            "\u001b[0;32m<ipython-input-41-b3363a4daeb9>\u001b[0m in \u001b[0;36m<cell line: 2>\u001b[0;34m()\u001b[0m\n\u001b[1;32m      1\u001b[0m \u001b[0;31m# ZeroDivisionError\u001b[0m\u001b[0;34m\u001b[0m\u001b[0;34m\u001b[0m\u001b[0m\n\u001b[0;32m----> 2\u001b[0;31m \u001b[0;36m10.0\u001b[0m \u001b[0;34m/\u001b[0m \u001b[0;36m0\u001b[0m\u001b[0;34m\u001b[0m\u001b[0;34m\u001b[0m\u001b[0m\n\u001b[0m",
            "\u001b[0;31mZeroDivisionError\u001b[0m: float division by zero"
          ]
        }
      ]
    },
    {
      "cell_type": "code",
      "source": [
        "# Custom errors from external libraries\n",
        "import requests\n",
        "\n",
        "resp = requests.get(\"https://api.spoonacular.com/recipes/complexSearch?query=pasta&maxFat=25&number=2\")\n",
        "resp.raise_for_status()"
      ],
      "metadata": {
        "colab": {
          "base_uri": "https://localhost:8080/",
          "height": 297
        },
        "id": "QfQ9Mpl4x5-u",
        "outputId": "1fe09e51-0193-41fe-e999-ba2539056b91"
      },
      "execution_count": 42,
      "outputs": [
        {
          "output_type": "error",
          "ename": "HTTPError",
          "evalue": "401 Client Error: Unauthorized for url: https://api.spoonacular.com/recipes/complexSearch?query=pasta&maxFat=25&number=2",
          "traceback": [
            "\u001b[0;31m---------------------------------------------------------------------------\u001b[0m",
            "\u001b[0;31mHTTPError\u001b[0m                                 Traceback (most recent call last)",
            "\u001b[0;32m<ipython-input-42-b1b23273ddf2>\u001b[0m in \u001b[0;36m<cell line: 5>\u001b[0;34m()\u001b[0m\n\u001b[1;32m      3\u001b[0m \u001b[0;34m\u001b[0m\u001b[0m\n\u001b[1;32m      4\u001b[0m \u001b[0mresp\u001b[0m \u001b[0;34m=\u001b[0m \u001b[0mrequests\u001b[0m\u001b[0;34m.\u001b[0m\u001b[0mget\u001b[0m\u001b[0;34m(\u001b[0m\u001b[0;34m\"https://api.spoonacular.com/recipes/complexSearch?query=pasta&maxFat=25&number=2\"\u001b[0m\u001b[0;34m)\u001b[0m\u001b[0;34m\u001b[0m\u001b[0;34m\u001b[0m\u001b[0m\n\u001b[0;32m----> 5\u001b[0;31m \u001b[0mresp\u001b[0m\u001b[0;34m.\u001b[0m\u001b[0mraise_for_status\u001b[0m\u001b[0;34m(\u001b[0m\u001b[0;34m)\u001b[0m\u001b[0;34m\u001b[0m\u001b[0;34m\u001b[0m\u001b[0m\n\u001b[0m",
            "\u001b[0;32m/usr/local/lib/python3.10/dist-packages/requests/models.py\u001b[0m in \u001b[0;36mraise_for_status\u001b[0;34m(self)\u001b[0m\n\u001b[1;32m   1022\u001b[0m \u001b[0;34m\u001b[0m\u001b[0m\n\u001b[1;32m   1023\u001b[0m         \u001b[0;32mif\u001b[0m \u001b[0mhttp_error_msg\u001b[0m\u001b[0;34m:\u001b[0m\u001b[0;34m\u001b[0m\u001b[0;34m\u001b[0m\u001b[0m\n\u001b[0;32m-> 1024\u001b[0;31m             \u001b[0;32mraise\u001b[0m \u001b[0mHTTPError\u001b[0m\u001b[0;34m(\u001b[0m\u001b[0mhttp_error_msg\u001b[0m\u001b[0;34m,\u001b[0m \u001b[0mresponse\u001b[0m\u001b[0;34m=\u001b[0m\u001b[0mself\u001b[0m\u001b[0;34m)\u001b[0m\u001b[0;34m\u001b[0m\u001b[0;34m\u001b[0m\u001b[0m\n\u001b[0m\u001b[1;32m   1025\u001b[0m \u001b[0;34m\u001b[0m\u001b[0m\n\u001b[1;32m   1026\u001b[0m     \u001b[0;32mdef\u001b[0m \u001b[0mclose\u001b[0m\u001b[0;34m(\u001b[0m\u001b[0mself\u001b[0m\u001b[0;34m)\u001b[0m\u001b[0;34m:\u001b[0m\u001b[0;34m\u001b[0m\u001b[0;34m\u001b[0m\u001b[0m\n",
            "\u001b[0;31mHTTPError\u001b[0m: 401 Client Error: Unauthorized for url: https://api.spoonacular.com/recipes/complexSearch?query=pasta&maxFat=25&number=2"
          ]
        }
      ]
    },
    {
      "cell_type": "markdown",
      "source": [
        "### **Custom Errors**\n",
        "\n",
        "In some cases, the built-in errors provided by Python and libraries may not fully capture the specific issues you want to address in your program. Custom errors let you define exceptions that are tailored to your program's unique requirements.\n",
        "\n",
        "By creating custom error classes, you can generate more meaningful error messages and handle special cases that standard exceptions might overlook. This approach makes debugging easier and improves code clarity.\n",
        "\n",
        "<br>\n",
        "\n",
        "To create custom errors, we'll have to define a new class that inherits from the built-in `Exception` or other exception classes such as `ValueError`.\n"
      ],
      "metadata": {
        "id": "E--ry4Xyl7LP"
      }
    },
    {
      "cell_type": "code",
      "source": [
        "# Custom error for insufficient errors\n",
        "class InsufficientFundsError(Exception):\n",
        "  def __init__(self, balance, amount):\n",
        "    self.balance = balance\n",
        "    self.amount = amount\n",
        "    super().__init__(f\"Attempted to withdraw {amount}, but only {balance} is available.\")\n",
        "\n",
        "# A simple bank account class that raises the custom error\n",
        "class BankAccount:\n",
        "  def __init__(self, balance=0):\n",
        "    self.balance = balance\n",
        "\n",
        "  def deposit(self, amount):\n",
        "    if amount <= 0:\n",
        "      raise ValueError(\"Deposit amount must be positive.\")\n",
        "    self.balance += amount\n",
        "\n",
        "  def withdraw(self, amount):\n",
        "    if amount > self.balance:\n",
        "      raise InsufficientFundsError(self.balance, amount)\n",
        "    self.balance -= amount\n",
        "\n",
        "\n",
        "# Example usage\n",
        "account = BankAccount(100)\n",
        "account.withdraw(150)"
      ],
      "metadata": {
        "colab": {
          "base_uri": "https://localhost:8080/",
          "height": 297
        },
        "id": "k1xuqze5m_U1",
        "outputId": "924367f5-887f-4f1c-97e8-6c740ffda896"
      },
      "execution_count": 43,
      "outputs": [
        {
          "output_type": "error",
          "ename": "InsufficientFundsError",
          "evalue": "Attempted to withdraw 150, but only 100 is available.",
          "traceback": [
            "\u001b[0;31m---------------------------------------------------------------------------\u001b[0m",
            "\u001b[0;31mInsufficientFundsError\u001b[0m                    Traceback (most recent call last)",
            "\u001b[0;32m<ipython-input-43-51db648c80c2>\u001b[0m in \u001b[0;36m<cell line: 26>\u001b[0;34m()\u001b[0m\n\u001b[1;32m     24\u001b[0m \u001b[0;31m# Example usage\u001b[0m\u001b[0;34m\u001b[0m\u001b[0;34m\u001b[0m\u001b[0m\n\u001b[1;32m     25\u001b[0m \u001b[0maccount\u001b[0m \u001b[0;34m=\u001b[0m \u001b[0mBankAccount\u001b[0m\u001b[0;34m(\u001b[0m\u001b[0;36m100\u001b[0m\u001b[0;34m)\u001b[0m\u001b[0;34m\u001b[0m\u001b[0;34m\u001b[0m\u001b[0m\n\u001b[0;32m---> 26\u001b[0;31m \u001b[0maccount\u001b[0m\u001b[0;34m.\u001b[0m\u001b[0mwithdraw\u001b[0m\u001b[0;34m(\u001b[0m\u001b[0;36m150\u001b[0m\u001b[0;34m)\u001b[0m\u001b[0;34m\u001b[0m\u001b[0;34m\u001b[0m\u001b[0m\n\u001b[0m",
            "\u001b[0;32m<ipython-input-43-51db648c80c2>\u001b[0m in \u001b[0;36mwithdraw\u001b[0;34m(self, amount)\u001b[0m\n\u001b[1;32m     18\u001b[0m   \u001b[0;32mdef\u001b[0m \u001b[0mwithdraw\u001b[0m\u001b[0;34m(\u001b[0m\u001b[0mself\u001b[0m\u001b[0;34m,\u001b[0m \u001b[0mamount\u001b[0m\u001b[0;34m)\u001b[0m\u001b[0;34m:\u001b[0m\u001b[0;34m\u001b[0m\u001b[0;34m\u001b[0m\u001b[0m\n\u001b[1;32m     19\u001b[0m     \u001b[0;32mif\u001b[0m \u001b[0mamount\u001b[0m \u001b[0;34m>\u001b[0m \u001b[0mself\u001b[0m\u001b[0;34m.\u001b[0m\u001b[0mbalance\u001b[0m\u001b[0;34m:\u001b[0m\u001b[0;34m\u001b[0m\u001b[0;34m\u001b[0m\u001b[0m\n\u001b[0;32m---> 20\u001b[0;31m       \u001b[0;32mraise\u001b[0m \u001b[0mInsufficientFundsError\u001b[0m\u001b[0;34m(\u001b[0m\u001b[0mself\u001b[0m\u001b[0;34m.\u001b[0m\u001b[0mbalance\u001b[0m\u001b[0;34m,\u001b[0m \u001b[0mamount\u001b[0m\u001b[0;34m)\u001b[0m\u001b[0;34m\u001b[0m\u001b[0;34m\u001b[0m\u001b[0m\n\u001b[0m\u001b[1;32m     21\u001b[0m     \u001b[0mself\u001b[0m\u001b[0;34m.\u001b[0m\u001b[0mbalance\u001b[0m \u001b[0;34m-=\u001b[0m \u001b[0mamount\u001b[0m\u001b[0;34m\u001b[0m\u001b[0;34m\u001b[0m\u001b[0m\n\u001b[1;32m     22\u001b[0m \u001b[0;34m\u001b[0m\u001b[0m\n",
            "\u001b[0;31mInsufficientFundsError\u001b[0m: Attempted to withdraw 150, but only 100 is available."
          ]
        }
      ]
    },
    {
      "cell_type": "markdown",
      "source": [
        "**Explanation**\n",
        "\n",
        "1. **Custom Exception**: `InsufficientFundsError` is a custom exception that inherits from `Exception`. It includes a message that displays both the attempted withdrawal amount and the available balance.\n",
        "\n",
        "2. **BankAccount Class**: This class has `deposit` and `withdraw` methods. If the `withdraw` method is called with an amount greater than the balance, it raises an `InsufficientFundsError`.\n",
        "\n",
        "3. **Usage**: In the example usage, we attempt to withdraw more than the balance, triggering the custom exception.\n"
      ],
      "metadata": {
        "id": "4X4WMb7Eps2q"
      }
    },
    {
      "cell_type": "markdown",
      "source": [
        "### **Logical Errors**\n",
        "\n",
        "Sometimes, your code may not contain any syntax or runtime errors but could still have **human errors** such as logical errors, infinite loops, or incorrect calculations.\n",
        "\n",
        "These types of errors can be harder to spot because they don't always trigger exceptions but can still lead to unexpected results or poor performance.\n"
      ],
      "metadata": {
        "id": "OVBp9BqxCW5f"
      }
    },
    {
      "cell_type": "code",
      "source": [
        "# Logical errors leading to actual errors\n",
        "def average(numbers):\n",
        "  total = 0\n",
        "  for number in numbers:\n",
        "    total += number\n",
        "  return total / len(numbers)\n",
        "\n",
        "# Example\n",
        "numbers = [10, 20, 30]\n",
        "avg = average(numbers)\n",
        "print(\"The average is:\", average)\n",
        "\n",
        "# Logical error example\n",
        "numbers = []\n",
        "avg = average(numbers)\n",
        "print(\"The average is:\", avg) # This will give us an ZeroDivisionError"
      ],
      "metadata": {
        "colab": {
          "base_uri": "https://localhost:8080/",
          "height": 332
        },
        "id": "JBpoY2LUthaq",
        "outputId": "7ecc0814-6869-4104-ea79-bdcef822ac61"
      },
      "execution_count": 44,
      "outputs": [
        {
          "output_type": "stream",
          "name": "stdout",
          "text": [
            "The average is: <function average at 0x7dff43503640>\n"
          ]
        },
        {
          "output_type": "error",
          "ename": "ZeroDivisionError",
          "evalue": "division by zero",
          "traceback": [
            "\u001b[0;31m---------------------------------------------------------------------------\u001b[0m",
            "\u001b[0;31mZeroDivisionError\u001b[0m                         Traceback (most recent call last)",
            "\u001b[0;32m<ipython-input-44-8906118e7951>\u001b[0m in \u001b[0;36m<cell line: 15>\u001b[0;34m()\u001b[0m\n\u001b[1;32m     13\u001b[0m \u001b[0;31m# Logical error example\u001b[0m\u001b[0;34m\u001b[0m\u001b[0;34m\u001b[0m\u001b[0m\n\u001b[1;32m     14\u001b[0m \u001b[0mnumbers\u001b[0m \u001b[0;34m=\u001b[0m \u001b[0;34m[\u001b[0m\u001b[0;34m]\u001b[0m\u001b[0;34m\u001b[0m\u001b[0;34m\u001b[0m\u001b[0m\n\u001b[0;32m---> 15\u001b[0;31m \u001b[0mavg\u001b[0m \u001b[0;34m=\u001b[0m \u001b[0maverage\u001b[0m\u001b[0;34m(\u001b[0m\u001b[0mnumbers\u001b[0m\u001b[0;34m)\u001b[0m\u001b[0;34m\u001b[0m\u001b[0;34m\u001b[0m\u001b[0m\n\u001b[0m\u001b[1;32m     16\u001b[0m \u001b[0mprint\u001b[0m\u001b[0;34m(\u001b[0m\u001b[0;34m\"The average is:\"\u001b[0m\u001b[0;34m,\u001b[0m \u001b[0mavg\u001b[0m\u001b[0;34m)\u001b[0m \u001b[0;31m# This will give us an ZeroDivisionError\u001b[0m\u001b[0;34m\u001b[0m\u001b[0;34m\u001b[0m\u001b[0m\n",
            "\u001b[0;32m<ipython-input-44-8906118e7951>\u001b[0m in \u001b[0;36maverage\u001b[0;34m(numbers)\u001b[0m\n\u001b[1;32m      4\u001b[0m   \u001b[0;32mfor\u001b[0m \u001b[0mnumber\u001b[0m \u001b[0;32min\u001b[0m \u001b[0mnumbers\u001b[0m\u001b[0;34m:\u001b[0m\u001b[0;34m\u001b[0m\u001b[0;34m\u001b[0m\u001b[0m\n\u001b[1;32m      5\u001b[0m     \u001b[0mtotal\u001b[0m \u001b[0;34m+=\u001b[0m \u001b[0mnumber\u001b[0m\u001b[0;34m\u001b[0m\u001b[0;34m\u001b[0m\u001b[0m\n\u001b[0;32m----> 6\u001b[0;31m   \u001b[0;32mreturn\u001b[0m \u001b[0mtotal\u001b[0m \u001b[0;34m/\u001b[0m \u001b[0mlen\u001b[0m\u001b[0;34m(\u001b[0m\u001b[0mnumbers\u001b[0m\u001b[0;34m)\u001b[0m\u001b[0;34m\u001b[0m\u001b[0;34m\u001b[0m\u001b[0m\n\u001b[0m\u001b[1;32m      7\u001b[0m \u001b[0;34m\u001b[0m\u001b[0m\n\u001b[1;32m      8\u001b[0m \u001b[0;31m# Example\u001b[0m\u001b[0;34m\u001b[0m\u001b[0;34m\u001b[0m\u001b[0m\n",
            "\u001b[0;31mZeroDivisionError\u001b[0m: division by zero"
          ]
        }
      ]
    },
    {
      "cell_type": "markdown",
      "source": [
        "This code seems correct, but it contains a logical error. The `calculate_average` function calculates the sum of the numbers correctly, but it divides by the length of the list numbers even if the list is empty, which will result in a `ZeroDivisionError`.\n",
        "\n",
        "To fix this, we can check if the list is empty before performing the division:\n"
      ],
      "metadata": {
        "id": "9xJwBsScwVaf"
      }
    },
    {
      "cell_type": "code",
      "source": [
        "def average_fixed(numbers):\n",
        "  if not numbers:\n",
        "    return 0  # Handle the case where the list is empty\n",
        "\n",
        "  total = 0\n",
        "  for number in numbers:\n",
        "    total += number\n",
        "  return total / len(numbers)\n",
        "\n",
        "# Examples\n",
        "numbers = [10, 20, 30]\n",
        "avg = average_fixed(numbers)\n",
        "print(\"The average is:\", avg)\n",
        "\n",
        "numbers = []\n",
        "avg = average_fixed(numbers)\n",
        "print(\"The average is:\", avg)"
      ],
      "metadata": {
        "colab": {
          "base_uri": "https://localhost:8080/"
        },
        "id": "IZzmHRVjxG7K",
        "outputId": "646e766c-0b52-499e-934c-1666e109c5cf"
      },
      "execution_count": 45,
      "outputs": [
        {
          "output_type": "stream",
          "name": "stdout",
          "text": [
            "The average is: 20.0\n",
            "The average is: 0\n"
          ]
        }
      ]
    },
    {
      "cell_type": "markdown",
      "source": [
        "### **Manually Raising Exceptions**\n",
        "\n",
        "There are times when you may need to deliberately raise an exception to signal an error or enforce certain conditions in your code.\n",
        "\n",
        "Python's `raise` statement allows you to manually trigger exceptions, either with built-in error types or custom ones. Let's look at some examples:\n"
      ],
      "metadata": {
        "id": "DXiYBDZaxuFM"
      }
    },
    {
      "cell_type": "code",
      "source": [
        "# Raising a generic exception manually\n",
        "raise Exception('Error message')"
      ],
      "metadata": {
        "colab": {
          "base_uri": "https://localhost:8080/",
          "height": 159
        },
        "id": "97zVlEcfo-kz",
        "outputId": "5a27dd40-3ae2-4a17-de04-37927b97782e"
      },
      "execution_count": 46,
      "outputs": [
        {
          "output_type": "error",
          "ename": "Exception",
          "evalue": "Error message",
          "traceback": [
            "\u001b[0;31m---------------------------------------------------------------------------\u001b[0m",
            "\u001b[0;31mException\u001b[0m                                 Traceback (most recent call last)",
            "\u001b[0;32m<ipython-input-46-f685d5eeebe5>\u001b[0m in \u001b[0;36m<cell line: 2>\u001b[0;34m()\u001b[0m\n\u001b[1;32m      1\u001b[0m \u001b[0;31m# Raising a generic exception manually\u001b[0m\u001b[0;34m\u001b[0m\u001b[0;34m\u001b[0m\u001b[0m\n\u001b[0;32m----> 2\u001b[0;31m \u001b[0;32mraise\u001b[0m \u001b[0mException\u001b[0m\u001b[0;34m(\u001b[0m\u001b[0;34m'Error message'\u001b[0m\u001b[0;34m)\u001b[0m\u001b[0;34m\u001b[0m\u001b[0;34m\u001b[0m\u001b[0m\n\u001b[0m",
            "\u001b[0;31mException\u001b[0m: Error message"
          ]
        }
      ]
    },
    {
      "cell_type": "code",
      "source": [
        "# Raising a specific kind of exception\n",
        "raise NameError('Error message')"
      ],
      "metadata": {
        "colab": {
          "base_uri": "https://localhost:8080/",
          "height": 159
        },
        "id": "x2tmmwgpx3hB",
        "outputId": "95109b7c-8d8f-45c0-a98e-36a58db4d79c"
      },
      "execution_count": 47,
      "outputs": [
        {
          "output_type": "error",
          "ename": "NameError",
          "evalue": "Error message",
          "traceback": [
            "\u001b[0;31m---------------------------------------------------------------------------\u001b[0m",
            "\u001b[0;31mNameError\u001b[0m                                 Traceback (most recent call last)",
            "\u001b[0;32m<ipython-input-47-6989a6a230c0>\u001b[0m in \u001b[0;36m<cell line: 2>\u001b[0;34m()\u001b[0m\n\u001b[1;32m      1\u001b[0m \u001b[0;31m# Raising a specific kind of exception\u001b[0m\u001b[0;34m\u001b[0m\u001b[0;34m\u001b[0m\u001b[0m\n\u001b[0;32m----> 2\u001b[0;31m \u001b[0;32mraise\u001b[0m \u001b[0mNameError\u001b[0m\u001b[0;34m(\u001b[0m\u001b[0;34m'Error message'\u001b[0m\u001b[0;34m)\u001b[0m\u001b[0;34m\u001b[0m\u001b[0;34m\u001b[0m\u001b[0m\n\u001b[0m",
            "\u001b[0;31mNameError\u001b[0m: Error message"
          ]
        }
      ]
    },
    {
      "cell_type": "code",
      "source": [
        "# Raising errors based on different conditions\n",
        "def check_age(age):\n",
        "  if age < 0:\n",
        "    raise ValueError(\"Age cannot be negative.\")\n",
        "  elif age < 18:\n",
        "    raise PermissionError(\"You must be at least 18 years old.\")\n",
        "  else:\n",
        "    print(\"Access granted.\")\n",
        "\n",
        "# Example\n",
        "check_age(-5)"
      ],
      "metadata": {
        "colab": {
          "base_uri": "https://localhost:8080/",
          "height": 297
        },
        "id": "ZHSOFaHMpkms",
        "outputId": "63d199c7-b1f0-441e-8185-e6c0ed197457"
      },
      "execution_count": 48,
      "outputs": [
        {
          "output_type": "error",
          "ename": "ValueError",
          "evalue": "Age cannot be negative.",
          "traceback": [
            "\u001b[0;31m---------------------------------------------------------------------------\u001b[0m",
            "\u001b[0;31mValueError\u001b[0m                                Traceback (most recent call last)",
            "\u001b[0;32m<ipython-input-48-94446da4d240>\u001b[0m in \u001b[0;36m<cell line: 11>\u001b[0;34m()\u001b[0m\n\u001b[1;32m      9\u001b[0m \u001b[0;34m\u001b[0m\u001b[0m\n\u001b[1;32m     10\u001b[0m \u001b[0;31m# Example\u001b[0m\u001b[0;34m\u001b[0m\u001b[0;34m\u001b[0m\u001b[0m\n\u001b[0;32m---> 11\u001b[0;31m \u001b[0mcheck_age\u001b[0m\u001b[0;34m(\u001b[0m\u001b[0;34m-\u001b[0m\u001b[0;36m5\u001b[0m\u001b[0;34m)\u001b[0m\u001b[0;34m\u001b[0m\u001b[0;34m\u001b[0m\u001b[0m\n\u001b[0m",
            "\u001b[0;32m<ipython-input-48-94446da4d240>\u001b[0m in \u001b[0;36mcheck_age\u001b[0;34m(age)\u001b[0m\n\u001b[1;32m      2\u001b[0m \u001b[0;32mdef\u001b[0m \u001b[0mcheck_age\u001b[0m\u001b[0;34m(\u001b[0m\u001b[0mage\u001b[0m\u001b[0;34m)\u001b[0m\u001b[0;34m:\u001b[0m\u001b[0;34m\u001b[0m\u001b[0;34m\u001b[0m\u001b[0m\n\u001b[1;32m      3\u001b[0m   \u001b[0;32mif\u001b[0m \u001b[0mage\u001b[0m \u001b[0;34m<\u001b[0m \u001b[0;36m0\u001b[0m\u001b[0;34m:\u001b[0m\u001b[0;34m\u001b[0m\u001b[0;34m\u001b[0m\u001b[0m\n\u001b[0;32m----> 4\u001b[0;31m     \u001b[0;32mraise\u001b[0m \u001b[0mValueError\u001b[0m\u001b[0;34m(\u001b[0m\u001b[0;34m\"Age cannot be negative.\"\u001b[0m\u001b[0;34m)\u001b[0m\u001b[0;34m\u001b[0m\u001b[0;34m\u001b[0m\u001b[0m\n\u001b[0m\u001b[1;32m      5\u001b[0m   \u001b[0;32melif\u001b[0m \u001b[0mage\u001b[0m \u001b[0;34m<\u001b[0m \u001b[0;36m18\u001b[0m\u001b[0;34m:\u001b[0m\u001b[0;34m\u001b[0m\u001b[0;34m\u001b[0m\u001b[0m\n\u001b[1;32m      6\u001b[0m     \u001b[0;32mraise\u001b[0m \u001b[0mPermissionError\u001b[0m\u001b[0;34m(\u001b[0m\u001b[0;34m\"You must be at least 18 years old.\"\u001b[0m\u001b[0;34m)\u001b[0m\u001b[0;34m\u001b[0m\u001b[0;34m\u001b[0m\u001b[0m\n",
            "\u001b[0;31mValueError\u001b[0m: Age cannot be negative."
          ]
        }
      ]
    },
    {
      "cell_type": "markdown",
      "source": [
        "**Explanation**\n",
        "\n",
        "1. **Manual Exception Raising**: The `check_age` function checks the `age` parameter. If `age` is less than 0, it raises a `ValueError`. If `age` is less than 18 but non-negative, it raises a `PermissionError`.\n",
        "\n",
        "2. **Using `raise` for Validation**: Raising these exceptions helps validate inputs and enforce rules (e.g., age restrictions) directly in the code.\n"
      ],
      "metadata": {
        "id": "cmxxS9HNqCsT"
      }
    },
    {
      "cell_type": "markdown",
      "source": [
        "### **Combine Type Checking with Raising Exceptions**\n",
        "\n",
        "Type checking can be combined with raising exceptions to make your code more robust and user-friendly.\n",
        "\n",
        "By checking the type of inputs and raising custom error messages when the type is incorrect, you can prevent unexpected behavior and make debugging easier.\n"
      ],
      "metadata": {
        "id": "QchEksnl9kOI"
      }
    },
    {
      "cell_type": "code",
      "source": [
        "def process_data(data):\n",
        "  if not isinstance(data, Iterable):\n",
        "    raise TypeError(f\"Expected an iterable, but got {type(data).__name__}: '{data}'\")\n",
        "\n",
        "  # Continue with processing if data is an iterable\n",
        "  print(\"Processing data:\", data)\n",
        "\n",
        "process_data([1, 2, 3])  # Valid input\n",
        "process_data(42)         # Invalid input, will raise TypeError"
      ],
      "metadata": {
        "colab": {
          "base_uri": "https://localhost:8080/",
          "height": 315
        },
        "id": "8lwYLTxNmmwK",
        "outputId": "ce0e07fa-c323-4e79-8014-28694a3be1a1"
      },
      "execution_count": 49,
      "outputs": [
        {
          "output_type": "stream",
          "name": "stdout",
          "text": [
            "Processing data: [1, 2, 3]\n"
          ]
        },
        {
          "output_type": "error",
          "ename": "TypeError",
          "evalue": "Expected an iterable, but got int: '42'",
          "traceback": [
            "\u001b[0;31m---------------------------------------------------------------------------\u001b[0m",
            "\u001b[0;31mTypeError\u001b[0m                                 Traceback (most recent call last)",
            "\u001b[0;32m<ipython-input-49-b52af2ab1b70>\u001b[0m in \u001b[0;36m<cell line: 9>\u001b[0;34m()\u001b[0m\n\u001b[1;32m      7\u001b[0m \u001b[0;34m\u001b[0m\u001b[0m\n\u001b[1;32m      8\u001b[0m \u001b[0mprocess_data\u001b[0m\u001b[0;34m(\u001b[0m\u001b[0;34m[\u001b[0m\u001b[0;36m1\u001b[0m\u001b[0;34m,\u001b[0m \u001b[0;36m2\u001b[0m\u001b[0;34m,\u001b[0m \u001b[0;36m3\u001b[0m\u001b[0;34m]\u001b[0m\u001b[0;34m)\u001b[0m  \u001b[0;31m# Valid input\u001b[0m\u001b[0;34m\u001b[0m\u001b[0;34m\u001b[0m\u001b[0m\n\u001b[0;32m----> 9\u001b[0;31m \u001b[0mprocess_data\u001b[0m\u001b[0;34m(\u001b[0m\u001b[0;36m42\u001b[0m\u001b[0;34m)\u001b[0m         \u001b[0;31m# Invalid input, will raise TypeError\u001b[0m\u001b[0;34m\u001b[0m\u001b[0;34m\u001b[0m\u001b[0m\n\u001b[0m",
            "\u001b[0;32m<ipython-input-49-b52af2ab1b70>\u001b[0m in \u001b[0;36mprocess_data\u001b[0;34m(data)\u001b[0m\n\u001b[1;32m      1\u001b[0m \u001b[0;32mdef\u001b[0m \u001b[0mprocess_data\u001b[0m\u001b[0;34m(\u001b[0m\u001b[0mdata\u001b[0m\u001b[0;34m)\u001b[0m\u001b[0;34m:\u001b[0m\u001b[0;34m\u001b[0m\u001b[0;34m\u001b[0m\u001b[0m\n\u001b[1;32m      2\u001b[0m   \u001b[0;32mif\u001b[0m \u001b[0;32mnot\u001b[0m \u001b[0misinstance\u001b[0m\u001b[0;34m(\u001b[0m\u001b[0mdata\u001b[0m\u001b[0;34m,\u001b[0m \u001b[0mIterable\u001b[0m\u001b[0;34m)\u001b[0m\u001b[0;34m:\u001b[0m\u001b[0;34m\u001b[0m\u001b[0;34m\u001b[0m\u001b[0m\n\u001b[0;32m----> 3\u001b[0;31m     \u001b[0;32mraise\u001b[0m \u001b[0mTypeError\u001b[0m\u001b[0;34m(\u001b[0m\u001b[0;34mf\"Expected an iterable, but got {type(data).__name__}: '{data}'\"\u001b[0m\u001b[0;34m)\u001b[0m\u001b[0;34m\u001b[0m\u001b[0;34m\u001b[0m\u001b[0m\n\u001b[0m\u001b[1;32m      4\u001b[0m \u001b[0;34m\u001b[0m\u001b[0m\n\u001b[1;32m      5\u001b[0m   \u001b[0;31m# Continue with processing if data is an iterable\u001b[0m\u001b[0;34m\u001b[0m\u001b[0;34m\u001b[0m\u001b[0m\n",
            "\u001b[0;31mTypeError\u001b[0m: Expected an iterable, but got int: '42'"
          ]
        }
      ]
    },
    {
      "cell_type": "markdown",
      "source": [
        "## **Handling Errors & Exceptions**\n",
        "\n",
        "In Python, you can handle exceptions using `try`, `except`, `else`, and `finally` blocks to manage different outcomes in your code:\n",
        "\n",
        "- **`try`**: Use this block to wrap code that might raise an exception. If an error occurs, Python will jump to the `except` block.\n",
        "- **`except`**: This block handles the error, allowing the program to continue running or to provide a helpful error message instead of crashing. Multiple `except` blocks are allowed.\n",
        "- **`else`**: If no exceptions occur in the `try` block, the code in the `else` block will run. This is useful for code that should only execute when no errors are raised.\n",
        "- **`finally`**: This block will always run, regardless of whether an exception was raised or not. It's typically used for cleanup tasks, like closing files or releasing resources.\n"
      ],
      "metadata": {
        "id": "2-spc3mG9BiP"
      }
    },
    {
      "cell_type": "markdown",
      "source": [
        "#### **Handling Generic Exceptions**\n",
        "\n",
        "If you are unsure what kind of exception might occur, you can use a generic `except` block to handle any exception. However, it is generally recommended to avoid catching all exceptions this way unless absolutely necessary, as it can mask important errors and make debugging more challenging.\n",
        "\n",
        "> 💡 **Important:** When possible, specify the exceptions you want to catch explicitly instead of using a generic catch all exception for better error management.\n"
      ],
      "metadata": {
        "id": "hlY90HYLWRZg"
      }
    },
    {
      "cell_type": "code",
      "source": [
        "# Generic Exceptions\n",
        "try:\n",
        "  print(nonexistent_var)\n",
        "except Exception as e:\n",
        "  print(e)\n",
        "  print(\"...do something else\")"
      ],
      "metadata": {
        "colab": {
          "base_uri": "https://localhost:8080/"
        },
        "id": "wZZmXVH49prm",
        "outputId": "ac237eb1-742c-402e-d2a7-1eb7ed768477"
      },
      "execution_count": 50,
      "outputs": [
        {
          "output_type": "stream",
          "name": "stdout",
          "text": [
            "name 'nonexistent_var' is not defined\n",
            "...do something else\n"
          ]
        }
      ]
    },
    {
      "cell_type": "markdown",
      "source": [
        "#### **Handling Specific Exceptions**\n",
        "\n",
        "Using specific exceptions (like `ValueError` or `ZeroDivisionError`) improves code clarity, as it's clearer which errors you expect and handle.\n",
        "\n",
        "Generic exceptions should be reserved for cases where you genuinely need to capture any unexpected issue, such as logging errors in critical applications or unknown input conditions.\n",
        "\n",
        "> *Uncomment each print statement individually to see how Python handles specific exceptions.*\n"
      ],
      "metadata": {
        "id": "ZFmVHqTgWpQT"
      }
    },
    {
      "cell_type": "code",
      "source": [
        "import requests\n",
        "\n",
        "\n",
        "dict1 = {\"1\": \"apple\", \"2\": \"banana\"}\n",
        "l1 = [1, 2, 3, 4]\n",
        "\n",
        "try:\n",
        "  # Uncomment one line at a time to see each exception handling in action\n",
        "\n",
        "  # Name error\n",
        "  # print(nonexistent_var)\n",
        "\n",
        "  # Key error\n",
        "  # print(dict1[\"3\"])\n",
        "\n",
        "  # HTTPError\n",
        "  resp = requests.get(\"https://api.spoonacular.com/recipes/complexSearch?query=pasta&maxFat=25&number=2\")\n",
        "  resp.raise_for_status()  # Raises HTTPError for unsuccessful status codes\n",
        "\n",
        "  # Index error (other kinds of unspecified error)\n",
        "  # print(l1[5])\n",
        "except NameError as e:\n",
        "  print(\"This is a NameError: A variable is being used before it is defined.\")\n",
        "except KeyError as e:\n",
        "  print(\"This is a KeyError: Trying to access a dictionary key that doesn’t exist.\")\n",
        "except requests.exceptions.HTTPError as e:\n",
        "  print(\"This is an HTTPError: A request was unsuccessful (e.g., bad status code).\")\n",
        "except Exception as e:\n",
        "  print(\"This is a generic exception, which can be used to catch all unspecified exceptions.\")"
      ],
      "metadata": {
        "colab": {
          "base_uri": "https://localhost:8080/"
        },
        "id": "YZw9wpmz-wZK",
        "outputId": "6c8d4772-5935-4b55-f49a-d852c456c9d5"
      },
      "execution_count": 51,
      "outputs": [
        {
          "output_type": "stream",
          "name": "stdout",
          "text": [
            "This is an HTTPError: A request was unsuccessful (e.g., bad status code).\n"
          ]
        }
      ]
    },
    {
      "cell_type": "markdown",
      "source": [
        "> ❗❗ It is important to note that when you handle specific exceptions, any exceptions that aren't explicitly listed will still cause an error and stop the program, which will help you discover unexpected errors in your code.\n"
      ],
      "metadata": {
        "id": "IjLKk1ZlwkQY"
      }
    },
    {
      "cell_type": "code",
      "source": [
        "try:\n",
        "  print(nonexistent_var)\n",
        "except TypeError as _:\n",
        "  print(\"No TypeError in try block, failed to catch error\")"
      ],
      "metadata": {
        "colab": {
          "base_uri": "https://localhost:8080/",
          "height": 193
        },
        "id": "g_WAbXZK-H8g",
        "outputId": "cee6bdcd-0996-4042-bbd6-4f7f92994251"
      },
      "execution_count": 52,
      "outputs": [
        {
          "output_type": "error",
          "ename": "NameError",
          "evalue": "name 'nonexistent_var' is not defined",
          "traceback": [
            "\u001b[0;31m---------------------------------------------------------------------------\u001b[0m",
            "\u001b[0;31mNameError\u001b[0m                                 Traceback (most recent call last)",
            "\u001b[0;32m<ipython-input-52-2b287ee1d36b>\u001b[0m in \u001b[0;36m<cell line: 1>\u001b[0;34m()\u001b[0m\n\u001b[1;32m      1\u001b[0m \u001b[0;32mtry\u001b[0m\u001b[0;34m:\u001b[0m\u001b[0;34m\u001b[0m\u001b[0;34m\u001b[0m\u001b[0m\n\u001b[0;32m----> 2\u001b[0;31m   \u001b[0mprint\u001b[0m\u001b[0;34m(\u001b[0m\u001b[0mnonexistent_var\u001b[0m\u001b[0;34m)\u001b[0m\u001b[0;34m\u001b[0m\u001b[0;34m\u001b[0m\u001b[0m\n\u001b[0m\u001b[1;32m      3\u001b[0m \u001b[0;32mexcept\u001b[0m \u001b[0mTypeError\u001b[0m \u001b[0;32mas\u001b[0m \u001b[0m_\u001b[0m\u001b[0;34m:\u001b[0m\u001b[0;34m\u001b[0m\u001b[0;34m\u001b[0m\u001b[0m\n\u001b[1;32m      4\u001b[0m   \u001b[0mprint\u001b[0m\u001b[0;34m(\u001b[0m\u001b[0;34m\"No TypeError in try block, failed to catch error\"\u001b[0m\u001b[0;34m)\u001b[0m\u001b[0;34m\u001b[0m\u001b[0;34m\u001b[0m\u001b[0m\n",
            "\u001b[0;31mNameError\u001b[0m: name 'nonexistent_var' is not defined"
          ]
        }
      ]
    },
    {
      "cell_type": "code",
      "source": [
        "l2 = [\"red\", \"green\", \"blue\", \"orange\"]\n",
        "print(l2)\n",
        "idx = input(\"Input the index of a color you would like to see: \")\n",
        "\n",
        "try:\n",
        "  print(l2[int(idx)])\n",
        "except IndexError as e:\n",
        "  print(f\"Index Error: {e}\")"
      ],
      "metadata": {
        "colab": {
          "base_uri": "https://localhost:8080/",
          "height": 245
        },
        "id": "CYwFx9PHFNys",
        "outputId": "75c86a4f-d94c-4ac0-c371-e63ef1a457b9"
      },
      "execution_count": 53,
      "outputs": [
        {
          "name": "stdout",
          "output_type": "stream",
          "text": [
            "['red', 'green', 'blue', 'orange']\n",
            "Input the index of a color you would like to see: red\n"
          ]
        },
        {
          "output_type": "error",
          "ename": "ValueError",
          "evalue": "invalid literal for int() with base 10: 'red'",
          "traceback": [
            "\u001b[0;31m---------------------------------------------------------------------------\u001b[0m",
            "\u001b[0;31mValueError\u001b[0m                                Traceback (most recent call last)",
            "\u001b[0;32m<ipython-input-53-29e05a6010c1>\u001b[0m in \u001b[0;36m<cell line: 5>\u001b[0;34m()\u001b[0m\n\u001b[1;32m      4\u001b[0m \u001b[0;34m\u001b[0m\u001b[0m\n\u001b[1;32m      5\u001b[0m \u001b[0;32mtry\u001b[0m\u001b[0;34m:\u001b[0m\u001b[0;34m\u001b[0m\u001b[0;34m\u001b[0m\u001b[0m\n\u001b[0;32m----> 6\u001b[0;31m   \u001b[0mprint\u001b[0m\u001b[0;34m(\u001b[0m\u001b[0ml2\u001b[0m\u001b[0;34m[\u001b[0m\u001b[0mint\u001b[0m\u001b[0;34m(\u001b[0m\u001b[0midx\u001b[0m\u001b[0;34m)\u001b[0m\u001b[0;34m]\u001b[0m\u001b[0;34m)\u001b[0m\u001b[0;34m\u001b[0m\u001b[0;34m\u001b[0m\u001b[0m\n\u001b[0m\u001b[1;32m      7\u001b[0m \u001b[0;32mexcept\u001b[0m \u001b[0mIndexError\u001b[0m \u001b[0;32mas\u001b[0m \u001b[0me\u001b[0m\u001b[0;34m:\u001b[0m\u001b[0;34m\u001b[0m\u001b[0;34m\u001b[0m\u001b[0m\n\u001b[1;32m      8\u001b[0m   \u001b[0mprint\u001b[0m\u001b[0;34m(\u001b[0m\u001b[0;34mf\"Index Error: {e}\"\u001b[0m\u001b[0;34m)\u001b[0m\u001b[0;34m\u001b[0m\u001b[0;34m\u001b[0m\u001b[0m\n",
            "\u001b[0;31mValueError\u001b[0m: invalid literal for int() with base 10: 'red'"
          ]
        }
      ]
    },
    {
      "cell_type": "markdown",
      "source": [
        "For example, in the code above, I initially only checked for an `IndexError`, assuming it would be the only potential error. However, by running the code and observing all exceptions, I discovered a `ValueError` that could also occur when the program tries to convert a non-numeric string to an integer.\n",
        "\n",
        "> *Catching these unexpected errors improves my understanding of my own code and helps me better understand how it behaves in various scenarios.*\n"
      ],
      "metadata": {
        "id": "FmSaAvIKG576"
      }
    },
    {
      "cell_type": "markdown",
      "source": [
        "#### **Handling Cases with No Exceptions and Cleanup**\n",
        "\n",
        "In Python, the `else` and `finally` blocks can be used to handle situations where no exceptions occur and to perform any necessary cleanup, regardless of whether an exception was raised.\n",
        "\n",
        "- **`else`**: Executes only if no exceptions were raised in the `try` block. This is useful for code that should only run when everything goes smoothly.\n",
        "- **`finally`**: Always executes, whether an exception was raised or not. This block is ideal for cleanup tasks, such as closing files or releasing resources.\n",
        "\n",
        "<br>\n",
        "\n",
        "Let's look at an example:\n"
      ],
      "metadata": {
        "id": "GgG9TpAd_00A"
      }
    },
    {
      "cell_type": "code",
      "source": [
        "try:\n",
        "  file = open(\"example.txt\", \"r\")\n",
        "  content = file.read()\n",
        "except FileNotFoundError:\n",
        "  print(\"Error: The file was not found.\")\n",
        "else:\n",
        "  print(\"File read successfully!\")\n",
        "  print(content)\n",
        "finally:\n",
        "  if 'file' in locals():\n",
        "    file.close()\n",
        "    print(\"File closed.\")"
      ],
      "metadata": {
        "colab": {
          "base_uri": "https://localhost:8080/"
        },
        "id": "b_oIufzlzpsG",
        "outputId": "c607f6db-1d89-41b5-e40c-6da788a45b10"
      },
      "execution_count": 54,
      "outputs": [
        {
          "output_type": "stream",
          "name": "stdout",
          "text": [
            "Error: The file was not found.\n"
          ]
        }
      ]
    },
    {
      "cell_type": "markdown",
      "source": [
        "**Explanation**\n",
        "\n",
        "1. **`try`**: Attempts to open and read from `example.txt`.\n",
        "2. **`except`**: Catches a `FileNotFoundError` if the file doesn't exist, preventing a crash.\n",
        "3. **`else`**: Runs only if the file is found and read successfully, allowing you to print the file's content.\n",
        "4. **`finally`**: Ensures the file is closed whether or not an exception occurred to prevent potential resource leaks.\n"
      ],
      "metadata": {
        "id": "ywiD9T0Uz32l"
      }
    },
    {
      "cell_type": "markdown",
      "source": [
        "### **Fixing Example: User Input**\n",
        "\n",
        "Now that we've learned about type checking and error handling, let's fix our [user input example](#scrollTo=HyqvJkIzyUm3) to make it more secure using what we've learned so far.\n"
      ],
      "metadata": {
        "id": "mERQAgj4IM_8"
      }
    },
    {
      "cell_type": "code",
      "source": [
        "# This is exactly the same as the one from the example, putting it here for the ease of access\n",
        "def cube(x):\n",
        "  return x ** 3"
      ],
      "metadata": {
        "id": "pV43wWOwI5s2"
      },
      "execution_count": 55,
      "outputs": []
    },
    {
      "cell_type": "code",
      "source": [
        "def cube_app_fixed():\n",
        "  # Your code goes here\n",
        "  ..."
      ],
      "metadata": {
        "id": "cxufqBAUIsQ0"
      },
      "execution_count": null,
      "outputs": []
    },
    {
      "cell_type": "code",
      "source": [
        "# @title **Solution**\n",
        "def cube_app_fixed():\n",
        "  while True:\n",
        "    user_input = input(\"Enter a number to cube: \").strip()\n",
        "\n",
        "    try:\n",
        "      result = cube(float(user_input))  # Converting user_input to float (might result in error)\n",
        "    except ValueError:\n",
        "      print(\"Invalid input. Please enter a valid number.\")\n",
        "    else:\n",
        "      print(f\"The cube of {user_input} is {result}\")\n",
        "      return"
      ],
      "metadata": {
        "id": "F2PIQo96I15u",
        "cellView": "form"
      },
      "execution_count": 21,
      "outputs": []
    },
    {
      "cell_type": "code",
      "source": [
        "# Run this cell to check your solution\n",
        "cube_app_fixed()"
      ],
      "metadata": {
        "id": "rdpoaQfUJ8fE"
      },
      "execution_count": null,
      "outputs": []
    },
    {
      "cell_type": "markdown",
      "source": [
        "## **Testing Your Code**\n",
        "\n",
        "Testing is essential to ensure that your code works as expected and handles errors properly. Various approaches and methodologies exist for testing, such as **unit tests**, **integration tests**, and **system tests**.\n",
        "\n",
        "In this course, we'll focus on the basics of **unit testing**, which involves testing individual functions or components in isolation.\n"
      ],
      "metadata": {
        "id": "22qEVIyKG_i0"
      }
    },
    {
      "cell_type": "markdown",
      "source": [
        "### **Getting Started with Unit Testing**\n",
        "\n",
        "To start unit testing, create test cases for specific functions or components to verify that they work as expected.\n",
        "\n",
        "You can perform these tests manually, but using a library like `pytest` simplifies and enhances the process.\n",
        "\n",
        "**Benefits of unit testing**\n",
        "\n",
        "- **Verify functionality**: Confirm that each part of your code behaves as expected.\n",
        "- **Catch bugs early**: Identify issues during development, reducing problems later on.\n",
        "- **Improve maintainability**: Simplify future code changes by confirming that core behaviors remain stable.\n",
        "\n",
        "Let's take a look at how you can test your code manually:\n"
      ],
      "metadata": {
        "id": "03D9NL7sGPWw"
      }
    },
    {
      "cell_type": "code",
      "source": [
        "# Create the function to be tested\n",
        "def add(a: int | float, b: int | float) -> int | float:\n",
        "  return a + b"
      ],
      "metadata": {
        "id": "U1V68XHEJCpe"
      },
      "execution_count": 56,
      "outputs": []
    },
    {
      "cell_type": "code",
      "source": [
        "# Write some test cases to make sure the results from the function is correct\n",
        "res = add(2, 3)\n",
        "assert res == 5\n",
        "\n",
        "res = add(-1, 1)\n",
        "assert res == 0\n",
        "\n",
        "print(\"2 test passed\")"
      ],
      "metadata": {
        "colab": {
          "base_uri": "https://localhost:8080/"
        },
        "id": "ChH-EVCvKk00",
        "outputId": "e66c1ade-e449-42b1-81b7-75cf0d31c252"
      },
      "execution_count": 57,
      "outputs": [
        {
          "output_type": "stream",
          "name": "stdout",
          "text": [
            "2 test passed\n"
          ]
        }
      ]
    },
    {
      "cell_type": "markdown",
      "source": [
        "If your code is incorrect, then your test cases should catch the errors.\n"
      ],
      "metadata": {
        "id": "-xK9AaaXK-Vd"
      }
    },
    {
      "cell_type": "code",
      "source": [
        "# Error in function\n",
        "def square_incorrect(x: int | float) -> int | float:\n",
        "  return x ** 3  # incorrect operation"
      ],
      "metadata": {
        "id": "8m9rzxegLFS4"
      },
      "execution_count": 58,
      "outputs": []
    },
    {
      "cell_type": "code",
      "source": [
        "# Test case 1\n",
        "res = square_incorrect(2)\n",
        "\n",
        "# 2 square is 4, but our function is incorrect, which will give us an assertion error\n",
        "assert res == 4, f\"Function {square_incorrect.__name__}: Expected result {4}, got {res} instead.\""
      ],
      "metadata": {
        "colab": {
          "base_uri": "https://localhost:8080/",
          "height": 176
        },
        "id": "B2nkWMABLXWE",
        "outputId": "24e333f6-cfb3-4f17-91c8-bc926c0e9ee2"
      },
      "execution_count": 59,
      "outputs": [
        {
          "output_type": "error",
          "ename": "AssertionError",
          "evalue": "Function square_incorrect: Expected result 4, got 8 instead.",
          "traceback": [
            "\u001b[0;31m---------------------------------------------------------------------------\u001b[0m",
            "\u001b[0;31mAssertionError\u001b[0m                            Traceback (most recent call last)",
            "\u001b[0;32m<ipython-input-59-e527df4d39fb>\u001b[0m in \u001b[0;36m<cell line: 5>\u001b[0;34m()\u001b[0m\n\u001b[1;32m      3\u001b[0m \u001b[0;34m\u001b[0m\u001b[0m\n\u001b[1;32m      4\u001b[0m \u001b[0;31m# 2 square is 4, but our function is incorrect, which will give us an assertion error\u001b[0m\u001b[0;34m\u001b[0m\u001b[0;34m\u001b[0m\u001b[0m\n\u001b[0;32m----> 5\u001b[0;31m \u001b[0;32massert\u001b[0m \u001b[0mres\u001b[0m \u001b[0;34m==\u001b[0m \u001b[0;36m4\u001b[0m\u001b[0;34m,\u001b[0m \u001b[0;34mf\"Function {square_incorrect.__name__}: Expected result {4}, got {res} instead.\"\u001b[0m\u001b[0;34m\u001b[0m\u001b[0;34m\u001b[0m\u001b[0m\n\u001b[0m",
            "\u001b[0;31mAssertionError\u001b[0m: Function square_incorrect: Expected result 4, got 8 instead."
          ]
        }
      ]
    },
    {
      "cell_type": "code",
      "source": [
        "# Test case 2\n",
        "res = square_incorrect(-1)\n",
        "assert res == 1, f\"Function {square_incorrect.__name__}: Expected result {1}, got {res} instead.\""
      ],
      "metadata": {
        "colab": {
          "base_uri": "https://localhost:8080/",
          "height": 176
        },
        "id": "ODy-sDkMMWjp",
        "outputId": "899c7ad5-63ff-438b-c8ba-a7d2620b3e64"
      },
      "execution_count": 60,
      "outputs": [
        {
          "output_type": "error",
          "ename": "AssertionError",
          "evalue": "Function square_incorrect: Expected result 1, got -1 instead.",
          "traceback": [
            "\u001b[0;31m---------------------------------------------------------------------------\u001b[0m",
            "\u001b[0;31mAssertionError\u001b[0m                            Traceback (most recent call last)",
            "\u001b[0;32m<ipython-input-60-d7ea71fe334b>\u001b[0m in \u001b[0;36m<cell line: 3>\u001b[0;34m()\u001b[0m\n\u001b[1;32m      1\u001b[0m \u001b[0;31m# Test case 2\u001b[0m\u001b[0;34m\u001b[0m\u001b[0;34m\u001b[0m\u001b[0m\n\u001b[1;32m      2\u001b[0m \u001b[0mres\u001b[0m \u001b[0;34m=\u001b[0m \u001b[0msquare_incorrect\u001b[0m\u001b[0;34m(\u001b[0m\u001b[0;34m-\u001b[0m\u001b[0;36m1\u001b[0m\u001b[0;34m)\u001b[0m\u001b[0;34m\u001b[0m\u001b[0;34m\u001b[0m\u001b[0m\n\u001b[0;32m----> 3\u001b[0;31m \u001b[0;32massert\u001b[0m \u001b[0mres\u001b[0m \u001b[0;34m==\u001b[0m \u001b[0;36m1\u001b[0m\u001b[0;34m,\u001b[0m \u001b[0;34mf\"Function {square_incorrect.__name__}: Expected result {1}, got {res} instead.\"\u001b[0m\u001b[0;34m\u001b[0m\u001b[0;34m\u001b[0m\u001b[0m\n\u001b[0m",
            "\u001b[0;31mAssertionError\u001b[0m: Function square_incorrect: Expected result 1, got -1 instead."
          ]
        }
      ]
    },
    {
      "cell_type": "markdown",
      "source": [
        "### **`pytest` (Additional Material)**\n",
        "\n",
        "`pytest` is a popular testing framework in Python that simplifies writing and running tests. It automatically discovers and runs test cases, provides clear error messages, and offers useful testing features for both beginners and experienced developers.\n",
        "\n",
        "> 🚨 `pytest` expects `.py` files for test scripts, which can be a bit tricky to use directly in Google Colab. To work around this, you can write test functions within a cell, save it as a file using `%%file <filename>` in the first line of the cell, and use `!pytest` commands in Colab, or run `pytest` locally after saving test scripts as `.py` files.\n",
        "\n"
      ],
      "metadata": {
        "id": "STnsuQR8Hr6w"
      }
    },
    {
      "cell_type": "markdown",
      "source": [
        "**With `pytest`, you can:**\n",
        "\n",
        "- Write simple test functions to check specific outputs or behaviors.\n",
        "- Easily run tests with informative reports.\n",
        "- Use features like exception testing and test coverage, which make debugging easier and faster.\n",
        "\n",
        "<br>\n",
        "\n",
        "Let's see how we can use `pytest` to streamline unit testing:\n",
        "\n",
        "<br>\n",
        "\n",
        "First, we want to create a file that contains all our functions:\n",
        "\n",
        "> *The first line save this cell to a file called `my_module.py` on the disk when executed. This is a Colab magic command.*\n",
        "\n"
      ],
      "metadata": {
        "id": "D8aUoCMAJOXE"
      }
    },
    {
      "cell_type": "code",
      "source": [
        "%%file my_module.py\n",
        "\"\"\"\n",
        "This is the file where we write all our functions.\n",
        "\"\"\"\n",
        "\n",
        "def add(a: int | float, b: int | float) -> int | float:\n",
        "  return a + b\n",
        "\n",
        "def plus_one(x: int | float) -> int | float:\n",
        "  return x + 1"
      ],
      "metadata": {
        "colab": {
          "base_uri": "https://localhost:8080/"
        },
        "id": "MLBnJe1IJe2l",
        "outputId": "eba7fc2e-3eb5-424d-e5bf-99415f4cf152"
      },
      "execution_count": 61,
      "outputs": [
        {
          "output_type": "stream",
          "name": "stdout",
          "text": [
            "Writing my_module.py\n"
          ]
        }
      ]
    },
    {
      "cell_type": "markdown",
      "source": [
        "Next, create a file that contains all our test cases:\n",
        "\n",
        "> *To write a unit test, create test functions named `test_<functionality>`*\n"
      ],
      "metadata": {
        "id": "1Xv_GbBYWCKA"
      }
    },
    {
      "cell_type": "code",
      "source": [
        "%%file test_my_module.py\n",
        "\"\"\"\n",
        "This is the file where we write all our tests.\n",
        "\"\"\"\n",
        "import pytest\n",
        "from my_module import add, plus_one  # Import functions from our `my_module.py` file\n",
        "\n",
        "\n",
        "def test_add():\n",
        "  assert add(2, 3) == 5\n",
        "  assert add(-1, 1) == 0\n",
        "\n",
        "def test_plus_one():\n",
        "  assert plus_one(2) == 3\n",
        "  assert plus_one(-1) == 0"
      ],
      "metadata": {
        "colab": {
          "base_uri": "https://localhost:8080/"
        },
        "id": "96IOk5OZVQw8",
        "outputId": "1caa4893-64ed-426f-8505-0981ca37f136"
      },
      "execution_count": 62,
      "outputs": [
        {
          "output_type": "stream",
          "name": "stdout",
          "text": [
            "Writing test_my_module.py\n"
          ]
        }
      ]
    },
    {
      "cell_type": "markdown",
      "source": [
        "Finally, to run the tests, simply use `pytest` in the terminal:\n",
        "\n",
        "```sh\n",
        "pytest <test_filename>\n",
        "```\n",
        "\n",
        "> *We can use `!` in Colab to execute shell commands. Just make sure `pytest` is installed*\n"
      ],
      "metadata": {
        "id": "AN0h_M49WNRT"
      }
    },
    {
      "cell_type": "code",
      "source": [
        "!pytest test_my_module.py"
      ],
      "metadata": {
        "colab": {
          "base_uri": "https://localhost:8080/"
        },
        "id": "bJ4Pdq4IWmNd",
        "outputId": "1d1c410f-9b38-41d9-cdc6-17d00cb3728f"
      },
      "execution_count": 63,
      "outputs": [
        {
          "output_type": "stream",
          "name": "stdout",
          "text": [
            "\u001b[1m======================================= test session starts ========================================\u001b[0m\n",
            "platform linux -- Python 3.10.12, pytest-8.3.3, pluggy-1.5.0\n",
            "rootdir: /content\n",
            "plugins: anyio-3.7.1, typeguard-4.4.1\n",
            "\u001b[1mcollecting ... \u001b[0m\u001b[1m\rcollected 2 items                                                                                  \u001b[0m\n",
            "\n",
            "test_my_module.py \u001b[32m.\u001b[0m\u001b[32m.\u001b[0m\u001b[32m                                                                         [100%]\u001b[0m\n",
            "\n",
            "\u001b[32m======================================== \u001b[32m\u001b[1m2 passed\u001b[0m\u001b[32m in 0.02s\u001b[0m\u001b[32m =========================================\u001b[0m\n"
          ]
        }
      ]
    },
    {
      "cell_type": "markdown",
      "source": [
        "#### **Parametrizing Tests**\n",
        "\n",
        "`pytest` allows you to easily **parametrize** test functions, enabling you to run the same test with multiple inputs and expected outputs without writing multiple `assert` statements. This helps keep your code cleaner and allows you to quickly test multiple cases, including expected exceptions.\n"
      ],
      "metadata": {
        "id": "7Y7bMU8qYdm4"
      }
    },
    {
      "cell_type": "code",
      "source": [
        "%%file test_file_parametrize.py\n",
        "\"\"\"\n",
        "Updated test cases with parameters.\n",
        "\"\"\"\n",
        "import pytest\n",
        "from my_module import add, plus_one\n",
        "\n",
        "\n",
        "@pytest.mark.parametrize(\"x\", [1, 2, 3])\n",
        "@pytest.mark.parametrize(\"y\", [-1, 0, 2])\n",
        "def test_add(x, y):\n",
        "  assert add(x, y) == x + y\n",
        "\n",
        "@pytest.mark.parametrize(\"x\", [-1, 0, 1, 2, 3.5])\n",
        "def test_plus_one(x):\n",
        "  assert plus_one(x) == x + 1"
      ],
      "metadata": {
        "colab": {
          "base_uri": "https://localhost:8080/"
        },
        "id": "rcNrOMTlZd7i",
        "outputId": "0186a961-8e22-4fb0-c946-8748c2427e7a"
      },
      "execution_count": 64,
      "outputs": [
        {
          "output_type": "stream",
          "name": "stdout",
          "text": [
            "Writing test_file_parametrize.py\n"
          ]
        }
      ]
    },
    {
      "cell_type": "code",
      "source": [
        "!pytest test_file_parametrize.py"
      ],
      "metadata": {
        "colab": {
          "base_uri": "https://localhost:8080/"
        },
        "id": "-1PWTBnYaHSO",
        "outputId": "12211923-3be2-4830-88d4-6c716ae3fe27"
      },
      "execution_count": 65,
      "outputs": [
        {
          "output_type": "stream",
          "name": "stdout",
          "text": [
            "\u001b[1m======================================= test session starts ========================================\u001b[0m\n",
            "platform linux -- Python 3.10.12, pytest-8.3.3, pluggy-1.5.0\n",
            "rootdir: /content\n",
            "plugins: anyio-3.7.1, typeguard-4.4.1\n",
            "\u001b[1mcollecting ... \u001b[0m\u001b[1m\rcollected 14 items                                                                                 \u001b[0m\n",
            "\n",
            "test_file_parametrize.py \u001b[32m.\u001b[0m\u001b[32m.\u001b[0m\u001b[32m.\u001b[0m\u001b[32m.\u001b[0m\u001b[32m.\u001b[0m\u001b[32m.\u001b[0m\u001b[32m.\u001b[0m\u001b[32m.\u001b[0m\u001b[32m.\u001b[0m\u001b[32m.\u001b[0m\u001b[32m.\u001b[0m\u001b[32m.\u001b[0m\u001b[32m.\u001b[0m\u001b[32m.\u001b[0m\u001b[32m                                                      [100%]\u001b[0m\n",
            "\n",
            "\u001b[32m======================================== \u001b[32m\u001b[1m14 passed\u001b[0m\u001b[32m in 0.03s\u001b[0m\u001b[32m ========================================\u001b[0m\n"
          ]
        }
      ]
    },
    {
      "cell_type": "markdown",
      "source": [
        "**Testing Exceptions with `pytest`**\n",
        "\n",
        "When testing functions that may raise exceptions, you can use the `pytest.raises` context manager to ensure specific errors are raised when expected.\n"
      ],
      "metadata": {
        "id": "rBOeqjXDHsPC"
      }
    },
    {
      "cell_type": "code",
      "source": [
        "%%file div_module.py\n",
        "\"\"\"\n",
        "This is the file containing our divide function.\n",
        "\"\"\"\n",
        "\n",
        "def divide(a: int | float, b: int | float) -> int | float:\n",
        "  if b == 0:\n",
        "    raise ValueError(\"Cannot divide by zero\")\n",
        "  return a / b"
      ],
      "metadata": {
        "colab": {
          "base_uri": "https://localhost:8080/"
        },
        "id": "BmQdxQhG-T-i",
        "outputId": "7279f056-bed5-4ef9-98b8-6c80dd8c2096"
      },
      "execution_count": 66,
      "outputs": [
        {
          "output_type": "stream",
          "name": "stdout",
          "text": [
            "Writing div_module.py\n"
          ]
        }
      ]
    },
    {
      "cell_type": "code",
      "source": [
        "%%file test_div_module.py\n",
        "\"\"\"\n",
        "This is the file where we test the divide function.\n",
        "\"\"\"\n",
        "import pytest\n",
        "from div_module import divide\n",
        "\n",
        "\n",
        "def test_divide_by_zero():\n",
        "  with pytest.raises(ValueError, match=\"Cannot divide by zero\"):\n",
        "    divide(10, 0)"
      ],
      "metadata": {
        "colab": {
          "base_uri": "https://localhost:8080/"
        },
        "id": "CELnGx8k-uDM",
        "outputId": "3569af6e-a0ab-45b5-a71d-57c53d704d23"
      },
      "execution_count": 67,
      "outputs": [
        {
          "output_type": "stream",
          "name": "stdout",
          "text": [
            "Writing test_div_module.py\n"
          ]
        }
      ]
    },
    {
      "cell_type": "code",
      "source": [
        "!pytest test_div_module.py"
      ],
      "metadata": {
        "colab": {
          "base_uri": "https://localhost:8080/"
        },
        "id": "EucNGs8j_F76",
        "outputId": "d30d1435-041e-41d1-82eb-d19e459cbe57"
      },
      "execution_count": 68,
      "outputs": [
        {
          "output_type": "stream",
          "name": "stdout",
          "text": [
            "\u001b[1m======================================= test session starts ========================================\u001b[0m\n",
            "platform linux -- Python 3.10.12, pytest-8.3.3, pluggy-1.5.0\n",
            "rootdir: /content\n",
            "plugins: anyio-3.7.1, typeguard-4.4.1\n",
            "\u001b[1mcollecting ... \u001b[0m\u001b[1m\rcollected 1 item                                                                                   \u001b[0m\n",
            "\n",
            "test_div_module.py \u001b[32m.\u001b[0m\u001b[32m                                                                         [100%]\u001b[0m\n",
            "\n",
            "\u001b[32m======================================== \u001b[32m\u001b[1m1 passed\u001b[0m\u001b[32m in 0.01s\u001b[0m\u001b[32m =========================================\u001b[0m\n"
          ]
        }
      ]
    },
    {
      "cell_type": "markdown",
      "source": [
        "#### **Checking Test Coverage**\n",
        "\n",
        "To ensure you've tested all important parts of your code, you can check **test coverage** using the `pytest-cov` plugin. This shows the percentage of your code covered by tests, helping you identify any gaps.\n"
      ],
      "metadata": {
        "id": "hVabpcE5-UQV"
      }
    },
    {
      "cell_type": "code",
      "source": [
        "# Install\n",
        "!pip install pytest-cov"
      ],
      "metadata": {
        "colab": {
          "base_uri": "https://localhost:8080/"
        },
        "id": "fy2twLzz_cYF",
        "outputId": "baedfaaf-30b4-4d59-a4d9-7d3618237b8e"
      },
      "execution_count": 69,
      "outputs": [
        {
          "output_type": "stream",
          "name": "stdout",
          "text": [
            "Collecting pytest-cov\n",
            "  Downloading pytest_cov-6.0.0-py3-none-any.whl.metadata (27 kB)\n",
            "Requirement already satisfied: pytest>=4.6 in /usr/local/lib/python3.10/dist-packages (from pytest-cov) (8.3.3)\n",
            "Collecting coverage>=7.5 (from coverage[toml]>=7.5->pytest-cov)\n",
            "  Downloading coverage-7.6.5-cp310-cp310-manylinux_2_5_x86_64.manylinux1_x86_64.manylinux_2_17_x86_64.manylinux2014_x86_64.whl.metadata (8.2 kB)\n",
            "Requirement already satisfied: tomli in /usr/local/lib/python3.10/dist-packages (from coverage[toml]>=7.5->pytest-cov) (2.0.2)\n",
            "Requirement already satisfied: iniconfig in /usr/local/lib/python3.10/dist-packages (from pytest>=4.6->pytest-cov) (2.0.0)\n",
            "Requirement already satisfied: packaging in /usr/local/lib/python3.10/dist-packages (from pytest>=4.6->pytest-cov) (24.2)\n",
            "Requirement already satisfied: pluggy<2,>=1.5 in /usr/local/lib/python3.10/dist-packages (from pytest>=4.6->pytest-cov) (1.5.0)\n",
            "Requirement already satisfied: exceptiongroup>=1.0.0rc8 in /usr/local/lib/python3.10/dist-packages (from pytest>=4.6->pytest-cov) (1.2.2)\n",
            "Downloading pytest_cov-6.0.0-py3-none-any.whl (22 kB)\n",
            "Downloading coverage-7.6.5-cp310-cp310-manylinux_2_5_x86_64.manylinux1_x86_64.manylinux_2_17_x86_64.manylinux2014_x86_64.whl (234 kB)\n",
            "\u001b[2K   \u001b[90m━━━━━━━━━━━━━━━━━━━━━━━━━━━━━━━━━━━━━━━━\u001b[0m \u001b[32m234.8/234.8 kB\u001b[0m \u001b[31m8.9 MB/s\u001b[0m eta \u001b[36m0:00:00\u001b[0m\n",
            "\u001b[?25hInstalling collected packages: coverage, pytest-cov\n",
            "Successfully installed coverage-7.6.5 pytest-cov-6.0.0\n"
          ]
        }
      ]
    },
    {
      "cell_type": "markdown",
      "source": [
        "To run `pytest` with coverage:\n",
        "\n",
        "```sh\n",
        "pytest --cov=<module_filename> <test_filename>\n",
        "```\n",
        "\n",
        "> *Do not include `.py` file extension for the module file you are testing*\n"
      ],
      "metadata": {
        "id": "3qyuflkZAHJ-"
      }
    },
    {
      "cell_type": "code",
      "source": [
        "!pytest --cov=my_module test_my_module.py"
      ],
      "metadata": {
        "colab": {
          "base_uri": "https://localhost:8080/"
        },
        "id": "0gBqewh1_hKM",
        "outputId": "8aac305d-761e-40d4-f972-3b338700a5be"
      },
      "execution_count": 70,
      "outputs": [
        {
          "output_type": "stream",
          "name": "stdout",
          "text": [
            "\u001b[1m======================================= test session starts ========================================\u001b[0m\n",
            "platform linux -- Python 3.10.12, pytest-8.3.3, pluggy-1.5.0\n",
            "rootdir: /content\n",
            "plugins: cov-6.0.0, anyio-3.7.1, typeguard-4.4.1\n",
            "\u001b[1mcollecting ... \u001b[0m\u001b[1m\rcollected 2 items                                                                                  \u001b[0m\n",
            "\n",
            "test_my_module.py \u001b[32m.\u001b[0m\u001b[32m.\u001b[0m\u001b[32m                                                                         [100%]\u001b[0m\n",
            "\n",
            "---------- coverage: platform linux, python 3.10.12-final-0 ----------\n",
            "Name           Stmts   Miss  Cover\n",
            "----------------------------------\n",
            "my_module.py       4      0   100%\n",
            "----------------------------------\n",
            "TOTAL              4      0   100%\n",
            "\n",
            "\n",
            "\u001b[32m======================================== \u001b[32m\u001b[1m2 passed\u001b[0m\u001b[32m in 0.04s\u001b[0m\u001b[32m =========================================\u001b[0m\n"
          ]
        }
      ]
    },
    {
      "cell_type": "markdown",
      "source": [
        "### **Conclusion**\n",
        "\n",
        "That wraps up our overview of error handling and exceptions in Python! Keep practicing, and remember that understanding errors is a huge step toward mastering Python. With time, you'll feel more confident troubleshooting and writing resilient code.\n"
      ],
      "metadata": {
        "id": "0FWnYbrQA6M1"
      }
    }
  ]
}