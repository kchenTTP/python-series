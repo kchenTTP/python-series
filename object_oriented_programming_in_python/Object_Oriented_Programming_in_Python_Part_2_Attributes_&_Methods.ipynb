{
  "nbformat": 4,
  "nbformat_minor": 0,
  "metadata": {
    "colab": {
      "provenance": [],
      "toc_visible": true,
      "collapsed_sections": [
        "ZFuRNE1YNC3f",
        "TIyCKqdvcixt"
      ],
      "authorship_tag": "ABX9TyMrQLy4qpBzqmXpgnbPSZx7",
      "include_colab_link": true
    },
    "kernelspec": {
      "name": "python3",
      "display_name": "Python 3"
    },
    "language_info": {
      "name": "python"
    }
  },
  "cells": [
    {
      "cell_type": "markdown",
      "metadata": {
        "id": "view-in-github",
        "colab_type": "text"
      },
      "source": [
        "<a href=\"https://colab.research.google.com/github/kchenTTP/python-series/blob/main/object_oriented_programming_in_python/Object_Oriented_Programming_in_Python_Part_2_Attributes_%26_Methods.ipynb\" target=\"_parent\"><img src=\"https://colab.research.google.com/assets/colab-badge.svg\" alt=\"Open In Colab\"/></a>"
      ]
    },
    {
      "cell_type": "markdown",
      "source": [
        "# **Object Oriented Programming in Python Part 2: Attributes & Methods**\n",
        "\n",
        "In this class, we'll expand on fundamental object-oriented programming concepts from our previous class by exploring attributes and different method types in Python.\n",
        "\n",
        "### **Table of Contents**\n",
        "\n",
        "- [Encapsulation & Access Modifiers](#scrollTo=B4diOn6q9fQP)\n",
        "- [Instance vs Class Attributes](#scrollTo=Y3LGKALK_WB4)\n",
        "- [Class Methods vs Static Methods](#scrollTo=dsk4TXdoVUaK)\n"
      ],
      "metadata": {
        "id": "u77EAJpG99fN"
      }
    },
    {
      "cell_type": "markdown",
      "source": [
        "## **Encapsulation & Access Modifiers**\n",
        "\n",
        "**Encapsulation** in OOP combines data (**attributes**) and behavior (**methods**) into a single unit (**class**). It protects an object's internal state by limiting direct access, offering controlled interaction via **access modifiers** that dictate visibility and accessibility.\n"
      ],
      "metadata": {
        "id": "B4diOn6q9fQP"
      }
    },
    {
      "cell_type": "markdown",
      "source": [
        "### **Access Modifiers**\n",
        "\n",
        "In OOP, there are three main types of access modifiers that control the visibility and accessibility of attributes and methods.\n"
      ],
      "metadata": {
        "id": "fdiqe7YkBjc3"
      }
    },
    {
      "cell_type": "markdown",
      "source": [
        "#### **Public**\n",
        "\n",
        "By default in Python, all attributes and methods are public and they are fully accessible both inside and outside the class.\n",
        "\n",
        "> 💡 Public attributes and methods are ideal for data and functionality meant for external use.\n"
      ],
      "metadata": {
        "id": "O4bu12i4BsuH"
      }
    },
    {
      "cell_type": "code",
      "source": [
        "class Car:\n",
        "  def __init__(self, make: str, model: str):\n",
        "    # Public Attributes\n",
        "    self.make = make\n",
        "    self.model = model\n",
        "\n",
        "  # Public Method\n",
        "  def display_info(self):\n",
        "    print(f\"Car: {self.make}; Model: {self.model}\")"
      ],
      "metadata": {
        "id": "bfmK-Q1BCC4f"
      },
      "execution_count": null,
      "outputs": []
    },
    {
      "cell_type": "code",
      "source": [
        "car = Car(\"Toyota\", \"Camry\")\n",
        "car.display_info()\n",
        "print(f\"This is a {car.make} {car.model}\")"
      ],
      "metadata": {
        "colab": {
          "base_uri": "https://localhost:8080/"
        },
        "id": "q1e8oUaW-Ol2",
        "outputId": "07fe7203-a64c-426d-95e8-384c8aeca2be"
      },
      "execution_count": null,
      "outputs": [
        {
          "output_type": "stream",
          "name": "stdout",
          "text": [
            "Car: Toyota; Model: Camry\n",
            "This is a Toyota Camry\n"
          ]
        }
      ]
    },
    {
      "cell_type": "markdown",
      "source": [
        "#### **Protected**\n",
        "\n",
        "In Python, a single underscore (`_`) prefix denotes protected members. They are intended for use only within the class or its subclasses.\n",
        "\n",
        "> 🚨 While Python does not strictly enforce this access level, it signals that direct external access is discouraged.\n"
      ],
      "metadata": {
        "id": "y2hFOJwpB8HG"
      }
    },
    {
      "cell_type": "code",
      "source": [
        "class Weather:\n",
        "  def __init__(self, weather: str, temperature: float, is_celcius: bool = False):\n",
        "    # Calling protected methods to convert units\n",
        "    if is_celcius:\n",
        "      self.celcius = temperature\n",
        "      self.fahrenheit = self._c_to_f(temperature)\n",
        "    else:\n",
        "      self.fahrenheit = temperature\n",
        "      self.celcius = self._f_to_c(temperature)\n",
        "\n",
        "    self.weather = weather\n",
        "\n",
        "  # Protected Method\n",
        "  def _c_to_f(self, celcius: float) -> float:\n",
        "    return round((celcius * 9/5) + 32, 2)\n",
        "\n",
        "  # Protected Method\n",
        "  def _f_to_c(self, fahrenheit) -> float:\n",
        "    return round((fahrenheit - 32) * 5/9, 2)"
      ],
      "metadata": {
        "id": "DI8zD0edChqh"
      },
      "execution_count": null,
      "outputs": []
    },
    {
      "cell_type": "code",
      "source": [
        "weather_today = Weather(\"Sunny\", 25.0, is_celcius=True)\n",
        "print(f\"Weather: {weather_today.weather}\")\n",
        "print(f\"Celcius: {weather_today.celcius} °C\")\n",
        "print(f\"Fahrenheit: {weather_today.fahrenheit} °F\")"
      ],
      "metadata": {
        "colab": {
          "base_uri": "https://localhost:8080/"
        },
        "id": "BbaXnibHFB4P",
        "outputId": "20454f9d-f17b-4294-e9e0-3b4e3bd839b3"
      },
      "execution_count": null,
      "outputs": [
        {
          "output_type": "stream",
          "name": "stdout",
          "text": [
            "Weather: Sunny\n",
            "Celcius: 25.0 °C\n",
            "Fahrenheit: 77.0 °F\n"
          ]
        }
      ]
    },
    {
      "cell_type": "markdown",
      "source": [
        "❗ Protected members are still accessible but it indicates that they are not intended to be accessed directly.\n"
      ],
      "metadata": {
        "id": "TfbhhEnzDYK-"
      }
    },
    {
      "cell_type": "code",
      "source": [
        "print(weather_today._c_to_f(25.0))"
      ],
      "metadata": {
        "colab": {
          "base_uri": "https://localhost:8080/"
        },
        "id": "Uql0xEBzDUE3",
        "outputId": "74b3a473-b4b6-4db8-842a-06857bf692c8"
      },
      "execution_count": null,
      "outputs": [
        {
          "output_type": "stream",
          "name": "stdout",
          "text": [
            "77.0\n"
          ]
        }
      ]
    },
    {
      "cell_type": "markdown",
      "source": [
        "#### **Private**\n",
        "\n",
        "Private members, prefixed with a double underscore (`__`), are designed to be hidden from direct external access.\n",
        "\n",
        "> 📒 **NOTE:** Python achieves this through **name-mangling** (e.g., `_ClassName__private_member`), making direct access discouraged but technically possible.\n"
      ],
      "metadata": {
        "id": "AoCsMH-rCiAE"
      }
    },
    {
      "cell_type": "code",
      "source": [
        "class PersonID:\n",
        "  def __init__(self, name: str, birthday: str, ssn: int):\n",
        "    self.name = name\n",
        "    self.birthday = birthday\n",
        "\n",
        "    # Private Attribute\n",
        "    self.__ssn = str(ssn).zfill(9)  # Ensure SSN is 9 digits\n",
        "\n",
        "  def display_info(self):\n",
        "    print(f\"Name: {self.name}\")\n",
        "    print(f\"Birthday: {self.birthday}\")\n",
        "    print(f\"SSN (partial): {self.__mask_ssn()}\")\n",
        "\n",
        "  # Private Method\n",
        "  def __mask_ssn(self):\n",
        "    \"\"\"Return the last 4 digits of the SSN, masking the rest.\"\"\"\n",
        "    return f\"***-**-{self.__ssn[-4:]}\""
      ],
      "metadata": {
        "id": "9giiypxSIEwE"
      },
      "execution_count": null,
      "outputs": []
    },
    {
      "cell_type": "code",
      "source": [
        "bob_id = PersonID(\"Bob Bobberston\", \"1990-01-01 22:38:40\", 123456789)\n",
        "bob_id.display_info()"
      ],
      "metadata": {
        "colab": {
          "base_uri": "https://localhost:8080/"
        },
        "id": "AqUjHPKeISNT",
        "outputId": "eddb4ece-143c-4220-9157-84556e570461"
      },
      "execution_count": null,
      "outputs": [
        {
          "output_type": "stream",
          "name": "stdout",
          "text": [
            "Name: Bob Bobberston\n",
            "Birthday: 1990-01-01 22:38:40\n",
            "SSN (partial): ***-**-6789\n"
          ]
        }
      ]
    },
    {
      "cell_type": "markdown",
      "source": [
        "You won't be able to access private method or attribute directly due to *name mangling*.\n"
      ],
      "metadata": {
        "id": "IigMwRTqI6Dt"
      }
    },
    {
      "cell_type": "code",
      "source": [
        "print(bob_id.__ssn)"
      ],
      "metadata": {
        "colab": {
          "base_uri": "https://localhost:8080/",
          "height": 144
        },
        "id": "QMrWD1IJI25G",
        "outputId": "8da16bcb-4fd8-48d5-ad63-8214338822a5"
      },
      "execution_count": null,
      "outputs": [
        {
          "output_type": "error",
          "ename": "AttributeError",
          "evalue": "'PersonID' object has no attribute '__ssn'",
          "traceback": [
            "\u001b[0;31m---------------------------------------------------------------------------\u001b[0m",
            "\u001b[0;31mAttributeError\u001b[0m                            Traceback (most recent call last)",
            "\u001b[0;32m<ipython-input-8-76e2cf3ae4c1>\u001b[0m in \u001b[0;36m<cell line: 0>\u001b[0;34m()\u001b[0m\n\u001b[0;32m----> 1\u001b[0;31m \u001b[0mprint\u001b[0m\u001b[0;34m(\u001b[0m\u001b[0mbob_id\u001b[0m\u001b[0;34m.\u001b[0m\u001b[0m__ssn\u001b[0m\u001b[0;34m)\u001b[0m\u001b[0;34m\u001b[0m\u001b[0;34m\u001b[0m\u001b[0m\n\u001b[0m",
            "\u001b[0;31mAttributeError\u001b[0m: 'PersonID' object has no attribute '__ssn'"
          ]
        }
      ]
    },
    {
      "cell_type": "markdown",
      "source": [
        "Though you can technically still access them using special syntax.\n"
      ],
      "metadata": {
        "id": "0Aa-YwKXJIuw"
      }
    },
    {
      "cell_type": "code",
      "source": [
        "print(bob_id._PersonID__ssn)\n",
        "print(bob_id._PersonID__mask_ssn())"
      ],
      "metadata": {
        "colab": {
          "base_uri": "https://localhost:8080/"
        },
        "id": "WbhaorFyJPxb",
        "outputId": "39b704d8-e4d9-413a-834c-f8ab73d9118e"
      },
      "execution_count": null,
      "outputs": [
        {
          "output_type": "stream",
          "name": "stdout",
          "text": [
            "123456789\n",
            "***-**-6789\n"
          ]
        }
      ]
    },
    {
      "cell_type": "markdown",
      "source": [
        "💡 **Benefits of Encapsulation**\n",
        "\n",
        "- **Data Protection:** Prevents unintended alterations to an object's internal state, ensuring controlled access through defined interfaces.\n",
        "\n",
        "- **Improved Maintainability:** Allows internal implementation changes without affecting external code, simplifying maintenance and extension.\n",
        "\n",
        "- **Abstraction:** Hides a class's internal workings, exposing only essential functionality to the user, thereby reducing complexity.\n"
      ],
      "metadata": {
        "id": "Zfzpx2JdnYpg"
      }
    },
    {
      "cell_type": "markdown",
      "source": [
        "## **Instance vs Class Attributes**\n",
        "\n",
        "Attributes in OOP are either unique to an **instance** or shared by the entire **class**.\n",
        "\n",
        "- **Instance Attributes:** Unique to each object. Changes to one instance's attribute don't impact others. Typically set in `__init__` with `self`.\n",
        "\n",
        "- **Class Attributes:** Shared by all instances. Defined in the class body. Modifying a class attribute at the class level updates all instances. However, if an instance modifies it, a new instance attribute is created, leaving the shared class attribute and other instances unaffected.\n"
      ],
      "metadata": {
        "id": "Y3LGKALK_WB4"
      }
    },
    {
      "cell_type": "code",
      "source": [
        "class Student:\n",
        "  # Class attribute (shared by all instances)\n",
        "  school_name = \"Python Academy\"\n",
        "\n",
        "  def __init__(self, name):\n",
        "    # Instance attribute (unique to each instance)\n",
        "    self.name = name\n",
        "    self.grades = []"
      ],
      "metadata": {
        "id": "KkaeCy1Z_sG-"
      },
      "execution_count": null,
      "outputs": []
    },
    {
      "cell_type": "code",
      "source": [
        "student1 = Student(\"Wang\")\n",
        "print(f\"Student Name: {student1.name}\")\n",
        "print(f\"School Name: {student1.school_name}\")"
      ],
      "metadata": {
        "colab": {
          "base_uri": "https://localhost:8080/"
        },
        "id": "_TP9ei0_LK3-",
        "outputId": "b217e873-1d1f-412f-e29b-ec1d727ceb29"
      },
      "execution_count": null,
      "outputs": [
        {
          "output_type": "stream",
          "name": "stdout",
          "text": [
            "Student Name: Wang\n",
            "School Name: Python Academy\n"
          ]
        }
      ]
    },
    {
      "cell_type": "code",
      "source": [
        "student2 = Student(\"Timothee\")\n",
        "print(f\"Student Name: {student2.name}\")\n",
        "print(f\"School Name: {student2.school_name}\")"
      ],
      "metadata": {
        "colab": {
          "base_uri": "https://localhost:8080/"
        },
        "id": "kA1d3aIiLUMP",
        "outputId": "be0a3d5e-2ef6-45f8-f57f-9def63a23467"
      },
      "execution_count": null,
      "outputs": [
        {
          "output_type": "stream",
          "name": "stdout",
          "text": [
            "Student Name: Timothee\n",
            "School Name: Python Academy\n"
          ]
        }
      ]
    },
    {
      "cell_type": "markdown",
      "source": [
        "As you can see, the class attribute stays the same across different instances of objects.\n"
      ],
      "metadata": {
        "id": "ioJBQts2LfXf"
      }
    },
    {
      "cell_type": "markdown",
      "source": [
        "### **Managing Class Attributes (Additional Material)**\n",
        "\n",
        "> 📒 **NOTE:** This section covers some advanced handling of class attributes. Feel free to skip this section and return once you've gained more experience with OOP."
      ],
      "metadata": {
        "id": "ZFuRNE1YNC3f"
      }
    },
    {
      "cell_type": "markdown",
      "source": [
        "#### **Managing Class Attributes Internally**\n",
        "\n",
        "Class attributes can be managed from within the class using `ClassName.attribute`. This allows modification and access to class-level data that will affect all instances.\n"
      ],
      "metadata": {
        "id": "GmlzjJNnARTo"
      }
    },
    {
      "cell_type": "code",
      "source": [
        "class Example:\n",
        "  class_attribute = \"original\"\n",
        "\n",
        "  def get_class_attribute(self):\n",
        "    \"\"\"Return the class attribute.\"\"\"\n",
        "    return Example.class_attribute\n",
        "\n",
        "  def set_class_attribute(self, new_value: str):\n",
        "    \"\"\"Set the class attribute to a new value.\"\"\"\n",
        "    Example.class_attribute = new_value"
      ],
      "metadata": {
        "id": "DwGrkExuAQ97"
      },
      "execution_count": null,
      "outputs": []
    },
    {
      "cell_type": "code",
      "source": [
        "exp = Example()\n",
        "\n",
        "# Accessing class attributes\n",
        "print(f\"Original: {exp.get_class_attribute()}\")\n",
        "print(f\"Original: {exp.class_attribute}\")\n",
        "\n",
        "# Modify class attribute with internal method\n",
        "exp.set_class_attribute(\"I AM THE NEW CLASS ATTRIBUTE!\")\n",
        "print(f\"New: {exp.get_class_attribute()}\")"
      ],
      "metadata": {
        "colab": {
          "base_uri": "https://localhost:8080/"
        },
        "id": "wT2U3ohaO5Ju",
        "outputId": "503656d6-46f2-436c-cf43-85c922dde813"
      },
      "execution_count": null,
      "outputs": [
        {
          "output_type": "stream",
          "name": "stdout",
          "text": [
            "Original: original\n",
            "Original: original\n",
            "New: I AM THE NEW CLASS ATTRIBUTE!\n"
          ]
        }
      ]
    },
    {
      "cell_type": "markdown",
      "source": [
        "#### **Class-Level Modification of Attributes**\n",
        "\n",
        "Modifying a class attribute directly through the class affects all instances, unless an instance has **shadowed** that attribute.\n",
        "\n",
        "> 📒 **Note on Shadowing:**\n",
        "> An instance attribute with the same name as a class attribute \"shadows\" or \"masks\" the class attribute. When accessed via the instance, the instance's value is returned instead of the class's.\n"
      ],
      "metadata": {
        "id": "MHr8nyXP_8D0"
      }
    },
    {
      "cell_type": "code",
      "source": [
        "exp2 = Example()\n",
        "\n",
        "# Dynamically added an instance attribute -> Shadows the class attribute with the same name\n",
        "exp2.class_attribute = \"SHADOWING INSTANCE ATTRIBUTE!\"\n",
        "\n",
        "# Instance attribute now takes precedence over class attributes\n",
        "print(f\"Shadowing: {exp2.class_attribute}\")\n",
        "print(f\"Class Attribute: {exp2.get_class_attribute()}\")"
      ],
      "metadata": {
        "colab": {
          "base_uri": "https://localhost:8080/"
        },
        "id": "FawM2cNlQtjl",
        "outputId": "390a378a-dfc9-4bbf-8e98-9cdaa98bcd34"
      },
      "execution_count": null,
      "outputs": [
        {
          "output_type": "stream",
          "name": "stdout",
          "text": [
            "Shadowing: SHADOWING INSTANCE ATTRIBUTE!\n",
            "Class Attribute: I AM THE NEW CLASS ATTRIBUTE!\n"
          ]
        }
      ]
    },
    {
      "cell_type": "markdown",
      "source": [
        "You can also observe this behavior by inspecting `object.__dict__`. Instances with shadowing will show an additional entry for the shadowed attribute.\n",
        "\n",
        "> 📒 `object.__dict__` is a dictionary that stores all the **writable attributes** (and their corresponding values) that are directly associated with that specific object or class.\n"
      ],
      "metadata": {
        "id": "dbwEr6x-SxC8"
      }
    },
    {
      "cell_type": "code",
      "source": [
        "print(exp.__dict__)\n",
        "print(exp2.__dict__)"
      ],
      "metadata": {
        "colab": {
          "base_uri": "https://localhost:8080/"
        },
        "id": "6Sq0tQRbSmd6",
        "outputId": "e8f27bab-49b6-4621-dc3c-17feef416657"
      },
      "execution_count": null,
      "outputs": [
        {
          "output_type": "stream",
          "name": "stdout",
          "text": [
            "{}\n",
            "{'class_attribute': 'SHADOWING INSTANCE ATTRIBUTE!'}\n"
          ]
        }
      ]
    },
    {
      "cell_type": "markdown",
      "source": [
        "## **Instance, Class & Static Methods**\n",
        "\n",
        "So far we've only used instance methods. Now let's turn our attention to other types of methods in Python: class methods and static methods.\n"
      ],
      "metadata": {
        "id": "dsk4TXdoVUaK"
      }
    },
    {
      "cell_type": "markdown",
      "source": [
        "### **Class Methods**\n",
        "\n",
        "Class methods, marked by the `@classmethod` decorator, take the class (`cls`) as their first argument and interact with the class directly, not its individual instances.\n",
        "\n",
        "> 💡 Class methods are great for manipulate or access shared data relevant to all objects of that class.\n"
      ],
      "metadata": {
        "id": "VMRrLm3VcJWd"
      }
    },
    {
      "cell_type": "code",
      "source": [
        "class Planet:\n",
        "  total_planets = 0\n",
        "\n",
        "  def __init__(self, name):\n",
        "    self.name = name\n",
        "    Planet.total_planets += 1 # Increment the class attribute on each new instance\n",
        "\n",
        "  @classmethod\n",
        "  def get_total_planets(cls):\n",
        "    # This method works with the class itself (cls), not a specific instance\n",
        "    return f\"There are {cls.total_planets} planets in our solar system.\""
      ],
      "metadata": {
        "id": "1ZXpjLXWXdTG"
      },
      "execution_count": null,
      "outputs": []
    },
    {
      "cell_type": "markdown",
      "source": [
        "Call the class method using the class name or from an instance:\n"
      ],
      "metadata": {
        "id": "KyT3aL4Gb08R"
      }
    },
    {
      "cell_type": "code",
      "source": [
        "# Create some instances\n",
        "earth = Planet(\"Earth\")\n",
        "mars = Planet(\"Mars\")\n",
        "jupiter = Planet(\"Jupiter\")\n",
        "\n",
        "# Call the class method using the class name\n",
        "print(Planet.get_total_planets())\n",
        "\n",
        "# You can also call it from an instance, but it still operates on the class\n",
        "print(earth.get_total_planets())"
      ],
      "metadata": {
        "colab": {
          "base_uri": "https://localhost:8080/"
        },
        "id": "RM19O18gYeAH",
        "outputId": "e9f0551f-624c-4095-e08b-680de1aa2b8c"
      },
      "execution_count": null,
      "outputs": [
        {
          "output_type": "stream",
          "name": "stdout",
          "text": [
            "There are 3 planets in our solar system.\n",
            "There are 3 planets in our solar system.\n"
          ]
        }
      ]
    },
    {
      "cell_type": "markdown",
      "source": [
        "#### **Examples (Additional Material)**\n",
        "\n",
        "For those seeking more complex class method applications, here are additional examples.\n"
      ],
      "metadata": {
        "id": "TIyCKqdvcixt"
      }
    },
    {
      "cell_type": "markdown",
      "source": [
        "**Managing Class-Level State**\n",
        "\n",
        "Class methods can modify or retrieve class-level state that applies to all instances.\n"
      ],
      "metadata": {
        "id": "WZNVsTOLcixu"
      }
    },
    {
      "cell_type": "code",
      "source": [
        "class Employee:\n",
        "  company: str = \"Tech Corp\"\n",
        "  active_employees: int = 0\n",
        "\n",
        "  def __init__(self, name, salary):\n",
        "    self.name: str = name\n",
        "    self.salary: float = salary\n",
        "    Employee.active_employees += 1\n",
        "\n",
        "  def __del__(self):\n",
        "    Employee.active_employees -= 1\n",
        "\n",
        "  @classmethod\n",
        "  def set_company(cls, new_company):\n",
        "    cls.company = new_company\n",
        "\n",
        "  @classmethod\n",
        "  def get_active_employees(cls):\n",
        "    return cls.active_employees\n",
        "\n",
        "  @classmethod\n",
        "  def get_company(cls):\n",
        "    return cls.company\n",
        "\n",
        "# Using class methods\n",
        "print(f\"Company: {Employee.get_company()}\")\n",
        "Employee.set_company(\"New Corp\")\n",
        "print(f\"New Company: {Employee.get_company()}\")\n",
        "print(\"---------\")\n",
        "\n",
        "Tom = Employee(\"Tom\", 50000)\n",
        "Alice = Employee(\"Jenna\", 60000)\n",
        "print(f\"Active Employees: {Employee.get_active_employees()}\")\n",
        "\n",
        "del Alice\n",
        "print(f\"Active Employees: {Employee.get_active_employees()}\")"
      ],
      "metadata": {
        "colab": {
          "base_uri": "https://localhost:8080/"
        },
        "outputId": "cf50cc64-443b-4620-9177-1c2e3bbad0e8",
        "id": "8zjJwJQKcixv"
      },
      "execution_count": null,
      "outputs": [
        {
          "output_type": "stream",
          "name": "stdout",
          "text": [
            "Company: Tech Corp\n",
            "New Company: New Corp\n",
            "---------\n",
            "Active Employees: 2\n",
            "Active Employees: 1\n"
          ]
        }
      ]
    },
    {
      "cell_type": "markdown",
      "source": [
        "**Factory Methods for Object Creation**\n",
        "\n",
        "Sometimes you need different ways to create objects from a class. Class methods can be used as an alternative constructor.\n",
        "\n",
        "> 📒 **Note:** Here, our class method returns a `cls` (the class) instance, providing an alternative way to create an object.\n"
      ],
      "metadata": {
        "id": "D_ok-zb5cixv"
      }
    },
    {
      "cell_type": "code",
      "source": [
        "class Date:\n",
        "  def __init__(self, year: int, month: int, day: int):\n",
        "    self.year = year\n",
        "    self.month = month\n",
        "    self.day = day\n",
        "\n",
        "  def date(self):\n",
        "    return f\"{self.year}-{self.month}-{self.day}\"\n",
        "\n",
        "  @classmethod\n",
        "  def from_string(cls, date_string: str) -> \"Date\":\n",
        "    try:\n",
        "      year, month, day = map(int, date_string.split('-'))\n",
        "    except ValueError:\n",
        "      raise ValueError(\"Invalid date format. Use 'YYYY-MM-DD'.\")\n",
        "    return cls(year, month, day)\n",
        "\n",
        "# Example\n",
        "date1 = Date(2020, 1, 15)   # Using __init__\n",
        "date2 = Date.from_string(\"2025-11-14\")  # Using alternate constructor\n",
        "\n",
        "print(date1.date())\n",
        "print(date2.date())"
      ],
      "metadata": {
        "colab": {
          "base_uri": "https://localhost:8080/"
        },
        "outputId": "6d1ed54d-20cc-4150-eac0-b236ffed92c2",
        "id": "ZNA4enomcixv"
      },
      "execution_count": null,
      "outputs": [
        {
          "output_type": "stream",
          "name": "stdout",
          "text": [
            "2020-1-15\n",
            "2025-11-14\n"
          ]
        }
      ]
    },
    {
      "cell_type": "markdown",
      "source": [
        "**Caching Mechanism**\n",
        "\n",
        "> 💡 *Caching is a technique used to store a copy of data in a temporary storage location (called a **cache**) so that it can be accessed more quickly in the future.*\n"
      ],
      "metadata": {
        "id": "JydPBReVcixv"
      }
    },
    {
      "cell_type": "code",
      "source": [
        "class URLShortener:\n",
        "  cache = {}\n",
        "\n",
        "  def __init__(self, long_url):\n",
        "    self.long_url = long_url\n",
        "    self.short_url = self._generate_short_url()\n",
        "    URLShortener.cache[self.short_url] = long_url\n",
        "\n",
        "  def _generate_short_url(self):\n",
        "    \"\"\"Generates a simple short URL.\"\"\"\n",
        "    return f\"short.ly/{hash(self.long_url) % 10000}\"\n",
        "\n",
        "  @classmethod\n",
        "  def get_long_url(cls, short_url):\n",
        "    \"\"\"Fetch the original URL from the cache.\"\"\"\n",
        "    return cls.cache.get(short_url, \"Not found\")\n",
        "\n",
        "  @classmethod\n",
        "  def cache_size(cls):\n",
        "    \"\"\"Returns the size of the cache.\"\"\"\n",
        "    return len(cls.cache)\n",
        "\n",
        "# Example\n",
        "url1 = URLShortener(\"https://example.com/long-url\")\n",
        "url2 = URLShortener(\"https://anotherexample.com/very-long-url\")\n",
        "\n",
        "print(url1.short_url)\n",
        "print(URLShortener.get_long_url(url1.short_url))\n",
        "print(URLShortener.get_long_url(\"skdjksdjf\"))\n",
        "print(URLShortener.cache_size())"
      ],
      "metadata": {
        "colab": {
          "base_uri": "https://localhost:8080/"
        },
        "outputId": "79452404-699a-4c9e-d7f5-23c860e84da3",
        "id": "AbUQKl5Jcixv"
      },
      "execution_count": null,
      "outputs": [
        {
          "output_type": "stream",
          "name": "stdout",
          "text": [
            "short.ly/5526\n",
            "https://example.com/long-url\n",
            "Not found\n",
            "2\n"
          ]
        }
      ]
    },
    {
      "cell_type": "markdown",
      "source": [
        "### **Static Methods**\n",
        "\n",
        "Static methods, marked by the `@staticmethod` decorator, are self-contained utilities that don't interact with the instance or the class. It does not accept a special first parameter.\n",
        "\n",
        "> 📒 **NOTE:** Think of them as regular functions nested within a class for organizational purposes.\n"
      ],
      "metadata": {
        "id": "9Uyx1Oj9vOq_"
      }
    },
    {
      "cell_type": "code",
      "source": [
        "class WeightConverter:\n",
        "  @staticmethod\n",
        "  def pounds_to_kilograms(pounds):\n",
        "    \"\"\"Converts pounds to kilograms.\"\"\"\n",
        "    return pounds * 0.453592\n",
        "\n",
        "  @staticmethod\n",
        "  def kilograms_to_pounds(kilograms):\n",
        "    \"\"\"Converts kilograms to pounds.\"\"\"\n",
        "    return kilograms / 0.453592"
      ],
      "metadata": {
        "id": "4PMVxzzKbepI"
      },
      "execution_count": null,
      "outputs": []
    },
    {
      "cell_type": "markdown",
      "source": [
        "Call static methods directly on the class:\n"
      ],
      "metadata": {
        "id": "nRnw2R-Ub-K_"
      }
    },
    {
      "cell_type": "code",
      "source": [
        "print(f\"50 lbs = {WeightConverter.pounds_to_kilograms(50):.2f} kg\")\n",
        "print(f\"22.68 kg = {WeightConverter.kilograms_to_pounds(22.68):.2f} lbs\")"
      ],
      "metadata": {
        "colab": {
          "base_uri": "https://localhost:8080/"
        },
        "id": "Uz-XEGhwbvac",
        "outputId": "11122064-6cde-4d87-b184-afa75eba8240"
      },
      "execution_count": null,
      "outputs": [
        {
          "output_type": "stream",
          "name": "stdout",
          "text": [
            "50 lbs = 22.68 kg\n",
            "22.68 kg = 50.00 lbs\n"
          ]
        }
      ]
    },
    {
      "cell_type": "markdown",
      "source": [
        "## **Conclusion**\n",
        "\n",
        "In this lesson, we deepened our understanding of OOP attributes and methods. For further learning, consider these online resources:\n",
        "\n",
        "- [Real Python - Python Classes: The Power of Object-Oriented Programming](https://realpython.com/python-classes/)\n",
        "- [GeeksforGeeks - Python OOPs Concepts](https://www.geeksforgeeks.org/python-oops-concepts/) (Also check their specific articles on access modifiers and method types)\n",
        "- [Programiz - Python classmethod()](https://www.programiz.com/python-programming/methods/built-in/classmethod) and [Programiz - Python staticmethod()](https://www.programiz.com/python-programming/methods/built-in/staticmethod)\n",
        "\n",
        "In our next class, we'll explore how classes interact with each other:\n",
        "\n",
        "  - **Inheritance** for sharing behavior and building hierarchies.\n",
        "  - **Composition** for \"has-a\" relationships by embedding objects.\n",
        "  - **Aggregation** for a weaker form of \"has-a\" relationship where objects can exist independently.\n",
        "  - **Association** for general relationships between classes.\n",
        "\n",
        "See you in the next class! 🔥\n"
      ],
      "metadata": {
        "id": "75f3W_HdnUyB"
      }
    }
  ]
}