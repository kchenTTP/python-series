{
  "nbformat": 4,
  "nbformat_minor": 0,
  "metadata": {
    "colab": {
      "provenance": [],
      "toc_visible": true,
      "collapsed_sections": [
        "43wUuAfKT_w-"
      ],
      "authorship_tag": "ABX9TyP24yCtn14Ro3f8Ww1DVu3e",
      "include_colab_link": true
    },
    "kernelspec": {
      "name": "python3",
      "display_name": "Python 3"
    },
    "language_info": {
      "name": "python"
    }
  },
  "cells": [
    {
      "cell_type": "markdown",
      "metadata": {
        "id": "view-in-github",
        "colab_type": "text"
      },
      "source": [
        "<a href=\"https://colab.research.google.com/github/kchenTTP/python-series/blob/main/object_oriented_programming_in_python/Object_Oriented_Programming_in_Python_Part_3.ipynb\" target=\"_parent\"><img src=\"https://colab.research.google.com/assets/colab-badge.svg\" alt=\"Open In Colab\"/></a>"
      ]
    },
    {
      "cell_type": "markdown",
      "source": [
        "# **Object Oriented Programming in Python - Part 3**\n",
        "\n",
        "Now that we've covered all the basics of object-oriented programming, we can dive deeper into ...\n",
        "\n",
        "**Table of Contents**\n",
        "\n",
        "- [Special Methods & Attributes](#scrollTo=K3MSR-8x31WE)\n",
        "  - [Dunder Methods](#scrollTo=vg9-s_SgTqVs)\n",
        "  - [Special Attributes](#scrollTo=FqSGZ48CVDXN)\n",
        "- [OOP Relationships](#scrollTo=4AzmBqOAF8lm)\n",
        "  - [Inheritance](#scrollTo=qPlMEcmqYAII)\n"
      ],
      "metadata": {
        "id": "u77EAJpG99fN"
      }
    },
    {
      "cell_type": "markdown",
      "source": [
        "## **Special Methods & Attributes**\n",
        "\n",
        "Python provides several special methods (also called **magic** methods or **dunder** methods) and attributes  that enable advanced functionality and customization for your classes. These methods start and end with ***double underscores*** (`__`) and are used internally by Python, but you can override them to define your class's behavior.\n"
      ],
      "metadata": {
        "id": "K3MSR-8x31WE"
      }
    },
    {
      "cell_type": "markdown",
      "source": [
        "### **Dunder Methods**\n"
      ],
      "metadata": {
        "id": "vg9-s_SgTqVs"
      }
    },
    {
      "cell_type": "markdown",
      "source": [
        "#### **Object Initialization and Destruction**\n",
        "\n",
        "**`__init__`**\n",
        "\n",
        "  - Used as the ***constructor*** of the class to initialize attributes.\n",
        "  - Called automatically when an object is created.\n",
        "\n",
        "**`__del__`**\n",
        "\n",
        "  - Used as the ***destructor*** of the class.\n",
        "  - Called when an object is about to be destroyed (rarely used).\n"
      ],
      "metadata": {
        "id": "GMP_yJmZDoWH"
      }
    },
    {
      "cell_type": "code",
      "source": [
        "class Creature:\n",
        "  def __init__(self, name: str):\n",
        "    self.name = name\n",
        "    print(f\"{self.name} has been created.\")\n",
        "\n",
        "  def __del__(self):\n",
        "    print(f\"{self.name} has been destroyed.\")\n",
        "\n",
        "# Example\n",
        "goblin = Creature(\"Goblin\")\n",
        "del goblin"
      ],
      "metadata": {
        "colab": {
          "base_uri": "https://localhost:8080/"
        },
        "id": "OxlgfqMeeaEx",
        "outputId": "16d246d3-2885-4cae-d309-4c3a0795a7d2"
      },
      "execution_count": null,
      "outputs": [
        {
          "output_type": "stream",
          "name": "stdout",
          "text": [
            "Goblin has been created.\n",
            "Goblin has been destroyed.\n"
          ]
        }
      ]
    },
    {
      "cell_type": "markdown",
      "source": [
        "#### **Object Representation**\n",
        "\n",
        "**`__str__`**\n",
        "\n",
        "  - Defines the human-readable string representation of an object.\n",
        "  - Used by `str()` and `print()`.\n",
        "\n",
        "**`__repr__`**\n",
        "\n",
        "  - Defines the official string representation of an object.\n",
        "  - Used by `repr()` and in debugging.\n",
        "  - If `__str__` is not defined, `str()` and `print()` will use `__repr__` instead.\n"
      ],
      "metadata": {
        "id": "zf2SvfrGedH8"
      }
    },
    {
      "cell_type": "code",
      "source": [
        "class Person:\n",
        "  def __init__(self, name, age):\n",
        "    self.name = name\n",
        "    self.age = age\n",
        "\n",
        "  def __str__(self):\n",
        "    return f\"{self.name}, {self.age} years old\"\n",
        "\n",
        "  def __repr__(self):\n",
        "    return f\"Person(name={self.name!r}, age={self.age!r})\"\n",
        "\n",
        "# Classes without string representation\n",
        "print(Creature)\n",
        "print(str(Creature))\n",
        "print(\"--------\")\n",
        "\n",
        "# Classes with string representation\n",
        "person = Person(\"Jeffery\", 25)\n",
        "print(person)\n",
        "print(str(person))\n",
        "print(repr(person))"
      ],
      "metadata": {
        "colab": {
          "base_uri": "https://localhost:8080/"
        },
        "id": "uMlO1G57exYW",
        "outputId": "69ed05d3-9e83-4f90-9054-a6a93e6863c3"
      },
      "execution_count": null,
      "outputs": [
        {
          "output_type": "stream",
          "name": "stdout",
          "text": [
            "<class '__main__.Creature'>\n",
            "<class '__main__.Creature'>\n",
            "--------\n",
            "Jeffery, 25 years old\n",
            "Jeffery, 25 years old\n",
            "Person(name='Jeffery', age=25)\n"
          ]
        }
      ]
    },
    {
      "cell_type": "markdown",
      "source": [
        "#### **Operator Overloading**\n",
        "\n",
        "##### **Arithmetic Operators**\n",
        "\n",
        "**`__add__`**, **`__sub__`**, **`__mul__`**, **`__truediv__`**, **`__floordiv__`**, **`__mod__`**, **`__pow__`**\n",
        "\n",
        "  - Define the behavior of arithmetic operators: `+`, `-`, `*`, `/`, `//`, `%`, `**`.\n",
        "\n",
        "##### **Comparison Operators**\n",
        "\n",
        "**`__eq__`**, **`__ne__`**, **`__lt__`**, **`__gt__`**, **`__le__`**, **`__ge__`**\n",
        "\n",
        "  - Define the behavior of comparison operators: `==`, `!=`, `<`, `>`, `<=`, `>=`.\n",
        "\n",
        "> ❗ When overloading operators, the dunder methods should only recieve `self` and `other` as the first two arguments.\n"
      ],
      "metadata": {
        "id": "5AHloqlJe4JC"
      }
    },
    {
      "cell_type": "code",
      "source": [
        "from typing import Union  # for type hint\n",
        "\n",
        "# Let's try to recreate our own string datatype\n",
        "class MyString:\n",
        "  def __init__(self, value: str):\n",
        "    self.value = value\n",
        "\n",
        "  # Arithmetic Operators\n",
        "  def __add__(self, other: Union[\"MyString\", str]) -> \"MyString\":\n",
        "    if isinstance(other, MyString):\n",
        "      return MyString(self.value + other.value)\n",
        "    elif isinstance(other, str):\n",
        "      return MyString(self.value + other)\n",
        "    else:\n",
        "      raise TypeError\n",
        "\n",
        "  def __mul__(self, other: int) -> \"MyString\":\n",
        "    if isinstance(other, int):\n",
        "      return MyString(self.value * other)\n",
        "    else:\n",
        "      raise TypeError\n",
        "\n",
        "  # Comparison Operators\n",
        "  def __eq__(self, other: Union[\"MyString\", str]) -> bool:\n",
        "    if isinstance(other, MyString):\n",
        "      return self.value == other.value\n",
        "    elif isinstance(other, str):\n",
        "      return self.value == other\n",
        "\n",
        "  def __ne__(self, other: Union[\"MyString\", str]) -> bool:\n",
        "    if isinstance(other, MyString):\n",
        "      return self.value != other.value\n",
        "    elif isinstance(other, str):\n",
        "      return self.value != other\n",
        "\n",
        "  # Representation Methods\n",
        "  def __str__(self):\n",
        "    return self.value\n",
        "\n",
        "  def __repr__(self):\n",
        "    return f\"MyString('{self.value}')\"\n",
        "\n",
        "# Example\n",
        "s1 = MyString(\"Hello\")\n",
        "s2 = MyString(\"World\")\n",
        "\n",
        "print(s1 + \" \" + s2)\n",
        "print(s1 * 3)\n",
        "print(s1 == \"Good morning\")\n",
        "print(s1 != s2)"
      ],
      "metadata": {
        "colab": {
          "base_uri": "https://localhost:8080/"
        },
        "id": "pLbmlCuJpoJ9",
        "outputId": "6206c613-4f8e-4edc-9859-82310e9550ae"
      },
      "execution_count": null,
      "outputs": [
        {
          "output_type": "stream",
          "name": "stdout",
          "text": [
            "Hello World\n",
            "HelloHelloHello\n",
            "False\n",
            "True\n"
          ]
        }
      ]
    },
    {
      "cell_type": "markdown",
      "source": [
        "#### **Container Behavior**\n",
        "\n",
        "**`__len__`**\n",
        "\n",
        "  - Defines the behavior of `len()`.\n",
        "\n",
        "**`__getitem__`**\n",
        "\n",
        "  - Defines behavior for indexing (e.g., `obj[key]`).\n",
        "\n",
        "**`__setitem__`**\n",
        "\n",
        "  - Defines behavior for assignment to indexed elements.\n",
        "\n",
        "**`__delitem__`**\n",
        "\n",
        "  - Defines behavior for deleting indexed elements.\n",
        "\n",
        "**`__iter__`**\n",
        "\n",
        "  - Makes an object iterable (used in loops).\n",
        "\n",
        "**`__contains__`**\n",
        "\n",
        "  - Defines the behavior of the `in` operator.\n"
      ],
      "metadata": {
        "id": "o9pIGxbzf5PZ"
      }
    },
    {
      "cell_type": "code",
      "source": [
        "from typing import Any  # for type hint\n",
        "\n",
        "# Let's try to recreate our own list datatype\n",
        "class MyList:\n",
        "  def __init__(self, *items: Any):\n",
        "    self._length = 0\n",
        "\n",
        "    # Dynamically setting attributes base on the number of arguements passed in when initialized\n",
        "    for i, item in enumerate(items):\n",
        "      setattr(self, f\"{i}\", item)\n",
        "      self._length += 1\n",
        "\n",
        "  def __len__(self):\n",
        "    return self._length\n",
        "\n",
        "  def __iter__(self):\n",
        "    for i in range(self._length):\n",
        "      yield getattr(self, f\"{i}\")\n",
        "\n",
        "  def __contains__(self, item: Any):\n",
        "    for i in range(self._length):\n",
        "      if getattr(self, f\"{i}\") == item:\n",
        "        return True\n",
        "    return False\n",
        "\n",
        "  def __str__(self):\n",
        "    return f\"{[getattr(self, f'{i}') for i in range(self._length)]}\"\n",
        "\n",
        "  def __getitem__(self, index: int):\n",
        "    if not isinstance(index, int):\n",
        "      raise TypeError(\"Index must be an integer\")\n",
        "    if index < 0 - self._length or index >= self._length:\n",
        "      raise IndexError(\"Index out of range\")\n",
        "\n",
        "    # Convert negative index to positive\n",
        "    if index < 0:\n",
        "      index = self._length + index\n",
        "\n",
        "    # Dynamically getting attributes\n",
        "    for i in range(self._length):\n",
        "      if i == index:\n",
        "        return getattr(self, f\"{i}\")\n",
        "\n",
        "  def __setitem__(self, index: int, value: Any):\n",
        "    if not isinstance(index, int):\n",
        "      raise TypeError(\"Index must be an integer\")\n",
        "    if index < 0 - self._length or index >= self._length:\n",
        "      raise IndexError(\"Index out of range\")\n",
        "\n",
        "    # Convert negative index to positive\n",
        "    if index < 0:\n",
        "      index = self._length + index\n",
        "\n",
        "    # Dynamically setting attributes\n",
        "    for i in range(self._length):\n",
        "      if i == index:\n",
        "        setattr(self, f\"{i}\", value)\n",
        "        break\n",
        "\n",
        "  def __delitem__(self, index: int):\n",
        "    if not isinstance(index, int):\n",
        "      raise TypeError(\"Index must be an integer\")\n",
        "    if index < 0 - self._length or index >= self._length:\n",
        "      raise IndexError(\"Index out of range\")\n",
        "\n",
        "    # Convert negative index to positive\n",
        "    if index < 0:\n",
        "      index = self._length + index\n",
        "\n",
        "    # Dynamically deleting attributes and adjust the rest of the attributes and length of object\n",
        "    for i in range(self._length):\n",
        "      if i == index:\n",
        "        delattr(self, f\"{i}\")\n",
        "      if i > index:\n",
        "        setattr(self, f\"{i - 1}\", getattr(self, f\"{i}\"))\n",
        "        delattr(self, f\"{i}\")\n",
        "    self._length -= 1\n",
        "\n",
        "# Example\n",
        "lst = MyList(1, 2, 3, 4, 5)\n",
        "\n",
        "print(lst)\n",
        "print(2 in lst)\n",
        "print(20 in lst)\n",
        "print(\"---------\")\n",
        "\n",
        "print(f\"Index 0: {lst[0]}\")\n",
        "lst[0] = 10\n",
        "print(f\"New Index 0: {lst[0]}\")\n",
        "print(\"---------\")\n",
        "\n",
        "print(f\"Length: {len(lst)}\")\n",
        "del lst[-2]\n",
        "print(f\"Length After Removing 1 Item: {len(lst)}\")\n",
        "print(\"---------\")\n",
        "\n",
        "for item in lst:\n",
        "  print(item)"
      ],
      "metadata": {
        "colab": {
          "base_uri": "https://localhost:8080/"
        },
        "id": "GyI3Isogw9ly",
        "outputId": "f562c798-c182-4332-dc03-2a72041f1b50"
      },
      "execution_count": null,
      "outputs": [
        {
          "output_type": "stream",
          "name": "stdout",
          "text": [
            "[1, 2, 3, 4, 5]\n",
            "True\n",
            "False\n",
            "---------\n",
            "Index 0: 1\n",
            "New Index 0: 10\n",
            "---------\n",
            "Length: 5\n",
            "Length After Removing 1 Item: 4\n",
            "---------\n",
            "10\n",
            "2\n",
            "3\n",
            "5\n"
          ]
        }
      ]
    },
    {
      "cell_type": "markdown",
      "source": [
        "> 📒 **Note:** `setattr`, `getattr`, and `delattr` are built-in functions that provide dynamic access to an object's attributes.\n"
      ],
      "metadata": {
        "id": "FrbXHSTq7-c_"
      }
    },
    {
      "cell_type": "markdown",
      "source": [
        "#### **Context Manager**\n",
        "\n",
        "**`__enter__`**\n",
        "\n",
        "  - Executes when entering the `with` block.\n",
        "  - Performs any necessary setup or initialization.\n",
        "  - Returns the object to be used within the `with` block.\n",
        "    - Often returns `self` to provide access to the instance.\n",
        "\n",
        "**`__exit__`**\n",
        "\n",
        "  - Executes when exiting the `with` block (whether normally or due to an exception).\n",
        "  - Handles cleanup and resource release.\n",
        "  - Receives exception information if one occurred:\n",
        "    - `exc_type`: Type of exception (e.g., `ValueError`, `TypeError`). `None` if no exception occurred.\n",
        "    - `exc_val`: The exception instance with error details. `None` if no exception occurred.\n",
        "    - `exc_tb`: Traceback object containing the call stack. `None` if no exception occurred.\n",
        "  - Return value controls exception propagation:\n",
        "    - `True`: Suppresses the exception.\n",
        "    - `False` or None: Allows the exception to propagate.\n"
      ],
      "metadata": {
        "id": "6TVt4uqugN6Z"
      }
    },
    {
      "cell_type": "code",
      "source": [
        "import time\n",
        "\n",
        "class Timer:\n",
        "  def __enter__(self):\n",
        "    self.start = time.perf_counter()\n",
        "    return self\n",
        "\n",
        "  def __exit__(self, exc_type, exc_val, exc_tb):\n",
        "    self.end = time.perf_counter()\n",
        "    self.duration = self.end - self.start\n",
        "    print(f\"Execution time: {self.duration:.4f} seconds\")\n",
        "\n",
        "# Example\n",
        "with Timer():\n",
        "    sum(range(1000000))"
      ],
      "metadata": {
        "colab": {
          "base_uri": "https://localhost:8080/"
        },
        "id": "rmzcyRVhgbx5",
        "outputId": "7488d179-9191-4388-e241-3ffebcd04cab"
      },
      "execution_count": null,
      "outputs": [
        {
          "output_type": "stream",
          "name": "stdout",
          "text": [
            "Execution time: 0.0217 seconds\n"
          ]
        }
      ]
    },
    {
      "cell_type": "markdown",
      "source": [
        "### **Special Attributes**\n",
        "\n",
        "**`__dict__`**\n",
        "\n",
        "A special attribute that stores the object's writable attributes as key-value pairs in a dictionary.\n",
        "\n",
        "**`__class__`**\n",
        "\n",
        "A special attribute that holds a reference to the class of the object.\n",
        "\n",
        "**`__doc__`**\n",
        "\n",
        "A special attribute that contains the docstring of the class, method, or function.\n"
      ],
      "metadata": {
        "id": "FqSGZ48CVDXN"
      }
    },
    {
      "cell_type": "code",
      "source": [
        "class MyClass:\n",
        "  \"\"\"😀 This is a simple class with a docstring.\"\"\"\n",
        "\n",
        "  cls_attr = 100\n",
        "\n",
        "  def __init__(self, value):\n",
        "    self.value = value\n",
        "\n",
        "  def my_method(self):\n",
        "    \"\"\"🐍 This is a method with a docstring.\"\"\"\n",
        "    pass\n",
        "\n",
        "obj = MyClass(42)\n",
        "\n",
        "print(obj.__dict__)\n",
        "print(MyClass.__dict__)\n",
        "print(obj.__class__)\n",
        "print(obj.__doc__)\n",
        "print(obj.my_method.__doc__)"
      ],
      "metadata": {
        "colab": {
          "base_uri": "https://localhost:8080/"
        },
        "id": "kjCpqHtMVkcF",
        "outputId": "4902c29e-fc0f-4013-b4c8-5b73478864c3"
      },
      "execution_count": null,
      "outputs": [
        {
          "output_type": "stream",
          "name": "stdout",
          "text": [
            "{'value': 42}\n",
            "{'__module__': '__main__', '__doc__': '😀 This is a simple class with a docstring.', 'cls_attr': 100, '__init__': <function MyClass.__init__ at 0x7f5730257380>, 'my_method': <function MyClass.my_method at 0x7f5730257240>, '__dict__': <attribute '__dict__' of 'MyClass' objects>, '__weakref__': <attribute '__weakref__' of 'MyClass' objects>}\n",
            "<class '__main__.MyClass'>\n",
            "😀 This is a simple class with a docstring.\n",
            "🐍 This is a method with a docstring.\n"
          ]
        }
      ]
    },
    {
      "cell_type": "markdown",
      "source": [
        "There are many more dunder methods and special attributes beyond those covered here, each serving specific purposes to customize and extend the behavior of objects in Python. Understanding and using these methods effectively can help you write cleaner, more Pythonic code.\n"
      ],
      "metadata": {
        "id": "58qYOQxRVERg"
      }
    },
    {
      "cell_type": "markdown",
      "source": [
        "### **More Examples (Additional Material)**\n"
      ],
      "metadata": {
        "id": "43wUuAfKT_w-"
      }
    },
    {
      "cell_type": "markdown",
      "source": [
        "**Circle**\n"
      ],
      "metadata": {
        "id": "e7puw5dWUnLB"
      }
    },
    {
      "cell_type": "code",
      "source": [
        "class Circle:\n",
        "  def __init__(self, radius: float):\n",
        "    self.radius = radius\n",
        "\n",
        "  @property\n",
        "  def area(self):\n",
        "    return 3.14 * (self.radius ** 2)\n",
        "\n",
        "  # Comparison Operators\n",
        "  def __eq__(self, other: \"Circle\"):\n",
        "    if not isinstance(other, Circle):\n",
        "      return False\n",
        "    return self.area == other.area\n",
        "\n",
        "  def __ne__(self, other: \"Circle\"):\n",
        "    if not isinstance(other, Circle):\n",
        "      return False\n",
        "    return self.area != other.area\n",
        "\n",
        "  def __lt__(self, other: \"Circle\"):\n",
        "    if not isinstance(other, Circle):\n",
        "      return False\n",
        "    return self.area < other.area\n",
        "\n",
        "  def __le__(self, other: \"Circle\"):\n",
        "    if not isinstance(other, Circle):\n",
        "      return False\n",
        "    return self.area <= other.area\n",
        "\n",
        "  def __gt__(self, other: \"Circle\"):\n",
        "    if not isinstance(other, Circle):\n",
        "      return False\n",
        "    return self.area > other.area\n",
        "\n",
        "  def __ge__(self, other: \"Circle\"):\n",
        "    if not isinstance(other, Circle):\n",
        "      return False\n",
        "    return self.area >= other.area\n",
        "\n",
        "# Example\n",
        "small_circle = Circle(10)\n",
        "big_circle = Circle(20)\n",
        "\n",
        "print(small_circle == big_circle)\n",
        "print(small_circle != big_circle)\n",
        "print(small_circle < big_circle)"
      ],
      "metadata": {
        "colab": {
          "base_uri": "https://localhost:8080/"
        },
        "id": "4OPzsYE1n5SE",
        "outputId": "75fb8d2f-3991-46c8-f504-c1e5e106b6dc"
      },
      "execution_count": null,
      "outputs": [
        {
          "output_type": "stream",
          "name": "stdout",
          "text": [
            "False\n",
            "True\n",
            "True\n"
          ]
        }
      ]
    },
    {
      "cell_type": "markdown",
      "source": [
        "**Game Level**\n"
      ],
      "metadata": {
        "id": "fGBLuTQAM1uL"
      }
    },
    {
      "cell_type": "code",
      "source": [
        "import random\n",
        "\n",
        "class LevelConfig:\n",
        "  def __init__(self, level_name: str):\n",
        "    self.level_name = level_name\n",
        "    self.objects = [\"💰 treasure chest\", \"🍾 health potion\", \"🪖 armor\", \"☠️ poison trap\"]\n",
        "    self.monsters = [\"👺 goblin\", \"🧌 orc\", \"🐉 dragon\"]\n",
        "\n",
        "class LevelLayout:\n",
        "  def __init__(self, config: LevelConfig):\n",
        "    self.config = config\n",
        "    self.layout = []\n",
        "    self.size = 5  # 5x5 grid\n",
        "    self.cell_width = 0\n",
        "    for item in self.config.objects + self.config.monsters:\n",
        "      self.cell_width = max(self.cell_width, len(item))\n",
        "    self.initialize_empty_layout()\n",
        "\n",
        "  def initialize_empty_layout(self):\n",
        "    self.layout = [[\"empty\" for _ in range(self.size)] for _ in range(self.size)]\n",
        "\n",
        "  def randomize(self):\n",
        "    self.initialize_empty_layout()\n",
        "    # Place random objects\n",
        "    for obj in self.config.objects:\n",
        "      x, y = random.randint(0, self.size-1), random.randint(0, self.size-1)\n",
        "      while self.layout[y][x] != \"empty\":\n",
        "        x, y = random.randint(0, self.size-1), random.randint(0, self.size-1)\n",
        "      self.layout[y][x] = obj\n",
        "\n",
        "    # Place random monsters\n",
        "    for monster in self.config.monsters:\n",
        "      x, y = random.randint(0, self.size-1), random.randint(0, self.size-1)\n",
        "      while self.layout[y][x] != \"empty\":\n",
        "        x, y = random.randint(0, self.size-1), random.randint(0, self.size-1)\n",
        "      self.layout[y][x] = monster\n",
        "\n",
        "class GameLevel:\n",
        "  def __init__(self, level_name: str):\n",
        "    self.level_name = level_name\n",
        "    self.config = None\n",
        "    self.level_layout = None\n",
        "\n",
        "  def __enter__(self):\n",
        "    print(f\"Initializing level: {self.level_name}\")\n",
        "    self.config = LevelConfig(self.level_name)\n",
        "    self.level_layout = LevelLayout(self.config)\n",
        "    self.level_layout.randomize()\n",
        "    return self\n",
        "\n",
        "  def __exit__(self, exc_type, exc_val, exc_tb):\n",
        "    print(f\"Cleaning up level: {self.level_name}\")\n",
        "    self.config = None\n",
        "    self.level_layout = None\n",
        "    if exc_type is not None:\n",
        "      print(f\"An error occurred: {exc_val}\")\n",
        "      return True\n",
        "\n",
        "  def display_layout(self):\n",
        "    if self.level_layout is None:\n",
        "      raise ValueError(\"Level layout has not been initialized\")\n",
        "\n",
        "    total_width = (self.level_layout.cell_width * self.level_layout.size) + (self.level_layout.size - 1)\n",
        "    print((\"+\" + \"-\" * self.level_layout.cell_width) * self.level_layout.size + \"+\")\n",
        "\n",
        "    for row in self.level_layout.layout:\n",
        "      formatted_row = \"|\" + \"|\".join(f\"{cell:^{self.level_layout.cell_width}}\" for cell in row) + \"|\"\n",
        "      print(formatted_row)\n",
        "      print((\"+\" + \"-\" * self.level_layout.cell_width) * self.level_layout.size + \"+\")"
      ],
      "metadata": {
        "id": "YCyVRyj-B4jX"
      },
      "execution_count": null,
      "outputs": []
    },
    {
      "cell_type": "code",
      "source": [
        "with GameLevel(\"Dungeon\") as game:\n",
        "  print(f\"Level Name: {game.level_name}\")\n",
        "  print(f\"Level Config: {game.config.__dict__}\")\n",
        "  print()\n",
        "  game.display_layout()"
      ],
      "metadata": {
        "colab": {
          "base_uri": "https://localhost:8080/"
        },
        "id": "RgrekLHsM7wc",
        "outputId": "03f4c6ea-2dbc-4df1-cd28-86be0b3bf43a"
      },
      "execution_count": null,
      "outputs": [
        {
          "output_type": "stream",
          "name": "stdout",
          "text": [
            "Initializing level: Dungeon\n",
            "Level Name: Dungeon\n",
            "Level Config: {'level_name': 'Dungeon', 'objects': ['💰 treasure chest', '🍾 health potion', '🪖 armor', '☠️ poison trap'], 'monsters': ['👺 goblin', '🧌 orc', '🐉 dragon']}\n",
            "\n",
            "+----------------+----------------+----------------+----------------+----------------+\n",
            "|     🧌 orc      |    👺 goblin    |     empty      |    🪖 armor     |     empty      |\n",
            "+----------------+----------------+----------------+----------------+----------------+\n",
            "|     empty      |     empty      |     empty      |     empty      |     empty      |\n",
            "+----------------+----------------+----------------+----------------+----------------+\n",
            "|     empty      |     empty      |     empty      |     empty      |     empty      |\n",
            "+----------------+----------------+----------------+----------------+----------------+\n",
            "|     empty      |     empty      |     empty      | ☠️ poison trap |     empty      |\n",
            "+----------------+----------------+----------------+----------------+----------------+\n",
            "|💰 treasure chest|     empty      |🍾 health potion |    🐉 dragon    |     empty      |\n",
            "+----------------+----------------+----------------+----------------+----------------+\n",
            "Cleaning up level: Dungeon\n"
          ]
        }
      ]
    },
    {
      "cell_type": "markdown",
      "source": [
        "## **Object-Oriented Programming Relationships**\n",
        "\n",
        "There are different ways objects or classes can interact with each other in object-oriented programming. These interactions define how data and\n",
        "behaviors are shared among classes. The primary types of relationships include Inheritance, Composition, Aggregation, and Association.\n"
      ],
      "metadata": {
        "id": "4AzmBqOAF8lm"
      }
    },
    {
      "cell_type": "markdown",
      "source": [
        "### **Inheritance**\n",
        "\n",
        "Inheritance is a fundamental concept in OOP that allows a class (called the ***child***, ***subclass***, or ***derived class***) to inherit attributes and methods from another class (called the ***parent***, ***superclass***, or ***base class***).This promotes code reusability and establishes an **\"is-a\"** relationship between classes.\n",
        "\n",
        "<br>\n",
        "\n",
        "**Key Features of Inheritance:**\n",
        "\n",
        "- **Code Reusability:** Allows subclasses to reuse attibutes and methods defined in the superclass.\n",
        "- **Overriding Methods:** Subclasses can override or extend methods from their parent classes.\n",
        "- **Polymorphism:** Enables objects of different but related types (e.g., derived and base classes) to be treated as objects of a common\n",
        "superclass.\n",
        "\n",
        "<br>\n",
        "\n",
        "**Syntax**\n",
        "\n",
        "To inherit from another class, put the parent class in parenthesis after the name of the child class.\n",
        "\n",
        "> 📒 **Note**: The `super()` funciton is used to call functions defined in the parent class.\n"
      ],
      "metadata": {
        "id": "qPlMEcmqYAII"
      }
    },
    {
      "cell_type": "code",
      "source": [
        "class ParentClass:\n",
        "  def __init__(self, attribute):\n",
        "    self.attribute = attribute\n",
        "\n",
        "  def parent_method(self):\n",
        "    print(\"Method in the parent class.\")\n",
        "\n",
        "\n",
        "# Inheritance\n",
        "class ChildClass(ParentClass):\n",
        "  # Extending functionality beyond the parent class\n",
        "  def child_method(self):\n",
        "    print(\"Method specific to the child class.\")\n",
        "\n",
        "  # Overriding methods\n",
        "  def parent_method(self):\n",
        "    print(\"Override the inherited method inside child class...\")\n",
        "    super().parent_method()  # Call the parent method\n",
        "\n",
        "\n",
        "# Example\n",
        "parent = ParentClass(\"Parent Attribute\")\n",
        "parent.parent_method()\n",
        "print(\"==========\")\n",
        "\n",
        "child = ChildClass(\"Child Attribute\")\n",
        "child.child_method()\n",
        "child.parent_method()"
      ],
      "metadata": {
        "id": "E1co0pBTZZcK",
        "colab": {
          "base_uri": "https://localhost:8080/"
        },
        "outputId": "b1b6a6de-a113-44b4-d30c-03f4f9e5d939"
      },
      "execution_count": null,
      "outputs": [
        {
          "output_type": "stream",
          "name": "stdout",
          "text": [
            "Method in the parent class.\n",
            "==========\n",
            "Method specific to the child class.\n",
            "Override the inherited method inside child class...\n",
            "Method in the parent class.\n"
          ]
        }
      ]
    },
    {
      "cell_type": "markdown",
      "source": [
        "**Types of Inheritance:**\n",
        "\n",
        "1. **Single Inheritance:** A subclass inherits from one parent class.\n",
        "2. **Multiple Inheritance:** A subclass inherits from more than one parent class.\n",
        "3. **Multilevel Inheritance:** When a derived class becomes a base class for other classes.\n",
        "4. **Hierarchical Inheritance:** Multiple subclasses inherit from a single superclass.\n",
        "\n",
        "<br>\n",
        "\n",
        "<figure align=\"center\">\n",
        "  <img src=\"https://github.com/kchenTTP/python-series/blob/main/object_oriented_programming_in_python/assets/oop-inheritance.png?raw=true\" alt=\"oop-inheritance.png\" />\n",
        "  <figcaption>Object-Orient Programming Inheritance</figcaption>\n",
        "</figure>\n"
      ],
      "metadata": {
        "id": "ZERmvTwiyIKO"
      }
    },
    {
      "cell_type": "code",
      "source": [
        "# Multilevel inheritance\n",
        "class GrandchildClass(ChildClass):\n",
        "  def grandchild_method(self):\n",
        "    print(\"Method specific to the grandchild class.\")\n",
        "\n",
        "\n",
        "grand_child = GrandchildClass(\"Grandchild Attribute\")\n",
        "grand_child.grandchild_method()\n",
        "grand_child.child_method()\n",
        "grand_child.parent_method()"
      ],
      "metadata": {
        "colab": {
          "base_uri": "https://localhost:8080/"
        },
        "id": "dFFeHHczyWE_",
        "outputId": "2f398187-2649-4c77-e438-e347a7206459"
      },
      "execution_count": null,
      "outputs": [
        {
          "output_type": "stream",
          "name": "stdout",
          "text": [
            "Method specific to the grandchild class.\n",
            "Method specific to the child class.\n",
            "Override the inherited method inside child class...\n",
            "Method in the parent class.\n"
          ]
        }
      ]
    },
    {
      "cell_type": "code",
      "source": [
        "# Polymorphism: derived classes are treated as objects of a common superclass\n",
        "print(isinstance(child, ParentClass))\n",
        "print(isinstance(grand_child, ChildClass))\n",
        "print(isinstance(grand_child, ParentClass))\n",
        "print(isinstance(child, GrandchildClass))"
      ],
      "metadata": {
        "colab": {
          "base_uri": "https://localhost:8080/"
        },
        "id": "qC7y2lejfi3a",
        "outputId": "d681a7d2-6f60-4a8d-a9f7-723c4027e5cf"
      },
      "execution_count": null,
      "outputs": [
        {
          "output_type": "stream",
          "name": "stdout",
          "text": [
            "True\n",
            "True\n",
            "True\n",
            "False\n"
          ]
        }
      ]
    },
    {
      "cell_type": "markdown",
      "source": [
        "#### **Multiple Inheritance Example: Secure Web Page**\n"
      ],
      "metadata": {
        "id": "sbuB3XmojIOA"
      }
    },
    {
      "cell_type": "code",
      "source": [
        "class Authentication:\n",
        "  def __init__(self):\n",
        "    self.authenticated_users = set()\n",
        "\n",
        "  def authenticate(self, user_id):\n",
        "    print(f\"Authenticating user {user_id}.\")\n",
        "    self.authenticated_users.add(user_id)\n",
        "\n",
        "  def is_authenticated(self, user_id):\n",
        "    return user_id in self.authenticated_users\n",
        "\n",
        "class Logging:\n",
        "  def __init__(self):\n",
        "    pass\n",
        "\n",
        "  def log(self, message):\n",
        "    print(f\"LOG: {message}\")\n",
        "\n",
        "class DatabaseOperations:\n",
        "  def __init__(self, db_connection_string):\n",
        "    self.db_connection_string = db_connection_string\n",
        "\n",
        "  def query_database(self, query):\n",
        "    print(f\"Executing database query: {query}\")\n",
        "    # Simulate a database operation\n",
        "    return f\"Results for '{query}'\"\n",
        "\n",
        "\n",
        "# Using multiple inheritance to build a complex WebComponent\n",
        "class WebPage(Authentication, Logging, DatabaseOperations):\n",
        "  def __init__(self, db_connection_string):\n",
        "    Authentication.__init__(self)\n",
        "    Logging.__init__(self)\n",
        "    DatabaseOperations.__init__(self, db_connection_string)\n",
        "\n",
        "  def display_page(self, user_id, query):\n",
        "    # Check authentication\n",
        "    if not self.is_authenticated(user_id):\n",
        "      self.log(f\"User {user_id} is not authenticated.\")\n",
        "      return \"Access Denied\"\n",
        "\n",
        "    # Log the access attempt\n",
        "    self.log(f\"User {user_id} accessed the page with query: '{query}'\")\n",
        "\n",
        "    # Execute a database query related to the request\n",
        "    results = self.query_database(query)\n",
        "\n",
        "    return f\"Page content for user {user_id}: {results}\"\n",
        "\n",
        "\n",
        "# Example\n",
        "db_connection_string = \"Server=myServerAddress;Database=myDataBase;User Id=myUsername;Password=myPassword;\"\n",
        "web_page = WebPage(db_connection_string)\n",
        "\n",
        "user_id = 12345\n",
        "query = \"SELECT * FROM users WHERE id=12345\"\n",
        "\n",
        "print(web_page.display_page(user_id, query))\n",
        "\n",
        "# Authenticate the user and try again\n",
        "web_page.authenticate(user_id)\n",
        "print(web_page.display_page(user_id, query))"
      ],
      "metadata": {
        "colab": {
          "base_uri": "https://localhost:8080/"
        },
        "id": "XOzb9RBKcRHa",
        "outputId": "f04c450e-83e8-4968-e2dc-05341cd84316"
      },
      "execution_count": null,
      "outputs": [
        {
          "output_type": "stream",
          "name": "stdout",
          "text": [
            "LOG: User 12345 is not authenticated.\n",
            "Access Denied\n",
            "Authenticating user 12345.\n",
            "LOG: User 12345 accessed the page with query: 'SELECT * FROM users WHERE id=12345'\n",
            "Executing database query: SELECT * FROM users WHERE id=12345\n",
            "Page content for user 12345: Results for 'SELECT * FROM users WHERE id=12345'\n"
          ]
        }
      ]
    },
    {
      "cell_type": "markdown",
      "source": [
        "#### **Considerations When Using Inheritance**\n",
        "\n",
        "While inheritance can be a powerful tool in certain scenarios (e.g., when there is a clear **\"is-a\"** relationship), it can be risky to abstract classes using inheritance due to several reasons:\n",
        "\n",
        "<br>\n",
        "\n",
        "**Complexity**\n",
        "\n",
        "  - Multiple inheritance introduces additional complexity, making it harder to understand and maintain the code.\n",
        "\n",
        "**Tight Coupling**\n",
        "\n",
        "  - Classes can become tightly coupled to their parent classes, making them harder to modify or extend independently.\n",
        "\n",
        "**Reduced Flexibility**\n",
        "\n",
        "  - Inheritance enforces a rigid class hierarchy that can be difficult to change, often leading to maintenance challenges or major rewrites.\n",
        "\n",
        "**Maintenance Challenges**\n",
        "\n",
        "  - Deep and complex inheritance hierarchies make the code harder to maintain, understand, and debug.\n",
        "  - While inheritance allows for behavior reuse, it can also introduce dependencies that complicate future modifications.\n",
        "\n",
        "<br>\n",
        "\n",
        "**Composition**, on the other hand, provides greater flexibility and maintainability by focusing on what objects *do* rather than what they *are*. This approach leads to systems that are easier to understand, test, and extend (which we'll explore next).\n"
      ],
      "metadata": {
        "id": "6FOL0DhjXrSl"
      }
    },
    {
      "cell_type": "markdown",
      "source": [
        "## **Conclusion**\n",
        "\n",
        "In this lesson, we've covered even more Object-Oriented Programming concepts:\n",
        "\n",
        "- ...\n",
        "\n",
        "<br>\n",
        "\n",
        "### **Coming Up Next**\n",
        "\n",
        "In Part 4, we'll dive deeper into OOP relationships and some advanced OOP concepts:\n",
        "\n",
        "**1. OOP Relationships**\n",
        "- Composition, aggregation, and association for combining objects\n",
        "- Polymorphism for flexible interfaces\n",
        "\n",
        "**2. Advanced OOP Concepts**\n",
        "- Abstract Base Class to define interfaces\n",
        "- Metaclasses to meta-program classes\n",
        "\n",
        "These concepts will help you write more powerful and flexible object-oriented code. See you in Part 4!\n"
      ],
      "metadata": {
        "id": "75f3W_HdnUyB"
      }
    }
  ]
}