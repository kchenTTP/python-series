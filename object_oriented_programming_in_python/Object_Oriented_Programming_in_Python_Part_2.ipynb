{
  "nbformat": 4,
  "nbformat_minor": 0,
  "metadata": {
    "colab": {
      "provenance": [],
      "toc_visible": true,
      "collapsed_sections": [
        "b3uMmcLfmNqs",
        "43wUuAfKT_w-",
        "B4diOn6q9fQP"
      ],
      "authorship_tag": "ABX9TyOXe4HviqRNcMY9PuzNBRr1",
      "include_colab_link": true
    },
    "kernelspec": {
      "name": "python3",
      "display_name": "Python 3"
    },
    "language_info": {
      "name": "python"
    }
  },
  "cells": [
    {
      "cell_type": "markdown",
      "metadata": {
        "id": "view-in-github",
        "colab_type": "text"
      },
      "source": [
        "<a href=\"https://colab.research.google.com/github/kchenTTP/python-series/blob/main/object_oriented_programming_in_python/Object_Oriented_Programming_in_Python_Part_2.ipynb\" target=\"_parent\"><img src=\"https://colab.research.google.com/assets/colab-badge.svg\" alt=\"Open In Colab\"/></a>"
      ]
    },
    {
      "cell_type": "markdown",
      "source": [
        "# **Object Oriented Programming in Python - Part 2**\n",
        "\n",
        "In the previous class, we covered the basics of object-oriented programming. In this class, we are going to dive deeper into more OOP features in Python that will help you write more efficient and maintainable code.\n",
        "\n",
        "**Table of Contents**\n",
        "\n",
        "- [Class Methods & Static Methods](#scrollTo=ctaC5CoFZyBn)\n",
        "  - [Class Methods](#scrollTo=S1U_oQzvmpRR)\n",
        "  - [Static Methods](#scrollTo=9Uyx1Oj9vOq_)\n",
        "- [Special Methods & Attributes](#scrollTo=K3MSR-8x31WE)\n",
        "  - [Dunder Methods](#scrollTo=vg9-s_SgTqVs)\n",
        "  - [Special Attributes](#scrollTo=FqSGZ48CVDXN)\n",
        "- [OOP Relationships](#scrollTo=4AzmBqOAF8lm)\n",
        "  - [Inheritance](#scrollTo=qPlMEcmqYAII)\n",
        "  - [Composition](#scrollTo=ueSxzCZ_ZbaS)\n",
        "  - [Aggregation](#scrollTo=iJOhb0ZpVUfy)\n",
        "  - [Association](#scrollTo=vmSTzD9AVZWc)\n",
        "- [Advanced Concepts (Additional Material)](#scrollTo=B4diOn6q9fQP)\n"
      ],
      "metadata": {
        "id": "u77EAJpG99fN"
      }
    },
    {
      "cell_type": "markdown",
      "source": [
        "## **Class Methods & Static Methods**\n",
        "\n",
        "In the previous class, we explored instance methods, which work with data stored in an instance of a class. These methods take `self` as the first argument, referring to the specific instance. In this class, we'll dive into two other types of methods: class methods and static methods.\n"
      ],
      "metadata": {
        "id": "ctaC5CoFZyBn"
      }
    },
    {
      "cell_type": "markdown",
      "source": [
        "### **Class Methods**\n",
        "\n",
        "Class methods are methods that work with the class itself rather than instances of the class. They are decorated with `@classmethod` and receive the class as their first parameter (conventionally called `cls`).\n"
      ],
      "metadata": {
        "id": "S1U_oQzvmpRR"
      }
    },
    {
      "cell_type": "markdown",
      "source": [
        "Here are a few reasons for using class methods.\n",
        "\n",
        "<br>\n",
        "\n",
        "**Managing Class-Level State**\n",
        "\n",
        "Class methods can modify or retrieve class-level state that applies to all instances.\n"
      ],
      "metadata": {
        "id": "wOvhLySg7Oiu"
      }
    },
    {
      "cell_type": "code",
      "source": [
        "class Employee:\n",
        "  company: str = \"Tech Corp\"\n",
        "  active_employees: int = 0\n",
        "\n",
        "  def __init__(self, name, salary):\n",
        "    self.name: str = name\n",
        "    self.salary: float = salary\n",
        "    Employee.active_employees += 1\n",
        "\n",
        "  def __del__(self):\n",
        "    Employee.active_employees -= 1\n",
        "\n",
        "  @classmethod\n",
        "  def set_company(cls, new_company):\n",
        "    cls.company = new_company\n",
        "\n",
        "  @classmethod\n",
        "  def get_active_employees(cls):\n",
        "    return cls.active_employees\n",
        "\n",
        "  @classmethod\n",
        "  def get_company(cls):\n",
        "    return cls.company\n",
        "\n",
        "# Using class methods\n",
        "print(f\"Company: {Employee.get_company()}\")\n",
        "Employee.set_company(\"New Corp\")\n",
        "print(f\"New Company: {Employee.get_company()}\")\n",
        "print(\"---------\")\n",
        "\n",
        "Tom = Employee(\"Tom\", 50000)\n",
        "Alice = Employee(\"Jenna\", 60000)\n",
        "print(f\"Active Employees: {Employee.get_active_employees()}\")\n",
        "\n",
        "del Alice\n",
        "print(f\"Active Employees: {Employee.get_active_employees()}\")"
      ],
      "metadata": {
        "colab": {
          "base_uri": "https://localhost:8080/"
        },
        "id": "xYo2mf03zrCR",
        "outputId": "8ed5a374-c777-41e0-ee4a-d0d5d2ad96b1"
      },
      "execution_count": 1,
      "outputs": [
        {
          "output_type": "stream",
          "name": "stdout",
          "text": [
            "Company: Tech Corp\n",
            "New Company: New Corp\n",
            "---------\n",
            "Active Employees: 2\n",
            "Active Employees: 1\n"
          ]
        }
      ]
    },
    {
      "cell_type": "markdown",
      "source": [
        "**Factory Methods for Object Creation**\n",
        "\n",
        "Sometimes you need different ways to create objects from a class. Class methods can be used as an alternative constructor.\n",
        "\n",
        "> 📒 **Note:** Here, our class method returns a `cls` (the class) instance, providing an alternative way to create an object.\n"
      ],
      "metadata": {
        "id": "LVxmM8v104aK"
      }
    },
    {
      "cell_type": "code",
      "source": [
        "class Date:\n",
        "  def __init__(self, year: int, month: int, day: int):\n",
        "    self.year = year\n",
        "    self.month = month\n",
        "    self.day = day\n",
        "\n",
        "  @property\n",
        "  def date(self):\n",
        "    return f\"{self.year}-{self.month}-{self.day}\"\n",
        "\n",
        "  @classmethod\n",
        "  def from_string(cls, date_string: str) -> \"Date\":\n",
        "    try:\n",
        "      year, month, day = map(int, date_string.split('-'))\n",
        "    except ValueError:\n",
        "      raise ValueError(\"Invalid date format. Use 'YYYY-MM-DD'.\")\n",
        "    return cls(year, month, day)\n",
        "\n",
        "# Example\n",
        "date1 = Date(2024, 1, 15)   # Using __init__\n",
        "date2 = Date.from_string(\"2024-1-15\")  # Using alternate constructor\n",
        "\n",
        "print(date1.date)\n",
        "print(date2.date)"
      ],
      "metadata": {
        "colab": {
          "base_uri": "https://localhost:8080/"
        },
        "id": "2n_9jByqGfos",
        "outputId": "aa61527c-bea0-4d27-9737-0bac9f5c81be"
      },
      "execution_count": 2,
      "outputs": [
        {
          "output_type": "stream",
          "name": "stdout",
          "text": [
            "2024-1-15\n",
            "2024-1-15\n"
          ]
        }
      ]
    },
    {
      "cell_type": "markdown",
      "source": [
        "#### **Examples (Additional Material)**\n",
        "\n",
        "Now let's look at some real world examples at how you could use class methods\n"
      ],
      "metadata": {
        "id": "b3uMmcLfmNqs"
      }
    },
    {
      "cell_type": "markdown",
      "source": [
        "**Role-Based Access Control in a User Management System**\n"
      ],
      "metadata": {
        "id": "6DDRT7jaL7kT"
      }
    },
    {
      "cell_type": "code",
      "source": [
        "from typing import Literal\n",
        "\n",
        "class User:\n",
        "  roles: dict[str, list] = {\"admin\": [], \"editor\": [], \"viewer\": []}\n",
        "  permissions: dict[str, list[Literal[\"create\", \"read\", \"update\", \"delete\"]]] = {\n",
        "      \"admin\": [\"create\", \"read\", \"update\", \"delete\"],\n",
        "      \"editor\": [\"read\", \"update\"],\n",
        "      \"viewer\": [\"read\"],\n",
        "    }\n",
        "\n",
        "  def __init__(self, username: str, role: str = \"viewer\"):\n",
        "    if role not in User.roles:\n",
        "      raise ValueError(f\"Invalid role: {role}\")\n",
        "    self.username = username\n",
        "    self.role = role\n",
        "    User.roles[role].append(username)\n",
        "\n",
        "  @classmethod\n",
        "  def show_roles(cls):\n",
        "    print(cls.roles)\n",
        "\n",
        "  @classmethod\n",
        "  def get_users_by_role(cls, role: str) -> list:\n",
        "    if role not in cls.roles:\n",
        "      raise ValueError(f\"Role '{role}' does not exist.\")\n",
        "    return cls.roles[role]\n",
        "\n",
        "  def has_permission(self, action: Literal[\"create\", \"read\", \"update\", \"delete\"]) -> bool:\n",
        "    return action in User.permissions.get(self.role, [])\n",
        "\n",
        "  def perform_action(self, action: Literal[\"create\", \"read\", \"update\", \"delete\"]):\n",
        "    if self.has_permission(action):\n",
        "      return f\"{self.username} can {action}.\"\n",
        "    else:\n",
        "      return f\"{self.username} cannot {action} due to insufficient permissions.\"\n",
        "\n",
        "admin = User(\"Timothy\", \"admin\")\n",
        "editor = User(\"Jane\", \"editor\")\n",
        "viewer = User(\"Nora\", \"viewer\")\n",
        "User.show_roles()\n",
        "print(User.get_users_by_role(\"admin\"))\n",
        "print(\"----------\")\n",
        "\n",
        "# Perform actions based on permissions\n",
        "print(admin.perform_action(\"create\"))\n",
        "print(editor.perform_action(\"create\"))\n",
        "print(viewer.perform_action(\"read\"))\n",
        "print(viewer.perform_action(\"update\"))"
      ],
      "metadata": {
        "id": "T_h7mZPSnlfU",
        "colab": {
          "base_uri": "https://localhost:8080/"
        },
        "outputId": "4224ea57-3ad7-42ac-821d-66b82ce8c713"
      },
      "execution_count": 3,
      "outputs": [
        {
          "output_type": "stream",
          "name": "stdout",
          "text": [
            "{'admin': ['Timothy'], 'editor': ['Jane'], 'viewer': ['Nora']}\n",
            "['Timothy']\n",
            "----------\n",
            "Timothy can create.\n",
            "Jane cannot create due to insufficient permissions.\n",
            "Nora can read.\n",
            "Nora cannot update due to insufficient permissions.\n"
          ]
        }
      ]
    },
    {
      "cell_type": "markdown",
      "source": [
        "**Caching Mechanism**\n",
        "\n",
        "> 💡 *Caching is a technique used to store a copy of data in a temporary storage location (called a **cache**) so that it can be accessed more quickly in the future.*\n"
      ],
      "metadata": {
        "id": "FaC0KaOBMtUD"
      }
    },
    {
      "cell_type": "code",
      "source": [
        "class URLShortener:\n",
        "  cache = {}\n",
        "\n",
        "  def __init__(self, long_url):\n",
        "    self.long_url = long_url\n",
        "    self.short_url = self._generate_short_url()\n",
        "    URLShortener.cache[self.short_url] = long_url\n",
        "\n",
        "  def _generate_short_url(self):\n",
        "    \"\"\"Generates a simple short URL.\"\"\"\n",
        "    return f\"short.ly/{hash(self.long_url) % 10000}\"\n",
        "\n",
        "  @classmethod\n",
        "  def get_long_url(cls, short_url):\n",
        "    \"\"\"Fetch the original URL from the cache.\"\"\"\n",
        "    return cls.cache.get(short_url, \"Not found\")\n",
        "\n",
        "  @classmethod\n",
        "  def cache_size(cls):\n",
        "    \"\"\"Returns the size of the cache.\"\"\"\n",
        "    return len(cls.cache)\n",
        "\n",
        "# Example Usage\n",
        "url1 = URLShortener(\"https://example.com/long-url\")\n",
        "url2 = URLShortener(\"https://anotherexample.com/very-long-url\")\n",
        "\n",
        "print(url1.short_url)\n",
        "print(URLShortener.get_long_url(url1.short_url))\n",
        "print(URLShortener.get_long_url(\"skdjksdjf\"))\n",
        "print(URLShortener.cache_size())"
      ],
      "metadata": {
        "colab": {
          "base_uri": "https://localhost:8080/"
        },
        "id": "ifh8WVE9MwJ4",
        "outputId": "09f5f9f2-87fa-4e68-92c4-f673030e2fe8"
      },
      "execution_count": 4,
      "outputs": [
        {
          "output_type": "stream",
          "name": "stdout",
          "text": [
            "short.ly/2466\n",
            "https://example.com/long-url\n",
            "Not found\n",
            "2\n"
          ]
        }
      ]
    },
    {
      "cell_type": "markdown",
      "source": [
        "### **Static Methods**\n",
        "\n",
        "Static methods are methods that don't operate on either the instance or the class. They are decorated with `@staticmethod` and don't receive any special first parameter.\n",
        "\n",
        "> 📒 **Note:** Static methods are like utility functions that don't require access to the class or instance.\n"
      ],
      "metadata": {
        "id": "9Uyx1Oj9vOq_"
      }
    },
    {
      "cell_type": "code",
      "source": [
        "class MathUtils:\n",
        "  @staticmethod\n",
        "  def add(x, y):\n",
        "    return x + y\n",
        "\n",
        "  @staticmethod\n",
        "  def subtract(x, y):\n",
        "    return x - y\n",
        "\n",
        "  @staticmethod\n",
        "  def multiply(x, y):\n",
        "    return x * y\n",
        "\n",
        "  @staticmethod\n",
        "  def divide(x, y):\n",
        "    if y == 0:\n",
        "      raise ValueError(\"Division by zero is not allowed.\")\n",
        "    return x / y\n",
        "\n",
        "  @staticmethod\n",
        "  def power(x, y):\n",
        "    return x ** y\n",
        "\n",
        "# Using static methods\n",
        "print(MathUtils.add(5, 3))\n",
        "print(MathUtils.power(10, 2))"
      ],
      "metadata": {
        "colab": {
          "base_uri": "https://localhost:8080/"
        },
        "id": "_sPFQGD-YT_-",
        "outputId": "45e7580c-538b-4297-805d-b9ba6dee58d9"
      },
      "execution_count": 5,
      "outputs": [
        {
          "output_type": "stream",
          "name": "stdout",
          "text": [
            "8\n",
            "100\n"
          ]
        }
      ]
    },
    {
      "cell_type": "code",
      "source": [
        "class Date:\n",
        "  @staticmethod\n",
        "  def is_valid_date(year: int, month: int, day: int) -> bool:\n",
        "    # Type validation\n",
        "    if not isinstance(year, int) or not isinstance(month, int) or not isinstance(day, int):\n",
        "      raise TypeError(\"All arguments must be integers\")\n",
        "\n",
        "    # Year validation\n",
        "    if year < 1:\n",
        "      return False\n",
        "\n",
        "    # Month validation\n",
        "    if month < 1 or month > 12:\n",
        "      return False\n",
        "\n",
        "    # Day validation\n",
        "    if day < 1 or day > 31:\n",
        "      return False\n",
        "    if month in [4, 6, 9, 11] and day > 30:\n",
        "      return False\n",
        "    if month == 2:\n",
        "      if Date.is_leap_year(year):\n",
        "        return day <= 29\n",
        "      else:\n",
        "        return day <= 28\n",
        "\n",
        "    return True\n",
        "\n",
        "  @staticmethod\n",
        "  def is_leap_year(year: int) -> bool:\n",
        "    # Type validation\n",
        "    if not isinstance(year, int):\n",
        "      raise TypeError(\"Year must be an integer\")\n",
        "\n",
        "    if year % 4 == 0:\n",
        "      if year % 100 == 0:\n",
        "        return year % 400 == 0\n",
        "      return True\n",
        "    return False\n",
        "\n",
        "# Using static methods\n",
        "print(Date.is_valid_date(2024, 1, 15))\n",
        "print(Date.is_leap_year(2024))\n",
        "print(Date.is_valid_date(-100, 1, 1))"
      ],
      "metadata": {
        "colab": {
          "base_uri": "https://localhost:8080/"
        },
        "id": "4-ulZqSmW3jB",
        "outputId": "ff7a4154-33a8-4230-c114-f21685cae350"
      },
      "execution_count": 6,
      "outputs": [
        {
          "output_type": "stream",
          "name": "stdout",
          "text": [
            "True\n",
            "True\n",
            "False\n"
          ]
        }
      ]
    },
    {
      "cell_type": "code",
      "source": [
        "class Temperature:\n",
        "  def __init__(self, *, celcius: float | None = None, fahrenheit: float | None = None, kelvin: float | None = None):\n",
        "    # Check if one and only one of the temperature units is provided\n",
        "    if not celcius and not fahrenheit and not kelvin:\n",
        "      raise ValueError(\"At least one temperature unit must be provided\")\n",
        "    elif bool(celcius) + bool(fahrenheit) + bool(kelvin) > 1:\n",
        "      raise ValueError(\"Only one temperature unit can be provided\")\n",
        "\n",
        "    if celcius:\n",
        "      self.celcius = celcius\n",
        "      self.fahrenheit = self.celcius_to_fahrenheit(celcius)\n",
        "      self.kelvin = self.celcius_to_kelvin(celcius)\n",
        "    if fahrenheit:\n",
        "      self.fahrenheit = fahrenheit\n",
        "      self.celcius = self.fahrenheit_to_celcius(fahrenheit)\n",
        "      self.kelvin = self.fahrenheit_to_kelvin(fahrenheit)\n",
        "    if kelvin:\n",
        "      self.kelvin = kelvin\n",
        "      self.celcius = self.kelvin_to_celcius(kelvin)\n",
        "      self.fahrenheit = self.kelvin_to_fahrenheit(kelvin)\n",
        "\n",
        "  @staticmethod\n",
        "  def celcius_to_fahrenheit(celcius: float) -> float:\n",
        "    return (celcius * 9/5) + 32\n",
        "\n",
        "  @staticmethod\n",
        "  def celcius_to_kelvin(celcius: float) -> float:\n",
        "    return celcius + 273.15\n",
        "\n",
        "  @staticmethod\n",
        "  def fahrenheit_to_celcius(fahrenheit) -> float:\n",
        "    return (fahrenheit - 32) * 5/9\n",
        "\n",
        "  @staticmethod\n",
        "  def fahrenheit_to_kelvin(fahrenheit: float) -> float:\n",
        "    return Temperature.celcius_to_kelvin(Temperature.fahrenheit_to_celcius(fahrenheit))\n",
        "\n",
        "  @staticmethod\n",
        "  def kelvin_to_celcius(kelvin: float) -> float:\n",
        "    return kelvin - 273.15\n",
        "\n",
        "  @staticmethod\n",
        "  def kelvin_to_fahrenheit(kelvin: float) -> float:\n",
        "    return Temperature.celcius_to_fahrenheit(Temperature.kelvin_to_celcius(kelvin))\n",
        "\n",
        "# Using static methods\n",
        "celcius = 25.0\n",
        "\n",
        "print(f\"Fahrenheit: {Temperature.celcius_to_fahrenheit(celcius)}\")\n",
        "print(f\"Kelvin: {Temperature.celcius_to_kelvin(celcius)}\")"
      ],
      "metadata": {
        "colab": {
          "base_uri": "https://localhost:8080/"
        },
        "id": "dn-fsVv6UfzR",
        "outputId": "f20bae3d-43da-4b8a-aef6-f62b6486b188"
      },
      "execution_count": 7,
      "outputs": [
        {
          "output_type": "stream",
          "name": "stdout",
          "text": [
            "Fahrenheit: 77.0\n",
            "Kelvin: 298.15\n"
          ]
        }
      ]
    },
    {
      "cell_type": "markdown",
      "source": [
        "## **Special Methods & Attributes**\n",
        "\n",
        "Python provides several special methods (also called **magic** methods or **dunder** methods) and attributes  that enable advanced functionality and customization for your classes. These methods start and end with ***double underscores*** (`__`) and are used internally by Python, but you can override them to define your class's behavior.\n"
      ],
      "metadata": {
        "id": "K3MSR-8x31WE"
      }
    },
    {
      "cell_type": "markdown",
      "source": [
        "### **Dunder Methods**\n"
      ],
      "metadata": {
        "id": "vg9-s_SgTqVs"
      }
    },
    {
      "cell_type": "markdown",
      "source": [
        "#### **Object Initialization and Destruction**\n",
        "\n",
        "**`__init__`**\n",
        "\n",
        "  - Used as the ***constructor*** of the class to initialize attributes.\n",
        "  - Called automatically when an object is created.\n",
        "\n",
        "**`__del__`**\n",
        "\n",
        "  - Used as the ***destructor*** of the class.\n",
        "  - Called when an object is about to be destroyed (rarely used).\n"
      ],
      "metadata": {
        "id": "GMP_yJmZDoWH"
      }
    },
    {
      "cell_type": "code",
      "source": [
        "class Creature:\n",
        "  def __init__(self, name: str):\n",
        "    self.name = name\n",
        "    print(f\"{self.name} has been created.\")\n",
        "\n",
        "  def __del__(self):\n",
        "    print(f\"{self.name} has been destroyed.\")\n",
        "\n",
        "# Example\n",
        "goblin = Creature(\"Goblin\")\n",
        "del goblin"
      ],
      "metadata": {
        "colab": {
          "base_uri": "https://localhost:8080/"
        },
        "id": "OxlgfqMeeaEx",
        "outputId": "16d246d3-2885-4cae-d309-4c3a0795a7d2"
      },
      "execution_count": 8,
      "outputs": [
        {
          "output_type": "stream",
          "name": "stdout",
          "text": [
            "Goblin has been created.\n",
            "Goblin has been destroyed.\n"
          ]
        }
      ]
    },
    {
      "cell_type": "markdown",
      "source": [
        "#### **Object Representation**\n",
        "\n",
        "**`__str__`**\n",
        "\n",
        "  - Defines the human-readable string representation of an object.\n",
        "  - Used by `str()` and `print()`.\n",
        "\n",
        "**`__repr__`**\n",
        "\n",
        "  - Defines the official string representation of an object.\n",
        "  - Used by `repr()` and in debugging.\n",
        "  - If `__str__` is not defined, `str()` and `print()` will use `__repr__` instead.\n"
      ],
      "metadata": {
        "id": "zf2SvfrGedH8"
      }
    },
    {
      "cell_type": "code",
      "source": [
        "class Person:\n",
        "  def __init__(self, name, age):\n",
        "    self.name = name\n",
        "    self.age = age\n",
        "\n",
        "  def __str__(self):\n",
        "    return f\"{self.name}, {self.age} years old\"\n",
        "\n",
        "  def __repr__(self):\n",
        "    return f\"Person(name={self.name!r}, age={self.age!r})\"\n",
        "\n",
        "# Classes without string representation\n",
        "print(Creature)\n",
        "print(str(Creature))\n",
        "print(\"--------\")\n",
        "\n",
        "# Classes with string representation\n",
        "person = Person(\"Jeffery\", 25)\n",
        "print(person)\n",
        "print(str(person))\n",
        "print(repr(person))"
      ],
      "metadata": {
        "colab": {
          "base_uri": "https://localhost:8080/"
        },
        "id": "uMlO1G57exYW",
        "outputId": "69ed05d3-9e83-4f90-9054-a6a93e6863c3"
      },
      "execution_count": 9,
      "outputs": [
        {
          "output_type": "stream",
          "name": "stdout",
          "text": [
            "<class '__main__.Creature'>\n",
            "<class '__main__.Creature'>\n",
            "--------\n",
            "Jeffery, 25 years old\n",
            "Jeffery, 25 years old\n",
            "Person(name='Jeffery', age=25)\n"
          ]
        }
      ]
    },
    {
      "cell_type": "markdown",
      "source": [
        "#### **Operator Overloading**\n",
        "\n",
        "##### **Arithmetic Operators**\n",
        "\n",
        "**`__add__`**, **`__sub__`**, **`__mul__`**, **`__truediv__`**, **`__floordiv__`**, **`__mod__`**, **`__pow__`**\n",
        "\n",
        "  - Define the behavior of arithmetic operators: `+`, `-`, `*`, `/`, `//`, `%`, `**`.\n",
        "\n",
        "##### **Comparison Operators**\n",
        "\n",
        "**`__eq__`**, **`__ne__`**, **`__lt__`**, **`__gt__`**, **`__le__`**, **`__ge__`**\n",
        "\n",
        "  - Define the behavior of comparison operators: `==`, `!=`, `<`, `>`, `<=`, `>=`.\n",
        "\n",
        "> ❗ When overloading operators, the dunder methods should only recieve `self` and `other` as the first two arguments.\n"
      ],
      "metadata": {
        "id": "5AHloqlJe4JC"
      }
    },
    {
      "cell_type": "code",
      "source": [
        "from typing import Union\n",
        "\n",
        "class MyString:\n",
        "  def __init__(self, value: str):\n",
        "    self.value = value\n",
        "\n",
        "  # Arithmetic Operators\n",
        "  def __add__(self, other: Union[\"MyString\", str]) -> \"MyString\":\n",
        "    if isinstance(other, MyString):\n",
        "      return MyString(self.value + other.value)\n",
        "    elif isinstance(other, str):\n",
        "      return MyString(self.value + other)\n",
        "    else:\n",
        "      raise TypeError\n",
        "\n",
        "  def __mul__(self, other: int) -> \"MyString\":\n",
        "    if isinstance(other, int):\n",
        "      return MyString(self.value * other)\n",
        "    else:\n",
        "      raise TypeError\n",
        "\n",
        "  # Comparison Operators\n",
        "  def __eq__(self, other: Union[\"MyString\", str]) -> bool:\n",
        "    if isinstance(other, MyString):\n",
        "      return self.value == other.value\n",
        "    elif isinstance(other, str):\n",
        "      return self.value == other\n",
        "\n",
        "  def __ne__(self, other: Union[\"MyString\", str]) -> bool:\n",
        "    if isinstance(other, MyString):\n",
        "      return self.value != other.value\n",
        "    elif isinstance(other, str):\n",
        "      return self.value != other\n",
        "\n",
        "  # Representation Methods\n",
        "  def __str__(self):\n",
        "    return self.value\n",
        "\n",
        "  def __repr__(self):\n",
        "    return f\"MyString('{self.value}')\"\n",
        "\n",
        "# Example\n",
        "s1 = MyString(\"Hello\")\n",
        "s2 = MyString(\"World\")\n",
        "\n",
        "print(s1 + \" \" + s2)\n",
        "print(s1 * 3)\n",
        "print(s1 == \"Good morning\")\n",
        "print(s1 != s2)"
      ],
      "metadata": {
        "colab": {
          "base_uri": "https://localhost:8080/"
        },
        "id": "pLbmlCuJpoJ9",
        "outputId": "6206c613-4f8e-4edc-9859-82310e9550ae"
      },
      "execution_count": 10,
      "outputs": [
        {
          "output_type": "stream",
          "name": "stdout",
          "text": [
            "Hello World\n",
            "HelloHelloHello\n",
            "False\n",
            "True\n"
          ]
        }
      ]
    },
    {
      "cell_type": "markdown",
      "source": [
        "#### **Container Behavior**\n",
        "\n",
        "**`__len__`**\n",
        "\n",
        "  - Defines the behavior of `len()`.\n",
        "\n",
        "**`__getitem__`**\n",
        "\n",
        "  - Defines behavior for indexing (e.g., `obj[key]`).\n",
        "\n",
        "**`__setitem__`**\n",
        "\n",
        "  - Defines behavior for assignment to indexed elements.\n",
        "\n",
        "**`__delitem__`**\n",
        "\n",
        "  - Defines behavior for deleting indexed elements.\n",
        "\n",
        "**`__iter__`**\n",
        "\n",
        "  - Makes an object iterable (used in loops).\n",
        "\n",
        "**`__contains__`**\n",
        "\n",
        "  - Defines the behavior of the `in` operator.\n"
      ],
      "metadata": {
        "id": "o9pIGxbzf5PZ"
      }
    },
    {
      "cell_type": "code",
      "source": [
        "from typing import Any\n",
        "\n",
        "class MyList:\n",
        "  def __init__(self, *items: Any):\n",
        "    self._length = 0\n",
        "\n",
        "    # Dynamically setting attributes base on the number of arguements passed in when initialized\n",
        "    for i, item in enumerate(items):\n",
        "      setattr(self, f\"{i}\", item)\n",
        "      self._length += 1\n",
        "\n",
        "  def __len__(self):\n",
        "    return self._length\n",
        "\n",
        "  def __iter__(self):\n",
        "    for i in range(self._length):\n",
        "      yield getattr(self, f\"{i}\")\n",
        "\n",
        "  def __contains__(self, item: Any):\n",
        "    for i in range(self._length):\n",
        "      if getattr(self, f\"{i}\") == item:\n",
        "        return True\n",
        "    return False\n",
        "\n",
        "  def __str__(self):\n",
        "    return f\"{[getattr(self, f'{i}') for i in range(self._length)]}\"\n",
        "\n",
        "  def __getitem__(self, index: int):\n",
        "    if not isinstance(index, int):\n",
        "      raise TypeError(\"Index must be an integer\")\n",
        "    if index < 0 - self._length or index >= self._length:\n",
        "      raise IndexError(\"Index out of range\")\n",
        "\n",
        "    # Convert negative index to positive\n",
        "    if index < 0:\n",
        "      index = self._length + index\n",
        "\n",
        "    # Dynamically getting attributes\n",
        "    for i in range(self._length):\n",
        "      if i == index:\n",
        "        return getattr(self, f\"{i}\")\n",
        "\n",
        "  def __setitem__(self, index: int, value: Any):\n",
        "    if not isinstance(index, int):\n",
        "      raise TypeError(\"Index must be an integer\")\n",
        "    if index < 0 - self._length or index >= self._length:\n",
        "      raise IndexError(\"Index out of range\")\n",
        "\n",
        "    # Convert negative index to positive\n",
        "    if index < 0:\n",
        "      index = self._length + index\n",
        "\n",
        "    # Dynamically setting attributes\n",
        "    for i in range(self._length):\n",
        "      if i == index:\n",
        "        setattr(self, f\"{i}\", value)\n",
        "        break\n",
        "\n",
        "  def __delitem__(self, index: int):\n",
        "    if not isinstance(index, int):\n",
        "      raise TypeError(\"Index must be an integer\")\n",
        "    if index < 0 - self._length or index >= self._length:\n",
        "      raise IndexError(\"Index out of range\")\n",
        "\n",
        "    # Convert negative index to positive\n",
        "    if index < 0:\n",
        "      index = self._length + index\n",
        "\n",
        "    # Dynamically deleting attributes and adjust the rest of the attributes and length of object\n",
        "    for i in range(self._length):\n",
        "      if i == index:\n",
        "        delattr(self, f\"{i}\")\n",
        "      if i > index:\n",
        "        setattr(self, f\"{i - 1}\", getattr(self, f\"{i}\"))\n",
        "        delattr(self, f\"{i}\")\n",
        "    self._length -= 1\n",
        "\n",
        "# Example\n",
        "lst = MyList(1, 2, 3, 4, 5)\n",
        "\n",
        "print(lst)\n",
        "print(2 in lst)\n",
        "print(20 in lst)\n",
        "print(\"---------\")\n",
        "\n",
        "print(f\"Index 0: {lst[0]}\")\n",
        "lst[0] = 10\n",
        "print(f\"New Index 0: {lst[0]}\")\n",
        "print(\"---------\")\n",
        "\n",
        "print(f\"Length: {len(lst)}\")\n",
        "del lst[-2]\n",
        "print(f\"Length After Removing 1 Item: {len(lst)}\")\n",
        "print(\"---------\")\n",
        "\n",
        "for item in lst:\n",
        "  print(item)"
      ],
      "metadata": {
        "colab": {
          "base_uri": "https://localhost:8080/"
        },
        "id": "GyI3Isogw9ly",
        "outputId": "f562c798-c182-4332-dc03-2a72041f1b50"
      },
      "execution_count": 11,
      "outputs": [
        {
          "output_type": "stream",
          "name": "stdout",
          "text": [
            "[1, 2, 3, 4, 5]\n",
            "True\n",
            "False\n",
            "---------\n",
            "Index 0: 1\n",
            "New Index 0: 10\n",
            "---------\n",
            "Length: 5\n",
            "Length After Removing 1 Item: 4\n",
            "---------\n",
            "10\n",
            "2\n",
            "3\n",
            "5\n"
          ]
        }
      ]
    },
    {
      "cell_type": "markdown",
      "source": [
        "> 📒 **Note:** `setattr`, `getattr`, and `delattr` are built-in functions that provide dynamic access to an object's attributes.\n"
      ],
      "metadata": {
        "id": "FrbXHSTq7-c_"
      }
    },
    {
      "cell_type": "markdown",
      "source": [
        "#### **Context Manager**\n",
        "\n",
        "**`__enter__`**\n",
        "\n",
        "  - Executes when entering the `with` block.\n",
        "  - Performs any necessary setup or initialization.\n",
        "  - Returns the object to be used within the `with` block.\n",
        "    - Often returns `self` to provide access to the instance.\n",
        "\n",
        "**`__exit__`**\n",
        "\n",
        "  - Executes when exiting the `with` block (whether normally or due to an exception).\n",
        "  - Handles cleanup and resource release.\n",
        "  - Receives exception information if one occurred:\n",
        "    - `exc_type`: Type of exception (e.g., `ValueError`, `TypeError`). `None` if no exception occurred.\n",
        "    - `exc_val`: The exception instance with error details. `None` if no exception occurred.\n",
        "    - `exc_tb`: Traceback object containing the call stack. `None` if no exception occurred.\n",
        "  - Return value controls exception propagation:\n",
        "    - `True`: Suppresses the exception.\n",
        "    - `False` or None: Allows the exception to propagate.\n"
      ],
      "metadata": {
        "id": "6TVt4uqugN6Z"
      }
    },
    {
      "cell_type": "code",
      "source": [
        "import time\n",
        "\n",
        "class Timer:\n",
        "  def __enter__(self):\n",
        "    self.start = time.perf_counter()\n",
        "    return self\n",
        "\n",
        "  def __exit__(self, exc_type, exc_val, exc_tb):\n",
        "    self.end = time.perf_counter()\n",
        "    self.duration = self.end - self.start\n",
        "    print(f\"Execution time: {self.duration:.4f} seconds\")\n",
        "\n",
        "# Example\n",
        "with Timer():\n",
        "    sum(range(1000000))"
      ],
      "metadata": {
        "colab": {
          "base_uri": "https://localhost:8080/"
        },
        "id": "rmzcyRVhgbx5",
        "outputId": "7488d179-9191-4388-e241-3ffebcd04cab"
      },
      "execution_count": 12,
      "outputs": [
        {
          "output_type": "stream",
          "name": "stdout",
          "text": [
            "Execution time: 0.0217 seconds\n"
          ]
        }
      ]
    },
    {
      "cell_type": "markdown",
      "source": [
        "### **Special Attributes**\n",
        "\n",
        "**`__dict__`**\n",
        "\n",
        "A special attribute that stores the object's writable attributes as key-value pairs in a dictionary.\n",
        "\n",
        "**`__class__`**\n",
        "\n",
        "A special attribute that holds a reference to the class of the object.\n",
        "\n",
        "**`__doc__`**\n",
        "\n",
        "A special attribute that contains the docstring of the class, method, or function.\n"
      ],
      "metadata": {
        "id": "FqSGZ48CVDXN"
      }
    },
    {
      "cell_type": "code",
      "source": [
        "class MyClass:\n",
        "  \"\"\"😀 This is a simple class with a docstring.\"\"\"\n",
        "\n",
        "  cls_attr = 100\n",
        "\n",
        "  def __init__(self, value):\n",
        "    self.value = value\n",
        "\n",
        "  def my_method(self):\n",
        "    \"\"\"🐍 This is a method with a docstring.\"\"\"\n",
        "    pass\n",
        "\n",
        "obj = MyClass(42)\n",
        "\n",
        "print(obj.__dict__)\n",
        "print(MyClass.__dict__)\n",
        "print(obj.__class__)\n",
        "print(obj.__doc__)\n",
        "print(obj.my_method.__doc__)"
      ],
      "metadata": {
        "colab": {
          "base_uri": "https://localhost:8080/"
        },
        "id": "kjCpqHtMVkcF",
        "outputId": "4902c29e-fc0f-4013-b4c8-5b73478864c3"
      },
      "execution_count": 13,
      "outputs": [
        {
          "output_type": "stream",
          "name": "stdout",
          "text": [
            "{'value': 42}\n",
            "{'__module__': '__main__', '__doc__': '😀 This is a simple class with a docstring.', 'cls_attr': 100, '__init__': <function MyClass.__init__ at 0x7f5730257380>, 'my_method': <function MyClass.my_method at 0x7f5730257240>, '__dict__': <attribute '__dict__' of 'MyClass' objects>, '__weakref__': <attribute '__weakref__' of 'MyClass' objects>}\n",
            "<class '__main__.MyClass'>\n",
            "😀 This is a simple class with a docstring.\n",
            "🐍 This is a method with a docstring.\n"
          ]
        }
      ]
    },
    {
      "cell_type": "markdown",
      "source": [
        "There are many more dunder methods and special attributes beyond those covered here, each serving specific purposes to customize and extend the behavior of objects in Python. Understanding and using these methods effectively can help you write cleaner, more Pythonic code.\n"
      ],
      "metadata": {
        "id": "58qYOQxRVERg"
      }
    },
    {
      "cell_type": "markdown",
      "source": [
        "### **More Examples (Additional Material)**\n"
      ],
      "metadata": {
        "id": "43wUuAfKT_w-"
      }
    },
    {
      "cell_type": "markdown",
      "source": [
        "**Circle**\n"
      ],
      "metadata": {
        "id": "e7puw5dWUnLB"
      }
    },
    {
      "cell_type": "code",
      "source": [
        "class Circle:\n",
        "  def __init__(self, radius: float):\n",
        "    self.radius = radius\n",
        "\n",
        "  @property\n",
        "  def area(self):\n",
        "    return 3.14 * (self.radius ** 2)\n",
        "\n",
        "  # Comparison Operators\n",
        "  def __eq__(self, other: \"Circle\"):\n",
        "    if not isinstance(other, Circle):\n",
        "      return False\n",
        "    return self.area == other.area\n",
        "\n",
        "  def __ne__(self, other: \"Circle\"):\n",
        "    if not isinstance(other, Circle):\n",
        "      return False\n",
        "    return self.area != other.area\n",
        "\n",
        "  def __lt__(self, other: \"Circle\"):\n",
        "    if not isinstance(other, Circle):\n",
        "      return False\n",
        "    return self.area < other.area\n",
        "\n",
        "  def __le__(self, other: \"Circle\"):\n",
        "    if not isinstance(other, Circle):\n",
        "      return False\n",
        "    return self.area <= other.area\n",
        "\n",
        "  def __gt__(self, other: \"Circle\"):\n",
        "    if not isinstance(other, Circle):\n",
        "      return False\n",
        "    return self.area > other.area\n",
        "\n",
        "  def __ge__(self, other: \"Circle\"):\n",
        "    if not isinstance(other, Circle):\n",
        "      return False\n",
        "    return self.area >= other.area\n",
        "\n",
        "# Example\n",
        "small_circle = Circle(10)\n",
        "big_circle = Circle(20)\n",
        "\n",
        "print(small_circle == big_circle)\n",
        "print(small_circle != big_circle)\n",
        "print(small_circle < big_circle)"
      ],
      "metadata": {
        "colab": {
          "base_uri": "https://localhost:8080/"
        },
        "id": "4OPzsYE1n5SE",
        "outputId": "75fb8d2f-3991-46c8-f504-c1e5e106b6dc"
      },
      "execution_count": 14,
      "outputs": [
        {
          "output_type": "stream",
          "name": "stdout",
          "text": [
            "False\n",
            "True\n",
            "True\n"
          ]
        }
      ]
    },
    {
      "cell_type": "markdown",
      "source": [
        "**Game Level**\n"
      ],
      "metadata": {
        "id": "fGBLuTQAM1uL"
      }
    },
    {
      "cell_type": "code",
      "source": [
        "import random\n",
        "\n",
        "class LevelConfig:\n",
        "  def __init__(self, level_name: str):\n",
        "    self.level_name = level_name\n",
        "    self.objects = [\"💰 treasure chest\", \"🍾 health potion\", \"🪖 armor\", \"☠️ poison trap\"]\n",
        "    self.monsters = [\"👺 goblin\", \"🧌 orc\", \"🐉 dragon\"]\n",
        "\n",
        "class LevelLayout:\n",
        "  def __init__(self, config: LevelConfig):\n",
        "    self.config = config\n",
        "    self.layout = []\n",
        "    self.size = 5  # 5x5 grid\n",
        "    self.cell_width = 0\n",
        "    for item in self.config.objects + self.config.monsters:\n",
        "      self.cell_width = max(self.cell_width, len(item))\n",
        "    self.initialize_empty_layout()\n",
        "\n",
        "  def initialize_empty_layout(self):\n",
        "    self.layout = [[\"empty\" for _ in range(self.size)] for _ in range(self.size)]\n",
        "\n",
        "  def randomize(self):\n",
        "    self.initialize_empty_layout()\n",
        "    # Place random objects\n",
        "    for obj in self.config.objects:\n",
        "      x, y = random.randint(0, self.size-1), random.randint(0, self.size-1)\n",
        "      while self.layout[y][x] != \"empty\":\n",
        "        x, y = random.randint(0, self.size-1), random.randint(0, self.size-1)\n",
        "      self.layout[y][x] = obj\n",
        "\n",
        "    # Place random monsters\n",
        "    for monster in self.config.monsters:\n",
        "      x, y = random.randint(0, self.size-1), random.randint(0, self.size-1)\n",
        "      while self.layout[y][x] != \"empty\":\n",
        "        x, y = random.randint(0, self.size-1), random.randint(0, self.size-1)\n",
        "      self.layout[y][x] = monster\n",
        "\n",
        "class GameLevel:\n",
        "  def __init__(self, level_name: str):\n",
        "    self.level_name = level_name\n",
        "    self.config = None\n",
        "    self.level_layout = None\n",
        "\n",
        "  def __enter__(self):\n",
        "    print(f\"Initializing level: {self.level_name}\")\n",
        "    self.config = LevelConfig(self.level_name)\n",
        "    self.level_layout = LevelLayout(self.config)\n",
        "    self.level_layout.randomize()\n",
        "    return self\n",
        "\n",
        "  def __exit__(self, exc_type, exc_val, exc_tb):\n",
        "    print(f\"Cleaning up level: {self.level_name}\")\n",
        "    self.config = None\n",
        "    self.level_layout = None\n",
        "    if exc_type is not None:\n",
        "      print(f\"An error occurred: {exc_val}\")\n",
        "      return True\n",
        "\n",
        "  def display_layout(self):\n",
        "    if self.level_layout is None:\n",
        "      raise ValueError(\"Level layout has not been initialized\")\n",
        "\n",
        "    total_width = (self.level_layout.cell_width * self.level_layout.size) + (self.level_layout.size - 1)\n",
        "    print((\"+\" + \"-\" * self.level_layout.cell_width) * self.level_layout.size + \"+\")\n",
        "\n",
        "    for row in self.level_layout.layout:\n",
        "      formatted_row = \"|\" + \"|\".join(f\"{cell:^{self.level_layout.cell_width}}\" for cell in row) + \"|\"\n",
        "      print(formatted_row)\n",
        "      print((\"+\" + \"-\" * self.level_layout.cell_width) * self.level_layout.size + \"+\")"
      ],
      "metadata": {
        "id": "YCyVRyj-B4jX"
      },
      "execution_count": 15,
      "outputs": []
    },
    {
      "cell_type": "code",
      "source": [
        "with GameLevel(\"Dungeon\") as game:\n",
        "  print(f\"Level Name: {game.level_name}\")\n",
        "  print(f\"Level Config: {game.config.__dict__}\")\n",
        "  print()\n",
        "  game.display_layout()"
      ],
      "metadata": {
        "colab": {
          "base_uri": "https://localhost:8080/"
        },
        "id": "RgrekLHsM7wc",
        "outputId": "03f4c6ea-2dbc-4df1-cd28-86be0b3bf43a"
      },
      "execution_count": 16,
      "outputs": [
        {
          "output_type": "stream",
          "name": "stdout",
          "text": [
            "Initializing level: Dungeon\n",
            "Level Name: Dungeon\n",
            "Level Config: {'level_name': 'Dungeon', 'objects': ['💰 treasure chest', '🍾 health potion', '🪖 armor', '☠️ poison trap'], 'monsters': ['👺 goblin', '🧌 orc', '🐉 dragon']}\n",
            "\n",
            "+----------------+----------------+----------------+----------------+----------------+\n",
            "|     🧌 orc      |    👺 goblin    |     empty      |    🪖 armor     |     empty      |\n",
            "+----------------+----------------+----------------+----------------+----------------+\n",
            "|     empty      |     empty      |     empty      |     empty      |     empty      |\n",
            "+----------------+----------------+----------------+----------------+----------------+\n",
            "|     empty      |     empty      |     empty      |     empty      |     empty      |\n",
            "+----------------+----------------+----------------+----------------+----------------+\n",
            "|     empty      |     empty      |     empty      | ☠️ poison trap |     empty      |\n",
            "+----------------+----------------+----------------+----------------+----------------+\n",
            "|💰 treasure chest|     empty      |🍾 health potion |    🐉 dragon    |     empty      |\n",
            "+----------------+----------------+----------------+----------------+----------------+\n",
            "Cleaning up level: Dungeon\n"
          ]
        }
      ]
    },
    {
      "cell_type": "markdown",
      "source": [
        "## **Object-Oriented Programming Relationships**\n",
        "\n",
        "There are different ways objects or classes can interact with each other in object-oriented programming. These interactions define how data and\n",
        "behaviors are shared among classes. The primary types of relationships include Inheritance, Composition, Aggregation, and Association.\n"
      ],
      "metadata": {
        "id": "4AzmBqOAF8lm"
      }
    },
    {
      "cell_type": "markdown",
      "source": [
        "### **Inheritance**\n",
        "\n",
        "Inheritance is a fundamental concept in OOP that allows a class (called the ***child***, ***subclass***, or ***derived class***) to inherit attributes and methods from another class (called the ***parent***, ***superclass***, or ***base class***).This promotes code reusability and establishes an **\"is-a\"** relationship between classes.\n",
        "\n",
        "<br>\n",
        "\n",
        "**Key Features of Inheritance:**\n",
        "\n",
        "- **Code Reusability:** Allows subclasses to reuse attibutes and methods defined in the superclass.\n",
        "- **Overriding Methods:** Subclasses can override or extend methods from their parent classes.\n",
        "- **Polymorphism:** Enables objects of different but related types (e.g., derived and base classes) to be treated as objects of a common\n",
        "superclass.\n",
        "\n",
        "<br>\n",
        "\n",
        "**Syntax**\n",
        "\n",
        "To inherit from another class, put the parent class in parenthesis after the name of the child class.\n",
        "\n",
        "> 📒 **Note**: The `super()` funciton is used to call functions defined in the parent class.\n"
      ],
      "metadata": {
        "id": "qPlMEcmqYAII"
      }
    },
    {
      "cell_type": "code",
      "source": [
        "class ParentClass:\n",
        "  def __init__(self, attribute):\n",
        "    self.attribute = attribute\n",
        "\n",
        "  def parent_method(self):\n",
        "    print(\"Method in the parent class.\")\n",
        "\n",
        "\n",
        "# Inheritance\n",
        "class ChildClass(ParentClass):\n",
        "  # Extending functionality beyond the parent class\n",
        "  def child_method(self):\n",
        "    print(\"Method specific to the child class.\")\n",
        "\n",
        "  # Overriding methods\n",
        "  def parent_method(self):\n",
        "    print(\"Override the inherited method inside child class...\")\n",
        "    super().parent_method()  # Call the parent method\n",
        "\n",
        "\n",
        "# Example\n",
        "parent = ParentClass(\"Parent Attribute\")\n",
        "parent.parent_method()\n",
        "print(\"==========\")\n",
        "\n",
        "child = ChildClass(\"Child Attribute\")\n",
        "child.child_method()\n",
        "child.parent_method()"
      ],
      "metadata": {
        "id": "E1co0pBTZZcK",
        "colab": {
          "base_uri": "https://localhost:8080/"
        },
        "outputId": "b1b6a6de-a113-44b4-d30c-03f4f9e5d939"
      },
      "execution_count": 17,
      "outputs": [
        {
          "output_type": "stream",
          "name": "stdout",
          "text": [
            "Method in the parent class.\n",
            "==========\n",
            "Method specific to the child class.\n",
            "Override the inherited method inside child class...\n",
            "Method in the parent class.\n"
          ]
        }
      ]
    },
    {
      "cell_type": "markdown",
      "source": [
        "**Types of Inheritance:**\n",
        "\n",
        "1. **Single Inheritance:** A subclass inherits from one parent class.\n",
        "2. **Multiple Inheritance:** A subclass inherits from more than one parent class.\n",
        "3. **Multilevel Inheritance:** When a derived class becomes a base class for other classes.\n",
        "4. **Hierarchical Inheritance:** Multiple subclasses inherit from a single superclass.\n",
        "\n",
        "<br>\n",
        "\n",
        "<figure align=\"center\">\n",
        "  <img src=\"https://github.com/kchenTTP/python-series/blob/main/object_oriented_programming_in_python/assets/oop-inheritance.png?raw=true\" alt=\"oop-inheritance.png\" />\n",
        "  <figcaption>Object-Orient Programming Inheritance</figcaption>\n",
        "</figure>\n"
      ],
      "metadata": {
        "id": "ZERmvTwiyIKO"
      }
    },
    {
      "cell_type": "code",
      "source": [
        "# Multilevel inheritance\n",
        "class GrandchildClass(ChildClass):\n",
        "  def grandchild_method(self):\n",
        "    print(\"Method specific to the grandchild class.\")\n",
        "\n",
        "\n",
        "grand_child = GrandchildClass(\"Grandchild Attribute\")\n",
        "grand_child.grandchild_method()\n",
        "grand_child.child_method()\n",
        "grand_child.parent_method()"
      ],
      "metadata": {
        "colab": {
          "base_uri": "https://localhost:8080/"
        },
        "id": "dFFeHHczyWE_",
        "outputId": "2f398187-2649-4c77-e438-e347a7206459"
      },
      "execution_count": 18,
      "outputs": [
        {
          "output_type": "stream",
          "name": "stdout",
          "text": [
            "Method specific to the grandchild class.\n",
            "Method specific to the child class.\n",
            "Override the inherited method inside child class...\n",
            "Method in the parent class.\n"
          ]
        }
      ]
    },
    {
      "cell_type": "code",
      "source": [
        "# Polymorphism: derived classes are treated as objects of a common superclass\n",
        "print(isinstance(child, ParentClass))\n",
        "print(isinstance(grand_child, ChildClass))\n",
        "print(isinstance(grand_child, ParentClass))\n",
        "print(isinstance(child, GrandchildClass))"
      ],
      "metadata": {
        "colab": {
          "base_uri": "https://localhost:8080/"
        },
        "id": "qC7y2lejfi3a",
        "outputId": "d681a7d2-6f60-4a8d-a9f7-723c4027e5cf"
      },
      "execution_count": 19,
      "outputs": [
        {
          "output_type": "stream",
          "name": "stdout",
          "text": [
            "True\n",
            "True\n",
            "True\n",
            "False\n"
          ]
        }
      ]
    },
    {
      "cell_type": "markdown",
      "source": [
        "#### **Multiple Inheritance Example: Secure Web Page**\n"
      ],
      "metadata": {
        "id": "sbuB3XmojIOA"
      }
    },
    {
      "cell_type": "code",
      "source": [
        "class Authentication:\n",
        "  def __init__(self):\n",
        "    self.authenticated_users = set()\n",
        "\n",
        "  def authenticate(self, user_id):\n",
        "    print(f\"Authenticating user {user_id}.\")\n",
        "    self.authenticated_users.add(user_id)\n",
        "\n",
        "  def is_authenticated(self, user_id):\n",
        "    return user_id in self.authenticated_users\n",
        "\n",
        "class Logging:\n",
        "  def __init__(self):\n",
        "    pass\n",
        "\n",
        "  def log(self, message):\n",
        "    print(f\"LOG: {message}\")\n",
        "\n",
        "class DatabaseOperations:\n",
        "  def __init__(self, db_connection_string):\n",
        "    self.db_connection_string = db_connection_string\n",
        "\n",
        "  def query_database(self, query):\n",
        "    print(f\"Executing database query: {query}\")\n",
        "    # Simulate a database operation\n",
        "    return f\"Results for '{query}'\"\n",
        "\n",
        "\n",
        "# Using multiple inheritance to build a complex WebComponent\n",
        "class WebPage(Authentication, Logging, DatabaseOperations):\n",
        "  def __init__(self, db_connection_string):\n",
        "    Authentication.__init__(self)\n",
        "    Logging.__init__(self)\n",
        "    DatabaseOperations.__init__(self, db_connection_string)\n",
        "\n",
        "  def display_page(self, user_id, query):\n",
        "    # Check authentication\n",
        "    if not self.is_authenticated(user_id):\n",
        "      self.log(f\"User {user_id} is not authenticated.\")\n",
        "      return \"Access Denied\"\n",
        "\n",
        "    # Log the access attempt\n",
        "    self.log(f\"User {user_id} accessed the page with query: '{query}'\")\n",
        "\n",
        "    # Execute a database query related to the request\n",
        "    results = self.query_database(query)\n",
        "\n",
        "    return f\"Page content for user {user_id}: {results}\"\n",
        "\n",
        "\n",
        "# Example\n",
        "db_connection_string = \"Server=myServerAddress;Database=myDataBase;User Id=myUsername;Password=myPassword;\"\n",
        "web_page = WebPage(db_connection_string)\n",
        "\n",
        "user_id = 12345\n",
        "query = \"SELECT * FROM users WHERE id=12345\"\n",
        "\n",
        "print(web_page.display_page(user_id, query))\n",
        "\n",
        "# Authenticate the user and try again\n",
        "web_page.authenticate(user_id)\n",
        "print(web_page.display_page(user_id, query))"
      ],
      "metadata": {
        "colab": {
          "base_uri": "https://localhost:8080/"
        },
        "id": "XOzb9RBKcRHa",
        "outputId": "f04c450e-83e8-4968-e2dc-05341cd84316"
      },
      "execution_count": 20,
      "outputs": [
        {
          "output_type": "stream",
          "name": "stdout",
          "text": [
            "LOG: User 12345 is not authenticated.\n",
            "Access Denied\n",
            "Authenticating user 12345.\n",
            "LOG: User 12345 accessed the page with query: 'SELECT * FROM users WHERE id=12345'\n",
            "Executing database query: SELECT * FROM users WHERE id=12345\n",
            "Page content for user 12345: Results for 'SELECT * FROM users WHERE id=12345'\n"
          ]
        }
      ]
    },
    {
      "cell_type": "markdown",
      "source": [
        "#### **Considerations When Using Inheritance**\n",
        "\n",
        "While inheritance can be a powerful tool in certain scenarios (e.g., when there is a clear **\"is-a\"** relationship), it can be risky to abstract classes using inheritance due to several reasons:\n",
        "\n",
        "<br>\n",
        "\n",
        "**Complexity**\n",
        "\n",
        "  - Multiple inheritance introduces additional complexity, making it harder to understand and maintain the code.\n",
        "\n",
        "**Tight Coupling**\n",
        "\n",
        "  - Classes can become tightly coupled to their parent classes, making them harder to modify or extend independently.\n",
        "\n",
        "**Reduced Flexibility**\n",
        "\n",
        "  - Inheritance enforces a rigid class hierarchy that can be difficult to change, often leading to maintenance challenges or major rewrites.\n",
        "\n",
        "**Maintenance Challenges**\n",
        "\n",
        "  - Deep and complex inheritance hierarchies make the code harder to maintain, understand, and debug.\n",
        "  - While inheritance allows for behavior reuse, it can also introduce dependencies that complicate future modifications.\n",
        "\n",
        "<br>\n",
        "\n",
        "**Composition**, on the other hand, provides greater flexibility and maintainability by focusing on what objects *do* rather than what they *are*. This approach leads to systems that are easier to understand, test, and extend (which we'll explore next).\n"
      ],
      "metadata": {
        "id": "6FOL0DhjXrSl"
      }
    },
    {
      "cell_type": "markdown",
      "source": [
        "### **Composition**\n",
        "\n",
        "Composition represents a **\"part-of\"** relationship, where a class contains one or more objects of another class as members to build functionality. The child (component) classes cannot exist independently outside of the parent (composite) class - their lifecycle is tightly coupled with the parent.\n",
        "\n",
        "<br>\n",
        "\n",
        "<figure align=\"center\">\n",
        "  <img src=\"https://github.com/kchenTTP/python-series/blob/main/object_oriented_programming_in_python/assets/oop-composition-vs-aggregation.png?raw=true\" alt=\"oop-composition-vs-aggregation.png\" />\n",
        "  <figcaption>Composition vs Aggregation</figcaption>\n",
        "</figure>\n",
        "\n",
        "<br>\n",
        "\n",
        "**Benefits of Composition:**\n",
        "\n",
        "- **Flexibility**\n",
        "\n",
        "  - Objects can be built from smaller, reusable components, making it easier to modify and extend behaviors.\n",
        "  - Components can be mixed and matched to create different variations of objects and new functionality can be added by introducing new components without modifying existing code.\n",
        "\n",
        "- **Looser Coupling Than Inheritance**\n",
        "\n",
        "  - Components interact through well-defined interfaces, reducing dependencies.\n",
        "  - Changes to one component's implementation don't affect others as long as the interface remains stable.\n",
        "\n",
        "- **Enhanced Modularity**\n",
        "\n",
        "  - Individual components can be developed, tested, and maintained independently without affecting the rest of the system.\n",
        "\n",
        "- **Clear Responsibilities**\n",
        "\n",
        "  - Each component has a distinct, well-defined role within the system.\n",
        "  - Makes the code more organized and easier to reason about.\n"
      ],
      "metadata": {
        "id": "ueSxzCZ_ZbaS"
      }
    },
    {
      "cell_type": "markdown",
      "source": [
        "#### **Composition Example: Music Album & Album Tracks**\n"
      ],
      "metadata": {
        "id": "5ECcE1se1Pj6"
      }
    },
    {
      "cell_type": "code",
      "source": [
        "class Track:\n",
        "  def __init__(self, title: str, duration: float):\n",
        "    self.title = title\n",
        "    self.duration = duration\n",
        "    self.track_number: int | None = None\n",
        "\n",
        "class AlbumMetadata:\n",
        "  def __init__(self, release_date: str, genre: str, label: str):\n",
        "    self.release_date = release_date\n",
        "    self.genre = genre\n",
        "    self.label = label\n",
        "\n",
        "class MusicAlbum:\n",
        "  def __init__(self, title: str, artist: str, release_date: str, genre: str, label: str):\n",
        "    self.title = title\n",
        "    self.artist = artist\n",
        "\n",
        "    # Tracks and metadata are composed into the album\n",
        "    self.metadata = AlbumMetadata(release_date, genre, label)\n",
        "    self.tracks = []\n",
        "    self._total_duration = 0\n",
        "\n",
        "  def add_track(self, title: str, duration: float):\n",
        "    track = Track(title, duration)\n",
        "    track.track_number = len(self.tracks) + 1\n",
        "    self.tracks.append(track)\n",
        "    self._total_duration += duration\n",
        "\n",
        "  def get_total_duration(self):\n",
        "    return self._total_duration\n",
        "\n",
        "  def get_track_listing(self):\n",
        "    return [(track.track_number, track.title, track.duration) for track in self.tracks]\n",
        "\n",
        "# The Tracks and AlbumMetadata only exist as part of the Album\n",
        "album = MusicAlbum(\n",
        "    \"The Dark Side of the Moon\",\n",
        "    \"Pink Floyd\",\n",
        "    \"1973-03-01\",\n",
        "    \"Progressive Rock\",\n",
        "    \"Harvest\"\n",
        ")\n",
        "\n",
        "album.add_track(\"Speak to Me\", 90.0)\n",
        "album.add_track(\"Breathe\", 163.0)\n",
        "album.add_track(\"Time\", 421.5)\n",
        "\n",
        "# Tracks are integral parts of the album and cannot exist independently\n",
        "track_listing = album.get_track_listing()\n",
        "print(track_listing)\n",
        "\n",
        "total_duration = album.get_total_duration()\n",
        "print(f\"Total Duration: {total_duration} seconds\")"
      ],
      "metadata": {
        "id": "DbqH5hwBZbxB",
        "colab": {
          "base_uri": "https://localhost:8080/"
        },
        "outputId": "beecc992-e5c5-479c-8138-bb9aed2d2226"
      },
      "execution_count": 21,
      "outputs": [
        {
          "output_type": "stream",
          "name": "stdout",
          "text": [
            "[(1, 'Speak to Me', 90.0), (2, 'Breathe', 163.0), (3, 'Time', 421.5)]\n",
            "Total Duration: 674.5 seconds\n"
          ]
        }
      ]
    },
    {
      "cell_type": "markdown",
      "source": [
        "### **Aggregation**\n",
        "\n",
        "Aggregation represents a **\"has-a\"** relationship where one class contains references to objects of another class, but with looser coupling than composition. The child objects can exist independently and their lifecycle isn't controlled by the parent - they can be shared, transferred, or exist without a parent.\n",
        "\n",
        "<br>\n",
        "\n",
        "**Benefits of Aggregation:**\n",
        "\n",
        "- **Flexible Object Relationships**\n",
        "\n",
        "  - Objects can be transferred between containers\n",
        "  - The same object can belong to multiple containers simultaneously\n",
        "\n",
        "- **Reduced Dependencies**\n",
        "\n",
        "  - Container and component classes remain loosely coupled\n",
        "  - Changes to one class have minimal impact on the other\n",
        "  - Components can be developed and tested in isolation\n",
        "\n",
        "- **Resource Sharing**\n",
        "\n",
        "  - Multiple containers can share the same components\n",
        "  - Prevents unnecessary duplication of objects\n",
        "  - More efficient memory usage in large systems\n"
      ],
      "metadata": {
        "id": "iJOhb0ZpVUfy"
      }
    },
    {
      "cell_type": "markdown",
      "source": [
        "#### **Aggregation Example: Library & Book**\n"
      ],
      "metadata": {
        "id": "c_kBdrQp1a7n"
      }
    },
    {
      "cell_type": "code",
      "source": [
        "class Book:\n",
        "  def __init__(self, title, author, isbn):\n",
        "    self.title = title\n",
        "    self.author = author\n",
        "    self.isbn = isbn\n",
        "    self.checked_out = False\n",
        "\n",
        "  def check_out(self):\n",
        "    if not self.checked_out:\n",
        "      self.checked_out = True\n",
        "      return True\n",
        "    return False\n",
        "\n",
        "  def return_book(self):\n",
        "    self.checked_out = False\n",
        "\n",
        "class Library:\n",
        "  def __init__(self, name, location):\n",
        "    self.name = name\n",
        "    self.location = location\n",
        "    self.books = []\n",
        "\n",
        "  def add_book(self, book):\n",
        "    if book not in self.books:\n",
        "      self.books.append(book)\n",
        "\n",
        "  def remove_book(self, book):\n",
        "    if book in self.books:\n",
        "      self.books.remove(book)\n",
        "\n",
        "  def search_by_title(self, title):\n",
        "    return [book for book in self.books if title.lower() in book.title.lower()]\n",
        "\n",
        "  def available_books(self):\n",
        "      return [book for book in self.books if not book.checked_out]\n",
        "\n",
        "\n",
        "# Books can exist independently\n",
        "book1 = Book(\"1984\", \"George Orwell\", \"978-0451524935\")\n",
        "book2 = Book(\"Dune\", \"Frank Herbert\", \"978-0441172719\")\n",
        "\n",
        "# Create libraries\n",
        "snfl = Library(\"Stavros Niarchos Foundation Library\", \"Midtown\")\n",
        "chatham_square = Library(\"Chatham Square Library\", \"Chinatown\")\n",
        "\n",
        "# Add books to libraries\n",
        "snfl.add_book(book1)\n",
        "snfl.add_book(book2)\n",
        "\n",
        "# Books can be transferred between libraries\n",
        "snfl.remove_book(book2)\n",
        "chatham_square.add_book(book2)\n",
        "\n",
        "# Books maintain their state when moved\n",
        "book2.check_out()  # Book remains checked out even if moved"
      ],
      "metadata": {
        "colab": {
          "base_uri": "https://localhost:8080/"
        },
        "id": "De4vNDx7VZCi",
        "outputId": "57da5556-e26a-479f-81da-8abf04c7df98"
      },
      "execution_count": 22,
      "outputs": [
        {
          "output_type": "execute_result",
          "data": {
            "text/plain": [
              "True"
            ]
          },
          "metadata": {},
          "execution_count": 22
        }
      ]
    },
    {
      "cell_type": "markdown",
      "source": [
        "This differs from composition (like album tracks & album metadata) where the components cannot exist meaningfully outside their container (album) and their lifecycle is tied to the container.\n"
      ],
      "metadata": {
        "id": "9egmiQiU06sy"
      }
    },
    {
      "cell_type": "markdown",
      "source": [
        "### **Association**\n",
        "\n",
        "Association represents any relationship between classes where objects interact with or use each other. It's the most general form of relationship in object-oriented programming, encompassing both aggregation and composition, but can also represent looser connections. These relationships can be unidirectional (one class knows about the other) or bidirectional (both classes know about each other).\n",
        "\n",
        "<br>\n",
        "\n",
        "\n",
        "**Types of Association:**\n",
        "\n",
        "- **One-to-One**\n",
        "\n",
        "  - Each object is associated with exactly one object of another class\n",
        "  - Example: A library card associated with one specific library member\n",
        "\n",
        "- **One-to-Many**\n",
        "\n",
        "  - One object is associated with multiple objects of another class\n",
        "  - Example: An author associated with multiple books\n",
        "\n",
        "- **Many-to-Many**\n",
        "\n",
        "  - Objects of both classes can be associated with multiple objects of the other class\n",
        "  - Example: Students and courses, where students take multiple courses and courses have multiple students\n"
      ],
      "metadata": {
        "id": "vmSTzD9AVZWc"
      }
    },
    {
      "cell_type": "markdown",
      "source": [
        "**Association Example: Author & Book & Reader**\n"
      ],
      "metadata": {
        "id": "vGcS1okj4RNb"
      }
    },
    {
      "cell_type": "code",
      "source": [
        "class Author:\n",
        "  def __init__(self, name):\n",
        "    self.name = name\n",
        "    self.books = []  # One-to-Many: One author can write many books\n",
        "\n",
        "  def write_book(self, title, genre):\n",
        "    book = Book(title, genre, self)\n",
        "    self.books.append(book)\n",
        "    return book\n",
        "\n",
        "class Book:\n",
        "  def __init__(self, title, genre, author):\n",
        "    self.title = title\n",
        "    self.genre = genre\n",
        "    self.author = author  # One-to-One: Each book has one author\n",
        "    self.reviews = []  # One-to-Many: One book can have many reviews\n",
        "\n",
        "class Reader:\n",
        "  def __init__(self, name):\n",
        "    self.name = name\n",
        "    self.books_read = set()  # Many-to-Many: Readers can read multiple books\n",
        "\n",
        "  def read_book(self, book):\n",
        "    self.books_read.add(book)\n",
        "\n",
        "  def write_review(self, book, text, rating):\n",
        "    if book in self.books_read:\n",
        "      review = Review(self, book, text, rating)\n",
        "      book.reviews.append(review)\n",
        "      return review\n",
        "    return None\n",
        "\n",
        "class Review:\n",
        "  def __init__(self, reader, book, text, rating):\n",
        "    self.reader = reader  # One-to-One: Each review has one reader\n",
        "    self.book = book     # One-to-One: Each review is for one book\n",
        "    self.text = text\n",
        "    self.rating = rating"
      ],
      "metadata": {
        "id": "cAW1coBWVfJE"
      },
      "execution_count": 23,
      "outputs": []
    },
    {
      "cell_type": "code",
      "source": [
        "# Example\n",
        "author = Author(\"Frank Herbert\")\n",
        "dune = author.write_book(\"Dune\", \"Science Fiction\")\n",
        "\n",
        "reader1 = Reader(\"Alice\")\n",
        "reader2 = Reader(\"Bob\")\n",
        "\n",
        "# Many-to-many: multiple readers can read multiple books\n",
        "reader1.read_book(dune)\n",
        "reader2.read_book(dune)\n",
        "\n",
        "# One-to-many: one book can have multiple reviews\n",
        "review1 = reader1.write_review(dune, \"Amazing book!\", 5)\n",
        "review2 = reader2.write_review(dune, \"Classic sci-fi\", 4)"
      ],
      "metadata": {
        "id": "cVR6R3k53TZy"
      },
      "execution_count": 24,
      "outputs": []
    },
    {
      "cell_type": "markdown",
      "source": [
        "Association provides the flexibility to model complex relationships while maintaining loose coupling between classes, making the system more maintainable and adaptable to change.\n"
      ],
      "metadata": {
        "id": "oXI28r6y383h"
      }
    },
    {
      "cell_type": "markdown",
      "source": [
        "## **Advanced Concepts (Additional Material)**\n",
        "\n",
        "While these are not essential for understanding Object-Oriented Programming, these advance OOP concepts provide powerful tools for creating more robust and flexible software architectures that enforce design contracts and implement complex behaviors.\n"
      ],
      "metadata": {
        "id": "B4diOn6q9fQP"
      }
    },
    {
      "cell_type": "markdown",
      "source": [
        "### **Abstract Base Class**\n",
        "\n",
        "An Abstract Base Class (ABC) is a class that serves as a blueprint for other classes and cannot be instantiated directly. It defines a common interface that derived classes must implement, enforcing a contract for class behavior.\n",
        "\n",
        "<br>\n",
        "\n",
        "**Benefits of Abstract Base Classes:**\n",
        "\n",
        "- **Interface Enforcement**\n",
        "\n",
        "  - Ensures derived classes implement required methods\n",
        "  - Provides a clear contract for class behavior\n",
        "\n",
        "- **Code Organization**\n",
        "\n",
        "  - Creates a logical hierarchy of related classes\n",
        "  - Shares common attributes and methods\n"
      ],
      "metadata": {
        "id": "fdiqe7YkBjc3"
      }
    },
    {
      "cell_type": "code",
      "source": [
        "from abc import ABC, abstractmethod\n",
        "\n",
        "class ContentItem(ABC):\n",
        "  def __init__(self, title, creator):\n",
        "    self.title = title\n",
        "    self.creator = creator\n",
        "\n",
        "  @abstractmethod\n",
        "  def get_duration(self):\n",
        "    \"\"\"Return content duration in minutes. Implement in derived class.\"\"\"\n",
        "    pass\n",
        "\n",
        "  @abstractmethod\n",
        "  def get_info(self):\n",
        "    \"\"\"Return formatted content information. Implement in derived class.\"\"\"\n",
        "    pass\n",
        "\n",
        "class Movie(ContentItem):\n",
        "  def __init__(self, title, director, duration):\n",
        "    super().__init__(title, director)\n",
        "    self.duration = duration\n",
        "\n",
        "  def get_duration(self):\n",
        "    return self.duration\n",
        "\n",
        "  def get_info(self):\n",
        "    return f\"{self.title} directed by {self.creator}\""
      ],
      "metadata": {
        "id": "t7tziB39Zw3C"
      },
      "execution_count": 25,
      "outputs": []
    },
    {
      "cell_type": "markdown",
      "source": [
        "ABCs provide a formal way to define interfaces in Python. Often times, you use ABCs to enforce the type of interfaces you need and leave the actual implementation detail to the derived classes.\n"
      ],
      "metadata": {
        "id": "hoZqHrlr6zJb"
      }
    },
    {
      "cell_type": "code",
      "source": [
        "# Cannot instantiate abstract class\n",
        "content = ContentItem(\"Title\", \"Creator\")  # This would raise an error"
      ],
      "metadata": {
        "colab": {
          "base_uri": "https://localhost:8080/",
          "height": 159
        },
        "id": "0793z1y36pWN",
        "outputId": "8f93ddcd-b03c-4f94-f46f-06465113708e"
      },
      "execution_count": 26,
      "outputs": [
        {
          "output_type": "error",
          "ename": "TypeError",
          "evalue": "Can't instantiate abstract class ContentItem with abstract methods get_duration, get_info",
          "traceback": [
            "\u001b[0;31m---------------------------------------------------------------------------\u001b[0m",
            "\u001b[0;31mTypeError\u001b[0m                                 Traceback (most recent call last)",
            "\u001b[0;32m<ipython-input-26-d08266343046>\u001b[0m in \u001b[0;36m<cell line: 0>\u001b[0;34m()\u001b[0m\n\u001b[1;32m      1\u001b[0m \u001b[0;31m# Cannot instantiate abstract class\u001b[0m\u001b[0;34m\u001b[0m\u001b[0;34m\u001b[0m\u001b[0m\n\u001b[0;32m----> 2\u001b[0;31m \u001b[0mcontent\u001b[0m \u001b[0;34m=\u001b[0m \u001b[0mContentItem\u001b[0m\u001b[0;34m(\u001b[0m\u001b[0;34m\"Title\"\u001b[0m\u001b[0;34m,\u001b[0m \u001b[0;34m\"Creator\"\u001b[0m\u001b[0;34m)\u001b[0m  \u001b[0;31m# This would raise an error\u001b[0m\u001b[0;34m\u001b[0m\u001b[0;34m\u001b[0m\u001b[0m\n\u001b[0m",
            "\u001b[0;31mTypeError\u001b[0m: Can't instantiate abstract class ContentItem with abstract methods get_duration, get_info"
          ]
        }
      ]
    },
    {
      "cell_type": "code",
      "source": [
        "# Can instantiate concrete implementation\n",
        "movie = Movie(\"The Matrix\", \"Wachowskis\", 136)"
      ],
      "metadata": {
        "id": "EOcLMQK56sLw"
      },
      "execution_count": 27,
      "outputs": []
    },
    {
      "cell_type": "markdown",
      "source": [
        "### **Metaclass**\n",
        "\n",
        "A metaclass is a class for classes. It defines how a class should be created, which allows you to customize class creation, modify attributes, and implement class-wide behaviors.\n",
        "\n"
      ],
      "metadata": {
        "id": "O4bu12i4BsuH"
      }
    },
    {
      "cell_type": "code",
      "source": [
        "class LibraryItemMeta(type):\n",
        "  def __new__(cls, name, bases, attrs):\n",
        "    # Ensure all subclasses have required attributes\n",
        "    required = ['item_type', 'loan_period']\n",
        "    for attr in required:\n",
        "      if attr not in attrs:\n",
        "        raise TypeError(f\"{name} must define {attr}\")\n",
        "\n",
        "    return super().__new__(cls, name, bases, attrs)\n",
        "\n",
        "class Book(metaclass=LibraryItemMeta):\n",
        "  item_type = \"book\"\n",
        "  loan_period = 14\n",
        "\n",
        "  def __init__(self, title):\n",
        "    self.title = title\n",
        "\n",
        "  @classmethod\n",
        "  def show_loan_period(cls):\n",
        "    return f\"{cls.loan_period} days\""
      ],
      "metadata": {
        "id": "D02y4n4IZ6n6"
      },
      "execution_count": 28,
      "outputs": []
    },
    {
      "cell_type": "code",
      "source": [
        "# cannot create a class without item_type & loan_period class attribute\n",
        "class DVD(metaclass=LibraryItemMeta):\n",
        "  def __init__(self, title):\n",
        "    self.title = title"
      ],
      "metadata": {
        "colab": {
          "base_uri": "https://localhost:8080/",
          "height": 315
        },
        "id": "51k4q4Wu89OM",
        "outputId": "219cf23e-cd6c-4660-f045-4d5fcd183a00"
      },
      "execution_count": 29,
      "outputs": [
        {
          "output_type": "error",
          "ename": "TypeError",
          "evalue": "DVD must define item_type",
          "traceback": [
            "\u001b[0;31m---------------------------------------------------------------------------\u001b[0m",
            "\u001b[0;31mTypeError\u001b[0m                                 Traceback (most recent call last)",
            "\u001b[0;32m<ipython-input-29-85237a60a225>\u001b[0m in \u001b[0;36m<cell line: 0>\u001b[0;34m()\u001b[0m\n\u001b[1;32m      1\u001b[0m \u001b[0;31m# cannot create a class without item_type & loan_period class attribute\u001b[0m\u001b[0;34m\u001b[0m\u001b[0;34m\u001b[0m\u001b[0m\n\u001b[0;32m----> 2\u001b[0;31m \u001b[0;32mclass\u001b[0m \u001b[0mDVD\u001b[0m\u001b[0;34m(\u001b[0m\u001b[0mmetaclass\u001b[0m\u001b[0;34m=\u001b[0m\u001b[0mLibraryItemMeta\u001b[0m\u001b[0;34m)\u001b[0m\u001b[0;34m:\u001b[0m\u001b[0;34m\u001b[0m\u001b[0;34m\u001b[0m\u001b[0m\n\u001b[0m\u001b[1;32m      3\u001b[0m   \u001b[0;32mdef\u001b[0m \u001b[0m__init__\u001b[0m\u001b[0;34m(\u001b[0m\u001b[0mself\u001b[0m\u001b[0;34m,\u001b[0m \u001b[0mtitle\u001b[0m\u001b[0;34m)\u001b[0m\u001b[0;34m:\u001b[0m\u001b[0;34m\u001b[0m\u001b[0;34m\u001b[0m\u001b[0m\n\u001b[1;32m      4\u001b[0m     \u001b[0mself\u001b[0m\u001b[0;34m.\u001b[0m\u001b[0mtitle\u001b[0m \u001b[0;34m=\u001b[0m \u001b[0mtitle\u001b[0m\u001b[0;34m\u001b[0m\u001b[0;34m\u001b[0m\u001b[0m\n",
            "\u001b[0;32m<ipython-input-28-4cc00cd61650>\u001b[0m in \u001b[0;36m__new__\u001b[0;34m(cls, name, bases, attrs)\u001b[0m\n\u001b[1;32m      5\u001b[0m     \u001b[0;32mfor\u001b[0m \u001b[0mattr\u001b[0m \u001b[0;32min\u001b[0m \u001b[0mrequired\u001b[0m\u001b[0;34m:\u001b[0m\u001b[0;34m\u001b[0m\u001b[0;34m\u001b[0m\u001b[0m\n\u001b[1;32m      6\u001b[0m       \u001b[0;32mif\u001b[0m \u001b[0mattr\u001b[0m \u001b[0;32mnot\u001b[0m \u001b[0;32min\u001b[0m \u001b[0mattrs\u001b[0m\u001b[0;34m:\u001b[0m\u001b[0;34m\u001b[0m\u001b[0;34m\u001b[0m\u001b[0m\n\u001b[0;32m----> 7\u001b[0;31m         \u001b[0;32mraise\u001b[0m \u001b[0mTypeError\u001b[0m\u001b[0;34m(\u001b[0m\u001b[0;34mf\"{name} must define {attr}\"\u001b[0m\u001b[0;34m)\u001b[0m\u001b[0;34m\u001b[0m\u001b[0;34m\u001b[0m\u001b[0m\n\u001b[0m\u001b[1;32m      8\u001b[0m \u001b[0;34m\u001b[0m\u001b[0m\n\u001b[1;32m      9\u001b[0m     \u001b[0;32mreturn\u001b[0m \u001b[0msuper\u001b[0m\u001b[0;34m(\u001b[0m\u001b[0;34m)\u001b[0m\u001b[0;34m.\u001b[0m\u001b[0m__new__\u001b[0m\u001b[0;34m(\u001b[0m\u001b[0mcls\u001b[0m\u001b[0;34m,\u001b[0m \u001b[0mname\u001b[0m\u001b[0;34m,\u001b[0m \u001b[0mbases\u001b[0m\u001b[0;34m,\u001b[0m \u001b[0mattrs\u001b[0m\u001b[0;34m)\u001b[0m\u001b[0;34m\u001b[0m\u001b[0;34m\u001b[0m\u001b[0m\n",
            "\u001b[0;31mTypeError\u001b[0m: DVD must define item_type"
          ]
        }
      ]
    },
    {
      "cell_type": "code",
      "source": [
        "book = Book(\"Dune\")\n",
        "\n",
        "print(book.item_type)\n",
        "print(book.show_loan_period())"
      ],
      "metadata": {
        "colab": {
          "base_uri": "https://localhost:8080/"
        },
        "id": "Oeh2WHcx9Lj7",
        "outputId": "8a494988-e70f-4c1e-b6b4-f1064486bf07"
      },
      "execution_count": 30,
      "outputs": [
        {
          "output_type": "stream",
          "name": "stdout",
          "text": [
            "book\n",
            "14 days\n"
          ]
        }
      ]
    },
    {
      "cell_type": "markdown",
      "source": [
        "Both Abstract Base Classes and Metaclasses are advanced Python features that help enforce design patterns and create more robust class hierarchies. While ABCs focus on interface definition and inheritance relationships, metaclasses provide deeper control over class creation and behavior."
      ],
      "metadata": {
        "id": "DBCda4lK8FkR"
      }
    },
    {
      "cell_type": "markdown",
      "source": [
        "## **Conclusion**\n",
        "\n",
        "This concludes our lessons on object-oriented programming in Python. In this session, we expanded on fundamental OOP principles and introduced advanced features for writing more sophisticated and maintainable Python code.\n"
      ],
      "metadata": {
        "id": "75f3W_HdnUyB"
      }
    }
  ]
}