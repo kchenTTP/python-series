{
  "nbformat": 4,
  "nbformat_minor": 0,
  "metadata": {
    "colab": {
      "provenance": [],
      "toc_visible": true,
      "authorship_tag": "ABX9TyM4uoXQiixfl6qUyz1xcdz0",
      "include_colab_link": true
    },
    "kernelspec": {
      "name": "python3",
      "display_name": "Python 3"
    },
    "language_info": {
      "name": "python"
    }
  },
  "cells": [
    {
      "cell_type": "markdown",
      "metadata": {
        "id": "view-in-github",
        "colab_type": "text"
      },
      "source": [
        "<a href=\"https://colab.research.google.com/github/kchenTTP/python-series/blob/main/object_oriented_programming_in_python/Object_Oriented_Programming_in_Python_Part_4.ipynb\" target=\"_parent\"><img src=\"https://colab.research.google.com/assets/colab-badge.svg\" alt=\"Open In Colab\"/></a>"
      ]
    },
    {
      "cell_type": "markdown",
      "source": [
        "# **Object Oriented Programming in Python - Part 4**\n",
        "\n",
        "In part 3 of our object-oriented programming series, we covered inheritance as on of the OOP relationships. In this class, we are going to cover the rest ...\n",
        "\n",
        "**Table of Contents**\n",
        "\n",
        "- [OOP Relationships](#scrollTo=4AzmBqOAF8lm)\n",
        "  - [Composition](#scrollTo=ueSxzCZ_ZbaS)\n",
        "  - [Aggregation](#scrollTo=iJOhb0ZpVUfy)\n",
        "  - [Association](#scrollTo=vmSTzD9AVZWc)\n",
        "- [Advanced Concepts (Additional Material)](#scrollTo=B4diOn6q9fQP)\n"
      ],
      "metadata": {
        "id": "u77EAJpG99fN"
      }
    },
    {
      "cell_type": "markdown",
      "source": [
        "## **Object-Oriented Programming Relationships**\n",
        "\n",
        "There are different ways objects or classes can interact with each other in object-oriented programming. These interactions define how data and\n",
        "behaviors are shared among classes. The primary types of relationships include Inheritance, Composition, Aggregation, and Association.\n"
      ],
      "metadata": {
        "id": "4AzmBqOAF8lm"
      }
    },
    {
      "cell_type": "markdown",
      "source": [
        "### **Composition**\n",
        "\n",
        "Composition represents a **\"part-of\"** relationship, where a class contains one or more objects of another class as members to build functionality. The child (component) classes cannot exist independently outside of the parent (composite) class - their lifecycle is tightly coupled with the parent.\n",
        "\n",
        "<br>\n",
        "\n",
        "<figure align=\"center\">\n",
        "  <img src=\"https://github.com/kchenTTP/python-series/blob/main/object_oriented_programming_in_python/assets/oop-composition-vs-aggregation.png?raw=true\" alt=\"oop-composition-vs-aggregation.png\" />\n",
        "  <figcaption>Composition vs Aggregation</figcaption>\n",
        "</figure>\n",
        "\n",
        "<br>\n",
        "\n",
        "**Benefits of Composition:**\n",
        "\n",
        "- **Flexibility**\n",
        "\n",
        "  - Objects can be built from smaller, reusable components, making it easier to modify and extend behaviors.\n",
        "  - Components can be mixed and matched to create different variations of objects and new functionality can be added by introducing new components without modifying existing code.\n",
        "\n",
        "- **Looser Coupling Than Inheritance**\n",
        "\n",
        "  - Components interact through well-defined interfaces, reducing dependencies.\n",
        "  - Changes to one component's implementation don't affect others as long as the interface remains stable.\n",
        "\n",
        "- **Enhanced Modularity**\n",
        "\n",
        "  - Individual components can be developed, tested, and maintained independently without affecting the rest of the system.\n",
        "\n",
        "- **Clear Responsibilities**\n",
        "\n",
        "  - Each component has a distinct, well-defined role within the system.\n",
        "  - Makes the code more organized and easier to reason about.\n"
      ],
      "metadata": {
        "id": "ueSxzCZ_ZbaS"
      }
    },
    {
      "cell_type": "markdown",
      "source": [
        "#### **Composition Example: Music Album & Album Tracks**\n"
      ],
      "metadata": {
        "id": "5ECcE1se1Pj6"
      }
    },
    {
      "cell_type": "code",
      "source": [
        "class Track:\n",
        "  def __init__(self, title: str, duration: float):\n",
        "    self.title = title\n",
        "    self.duration = duration\n",
        "    self.track_number: int | None = None\n",
        "\n",
        "class AlbumMetadata:\n",
        "  def __init__(self, release_date: str, genre: str, label: str):\n",
        "    self.release_date = release_date\n",
        "    self.genre = genre\n",
        "    self.label = label\n",
        "\n",
        "class MusicAlbum:\n",
        "  def __init__(self, title: str, artist: str, release_date: str, genre: str, label: str):\n",
        "    self.title = title\n",
        "    self.artist = artist\n",
        "\n",
        "    # Tracks and metadata are composed into the album\n",
        "    self.metadata = AlbumMetadata(release_date, genre, label)\n",
        "    self.tracks = []\n",
        "    self._total_duration = 0\n",
        "\n",
        "  def add_track(self, title: str, duration: float):\n",
        "    track = Track(title, duration)\n",
        "    track.track_number = len(self.tracks) + 1\n",
        "    self.tracks.append(track)\n",
        "    self._total_duration += duration\n",
        "\n",
        "  def get_total_duration(self):\n",
        "    return self._total_duration\n",
        "\n",
        "  def get_track_listing(self):\n",
        "    return [(track.track_number, track.title, track.duration) for track in self.tracks]\n",
        "\n",
        "# The Tracks and AlbumMetadata only exist as part of the Album\n",
        "album = MusicAlbum(\n",
        "    \"The Dark Side of the Moon\",\n",
        "    \"Pink Floyd\",\n",
        "    \"1973-03-01\",\n",
        "    \"Progressive Rock\",\n",
        "    \"Harvest\"\n",
        ")\n",
        "\n",
        "album.add_track(\"Speak to Me\", 90.0)\n",
        "album.add_track(\"Breathe\", 163.0)\n",
        "album.add_track(\"Time\", 421.5)\n",
        "\n",
        "# Tracks are integral parts of the album and cannot exist independently\n",
        "track_listing = album.get_track_listing()\n",
        "print(track_listing)\n",
        "\n",
        "total_duration = album.get_total_duration()\n",
        "print(f\"Total Duration: {total_duration} seconds\")"
      ],
      "metadata": {
        "id": "DbqH5hwBZbxB",
        "colab": {
          "base_uri": "https://localhost:8080/"
        },
        "outputId": "beecc992-e5c5-479c-8138-bb9aed2d2226"
      },
      "execution_count": null,
      "outputs": [
        {
          "output_type": "stream",
          "name": "stdout",
          "text": [
            "[(1, 'Speak to Me', 90.0), (2, 'Breathe', 163.0), (3, 'Time', 421.5)]\n",
            "Total Duration: 674.5 seconds\n"
          ]
        }
      ]
    },
    {
      "cell_type": "markdown",
      "source": [
        "### **Aggregation**\n",
        "\n",
        "Aggregation represents a **\"has-a\"** relationship where one class contains references to objects of another class, but with looser coupling than composition. The child objects can exist independently and their lifecycle isn't controlled by the parent - they can be shared, transferred, or exist without a parent.\n",
        "\n",
        "<br>\n",
        "\n",
        "**Benefits of Aggregation:**\n",
        "\n",
        "- **Flexible Object Relationships**\n",
        "\n",
        "  - Objects can be transferred between containers\n",
        "  - The same object can belong to multiple containers simultaneously\n",
        "\n",
        "- **Reduced Dependencies**\n",
        "\n",
        "  - Container and component classes remain loosely coupled\n",
        "  - Changes to one class have minimal impact on the other\n",
        "  - Components can be developed and tested in isolation\n",
        "\n",
        "- **Resource Sharing**\n",
        "\n",
        "  - Multiple containers can share the same components\n",
        "  - Prevents unnecessary duplication of objects\n",
        "  - More efficient memory usage in large systems\n"
      ],
      "metadata": {
        "id": "iJOhb0ZpVUfy"
      }
    },
    {
      "cell_type": "markdown",
      "source": [
        "#### **Aggregation Example: Library & Book**\n"
      ],
      "metadata": {
        "id": "c_kBdrQp1a7n"
      }
    },
    {
      "cell_type": "code",
      "source": [
        "class Book:\n",
        "  def __init__(self, title, author, isbn):\n",
        "    self.title = title\n",
        "    self.author = author\n",
        "    self.isbn = isbn\n",
        "    self.checked_out = False\n",
        "\n",
        "  def check_out(self):\n",
        "    if not self.checked_out:\n",
        "      self.checked_out = True\n",
        "      return True\n",
        "    return False\n",
        "\n",
        "  def return_book(self):\n",
        "    self.checked_out = False\n",
        "\n",
        "class Library:\n",
        "  def __init__(self, name, location):\n",
        "    self.name = name\n",
        "    self.location = location\n",
        "    self.books = []\n",
        "\n",
        "  def add_book(self, book):\n",
        "    if book not in self.books:\n",
        "      self.books.append(book)\n",
        "\n",
        "  def remove_book(self, book):\n",
        "    if book in self.books:\n",
        "      self.books.remove(book)\n",
        "\n",
        "  def search_by_title(self, title):\n",
        "    return [book for book in self.books if title.lower() in book.title.lower()]\n",
        "\n",
        "  def available_books(self):\n",
        "      return [book for book in self.books if not book.checked_out]\n",
        "\n",
        "\n",
        "# Books can exist independently\n",
        "book1 = Book(\"1984\", \"George Orwell\", \"978-0451524935\")\n",
        "book2 = Book(\"Dune\", \"Frank Herbert\", \"978-0441172719\")\n",
        "\n",
        "# Create libraries\n",
        "snfl = Library(\"Stavros Niarchos Foundation Library\", \"Midtown\")\n",
        "chatham_square = Library(\"Chatham Square Library\", \"Chinatown\")\n",
        "\n",
        "# Add books to libraries\n",
        "snfl.add_book(book1)\n",
        "snfl.add_book(book2)\n",
        "\n",
        "# Books can be transferred between libraries\n",
        "snfl.remove_book(book2)\n",
        "chatham_square.add_book(book2)\n",
        "\n",
        "# Books maintain their state when moved\n",
        "book2.check_out()  # Book remains checked out even if moved"
      ],
      "metadata": {
        "colab": {
          "base_uri": "https://localhost:8080/"
        },
        "id": "De4vNDx7VZCi",
        "outputId": "57da5556-e26a-479f-81da-8abf04c7df98"
      },
      "execution_count": null,
      "outputs": [
        {
          "output_type": "execute_result",
          "data": {
            "text/plain": [
              "True"
            ]
          },
          "metadata": {},
          "execution_count": 22
        }
      ]
    },
    {
      "cell_type": "markdown",
      "source": [
        "This differs from composition (like album tracks & album metadata) where the components cannot exist meaningfully outside their container (album) and their lifecycle is tied to the container.\n"
      ],
      "metadata": {
        "id": "9egmiQiU06sy"
      }
    },
    {
      "cell_type": "markdown",
      "source": [
        "### **Association**\n",
        "\n",
        "Association represents any relationship between classes where objects interact with or use each other. It's the most general form of relationship in object-oriented programming, encompassing both aggregation and composition, but can also represent looser connections. These relationships can be unidirectional (one class knows about the other) or bidirectional (both classes know about each other).\n",
        "\n",
        "<br>\n",
        "\n",
        "\n",
        "**Types of Association:**\n",
        "\n",
        "- **One-to-One**\n",
        "\n",
        "  - Each object is associated with exactly one object of another class\n",
        "  - Example: A library card associated with one specific library member\n",
        "\n",
        "- **One-to-Many**\n",
        "\n",
        "  - One object is associated with multiple objects of another class\n",
        "  - Example: An author associated with multiple books\n",
        "\n",
        "- **Many-to-Many**\n",
        "\n",
        "  - Objects of both classes can be associated with multiple objects of the other class\n",
        "  - Example: Students and courses, where students take multiple courses and courses have multiple students\n"
      ],
      "metadata": {
        "id": "vmSTzD9AVZWc"
      }
    },
    {
      "cell_type": "markdown",
      "source": [
        "**Association Example: Author & Book & Reader**\n"
      ],
      "metadata": {
        "id": "vGcS1okj4RNb"
      }
    },
    {
      "cell_type": "code",
      "source": [
        "class Author:\n",
        "  def __init__(self, name):\n",
        "    self.name = name\n",
        "    self.books = []  # One-to-Many: One author can write many books\n",
        "\n",
        "  def write_book(self, title, genre):\n",
        "    book = Book(title, genre, self)\n",
        "    self.books.append(book)\n",
        "    return book\n",
        "\n",
        "class Book:\n",
        "  def __init__(self, title, genre, author):\n",
        "    self.title = title\n",
        "    self.genre = genre\n",
        "    self.author = author  # One-to-One: Each book has one author\n",
        "    self.reviews = []  # One-to-Many: One book can have many reviews\n",
        "\n",
        "class Reader:\n",
        "  def __init__(self, name):\n",
        "    self.name = name\n",
        "    self.books_read = set()  # Many-to-Many: Readers can read multiple books\n",
        "\n",
        "  def read_book(self, book):\n",
        "    self.books_read.add(book)\n",
        "\n",
        "  def write_review(self, book, text, rating):\n",
        "    if book in self.books_read:\n",
        "      review = Review(self, book, text, rating)\n",
        "      book.reviews.append(review)\n",
        "      return review\n",
        "    return None\n",
        "\n",
        "class Review:\n",
        "  def __init__(self, reader, book, text, rating):\n",
        "    self.reader = reader  # One-to-One: Each review has one reader\n",
        "    self.book = book     # One-to-One: Each review is for one book\n",
        "    self.text = text\n",
        "    self.rating = rating"
      ],
      "metadata": {
        "id": "cAW1coBWVfJE"
      },
      "execution_count": null,
      "outputs": []
    },
    {
      "cell_type": "code",
      "source": [
        "# Example\n",
        "author = Author(\"Frank Herbert\")\n",
        "dune = author.write_book(\"Dune\", \"Science Fiction\")\n",
        "\n",
        "reader1 = Reader(\"Alice\")\n",
        "reader2 = Reader(\"Bob\")\n",
        "\n",
        "# Many-to-many: multiple readers can read multiple books\n",
        "reader1.read_book(dune)\n",
        "reader2.read_book(dune)\n",
        "\n",
        "# One-to-many: one book can have multiple reviews\n",
        "review1 = reader1.write_review(dune, \"Amazing book!\", 5)\n",
        "review2 = reader2.write_review(dune, \"Classic sci-fi\", 4)"
      ],
      "metadata": {
        "id": "cVR6R3k53TZy"
      },
      "execution_count": null,
      "outputs": []
    },
    {
      "cell_type": "markdown",
      "source": [
        "Association provides the flexibility to model complex relationships while maintaining loose coupling between classes, making the system more maintainable and adaptable to change.\n"
      ],
      "metadata": {
        "id": "oXI28r6y383h"
      }
    },
    {
      "cell_type": "markdown",
      "source": [
        "## **Final Example: ...**\n",
        "\n",
        "...\n"
      ],
      "metadata": {
        "id": "1sMZo8lul8c6"
      }
    },
    {
      "cell_type": "code",
      "source": [],
      "metadata": {
        "id": "K9Hzx2QSmBFm"
      },
      "execution_count": null,
      "outputs": []
    },
    {
      "cell_type": "markdown",
      "source": [
        "## **Advanced Concepts (Additional Material)**\n",
        "\n",
        "While these are not essential for understanding Object-Oriented Programming, these advance OOP concepts provide powerful tools for creating more robust and flexible software architectures that enforce design contracts and implement complex behaviors.\n"
      ],
      "metadata": {
        "id": "B4diOn6q9fQP"
      }
    },
    {
      "cell_type": "markdown",
      "source": [
        "### **Abstract Base Classes**\n",
        "\n",
        "An Abstract Base Class (ABC) is a class that serves as a blueprint for other classes and cannot be instantiated directly. It defines a common interface that derived classes must implement, enforcing a contract for class behavior.\n",
        "\n",
        "<br>\n",
        "\n",
        "**Benefits of Abstract Base Classes:**\n",
        "\n",
        "- **Interface Enforcement**\n",
        "\n",
        "  - Ensures derived classes implement required methods\n",
        "  - Provides a clear contract for class behavior\n",
        "\n",
        "- **Code Organization**\n",
        "\n",
        "  - Creates a logical hierarchy of related classes\n",
        "  - Shares common attributes and methods\n"
      ],
      "metadata": {
        "id": "fdiqe7YkBjc3"
      }
    },
    {
      "cell_type": "code",
      "source": [
        "from abc import ABC, abstractmethod\n",
        "\n",
        "class ContentItem(ABC):\n",
        "  def __init__(self, title, creator):\n",
        "    self.title = title\n",
        "    self.creator = creator\n",
        "\n",
        "  @abstractmethod\n",
        "  def get_duration(self):\n",
        "    \"\"\"Return content duration in minutes. Implement in derived class.\"\"\"\n",
        "    pass\n",
        "\n",
        "  @abstractmethod\n",
        "  def get_info(self):\n",
        "    \"\"\"Return formatted content information. Implement in derived class.\"\"\"\n",
        "    pass\n",
        "\n",
        "class Movie(ContentItem):\n",
        "  def __init__(self, title, director, duration):\n",
        "    super().__init__(title, director)\n",
        "    self.duration = duration\n",
        "\n",
        "  def get_duration(self):\n",
        "    return self.duration\n",
        "\n",
        "  def get_info(self):\n",
        "    return f\"{self.title} directed by {self.creator}\""
      ],
      "metadata": {
        "id": "t7tziB39Zw3C"
      },
      "execution_count": null,
      "outputs": []
    },
    {
      "cell_type": "markdown",
      "source": [
        "ABCs provide a formal way to define interfaces in Python. Often times, you use ABCs to enforce the type of interfaces you need and leave the actual implementation detail to the derived classes.\n"
      ],
      "metadata": {
        "id": "hoZqHrlr6zJb"
      }
    },
    {
      "cell_type": "code",
      "source": [
        "# Cannot instantiate abstract class\n",
        "content = ContentItem(\"Title\", \"Creator\")  # This would raise an error"
      ],
      "metadata": {
        "colab": {
          "base_uri": "https://localhost:8080/",
          "height": 159
        },
        "id": "0793z1y36pWN",
        "outputId": "8f93ddcd-b03c-4f94-f46f-06465113708e"
      },
      "execution_count": null,
      "outputs": [
        {
          "output_type": "error",
          "ename": "TypeError",
          "evalue": "Can't instantiate abstract class ContentItem with abstract methods get_duration, get_info",
          "traceback": [
            "\u001b[0;31m---------------------------------------------------------------------------\u001b[0m",
            "\u001b[0;31mTypeError\u001b[0m                                 Traceback (most recent call last)",
            "\u001b[0;32m<ipython-input-26-d08266343046>\u001b[0m in \u001b[0;36m<cell line: 0>\u001b[0;34m()\u001b[0m\n\u001b[1;32m      1\u001b[0m \u001b[0;31m# Cannot instantiate abstract class\u001b[0m\u001b[0;34m\u001b[0m\u001b[0;34m\u001b[0m\u001b[0m\n\u001b[0;32m----> 2\u001b[0;31m \u001b[0mcontent\u001b[0m \u001b[0;34m=\u001b[0m \u001b[0mContentItem\u001b[0m\u001b[0;34m(\u001b[0m\u001b[0;34m\"Title\"\u001b[0m\u001b[0;34m,\u001b[0m \u001b[0;34m\"Creator\"\u001b[0m\u001b[0;34m)\u001b[0m  \u001b[0;31m# This would raise an error\u001b[0m\u001b[0;34m\u001b[0m\u001b[0;34m\u001b[0m\u001b[0m\n\u001b[0m",
            "\u001b[0;31mTypeError\u001b[0m: Can't instantiate abstract class ContentItem with abstract methods get_duration, get_info"
          ]
        }
      ]
    },
    {
      "cell_type": "code",
      "source": [
        "# Can instantiate concrete implementation\n",
        "movie = Movie(\"The Matrix\", \"Wachowskis\", 136)"
      ],
      "metadata": {
        "id": "EOcLMQK56sLw"
      },
      "execution_count": null,
      "outputs": []
    },
    {
      "cell_type": "markdown",
      "source": [
        "### **Metaclasses**\n",
        "\n",
        "A metaclass is a class for classes. It defines how a class should be created, which allows you to customize class creation, modify attributes, and implement class-wide behaviors.\n",
        "\n"
      ],
      "metadata": {
        "id": "O4bu12i4BsuH"
      }
    },
    {
      "cell_type": "code",
      "source": [
        "class LibraryItemMeta(type):\n",
        "  def __new__(cls, name, bases, attrs):\n",
        "    # Ensure all subclasses have required attributes\n",
        "    required = ['item_type', 'loan_period']\n",
        "    for attr in required:\n",
        "      if attr not in attrs:\n",
        "        raise TypeError(f\"{name} must define {attr}\")\n",
        "\n",
        "    return super().__new__(cls, name, bases, attrs)\n",
        "\n",
        "class Book(metaclass=LibraryItemMeta):\n",
        "  item_type = \"book\"\n",
        "  loan_period = 14\n",
        "\n",
        "  def __init__(self, title):\n",
        "    self.title = title\n",
        "\n",
        "  @classmethod\n",
        "  def show_loan_period(cls):\n",
        "    return f\"{cls.loan_period} days\""
      ],
      "metadata": {
        "id": "D02y4n4IZ6n6"
      },
      "execution_count": null,
      "outputs": []
    },
    {
      "cell_type": "code",
      "source": [
        "# cannot create a class without item_type & loan_period class attribute\n",
        "class DVD(metaclass=LibraryItemMeta):\n",
        "  def __init__(self, title):\n",
        "    self.title = title"
      ],
      "metadata": {
        "colab": {
          "base_uri": "https://localhost:8080/",
          "height": 315
        },
        "id": "51k4q4Wu89OM",
        "outputId": "219cf23e-cd6c-4660-f045-4d5fcd183a00"
      },
      "execution_count": null,
      "outputs": [
        {
          "output_type": "error",
          "ename": "TypeError",
          "evalue": "DVD must define item_type",
          "traceback": [
            "\u001b[0;31m---------------------------------------------------------------------------\u001b[0m",
            "\u001b[0;31mTypeError\u001b[0m                                 Traceback (most recent call last)",
            "\u001b[0;32m<ipython-input-29-85237a60a225>\u001b[0m in \u001b[0;36m<cell line: 0>\u001b[0;34m()\u001b[0m\n\u001b[1;32m      1\u001b[0m \u001b[0;31m# cannot create a class without item_type & loan_period class attribute\u001b[0m\u001b[0;34m\u001b[0m\u001b[0;34m\u001b[0m\u001b[0m\n\u001b[0;32m----> 2\u001b[0;31m \u001b[0;32mclass\u001b[0m \u001b[0mDVD\u001b[0m\u001b[0;34m(\u001b[0m\u001b[0mmetaclass\u001b[0m\u001b[0;34m=\u001b[0m\u001b[0mLibraryItemMeta\u001b[0m\u001b[0;34m)\u001b[0m\u001b[0;34m:\u001b[0m\u001b[0;34m\u001b[0m\u001b[0;34m\u001b[0m\u001b[0m\n\u001b[0m\u001b[1;32m      3\u001b[0m   \u001b[0;32mdef\u001b[0m \u001b[0m__init__\u001b[0m\u001b[0;34m(\u001b[0m\u001b[0mself\u001b[0m\u001b[0;34m,\u001b[0m \u001b[0mtitle\u001b[0m\u001b[0;34m)\u001b[0m\u001b[0;34m:\u001b[0m\u001b[0;34m\u001b[0m\u001b[0;34m\u001b[0m\u001b[0m\n\u001b[1;32m      4\u001b[0m     \u001b[0mself\u001b[0m\u001b[0;34m.\u001b[0m\u001b[0mtitle\u001b[0m \u001b[0;34m=\u001b[0m \u001b[0mtitle\u001b[0m\u001b[0;34m\u001b[0m\u001b[0;34m\u001b[0m\u001b[0m\n",
            "\u001b[0;32m<ipython-input-28-4cc00cd61650>\u001b[0m in \u001b[0;36m__new__\u001b[0;34m(cls, name, bases, attrs)\u001b[0m\n\u001b[1;32m      5\u001b[0m     \u001b[0;32mfor\u001b[0m \u001b[0mattr\u001b[0m \u001b[0;32min\u001b[0m \u001b[0mrequired\u001b[0m\u001b[0;34m:\u001b[0m\u001b[0;34m\u001b[0m\u001b[0;34m\u001b[0m\u001b[0m\n\u001b[1;32m      6\u001b[0m       \u001b[0;32mif\u001b[0m \u001b[0mattr\u001b[0m \u001b[0;32mnot\u001b[0m \u001b[0;32min\u001b[0m \u001b[0mattrs\u001b[0m\u001b[0;34m:\u001b[0m\u001b[0;34m\u001b[0m\u001b[0;34m\u001b[0m\u001b[0m\n\u001b[0;32m----> 7\u001b[0;31m         \u001b[0;32mraise\u001b[0m \u001b[0mTypeError\u001b[0m\u001b[0;34m(\u001b[0m\u001b[0;34mf\"{name} must define {attr}\"\u001b[0m\u001b[0;34m)\u001b[0m\u001b[0;34m\u001b[0m\u001b[0;34m\u001b[0m\u001b[0m\n\u001b[0m\u001b[1;32m      8\u001b[0m \u001b[0;34m\u001b[0m\u001b[0m\n\u001b[1;32m      9\u001b[0m     \u001b[0;32mreturn\u001b[0m \u001b[0msuper\u001b[0m\u001b[0;34m(\u001b[0m\u001b[0;34m)\u001b[0m\u001b[0;34m.\u001b[0m\u001b[0m__new__\u001b[0m\u001b[0;34m(\u001b[0m\u001b[0mcls\u001b[0m\u001b[0;34m,\u001b[0m \u001b[0mname\u001b[0m\u001b[0;34m,\u001b[0m \u001b[0mbases\u001b[0m\u001b[0;34m,\u001b[0m \u001b[0mattrs\u001b[0m\u001b[0;34m)\u001b[0m\u001b[0;34m\u001b[0m\u001b[0;34m\u001b[0m\u001b[0m\n",
            "\u001b[0;31mTypeError\u001b[0m: DVD must define item_type"
          ]
        }
      ]
    },
    {
      "cell_type": "code",
      "source": [
        "book = Book(\"Dune\")\n",
        "\n",
        "print(book.item_type)\n",
        "print(book.show_loan_period())"
      ],
      "metadata": {
        "colab": {
          "base_uri": "https://localhost:8080/"
        },
        "id": "Oeh2WHcx9Lj7",
        "outputId": "8a494988-e70f-4c1e-b6b4-f1064486bf07"
      },
      "execution_count": null,
      "outputs": [
        {
          "output_type": "stream",
          "name": "stdout",
          "text": [
            "book\n",
            "14 days\n"
          ]
        }
      ]
    },
    {
      "cell_type": "markdown",
      "source": [
        "Both Abstract Base Classes and Metaclasses are advanced Python features that help enforce design patterns and create more robust class hierarchies. While ABCs focus on interface definition and inheritance relationships, metaclasses provide deeper control over class creation and behavior."
      ],
      "metadata": {
        "id": "DBCda4lK8FkR"
      }
    },
    {
      "cell_type": "markdown",
      "source": [
        "## **Conclusion**\n",
        "\n",
        "This concludes our lessons on object-oriented programming in Python. In this session, we expanded on fundamental OOP principles and introduced advanced features for writing more sophisticated and maintainable Python code.\n"
      ],
      "metadata": {
        "id": "75f3W_HdnUyB"
      }
    }
  ]
}