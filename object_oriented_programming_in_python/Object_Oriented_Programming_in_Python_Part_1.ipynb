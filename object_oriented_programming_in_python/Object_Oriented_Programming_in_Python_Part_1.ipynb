{
  "nbformat": 4,
  "nbformat_minor": 0,
  "metadata": {
    "colab": {
      "provenance": [],
      "toc_visible": true,
      "authorship_tag": "ABX9TyMIHyVGvyTZkPT/N7XyNpBF",
      "include_colab_link": true
    },
    "kernelspec": {
      "name": "python3",
      "display_name": "Python 3"
    },
    "language_info": {
      "name": "python"
    }
  },
  "cells": [
    {
      "cell_type": "markdown",
      "metadata": {
        "id": "view-in-github",
        "colab_type": "text"
      },
      "source": [
        "<a href=\"https://colab.research.google.com/github/kchenTTP/python-series/blob/main/object_oriented_programming_in_python/Object_Oriented_Programming_in_Python_Part_1.ipynb\" target=\"_parent\"><img src=\"https://colab.research.google.com/assets/colab-badge.svg\" alt=\"Open In Colab\"/></a>"
      ]
    },
    {
      "cell_type": "markdown",
      "source": [
        "# **Object Oriented Programming in Python - Part 1**\n",
        "\n",
        "This is the first of two classes covering Object-Oriented Programming (OOP). Object-oriented programming is a programming paradigm that organizes code into objects that contain both data and code. Python is a powerful object-oriented programming language that provides a straightforward yet comprehensive implementation of OOP concepts.\n",
        "\n",
        "**Table of Contents**\n",
        "\n",
        "- [Why Object-Oriented Programming?](#scrollTo=ctaC5CoFZyBn)\n",
        "- [Classes & Objects](#scrollTo=K3MSR-8x31WE)\n",
        "- [Attributes & Methods](#scrollTo=4AzmBqOAF8lm)\n",
        "- [Encapsulation & Access Modifiers](#scrollTo=B4diOn6q9fQP)\n",
        "\n",
        "<br>\n",
        "\n",
        "In this session, we will explore fundamental OOP concepts in Python and learn how they help us write more organized, maintainable, and reusable code.\n"
      ],
      "metadata": {
        "id": "u77EAJpG99fN"
      }
    },
    {
      "cell_type": "markdown",
      "source": [
        "## **Why Object-Oriented Programming?**\n",
        "\n",
        "**Object-Oriented Programming (OOP)** emerged as a solution to handle growing complexity in software development. Before OOP, programs written ***procedurally*** faced significant challenges in organizing code and managing data effectively.\n",
        "\n",
        "> *Procedural Programming is a programming paradigm that involves implementing the behavior of a computer program as procedures (functions, subroutines) that call each other. [(Wikipedia)](https://en.wikipedia.org/wiki/Procedural_programming)*\n"
      ],
      "metadata": {
        "id": "ctaC5CoFZyBn"
      }
    },
    {
      "cell_type": "markdown",
      "source": [
        "### **Example: Bank Account**\n",
        "\n",
        "Let's explore an example where we implement the functionalities of a bank account using a procedural approach.\n",
        "\n",
        "To manage all the information and operations associated with a bank account, we need to create separate variables for the account details and multiple functions to handle the account's functionality. This method can become cumbersome and less organized as the program grows in complexity.\n"
      ],
      "metadata": {
        "id": "S1U_oQzvmpRR"
      }
    },
    {
      "cell_type": "markdown",
      "source": [
        "#### **Procedural Programming**"
      ],
      "metadata": {
        "id": "LVxmM8v104aK"
      }
    },
    {
      "cell_type": "code",
      "source": [
        "# ------ Procedurally written code: separate data and functions ------\n",
        "bank_account_bob = {\n",
        "  \"first_name\": \"Bob\",\n",
        "  \"last_name\": \"Bobberston\",\n",
        "  \"account_type\": \"saving\",\n",
        "  \"balance\": 0\n",
        "}\n",
        "\n",
        "def deposit(bank_account: dict, amount: float):\n",
        "  if amount > 0:\n",
        "    bank_account[\"balance\"] += amount\n",
        "    print(f\"Deposited ${amount}. New balance: ${bank_account['balance']}\")\n",
        "  else:\n",
        "    print(\"Deposit amount must be positive.\")\n",
        "\n",
        "def withdraw(bank_account: dict, amount: float):\n",
        "  if 0 < amount <= bank_account[\"balance\"]:\n",
        "    bank_account[\"balance\"] -= amount\n",
        "    print(f\"Withdrew ${amount}. New balance: ${bank_account['balance']}\")\n",
        "  else:\n",
        "    print(\"Invalid withdrawal amount or insufficient funds.\")\n",
        "\n",
        "def change_name(bank_account: dict, *, new_first_name: str | None = None, new_last_name: str | None = None):\n",
        "  if new_first_name is not None:\n",
        "    bank_account[\"first_name\"] = new_first_name\n",
        "  if new_last_name is not None:\n",
        "    bank_account[\"last_name\"] = new_last_name\n",
        "\n",
        "  if new_first_name is None and new_last_name is None:\n",
        "    print(\"No changes made\")\n",
        "  else:\n",
        "    print(f\"Name changed to {bank_account['first_name']} {bank_account['last_name']}\")\n",
        "\n",
        "def display_account(bank_account: dict):\n",
        "  print(f\"Account Holder: {bank_account['first_name']} {bank_account['last_name']}\")\n",
        "  print(f\"Account Type: {bank_account['account_type']}\")\n",
        "  print(f\"Balance: ${bank_account['balance']}\")"
      ],
      "metadata": {
        "id": "YGorV5zXZybW"
      },
      "execution_count": 1,
      "outputs": []
    },
    {
      "cell_type": "code",
      "source": [
        "# ------ Working with data using procedural programming can be cumbersome and error prone ------\n",
        "deposit(bank_account_bob, 100)\n",
        "withdraw(bank_account_bob, 50)\n",
        "change_name(bank_account_bob, new_first_name=\"Bobby\")\n",
        "\n",
        "# We are allowed to change the variable to whatever we wan't even if it doesn't fit the logic of the code, leading to potential security issues\n",
        "bank_account_bob[\"account_type\"] = \"lol\"\n",
        "bank_account_bob[\"balance\"] = 10_000_000\n",
        "bank_account_bob[\"balance\"] = -1_000_000_000\n",
        "\n",
        "display_account(bank_account_bob)"
      ],
      "metadata": {
        "colab": {
          "base_uri": "https://localhost:8080/"
        },
        "id": "-0MLS-24iQVt",
        "outputId": "5ae96969-1bea-4117-bbaf-c35d34756f97"
      },
      "execution_count": 2,
      "outputs": [
        {
          "output_type": "stream",
          "name": "stdout",
          "text": [
            "Deposited $100. New balance: $100\n",
            "Withdrew $50. New balance: $50\n",
            "Name changed to Bobby Bobberston\n",
            "Account Holder: Bobby Bobberston\n",
            "Account Type: lol\n",
            "Balance: $-1000000000\n"
          ]
        }
      ]
    },
    {
      "cell_type": "markdown",
      "source": [
        "Though this procedural code seems fine, it demonstrates several inconveniences and potential pitfalls:\n",
        "\n",
        "- **Lack of Encapsulation**\n",
        "  \n",
        "  The `bank_account_bob` dictionary is directly accessible, allowing any part of the program to modify its contents without restrictions. For example, changing the account_type to an invalid value (`\"lol\"`) or setting the balance arbitrarily undermines data integrity.\n",
        "  \n",
        "- **Data and Functions are Separate**\n",
        "\n",
        "  The logic for managing a bank account (e.g., `deposit`, `withdraw`) is not inherently tied to the account itself. Instead, functions operate on a generic dictionary, making it harder to associate behavior directly with the data it affects.\n",
        "\n",
        "- **Error-Prone**\n",
        "\n",
        "  Since the data is stored in a generic dictionary, typos in key names (e.g., `\"balnce\"` instead of `\"balance\"`) could lead to runtime errors or bugs that are hard to trace.\n",
        "\n",
        "- **Scalability Issues**\n",
        "\n",
        "  Adding more features (e.g., transaction history or account-specific rules) requires modifying multiple functions and ensuring the dictionary structure remains consistent throughout the program.\n",
        "\n",
        "- **Security Concerns**\n",
        "\n",
        "  Without constraints or validations, any part of the code can modify critical account information, leading to unpredictable behavior and security vulnerabilities.\n"
      ],
      "metadata": {
        "id": "PcGRFyOsy7uA"
      }
    },
    {
      "cell_type": "markdown",
      "source": [
        "#### **Object-Oriented Programming**\n",
        "\n",
        "By contrast, an object-oriented approach could encapsulate the data and functions within a `BankAccount` class, providing a cleaner, more secure, and scalable solution.\n",
        "\n",
        "> 🤠 We'll explain what everything here means later in this class\n"
      ],
      "metadata": {
        "id": "b3uMmcLfmNqs"
      }
    },
    {
      "cell_type": "code",
      "source": [
        "# ------ OOP: data and functions are encapsulated inside a single class ------\n",
        "from typing import Literal  # For type hints\n",
        "\n",
        "class BankAccount:\n",
        "  def __init__(self, first_name: str, last_name: str, account_type: Literal[\"saving\", \"checking\"], balance: float):\n",
        "    self.first_name: str = first_name\n",
        "    self.last_name: str = last_name\n",
        "\n",
        "    # Validate account type before assigning value\n",
        "    if account_type in [\"saving\", \"checking\"]:\n",
        "      self._account_type: Literal[\"saving\", \"checking\"] = account_type\n",
        "    else:\n",
        "      raise ValueError(\"Invalid account type\")\n",
        "\n",
        "    # Validate balance amount before assigning value\n",
        "    if balance >= 0:\n",
        "      self.balance: float = balance\n",
        "    else:\n",
        "      raise ValueError(\"Invalid balance\")\n",
        "\n",
        "  @property\n",
        "  def account_type(self) -> Literal[\"saving\", \"checking\"]:\n",
        "    return self._account_type\n",
        "\n",
        "  def deposit(self, amount: float):\n",
        "    # Validate value before modifying attribute\n",
        "    if amount > 0:\n",
        "      self.balance += amount\n",
        "      print(f\"Deposited ${amount}. New balance: ${self.balance}\")\n",
        "    else:\n",
        "      raise ValueError(\"Deposit amount must be positive.\")\n",
        "\n",
        "  def withdraw(self, amount: float):\n",
        "    # Validate value before modifying attribute\n",
        "    if 0 < amount <= self.balance:\n",
        "      self.balance -= amount\n",
        "      print(f\"Withdrew ${amount}. New balance: ${self.balance}\")\n",
        "    else:\n",
        "      print(\"Invalid withdrawal amount or insufficient funds.\")\n",
        "\n",
        "  def change_name(self, *, new_first_name: str | None = None, new_last_name: str | None = None):\n",
        "    # Validate value before modifying attribute\n",
        "    if new_first_name is not None:\n",
        "      self.first_name = new_first_name\n",
        "    if new_last_name is not None:\n",
        "      self.last_name = new_last_name\n",
        "\n",
        "    if new_first_name is None and new_last_name is None:\n",
        "      print(\"No changes made\")\n",
        "    else:\n",
        "      print(f\"Name changed to {self.first_name} {self.last_name}\")\n",
        "\n",
        "  def display_account(self):\n",
        "    print(f\"Account Holder: {self.first_name} {self.last_name}\")\n",
        "    print(f\"Account Type: {self.account_type}\")\n",
        "    print(f\"Balance: ${self.balance}\")"
      ],
      "metadata": {
        "id": "T_h7mZPSnlfU"
      },
      "execution_count": 3,
      "outputs": []
    },
    {
      "cell_type": "code",
      "source": [
        "bob_account = BankAccount(\"Bob\", \"Bobberston\", \"saving\", 0)\n",
        "bob_account.deposit(100)\n",
        "bob_account.withdraw(50)\n",
        "bob_account.change_name(new_first_name=\"Bobby\")\n",
        "bob_account.display_account()"
      ],
      "metadata": {
        "colab": {
          "base_uri": "https://localhost:8080/"
        },
        "id": "V29ejKfnuhYg",
        "outputId": "1c45d513-4c1a-4150-fb3a-6042cdcb845d"
      },
      "execution_count": 4,
      "outputs": [
        {
          "output_type": "stream",
          "name": "stdout",
          "text": [
            "Deposited $100. New balance: $100\n",
            "Withdrew $50. New balance: $50\n",
            "Name changed to Bobby Bobberston\n",
            "Account Holder: Bobby Bobberston\n",
            "Account Type: saving\n",
            "Balance: $50\n"
          ]
        }
      ]
    },
    {
      "cell_type": "markdown",
      "source": [
        "With OOP, the `BankAccount` class encapsulates both data and functionality, ensuring better organization, data integrity, and scalability. Validations prevent invalid states, and methods like deposit and withdraw operate ***only*** on the account's data, reducing the risk of accidental modifications. This makes the code more secure, maintainable, and easier to extend.\n",
        "\n",
        "<br>\n",
        "\n",
        "OOP also includes features to safeguard attributes, ensuring they can only be modified through the logic defined within the class:\n"
      ],
      "metadata": {
        "id": "9Uyx1Oj9vOq_"
      }
    },
    {
      "cell_type": "code",
      "source": [
        "# Prevents attributes from being modified directly\n",
        "print(bob_account.account_type)\n",
        "bob_account.account_type = \"lol\""
      ],
      "metadata": {
        "colab": {
          "base_uri": "https://localhost:8080/",
          "height": 193
        },
        "id": "7MM1W3-GvBH-",
        "outputId": "ba0f8d14-ebb0-49d8-fcdd-139358a7266c"
      },
      "execution_count": 5,
      "outputs": [
        {
          "output_type": "stream",
          "name": "stdout",
          "text": [
            "saving\n"
          ]
        },
        {
          "output_type": "error",
          "ename": "AttributeError",
          "evalue": "property 'account_type' of 'BankAccount' object has no setter",
          "traceback": [
            "\u001b[0;31m---------------------------------------------------------------------------\u001b[0m",
            "\u001b[0;31mAttributeError\u001b[0m                            Traceback (most recent call last)",
            "\u001b[0;32m<ipython-input-5-105eccf6c261>\u001b[0m in \u001b[0;36m<cell line: 0>\u001b[0;34m()\u001b[0m\n\u001b[1;32m      1\u001b[0m \u001b[0;31m# Prevents attributes from being modified directly\u001b[0m\u001b[0;34m\u001b[0m\u001b[0;34m\u001b[0m\u001b[0m\n\u001b[1;32m      2\u001b[0m \u001b[0mprint\u001b[0m\u001b[0;34m(\u001b[0m\u001b[0mbob_account\u001b[0m\u001b[0;34m.\u001b[0m\u001b[0maccount_type\u001b[0m\u001b[0;34m)\u001b[0m\u001b[0;34m\u001b[0m\u001b[0;34m\u001b[0m\u001b[0m\n\u001b[0;32m----> 3\u001b[0;31m \u001b[0mbob_account\u001b[0m\u001b[0;34m.\u001b[0m\u001b[0maccount_type\u001b[0m \u001b[0;34m=\u001b[0m \u001b[0;34m\"lol\"\u001b[0m\u001b[0;34m\u001b[0m\u001b[0;34m\u001b[0m\u001b[0m\n\u001b[0m",
            "\u001b[0;31mAttributeError\u001b[0m: property 'account_type' of 'BankAccount' object has no setter"
          ]
        }
      ]
    },
    {
      "cell_type": "markdown",
      "source": [
        "## **Classes & Objects**\n",
        "\n",
        "Now that we understand when and why to use object-oriented programming, let's dive into how to use it. Classes and objects are the foundational building blocks of OOP. A class is a blueprint that defines the structure and behavior of objects, while an object is a specific instance of that class.\n"
      ],
      "metadata": {
        "id": "K3MSR-8x31WE"
      }
    },
    {
      "cell_type": "markdown",
      "source": [
        "### **Class Definition**\n",
        "\n",
        "A class bundles **data (attributes)** and **functions (methods)** that work on that data into a single unit. This concept is known as **Encapsulation**.\n",
        "\n",
        "> 📒 **Note:** By convention, the name of a class starts with a capital letter.\n"
      ],
      "metadata": {
        "id": "H_pYxgclC7P3"
      }
    },
    {
      "cell_type": "code",
      "source": [
        "class Circle:\n",
        "  def __init__(self, radius: float):\n",
        "    self.radius = radius\n",
        "    self.area = 3.14 * (radius ** 2)"
      ],
      "metadata": {
        "id": "Lo3OtEBy999d"
      },
      "execution_count": 6,
      "outputs": []
    },
    {
      "cell_type": "code",
      "source": [
        "class Dog:\n",
        "  def __init__(self, name: str, age: int):\n",
        "    self.name = name\n",
        "    self.age = age\n",
        "\n",
        "  def bark(self):\n",
        "    print(f\"{self.name} says woof!\")"
      ],
      "metadata": {
        "id": "hC8KuzAHCvLF"
      },
      "execution_count": 7,
      "outputs": []
    },
    {
      "cell_type": "markdown",
      "source": [
        "> ❗ Don't worry if you're unfamiliar with `self`, `__init__`, or the `.` notation yet. We'll explain these in the next section when we cover attributes and methods.\n"
      ],
      "metadata": {
        "id": "meP09oXuEcw1"
      }
    },
    {
      "cell_type": "markdown",
      "source": [
        "### **Object Definition**\n",
        "\n",
        "To use classes, we create **objects**, which are specific instances of the classes we've defined. Each object has its own unique set of data, even though they share the same structure and behavior defined by the class.\n"
      ],
      "metadata": {
        "id": "qRnN8GXBBBgY"
      }
    },
    {
      "cell_type": "code",
      "source": [
        "# Creating objects (instances) of the Circle class\n",
        "small_circle = Circle(10)\n",
        "big_circle = Circle(20)\n",
        "\n",
        "print(small_circle.radius)\n",
        "print(small_circle.area)\n",
        "print(type(small_circle))\n",
        "print(\"--------\")\n",
        "\n",
        "print(big_circle.radius)\n",
        "print(big_circle.area)\n",
        "print(type(big_circle))"
      ],
      "metadata": {
        "colab": {
          "base_uri": "https://localhost:8080/"
        },
        "id": "DOk07dOf7xZt",
        "outputId": "928f4036-e252-4b0c-9fa0-2c186aa6b177"
      },
      "execution_count": 45,
      "outputs": [
        {
          "output_type": "stream",
          "name": "stdout",
          "text": [
            "10\n",
            "314.0\n",
            "<class '__main__.Circle'>\n",
            "--------\n",
            "20\n",
            "1256.0\n",
            "<class '__main__.Circle'>\n"
          ]
        }
      ]
    },
    {
      "cell_type": "code",
      "source": [
        "# Creating objects (instances) of the Dog class\n",
        "spot = Dog(\"Spot\", 3)\n",
        "fido = Dog(\"Fido\", 5)\n",
        "\n",
        "print(spot.name)\n",
        "spot.bark()\n",
        "print(type(spot))\n",
        "print(\"--------\")\n",
        "\n",
        "print(fido.name)\n",
        "fido.bark()\n",
        "print(type(fido))"
      ],
      "metadata": {
        "colab": {
          "base_uri": "https://localhost:8080/"
        },
        "id": "c-ZfenwBiTLw",
        "outputId": "8375b507-1436-4485-d55c-1d40d951715d"
      },
      "execution_count": 44,
      "outputs": [
        {
          "output_type": "stream",
          "name": "stdout",
          "text": [
            "Spot\n",
            "Spot says woof!\n",
            "<class '__main__.Dog'>\n",
            "--------\n",
            "Fido\n",
            "Fido says woof!\n",
            "<class '__main__.Dog'>\n"
          ]
        }
      ]
    },
    {
      "cell_type": "markdown",
      "source": [
        "**Key Points**\n",
        "\n",
        "- **Each object is independent**\n",
        "\n",
        "  For example, `small_circle` and `big_circle` are two different instances of the `Circle` class, each with their own `radius` and `area`.\n",
        "\n",
        "- **Shared functionality, unique data**\n",
        "\n",
        "  Objects of the same class share methods (like `bark` for `Dog`), but their data (like `name` or `radius`) can differ.\n",
        "\n",
        "- **Type Identification**\n",
        "\n",
        "  Using `type()`, you can confirm the class to which an object belongs.\n",
        "  "
      ],
      "metadata": {
        "id": "H2fgS4hI4Nkt"
      }
    },
    {
      "cell_type": "markdown",
      "source": [
        "## **Attributes and Methods**\n",
        "\n",
        "**Attributes** store data, while **methods** define behavior in a class. Together, they provide the interface for interacting with an object.\n",
        "\n",
        "- **Attributes:** Represent the data associated with the class. They are essentially variables encapsulated within the class.\n",
        "\n",
        "- **Methods:** Represent functions tied to the class. Unlike regular functions, methods can only be used with instances of the class they belong to.\n"
      ],
      "metadata": {
        "id": "4AzmBqOAF8lm"
      }
    },
    {
      "cell_type": "code",
      "source": [
        "class Company:\n",
        "  def __init__(self, name: str, industry: str):  # Method\n",
        "    # Instance Attributes\n",
        "    self.name = name\n",
        "    self.industry = industry\n",
        "    self.num_employees = 0\n",
        "    self.employees = []\n",
        "\n",
        "  def add_employee(self, employee_name: str):  # Method\n",
        "    self.employees.append(employee_name)\n",
        "    self.num_employees += 1\n",
        "\n",
        "  def describe(self):  # Method\n",
        "    print(f\"{self.name} is an {self.industry} company with {self.num_employees} employees.\")"
      ],
      "metadata": {
        "id": "BXomQM1_qZwu"
      },
      "execution_count": 10,
      "outputs": []
    },
    {
      "cell_type": "markdown",
      "source": [
        "### **The `self` Parameter**\n",
        "\n",
        "The `self` parameter is a critical part of instance methods in Python. It refers to the specific instance of the class that is being used.\n",
        "\n",
        "- **Represents the Instance:** When you call an instance method, Python automatically passes the instance itself as the first argument to the method. The `self` parameter is what lets you access and modify attributes and methods tied to that particular instance.\n",
        "\n",
        "- **Required in Instance Methods:** By convention, `self` is always the first parameter of an instance method. It must be explicitly included in the method definition, even though you don't pass it explicitly when calling the method.\n",
        "\n",
        "- **Access Instance-Specific Data:** With `self`, you can refer to instance-specific attributes and methods. Without it, the method wouldn't know which instance's data to work on. If a variable is created in a method without using self (e.g., `var` instead of `self.var`), it is just a local variable for that method and cannot be accessed by the class or other methods.\n",
        "\n",
        "- **Self is Not a Keyword:** Although we use the word `self` by convention, you can name it anything (e.g., `this` or `obj`). However, using `self` is the widely accepted standard in Python.\n"
      ],
      "metadata": {
        "id": "h9UUh7af-9Wr"
      }
    },
    {
      "cell_type": "code",
      "source": [
        "class Cat:\n",
        "  def __init__(self, name):\n",
        "    self.name = name  # Using self to define an instance-specific attribute\n",
        "\n",
        "  def meow(self):\n",
        "    call = \"Meow\"  # local variable\n",
        "    print(f\"{self.name} says {call}!\")  # Accessing the instance's attribute name using self\n",
        "\n",
        "  def meow_twice(self):\n",
        "    self.meow()  # Calling the instance method meow()\n",
        "    self.meow()\n",
        "\n",
        "  def demo_error(self):\n",
        "    try:\n",
        "      print(call)  # Cannot access variable call that is local to the meow method\n",
        "    except NameError as e:\n",
        "      print(e)"
      ],
      "metadata": {
        "id": "_6knRr84qBm8"
      },
      "execution_count": 14,
      "outputs": []
    },
    {
      "cell_type": "markdown",
      "source": [
        "Now, if we create two `Cat` instances, each instance has its own `name` attribute, and the `self` parameter ensures that `meow()` works with the correct instance.\n"
      ],
      "metadata": {
        "id": "7JtxnJibrIfS"
      }
    },
    {
      "cell_type": "code",
      "source": [
        "cat1 = Cat(\"Mittens\")\n",
        "cat2 = Cat(\"Garfield\")\n",
        "\n",
        "cat1.meow()\n",
        "cat1.meow_twice()\n",
        "cat1.demo_error()\n",
        "print(\"----------\")\n",
        "\n",
        "cat2.meow()\n",
        "cat2.meow_twice()\n",
        "cat2.demo_error()"
      ],
      "metadata": {
        "colab": {
          "base_uri": "https://localhost:8080/"
        },
        "id": "Zq8C5FkFrI2Q",
        "outputId": "015588a6-3a3a-45bd-fff7-f6ef06249f02"
      },
      "execution_count": 43,
      "outputs": [
        {
          "output_type": "stream",
          "name": "stdout",
          "text": [
            "Mittens says Meow!\n",
            "Mittens says Meow!\n",
            "Mittens says Meow!\n",
            "name 'call' is not defined\n",
            "----------\n",
            "Garfield says Meow!\n",
            "Garfield says Meow!\n",
            "Garfield says Meow!\n",
            "name 'call' is not defined\n"
          ]
        }
      ]
    },
    {
      "cell_type": "markdown",
      "source": [
        "### **Special Methods & Attributes**\n",
        "\n",
        "Python provides several special methods and attributes (sometimes called \"**magic**\" or \"**dunder**\" methods) that enable advanced functionality and customization for your classes. These methods often start and end with double underscores (`__`) and are used internally by Python, but you can override them to define your class's behavior.\n",
        "\n",
        "<br>\n",
        "\n",
        "We'll focus on two essential **special methods/attributes** that you'll encounter frequently:\n",
        "\n",
        "- **`__init__`**\n",
        "\n",
        "  - **Purpose:** Initializes an instance of a class. It is called automatically when an object is created. It acts as the ***constructor*** of the class.\n",
        "\n",
        "  - **Usage:** Typically used to set up instance attributes. We'll rely on this throughout this class to define and initialize object properties.\n",
        "\n",
        "- **`__dict__`**\n",
        "\n",
        "  - **Purpose:** A special attribute that stores the object's writable attributes as key-value pairs in a dictionary.\n",
        "\n",
        "  - **Usage:** Useful for inspecting or modifying an object's attributes dynamically. It provides a snapshot of an object's current state.\n",
        "\n",
        "> 📒 **Note:** We'll explore additional dunder methods in the next class!\n",
        "\n",
        "<br>\n",
        "\n",
        "Let's look at an example using the `Company` class we created above:\n"
      ],
      "metadata": {
        "id": "GMP_yJmZDoWH"
      }
    },
    {
      "cell_type": "code",
      "source": [
        "# Create an instance of the Company class\n",
        "meta = Company(\"Meta\", \"technology\")\n",
        "print(meta.__dict__)\n",
        "\n",
        "# Add employees dynamically\n",
        "meta.add_employee(\"Mark Zuckerberg\")\n",
        "meta.add_employee(\"Yan Lecun\")\n",
        "print(meta.__dict__)"
      ],
      "metadata": {
        "colab": {
          "base_uri": "https://localhost:8080/"
        },
        "id": "145zgkBJI38A",
        "outputId": "a22e6a1c-2176-4a59-e2c4-f2830caf45c9"
      },
      "execution_count": 17,
      "outputs": [
        {
          "output_type": "stream",
          "name": "stdout",
          "text": [
            "{'name': 'Meta', 'industry': 'technology', 'num_employees': 0, 'employees': []}\n",
            "{'name': 'Meta', 'industry': 'technology', 'num_employees': 2, 'employees': ['Mark Zuckerberg', 'Yan Lecun']}\n"
          ]
        }
      ]
    },
    {
      "cell_type": "markdown",
      "source": [
        "### **The `.` Notation**\n",
        "\n",
        "The `.` notation is used to access attributes and methods of a class or object. It acts as a connector between an object (or class) and its associated data or behavior.\n"
      ],
      "metadata": {
        "id": "z_-HHlIC6YP8"
      }
    },
    {
      "cell_type": "code",
      "source": [
        "nypl = Company(\"The New York Public Library\", \"government\")\n",
        "\n",
        "# ------ Accessing Instance Attributes ------\n",
        "print(nypl.name)\n",
        "print(nypl.industry)\n",
        "\n",
        "# ------ Modify Instance Attributes ------\n",
        "nypl.industry = \"library\"\n",
        "print(nypl.industry)\n",
        "\n",
        "# ------ Calling Methods ------\n",
        "nypl.add_employee(\"Bob\")\n",
        "nypl.add_employee(\"Jennifer\")\n",
        "nypl.describe()"
      ],
      "metadata": {
        "colab": {
          "base_uri": "https://localhost:8080/"
        },
        "id": "Y5qHSv756hKI",
        "outputId": "aa0bc18f-50b2-4975-a21d-1473fe07bf15"
      },
      "execution_count": 18,
      "outputs": [
        {
          "output_type": "stream",
          "name": "stdout",
          "text": [
            "The New York Public Library\n",
            "government\n",
            "library\n",
            "The New York Public Library is an library company with 2 employees.\n"
          ]
        }
      ]
    },
    {
      "cell_type": "code",
      "source": [
        "penguin_publishing = Company(\"Penguin Random House\", \"publishing\")\n",
        "\n",
        "names = [\"Bob\", \"Jennifer\", \"Tom\", \"Alice\", \"Emma\", \"Noah\", \"Ava\", \"Emily\", \"Sophia\", \"Jack\"]\n",
        "for name in names:\n",
        "  penguin_publishing.add_employee(name)\n",
        "\n",
        "penguin_publishing.describe()\n",
        "penguin_publishing.employees"
      ],
      "metadata": {
        "colab": {
          "base_uri": "https://localhost:8080/"
        },
        "id": "qzHOpujA77UK",
        "outputId": "36663d2d-0200-4394-de86-a03d4bbd1993"
      },
      "execution_count": 19,
      "outputs": [
        {
          "output_type": "stream",
          "name": "stdout",
          "text": [
            "Penguin Random House is an publishing company with 10 employees.\n"
          ]
        },
        {
          "output_type": "execute_result",
          "data": {
            "text/plain": [
              "['Bob',\n",
              " 'Jennifer',\n",
              " 'Tom',\n",
              " 'Alice',\n",
              " 'Emma',\n",
              " 'Noah',\n",
              " 'Ava',\n",
              " 'Emily',\n",
              " 'Sophia',\n",
              " 'Jack']"
            ]
          },
          "metadata": {},
          "execution_count": 19
        }
      ]
    },
    {
      "cell_type": "markdown",
      "source": [
        "**Key Points**\n",
        "\n",
        "- **Clarity:** The `<class>.<attribute>` and `<class>.<method>` syntax explicitly shows the relationship between an object and its attributes or methods.\n",
        "\n",
        "- **Organization:** Keeps code clean and modular by associating behavior and data with the object they belong to.\n",
        "\n",
        "- **Encapsulation:** Compared to regulare variables and functions, classes ensure that only the object's attributes or methods can be accessed directly, enforcing controlled access to the data.\n",
        "\n",
        "<br>\n",
        "\n",
        "> 🚨 **Warning:**\n",
        ">\n",
        "> - Attributes and methods that do not exist in the class definition can be dynamically added to an object after it has been created.\n",
        "> - While this feature provides flexibility, it can lead to inconsistent behavior, harder-to-maintain code, and unexpected bugs if not managed carefully.\n"
      ],
      "metadata": {
        "id": "AZAgpaM87PSn"
      }
    },
    {
      "cell_type": "code",
      "source": [
        "sunshine_media = Company(\"Sunshine Media\", \"film\")\n",
        "\n",
        "# Dynamically added attribute and method\n",
        "sunshine_media.favorite_food = \"Apple Pie\"\n",
        "sunshine_media.happy = lambda: print(f\"Yay! {sunshine_media.favorite_food} :)\")\n",
        "\n",
        "print(sunshine_media.happy())\n",
        "print(sunshine_media.__dict__)"
      ],
      "metadata": {
        "colab": {
          "base_uri": "https://localhost:8080/"
        },
        "id": "1-1rXqIDCUMW",
        "outputId": "6fe46cec-87ae-4e39-8366-fe33ff6f5e98"
      },
      "execution_count": 42,
      "outputs": [
        {
          "output_type": "stream",
          "name": "stdout",
          "text": [
            "Yay! Apple Pie :)\n",
            "None\n",
            "{'name': 'Sunshine Media', 'industry': 'film', 'num_employees': 0, 'employees': [], 'favorite_food': 'Apple Pie', 'happy': <function <lambda> at 0x7f6d881dc900>}\n"
          ]
        }
      ]
    },
    {
      "cell_type": "markdown",
      "source": [
        "> 📒 **Best Practice**\n",
        ">\n",
        "> Avoid dynamically adding attributes or methods unless absolutely necessary. Instead, define all necessary attributes and methods within the class itself to ensure consistency and maintainability.\n"
      ],
      "metadata": {
        "id": "ol73thKYDUpg"
      }
    },
    {
      "cell_type": "markdown",
      "source": [
        "### **Instance vs Class Attributes**\n",
        "\n",
        "In Object-Oriented Programming, attributes can belong either to individual **objects** *(instances)* or to the **class** as a whole.\n",
        "\n",
        "- **Instance Attributes**\n",
        "\n",
        "  - Instance attributes are attributes specific to each instance of the class.\n",
        "  - Each object maintains its own copy, so *changes to one object's instance attribute won't affect others*.\n",
        "  - Instance attributes are typically set in the `__init__()` method and are defined using the `self` keyword to associate them with the current instance.\n",
        "\n",
        "- **Class Attributes**\n",
        "\n",
        "  - Class attributes are shared across all instances of the class.\n",
        "  - They are defined directly within the class body, outside of any methods.\n",
        "  - ***If the class attribute is modified at the class level, the change affects all instances. However, if an instance modifies the class attribute, it creates a separate instance attribute, leaving the class attribute and other instances unchanged.***\n"
      ],
      "metadata": {
        "id": "Y3LGKALK_WB4"
      }
    },
    {
      "cell_type": "code",
      "source": [
        "class Student:\n",
        "  school_name = \"Python Academy\"  # Class attribute (shared by all instances)\n",
        "\n",
        "  def __init__(self, name):\n",
        "    self.name = name            # Instance attribute (unique to each instance)\n",
        "    self.grades = []\n",
        "\n",
        "# Using class and instance attributes\n",
        "student1 = Student(\"Wang\")\n",
        "student2 = Student(\"Timothee\")\n",
        "student3 = Student(\"Barbra\")\n",
        "\n",
        "print(f\"Student Name: {student1.name}\")\n",
        "print(f\"School Name: {student1.school_name}\")\n",
        "print(\"--------\")\n",
        "\n",
        "print(f\"Student Name: {student2.name}\")\n",
        "print(f\"School Name: {student2.school_name}\")\n",
        "print(\"--------\")\n",
        "\n",
        "print(f\"Student Name: {student3.name}\")\n",
        "print(f\"School Name: {student3.school_name}\")"
      ],
      "metadata": {
        "colab": {
          "base_uri": "https://localhost:8080/"
        },
        "id": "KkaeCy1Z_sG-",
        "outputId": "8910c017-422e-4bff-dcba-bc8d44d21190"
      },
      "execution_count": 36,
      "outputs": [
        {
          "output_type": "stream",
          "name": "stdout",
          "text": [
            "Student Name: Wang\n",
            "School Name: Python Academy\n",
            "--------\n",
            "Student Name: Timothee\n",
            "School Name: Python Academy\n",
            "--------\n",
            "Student Name: Barbra\n",
            "School Name: Python Academy\n"
          ]
        }
      ]
    },
    {
      "cell_type": "markdown",
      "source": [
        "**Changing a Class Attribute via the Class**\n",
        "\n",
        "If you modify the value of a class attribute using the class itself, it will affect all instances that haven't ***shadowed*** the attribute.\n",
        "\n",
        "> 📒 **Note:**\n",
        ">\n",
        "> **Attribute shadowing** occurs when an instance attribute has the same name as a class attribute. When this happens, the instance attribute _\"shadows\"_ or _\"masks\"_ the class attribute, meaning that accessing the attribute through an instance will return the instance attribute's value instead of the class attribute's value.\n"
      ],
      "metadata": {
        "id": "MHr8nyXP_8D0"
      }
    },
    {
      "cell_type": "code",
      "source": [
        "student1.school_name = \"New School\"  # Dynamically added a new school_name instance attribute -> Shadows the class attribute with the same name\n",
        "print(student1.school_name)\n",
        "print(student2.school_name)\n",
        "print(student3.school_name)\n",
        "print(\"--------\")\n",
        "\n",
        "print(student1.__dict__)  # Contains attributes that does not exist in class definition\n",
        "print(student2.__dict__)\n",
        "print(student3.__dict__)\n",
        "print(\"--------\")\n",
        "\n",
        "# Modification at the Class Level\n",
        "Student.school_name = \"Newer School\"\n",
        "print(student1.school_name)  # class attribute also changed, but we cannot tell since it is being shadowed be an instance attribute with the same name\n",
        "print(student2.school_name)\n",
        "print(student3.school_name)"
      ],
      "metadata": {
        "colab": {
          "base_uri": "https://localhost:8080/"
        },
        "id": "ly0hFXpGAo5C",
        "outputId": "d8cd7f69-dd7f-40af-bd0d-8decda9b8a15"
      },
      "execution_count": 24,
      "outputs": [
        {
          "output_type": "stream",
          "name": "stdout",
          "text": [
            "New School\n",
            "Python Academy\n",
            "Python Academy\n",
            "--------\n",
            "{'name': 'Wang', 'grades': [], 'school_name': 'New School'}\n",
            "{'name': 'Timothee', 'grades': []}\n",
            "{'name': 'Barbra', 'grades': []}\n",
            "--------\n",
            "New School\n",
            "Newer School\n",
            "Newer School\n"
          ]
        }
      ]
    },
    {
      "cell_type": "markdown",
      "source": [
        "### **Property Decorators**\n",
        "\n",
        "In Python, property decorators allow you to manage attribute access and modify how attributes are set, retrieved, or deleted. The main benefit of using property decorators is that they provide a clean, Pythonic way to define getter, setter, and deleter methods while keeping the syntax simple and intuitive.\n",
        "\n",
        "- **Getter (`@property`)**\n",
        "\n",
        "  - A getter is a method that retrieves the value of an attribute.\n",
        "  - The `@property` decorator is used to define a method as a getter.\n",
        "  - This method allows you to access the attribute directly, without needing to call it as a method.\n",
        "  - ❗ If only the getter is used for a property and not the setter or deleter, the the property is **read-only**.\n",
        "\n",
        "- **Setter (`@<property_name>.setter`)**\n",
        "\n",
        "  - A setter is a method that allows you to set or modify the value of an attribute.\n",
        "  - By using the `@<property_name>.setter` decorator, you can add validation or custom logic when setting the value of an attribute.\n",
        "\n",
        "- **Deleter (`@<property_name>.deleter`)**\n",
        "\n",
        "  - A deleter is a method that defines what happens when an attribute is deleted using the `del` keyword.\n",
        "  - You can use the `@<property_name>.deleter` decorator to control how the attribute is removed from the object.\n"
      ],
      "metadata": {
        "id": "tKdL9uEKF3_O"
      }
    },
    {
      "cell_type": "code",
      "source": [
        "class Sphere:\n",
        "  def __init__(self, radius: float):\n",
        "    self._radius = radius  # Protected attribute with a single underscore prefix\n",
        "\n",
        "  # getter for _radius attribute\n",
        "  @property\n",
        "  def radius(self) -> float:\n",
        "    return self._radius\n",
        "\n",
        "  # setter for _radius with custom logic\n",
        "  @radius.setter\n",
        "  def radius(self, new_radius: float):\n",
        "    if new_radius > 0:\n",
        "      self._radius = new_radius\n",
        "    else:\n",
        "      raise ValueError(\"Radius must be positive\")\n",
        "\n",
        "  @radius.deleter\n",
        "  def radius(self):\n",
        "    del self._radius\n",
        "\n",
        "  # volume is dynamically calculated using the radius. Which means, it will update everytime the radius changes\n",
        "  @property\n",
        "  def volume(self) -> float:\n",
        "    return round((4/3) * 3.14 * (self._radius ** 3), 2)\n",
        "\n",
        "  # surface area is also dynamically calculated\n",
        "  @property\n",
        "  def surface_area(self) -> float:\n",
        "    return round(4 * 3.14 * (self._radius ** 2), 2)"
      ],
      "metadata": {
        "id": "-i0zwy5TMIoV"
      },
      "execution_count": 32,
      "outputs": []
    },
    {
      "cell_type": "markdown",
      "source": [
        "💡 Because properties are essentially methods that allow you to use them as if they were attributes, the `volume` and `surface_area` properties are dynamically recalculated every time the `_radius` attribute is updated. This ensures that these derived values always stay in sync with the current state of the object.\n"
      ],
      "metadata": {
        "id": "7hhqf1vB0UCP"
      }
    },
    {
      "cell_type": "code",
      "source": [
        "sphere = Sphere(10)\n",
        "print(f\"Radius: {sphere.radius}\")\n",
        "print(f\"Volume: {sphere.volume}\")\n",
        "print(f\"Surface Area: {sphere.surface_area}\")\n",
        "\n",
        "print(\"--------\")\n",
        "\n",
        "sphere.radius = 20\n",
        "print(f\"Radius: {sphere.radius}\")\n",
        "print(f\"Volume: {sphere.volume}\")\n",
        "print(f\"Surface Area: {sphere.surface_area}\")\n",
        "\n",
        "# Deleting the property\n",
        "del sphere.radius"
      ],
      "metadata": {
        "colab": {
          "base_uri": "https://localhost:8080/"
        },
        "id": "B6nE_VRbQqrG",
        "outputId": "d7d8c732-cbce-490c-9a1f-48b5bc9589fb"
      },
      "execution_count": 33,
      "outputs": [
        {
          "output_type": "stream",
          "name": "stdout",
          "text": [
            "Radius: 10\n",
            "Volume: 4186.67\n",
            "Surface Area: 1256.0\n",
            "--------\n",
            "Radius: 20\n",
            "Volume: 33493.33\n",
            "Surface Area: 5024.0\n"
          ]
        }
      ]
    },
    {
      "cell_type": "markdown",
      "source": [
        "## **Encapsulation & Access Modifiers**\n",
        "\n",
        "**Encapsulation** is a fundamental concept in object-oriented programming (OOP) that combines data (**attributes**) and behavior (**methods**) into a single unit (**class**).\n",
        "\n",
        "It ensures an object's internal state is protected by restricting direct access and providing controlled ways to interact with its data. This is achieved through **access modifiers**, which define the visibility and accessibility of a class's attributes and methods.\n",
        "\n",
        "<br>\n",
        "\n",
        "**Why Encapsulation?**\n",
        "\n",
        "- **Data Protection**\n",
        "\n",
        "  Encapsulation ensures that internal object state cannot be altered in unexpected or harmful ways. It enforces controlled access through well-defined interfaces *(methods)*.\n",
        "\n",
        "- **Improved Maintainability**\n",
        "\n",
        "  The ability to change the internal implementation of a class (e.g., how data is stored or processed) without affecting the external code that uses the class makes it easier to maintain and extend.\n",
        "\n",
        "- **Abstraction**\n",
        "\n",
        "  Encapsulation hides the internal workings of a class from the user, exposing only the necessary functionality through public methods. This reduces complexity for the user.\n"
      ],
      "metadata": {
        "id": "B4diOn6q9fQP"
      }
    },
    {
      "cell_type": "markdown",
      "source": [
        "### **Access Modifiers**\n",
        "\n",
        "In OOP, there are three main types of access modifiers that control the visibility and accessibility of attributes and methods.\n"
      ],
      "metadata": {
        "id": "fdiqe7YkBjc3"
      }
    },
    {
      "cell_type": "markdown",
      "source": [
        "#### **1. Public**\n",
        "\n",
        "Public attributes and methods are accessible from anywhere, both inside and outside the class.\n",
        "\n",
        "> 💡 Use public access for data and methods that should be freely accessible to the outside world.\n"
      ],
      "metadata": {
        "id": "O4bu12i4BsuH"
      }
    },
    {
      "cell_type": "code",
      "source": [
        "class Car:\n",
        "  def __init__(self, make: str, model: str):\n",
        "    # Public Attributes\n",
        "    self.make = make\n",
        "    self.model = model\n",
        "\n",
        "  # Public Method\n",
        "  def display_info(self):\n",
        "    print(f\"Car: {self.make}; Model: {self.model}\")\n",
        "\n",
        "car = Car(\"Toyota\", \"Camry\")\n",
        "\n",
        "# ------ Accessible Anywhere ------\n",
        "car.display_info()\n",
        "print(car.make)\n",
        "print(car.model)"
      ],
      "metadata": {
        "colab": {
          "base_uri": "https://localhost:8080/"
        },
        "id": "bfmK-Q1BCC4f",
        "outputId": "0cdea74b-bf16-4678-9ffb-11458dd20d4f"
      },
      "execution_count": 47,
      "outputs": [
        {
          "output_type": "stream",
          "name": "stdout",
          "text": [
            "Car: Toyota; Model: Camry\n",
            "Toyota\n",
            "Camry\n"
          ]
        }
      ]
    },
    {
      "cell_type": "markdown",
      "source": [
        "#### **2. Protected**\n",
        "\n",
        "Protected attributes and methods are intended to be accessed only **within** the class or its subclasses. In Python, a ***single underscore*** (`_`) prefix is used as a convention to indicate protected members.\n",
        "\n",
        "> 🚨 While not strictly enforced by the language *(meaning you can still access it)*, this indicates that the attribute or method **should not** be accessed directly outside the class.\n"
      ],
      "metadata": {
        "id": "y2hFOJwpB8HG"
      }
    },
    {
      "cell_type": "code",
      "source": [
        "class Weather:\n",
        "  def __init__(self, weather: str, *, celcius: float | None = None, fahrenheit: float | None = None, kelvin: float | None = None):\n",
        "    # Check if one and only one of the temperature units is provided\n",
        "    if not celcius and not fahrenheit and not kelvin:\n",
        "      raise ValueError(\"At least one temperature unit must be provided\")\n",
        "    elif bool(celcius) + bool(fahrenheit) + bool(kelvin) > 1:\n",
        "      raise ValueError(\"Only one temperature unit can be provided\")\n",
        "\n",
        "    # Public Attribute\n",
        "    self.weather = weather\n",
        "\n",
        "    # Calling protected methods to convert units\n",
        "    if celcius:\n",
        "      self.celcius = celcius\n",
        "      self.fahrenheit = self._c_to_f(celcius)\n",
        "      self.kelvin = self._c_to_k(celcius)\n",
        "    if fahrenheit:\n",
        "      self.fahrenheit = fahrenheit\n",
        "      self.celcius = self._f_to_c(fahrenheit)\n",
        "      self.kelvin = self._f_to_k(fahrenheit)\n",
        "    if kelvin:\n",
        "      self.kelvin = kelvin\n",
        "      self.celcius = self._k_to_c(kelvin)\n",
        "      self.fahrenheit = self._k_to_f(kelvin)\n",
        "\n",
        "  # Protected Method\n",
        "  def _c_to_f(self, celcius: float) -> float:\n",
        "    return (celcius * 9/5) + 32\n",
        "\n",
        "  # Protected Method\n",
        "  def _f_to_c(self, fahrenheit) -> float:\n",
        "    return (fahrenheit - 32) * 5/9\n",
        "\n",
        "  # Protected Method\n",
        "  def _c_to_k(self, celcius: float) -> float:\n",
        "    return celcius + 273.15\n",
        "\n",
        "  # Protected Method\n",
        "  def _f_to_k(self, fahrenheit: float) -> float:\n",
        "    return self._c_to_k(self._f_to_c(fahrenheit))\n",
        "\n",
        "  # Protected Method\n",
        "  def _k_to_c(self, kelvin: float) -> float:\n",
        "    return kelvin - 273.15\n",
        "\n",
        "  # Protected Method\n",
        "  def _k_to_f(self, kelvin: float) -> float:\n",
        "    return self._c_to_f(self._k_to_c(kelvin))"
      ],
      "metadata": {
        "id": "DI8zD0edChqh"
      },
      "execution_count": 69,
      "outputs": []
    },
    {
      "cell_type": "code",
      "source": [
        "weather_today = Weather(\"Sunny\", celcius=25.0)\n",
        "\n",
        "print(f\"Weather: {weather_today.weather}\")\n",
        "print(f\"Celcius: {weather_today.celcius} °C\")\n",
        "print(f\"Fahrenheit: {weather_today.fahrenheit} °F\")\n",
        "print(f\"Kelvin: {weather_today.kelvin} °K\")\n",
        "print(\"--------\")\n",
        "\n",
        "# Protected attributes and methods are still accessible, but not it indicates that they are not intended to be accessed directly\n",
        "print(weather_today._c_to_f(25.0))\n",
        "print(weather_today._c_to_k(25.0))"
      ],
      "metadata": {
        "colab": {
          "base_uri": "https://localhost:8080/"
        },
        "id": "BbaXnibHFB4P",
        "outputId": "a5164ce3-4e6f-4495-98a5-c7b731d872d9"
      },
      "execution_count": 73,
      "outputs": [
        {
          "output_type": "stream",
          "name": "stdout",
          "text": [
            "Weather: Sunny\n",
            "Celcius: 25.0 °C\n",
            "Fahrenheit: 77.0 °F\n",
            "Kelvin: 298.15 °K\n",
            "--------\n",
            "77.0\n",
            "298.15\n"
          ]
        }
      ]
    },
    {
      "cell_type": "markdown",
      "source": [
        "#### **3. Private**\n",
        "\n",
        "Private attributes and methods are designed to be **hidden** from direct access outside the class. In Python, a ***double underscore*** (`__`) prefix is used to mark them as private.\n",
        "\n",
        "> 💡 Python uses **name-mangling** to make these members less accessible from outside the class. While not truly inaccessible, you can still access private attributes or methods using the syntax `_ClassName__AttributeName` or `_ClassName__MethodName`.\n"
      ],
      "metadata": {
        "id": "AoCsMH-rCiAE"
      }
    },
    {
      "cell_type": "code",
      "source": [
        "from datetime import datetime\n",
        "\n",
        "class PersonID:\n",
        "  def __init__(self, firstname: str, lastname: str, birthday: datetime, ssn: int):\n",
        "    # Public Attributes\n",
        "    self.fullname = f\"{firstname} {lastname}\"\n",
        "\n",
        "    # Private Attributes\n",
        "    self.__b = birthday\n",
        "    if len(str(ssn)) == 9:\n",
        "      self.__ssn = ssn\n",
        "    else:\n",
        "      raise ValueError(\"Invalid SSN\")\n",
        "\n",
        "  # Use properties to get private attributes if you still need a way to access it from outside of the class\n",
        "  @property\n",
        "  def birthday(self) -> datetime:\n",
        "    return self.__b\n",
        "\n",
        "  @birthday.setter\n",
        "  def birthday(self, new_birthday: datetime):\n",
        "    self.__b = new_birthday\n",
        "\n",
        "  @property\n",
        "  def age(self) -> int:\n",
        "    return self._calculate_age()\n",
        "\n",
        "  # Public Method\n",
        "  def display_info(self):\n",
        "    print(f\"Name: {self.fullname}\")\n",
        "    print(f\"Birthday: {self.birthday}\")\n",
        "    print(f\"Age: {self._calculate_age()}\")\n",
        "\n",
        "  # Protected Method\n",
        "  def _calculate_age(self):\n",
        "    today = datetime.today()\n",
        "    return today.year - self.birthday.year\n",
        "\n",
        "  # Private Method\n",
        "  def __display_ssn(self):\n",
        "    print(f\"SSN: {'-'.join([str(self.__ssn)[i:i+3] for i in range(0, len(str(self.__ssn)), 3)])}\")"
      ],
      "metadata": {
        "id": "9giiypxSIEwE"
      },
      "execution_count": 77,
      "outputs": []
    },
    {
      "cell_type": "code",
      "source": [
        "bob_id = PersonID(firstname=\"Bob\", lastname=\"Bobberston\", birthday=datetime(1990, 1, 1, 22, 38, 40), ssn=123456789)\n",
        "bob_id.display_info()"
      ],
      "metadata": {
        "colab": {
          "base_uri": "https://localhost:8080/"
        },
        "id": "AqUjHPKeISNT",
        "outputId": "b5301323-25cd-478b-f997-d5b4a50ba57d"
      },
      "execution_count": 76,
      "outputs": [
        {
          "output_type": "stream",
          "name": "stdout",
          "text": [
            "Name: Bob Bobberston\n",
            "Birthday: 1990-01-01 22:38:40\n",
            "Age: 35\n"
          ]
        }
      ]
    },
    {
      "cell_type": "code",
      "source": [
        "# Cannot access private method or attribute directly due to name mangling\n",
        "print(bob_id.__ssn)\n",
        "# print(bob_id.__display_ssn())"
      ],
      "metadata": {
        "colab": {
          "base_uri": "https://localhost:8080/",
          "height": 176
        },
        "id": "QMrWD1IJI25G",
        "outputId": "163d06dd-a218-4d62-9308-3b2c00702b51"
      },
      "execution_count": 79,
      "outputs": [
        {
          "output_type": "error",
          "ename": "AttributeError",
          "evalue": "'PersonID' object has no attribute '__ssn'",
          "traceback": [
            "\u001b[0;31m---------------------------------------------------------------------------\u001b[0m",
            "\u001b[0;31mAttributeError\u001b[0m                            Traceback (most recent call last)",
            "\u001b[0;32m<ipython-input-79-2ddcff78920e>\u001b[0m in \u001b[0;36m<cell line: 0>\u001b[0;34m()\u001b[0m\n\u001b[1;32m      1\u001b[0m \u001b[0;31m# Cannot access private method or attribute directly due to name mangling\u001b[0m\u001b[0;34m\u001b[0m\u001b[0;34m\u001b[0m\u001b[0m\n\u001b[0;32m----> 2\u001b[0;31m \u001b[0mprint\u001b[0m\u001b[0;34m(\u001b[0m\u001b[0mbob_id\u001b[0m\u001b[0;34m.\u001b[0m\u001b[0m__ssn\u001b[0m\u001b[0;34m)\u001b[0m\u001b[0;34m\u001b[0m\u001b[0;34m\u001b[0m\u001b[0m\n\u001b[0m\u001b[1;32m      3\u001b[0m \u001b[0;31m# print(bob_id.__display_ssn())\u001b[0m\u001b[0;34m\u001b[0m\u001b[0;34m\u001b[0m\u001b[0m\n",
            "\u001b[0;31mAttributeError\u001b[0m: 'PersonID' object has no attribute '__ssn'"
          ]
        }
      ]
    },
    {
      "cell_type": "code",
      "source": [
        "# Though you can technically still access them using special syntax\n",
        "print(bob_id._PersonID__b)\n",
        "bob_id._PersonID__display_ssn()"
      ],
      "metadata": {
        "colab": {
          "base_uri": "https://localhost:8080/"
        },
        "id": "WbhaorFyJPxb",
        "outputId": "3fed66a5-8823-40f1-8096-4abe048f6bf0"
      },
      "execution_count": 82,
      "outputs": [
        {
          "output_type": "stream",
          "name": "stdout",
          "text": [
            "1990-01-01 22:38:40\n",
            "SSN: 123-456-789\n"
          ]
        }
      ]
    },
    {
      "cell_type": "markdown",
      "source": [
        "## **Final Example: Anonymous Survey**\n",
        "\n",
        "Now let's bring together what we've learned in today's class with a practical example: *an Anonymous Survey System*.\n",
        "\n",
        "**Overview**\n",
        "\n",
        "1. Design a class to manage survey questions, responses, and metadata.\n",
        "2. Use encapsulation to hide implementation details while exposing meaningful methods.\n",
        "3. Validate and handle user input efficiently.\n"
      ],
      "metadata": {
        "id": "uoOOAzsPL46x"
      }
    },
    {
      "cell_type": "code",
      "source": [
        "from typing import NamedTuple, Any\n",
        "\n",
        "class AnonymousSurvey:\n",
        "  # Data structure to hold question and metadata\n",
        "  __Question = NamedTuple(\"Question\", [(\"index\", int), (\"question\", str), (\"type_val\", Any)])\n",
        "  __Response = NamedTuple(\"Response\", [(\"index\", int), (\"question\", str), (\"response\", Any)])\n",
        "\n",
        "  # Private Class Attributes\n",
        "  __company: str = \"NYPL Python Academy\"\n",
        "  __survey_name: str = \"Post Course Survey\"\n",
        "  __survey_researcher: str = \"Timmy Tippytoes\"\n",
        "  __survey_questions: tuple[__Question] = (\n",
        "      __Question(0, \"What is your name?\", str),\n",
        "      __Question(1, \"What is your age?\", int),\n",
        "      __Question(2, \"What country are you currently located at?\", str),\n",
        "      __Question(3, \"What is your annual income?\", float),\n",
        "      __Question(4, \"What language did you first learn to speak?\", str),\n",
        "      __Question(5, \"Why did you decide to learn Python?\", str),\n",
        "      __Question(6, \"From 0 to 10, how satisfied are you with the course? (0: extremely unsatisfied; 10: extremely satisfied)\", int),\n",
        "      __Question(7, \"Any feedback on the instructor?\", str),\n",
        "  )\n",
        "\n",
        "  def __init__(self):\n",
        "    self._raw_responses: list = []\n",
        "    self.__rspdt: str | None = None\n",
        "\n",
        "  # Properties for accessing metadata\n",
        "  @property\n",
        "  def company(self) -> str:\n",
        "    return self.__company\n",
        "\n",
        "  # Set a private instance attribute for specific instance only and not overwrite the entire class\n",
        "  @company.setter\n",
        "  def company(self, value: str):\n",
        "    self.__company = value\n",
        "\n",
        "  @property\n",
        "  def survey_name(self) -> str:\n",
        "    return self.__survey_name\n",
        "\n",
        "  # Set a private instance attribute for specific instance only and not overwrite the entire class\n",
        "  @survey_name.setter\n",
        "  def survey_name(self, new_survey_name: str):\n",
        "    self.__survey_name = new_survey_name\n",
        "\n",
        "  @property\n",
        "  def survey_researcher(self) -> str:\n",
        "    return self.__survey_researcher\n",
        "\n",
        "  # Set a private instance attribute for specific instance only and not overwrite the entire class\n",
        "  @survey_researcher.setter\n",
        "  def survey_researcher(self, fullname: str):\n",
        "    self.__survey_researcher = fullname\n",
        "\n",
        "  @property\n",
        "  def respondent(self) -> str:\n",
        "    if not self.__rspdt:\n",
        "      raise ValueError(\"Survey not answered. Run the start() method before accessing respondent.\")\n",
        "    return self.__rspdt\n",
        "\n",
        "  # Start the survey and record responses\n",
        "  def start(self):\n",
        "    q_idx = 0\n",
        "    while q_idx < len(self.__survey_questions):\n",
        "      q = self.__survey_questions[q_idx]\n",
        "      response = input(f\"{q.question}: \")\n",
        "\n",
        "      # Only advance to next question if current question has been validated\n",
        "      if self.__validate_response(q, response):\n",
        "        self._raw_responses.append(self.__Response(index=q_idx, question=q.question, response=q.type_val(response)))\n",
        "        if q_idx == 0:\n",
        "          self.__rspdt = response\n",
        "        q_idx += 1\n",
        "      else:\n",
        "        print(\"Invalid response. Please try again.\")\n",
        "\n",
        "  # Validate response\n",
        "  def __validate_response(self, question: __Question, response: Any) -> bool:\n",
        "    try:\n",
        "      match question.index:\n",
        "        case 1:  # age\n",
        "          return 0 < question.type_val(response)  # cast to int\n",
        "        case 3:  # annual income\n",
        "          return 0 <= question.type_val(response)  # cast to float\n",
        "        case 6:  # course rating\n",
        "          return 0 <= question.type_val(response) <= 10  # cast to int\n",
        "        case _:\n",
        "          return isinstance(question.type_val(response), question.type_val)\n",
        "    except ValueError as e:\n",
        "      return False\n",
        "\n",
        "  # Reset survey responses\n",
        "  def reset(self):\n",
        "    self._raw_responses = []\n",
        "    self.__rspdt = None\n",
        "\n",
        "  # Show survey questions\n",
        "  def show_questions(self):\n",
        "    print(\"======= Questions =======\")\n",
        "    for q in self.__survey_questions:\n",
        "      print(f\"{q.index}. {q.question}\")\n",
        "\n",
        "  # Show survey responses\n",
        "  def show_responses(self):\n",
        "    if not self._raw_responses:\n",
        "      raise ValueError(\"No responses have been recorded. Run the start() method before accessing responses.\")\n",
        "    print(\"======= Responses =======\")\n",
        "    for r in self._raw_responses:\n",
        "      print(f\"{r.index}. {r.question}:\\n\\t>> {r.response}\")\n",
        "\n",
        "  # Mock survey responses (for testing)\n",
        "  def __mock_survey(self):\n",
        "    self.__rspdt = \"Survey Tester 001\"\n",
        "    self._raw_responses = [\n",
        "      self.__Response(index=0, question=self.__survey_questions[0].question, response=\"Test Respondent 001\"),\n",
        "      self.__Response(index=1, question=self.__survey_questions[1].question, response=30),\n",
        "      self.__Response(index=2, question=self.__survey_questions[2].question, response=\"La La Land\"),\n",
        "      self.__Response(index=3, question=self.__survey_questions[3].question, response=10000.69),\n",
        "      self.__Response(index=4, question=self.__survey_questions[4].question, response=\"Korean\"),\n",
        "      self.__Response(index=5, question=self.__survey_questions[5].question, response=\"I really like snakes!\"),\n",
        "      self.__Response(index=6, question=self.__survey_questions[6].question, response=9),\n",
        "      self.__Response(index=7, question=self.__survey_questions[7].question, response=\"🐍🐍🫰🏼🫰🏼\"),\n",
        "    ]"
      ],
      "metadata": {
        "id": "U5Ra16EvOGrB"
      },
      "execution_count": 88,
      "outputs": []
    },
    {
      "cell_type": "markdown",
      "source": [
        "### **Explanation**\n",
        "\n",
        "1. **Encapsulation**\n",
        "\n",
        "  - The class uses private attributes like `__survey_questions` and `__rspdt` to hide implementation details from external access, ensuring that these variables are modified only through controlled methods.\n",
        "  \n",
        "  - Public methods like `start()`, `show_questions()`, and `show_responses()` provide a well-defined interface for interacting with the survey, keeping the underlying logic hidden.\n",
        "  \n",
        "  - This maintains data integrity and prevents unauthorized or accidental changes.\n",
        "\n",
        "2. **Input Validation**\n",
        "\n",
        "  - The private method `__validate_response()` ensures that each response matches the expected type and satisfies any additional constraints:\n",
        "\n",
        "    - For age, the response must be a positive number.\n",
        "    - For annual income, the response must be greater or equal to 0.\n",
        "    - For satisfaction ratings, the response must be an integer between 0 and 10.\n",
        "  \n",
        "  - By validating inputs before adding them to the responses, the class avoids runtime errors and maintains data consistency.\n",
        "\n",
        "3. **Properties for Controlled Access**\n",
        "\n",
        "  - Metadata like `company`, `survey_name`, and `survey_researcher` are accessible and modifiable through properties with getter and setter methods.\n",
        "\n",
        "  - This allows for controlled updates to these attributes while preventing direct modification of internal variables.\n",
        "\n",
        "4. **Dynamic and Flexible Question Handling**\n",
        "\n",
        "  - The `__survey_questions` attribute is a tuple of *named tuples*, making it easy to manage survey questions, their order, and expected types.\n",
        "\n",
        "  - Adding a new question requires only modifying the `__survey_questions` tuple without changing the rest of the class.\n",
        "\n",
        "5. **Mock Testing Capability**\n",
        "\n",
        "  - The `__mock_survey()` method provides a built-in way to populate the survey with predefined responses.\n",
        "\n",
        "  - This is especially useful for testing and debugging without having to manually input data every time.\n",
        "\n",
        "6. **Data Reset and Reusability**\n",
        "\n",
        "  - The `reset()` method clears all responses and reset the respondent, making the survey reusable for new participants.\n",
        "\n",
        "  - This supports multiple use cases, such as surveys conducted in a loop or across different sessions.\n",
        "\n",
        "7. **Error Handling**\n",
        "\n",
        "  - Attempts to access data before it is available (e.g., `responses` or `respondent`) raise descriptive errors so that users are guided to follow the correct sequence of operations.\n",
        "\n",
        "8. **Scalability and Extendability**\n",
        "\n",
        "  - The modular design makes it easy to extend the class.\n",
        "  - Adding new questions or question types is straightforward.\n",
        "  - Validation rules can be customized to handle more complex input formats.\n",
        "  - Additional methods can be implemented for even more operations (e.g., data export or analysis).\n",
        "\n",
        "10. **Enhanced User Interaction**\n",
        "  \n",
        "  - The `start()` method provides a user-friendly way to walk through the survey. It prompts users sequentially for each question, validates their input, and stores the responses.\n",
        "  \n",
        "  - Invalid inputs are rejected with clear feedback, encouraging users to retry until the input is valid.\n"
      ],
      "metadata": {
        "id": "43oKhZNOzWYc"
      }
    },
    {
      "cell_type": "code",
      "source": [
        "# ------ Start Survey ------\n",
        "my_survey = AnonymousSurvey()\n",
        "my_survey.start()\n",
        "\n",
        "print()\n",
        "print(my_survey.survey_name)\n",
        "print(\"-----------------------\")\n",
        "print(f\"Survey Company: {my_survey.company}\")\n",
        "print(f\"Survey Researcher: {my_survey.survey_researcher}\")\n",
        "print(f\"Respondent: {my_survey.respondent}\")\n",
        "print(\"-----------------------\")\n",
        "my_survey.show_questions()\n",
        "my_survey.show_responses()"
      ],
      "metadata": {
        "colab": {
          "base_uri": "https://localhost:8080/"
        },
        "id": "Ay97O9XNiOWi",
        "outputId": "d8021a5c-a2b8-4a6d-9f44-6118811cf842"
      },
      "execution_count": 89,
      "outputs": [
        {
          "output_type": "stream",
          "name": "stdout",
          "text": [
            "What is your name?: Nikola Tesla\n",
            "What is your age?: 169\n",
            "What country are you currently located at?: Heaven\n",
            "What is your annual income?: -200\n",
            "Invalid response. Please try again.\n",
            "What is your annual income?: 0\n",
            "What language did you first learn to speak?: Science\n",
            "Why did you decide to learn Python?: I was starving, a snake's gotta do\n",
            "From 0 to 10, how satisfied are you with the course? (0: extremely unsatisfied; 10: extremely satisfied): -100\n",
            "Invalid response. Please try again.\n",
            "From 0 to 10, how satisfied are you with the course? (0: extremely unsatisfied; 10: extremely satisfied): 0\n",
            "Any feedback on the instructor?: I came here for actual snakes not some pseudo English!\n",
            "\n",
            "Post Course Survey\n",
            "-----------------------\n",
            "Survey Company: NYPL Python Academy\n",
            "Survey Researcher: Timmy Tippytoes\n",
            "Respondent: Nikola Tesla\n",
            "-----------------------\n",
            "======= Questions =======\n",
            "0. What is your name?\n",
            "1. What is your age?\n",
            "2. What country are you currently located at?\n",
            "3. What is your annual income?\n",
            "4. What language did you first learn to speak?\n",
            "5. Why did you decide to learn Python?\n",
            "6. From 0 to 10, how satisfied are you with the course? (0: extremely unsatisfied; 10: extremely satisfied)\n",
            "7. Any feedback on the instructor?\n",
            "======= Responses =======\n",
            "0. What is your name?:\n",
            "\t>> Nikola Tesla\n",
            "1. What is your age?:\n",
            "\t>> 169\n",
            "2. What country are you currently located at?:\n",
            "\t>> Heaven\n",
            "3. What is your annual income?:\n",
            "\t>> 0.0\n",
            "4. What language did you first learn to speak?:\n",
            "\t>> Science\n",
            "5. Why did you decide to learn Python?:\n",
            "\t>> I was starving, a snake's gotta do\n",
            "6. From 0 to 10, how satisfied are you with the course? (0: extremely unsatisfied; 10: extremely satisfied):\n",
            "\t>> 0\n",
            "7. Any feedback on the instructor?:\n",
            "\t>> I came here for actual snakes not some pseudo English!\n"
          ]
        }
      ]
    },
    {
      "cell_type": "code",
      "source": [
        "# @title Unit Test for `AnonymousSurvey` Class\n",
        "test_survey = AnonymousSurvey()\n",
        "\n",
        "# Mock Survey for test\n",
        "test_survey._AnonymousSurvey__mock_survey()\n",
        "\n",
        "# Test show_questions & show_responses\n",
        "test_survey.show_questions()\n",
        "print()\n",
        "test_survey.show_responses()\n",
        "\n",
        "# Test Respondent\n",
        "assert test_survey.respondent == \"Survey Tester 001\"\n",
        "\n",
        "# Test attributes and properties\n",
        "assert test_survey.company == \"NYPL Python Academy\"\n",
        "assert test_survey.survey_name == \"Post Course Survey\"\n",
        "assert test_survey.survey_researcher == \"Timmy Tippytoes\"\n",
        "\n",
        "AnonymousSurvey.company = \"New Python Dojo\"\n",
        "AnonymousSurvey.survey_name = \"Test Bubbly Survey\"\n",
        "AnonymousSurvey.survey_researcher = \"Bob Bobberston\"\n",
        "\n",
        "assert test_survey.company == \"New Python Dojo\"\n",
        "assert test_survey.survey_name == \"Test Bubbly Survey\"\n",
        "assert test_survey.survey_researcher == \"Bob Bobberston\"\n",
        "\n",
        "# Test reset\n",
        "test_survey.reset()\n",
        "assert test_survey._raw_responses == []\n",
        "assert test_survey._AnonymousSurvey__rspdt is None\n",
        "\n",
        "# Test Cleanup\n",
        "AnonymousSurvey.company = \"NYPL Python Academy\"\n",
        "AnonymousSurvey.survey_name = \"Post Course Survey\"\n",
        "AnonymousSurvey.survey_researcher = \"Timmy Tippytoes\""
      ],
      "metadata": {
        "cellView": "form",
        "id": "OX2r24WZZ278"
      },
      "execution_count": null,
      "outputs": []
    },
    {
      "cell_type": "markdown",
      "source": [
        "## **Conclusion**\n",
        "\n",
        "In this lesson, we've explored the fundamental building blocks of Object-Oriented Programming in Python:\n",
        "\n",
        "- Understanding the problems OOP solves\n",
        "- Creating and working with classes and objects\n",
        "- Managing data through attributes\n",
        "- Defining behavior with methods\n",
        "- Controlling access with properties and access modifiers\n",
        "\n",
        "<br>\n",
        "\n",
        "### **Coming Up Next**\n",
        "\n",
        "In Part 2, we'll explore more advanced OOP concepts:\n",
        "\n",
        "**1. Advanced Methods**\n",
        "- Class methods with `@classmethod`\n",
        "- Static methods with `@staticmethod`\n",
        "- Differences and use cases for each type\n",
        "\n",
        "**2. Special Methods (Dunder)**\n",
        "- String representation (`__str__`, `__repr__`)\n",
        "- Comparison methods (`__eq__`, `__lt__`, etc.)\n",
        "- Container methods (`__len__`, `__getitem__`, etc.)\n",
        "- Context managers (`__enter__`, `__exit__`)\n",
        "\n",
        "**3. OOP Relationships**\n",
        "- Inheritance for sharing behavior\n",
        "- Composition for combining objects\n",
        "- Polymorphism for flexible interfaces\n",
        "\n",
        "These concepts will help you write more powerful and flexible object-oriented code. See you in Part 2!\n"
      ],
      "metadata": {
        "id": "75f3W_HdnUyB"
      }
    }
  ]
}