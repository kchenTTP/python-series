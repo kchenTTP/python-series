{
  "nbformat": 4,
  "nbformat_minor": 0,
  "metadata": {
    "colab": {
      "provenance": [],
      "toc_visible": true,
      "collapsed_sections": [
        "wGYgmmMadtO-"
      ],
      "authorship_tag": "ABX9TyMWI9YD8HcGtI55V8L7SvtW",
      "include_colab_link": true
    },
    "kernelspec": {
      "name": "python3",
      "display_name": "Python 3"
    },
    "language_info": {
      "name": "python"
    }
  },
  "cells": [
    {
      "cell_type": "markdown",
      "metadata": {
        "id": "view-in-github",
        "colab_type": "text"
      },
      "source": [
        "<a href=\"https://colab.research.google.com/github/kchenTTP/python-series/blob/main/object_oriented_programming_in_python/Object_Oriented_Programming_in_Python_Part_1.ipynb\" target=\"_parent\"><img src=\"https://colab.research.google.com/assets/colab-badge.svg\" alt=\"Open In Colab\"/></a>"
      ]
    },
    {
      "cell_type": "markdown",
      "source": [
        "# **Object Oriented Programming in Python - Part 1**\n",
        "\n",
        "Object-oriented programming is a programming paradigm that organizes code into objects that contain both data and code. Python is a powerful object-oriented programming language that provides a straightforward yet comprehensive implementation of OOP concepts. In this class, we'll cover the basics of object oriented programming.\n",
        "\n",
        "### **Table of Contents**\n",
        "\n",
        "- [Why Object-Oriented Programming?](#scrollTo=ctaC5CoFZyBn)\n",
        "- [Classes & Objects](#scrollTo=K3MSR-8x31WE)\n",
        "- [Attributes & Methods](#scrollTo=4AzmBqOAF8lm)\n"
      ],
      "metadata": {
        "id": "u77EAJpG99fN"
      }
    },
    {
      "cell_type": "markdown",
      "source": [
        "## **Why Object-Oriented Programming?**\n",
        "\n",
        "**Object-Oriented Programming (OOP)** emerged as a solution to handle growing complexity in software development. Before OOP, programs written ***procedurally*** faced significant challenges in organizing code and managing data effectively.\n",
        "\n",
        "> *Procedural Programming is a programming paradigm that involves implementing the behavior of a computer program as procedures (functions, subroutines) that call each other. [(Wikipedia)](https://en.wikipedia.org/wiki/Procedural_programming)*\n"
      ],
      "metadata": {
        "id": "ctaC5CoFZyBn"
      }
    },
    {
      "cell_type": "markdown",
      "source": [
        "### **Example: Bank Account**\n"
      ],
      "metadata": {
        "id": "S1U_oQzvmpRR"
      }
    },
    {
      "cell_type": "markdown",
      "source": [
        "#### **Procedural Programming**"
      ],
      "metadata": {
        "id": "LVxmM8v104aK"
      }
    },
    {
      "cell_type": "code",
      "source": [
        "bank_account_bob = {\n",
        "  \"name\": \"Bob Bobberston\",\n",
        "  \"balance\": 0\n",
        "}\n",
        "\n",
        "def deposit(bank_account: dict, amount: float):\n",
        "  \"\"\"Deposit money into the bank account if amount greater than zero.\"\"\"\n",
        "  if amount > 0:\n",
        "    bank_account[\"balance\"] += amount\n",
        "    print(f\"Deposited ${amount}. New balance: ${bank_account['balance']}\")\n",
        "  else:\n",
        "    print(\"Deposit amount must be positive.\")\n",
        "\n",
        "def withdraw(bank_account: dict, amount: float):\n",
        "  \"\"\"Withdraw money from the bank account if amount lesser than balance and amount greater than zero.\"\"\"\n",
        "  if 0 < amount <= bank_account[\"balance\"]:\n",
        "    bank_account[\"balance\"] -= amount\n",
        "    print(f\"Withdrew ${amount}. New balance: ${bank_account['balance']}\")\n",
        "  else:\n",
        "    print(\"Invalid withdrawal amount or insufficient funds.\")"
      ],
      "metadata": {
        "id": "YGorV5zXZybW"
      },
      "execution_count": null,
      "outputs": []
    },
    {
      "cell_type": "code",
      "source": [
        "# Working with data using procedural programming can be cumbersome and error prone\n",
        "deposit(bank_account_bob, 100)\n",
        "withdraw(bank_account_bob, 50)\n",
        "\n",
        "# We are allowed to change the variable to whatever we want even if it doesn't fit the logic of the code, leading to potential security issues\n",
        "bank_account_bob[\"account_type\"] = \"lol\"\n",
        "bank_account_bob[\"balance\"] = -1_000_000_000\n",
        "\n",
        "print(f\"Account Holder: {bank_account_bob['name']}\")\n",
        "print(f\"Balance: ${bank_account_bob['balance']}\")"
      ],
      "metadata": {
        "colab": {
          "base_uri": "https://localhost:8080/"
        },
        "id": "-0MLS-24iQVt",
        "outputId": "97f28f19-ea8e-4ed0-ba1c-3730fd145bdc"
      },
      "execution_count": null,
      "outputs": [
        {
          "output_type": "stream",
          "name": "stdout",
          "text": [
            "Deposited $100. New balance: $100\n",
            "Withdrew $50. New balance: $50\n",
            "Account Holder: Bob Bobberston\n",
            "Balance: $-1000000000\n"
          ]
        }
      ]
    },
    {
      "cell_type": "markdown",
      "source": [
        "Object-Oriented Programming (OOP) aims to solve several issues inherent in procedural programming, especially as programs grow:\n",
        "\n",
        "- **Lack of Encapsulation:** Data is directly exposed, allowing unrestricted and potentially invalid modifications, leading to bugs.\n",
        "- **Separation of Data and Functions:** Logic isn't tied to the data it affects, making code less organized.\n",
        "- **Error-Prone:** Generic data structures increase the risk of typos and related errors.\n",
        "- **Scalability Issues:** Modifying complex procedural code for new features is challenging and impacts maintainability.\n"
      ],
      "metadata": {
        "id": "PcGRFyOsy7uA"
      }
    },
    {
      "cell_type": "markdown",
      "source": [
        "#### **Object-Oriented Programming**\n",
        "\n",
        "By contrast, an object-oriented approach could encapsulate the data and functions within a `BankAccount` class, providing a cleaner, more secure, and scalable solution.\n"
      ],
      "metadata": {
        "id": "b3uMmcLfmNqs"
      }
    },
    {
      "cell_type": "code",
      "source": [
        "class BankAccount:\n",
        "  \"\"\"Bank account class.\"\"\"\n",
        "  def __init__(self, name: str, balance: float):\n",
        "    self.name: str = name\n",
        "\n",
        "    # Validate balance amount before assigning value\n",
        "    if balance >= 0:\n",
        "      self.balance: float = balance\n",
        "    else:\n",
        "      raise ValueError(\"Invalid balance\")\n",
        "\n",
        "  def deposit(self, amount: float):\n",
        "    \"\"\"Deposit money into the bank account if amount greater than zero.\"\"\"\n",
        "    if amount > 0:\n",
        "      self.balance += amount\n",
        "      print(f\"Deposited ${amount}. New balance: ${self.balance}\")\n",
        "    else:\n",
        "      raise ValueError(\"Deposit amount must be positive.\")\n",
        "\n",
        "  def withdraw(self, amount: float):\n",
        "    \"\"\"Withdraw money from the bank account if amount lesser than balance and amount greater than zero.\"\"\"\n",
        "    if 0 < amount <= self.balance:\n",
        "      self.balance -= amount\n",
        "      print(f\"Withdrew ${amount}. New balance: ${self.balance}\")\n",
        "    else:\n",
        "      print(\"Invalid withdrawal amount or insufficient funds.\")\n",
        "\n",
        "  def display_account(self):\n",
        "    print(f\"Account Holder: {self.name}\")\n",
        "    print(f\"Balance: ${self.balance}\")"
      ],
      "metadata": {
        "id": "T_h7mZPSnlfU"
      },
      "execution_count": null,
      "outputs": []
    },
    {
      "cell_type": "code",
      "source": [
        "bob_account = BankAccount(\"Bob Bobberston\", 0)\n",
        "bob_account.deposit(100)\n",
        "bob_account.withdraw(50)\n",
        "bob_account.display_account()"
      ],
      "metadata": {
        "colab": {
          "base_uri": "https://localhost:8080/"
        },
        "id": "V29ejKfnuhYg",
        "outputId": "ffeed0b9-9662-40b4-d7f1-99a99ed1219b"
      },
      "execution_count": null,
      "outputs": [
        {
          "output_type": "stream",
          "name": "stdout",
          "text": [
            "Deposited $100. New balance: $100\n",
            "Withdrew $50. New balance: $50\n",
            "Account Holder: Bob Bobberston\n",
            "Balance: $50\n"
          ]
        }
      ]
    },
    {
      "cell_type": "markdown",
      "source": [
        "As you can see, OOP's **`BankAccount` class** combines data and functions. Everything is encapsulated in the object and methods operate exclusively on class data, greatly improving **organization**, **data integrity**, and **scalability**.\n",
        "\n",
        "> 🤠 We'll explain what everything here means later in this series of OOP classes\n"
      ],
      "metadata": {
        "id": "9Uyx1Oj9vOq_"
      }
    },
    {
      "cell_type": "markdown",
      "source": [
        "## **Classes & Objects**\n",
        "\n",
        "In OOP, **classes** are blueprints that define the structure and behavior, while **objects** are individual instances created from those blueprints.\n"
      ],
      "metadata": {
        "id": "K3MSR-8x31WE"
      }
    },
    {
      "cell_type": "markdown",
      "source": [
        "### **Classes**\n",
        "\n",
        "A class bundles **data (attributes)** and **functions (methods)** that work on that data into a single unit. This concept is known as **Encapsulation**.\n",
        "\n",
        "> 📒 **Note:** By convention, the name of a class starts with a capital letter.\n"
      ],
      "metadata": {
        "id": "H_pYxgclC7P3"
      }
    },
    {
      "cell_type": "code",
      "source": [
        "class Circle:\n",
        "  def __init__(self, radius: float):\n",
        "    # Attributes (data)\n",
        "    self.radius = radius\n",
        "    self.area = 3.14 * (radius ** 2)"
      ],
      "metadata": {
        "id": "Lo3OtEBy999d"
      },
      "execution_count": null,
      "outputs": []
    },
    {
      "cell_type": "code",
      "source": [
        "class Dog:\n",
        "  def __init__(self, name: str):\n",
        "    self.name = name\n",
        "\n",
        "  # Methods (functions)\n",
        "  def bark(self):\n",
        "    print(f\"{self.name} says woof!\")"
      ],
      "metadata": {
        "id": "hC8KuzAHCvLF"
      },
      "execution_count": null,
      "outputs": []
    },
    {
      "cell_type": "markdown",
      "source": [
        "> ❗ Don't worry if you're unfamiliar with `self`, `__init__`, or the `.` notation yet. We'll explain these in the next section when we cover attributes and methods.\n"
      ],
      "metadata": {
        "id": "meP09oXuEcw1"
      }
    },
    {
      "cell_type": "markdown",
      "source": [
        "### **Objects**\n",
        "\n",
        "To use classes, we create **objects**, which are specific instances of the classes we've defined. Each object has its own unique set of data, even though they share the same structure and behavior defined by the class.\n"
      ],
      "metadata": {
        "id": "qRnN8GXBBBgY"
      }
    },
    {
      "cell_type": "code",
      "source": [
        "small_circle = Circle(10)\n",
        "\n",
        "# Accessing attributes\n",
        "print(small_circle.radius)\n",
        "print(small_circle.area)"
      ],
      "metadata": {
        "colab": {
          "base_uri": "https://localhost:8080/"
        },
        "id": "DOk07dOf7xZt",
        "outputId": "30f9a327-e117-4ac6-84ca-dd9176f307f4"
      },
      "execution_count": null,
      "outputs": [
        {
          "output_type": "stream",
          "name": "stdout",
          "text": [
            "10\n",
            "314.0\n"
          ]
        }
      ]
    },
    {
      "cell_type": "code",
      "source": [
        "big_circle = Circle(20)\n",
        "print(big_circle.radius)\n",
        "print(big_circle.area)"
      ],
      "metadata": {
        "colab": {
          "base_uri": "https://localhost:8080/"
        },
        "id": "wxkUTF27BR-a",
        "outputId": "b85277b1-cb4b-4b91-dd2b-2419bc050299"
      },
      "execution_count": null,
      "outputs": [
        {
          "output_type": "stream",
          "name": "stdout",
          "text": [
            "20\n",
            "1256.0\n"
          ]
        }
      ]
    },
    {
      "cell_type": "code",
      "source": [
        "spot = Dog(\"Spot\")\n",
        "\n",
        "# Using methods\n",
        "spot.bark()\n",
        "print(type(spot))"
      ],
      "metadata": {
        "colab": {
          "base_uri": "https://localhost:8080/"
        },
        "id": "c-ZfenwBiTLw",
        "outputId": "d93d0eb8-ba6b-4cc3-a2c2-6c6d7d3e9611"
      },
      "execution_count": null,
      "outputs": [
        {
          "output_type": "stream",
          "name": "stdout",
          "text": [
            "Spot says woof!\n",
            "<class '__main__.Dog'>\n"
          ]
        }
      ]
    },
    {
      "cell_type": "code",
      "source": [
        "fido = Dog(\"Fido\")\n",
        "\n",
        "fido.bark()\n",
        "print(type(fido))"
      ],
      "metadata": {
        "colab": {
          "base_uri": "https://localhost:8080/"
        },
        "id": "vyN3CCHMBZ1g",
        "outputId": "0d3695be-2a07-45d0-e39a-6a8dba5330ca"
      },
      "execution_count": null,
      "outputs": [
        {
          "output_type": "stream",
          "name": "stdout",
          "text": [
            "Fido says woof!\n",
            "<class '__main__.Dog'>\n"
          ]
        }
      ]
    },
    {
      "cell_type": "markdown",
      "source": [
        "Objects are:\n",
        "\n",
        "- **Independent Instances:** Each object is a unique instance of its class that possesses its own distinct data.\n",
        "\n",
        "- **Shared Functionality, Unique Data:** Objects from the same class share behaviors (methods) but maintain individual data.\n",
        "\n",
        "- **Type Identification:** The `type()` function shows an object's class (data type).\n"
      ],
      "metadata": {
        "id": "H2fgS4hI4Nkt"
      }
    },
    {
      "cell_type": "markdown",
      "source": [
        "## **Attributes and Methods**\n",
        "\n",
        "**Attributes** store an object's data, while **methods** define its behavior. Together, they form the object's interface.\n",
        "\n",
        "- **Attributes:** Variables encapsulated within a class that hold its data.\n",
        "- **Methods:** Functions belonging to a class that can only be used with instances of that class.\n"
      ],
      "metadata": {
        "id": "4AzmBqOAF8lm"
      }
    },
    {
      "cell_type": "code",
      "source": [
        "class Company:\n",
        "  # Constructor method\n",
        "  def __init__(self, name: str):\n",
        "    # Instance Attributes\n",
        "    self.name = name\n",
        "    self.employees = []\n",
        "\n",
        "  # Method\n",
        "  def add_employee(self, employee_name: str):\n",
        "    if employee_name not in self.employees:\n",
        "      self.employees.append(employee_name)\n",
        "\n",
        "  # Method\n",
        "  def describe(self):\n",
        "    print(f\"{self.name} has {len(self.employees)} employee(s).\")"
      ],
      "metadata": {
        "id": "BXomQM1_qZwu"
      },
      "execution_count": null,
      "outputs": []
    },
    {
      "cell_type": "markdown",
      "source": [
        "To access the attributes and use the methods, you'll have to use the `.` notation like this:\n",
        "\n",
        "- `<class>.<attribute>`\n",
        "- `<class>.<method>`\n"
      ],
      "metadata": {
        "id": "zHCo2K7EJ0V7"
      }
    },
    {
      "cell_type": "code",
      "source": [
        "nypl = Company(\"The New York Public Library\")\n",
        "for name in [\"Apple Fox\", \"Banana Brooks\", \"Kiwi Bird\"]:\n",
        "  nypl.add_employee(name)\n",
        "\n",
        "# Accessing attribute\n",
        "print(nypl.name)\n",
        "\n",
        "# Using methods\n",
        "nypl.describe()"
      ],
      "metadata": {
        "colab": {
          "base_uri": "https://localhost:8080/"
        },
        "id": "hxOd_nH-Eomx",
        "outputId": "b4d28885-8085-408a-a558-636db14f59f2"
      },
      "execution_count": null,
      "outputs": [
        {
          "output_type": "stream",
          "name": "stdout",
          "text": [
            "The New York Public Library\n",
            "The New York Public Library has 3 employee(s).\n"
          ]
        }
      ]
    },
    {
      "cell_type": "markdown",
      "source": [
        "🚨 **Warning:**\n",
        "\n",
        "- Attributes and methods that do not exist in the class definition can be dynamically added to an object after it has been created.\n",
        "- While this feature provides flexibility, it can lead to inconsistent behavior, harder-to-maintain code, and unexpected bugs.\n"
      ],
      "metadata": {
        "id": "rWs_LmMEKdxq"
      }
    },
    {
      "cell_type": "code",
      "source": [
        "sunshine_media = Company(\"Sunshine Media\")\n",
        "\n",
        "# Dynamically added attribute and method\n",
        "sunshine_media.favorite_food = \"Apple Pie\"\n",
        "sunshine_media.happy = lambda: print(f\"Yay! {sunshine_media.favorite_food} :)\")\n",
        "\n",
        "print(sunshine_media.happy())"
      ],
      "metadata": {
        "colab": {
          "base_uri": "https://localhost:8080/"
        },
        "id": "MeBNEPisKdeo",
        "outputId": "3552eac8-cbcc-4559-c60e-bbf67f503c40"
      },
      "execution_count": 24,
      "outputs": [
        {
          "output_type": "stream",
          "name": "stdout",
          "text": [
            "Yay! Apple Pie :)\n",
            "None\n"
          ]
        }
      ]
    },
    {
      "cell_type": "markdown",
      "source": [
        "📒 **Best Practice**\n",
        "\n",
        "Avoid dynamically adding attributes or methods unless absolutely necessary. Instead, define all necessary attributes and methods within the class itself to ensure consistency and maintainability.\n"
      ],
      "metadata": {
        "id": "Gl7gvDw2K1d5"
      }
    },
    {
      "cell_type": "markdown",
      "source": [
        "### **The `__init__` Method**\n",
        "\n",
        "The `__init__` method is a special Python method, often called the **constructor**, that automatically runs when you create a new object from a class.\n",
        "\n",
        "Its main purpose is to **initialize the object's attributes**, setting up its initial state. You'll use it to define and assign properties to your objects right when they're created.\n"
      ],
      "metadata": {
        "id": "GMP_yJmZDoWH"
      }
    },
    {
      "cell_type": "code",
      "source": [
        "class InitExample:\n",
        "  def __init__(self, var_1, var_2):\n",
        "    self.var_1 = f\"Assigned {var_1} to var_1 on creation\"\n",
        "    self.var_2 = f\"Assigned {var_2} to var_2 on creation\"\n",
        "    print(\"do something on creation...\")"
      ],
      "metadata": {
        "id": "70XD33-BPXoI"
      },
      "execution_count": null,
      "outputs": []
    },
    {
      "cell_type": "code",
      "source": [
        "example = InitExample(\"Apple\", \"Banana\")"
      ],
      "metadata": {
        "colab": {
          "base_uri": "https://localhost:8080/"
        },
        "id": "zG652zSfQEvq",
        "outputId": "98cdb1db-a33b-45b1-f7b3-1f1f6db5de2f"
      },
      "execution_count": null,
      "outputs": [
        {
          "output_type": "stream",
          "name": "stdout",
          "text": [
            "do something on creation...\n"
          ]
        }
      ]
    },
    {
      "cell_type": "markdown",
      "source": [
        "> 💡 Methods and attributes that start and end with double underscores (like `__init__`) are called **dunder** methods or \"**magic**\" methods. They are methods that Python uses internally to give your objects special behaviors (e.g., how they're created, printed, or interact with operators).\n"
      ],
      "metadata": {
        "id": "zJYhFr2NO7-c"
      }
    },
    {
      "cell_type": "markdown",
      "source": [
        "### **The `self` Parameter**\n",
        "\n",
        "The `self` parameter refers to the specific object instance the method is acting upon.\n",
        "\n",
        "- **Required in Instance Methods:** `self` is conventionally the first parameter in an instance method definition. While you don't explicitly pass it when calling the method, it **must be included** in the definition.\n",
        "\n",
        "- **Access Instance Data:** `self` is how methods differentiate and work with the unique data and methods of each object. Without `self`, a method wouldn't know which instance's data to operate on.\n"
      ],
      "metadata": {
        "id": "h9UUh7af-9Wr"
      }
    },
    {
      "cell_type": "code",
      "source": [
        "class Cat:\n",
        "  def __init__(self, name):\n",
        "    self.name = name  # Using self to define an instance attribute\n",
        "\n",
        "  def call(self, call: str):\n",
        "    print(f\"{self.name} says {call}!\")\n",
        "\n",
        "  def meow(self):\n",
        "    call_term = \"Meow\"  # local variable\n",
        "    self.call(call_term)  # Calling the instance method call()\n",
        "\n",
        "  def demo_error1():\n",
        "    \"\"\"self parameter is missing\"\"\"\n",
        "    meow()\n",
        "\n",
        "  def demo_error2(self):\n",
        "    \"\"\"Not using self with the instance method meow()\"\"\"\n",
        "    meow()"
      ],
      "metadata": {
        "id": "_6knRr84qBm8"
      },
      "execution_count": null,
      "outputs": []
    },
    {
      "cell_type": "markdown",
      "source": [
        "Python will automatically pass the instance itself as the first argument when you call an instance method.\n"
      ],
      "metadata": {
        "id": "7JtxnJibrIfS"
      }
    },
    {
      "cell_type": "code",
      "source": [
        "cat1 = Cat(\"Mittens\")\n",
        "cat2 = Cat(\"Garfield\")\n",
        "\n",
        "cat1.meow()\n",
        "cat2.meow()"
      ],
      "metadata": {
        "colab": {
          "base_uri": "https://localhost:8080/"
        },
        "id": "Zq8C5FkFrI2Q",
        "outputId": "cc1bce2d-5072-4e7d-d25b-c70e731cea6a"
      },
      "execution_count": null,
      "outputs": [
        {
          "output_type": "stream",
          "name": "stdout",
          "text": [
            "Mittens says Meow!\n",
            "Garfield says Meow!\n"
          ]
        }
      ]
    },
    {
      "cell_type": "markdown",
      "source": [
        "❗ Some errors with the incorrect usage of the `self` parameter:\n"
      ],
      "metadata": {
        "id": "TUbULrW7JkTr"
      }
    },
    {
      "cell_type": "code",
      "source": [
        "# Python will still automatically pass in the instance as the first argument\n",
        "cat1.demo_error1()"
      ],
      "metadata": {
        "colab": {
          "base_uri": "https://localhost:8080/",
          "height": 159
        },
        "id": "fNQI6rg9JWY0",
        "outputId": "d5d837fc-2d4a-4d0c-db75-52b06575cc01"
      },
      "execution_count": null,
      "outputs": [
        {
          "output_type": "error",
          "ename": "TypeError",
          "evalue": "Cat.demo_error1() takes 0 positional arguments but 1 was given",
          "traceback": [
            "\u001b[0;31m---------------------------------------------------------------------------\u001b[0m",
            "\u001b[0;31mTypeError\u001b[0m                                 Traceback (most recent call last)",
            "\u001b[0;32m<ipython-input-18-f8755e968a37>\u001b[0m in \u001b[0;36m<cell line: 0>\u001b[0;34m()\u001b[0m\n\u001b[1;32m      1\u001b[0m \u001b[0;31m# Python will still automatically pass in the instance as the first argument\u001b[0m\u001b[0;34m\u001b[0m\u001b[0;34m\u001b[0m\u001b[0m\n\u001b[0;32m----> 2\u001b[0;31m \u001b[0mcat1\u001b[0m\u001b[0;34m.\u001b[0m\u001b[0mdemo_error1\u001b[0m\u001b[0;34m(\u001b[0m\u001b[0;34m)\u001b[0m\u001b[0;34m\u001b[0m\u001b[0;34m\u001b[0m\u001b[0m\n\u001b[0m",
            "\u001b[0;31mTypeError\u001b[0m: Cat.demo_error1() takes 0 positional arguments but 1 was given"
          ]
        }
      ]
    },
    {
      "cell_type": "code",
      "source": [
        "# Python thinks meow() is a local function and not a instance method\n",
        "cat1.demo_error2()"
      ],
      "metadata": {
        "colab": {
          "base_uri": "https://localhost:8080/",
          "height": 245
        },
        "id": "AvenADgDLrt3",
        "outputId": "e1258f10-19ce-4501-d8ae-b59fc6f3ac1a"
      },
      "execution_count": null,
      "outputs": [
        {
          "output_type": "error",
          "ename": "NameError",
          "evalue": "name 'meow' is not defined",
          "traceback": [
            "\u001b[0;31m---------------------------------------------------------------------------\u001b[0m",
            "\u001b[0;31mNameError\u001b[0m                                 Traceback (most recent call last)",
            "\u001b[0;32m<ipython-input-19-009d4f5540c4>\u001b[0m in \u001b[0;36m<cell line: 0>\u001b[0;34m()\u001b[0m\n\u001b[1;32m      1\u001b[0m \u001b[0;31m# Python thinks meow() is a local function and not a instance method\u001b[0m\u001b[0;34m\u001b[0m\u001b[0;34m\u001b[0m\u001b[0m\n\u001b[0;32m----> 2\u001b[0;31m \u001b[0mcat1\u001b[0m\u001b[0;34m.\u001b[0m\u001b[0mdemo_error2\u001b[0m\u001b[0;34m(\u001b[0m\u001b[0;34m)\u001b[0m\u001b[0;34m\u001b[0m\u001b[0;34m\u001b[0m\u001b[0m\n\u001b[0m",
            "\u001b[0;32m<ipython-input-16-506adccfaae1>\u001b[0m in \u001b[0;36mdemo_error2\u001b[0;34m(self)\u001b[0m\n\u001b[1;32m     16\u001b[0m   \u001b[0;32mdef\u001b[0m \u001b[0mdemo_error2\u001b[0m\u001b[0;34m(\u001b[0m\u001b[0mself\u001b[0m\u001b[0;34m)\u001b[0m\u001b[0;34m:\u001b[0m\u001b[0;34m\u001b[0m\u001b[0;34m\u001b[0m\u001b[0m\n\u001b[1;32m     17\u001b[0m     \u001b[0;34m\"\"\"Not using self with the instance method meow()\"\"\"\u001b[0m\u001b[0;34m\u001b[0m\u001b[0;34m\u001b[0m\u001b[0m\n\u001b[0;32m---> 18\u001b[0;31m     \u001b[0mmeow\u001b[0m\u001b[0;34m(\u001b[0m\u001b[0;34m)\u001b[0m\u001b[0;34m\u001b[0m\u001b[0;34m\u001b[0m\u001b[0m\n\u001b[0m",
            "\u001b[0;31mNameError\u001b[0m: name 'meow' is not defined"
          ]
        }
      ]
    },
    {
      "cell_type": "markdown",
      "source": [
        "## **Exercise: Online Shopping Cart**\n",
        "\n",
        "Imagine you're building a simple online shopping cart system. We'll create a `ShoppingCart` class that manages a user's items.\n",
        "\n",
        "#### **Your Task**:\n",
        "\n",
        "1. **Define the `ShoppingCart` class** with the `__init__` method to set up the `user` and `items` attributes.\n",
        "\n",
        "2. **Implement the `add_item` method** to add items to the `items` attribute. Consider how to handle adding an item that's already in the cart.\n",
        "\n",
        "3. **Implement the `remove_item` method** to remove items. Make sure to handle cases where the item isn't in the cart or the removal quantity exceeds what's available.\n",
        "\n",
        "4. **Implement the `view_cart` method** to display the current contents of the cart in a user-friendly format.\n",
        "\n",
        "5. **Implement the `checkout` method** to calculate the total cost and clear the cart.\n",
        "\n",
        "**Bonus (Optional):**\n",
        "- Add error handling (e.g., for negative quantities or prices, incorrect argument types, etc)\n"
      ],
      "metadata": {
        "id": "YE8E9BKoyJfH"
      }
    },
    {
      "cell_type": "code",
      "source": [
        "# Your code goes here\n"
      ],
      "metadata": {
        "id": "cM2_KcOxyVcw"
      },
      "execution_count": null,
      "outputs": []
    },
    {
      "cell_type": "markdown",
      "source": [
        "### Solution"
      ],
      "metadata": {
        "id": "wGYgmmMadtO-"
      }
    },
    {
      "cell_type": "code",
      "source": [
        "class ShoppingCart:\n",
        "  def __init__(self, user: str) -> None:\n",
        "    self.user = user\n",
        "    self.items = {}\n",
        "\n",
        "  def add_item(self, item_name: str, quantity: int, unit_price: float) -> None:\n",
        "    # Standardize item_name to lower for consistent lookup\n",
        "    item_name = item_name.lower()\n",
        "\n",
        "    # Type and value validation for quantity and unit_price\n",
        "    if not isinstance(quantity, int):\n",
        "      raise TypeError(\"quantity must be an integer.\")\n",
        "    if quantity < 1:\n",
        "      raise ValueError(\"Quantity must be at least 1.\")\n",
        "\n",
        "    if not isinstance(unit_price, (int, float)):\n",
        "      raise TypeError(\"price must be integer or float.\")\n",
        "    if unit_price <= 0:\n",
        "      raise ValueError(\"Price must be greater than 0.\")\n",
        "\n",
        "    if item_name in self.items:\n",
        "      if unit_price != self.items[item_name][\"unit_price\"]:\n",
        "        raise ValueError(\n",
        "            f\"Cannot add '{item_name}' with a different price.\"\n",
        "            f\"Current price: ${self.items[item_name]['unit_price']}\")\n",
        "\n",
        "      self.items[item_name][\"quantity\"] += quantity\n",
        "    else:\n",
        "      self.items[item_name] = {\"quantity\": quantity, \"unit_price\": unit_price}\n",
        "\n",
        "  def remove_item(self, item_name: str, quantity: int) -> None:\n",
        "    # Standardize item_name to lower for consistent lookup\n",
        "    item_name = item_name.lower()\n",
        "\n",
        "    # Type and value validation for quantity\n",
        "    if not isinstance(quantity, int):\n",
        "      raise TypeError(\"quantity must be an integer.\")\n",
        "    if quantity < 1:\n",
        "      raise ValueError(\"Quantity must be at least 1.\")\n",
        "\n",
        "    if item_name not in self.items:\n",
        "      print(f\"'{item_name}' is not in the cart.\")\n",
        "      return\n",
        "\n",
        "    if quantity >= self.items[item_name][\"quantity\"]:\n",
        "      del self.items[item_name]\n",
        "    else:\n",
        "      self.items[item_name][\"quantity\"] -= quantity\n",
        "\n",
        "  def view_cart(self) -> None:\n",
        "    if not self.items:\n",
        "      print(\"Your cart is empty.\")\n",
        "      return\n",
        "\n",
        "    print(f\"--- {self.user}'s Shopping Cart ---\")\n",
        "    total = 0\n",
        "    for item_name, data in self.items.items():\n",
        "      quantity = data[\"quantity\"]\n",
        "      unit_price = data[\"unit_price\"]\n",
        "      subtotal = quantity * unit_price\n",
        "      total += subtotal\n",
        "      print(f\"{quantity}x '{item_name}': ${subtotal} (Unit Price: ${unit_price})\")\n",
        "\n",
        "    print(\"---------------------\")\n",
        "    print(f\"Total: ${total}\")\n",
        "    print(\"---------------------\")\n",
        "\n",
        "  def checkout(self) -> float | None:\n",
        "    if not self.items:\n",
        "      print(\"Your cart is empty.\")\n",
        "      return\n",
        "\n",
        "    total = 0\n",
        "    for data in self.items.values():\n",
        "      total += data.get(\"quantity\") * data.get(\"unit_price\")\n",
        "\n",
        "    # Reset cart\n",
        "    self.items.clear()\n",
        "    print(f\"\\nCheckout complete for {self.user}. Total amount: ${total}\\n\")\n",
        "    return total"
      ],
      "metadata": {
        "id": "wHq5G80OdLgC"
      },
      "execution_count": null,
      "outputs": []
    },
    {
      "cell_type": "code",
      "source": [
        "mycart = ShoppingCart(\"Timmy D\")\n",
        "mycart.add_item(\"coffee mug\", 1, 7)\n",
        "mycart.add_item(\"coffee beans\", 3, 5)\n",
        "mycart.add_item(\"cookies\", 3, 1.5)\n",
        "mycart.remove_item(\"coffee beans\", 1)\n",
        "\n",
        "mycart.view_cart()\n",
        "mycart.checkout()"
      ],
      "metadata": {
        "colab": {
          "base_uri": "https://localhost:8080/"
        },
        "id": "2h5rkA30xv4y",
        "outputId": "86d77d37-4a03-4723-d044-4fe449017f1e"
      },
      "execution_count": null,
      "outputs": [
        {
          "output_type": "stream",
          "name": "stdout",
          "text": [
            "--- Timmy D's Shopping Cart ---\n",
            "1x 'coffee mug': $7 (Unit Price: $7)\n",
            "2x 'coffee beans': $10 (Unit Price: $5)\n",
            "3x 'cookies': $4.5 (Unit Price: $1.5)\n",
            "---------------------\n",
            "Total: $21.5\n",
            "---------------------\n",
            "\n",
            "Checkout complete for Timmy D. Total amount: $21.5\n",
            "\n"
          ]
        },
        {
          "output_type": "execute_result",
          "data": {
            "text/plain": [
              "21.5"
            ]
          },
          "metadata": {},
          "execution_count": 23
        }
      ]
    },
    {
      "cell_type": "markdown",
      "source": [
        "## **Conclusion**\n",
        "\n",
        "In this lesson, we've explored the fundamental building blocks of Object-Oriented Programming in Python. For more in-depth information, you can check out these resources:\n",
        "\n",
        "- [Python Classes Documentation](https://docs.python.org/3/tutorial/classes.html#)\n",
        "- [GeeksforGeeks Python OOP Concepts](https://www.geeksforgeeks.org/python-oops-concepts/)\n",
        "\n",
        "In the next class, we'll learn even more about OOP:\n",
        "\n",
        "1. **Encapsulation** & **Access Modifiers**\n",
        "2. **Instance** vs. **Class Attributes**\n",
        "3. **Property Decorators**\n",
        "\n",
        "See you in Part 2! 👀\n"
      ],
      "metadata": {
        "id": "75f3W_HdnUyB"
      }
    }
  ]
}