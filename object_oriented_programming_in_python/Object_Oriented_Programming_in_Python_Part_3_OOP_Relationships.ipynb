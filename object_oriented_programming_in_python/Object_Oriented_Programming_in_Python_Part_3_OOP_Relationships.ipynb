{
  "nbformat": 4,
  "nbformat_minor": 0,
  "metadata": {
    "colab": {
      "provenance": [],
      "toc_visible": true,
      "authorship_tag": "ABX9TyNxz6myC+E+nz9niZxHBrH2",
      "include_colab_link": true
    },
    "kernelspec": {
      "name": "python3",
      "display_name": "Python 3"
    },
    "language_info": {
      "name": "python"
    }
  },
  "cells": [
    {
      "cell_type": "markdown",
      "metadata": {
        "id": "view-in-github",
        "colab_type": "text"
      },
      "source": [
        "<a href=\"https://colab.research.google.com/github/kchenTTP/python-series/blob/main/object_oriented_programming_in_python/Object_Oriented_Programming_in_Python_Part_3_OOP_Relationships.ipynb\" target=\"_parent\"><img src=\"https://colab.research.google.com/assets/colab-badge.svg\" alt=\"Open In Colab\"/></a>"
      ]
    },
    {
      "cell_type": "markdown",
      "source": [
        "# **Object Oriented Programming in Python Part 3: OOP Relationships**\n",
        "\n",
        "Now that we've covered all the basics of object-oriented programming, we can dive deeper into ...\n",
        "\n",
        "**Table of Contents**\n",
        "\n",
        "- [OOP Relationships](#scrollTo=4AzmBqOAF8lm)\n",
        "  - [Inheritance](#scrollTo=qPlMEcmqYAII)\n",
        "  - [Composition](#scrollTo=ueSxzCZ_ZbaS)\n",
        "  - [Aggregation](#scrollTo=iJOhb0ZpVUfy)\n",
        "  - [Association](#scrollTo=vmSTzD9AVZWc)\n"
      ],
      "metadata": {
        "id": "u77EAJpG99fN"
      }
    },
    {
      "cell_type": "markdown",
      "source": [
        "## **Object-Oriented Programming Relationships**\n",
        "\n",
        "There are different ways objects or classes can interact with each other in object-oriented programming. These interactions define how data and\n",
        "behaviors are shared among classes. The primary types of relationships include Inheritance, Composition, Aggregation, and Association.\n"
      ],
      "metadata": {
        "id": "4AzmBqOAF8lm"
      }
    },
    {
      "cell_type": "markdown",
      "source": [
        "### **Inheritance**\n",
        "\n",
        "Inheritance is a fundamental concept in OOP that allows a class (called the ***child***, ***subclass***, or ***derived class***) to inherit attributes and methods from another class (called the ***parent***, ***superclass***, or ***base class***).This promotes code reusability and establishes an **\"is-a\"** relationship between classes.\n",
        "\n",
        "<br>\n",
        "\n",
        "**Key Features of Inheritance:**\n",
        "\n",
        "- **Code Reusability:** Allows subclasses to reuse attibutes and methods defined in the superclass.\n",
        "- **Overriding Methods:** Subclasses can override or extend methods from their parent classes.\n",
        "- **Polymorphism:** Enables objects of different but related types (e.g., derived and base classes) to be treated as objects of a common\n",
        "superclass.\n",
        "\n",
        "<br>\n",
        "\n",
        "**Syntax**\n",
        "\n",
        "To inherit from another class, put the parent class in parenthesis after the name of the child class.\n",
        "\n",
        "> 📒 **Note**: The `super()` funciton is used to call functions defined in the parent class.\n"
      ],
      "metadata": {
        "id": "qPlMEcmqYAII"
      }
    },
    {
      "cell_type": "code",
      "source": [
        "class ParentClass:\n",
        "  def __init__(self, attribute):\n",
        "    self.attribute = attribute\n",
        "\n",
        "  def parent_method(self):\n",
        "    print(\"Method in the parent class.\")\n",
        "\n",
        "\n",
        "# Inheritance\n",
        "class ChildClass(ParentClass):\n",
        "  # Extending functionality beyond the parent class\n",
        "  def child_method(self):\n",
        "    print(\"Method specific to the child class.\")\n",
        "\n",
        "  # Overriding methods\n",
        "  def parent_method(self):\n",
        "    print(\"Override the inherited method inside child class...\")\n",
        "    super().parent_method()  # Call the parent method\n",
        "\n",
        "\n",
        "# Example\n",
        "parent = ParentClass(\"Parent Attribute\")\n",
        "parent.parent_method()\n",
        "print(\"==========\")\n",
        "\n",
        "child = ChildClass(\"Child Attribute\")\n",
        "child.child_method()\n",
        "child.parent_method()"
      ],
      "metadata": {
        "id": "E1co0pBTZZcK",
        "colab": {
          "base_uri": "https://localhost:8080/"
        },
        "outputId": "b1b6a6de-a113-44b4-d30c-03f4f9e5d939"
      },
      "execution_count": null,
      "outputs": [
        {
          "output_type": "stream",
          "name": "stdout",
          "text": [
            "Method in the parent class.\n",
            "==========\n",
            "Method specific to the child class.\n",
            "Override the inherited method inside child class...\n",
            "Method in the parent class.\n"
          ]
        }
      ]
    },
    {
      "cell_type": "markdown",
      "source": [
        "**Types of Inheritance:**\n",
        "\n",
        "1. **Single Inheritance:** A subclass inherits from one parent class.\n",
        "2. **Multiple Inheritance:** A subclass inherits from more than one parent class.\n",
        "3. **Multilevel Inheritance:** When a derived class becomes a base class for other classes.\n",
        "4. **Hierarchical Inheritance:** Multiple subclasses inherit from a single superclass.\n",
        "\n",
        "<br>\n",
        "\n",
        "<figure align=\"center\">\n",
        "  <img src=\"https://github.com/kchenTTP/python-series/blob/main/object_oriented_programming_in_python/assets/oop-inheritance.png?raw=true\" alt=\"oop-inheritance.png\" />\n",
        "  <figcaption>Object-Orient Programming Inheritance</figcaption>\n",
        "</figure>\n"
      ],
      "metadata": {
        "id": "ZERmvTwiyIKO"
      }
    },
    {
      "cell_type": "code",
      "source": [
        "# Multilevel inheritance\n",
        "class GrandchildClass(ChildClass):\n",
        "  def grandchild_method(self):\n",
        "    print(\"Method specific to the grandchild class.\")\n",
        "\n",
        "\n",
        "grand_child = GrandchildClass(\"Grandchild Attribute\")\n",
        "grand_child.grandchild_method()\n",
        "grand_child.child_method()\n",
        "grand_child.parent_method()"
      ],
      "metadata": {
        "colab": {
          "base_uri": "https://localhost:8080/"
        },
        "id": "dFFeHHczyWE_",
        "outputId": "2f398187-2649-4c77-e438-e347a7206459"
      },
      "execution_count": null,
      "outputs": [
        {
          "output_type": "stream",
          "name": "stdout",
          "text": [
            "Method specific to the grandchild class.\n",
            "Method specific to the child class.\n",
            "Override the inherited method inside child class...\n",
            "Method in the parent class.\n"
          ]
        }
      ]
    },
    {
      "cell_type": "code",
      "source": [
        "# Polymorphism: derived classes are treated as objects of a common superclass\n",
        "print(isinstance(child, ParentClass))\n",
        "print(isinstance(grand_child, ChildClass))\n",
        "print(isinstance(grand_child, ParentClass))\n",
        "print(isinstance(child, GrandchildClass))"
      ],
      "metadata": {
        "colab": {
          "base_uri": "https://localhost:8080/"
        },
        "id": "qC7y2lejfi3a",
        "outputId": "d681a7d2-6f60-4a8d-a9f7-723c4027e5cf"
      },
      "execution_count": null,
      "outputs": [
        {
          "output_type": "stream",
          "name": "stdout",
          "text": [
            "True\n",
            "True\n",
            "True\n",
            "False\n"
          ]
        }
      ]
    },
    {
      "cell_type": "markdown",
      "source": [
        "#### **Multiple Inheritance Example: Secure Web Page**\n"
      ],
      "metadata": {
        "id": "sbuB3XmojIOA"
      }
    },
    {
      "cell_type": "code",
      "source": [
        "class Authentication:\n",
        "  def __init__(self):\n",
        "    self.authenticated_users = set()\n",
        "\n",
        "  def authenticate(self, user_id):\n",
        "    print(f\"Authenticating user {user_id}.\")\n",
        "    self.authenticated_users.add(user_id)\n",
        "\n",
        "  def is_authenticated(self, user_id):\n",
        "    return user_id in self.authenticated_users\n",
        "\n",
        "class Logging:\n",
        "  def __init__(self):\n",
        "    pass\n",
        "\n",
        "  def log(self, message):\n",
        "    print(f\"LOG: {message}\")\n",
        "\n",
        "class DatabaseOperations:\n",
        "  def __init__(self, db_connection_string):\n",
        "    self.db_connection_string = db_connection_string\n",
        "\n",
        "  def query_database(self, query):\n",
        "    print(f\"Executing database query: {query}\")\n",
        "    # Simulate a database operation\n",
        "    return f\"Results for '{query}'\"\n",
        "\n",
        "\n",
        "# Using multiple inheritance to build a complex WebComponent\n",
        "class WebPage(Authentication, Logging, DatabaseOperations):\n",
        "  def __init__(self, db_connection_string):\n",
        "    Authentication.__init__(self)\n",
        "    Logging.__init__(self)\n",
        "    DatabaseOperations.__init__(self, db_connection_string)\n",
        "\n",
        "  def display_page(self, user_id, query):\n",
        "    # Check authentication\n",
        "    if not self.is_authenticated(user_id):\n",
        "      self.log(f\"User {user_id} is not authenticated.\")\n",
        "      return \"Access Denied\"\n",
        "\n",
        "    # Log the access attempt\n",
        "    self.log(f\"User {user_id} accessed the page with query: '{query}'\")\n",
        "\n",
        "    # Execute a database query related to the request\n",
        "    results = self.query_database(query)\n",
        "\n",
        "    return f\"Page content for user {user_id}: {results}\"\n",
        "\n",
        "\n",
        "# Example\n",
        "db_connection_string = \"Server=myServerAddress;Database=myDataBase;User Id=myUsername;Password=myPassword;\"\n",
        "web_page = WebPage(db_connection_string)\n",
        "\n",
        "user_id = 12345\n",
        "query = \"SELECT * FROM users WHERE id=12345\"\n",
        "\n",
        "print(web_page.display_page(user_id, query))\n",
        "\n",
        "# Authenticate the user and try again\n",
        "web_page.authenticate(user_id)\n",
        "print(web_page.display_page(user_id, query))"
      ],
      "metadata": {
        "colab": {
          "base_uri": "https://localhost:8080/"
        },
        "id": "XOzb9RBKcRHa",
        "outputId": "f04c450e-83e8-4968-e2dc-05341cd84316"
      },
      "execution_count": null,
      "outputs": [
        {
          "output_type": "stream",
          "name": "stdout",
          "text": [
            "LOG: User 12345 is not authenticated.\n",
            "Access Denied\n",
            "Authenticating user 12345.\n",
            "LOG: User 12345 accessed the page with query: 'SELECT * FROM users WHERE id=12345'\n",
            "Executing database query: SELECT * FROM users WHERE id=12345\n",
            "Page content for user 12345: Results for 'SELECT * FROM users WHERE id=12345'\n"
          ]
        }
      ]
    },
    {
      "cell_type": "markdown",
      "source": [
        "#### **Considerations When Using Inheritance**\n",
        "\n",
        "While inheritance can be a powerful tool in certain scenarios (e.g., when there is a clear **\"is-a\"** relationship), it can be risky to abstract classes using inheritance due to several reasons:\n",
        "\n",
        "<br>\n",
        "\n",
        "**Complexity**\n",
        "\n",
        "  - Multiple inheritance introduces additional complexity, making it harder to understand and maintain the code.\n",
        "\n",
        "**Tight Coupling**\n",
        "\n",
        "  - Classes can become tightly coupled to their parent classes, making them harder to modify or extend independently.\n",
        "\n",
        "**Reduced Flexibility**\n",
        "\n",
        "  - Inheritance enforces a rigid class hierarchy that can be difficult to change, often leading to maintenance challenges or major rewrites.\n",
        "\n",
        "**Maintenance Challenges**\n",
        "\n",
        "  - Deep and complex inheritance hierarchies make the code harder to maintain, understand, and debug.\n",
        "  - While inheritance allows for behavior reuse, it can also introduce dependencies that complicate future modifications.\n",
        "\n",
        "<br>\n",
        "\n",
        "**Composition**, on the other hand, provides greater flexibility and maintainability by focusing on what objects *do* rather than what they *are*. This approach leads to systems that are easier to understand, test, and extend (which we'll explore next).\n"
      ],
      "metadata": {
        "id": "6FOL0DhjXrSl"
      }
    },
    {
      "cell_type": "markdown",
      "source": [
        "### **Composition**\n",
        "\n",
        "Composition represents a **\"part-of\"** relationship, where a class contains one or more objects of another class as members to build functionality. The child (component) classes cannot exist independently outside of the parent (composite) class - their lifecycle is tightly coupled with the parent.\n",
        "\n",
        "<br>\n",
        "\n",
        "<figure align=\"center\">\n",
        "  <img src=\"https://github.com/kchenTTP/python-series/blob/main/object_oriented_programming_in_python/assets/oop-composition-vs-aggregation.png?raw=true\" alt=\"oop-composition-vs-aggregation.png\" />\n",
        "  <figcaption>Composition vs Aggregation</figcaption>\n",
        "</figure>\n",
        "\n",
        "<br>\n",
        "\n",
        "**Benefits of Composition:**\n",
        "\n",
        "- **Flexibility**\n",
        "\n",
        "  - Objects can be built from smaller, reusable components, making it easier to modify and extend behaviors.\n",
        "  - Components can be mixed and matched to create different variations of objects and new functionality can be added by introducing new components without modifying existing code.\n",
        "\n",
        "- **Looser Coupling Than Inheritance**\n",
        "\n",
        "  - Components interact through well-defined interfaces, reducing dependencies.\n",
        "  - Changes to one component's implementation don't affect others as long as the interface remains stable.\n",
        "\n",
        "- **Enhanced Modularity**\n",
        "\n",
        "  - Individual components can be developed, tested, and maintained independently without affecting the rest of the system.\n",
        "\n",
        "- **Clear Responsibilities**\n",
        "\n",
        "  - Each component has a distinct, well-defined role within the system.\n",
        "  - Makes the code more organized and easier to reason about.\n"
      ],
      "metadata": {
        "id": "ueSxzCZ_ZbaS"
      }
    },
    {
      "cell_type": "markdown",
      "source": [
        "#### **Composition Example: Music Album & Album Tracks**\n"
      ],
      "metadata": {
        "id": "5ECcE1se1Pj6"
      }
    },
    {
      "cell_type": "code",
      "source": [
        "class Track:\n",
        "  def __init__(self, title: str, duration: float):\n",
        "    self.title = title\n",
        "    self.duration = duration\n",
        "    self.track_number: int | None = None\n",
        "\n",
        "class AlbumMetadata:\n",
        "  def __init__(self, release_date: str, genre: str, label: str):\n",
        "    self.release_date = release_date\n",
        "    self.genre = genre\n",
        "    self.label = label\n",
        "\n",
        "class MusicAlbum:\n",
        "  def __init__(self, title: str, artist: str, release_date: str, genre: str, label: str):\n",
        "    self.title = title\n",
        "    self.artist = artist\n",
        "\n",
        "    # Tracks and metadata are composed into the album\n",
        "    self.metadata = AlbumMetadata(release_date, genre, label)\n",
        "    self.tracks = []\n",
        "    self._total_duration = 0\n",
        "\n",
        "  def add_track(self, title: str, duration: float):\n",
        "    track = Track(title, duration)\n",
        "    track.track_number = len(self.tracks) + 1\n",
        "    self.tracks.append(track)\n",
        "    self._total_duration += duration\n",
        "\n",
        "  def get_total_duration(self):\n",
        "    return self._total_duration\n",
        "\n",
        "  def get_track_listing(self):\n",
        "    return [(track.track_number, track.title, track.duration) for track in self.tracks]\n",
        "\n",
        "# The Tracks and AlbumMetadata only exist as part of the Album\n",
        "album = MusicAlbum(\n",
        "    \"The Dark Side of the Moon\",\n",
        "    \"Pink Floyd\",\n",
        "    \"1973-03-01\",\n",
        "    \"Progressive Rock\",\n",
        "    \"Harvest\"\n",
        ")\n",
        "\n",
        "album.add_track(\"Speak to Me\", 90.0)\n",
        "album.add_track(\"Breathe\", 163.0)\n",
        "album.add_track(\"Time\", 421.5)\n",
        "\n",
        "# Tracks are integral parts of the album and cannot exist independently\n",
        "track_listing = album.get_track_listing()\n",
        "print(track_listing)\n",
        "\n",
        "total_duration = album.get_total_duration()\n",
        "print(f\"Total Duration: {total_duration} seconds\")"
      ],
      "metadata": {
        "id": "DbqH5hwBZbxB",
        "colab": {
          "base_uri": "https://localhost:8080/"
        },
        "outputId": "beecc992-e5c5-479c-8138-bb9aed2d2226"
      },
      "execution_count": null,
      "outputs": [
        {
          "output_type": "stream",
          "name": "stdout",
          "text": [
            "[(1, 'Speak to Me', 90.0), (2, 'Breathe', 163.0), (3, 'Time', 421.5)]\n",
            "Total Duration: 674.5 seconds\n"
          ]
        }
      ]
    },
    {
      "cell_type": "markdown",
      "source": [
        "### **Aggregation**\n",
        "\n",
        "Aggregation represents a **\"has-a\"** relationship where one class contains references to objects of another class, but with looser coupling than composition. The child objects can exist independently and their lifecycle isn't controlled by the parent - they can be shared, transferred, or exist without a parent.\n",
        "\n",
        "<br>\n",
        "\n",
        "**Benefits of Aggregation:**\n",
        "\n",
        "- **Flexible Object Relationships**\n",
        "\n",
        "  - Objects can be transferred between containers\n",
        "  - The same object can belong to multiple containers simultaneously\n",
        "\n",
        "- **Reduced Dependencies**\n",
        "\n",
        "  - Container and component classes remain loosely coupled\n",
        "  - Changes to one class have minimal impact on the other\n",
        "  - Components can be developed and tested in isolation\n",
        "\n",
        "- **Resource Sharing**\n",
        "\n",
        "  - Multiple containers can share the same components\n",
        "  - Prevents unnecessary duplication of objects\n",
        "  - More efficient memory usage in large systems\n"
      ],
      "metadata": {
        "id": "iJOhb0ZpVUfy"
      }
    },
    {
      "cell_type": "markdown",
      "source": [
        "#### **Aggregation Example: Library & Book**\n"
      ],
      "metadata": {
        "id": "c_kBdrQp1a7n"
      }
    },
    {
      "cell_type": "code",
      "source": [
        "class Book:\n",
        "  def __init__(self, title, author, isbn):\n",
        "    self.title = title\n",
        "    self.author = author\n",
        "    self.isbn = isbn\n",
        "    self.checked_out = False\n",
        "\n",
        "  def check_out(self):\n",
        "    if not self.checked_out:\n",
        "      self.checked_out = True\n",
        "      return True\n",
        "    return False\n",
        "\n",
        "  def return_book(self):\n",
        "    self.checked_out = False\n",
        "\n",
        "class Library:\n",
        "  def __init__(self, name, location):\n",
        "    self.name = name\n",
        "    self.location = location\n",
        "    self.books = []\n",
        "\n",
        "  def add_book(self, book):\n",
        "    if book not in self.books:\n",
        "      self.books.append(book)\n",
        "\n",
        "  def remove_book(self, book):\n",
        "    if book in self.books:\n",
        "      self.books.remove(book)\n",
        "\n",
        "  def search_by_title(self, title):\n",
        "    return [book for book in self.books if title.lower() in book.title.lower()]\n",
        "\n",
        "  def available_books(self):\n",
        "      return [book for book in self.books if not book.checked_out]\n",
        "\n",
        "\n",
        "# Books can exist independently\n",
        "book1 = Book(\"1984\", \"George Orwell\", \"978-0451524935\")\n",
        "book2 = Book(\"Dune\", \"Frank Herbert\", \"978-0441172719\")\n",
        "\n",
        "# Create libraries\n",
        "snfl = Library(\"Stavros Niarchos Foundation Library\", \"Midtown\")\n",
        "chatham_square = Library(\"Chatham Square Library\", \"Chinatown\")\n",
        "\n",
        "# Add books to libraries\n",
        "snfl.add_book(book1)\n",
        "snfl.add_book(book2)\n",
        "\n",
        "# Books can be transferred between libraries\n",
        "snfl.remove_book(book2)\n",
        "chatham_square.add_book(book2)\n",
        "\n",
        "# Books maintain their state when moved\n",
        "book2.check_out()  # Book remains checked out even if moved"
      ],
      "metadata": {
        "colab": {
          "base_uri": "https://localhost:8080/"
        },
        "id": "De4vNDx7VZCi",
        "outputId": "57da5556-e26a-479f-81da-8abf04c7df98"
      },
      "execution_count": null,
      "outputs": [
        {
          "output_type": "execute_result",
          "data": {
            "text/plain": [
              "True"
            ]
          },
          "metadata": {},
          "execution_count": 22
        }
      ]
    },
    {
      "cell_type": "markdown",
      "source": [
        "This differs from composition (like album tracks & album metadata) where the components cannot exist meaningfully outside their container (album) and their lifecycle is tied to the container.\n"
      ],
      "metadata": {
        "id": "9egmiQiU06sy"
      }
    },
    {
      "cell_type": "markdown",
      "source": [
        "### **Association**\n",
        "\n",
        "Association represents any relationship between classes where objects interact with or use each other. It's the most general form of relationship in object-oriented programming, encompassing both aggregation and composition, but can also represent looser connections. These relationships can be unidirectional (one class knows about the other) or bidirectional (both classes know about each other).\n",
        "\n",
        "<br>\n",
        "\n",
        "\n",
        "**Types of Association:**\n",
        "\n",
        "- **One-to-One**\n",
        "\n",
        "  - Each object is associated with exactly one object of another class\n",
        "  - Example: A library card associated with one specific library member\n",
        "\n",
        "- **One-to-Many**\n",
        "\n",
        "  - One object is associated with multiple objects of another class\n",
        "  - Example: An author associated with multiple books\n",
        "\n",
        "- **Many-to-Many**\n",
        "\n",
        "  - Objects of both classes can be associated with multiple objects of the other class\n",
        "  - Example: Students and courses, where students take multiple courses and courses have multiple students\n"
      ],
      "metadata": {
        "id": "vmSTzD9AVZWc"
      }
    },
    {
      "cell_type": "markdown",
      "source": [
        "**Association Example: Author & Book & Reader**\n"
      ],
      "metadata": {
        "id": "vGcS1okj4RNb"
      }
    },
    {
      "cell_type": "code",
      "source": [
        "class Author:\n",
        "  def __init__(self, name):\n",
        "    self.name = name\n",
        "    self.books = []  # One-to-Many: One author can write many books\n",
        "\n",
        "  def write_book(self, title, genre):\n",
        "    book = Book(title, genre, self)\n",
        "    self.books.append(book)\n",
        "    return book\n",
        "\n",
        "class Book:\n",
        "  def __init__(self, title, genre, author):\n",
        "    self.title = title\n",
        "    self.genre = genre\n",
        "    self.author = author  # One-to-One: Each book has one author\n",
        "    self.reviews = []  # One-to-Many: One book can have many reviews\n",
        "\n",
        "class Reader:\n",
        "  def __init__(self, name):\n",
        "    self.name = name\n",
        "    self.books_read = set()  # Many-to-Many: Readers can read multiple books\n",
        "\n",
        "  def read_book(self, book):\n",
        "    self.books_read.add(book)\n",
        "\n",
        "  def write_review(self, book, text, rating):\n",
        "    if book in self.books_read:\n",
        "      review = Review(self, book, text, rating)\n",
        "      book.reviews.append(review)\n",
        "      return review\n",
        "    return None\n",
        "\n",
        "class Review:\n",
        "  def __init__(self, reader, book, text, rating):\n",
        "    self.reader = reader  # One-to-One: Each review has one reader\n",
        "    self.book = book     # One-to-One: Each review is for one book\n",
        "    self.text = text\n",
        "    self.rating = rating"
      ],
      "metadata": {
        "id": "cAW1coBWVfJE"
      },
      "execution_count": null,
      "outputs": []
    },
    {
      "cell_type": "code",
      "source": [
        "# Example\n",
        "author = Author(\"Frank Herbert\")\n",
        "dune = author.write_book(\"Dune\", \"Science Fiction\")\n",
        "\n",
        "reader1 = Reader(\"Alice\")\n",
        "reader2 = Reader(\"Bob\")\n",
        "\n",
        "# Many-to-many: multiple readers can read multiple books\n",
        "reader1.read_book(dune)\n",
        "reader2.read_book(dune)\n",
        "\n",
        "# One-to-many: one book can have multiple reviews\n",
        "review1 = reader1.write_review(dune, \"Amazing book!\", 5)\n",
        "review2 = reader2.write_review(dune, \"Classic sci-fi\", 4)"
      ],
      "metadata": {
        "id": "cVR6R3k53TZy"
      },
      "execution_count": null,
      "outputs": []
    },
    {
      "cell_type": "markdown",
      "source": [
        "Association provides the flexibility to model complex relationships while maintaining loose coupling between classes, making the system more maintainable and adaptable to change.\n"
      ],
      "metadata": {
        "id": "oXI28r6y383h"
      }
    },
    {
      "cell_type": "markdown",
      "source": [
        "## **Conclusion**\n",
        "\n",
        "In this lesson, we've covered even more Object-Oriented Programming concepts:\n",
        "\n",
        "- ...\n",
        "\n",
        "<br>\n",
        "\n",
        "### **Extra**\n",
        "\n",
        "Extra concepts of OOP here:\n",
        "https://colab.research.google.com/drive/1apjkdKLk_vms5uIT-fnxy4PBN8-1vrpw?usp=sharing\n"
      ],
      "metadata": {
        "id": "75f3W_HdnUyB"
      }
    }
  ]
}