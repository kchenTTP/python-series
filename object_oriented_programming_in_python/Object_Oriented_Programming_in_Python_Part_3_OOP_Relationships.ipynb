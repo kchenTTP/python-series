{
  "nbformat": 4,
  "nbformat_minor": 0,
  "metadata": {
    "colab": {
      "provenance": [],
      "toc_visible": true,
      "collapsed_sections": [
        "sbuB3XmojIOA"
      ],
      "authorship_tag": "ABX9TyPU45VFZxbPlWgwPIK1cGWO",
      "include_colab_link": true
    },
    "kernelspec": {
      "name": "python3",
      "display_name": "Python 3"
    },
    "language_info": {
      "name": "python"
    }
  },
  "cells": [
    {
      "cell_type": "markdown",
      "metadata": {
        "id": "view-in-github",
        "colab_type": "text"
      },
      "source": [
        "<a href=\"https://colab.research.google.com/github/kchenTTP/python-series/blob/main/object_oriented_programming_in_python/Object_Oriented_Programming_in_Python_Part_3_OOP_Relationships.ipynb\" target=\"_parent\"><img src=\"https://colab.research.google.com/assets/colab-badge.svg\" alt=\"Open In Colab\"/></a>"
      ]
    },
    {
      "cell_type": "markdown",
      "source": [
        "# **Object Oriented Programming in Python Part 3: OOP Relationships**\n",
        "\n",
        "Now that we've covered all the basics of object-oriented programming, let's look at how different classes work with each other. There are different ways objects or classes can interact with each other. These interactions define how data and behaviors are shared among classes.\n",
        "\n",
        "**Table of Contents**\n",
        "\n",
        "- [Inheritance](#scrollTo=qPlMEcmqYAII)\n",
        "- [Composition](#scrollTo=ueSxzCZ_ZbaS)\n",
        "- [Aggregation](#scrollTo=iJOhb0ZpVUfy)\n",
        "- [Association](#scrollTo=vmSTzD9AVZWc)\n",
        "- [Things to Consider](#scrollTo=rMoLuMLMjS6z)\n"
      ],
      "metadata": {
        "id": "u77EAJpG99fN"
      }
    },
    {
      "cell_type": "markdown",
      "source": [
        "## **Inheritance**\n",
        "\n",
        "Inheritance allows a class (***child***, ***subclass***, or ***derived class***) to inherit attributes and methods from another class (***parent***, ***superclass***, or ***base class***).\n",
        "\n",
        "> You can think of inheritance as an **\"Is-a\"** relationship:\n",
        ">\n",
        "> - A *cat* is an *animal*\n",
        "> - A *programmer* is an *employee*\n",
        "> - A *savings account* is a type of *account*\n",
        "\n",
        "To inherit from another class, put the parent class in parenthesis after the name of the child class.\n",
        "\n",
        "> 📒 **Note**: The `super()` funciton is used to call functions defined in the parent class.\n"
      ],
      "metadata": {
        "id": "qPlMEcmqYAII"
      }
    },
    {
      "cell_type": "code",
      "source": [
        "# Parent class\n",
        "class Employee:\n",
        "  def __init__(self, name, salary):\n",
        "    self.name = name\n",
        "    self.salary = salary\n",
        "\n",
        "  def work(self):\n",
        "    print(f\"{self.name} is working.\")"
      ],
      "metadata": {
        "id": "lW-0XR2ZaRGG"
      },
      "execution_count": null,
      "outputs": []
    },
    {
      "cell_type": "code",
      "source": [
        "# Child classes\n",
        "class Manager(Employee):\n",
        "  # Overriding methods\n",
        "  def work(self):\n",
        "    print(f\"{self.name} is managing...\")\n",
        "\n",
        "  # Extending functionality beyond the parent class\n",
        "  def supervise(self, employee):\n",
        "    print(f\"{self.name} is supervising {employee.name}.\")\n",
        "\n",
        "\n",
        "class Programmer(Employee):\n",
        "  def __init__(self, name, salary, programming_language):\n",
        "    super().__init__(name, salary)  # Call the parent method\n",
        "    self.programming_language = programming_language\n",
        "\n",
        "  def work(self):\n",
        "    super().work()\n",
        "    print(f\"{self.name} is coding in {self.programming_language}.\")"
      ],
      "metadata": {
        "id": "4DwkqWOMcjSL"
      },
      "execution_count": null,
      "outputs": []
    },
    {
      "cell_type": "markdown",
      "source": [
        "Inheritance allows us to reuse attributes and methods from parent classes as well as extending beyond them by overriding or extending attibute and methods from parent classes.\n"
      ],
      "metadata": {
        "id": "-ZIaDvCeb81y"
      }
    },
    {
      "cell_type": "markdown",
      "source": [
        "### **Polymorphism**\n",
        "\n",
        "**Polymorphism** is the ability of different classes to respond to the same method call in their own way. It allows objects of different types to be treated through a common interface, usually by overriding a method from a parent class.\n",
        "\n",
        "In our examples above, the `work()` method behaves differently depending on which class is calling it.\n"
      ],
      "metadata": {
        "id": "mDbnyL2Sc4dk"
      }
    },
    {
      "cell_type": "code",
      "source": [
        "jane = Employee(\"Jane\", 70000)\n",
        "jane.work()"
      ],
      "metadata": {
        "colab": {
          "base_uri": "https://localhost:8080/"
        },
        "id": "FufiHnaRadsg",
        "outputId": "c78e35eb-dddf-4eaf-e0d1-82293e4e8ad3"
      },
      "execution_count": null,
      "outputs": [
        {
          "output_type": "stream",
          "name": "stdout",
          "text": [
            "Jane is working.\n"
          ]
        }
      ]
    },
    {
      "cell_type": "code",
      "source": [
        "jill = Manager(\"Jill\", 80000)\n",
        "jill.work()"
      ],
      "metadata": {
        "colab": {
          "base_uri": "https://localhost:8080/"
        },
        "id": "ytAd0979ba8A",
        "outputId": "3d46ef8d-1d51-4534-b0e8-7c6d207cbb71"
      },
      "execution_count": null,
      "outputs": [
        {
          "output_type": "stream",
          "name": "stdout",
          "text": [
            "Jill is managing...\n"
          ]
        }
      ]
    },
    {
      "cell_type": "code",
      "source": [
        "jack = Programmer(\"Jack\", 85000, \"Python\")\n",
        "jack.work()"
      ],
      "metadata": {
        "colab": {
          "base_uri": "https://localhost:8080/"
        },
        "id": "Q-83w-FjapUs",
        "outputId": "6e484bad-68fc-4516-f2d2-ee4f1f6d51db"
      },
      "execution_count": null,
      "outputs": [
        {
          "output_type": "stream",
          "name": "stdout",
          "text": [
            "Jack is working.\n",
            "Jack is coding in Python.\n"
          ]
        }
      ]
    },
    {
      "cell_type": "markdown",
      "source": [
        "### **Types of Inheritance:**\n",
        "\n",
        "1. **Single Inheritance:** A subclass inherits from one parent class.\n",
        "2. **Multiple Inheritance:** A subclass inherits from more than one parent class.\n",
        "3. **Multilevel Inheritance:** When a derived class becomes a base class for other classes.\n",
        "4. **Hierarchical Inheritance:** Multiple subclasses inherit from a single superclass.\n",
        "\n",
        "<br>\n",
        "\n",
        "<figure align=\"center\">\n",
        "  <img src=\"https://github.com/kchenTTP/python-series/blob/main/object_oriented_programming_in_python/assets/oop-inheritance.png?raw=true\" alt=\"oop-inheritance.png\" />\n",
        "  <figcaption>Object-Orient Programming Inheritance</figcaption>\n",
        "</figure>\n"
      ],
      "metadata": {
        "id": "ZERmvTwiyIKO"
      }
    },
    {
      "cell_type": "markdown",
      "source": [
        "#### **Multiple Inheritance Example (Additional Material)**\n",
        "\n",
        "For those curious about how multiple inheritance works, here's a quick example. You can skip this for now and come back later once you're more comfortable with inheritance basics.\n"
      ],
      "metadata": {
        "id": "sbuB3XmojIOA"
      }
    },
    {
      "cell_type": "markdown",
      "source": [
        "Here's an example of a secure web page using multiple inheritance.\n",
        "\n",
        "Parent Classes:\n",
        "- Authentication\n",
        "- Logging\n",
        "- DatabaseOperations\n",
        "\n",
        "Child Class:\n",
        "- WebPage\n"
      ],
      "metadata": {
        "id": "Q2eiK1hugasi"
      }
    },
    {
      "cell_type": "code",
      "source": [
        "class Authentication:\n",
        "  \"\"\"Authenticate users\"\"\"\n",
        "  def __init__(self):\n",
        "    self.authenticated_users = set()\n",
        "\n",
        "  def authenticate(self, user_id):\n",
        "    print(f\"Authenticating user {user_id}.\")\n",
        "    self.authenticated_users.add(user_id)\n",
        "\n",
        "  def is_authenticated(self, user_id):\n",
        "    return user_id in self.authenticated_users\n",
        "\n",
        "class Logging:\n",
        "  \"\"\"Log events\"\"\"\n",
        "  def __init__(self):\n",
        "    pass\n",
        "\n",
        "  def log(self, message):\n",
        "    print(f\"LOG: {message}\")\n",
        "\n",
        "class DatabaseOperations:\n",
        "  \"\"\"Perform database operations\"\"\"\n",
        "  def __init__(self, db_connection_string):\n",
        "    self.db_connection_string = db_connection_string\n",
        "\n",
        "  def query_database(self, query):\n",
        "    print(f\"Executing database query: {query}\")\n",
        "    # Simulate a database operation\n",
        "    return f\"Results for '{query}'\"\n",
        "\n",
        "\n",
        "# Using multiple inheritance to build a complex WebComponent\n",
        "class WebPage(Authentication, Logging, DatabaseOperations):\n",
        "  def __init__(self, db_connection_string):\n",
        "    Authentication.__init__(self)\n",
        "    Logging.__init__(self)\n",
        "    DatabaseOperations.__init__(self, db_connection_string)\n",
        "\n",
        "  def display_page(self, user_id, query):\n",
        "    # Check authentication\n",
        "    if not self.is_authenticated(user_id):\n",
        "      self.log(f\"User {user_id} is not authenticated.\")\n",
        "      return \"Access Denied\"\n",
        "\n",
        "    # Log the access attempt\n",
        "    self.log(f\"User {user_id} accessed the page with query: '{query}'\")\n",
        "\n",
        "    # Execute a database query related to the request\n",
        "    results = self.query_database(query)\n",
        "\n",
        "    return f\"Page content for user {user_id}: {results}\""
      ],
      "metadata": {
        "id": "XOzb9RBKcRHa"
      },
      "execution_count": null,
      "outputs": []
    },
    {
      "cell_type": "code",
      "source": [
        "db_connection_string = \"Server=myServerAddress;Database=myDataBase;User Id=myUsername;Password=myPassword;\"\n",
        "web_page = WebPage(db_connection_string)\n",
        "\n",
        "user_id = 12345\n",
        "query = \"SELECT * FROM users WHERE id=12345\"\n",
        "\n",
        "# Access webpage without authentication\n",
        "print(web_page.display_page(user_id, query))"
      ],
      "metadata": {
        "colab": {
          "base_uri": "https://localhost:8080/"
        },
        "id": "RYpboN8BfwB1",
        "outputId": "dca63655-a740-4dd5-bf05-1de1e6a0cd43"
      },
      "execution_count": null,
      "outputs": [
        {
          "output_type": "stream",
          "name": "stdout",
          "text": [
            "LOG: User 12345 is not authenticated.\n",
            "Access Denied\n"
          ]
        }
      ]
    },
    {
      "cell_type": "code",
      "source": [
        "# Authenticate the user and try again\n",
        "web_page.authenticate(user_id)\n",
        "print(web_page.display_page(user_id, query))"
      ],
      "metadata": {
        "colab": {
          "base_uri": "https://localhost:8080/"
        },
        "id": "WBVNk220g7yt",
        "outputId": "f3f8eb1e-27d2-49f0-9c0c-085a7aeb51d2"
      },
      "execution_count": null,
      "outputs": [
        {
          "output_type": "stream",
          "name": "stdout",
          "text": [
            "Authenticating user 12345.\n",
            "LOG: User 12345 accessed the page with query: 'SELECT * FROM users WHERE id=12345'\n",
            "Executing database query: SELECT * FROM users WHERE id=12345\n",
            "Page content for user 12345: Results for 'SELECT * FROM users WHERE id=12345'\n"
          ]
        }
      ]
    },
    {
      "cell_type": "markdown",
      "source": [
        "## **Composition**\n",
        "\n",
        "Composition builds functionality by combining simple classes (***components***), rather than relying on inheritance. The component classes usually don't make sense on their own and are tightly tied to the parent's lifecycle.\n",
        "\n",
        "> You can think of composition as a **\"part-of\"** relationship:\n",
        ">\n",
        "> - An *Engine* is part of a *Car*\n",
        "> - A *Database* is part of a *Website*\n",
        "> - *Sections* are part of a *Report*\n",
        "> - *Sensors* are part of a *Robot*\n"
      ],
      "metadata": {
        "id": "ueSxzCZ_ZbaS"
      }
    },
    {
      "cell_type": "code",
      "source": [
        "# Components\n",
        "class Track:\n",
        "  def __init__(self, title: str):\n",
        "    self.title = title\n",
        "\n",
        "\n",
        "class AlbumMetadata:\n",
        "  def __init__(self, title: str, artist: str, release_date: str, genre: str):\n",
        "    self.title = title\n",
        "    self.artist = artist\n",
        "    self.release_date = release_date\n",
        "    self.genre = genre"
      ],
      "metadata": {
        "id": "DbqH5hwBZbxB"
      },
      "execution_count": null,
      "outputs": []
    },
    {
      "cell_type": "code",
      "source": [
        "# Composition\n",
        "class MusicAlbum:\n",
        "  def __init__(self, title: str, artist: str, release_date: str, genre: str):\n",
        "    self.metadata = AlbumMetadata(title, artist, release_date, genre)  # component\n",
        "    self.tracks = []\n",
        "\n",
        "  def add_track(self, title: str):\n",
        "    track = Track(title)  # component\n",
        "    self.tracks.append(track)\n",
        "\n",
        "  def get_track_listing(self):\n",
        "    return [track.title for track in self.tracks]\n",
        "\n",
        "  def get_album_info(self):\n",
        "    return {\n",
        "        \"title\": self.metadata.title,\n",
        "        \"artist\": self.metadata.artist,\n",
        "        \"release_date\": self.metadata.release_date,\n",
        "        \"genre\": self.metadata.genre,\n",
        "    }"
      ],
      "metadata": {
        "id": "CzslnHqCnflB"
      },
      "execution_count": null,
      "outputs": []
    },
    {
      "cell_type": "markdown",
      "source": [
        "Tracks and album metadata are components that exist inside an album and don't typically stand alone on their own.\n"
      ],
      "metadata": {
        "id": "LDGIxW2w5Liv"
      }
    },
    {
      "cell_type": "code",
      "source": [
        "album = MusicAlbum(\n",
        "    \"The Dark Side of the Moon\",\n",
        "    \"Pink Floyd\",\n",
        "    \"1973-03-01\",\n",
        "    \"Progressive Rock\"\n",
        ")\n",
        "\n",
        "for track in [\"Speak to Me\", \"Breathe\", \"Time\"]:\n",
        "  album.add_track(track)"
      ],
      "metadata": {
        "id": "9DGGGuiYj3YK"
      },
      "execution_count": null,
      "outputs": []
    },
    {
      "cell_type": "code",
      "source": [
        "print(album.get_album_info())\n",
        "print(album.get_track_listing())"
      ],
      "metadata": {
        "colab": {
          "base_uri": "https://localhost:8080/"
        },
        "id": "iE3hGhEqnNlk",
        "outputId": "a0658a1d-2c9c-4b32-d6f0-f5893f615cae"
      },
      "execution_count": null,
      "outputs": [
        {
          "output_type": "stream",
          "name": "stdout",
          "text": [
            "{'title': 'The Dark Side of the Moon', 'artist': 'Pink Floyd', 'release_date': '1973-03-01', 'genre': 'Progressive Rock'}\n",
            "['Speak to Me', 'Breathe', 'Time']\n"
          ]
        }
      ]
    },
    {
      "cell_type": "markdown",
      "source": [
        "## **Aggregation**\n",
        "\n",
        "Aggregation is similar to composition, as it builds functionality by referencing other classes, but with even looser coupling.\n",
        "\n",
        "In aggregation, the component classes can exist independently of the parent. Their lifecycles are not tied together, meaning components can be shared, reused, or exist without a parent.\n",
        "\n",
        "> You can think of aggregation as an **\"has-a\"** relationship:\n",
        ">\n",
        "> - A *Team* has *Players* (players can exist outside the team)\n",
        "> - A *Library* has *Books* (books can exist without the library)\n",
        "> - A *Company* has *Departments* (departments can operate independently)\n",
        "\n",
        "\n",
        "<figure align=\"center\">\n",
        "  <img src=\"https://github.com/kchenTTP/python-series/blob/main/object_oriented_programming_in_python/assets/oop-composition-vs-aggregation.png?raw=true\" alt=\"oop-composition-vs-aggregation.png\" />\n",
        "  <figcaption>Composition vs Aggregation</figcaption>\n",
        "</figure>\n"
      ],
      "metadata": {
        "id": "iJOhb0ZpVUfy"
      }
    },
    {
      "cell_type": "code",
      "source": [
        "# Components\n",
        "class Book:\n",
        "  def __init__(self, title, author, isbn):\n",
        "    self.title = title\n",
        "    self.author = author\n",
        "    self.isbn = isbn"
      ],
      "metadata": {
        "id": "De4vNDx7VZCi"
      },
      "execution_count": null,
      "outputs": []
    },
    {
      "cell_type": "code",
      "source": [
        "# Aggregation\n",
        "class Library:\n",
        "  def __init__(self, name):\n",
        "    self.name = name\n",
        "    self.books = []\n",
        "\n",
        "  def add_book(self, book):\n",
        "    if book not in self.books:\n",
        "      self.books.append(book)\n",
        "\n",
        "  def remove_book(self, book):\n",
        "    if book in self.books:\n",
        "      self.books.remove(book)\n",
        "\n",
        "  def available_books(self):\n",
        "    return [book.title for book in self.books]"
      ],
      "metadata": {
        "id": "DWUn6sPjr8jy"
      },
      "execution_count": null,
      "outputs": []
    },
    {
      "cell_type": "markdown",
      "source": [
        "A book can exist without a library. A library simply ***aggregates*** books in one place.\n"
      ],
      "metadata": {
        "id": "2Ay1cHKV4zP5"
      }
    },
    {
      "cell_type": "code",
      "source": [
        "# Libraries\n",
        "snfl = Library(\"Stavros Niarchos Foundation Library\")\n",
        "chatham_square = Library(\"Chatham Square Library\")"
      ],
      "metadata": {
        "id": "50uj3VtHsKGR"
      },
      "execution_count": null,
      "outputs": []
    },
    {
      "cell_type": "code",
      "source": [
        "# Books can exist independently\n",
        "book1 = Book(\"1984\", \"George Orwell\", \"978-0451524935\")\n",
        "book2 = Book(\"Dune\", \"Frank Herbert\", \"978-0441172719\")"
      ],
      "metadata": {
        "id": "5NJMfzeXsGuP"
      },
      "execution_count": null,
      "outputs": []
    },
    {
      "cell_type": "code",
      "source": [
        "# Add books to libraries\n",
        "snfl.add_book(book1)\n",
        "snfl.add_book(book2)\n",
        "\n",
        "# Books can be transferred between libraries\n",
        "snfl.remove_book(book2)\n",
        "chatham_square.add_book(book2)\n",
        "\n",
        "print(snfl.available_books())\n",
        "print(chatham_square.available_books())"
      ],
      "metadata": {
        "colab": {
          "base_uri": "https://localhost:8080/"
        },
        "id": "SQpOQk4dsPAH",
        "outputId": "13fae87b-3aba-463b-f04e-3d329ff418ea"
      },
      "execution_count": null,
      "outputs": [
        {
          "output_type": "stream",
          "name": "stdout",
          "text": [
            "['1984']\n",
            "['Dune']\n"
          ]
        }
      ]
    },
    {
      "cell_type": "markdown",
      "source": [
        "## **Association**\n",
        "\n",
        "Association is a general relationship between two independent classes that can interact with each other. Unlike composition or aggregation, association doesn't imply ownership or lifecycle control, just that objects are connected in some way.\n",
        "\n",
        "Association is the most flexible and loosely coupled of the relationships as it simply models how objects communicate.\n"
      ],
      "metadata": {
        "id": "vmSTzD9AVZWc"
      }
    },
    {
      "cell_type": "code",
      "source": [
        "class Movie:\n",
        "  def __init__(self, title: str, studio: str):\n",
        "    self.title = title\n",
        "    self.studio = studio  # Each movie has one studio\n",
        "\n",
        "\n",
        "class FilmStudio:\n",
        "  def __init__(self, name: str):\n",
        "    self.name = name\n",
        "    self.movies: list[Movie] = []  # One studio can have many movies\n",
        "\n",
        "  def create_movie(self, movie_title: str) -> Movie:\n",
        "    new_movie = Movie(movie_title, self.name)\n",
        "    self.movies.append(new_movie)\n",
        "    return new_movie\n",
        "\n",
        "\n",
        "class Viewer:\n",
        "  def __init__(self, name: str):\n",
        "    self.name = name\n",
        "    self.movies_watched: list[Movie] = []  # A viewer can watch multiple movies\n",
        "\n",
        "  def watch_movie(self, movie: Movie):\n",
        "    if movie not in self.movies_watched:\n",
        "      self.movies_watched.append(movie)\n",
        "    print(f\"{self.name} watched '{movie.title}'.\")"
      ],
      "metadata": {
        "id": "mevIxwyOu94j"
      },
      "execution_count": null,
      "outputs": []
    },
    {
      "cell_type": "markdown",
      "source": [
        "As you can see, film studios, movies, and viewers are ***associated*** with one another, but they don't necessarily have ownership over each other.\n"
      ],
      "metadata": {
        "id": "6VQm78AE4dSj"
      }
    },
    {
      "cell_type": "code",
      "source": [
        "# Film studio\n",
        "dreamworks = FilmStudio(\"DreamWorks Animation\")\n",
        "\n",
        "# Movies\n",
        "shrek = dreamworks.create_movie(\"Shrek\")\n",
        "kung_fu_panda = dreamworks.create_movie(\"Kung Fu Panda\")\n",
        "\n",
        "print(f\"{dreamworks.name} movies: {[m.title for m in dreamworks.movies]}\")"
      ],
      "metadata": {
        "colab": {
          "base_uri": "https://localhost:8080/"
        },
        "id": "gxArZoeNxzsF",
        "outputId": "93f4a886-0110-4d68-e348-079b8b907a75"
      },
      "execution_count": null,
      "outputs": [
        {
          "output_type": "stream",
          "name": "stdout",
          "text": [
            "DreamWorks Animation movies: ['Shrek', 'Kung Fu Panda']\n"
          ]
        }
      ]
    },
    {
      "cell_type": "code",
      "source": [
        "# Viewer\n",
        "brandon = Viewer(\"Brandon\")\n",
        "\n",
        "brandon.watch_movie(kung_fu_panda)\n",
        "brandon.watch_movie(shrek)\n",
        "\n",
        "print(f\"{brandon.name} watched: {[m.title for m in brandon.movies_watched]}\")"
      ],
      "metadata": {
        "colab": {
          "base_uri": "https://localhost:8080/"
        },
        "id": "mFaL42lCx_1n",
        "outputId": "a2698598-b9e7-4215-d505-a9f871cdf7cb"
      },
      "execution_count": null,
      "outputs": [
        {
          "output_type": "stream",
          "name": "stdout",
          "text": [
            "Brandon watched 'Kung Fu Panda'.\n",
            "Brandon watched 'Shrek'.\n",
            "Brandon watched: ['Kung Fu Panda', 'Shrek']\n"
          ]
        }
      ]
    },
    {
      "cell_type": "markdown",
      "source": [
        "## **Things to Consider When Working with Object-Oriented Relationships**\n",
        "\n",
        "- Prefer **composition** to build complex behavior from small, focused parts as it improves flexibility and testability.\n",
        "\n",
        "- Avoid deep inheritance hierarchies; favor composition or aggregation for easier maintenance and modular design.\n",
        "\n",
        "- Minimize **coupling** to make classes easier to change and reuse.\n",
        "\n",
        "- Design relationships around **behavior and responsibility**, not just data structure.\n"
      ],
      "metadata": {
        "id": "rMoLuMLMjS6z"
      }
    },
    {
      "cell_type": "markdown",
      "source": [
        "## **Conclusion**\n",
        "\n",
        "This wraps up our series of OOP classes! To read more about OOP relationships, feel free to explore the resources below:\n",
        "\n",
        "* [Real Python - Inheritance and Composition](https://realpython.com/inheritance-composition-python/)\n",
        "* [Python Textbook - Object-Oriented Programming](https://python-textbok.readthedocs.io/en/1.0/Object_Oriented_Programming.html)\n",
        "\n",
        "<br>\n",
        "\n",
        "### **Extra**\n",
        "\n",
        "Want to dive into more advanced OOP topics?\n",
        "Check out the bonus Colab notebook:\n",
        "[Colab Notebook - Extra Concepts of OOP](https://colab.research.google.com/drive/1apjkdKLk_vms5uIT-fnxy4PBN8-1vrpw?usp=sharing)\n"
      ],
      "metadata": {
        "id": "75f3W_HdnUyB"
      }
    }
  ]
}