{
  "nbformat": 4,
  "nbformat_minor": 0,
  "metadata": {
    "colab": {
      "provenance": [],
      "toc_visible": true,
      "collapsed_sections": [
        "Y3LGKALK_WB4",
        "uoOOAzsPL46x"
      ],
      "authorship_tag": "ABX9TyMnGV1cE/P/YsbsYzthWzpC",
      "include_colab_link": true
    },
    "kernelspec": {
      "name": "python3",
      "display_name": "Python 3"
    },
    "language_info": {
      "name": "python"
    }
  },
  "cells": [
    {
      "cell_type": "markdown",
      "metadata": {
        "id": "view-in-github",
        "colab_type": "text"
      },
      "source": [
        "<a href=\"https://colab.research.google.com/github/kchenTTP/python-series/blob/main/object_oriented_programming_in_python/Object_Oriented_Programming_in_Python_Part_2_Attributes%2C_Methods_%26_Properties.ipynb\" target=\"_parent\"><img src=\"https://colab.research.google.com/assets/colab-badge.svg\" alt=\"Open In Colab\"/></a>"
      ]
    },
    {
      "cell_type": "markdown",
      "source": [
        "# **Object Oriented Programming in Python Part 2: Attributes, Methods & Properties**\n",
        "\n",
        "In the previous class, we covered the basics of object-oriented programming. In this class, we'll look at the different ways of accessing data and methods of a class.\n",
        "\n",
        "### **Table of Contents**\n",
        "\n",
        "- [Encapsulation & Access Modifiers](#scrollTo=B4diOn6q9fQP)\n",
        "- [Instance vs Class Attributes](#scrollTo=Y3LGKALK_WB4)\n",
        "- [Class Methods vs Static Methods](#scrollTo=dsk4TXdoVUaK)\n",
        "- [Property Decorators](#scrollTo=X4i4o34EdI0p)\n"
      ],
      "metadata": {
        "id": "u77EAJpG99fN"
      }
    },
    {
      "cell_type": "markdown",
      "source": [
        "## **Encapsulation & Access Modifiers**\n",
        "\n",
        "**Encapsulation** is a fundamental concept in object-oriented programming (OOP) that combines data (**attributes**) and behavior (**methods**) into a single unit (**class**).\n",
        "\n",
        "It ensures an object's internal state is protected by restricting direct access and providing controlled ways to interact with its data. This is achieved through **access modifiers**, which define the visibility and accessibility of a class's attributes and methods.\n",
        "\n",
        "<br>\n",
        "\n",
        "**Why Encapsulation?**\n",
        "\n",
        "- **Data Protection**\n",
        "\n",
        "  Encapsulation ensures that internal object state cannot be altered in unexpected or harmful ways. It enforces controlled access through well-defined interfaces *(methods)*.\n",
        "\n",
        "- **Improved Maintainability**\n",
        "\n",
        "  The ability to change the internal implementation of a class (e.g., how data is stored or processed) without affecting the external code that uses the class makes it easier to maintain and extend.\n",
        "\n",
        "- **Abstraction**\n",
        "\n",
        "  Encapsulation hides the internal workings of a class from the user, exposing only the necessary functionality through public methods. This reduces complexity for the user.\n"
      ],
      "metadata": {
        "id": "B4diOn6q9fQP"
      }
    },
    {
      "cell_type": "markdown",
      "source": [
        "### **Access Modifiers**\n",
        "\n",
        "In OOP, there are three main types of access modifiers that control the visibility and accessibility of attributes and methods.\n"
      ],
      "metadata": {
        "id": "fdiqe7YkBjc3"
      }
    },
    {
      "cell_type": "markdown",
      "source": [
        "#### **1. Public**\n",
        "\n",
        "Public attributes and methods are accessible from anywhere, both inside and outside the class.\n",
        "\n",
        "> 💡 Use public access for data and methods that should be freely accessible to the outside world.\n"
      ],
      "metadata": {
        "id": "O4bu12i4BsuH"
      }
    },
    {
      "cell_type": "code",
      "source": [
        "class Car:\n",
        "  def __init__(self, make: str, model: str):\n",
        "    # Public Attributes\n",
        "    self.make = make\n",
        "    self.model = model\n",
        "\n",
        "  # Public Method\n",
        "  def display_info(self):\n",
        "    print(f\"Car: {self.make}; Model: {self.model}\")\n",
        "\n",
        "car = Car(\"Toyota\", \"Camry\")\n",
        "\n",
        "# ------ Accessible Anywhere ------\n",
        "car.display_info()\n",
        "print(car.make)\n",
        "print(car.model)"
      ],
      "metadata": {
        "colab": {
          "base_uri": "https://localhost:8080/"
        },
        "id": "bfmK-Q1BCC4f",
        "outputId": "0cdea74b-bf16-4678-9ffb-11458dd20d4f"
      },
      "execution_count": null,
      "outputs": [
        {
          "output_type": "stream",
          "name": "stdout",
          "text": [
            "Car: Toyota; Model: Camry\n",
            "Toyota\n",
            "Camry\n"
          ]
        }
      ]
    },
    {
      "cell_type": "markdown",
      "source": [
        "#### **2. Protected**\n",
        "\n",
        "Protected attributes and methods are intended to be accessed only **within** the class or its subclasses. In Python, a ***single underscore*** (`_`) prefix is used as a convention to indicate protected members.\n",
        "\n",
        "> 🚨 While not strictly enforced by the language *(meaning you can still access it)*, this indicates that the attribute or method **should not** be accessed directly outside the class.\n"
      ],
      "metadata": {
        "id": "y2hFOJwpB8HG"
      }
    },
    {
      "cell_type": "code",
      "source": [
        "class Weather:\n",
        "  def __init__(self, weather: str, *, celcius: float | None = None, fahrenheit: float | None = None, kelvin: float | None = None):\n",
        "    # Check if one and only one of the temperature units is provided\n",
        "    if not celcius and not fahrenheit and not kelvin:\n",
        "      raise ValueError(\"At least one temperature unit must be provided\")\n",
        "    elif bool(celcius) + bool(fahrenheit) + bool(kelvin) > 1:\n",
        "      raise ValueError(\"Only one temperature unit can be provided\")\n",
        "\n",
        "    # Public Attribute\n",
        "    self.weather = weather\n",
        "\n",
        "    # Calling protected methods to convert units\n",
        "    if celcius:\n",
        "      self.celcius = celcius\n",
        "      self.fahrenheit = self._c_to_f(celcius)\n",
        "      self.kelvin = self._c_to_k(celcius)\n",
        "    if fahrenheit:\n",
        "      self.fahrenheit = fahrenheit\n",
        "      self.celcius = self._f_to_c(fahrenheit)\n",
        "      self.kelvin = self._f_to_k(fahrenheit)\n",
        "    if kelvin:\n",
        "      self.kelvin = kelvin\n",
        "      self.celcius = self._k_to_c(kelvin)\n",
        "      self.fahrenheit = self._k_to_f(kelvin)\n",
        "\n",
        "  # Protected Method\n",
        "  def _c_to_f(self, celcius: float) -> float:\n",
        "    return (celcius * 9/5) + 32\n",
        "\n",
        "  # Protected Method\n",
        "  def _f_to_c(self, fahrenheit) -> float:\n",
        "    return (fahrenheit - 32) * 5/9\n",
        "\n",
        "  # Protected Method\n",
        "  def _c_to_k(self, celcius: float) -> float:\n",
        "    return celcius + 273.15\n",
        "\n",
        "  # Protected Method\n",
        "  def _f_to_k(self, fahrenheit: float) -> float:\n",
        "    return self._c_to_k(self._f_to_c(fahrenheit))\n",
        "\n",
        "  # Protected Method\n",
        "  def _k_to_c(self, kelvin: float) -> float:\n",
        "    return kelvin - 273.15\n",
        "\n",
        "  # Protected Method\n",
        "  def _k_to_f(self, kelvin: float) -> float:\n",
        "    return self._c_to_f(self._k_to_c(kelvin))"
      ],
      "metadata": {
        "id": "DI8zD0edChqh"
      },
      "execution_count": null,
      "outputs": []
    },
    {
      "cell_type": "code",
      "source": [
        "weather_today = Weather(\"Sunny\", celcius=25.0)\n",
        "\n",
        "print(f\"Weather: {weather_today.weather}\")\n",
        "print(f\"Celcius: {weather_today.celcius} °C\")\n",
        "print(f\"Fahrenheit: {weather_today.fahrenheit} °F\")\n",
        "print(f\"Kelvin: {weather_today.kelvin} °K\")\n",
        "print(\"--------\")\n",
        "\n",
        "# Protected attributes and methods are still accessible, but not it indicates that they are not intended to be accessed directly\n",
        "print(weather_today._c_to_f(25.0))\n",
        "print(weather_today._c_to_k(25.0))"
      ],
      "metadata": {
        "colab": {
          "base_uri": "https://localhost:8080/"
        },
        "id": "BbaXnibHFB4P",
        "outputId": "a5164ce3-4e6f-4495-98a5-c7b731d872d9"
      },
      "execution_count": null,
      "outputs": [
        {
          "output_type": "stream",
          "name": "stdout",
          "text": [
            "Weather: Sunny\n",
            "Celcius: 25.0 °C\n",
            "Fahrenheit: 77.0 °F\n",
            "Kelvin: 298.15 °K\n",
            "--------\n",
            "77.0\n",
            "298.15\n"
          ]
        }
      ]
    },
    {
      "cell_type": "markdown",
      "source": [
        "#### **3. Private**\n",
        "\n",
        "Private attributes and methods are designed to be **hidden** from direct access outside the class. In Python, a ***double underscore*** (`__`) prefix is used to mark them as private.\n",
        "\n",
        "> 💡 Python uses **name-mangling** to make these members less accessible from outside the class. While not truly inaccessible, you can still access private attributes or methods using the syntax `_ClassName__AttributeName` or `_ClassName__MethodName`.\n"
      ],
      "metadata": {
        "id": "AoCsMH-rCiAE"
      }
    },
    {
      "cell_type": "code",
      "source": [
        "from datetime import datetime\n",
        "\n",
        "class PersonID:\n",
        "  def __init__(self, firstname: str, lastname: str, birthday: datetime, ssn: int):\n",
        "    # Public Attributes\n",
        "    self.fullname = f\"{firstname} {lastname}\"\n",
        "\n",
        "    # Private Attributes\n",
        "    self.__b = birthday\n",
        "    if len(str(ssn)) == 9:\n",
        "      self.__ssn = ssn\n",
        "    else:\n",
        "      raise ValueError(\"Invalid SSN\")\n",
        "\n",
        "  # Use properties to get private attributes if you still need a way to access it from outside of the class\n",
        "  @property\n",
        "  def birthday(self) -> datetime:\n",
        "    return self.__b\n",
        "\n",
        "  @birthday.setter\n",
        "  def birthday(self, new_birthday: datetime):\n",
        "    self.__b = new_birthday\n",
        "\n",
        "  @property\n",
        "  def age(self) -> int:\n",
        "    return self._calculate_age()\n",
        "\n",
        "  # Public Method\n",
        "  def display_info(self):\n",
        "    print(f\"Name: {self.fullname}\")\n",
        "    print(f\"Birthday: {self.birthday}\")\n",
        "    print(f\"Age: {self._calculate_age()}\")\n",
        "\n",
        "  # Protected Method\n",
        "  def _calculate_age(self):\n",
        "    today = datetime.today()\n",
        "    return today.year - self.birthday.year\n",
        "\n",
        "  # Private Method\n",
        "  def __display_ssn(self):\n",
        "    print(f\"SSN: {'-'.join([str(self.__ssn)[i:i+3] for i in range(0, len(str(self.__ssn)), 3)])}\")"
      ],
      "metadata": {
        "id": "9giiypxSIEwE"
      },
      "execution_count": null,
      "outputs": []
    },
    {
      "cell_type": "code",
      "source": [
        "bob_id = PersonID(firstname=\"Bob\", lastname=\"Bobberston\", birthday=datetime(1990, 1, 1, 22, 38, 40), ssn=123456789)\n",
        "bob_id.display_info()"
      ],
      "metadata": {
        "colab": {
          "base_uri": "https://localhost:8080/"
        },
        "id": "AqUjHPKeISNT",
        "outputId": "b5301323-25cd-478b-f997-d5b4a50ba57d"
      },
      "execution_count": null,
      "outputs": [
        {
          "output_type": "stream",
          "name": "stdout",
          "text": [
            "Name: Bob Bobberston\n",
            "Birthday: 1990-01-01 22:38:40\n",
            "Age: 35\n"
          ]
        }
      ]
    },
    {
      "cell_type": "code",
      "source": [
        "# Cannot access private method or attribute directly due to name mangling\n",
        "print(bob_id.__ssn)\n",
        "# print(bob_id.__display_ssn())"
      ],
      "metadata": {
        "colab": {
          "base_uri": "https://localhost:8080/",
          "height": 176
        },
        "id": "QMrWD1IJI25G",
        "outputId": "163d06dd-a218-4d62-9308-3b2c00702b51"
      },
      "execution_count": null,
      "outputs": [
        {
          "output_type": "error",
          "ename": "AttributeError",
          "evalue": "'PersonID' object has no attribute '__ssn'",
          "traceback": [
            "\u001b[0;31m---------------------------------------------------------------------------\u001b[0m",
            "\u001b[0;31mAttributeError\u001b[0m                            Traceback (most recent call last)",
            "\u001b[0;32m<ipython-input-79-2ddcff78920e>\u001b[0m in \u001b[0;36m<cell line: 0>\u001b[0;34m()\u001b[0m\n\u001b[1;32m      1\u001b[0m \u001b[0;31m# Cannot access private method or attribute directly due to name mangling\u001b[0m\u001b[0;34m\u001b[0m\u001b[0;34m\u001b[0m\u001b[0m\n\u001b[0;32m----> 2\u001b[0;31m \u001b[0mprint\u001b[0m\u001b[0;34m(\u001b[0m\u001b[0mbob_id\u001b[0m\u001b[0;34m.\u001b[0m\u001b[0m__ssn\u001b[0m\u001b[0;34m)\u001b[0m\u001b[0;34m\u001b[0m\u001b[0;34m\u001b[0m\u001b[0m\n\u001b[0m\u001b[1;32m      3\u001b[0m \u001b[0;31m# print(bob_id.__display_ssn())\u001b[0m\u001b[0;34m\u001b[0m\u001b[0;34m\u001b[0m\u001b[0m\n",
            "\u001b[0;31mAttributeError\u001b[0m: 'PersonID' object has no attribute '__ssn'"
          ]
        }
      ]
    },
    {
      "cell_type": "code",
      "source": [
        "# Though you can technically still access them using special syntax\n",
        "print(bob_id._PersonID__b)\n",
        "bob_id._PersonID__display_ssn()"
      ],
      "metadata": {
        "colab": {
          "base_uri": "https://localhost:8080/"
        },
        "id": "WbhaorFyJPxb",
        "outputId": "3fed66a5-8823-40f1-8096-4abe048f6bf0"
      },
      "execution_count": null,
      "outputs": [
        {
          "output_type": "stream",
          "name": "stdout",
          "text": [
            "1990-01-01 22:38:40\n",
            "SSN: 123-456-789\n"
          ]
        }
      ]
    },
    {
      "cell_type": "markdown",
      "source": [
        "## **Instance vs Class Attributes**\n",
        "\n",
        "In Object-Oriented Programming, attributes can belong either to individual **objects** *(instances)* or to the **class** as a whole.\n",
        "\n",
        "- **Instance Attributes**\n",
        "\n",
        "  - Instance attributes are attributes specific to each instance of the class.\n",
        "  - Each object maintains its own copy, so *changes to one object's instance attribute won't affect others*.\n",
        "  - Instance attributes are typically set in the `__init__()` method and are defined using the `self` keyword to associate them with the current instance.\n",
        "\n",
        "- **Class Attributes**\n",
        "\n",
        "  - Class attributes are shared across all instances of the class.\n",
        "  - They are defined directly within the class body, outside of any methods.\n",
        "  - ***If the class attribute is modified at the class level, the change affects all instances. However, if an instance modifies the class attribute, it creates a separate instance attribute, leaving the class attribute and other instances unchanged.***\n"
      ],
      "metadata": {
        "id": "Y3LGKALK_WB4"
      }
    },
    {
      "cell_type": "code",
      "source": [
        "class Student:\n",
        "  school_name = \"Python Academy\"  # Class attribute (shared by all instances)\n",
        "\n",
        "  def __init__(self, name):\n",
        "    self.name = name            # Instance attribute (unique to each instance)\n",
        "    self.grades = []\n",
        "\n",
        "# Using class and instance attributes\n",
        "student1 = Student(\"Wang\")\n",
        "student2 = Student(\"Timothee\")\n",
        "student3 = Student(\"Barbra\")\n",
        "\n",
        "print(f\"Student Name: {student1.name}\")\n",
        "print(f\"School Name: {student1.school_name}\")\n",
        "print(\"--------\")\n",
        "\n",
        "print(f\"Student Name: {student2.name}\")\n",
        "print(f\"School Name: {student2.school_name}\")\n",
        "print(\"--------\")\n",
        "\n",
        "print(f\"Student Name: {student3.name}\")\n",
        "print(f\"School Name: {student3.school_name}\")"
      ],
      "metadata": {
        "colab": {
          "base_uri": "https://localhost:8080/"
        },
        "id": "KkaeCy1Z_sG-",
        "outputId": "8910c017-422e-4bff-dcba-bc8d44d21190"
      },
      "execution_count": null,
      "outputs": [
        {
          "output_type": "stream",
          "name": "stdout",
          "text": [
            "Student Name: Wang\n",
            "School Name: Python Academy\n",
            "--------\n",
            "Student Name: Timothee\n",
            "School Name: Python Academy\n",
            "--------\n",
            "Student Name: Barbra\n",
            "School Name: Python Academy\n"
          ]
        }
      ]
    },
    {
      "cell_type": "markdown",
      "source": [
        "**Managing a Class Attribute Within the Class**\n",
        "\n",
        "To manage class attributes from within the class itself, you can use the class name directly, i.e., `ClassName.attribute`. This allows you to modify and access class-level data across all instances of the class.\n"
      ],
      "metadata": {
        "id": "GmlzjJNnARTo"
      }
    },
    {
      "cell_type": "code",
      "source": [
        "class Example:\n",
        "  class_attribute = \"I am a class attribute\"\n",
        "\n",
        "  def get_class_attribute(self):\n",
        "    return Example.class_attribute\n",
        "\n",
        "  def set_class_attribute(self, new_value: str):\n",
        "    Example.class_attribute = new_value\n",
        "\n",
        "exp = Example()\n",
        "print(exp.get_class_attribute())\n",
        "exp.set_class_attribute(\"I am a new class attribute\")\n",
        "print(exp.get_class_attribute())"
      ],
      "metadata": {
        "colab": {
          "base_uri": "https://localhost:8080/"
        },
        "id": "DwGrkExuAQ97",
        "outputId": "c6cf9f02-94be-471a-bb06-0550210ed999"
      },
      "execution_count": null,
      "outputs": [
        {
          "output_type": "stream",
          "name": "stdout",
          "text": [
            "I am a class attribute\n",
            "I am a new class attribute\n"
          ]
        }
      ]
    },
    {
      "cell_type": "markdown",
      "source": [
        "**Changing a Class Attribute via the Class**\n",
        "\n",
        "If you modify the value of a class attribute using the class itself, it will affect all instances that haven't ***shadowed*** the attribute.\n",
        "\n",
        "> 📒 **Note:**\n",
        ">\n",
        "> **Attribute shadowing** occurs when an instance attribute has the same name as a class attribute. When this happens, the instance attribute _\"shadows\"_ or _\"masks\"_ the class attribute, meaning that accessing the attribute through an instance will return the instance attribute's value instead of the class attribute's value.\n"
      ],
      "metadata": {
        "id": "MHr8nyXP_8D0"
      }
    },
    {
      "cell_type": "code",
      "source": [
        "student1.school_name = \"New School\"  # Dynamically added a new school_name instance attribute -> Shadows the class attribute with the same name\n",
        "print(student1.school_name)\n",
        "print(student2.school_name)\n",
        "print(student3.school_name)\n",
        "print(\"--------\")\n",
        "\n",
        "print(student1.__dict__)  # Contains attributes that does not exist in class definition\n",
        "print(student2.__dict__)\n",
        "print(student3.__dict__)\n",
        "print(\"--------\")\n",
        "\n",
        "# Modification at the Class Level\n",
        "Student.school_name = \"Newer School\"\n",
        "print(student1.school_name)  # class attribute also changed, but we cannot tell since it is being shadowed be an instance attribute with the same name\n",
        "print(student2.school_name)\n",
        "print(student3.school_name)"
      ],
      "metadata": {
        "colab": {
          "base_uri": "https://localhost:8080/"
        },
        "id": "ly0hFXpGAo5C",
        "outputId": "d8cd7f69-dd7f-40af-bd0d-8decda9b8a15"
      },
      "execution_count": null,
      "outputs": [
        {
          "output_type": "stream",
          "name": "stdout",
          "text": [
            "New School\n",
            "Python Academy\n",
            "Python Academy\n",
            "--------\n",
            "{'name': 'Wang', 'grades': [], 'school_name': 'New School'}\n",
            "{'name': 'Timothee', 'grades': []}\n",
            "{'name': 'Barbra', 'grades': []}\n",
            "--------\n",
            "New School\n",
            "Newer School\n",
            "Newer School\n"
          ]
        }
      ]
    },
    {
      "cell_type": "markdown",
      "source": [
        "## **Class Methods and Static Methods**\n"
      ],
      "metadata": {
        "id": "dsk4TXdoVUaK"
      }
    },
    {
      "cell_type": "markdown",
      "source": [
        "### **Class Methods**\n",
        "\n",
        "Class methods are methods that work with the class itself rather than instances of the class. They are decorated with `@classmethod` and receive the class as their first parameter (conventionally called `cls`). Here are a few reasons for using class methods:\n",
        "\n",
        "<br>\n",
        "\n",
        "**Managing Class-Level State**\n",
        "\n",
        "Class methods can modify or retrieve class-level state that applies to all instances.\n"
      ],
      "metadata": {
        "id": "VMRrLm3VcJWd"
      }
    },
    {
      "cell_type": "code",
      "source": [
        "class Employee:\n",
        "  company: str = \"Tech Corp\"\n",
        "  active_employees: int = 0\n",
        "\n",
        "  def __init__(self, name, salary):\n",
        "    self.name: str = name\n",
        "    self.salary: float = salary\n",
        "    Employee.active_employees += 1\n",
        "\n",
        "  def __del__(self):\n",
        "    Employee.active_employees -= 1\n",
        "\n",
        "  @classmethod\n",
        "  def set_company(cls, new_company):\n",
        "    cls.company = new_company\n",
        "\n",
        "  @classmethod\n",
        "  def get_active_employees(cls):\n",
        "    return cls.active_employees\n",
        "\n",
        "  @classmethod\n",
        "  def get_company(cls):\n",
        "    return cls.company\n",
        "\n",
        "# Using class methods\n",
        "print(f\"Company: {Employee.get_company()}\")\n",
        "Employee.set_company(\"New Corp\")\n",
        "print(f\"New Company: {Employee.get_company()}\")\n",
        "print(\"---------\")\n",
        "\n",
        "Tom = Employee(\"Tom\", 50000)\n",
        "Alice = Employee(\"Jenna\", 60000)\n",
        "print(f\"Active Employees: {Employee.get_active_employees()}\")\n",
        "\n",
        "del Alice\n",
        "print(f\"Active Employees: {Employee.get_active_employees()}\")"
      ],
      "metadata": {
        "id": "muihD4tocN1e"
      },
      "execution_count": null,
      "outputs": []
    },
    {
      "cell_type": "markdown",
      "source": [
        "**Factory Methods for Object Creation**\n",
        "\n",
        "Sometimes you need different ways to create objects from a class. Class methods can be used as an alternative constructor.\n",
        "\n",
        "> 📒 **Note:** Here, our class method returns a `cls` (the class) instance, providing an alternative way to create an object.\n"
      ],
      "metadata": {
        "id": "5SOwEBjIcR_L"
      }
    },
    {
      "cell_type": "code",
      "source": [
        "class Date:\n",
        "  def __init__(self, year: int, month: int, day: int):\n",
        "    self.year = year\n",
        "    self.month = month\n",
        "    self.day = day\n",
        "\n",
        "  @property\n",
        "  def date(self):\n",
        "    return f\"{self.year}-{self.month}-{self.day}\"\n",
        "\n",
        "  @classmethod\n",
        "  def from_string(cls, date_string: str) -> \"Date\":\n",
        "    try:\n",
        "      year, month, day = map(int, date_string.split('-'))\n",
        "    except ValueError:\n",
        "      raise ValueError(\"Invalid date format. Use 'YYYY-MM-DD'.\")\n",
        "    return cls(year, month, day)\n",
        "\n",
        "# Example\n",
        "date1 = Date(2024, 1, 15)   # Using __init__\n",
        "date2 = Date.from_string(\"2024-1-15\")  # Using alternate constructor\n",
        "\n",
        "print(date1.date)\n",
        "print(date2.date)"
      ],
      "metadata": {
        "id": "6j1qoFJEcaaw"
      },
      "execution_count": null,
      "outputs": []
    },
    {
      "cell_type": "markdown",
      "source": [
        "#### **Examples (Additional Material)**\n",
        "\n",
        "Now let's look at some real world examples at how you could use class methods\n"
      ],
      "metadata": {
        "id": "b3uMmcLfmNqs"
      }
    },
    {
      "cell_type": "markdown",
      "source": [
        "**Role-Based Access Control in a User Management System**\n"
      ],
      "metadata": {
        "id": "6DDRT7jaL7kT"
      }
    },
    {
      "cell_type": "code",
      "source": [
        "from typing import Literal\n",
        "\n",
        "class User:\n",
        "  roles: dict[str, list] = {\"admin\": [], \"editor\": [], \"viewer\": []}\n",
        "  permissions: dict[str, list[Literal[\"create\", \"read\", \"update\", \"delete\"]]] = {\n",
        "      \"admin\": [\"create\", \"read\", \"update\", \"delete\"],\n",
        "      \"editor\": [\"read\", \"update\"],\n",
        "      \"viewer\": [\"read\"],\n",
        "    }\n",
        "\n",
        "  def __init__(self, username: str, role: str = \"viewer\"):\n",
        "    if role not in User.roles:\n",
        "      raise ValueError(f\"Invalid role: {role}\")\n",
        "    self.username = username\n",
        "    self.role = role\n",
        "    User.roles[role].append(username)\n",
        "\n",
        "  @classmethod\n",
        "  def show_roles(cls):\n",
        "    print(cls.roles)\n",
        "\n",
        "  @classmethod\n",
        "  def get_users_by_role(cls, role: str) -> list:\n",
        "    if role not in cls.roles:\n",
        "      raise ValueError(f\"Role '{role}' does not exist.\")\n",
        "    return cls.roles[role]\n",
        "\n",
        "  def has_permission(self, action: Literal[\"create\", \"read\", \"update\", \"delete\"]) -> bool:\n",
        "    return action in User.permissions.get(self.role, [])\n",
        "\n",
        "  def perform_action(self, action: Literal[\"create\", \"read\", \"update\", \"delete\"]):\n",
        "    if self.has_permission(action):\n",
        "      return f\"{self.username} can {action}.\"\n",
        "    else:\n",
        "      return f\"{self.username} cannot {action} due to insufficient permissions.\"\n",
        "\n",
        "admin = User(\"Timothy\", \"admin\")\n",
        "editor = User(\"Jane\", \"editor\")\n",
        "viewer = User(\"Nora\", \"viewer\")\n",
        "User.show_roles()\n",
        "print(User.get_users_by_role(\"admin\"))\n",
        "print(\"----------\")\n",
        "\n",
        "# Perform actions based on permissions\n",
        "print(admin.perform_action(\"create\"))\n",
        "print(editor.perform_action(\"create\"))\n",
        "print(viewer.perform_action(\"read\"))\n",
        "print(viewer.perform_action(\"update\"))"
      ],
      "metadata": {
        "id": "T_h7mZPSnlfU",
        "colab": {
          "base_uri": "https://localhost:8080/"
        },
        "outputId": "4224ea57-3ad7-42ac-821d-66b82ce8c713"
      },
      "execution_count": null,
      "outputs": [
        {
          "output_type": "stream",
          "name": "stdout",
          "text": [
            "{'admin': ['Timothy'], 'editor': ['Jane'], 'viewer': ['Nora']}\n",
            "['Timothy']\n",
            "----------\n",
            "Timothy can create.\n",
            "Jane cannot create due to insufficient permissions.\n",
            "Nora can read.\n",
            "Nora cannot update due to insufficient permissions.\n"
          ]
        }
      ]
    },
    {
      "cell_type": "markdown",
      "source": [
        "**Caching Mechanism**\n",
        "\n",
        "> 💡 *Caching is a technique used to store a copy of data in a temporary storage location (called a **cache**) so that it can be accessed more quickly in the future.*\n"
      ],
      "metadata": {
        "id": "FaC0KaOBMtUD"
      }
    },
    {
      "cell_type": "code",
      "source": [
        "class URLShortener:\n",
        "  cache = {}\n",
        "\n",
        "  def __init__(self, long_url):\n",
        "    self.long_url = long_url\n",
        "    self.short_url = self._generate_short_url()\n",
        "    URLShortener.cache[self.short_url] = long_url\n",
        "\n",
        "  def _generate_short_url(self):\n",
        "    \"\"\"Generates a simple short URL.\"\"\"\n",
        "    return f\"short.ly/{hash(self.long_url) % 10000}\"\n",
        "\n",
        "  @classmethod\n",
        "  def get_long_url(cls, short_url):\n",
        "    \"\"\"Fetch the original URL from the cache.\"\"\"\n",
        "    return cls.cache.get(short_url, \"Not found\")\n",
        "\n",
        "  @classmethod\n",
        "  def cache_size(cls):\n",
        "    \"\"\"Returns the size of the cache.\"\"\"\n",
        "    return len(cls.cache)\n",
        "\n",
        "# Example Usage\n",
        "url1 = URLShortener(\"https://example.com/long-url\")\n",
        "url2 = URLShortener(\"https://anotherexample.com/very-long-url\")\n",
        "\n",
        "print(url1.short_url)\n",
        "print(URLShortener.get_long_url(url1.short_url))\n",
        "print(URLShortener.get_long_url(\"skdjksdjf\"))\n",
        "print(URLShortener.cache_size())"
      ],
      "metadata": {
        "colab": {
          "base_uri": "https://localhost:8080/"
        },
        "id": "ifh8WVE9MwJ4",
        "outputId": "09f5f9f2-87fa-4e68-92c4-f673030e2fe8"
      },
      "execution_count": null,
      "outputs": [
        {
          "output_type": "stream",
          "name": "stdout",
          "text": [
            "short.ly/2466\n",
            "https://example.com/long-url\n",
            "Not found\n",
            "2\n"
          ]
        }
      ]
    },
    {
      "cell_type": "markdown",
      "source": [
        "### **Static Methods**\n",
        "\n",
        "Static methods are methods that don't operate on either the instance or the class. They are decorated with `@staticmethod` and don't receive any special first parameter.\n",
        "\n",
        "> 📒 **Note:** Static methods are like utility functions that don't require access to the class or instance.\n"
      ],
      "metadata": {
        "id": "9Uyx1Oj9vOq_"
      }
    },
    {
      "cell_type": "code",
      "source": [
        "class Temperature:\n",
        "  def __init__(self, *, celcius: float | None = None, fahrenheit: float | None = None):\n",
        "    # Check if one and only one of the temperature units is provided\n",
        "    if not celcius and not fahrenheit:\n",
        "      raise ValueError(\"At least one temperature unit must be provided\")\n",
        "    elif bool(celcius) + bool(fahrenheit) > 1:\n",
        "      raise ValueError(\"Only one temperature unit can be provided\")\n",
        "\n",
        "    if celcius:\n",
        "      self.celcius = celcius\n",
        "      self.fahrenheit = self.celcius_to_fahrenheit(celcius)\n",
        "    if fahrenheit:\n",
        "      self.fahrenheit = fahrenheit\n",
        "      self.celcius = self.fahrenheit_to_celcius(fahrenheit)\n",
        "\n",
        "  @staticmethod\n",
        "  def celcius_to_fahrenheit(celcius: float) -> float:\n",
        "    return (celcius * 9/5) + 32\n",
        "\n",
        "  @staticmethod\n",
        "  def fahrenheit_to_celcius(fahrenheit) -> float:\n",
        "    return (fahrenheit - 32) * 5/9\n",
        "\n",
        "# Using static methods\n",
        "celcius = 25.0\n",
        "\n",
        "print(f\"Fahrenheit: {Temperature.celcius_to_fahrenheit(celcius)}\")"
      ],
      "metadata": {
        "colab": {
          "base_uri": "https://localhost:8080/"
        },
        "id": "dn-fsVv6UfzR",
        "outputId": "f20bae3d-43da-4b8a-aef6-f62b6486b188"
      },
      "execution_count": null,
      "outputs": [
        {
          "output_type": "stream",
          "name": "stdout",
          "text": [
            "Fahrenheit: 77.0\n",
            "Kelvin: 298.15\n"
          ]
        }
      ]
    },
    {
      "cell_type": "markdown",
      "source": [
        "## **Property Decorators**\n",
        "\n",
        "In Python, property decorators allow you to manage attribute access and modify how attributes are set, retrieved, or deleted. The main benefit of using property decorators is that they provide a clean, Pythonic way to define getter, setter, and deleter methods while keeping the syntax simple and intuitive.\n",
        "\n",
        "- **Getter (`@property`)**\n",
        "\n",
        "  - A getter is a method that retrieves the value of an attribute.\n",
        "  - The `@property` decorator is used to define a method as a getter.\n",
        "  - This method allows you to access the attribute directly, without needing to call it as a method.\n",
        "  - ❗ If only the getter is used for a property and not the setter or deleter, the the property is **read-only**.\n",
        "\n",
        "- **Setter (`@<property_name>.setter`)**\n",
        "\n",
        "  - A setter is a method that allows you to set or modify the value of an attribute.\n",
        "  - By using the `@<property_name>.setter` decorator, you can add validation or custom logic when setting the value of an attribute.\n",
        "\n",
        "- **Deleter (`@<property_name>.deleter`)**\n",
        "\n",
        "  - A deleter is a method that defines what happens when an attribute is deleted using the `del` keyword.\n",
        "  - You can use the `@<property_name>.deleter` decorator to control how the attribute is removed from the object.\n"
      ],
      "metadata": {
        "id": "X4i4o34EdI0p"
      }
    },
    {
      "cell_type": "code",
      "source": [
        "class Sphere:\n",
        "  def __init__(self, radius: float):\n",
        "    self._radius = radius  # Protected attribute with a single underscore prefix\n",
        "\n",
        "  # getter for _radius attribute\n",
        "  @property\n",
        "  def radius(self) -> float:\n",
        "    return self._radius\n",
        "\n",
        "  # setter for _radius with custom logic\n",
        "  @radius.setter\n",
        "  def radius(self, new_radius: float):\n",
        "    if new_radius > 0:\n",
        "      self._radius = new_radius\n",
        "    else:\n",
        "      raise ValueError(\"Radius must be positive\")\n",
        "\n",
        "  @radius.deleter\n",
        "  def radius(self):\n",
        "    del self._radius\n",
        "\n",
        "  # volume is dynamically calculated using the radius. Which means, it will update everytime the radius changes\n",
        "  @property\n",
        "  def volume(self) -> float:\n",
        "    return round((4/3) * 3.14 * (self._radius ** 3), 2)\n",
        "\n",
        "  # surface area is also dynamically calculated\n",
        "  @property\n",
        "  def surface_area(self) -> float:\n",
        "    return round(4 * 3.14 * (self._radius ** 2), 2)"
      ],
      "metadata": {
        "id": "mqbsRY6TdI0q"
      },
      "execution_count": null,
      "outputs": []
    },
    {
      "cell_type": "markdown",
      "source": [
        "💡 Because properties are essentially methods that allow you to use them as if they were attributes, the `volume` and `surface_area` properties are dynamically recalculated every time the `_radius` attribute is updated. This ensures that these derived values always stay in sync with the current state of the object.\n"
      ],
      "metadata": {
        "id": "LJqGAM-rdI0q"
      }
    },
    {
      "cell_type": "code",
      "source": [
        "sphere = Sphere(10)\n",
        "print(f\"Radius: {sphere.radius}\")\n",
        "print(f\"Volume: {sphere.volume}\")\n",
        "print(f\"Surface Area: {sphere.surface_area}\")\n",
        "\n",
        "print(\"--------\")\n",
        "\n",
        "sphere.radius = 20\n",
        "print(f\"Radius: {sphere.radius}\")\n",
        "print(f\"Volume: {sphere.volume}\")\n",
        "print(f\"Surface Area: {sphere.surface_area}\")\n",
        "\n",
        "# Deleting the property\n",
        "del sphere.radius"
      ],
      "metadata": {
        "colab": {
          "base_uri": "https://localhost:8080/"
        },
        "outputId": "d7d8c732-cbce-490c-9a1f-48b5bc9589fb",
        "id": "_cd6cbTDdI0q"
      },
      "execution_count": null,
      "outputs": [
        {
          "output_type": "stream",
          "name": "stdout",
          "text": [
            "Radius: 10\n",
            "Volume: 4186.67\n",
            "Surface Area: 1256.0\n",
            "--------\n",
            "Radius: 20\n",
            "Volume: 33493.33\n",
            "Surface Area: 5024.0\n"
          ]
        }
      ]
    },
    {
      "cell_type": "markdown",
      "source": [
        "## **Additional Example: Anonymous Survey (Additional Material)**\n",
        "\n",
        "Now let's bring together what we've learned in today's class with a practical example: *an Anonymous Survey System*.\n",
        "\n",
        "**Overview**\n",
        "\n",
        "1. Design a class to manage survey questions, responses, and metadata.\n",
        "2. Use encapsulation to hide implementation details while exposing meaningful methods.\n",
        "3. Validate and handle user input efficiently.\n"
      ],
      "metadata": {
        "id": "uoOOAzsPL46x"
      }
    },
    {
      "cell_type": "code",
      "source": [
        "from typing import NamedTuple, Any\n",
        "\n",
        "class AnonymousSurvey:\n",
        "  # Data structure to hold question and metadata\n",
        "  __Question = NamedTuple(\"Question\", [(\"index\", int), (\"question\", str), (\"type_val\", Any)])\n",
        "  __Response = NamedTuple(\"Response\", [(\"index\", int), (\"question\", str), (\"response\", Any)])\n",
        "\n",
        "  # Private Class Attributes\n",
        "  __company: str = \"NYPL Python Academy\"\n",
        "  __survey_name: str = \"Post Course Survey\"\n",
        "  __survey_researcher: str = \"Timmy Tippytoes\"\n",
        "  __survey_questions: tuple[__Question] = (\n",
        "      __Question(0, \"What is your name?\", str),\n",
        "      __Question(1, \"What is your age?\", int),\n",
        "      __Question(2, \"What country are you currently located at?\", str),\n",
        "      __Question(3, \"What is your annual income?\", float),\n",
        "      __Question(4, \"What language did you first learn to speak?\", str),\n",
        "      __Question(5, \"Why did you decide to learn Python?\", str),\n",
        "      __Question(6, \"From 0 to 10, how satisfied are you with the course? (0: extremely unsatisfied; 10: extremely satisfied)\", int),\n",
        "      __Question(7, \"Any feedback on the instructor?\", str),\n",
        "  )\n",
        "\n",
        "  def __init__(self):\n",
        "    self._raw_responses: list = []\n",
        "    self.__rspdt: str | None = None\n",
        "\n",
        "  # Properties for accessing metadata\n",
        "  @property\n",
        "  def company(self) -> str:\n",
        "    return AnonymousSurvey.__company\n",
        "\n",
        "  # Set class attribute for the entire class\n",
        "  @company.setter\n",
        "  def company(self, value: str):\n",
        "    AnonymousSurvey.__company = value\n",
        "\n",
        "  @property\n",
        "  def survey_name(self) -> str:\n",
        "    return AnonymousSurvey.__survey_name\n",
        "\n",
        "  # Set class attribute for the entire class\n",
        "  @survey_name.setter\n",
        "  def survey_name(self, new_survey_name: str):\n",
        "    AnonymousSurvey.__survey_name = new_survey_name\n",
        "\n",
        "  @property\n",
        "  def survey_researcher(self) -> str:\n",
        "    return AnonymousSurvey.__survey_researcher\n",
        "\n",
        "  # Set class attribute for the entire class\n",
        "  @survey_researcher.setter\n",
        "  def survey_researcher(self, fullname: str):\n",
        "    AnonymousSurvey.__survey_researcher = fullname\n",
        "\n",
        "  @property\n",
        "  def respondent(self) -> str:\n",
        "    if not self.__rspdt:\n",
        "      raise ValueError(\"Survey not answered. Run the start() method before accessing respondent.\")\n",
        "    return self.__rspdt\n",
        "\n",
        "  # Start the survey and record responses\n",
        "  def start(self):\n",
        "    q_idx = 0\n",
        "    while q_idx < len(self.__survey_questions):\n",
        "      q = self.__survey_questions[q_idx]\n",
        "      response = input(f\"{q.question}: \")\n",
        "\n",
        "      # Only advance to next question if current question has been validated\n",
        "      if self.__validate_response(q, response):\n",
        "        self._raw_responses.append(self.__Response(index=q_idx, question=q.question, response=q.type_val(response)))\n",
        "        if q_idx == 0:\n",
        "          self.__rspdt = response\n",
        "        q_idx += 1\n",
        "      else:\n",
        "        print(\"Invalid response. Please try again.\")\n",
        "\n",
        "  # Validate response\n",
        "  def __validate_response(self, question: __Question, response: Any) -> bool:\n",
        "    try:\n",
        "      match question.index:\n",
        "        case 1:  # age\n",
        "          return 0 < question.type_val(response)  # cast to int\n",
        "        case 3:  # annual income\n",
        "          return 0 <= question.type_val(response)  # cast to float\n",
        "        case 6:  # course rating\n",
        "          return 0 <= question.type_val(response) <= 10  # cast to int\n",
        "        case _:\n",
        "          return isinstance(question.type_val(response), question.type_val)\n",
        "    except ValueError as e:\n",
        "      return False\n",
        "\n",
        "  # Reset survey responses\n",
        "  def reset(self):\n",
        "    self._raw_responses = []\n",
        "    self.__rspdt = None\n",
        "\n",
        "  # Show survey questions\n",
        "  def show_questions(self):\n",
        "    print(\"======= Questions =======\")\n",
        "    for q in self.__survey_questions:\n",
        "      print(f\"{q.index}. {q.question}\")\n",
        "\n",
        "  # Show survey responses\n",
        "  def show_responses(self):\n",
        "    if not self._raw_responses:\n",
        "      raise ValueError(\"No responses have been recorded. Run the start() method before accessing responses.\")\n",
        "    print(\"======= Responses =======\")\n",
        "    for r in self._raw_responses:\n",
        "      print(f\"{r.index}. {r.question}:\\n\\t>> {r.response}\")\n",
        "\n",
        "  # Mock survey responses (for testing)\n",
        "  def __mock_survey(self):\n",
        "    self.__rspdt = \"Survey Tester 001\"\n",
        "    self._raw_responses = [\n",
        "      self.__Response(index=0, question=self.__survey_questions[0].question, response=\"Test Respondent 001\"),\n",
        "      self.__Response(index=1, question=self.__survey_questions[1].question, response=30),\n",
        "      self.__Response(index=2, question=self.__survey_questions[2].question, response=\"La La Land\"),\n",
        "      self.__Response(index=3, question=self.__survey_questions[3].question, response=10000.69),\n",
        "      self.__Response(index=4, question=self.__survey_questions[4].question, response=\"Korean\"),\n",
        "      self.__Response(index=5, question=self.__survey_questions[5].question, response=\"I really like snakes!\"),\n",
        "      self.__Response(index=6, question=self.__survey_questions[6].question, response=9),\n",
        "      self.__Response(index=7, question=self.__survey_questions[7].question, response=\"🐍🐍🫰🏼🫰🏼\"),\n",
        "    ]"
      ],
      "metadata": {
        "id": "U5Ra16EvOGrB"
      },
      "execution_count": null,
      "outputs": []
    },
    {
      "cell_type": "markdown",
      "source": [
        "### **Explanation**\n",
        "\n",
        "1. **Encapsulation**\n",
        "\n",
        "  - The class uses private attributes like `__survey_questions` and `__rspdt` to hide implementation details from external access, ensuring that these variables are modified only through controlled methods.\n",
        "  \n",
        "  - Public methods like `start()`, `show_questions()`, and `show_responses()` provide a well-defined interface for interacting with the survey, keeping the underlying logic hidden.\n",
        "  \n",
        "  - This maintains data integrity and prevents unauthorized or accidental changes.\n",
        "\n",
        "2. **Input Validation**\n",
        "\n",
        "  - The private method `__validate_response()` ensures that each response matches the expected type and satisfies any additional constraints:\n",
        "\n",
        "    - For age, the response must be a positive number.\n",
        "    - For annual income, the response must be greater or equal to 0.\n",
        "    - For satisfaction ratings, the response must be an integer between 0 and 10.\n",
        "  \n",
        "  - By validating inputs before adding them to the responses, the class avoids runtime errors and maintains data consistency.\n",
        "\n",
        "3. **Properties for Controlled Access**\n",
        "\n",
        "  - Metadata like `company`, `survey_name`, and `survey_researcher` are accessible and modifiable through properties with getter and setter methods.\n",
        "\n",
        "  - This allows for controlled updates to these attributes while preventing direct modification of internal variables.\n",
        "\n",
        "4. **Dynamic and Flexible Question Handling**\n",
        "\n",
        "  - The `__survey_questions` attribute is a tuple of *named tuples*, making it easy to manage survey questions, their order, and expected types.\n",
        "\n",
        "  - Adding a new question requires only modifying the `__survey_questions` tuple without changing the rest of the class.\n",
        "\n",
        "5. **Mock Testing Capability**\n",
        "\n",
        "  - The `__mock_survey()` method provides a built-in way to populate the survey with predefined responses.\n",
        "\n",
        "  - This is especially useful for testing and debugging without having to manually input data every time.\n",
        "\n",
        "6. **Data Reset and Reusability**\n",
        "\n",
        "  - The `reset()` method clears all responses and reset the respondent, making the survey reusable for new participants.\n",
        "\n",
        "  - This supports multiple use cases, such as surveys conducted in a loop or across different sessions.\n",
        "\n",
        "7. **Error Handling**\n",
        "\n",
        "  - Attempts to access data before it is available (e.g., `responses` or `respondent`) raise descriptive errors so that users are guided to follow the correct sequence of operations.\n",
        "\n",
        "8. **Scalability and Extendability**\n",
        "\n",
        "  - The modular design makes it easy to extend the class.\n",
        "  - Adding new questions or question types is straightforward.\n",
        "  - Validation rules can be customized to handle more complex input formats.\n",
        "  - Additional methods can be implemented for even more operations (e.g., data export or analysis).\n",
        "\n",
        "10. **Enhanced User Interaction**\n",
        "  \n",
        "  - The `start()` method provides a user-friendly way to walk through the survey. It prompts users sequentially for each question, validates their input, and stores the responses.\n",
        "  \n",
        "  - Invalid inputs are rejected with clear feedback, encouraging users to retry until the input is valid.\n"
      ],
      "metadata": {
        "id": "43oKhZNOzWYc"
      }
    },
    {
      "cell_type": "code",
      "source": [
        "# ------ Start Survey ------\n",
        "my_survey = AnonymousSurvey()\n",
        "my_survey.start()\n",
        "\n",
        "print()\n",
        "print(my_survey.survey_name)\n",
        "print(\"-----------------------\")\n",
        "print(f\"Survey Company: {my_survey.company}\")\n",
        "print(f\"Survey Researcher: {my_survey.survey_researcher}\")\n",
        "print(f\"Respondent: {my_survey.respondent}\")\n",
        "print(\"-----------------------\")\n",
        "my_survey.show_questions()\n",
        "my_survey.show_responses()"
      ],
      "metadata": {
        "colab": {
          "base_uri": "https://localhost:8080/"
        },
        "id": "Ay97O9XNiOWi",
        "outputId": "d8021a5c-a2b8-4a6d-9f44-6118811cf842"
      },
      "execution_count": null,
      "outputs": [
        {
          "output_type": "stream",
          "name": "stdout",
          "text": [
            "What is your name?: Nikola Tesla\n",
            "What is your age?: 169\n",
            "What country are you currently located at?: Heaven\n",
            "What is your annual income?: -200\n",
            "Invalid response. Please try again.\n",
            "What is your annual income?: 0\n",
            "What language did you first learn to speak?: Science\n",
            "Why did you decide to learn Python?: I was starving, a snake's gotta do\n",
            "From 0 to 10, how satisfied are you with the course? (0: extremely unsatisfied; 10: extremely satisfied): -100\n",
            "Invalid response. Please try again.\n",
            "From 0 to 10, how satisfied are you with the course? (0: extremely unsatisfied; 10: extremely satisfied): 0\n",
            "Any feedback on the instructor?: I came here for actual snakes not some pseudo English!\n",
            "\n",
            "Post Course Survey\n",
            "-----------------------\n",
            "Survey Company: NYPL Python Academy\n",
            "Survey Researcher: Timmy Tippytoes\n",
            "Respondent: Nikola Tesla\n",
            "-----------------------\n",
            "======= Questions =======\n",
            "0. What is your name?\n",
            "1. What is your age?\n",
            "2. What country are you currently located at?\n",
            "3. What is your annual income?\n",
            "4. What language did you first learn to speak?\n",
            "5. Why did you decide to learn Python?\n",
            "6. From 0 to 10, how satisfied are you with the course? (0: extremely unsatisfied; 10: extremely satisfied)\n",
            "7. Any feedback on the instructor?\n",
            "======= Responses =======\n",
            "0. What is your name?:\n",
            "\t>> Nikola Tesla\n",
            "1. What is your age?:\n",
            "\t>> 169\n",
            "2. What country are you currently located at?:\n",
            "\t>> Heaven\n",
            "3. What is your annual income?:\n",
            "\t>> 0.0\n",
            "4. What language did you first learn to speak?:\n",
            "\t>> Science\n",
            "5. Why did you decide to learn Python?:\n",
            "\t>> I was starving, a snake's gotta do\n",
            "6. From 0 to 10, how satisfied are you with the course? (0: extremely unsatisfied; 10: extremely satisfied):\n",
            "\t>> 0\n",
            "7. Any feedback on the instructor?:\n",
            "\t>> I came here for actual snakes not some pseudo English!\n"
          ]
        }
      ]
    },
    {
      "cell_type": "code",
      "source": [
        "# @title Unit Test for `AnonymousSurvey` Class\n",
        "test_survey = AnonymousSurvey()\n",
        "\n",
        "# Mock Survey for test\n",
        "test_survey._AnonymousSurvey__mock_survey()\n",
        "\n",
        "# Test show_questions & show_responses\n",
        "test_survey.show_questions()\n",
        "print()\n",
        "test_survey.show_responses()\n",
        "\n",
        "# Test Respondent\n",
        "assert test_survey.respondent == \"Survey Tester 001\"\n",
        "\n",
        "# Test attributes and properties\n",
        "assert test_survey.company == \"NYPL Python Academy\"\n",
        "assert test_survey.survey_name == \"Post Course Survey\"\n",
        "assert test_survey.survey_researcher == \"Timmy Tippytoes\"\n",
        "\n",
        "AnonymousSurvey.company = \"New Python Dojo\"\n",
        "AnonymousSurvey.survey_name = \"Test Bubbly Survey\"\n",
        "AnonymousSurvey.survey_researcher = \"Bob Bobberston\"\n",
        "\n",
        "assert test_survey.company == \"New Python Dojo\"\n",
        "assert test_survey.survey_name == \"Test Bubbly Survey\"\n",
        "assert test_survey.survey_researcher == \"Bob Bobberston\"\n",
        "\n",
        "# Test reset\n",
        "test_survey.reset()\n",
        "assert test_survey._raw_responses == []\n",
        "assert test_survey._AnonymousSurvey__rspdt is None\n",
        "\n",
        "# Test Cleanup\n",
        "AnonymousSurvey.company = \"NYPL Python Academy\"\n",
        "AnonymousSurvey.survey_name = \"Post Course Survey\"\n",
        "AnonymousSurvey.survey_researcher = \"Timmy Tippytoes\""
      ],
      "metadata": {
        "cellView": "form",
        "id": "OX2r24WZZ278"
      },
      "execution_count": null,
      "outputs": []
    },
    {
      "cell_type": "markdown",
      "source": [
        "## **Conclusion**\n",
        "\n",
        "In this lesson, we've covered even more Object-Oriented Programming concepts:\n",
        "\n",
        "- Controlling access with properties and access modifiers\n",
        "- Work with class level attributes and functionalities with class methods\n",
        "- Combine functions that are associated with a class but doesn't work with any data in the class using static methods\n",
        "\n",
        "<br>\n",
        "\n",
        "### **Coming Up Next**\n",
        "\n",
        "In Part 3, we'll explore more advanced OOP concepts:\n",
        "\n",
        "**1. Special Methods (Dunder)**\n",
        "- String representation (`__str__`, `__repr__`)\n",
        "- Comparison methods (`__eq__`, `__lt__`, etc.)\n",
        "- Container methods (`__len__`, `__getitem__`, etc.)\n",
        "- Context managers (`__enter__`, `__exit__`)\n",
        "\n",
        "**2. OOP Relationships**\n",
        "- Inheritance for sharing behavior\n",
        "\n",
        "These concepts will help you write more powerful and flexible object-oriented code. See you in Part 3!\n"
      ],
      "metadata": {
        "id": "75f3W_HdnUyB"
      }
    }
  ]
}