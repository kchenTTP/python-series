{
  "nbformat": 4,
  "nbformat_minor": 0,
  "metadata": {
    "colab": {
      "provenance": [],
      "toc_visible": true,
      "collapsed_sections": [
        "K3MSR-8x31WE",
        "X4i4o34EdI0p",
        "uoOOAzsPL46x",
        "po3q3HGxI2NA",
        "fdiqe7YkBjc3"
      ],
      "authorship_tag": "ABX9TyMQQs6i8lGdBwPJCXxreFXO",
      "include_colab_link": true
    },
    "kernelspec": {
      "name": "python3",
      "display_name": "Python 3"
    },
    "language_info": {
      "name": "python"
    }
  },
  "cells": [
    {
      "cell_type": "markdown",
      "metadata": {
        "id": "view-in-github",
        "colab_type": "text"
      },
      "source": [
        "<a href=\"https://colab.research.google.com/github/kchenTTP/python-series/blob/main/object_oriented_programming_in_python/Object_Oriented_Programming_in_Python_Extras.ipynb\" target=\"_parent\"><img src=\"https://colab.research.google.com/assets/colab-badge.svg\" alt=\"Open In Colab\"/></a>"
      ]
    },
    {
      "cell_type": "markdown",
      "source": [
        "# **Object Oriented Programming in Python Extras**\n",
        "\n",
        "Extra Concepts of OOP\n",
        "\n",
        "**Table of Contents**\n",
        "\n",
        "- [Special Methods & Attributes](#scrollTo=K3MSR-8x31WE)\n",
        "- [Property Decorators](#scrollTo=X4i4o34EdI0p)\n",
        "- [Dataclasses](#scrollTo=po3q3HGxI2NA)\n",
        "- [Abstract Base Classes](#scrollTo=fdiqe7YkBjc3)\n"
      ],
      "metadata": {
        "id": "u77EAJpG99fN"
      }
    },
    {
      "cell_type": "markdown",
      "source": [
        "## **Special Methods & Attributes**\n",
        "\n",
        "Python provides several special methods (also called **magic** methods or **dunder** methods) and attributes  that enable advanced functionality and customization for your classes. These methods start and end with ***double underscores*** (`__`) and are used internally by Python, but you can override them to define your class's behavior.\n"
      ],
      "metadata": {
        "id": "K3MSR-8x31WE"
      }
    },
    {
      "cell_type": "markdown",
      "source": [
        "### **Dunder Methods**\n"
      ],
      "metadata": {
        "id": "vg9-s_SgTqVs"
      }
    },
    {
      "cell_type": "markdown",
      "source": [
        "#### **Object Initialization and Destruction**\n",
        "\n",
        "**`__init__`**\n",
        "\n",
        "  - Used as the ***constructor*** of the class to initialize attributes.\n",
        "  - Called automatically when an object is created.\n",
        "\n",
        "**`__del__`**\n",
        "\n",
        "  - Used as the ***destructor*** of the class.\n",
        "  - Called when an object is about to be destroyed (rarely used).\n"
      ],
      "metadata": {
        "id": "GMP_yJmZDoWH"
      }
    },
    {
      "cell_type": "code",
      "source": [
        "class Creature:\n",
        "  def __init__(self, name: str):\n",
        "    self.name = name\n",
        "    print(f\"{self.name} has been created.\")\n",
        "\n",
        "  def __del__(self):\n",
        "    print(f\"{self.name} has been destroyed.\")\n",
        "\n",
        "# Example\n",
        "goblin = Creature(\"Goblin\")\n",
        "del goblin"
      ],
      "metadata": {
        "colab": {
          "base_uri": "https://localhost:8080/"
        },
        "id": "OxlgfqMeeaEx",
        "outputId": "16d246d3-2885-4cae-d309-4c3a0795a7d2"
      },
      "execution_count": null,
      "outputs": [
        {
          "output_type": "stream",
          "name": "stdout",
          "text": [
            "Goblin has been created.\n",
            "Goblin has been destroyed.\n"
          ]
        }
      ]
    },
    {
      "cell_type": "markdown",
      "source": [
        "#### **Object Representation**\n",
        "\n",
        "**`__str__`**\n",
        "\n",
        "  - Defines the human-readable string representation of an object.\n",
        "  - Used by `str()` and `print()`.\n",
        "\n",
        "**`__repr__`**\n",
        "\n",
        "  - Defines the official string representation of an object.\n",
        "  - Used by `repr()` and in debugging.\n",
        "  - If `__str__` is not defined, `str()` and `print()` will use `__repr__` instead.\n"
      ],
      "metadata": {
        "id": "zf2SvfrGedH8"
      }
    },
    {
      "cell_type": "code",
      "source": [
        "class Person:\n",
        "  def __init__(self, name, age):\n",
        "    self.name = name\n",
        "    self.age = age\n",
        "\n",
        "  def __str__(self):\n",
        "    return f\"{self.name}, {self.age} years old\"\n",
        "\n",
        "  def __repr__(self):\n",
        "    return f\"Person(name={self.name!r}, age={self.age!r})\"\n",
        "\n",
        "# Classes without string representation\n",
        "print(Creature)\n",
        "print(str(Creature))\n",
        "print(\"--------\")\n",
        "\n",
        "# Classes with string representation\n",
        "person = Person(\"Jeffery\", 25)\n",
        "print(person)\n",
        "print(str(person))\n",
        "print(repr(person))"
      ],
      "metadata": {
        "colab": {
          "base_uri": "https://localhost:8080/"
        },
        "id": "uMlO1G57exYW",
        "outputId": "69ed05d3-9e83-4f90-9054-a6a93e6863c3"
      },
      "execution_count": null,
      "outputs": [
        {
          "output_type": "stream",
          "name": "stdout",
          "text": [
            "<class '__main__.Creature'>\n",
            "<class '__main__.Creature'>\n",
            "--------\n",
            "Jeffery, 25 years old\n",
            "Jeffery, 25 years old\n",
            "Person(name='Jeffery', age=25)\n"
          ]
        }
      ]
    },
    {
      "cell_type": "markdown",
      "source": [
        "#### **Operator Overloading**\n",
        "\n",
        "##### **Arithmetic Operators**\n",
        "\n",
        "**`__add__`**, **`__sub__`**, **`__mul__`**, **`__truediv__`**, **`__floordiv__`**, **`__mod__`**, **`__pow__`**\n",
        "\n",
        "  - Define the behavior of arithmetic operators: `+`, `-`, `*`, `/`, `//`, `%`, `**`.\n",
        "\n",
        "##### **Comparison Operators**\n",
        "\n",
        "**`__eq__`**, **`__ne__`**, **`__lt__`**, **`__gt__`**, **`__le__`**, **`__ge__`**\n",
        "\n",
        "  - Define the behavior of comparison operators: `==`, `!=`, `<`, `>`, `<=`, `>=`.\n",
        "\n",
        "> ❗ When overloading operators, the dunder methods should only recieve `self` and `other` as the first two arguments.\n"
      ],
      "metadata": {
        "id": "5AHloqlJe4JC"
      }
    },
    {
      "cell_type": "code",
      "source": [
        "from typing import Union  # for type hint\n",
        "\n",
        "# Let's try to recreate our own string datatype\n",
        "class MyString:\n",
        "  def __init__(self, value: str):\n",
        "    self.value = value\n",
        "\n",
        "  # Arithmetic Operators\n",
        "  def __add__(self, other: Union[\"MyString\", str]) -> \"MyString\":\n",
        "    if isinstance(other, MyString):\n",
        "      return MyString(self.value + other.value)\n",
        "    elif isinstance(other, str):\n",
        "      return MyString(self.value + other)\n",
        "    else:\n",
        "      raise TypeError\n",
        "\n",
        "  def __mul__(self, other: int) -> \"MyString\":\n",
        "    if isinstance(other, int):\n",
        "      return MyString(self.value * other)\n",
        "    else:\n",
        "      raise TypeError\n",
        "\n",
        "  # Comparison Operators\n",
        "  def __eq__(self, other: Union[\"MyString\", str]) -> bool:\n",
        "    if isinstance(other, MyString):\n",
        "      return self.value == other.value\n",
        "    elif isinstance(other, str):\n",
        "      return self.value == other\n",
        "\n",
        "  def __ne__(self, other: Union[\"MyString\", str]) -> bool:\n",
        "    if isinstance(other, MyString):\n",
        "      return self.value != other.value\n",
        "    elif isinstance(other, str):\n",
        "      return self.value != other\n",
        "\n",
        "  # Representation Methods\n",
        "  def __str__(self):\n",
        "    return self.value\n",
        "\n",
        "  def __repr__(self):\n",
        "    return f\"MyString('{self.value}')\"\n",
        "\n",
        "# Example\n",
        "s1 = MyString(\"Hello\")\n",
        "s2 = MyString(\"World\")\n",
        "\n",
        "print(s1 + \" \" + s2)\n",
        "print(s1 * 3)\n",
        "print(s1 == \"Good morning\")\n",
        "print(s1 != s2)"
      ],
      "metadata": {
        "colab": {
          "base_uri": "https://localhost:8080/"
        },
        "id": "pLbmlCuJpoJ9",
        "outputId": "6206c613-4f8e-4edc-9859-82310e9550ae"
      },
      "execution_count": null,
      "outputs": [
        {
          "output_type": "stream",
          "name": "stdout",
          "text": [
            "Hello World\n",
            "HelloHelloHello\n",
            "False\n",
            "True\n"
          ]
        }
      ]
    },
    {
      "cell_type": "markdown",
      "source": [
        "#### **Container Behavior**\n",
        "\n",
        "**`__len__`**\n",
        "\n",
        "  - Defines the behavior of `len()`.\n",
        "\n",
        "**`__getitem__`**\n",
        "\n",
        "  - Defines behavior for indexing (e.g., `obj[key]`).\n",
        "\n",
        "**`__setitem__`**\n",
        "\n",
        "  - Defines behavior for assignment to indexed elements.\n",
        "\n",
        "**`__delitem__`**\n",
        "\n",
        "  - Defines behavior for deleting indexed elements.\n",
        "\n",
        "**`__iter__`**\n",
        "\n",
        "  - Makes an object iterable (used in loops).\n",
        "\n",
        "**`__contains__`**\n",
        "\n",
        "  - Defines the behavior of the `in` operator.\n"
      ],
      "metadata": {
        "id": "o9pIGxbzf5PZ"
      }
    },
    {
      "cell_type": "code",
      "source": [
        "from typing import Any  # for type hint\n",
        "\n",
        "# Let's try to recreate our own list datatype\n",
        "class MyList:\n",
        "  def __init__(self, *items: Any):\n",
        "    self._length = 0\n",
        "\n",
        "    # Dynamically setting attributes base on the number of arguements passed in when initialized\n",
        "    for i, item in enumerate(items):\n",
        "      setattr(self, f\"{i}\", item)\n",
        "      self._length += 1\n",
        "\n",
        "  def __len__(self):\n",
        "    return self._length\n",
        "\n",
        "  def __iter__(self):\n",
        "    for i in range(self._length):\n",
        "      yield getattr(self, f\"{i}\")\n",
        "\n",
        "  def __contains__(self, item: Any):\n",
        "    for i in range(self._length):\n",
        "      if getattr(self, f\"{i}\") == item:\n",
        "        return True\n",
        "    return False\n",
        "\n",
        "  def __str__(self):\n",
        "    return f\"{[getattr(self, f'{i}') for i in range(self._length)]}\"\n",
        "\n",
        "  def __getitem__(self, index: int):\n",
        "    if not isinstance(index, int):\n",
        "      raise TypeError(\"Index must be an integer\")\n",
        "    if index < 0 - self._length or index >= self._length:\n",
        "      raise IndexError(\"Index out of range\")\n",
        "\n",
        "    # Convert negative index to positive\n",
        "    if index < 0:\n",
        "      index = self._length + index\n",
        "\n",
        "    # Dynamically getting attributes\n",
        "    for i in range(self._length):\n",
        "      if i == index:\n",
        "        return getattr(self, f\"{i}\")\n",
        "\n",
        "  def __setitem__(self, index: int, value: Any):\n",
        "    if not isinstance(index, int):\n",
        "      raise TypeError(\"Index must be an integer\")\n",
        "    if index < 0 - self._length or index >= self._length:\n",
        "      raise IndexError(\"Index out of range\")\n",
        "\n",
        "    # Convert negative index to positive\n",
        "    if index < 0:\n",
        "      index = self._length + index\n",
        "\n",
        "    # Dynamically setting attributes\n",
        "    for i in range(self._length):\n",
        "      if i == index:\n",
        "        setattr(self, f\"{i}\", value)\n",
        "        break\n",
        "\n",
        "  def __delitem__(self, index: int):\n",
        "    if not isinstance(index, int):\n",
        "      raise TypeError(\"Index must be an integer\")\n",
        "    if index < 0 - self._length or index >= self._length:\n",
        "      raise IndexError(\"Index out of range\")\n",
        "\n",
        "    # Convert negative index to positive\n",
        "    if index < 0:\n",
        "      index = self._length + index\n",
        "\n",
        "    # Dynamically deleting attributes and adjust the rest of the attributes and length of object\n",
        "    for i in range(self._length):\n",
        "      if i == index:\n",
        "        delattr(self, f\"{i}\")\n",
        "      if i > index:\n",
        "        setattr(self, f\"{i - 1}\", getattr(self, f\"{i}\"))\n",
        "        delattr(self, f\"{i}\")\n",
        "    self._length -= 1\n",
        "\n",
        "# Example\n",
        "lst = MyList(1, 2, 3, 4, 5)\n",
        "\n",
        "print(lst)\n",
        "print(2 in lst)\n",
        "print(20 in lst)\n",
        "print(\"---------\")\n",
        "\n",
        "print(f\"Index 0: {lst[0]}\")\n",
        "lst[0] = 10\n",
        "print(f\"New Index 0: {lst[0]}\")\n",
        "print(\"---------\")\n",
        "\n",
        "print(f\"Length: {len(lst)}\")\n",
        "del lst[-2]\n",
        "print(f\"Length After Removing 1 Item: {len(lst)}\")\n",
        "print(\"---------\")\n",
        "\n",
        "for item in lst:\n",
        "  print(item)"
      ],
      "metadata": {
        "colab": {
          "base_uri": "https://localhost:8080/"
        },
        "id": "GyI3Isogw9ly",
        "outputId": "f562c798-c182-4332-dc03-2a72041f1b50"
      },
      "execution_count": null,
      "outputs": [
        {
          "output_type": "stream",
          "name": "stdout",
          "text": [
            "[1, 2, 3, 4, 5]\n",
            "True\n",
            "False\n",
            "---------\n",
            "Index 0: 1\n",
            "New Index 0: 10\n",
            "---------\n",
            "Length: 5\n",
            "Length After Removing 1 Item: 4\n",
            "---------\n",
            "10\n",
            "2\n",
            "3\n",
            "5\n"
          ]
        }
      ]
    },
    {
      "cell_type": "markdown",
      "source": [
        "> 📒 **Note:** `setattr`, `getattr`, and `delattr` are built-in functions that provide dynamic access to an object's attributes.\n"
      ],
      "metadata": {
        "id": "FrbXHSTq7-c_"
      }
    },
    {
      "cell_type": "markdown",
      "source": [
        "#### **Context Manager**\n",
        "\n",
        "**`__enter__`**\n",
        "\n",
        "  - Executes when entering the `with` block.\n",
        "  - Performs any necessary setup or initialization.\n",
        "  - Returns the object to be used within the `with` block.\n",
        "    - Often returns `self` to provide access to the instance.\n",
        "\n",
        "**`__exit__`**\n",
        "\n",
        "  - Executes when exiting the `with` block (whether normally or due to an exception).\n",
        "  - Handles cleanup and resource release.\n",
        "  - Receives exception information if one occurred:\n",
        "    - `exc_type`: Type of exception (e.g., `ValueError`, `TypeError`). `None` if no exception occurred.\n",
        "    - `exc_val`: The exception instance with error details. `None` if no exception occurred.\n",
        "    - `exc_tb`: Traceback object containing the call stack. `None` if no exception occurred.\n",
        "  - Return value controls exception propagation:\n",
        "    - `True`: Suppresses the exception.\n",
        "    - `False` or None: Allows the exception to propagate.\n"
      ],
      "metadata": {
        "id": "6TVt4uqugN6Z"
      }
    },
    {
      "cell_type": "code",
      "source": [
        "import time\n",
        "\n",
        "class Timer:\n",
        "  def __enter__(self):\n",
        "    self.start = time.perf_counter()\n",
        "    return self\n",
        "\n",
        "  def __exit__(self, exc_type, exc_val, exc_tb):\n",
        "    self.end = time.perf_counter()\n",
        "    self.duration = self.end - self.start\n",
        "    print(f\"Execution time: {self.duration:.4f} seconds\")\n",
        "\n",
        "# Example\n",
        "with Timer():\n",
        "    sum(range(1000000))"
      ],
      "metadata": {
        "colab": {
          "base_uri": "https://localhost:8080/"
        },
        "id": "rmzcyRVhgbx5",
        "outputId": "7488d179-9191-4388-e241-3ffebcd04cab"
      },
      "execution_count": null,
      "outputs": [
        {
          "output_type": "stream",
          "name": "stdout",
          "text": [
            "Execution time: 0.0217 seconds\n"
          ]
        }
      ]
    },
    {
      "cell_type": "markdown",
      "source": [
        "### **Special Attributes**\n",
        "\n",
        "**`__dict__`**\n",
        "\n",
        "A special attribute that stores the object's writable attributes as key-value pairs in a dictionary.\n",
        "\n",
        "**`__class__`**\n",
        "\n",
        "A special attribute that holds a reference to the class of the object.\n",
        "\n",
        "**`__doc__`**\n",
        "\n",
        "A special attribute that contains the docstring of the class, method, or function.\n"
      ],
      "metadata": {
        "id": "FqSGZ48CVDXN"
      }
    },
    {
      "cell_type": "code",
      "source": [
        "class MyClass:\n",
        "  \"\"\"😀 This is a simple class with a docstring.\"\"\"\n",
        "\n",
        "  cls_attr = 100\n",
        "\n",
        "  def __init__(self, value):\n",
        "    self.value = value\n",
        "\n",
        "  def my_method(self):\n",
        "    \"\"\"🐍 This is a method with a docstring.\"\"\"\n",
        "    pass\n",
        "\n",
        "obj = MyClass(42)\n",
        "\n",
        "print(obj.__dict__)\n",
        "print(MyClass.__dict__)\n",
        "print(obj.__class__)\n",
        "print(obj.__doc__)\n",
        "print(obj.my_method.__doc__)"
      ],
      "metadata": {
        "colab": {
          "base_uri": "https://localhost:8080/"
        },
        "id": "kjCpqHtMVkcF",
        "outputId": "4902c29e-fc0f-4013-b4c8-5b73478864c3"
      },
      "execution_count": null,
      "outputs": [
        {
          "output_type": "stream",
          "name": "stdout",
          "text": [
            "{'value': 42}\n",
            "{'__module__': '__main__', '__doc__': '😀 This is a simple class with a docstring.', 'cls_attr': 100, '__init__': <function MyClass.__init__ at 0x7f5730257380>, 'my_method': <function MyClass.my_method at 0x7f5730257240>, '__dict__': <attribute '__dict__' of 'MyClass' objects>, '__weakref__': <attribute '__weakref__' of 'MyClass' objects>}\n",
            "<class '__main__.MyClass'>\n",
            "😀 This is a simple class with a docstring.\n",
            "🐍 This is a method with a docstring.\n"
          ]
        }
      ]
    },
    {
      "cell_type": "markdown",
      "source": [
        "There are many more dunder methods and special attributes beyond those covered here, each serving specific purposes to customize and extend the behavior of objects in Python. Understanding and using these methods effectively can help you write cleaner, more Pythonic code.\n"
      ],
      "metadata": {
        "id": "58qYOQxRVERg"
      }
    },
    {
      "cell_type": "markdown",
      "source": [
        "### **More Examples (Additional Material)**\n"
      ],
      "metadata": {
        "id": "43wUuAfKT_w-"
      }
    },
    {
      "cell_type": "markdown",
      "source": [
        "**Circle**\n"
      ],
      "metadata": {
        "id": "e7puw5dWUnLB"
      }
    },
    {
      "cell_type": "code",
      "source": [
        "class Circle:\n",
        "  def __init__(self, radius: float):\n",
        "    self.radius = radius\n",
        "\n",
        "  @property\n",
        "  def area(self):\n",
        "    return 3.14 * (self.radius ** 2)\n",
        "\n",
        "  # Comparison Operators\n",
        "  def __eq__(self, other: \"Circle\"):\n",
        "    if not isinstance(other, Circle):\n",
        "      return False\n",
        "    return self.area == other.area\n",
        "\n",
        "  def __ne__(self, other: \"Circle\"):\n",
        "    if not isinstance(other, Circle):\n",
        "      return False\n",
        "    return self.area != other.area\n",
        "\n",
        "  def __lt__(self, other: \"Circle\"):\n",
        "    if not isinstance(other, Circle):\n",
        "      return False\n",
        "    return self.area < other.area\n",
        "\n",
        "  def __le__(self, other: \"Circle\"):\n",
        "    if not isinstance(other, Circle):\n",
        "      return False\n",
        "    return self.area <= other.area\n",
        "\n",
        "  def __gt__(self, other: \"Circle\"):\n",
        "    if not isinstance(other, Circle):\n",
        "      return False\n",
        "    return self.area > other.area\n",
        "\n",
        "  def __ge__(self, other: \"Circle\"):\n",
        "    if not isinstance(other, Circle):\n",
        "      return False\n",
        "    return self.area >= other.area\n",
        "\n",
        "# Example\n",
        "small_circle = Circle(10)\n",
        "big_circle = Circle(20)\n",
        "\n",
        "print(small_circle == big_circle)\n",
        "print(small_circle != big_circle)\n",
        "print(small_circle < big_circle)"
      ],
      "metadata": {
        "colab": {
          "base_uri": "https://localhost:8080/"
        },
        "id": "4OPzsYE1n5SE",
        "outputId": "75fb8d2f-3991-46c8-f504-c1e5e106b6dc"
      },
      "execution_count": null,
      "outputs": [
        {
          "output_type": "stream",
          "name": "stdout",
          "text": [
            "False\n",
            "True\n",
            "True\n"
          ]
        }
      ]
    },
    {
      "cell_type": "markdown",
      "source": [
        "**Game Level**\n"
      ],
      "metadata": {
        "id": "fGBLuTQAM1uL"
      }
    },
    {
      "cell_type": "code",
      "source": [
        "import random\n",
        "\n",
        "class LevelConfig:\n",
        "  def __init__(self, level_name: str):\n",
        "    self.level_name = level_name\n",
        "    self.objects = [\"💰 treasure chest\", \"🍾 health potion\", \"🪖 armor\", \"☠️ poison trap\"]\n",
        "    self.monsters = [\"👺 goblin\", \"🧌 orc\", \"🐉 dragon\"]\n",
        "\n",
        "class LevelLayout:\n",
        "  def __init__(self, config: LevelConfig):\n",
        "    self.config = config\n",
        "    self.layout = []\n",
        "    self.size = 5  # 5x5 grid\n",
        "    self.cell_width = 0\n",
        "    for item in self.config.objects + self.config.monsters:\n",
        "      self.cell_width = max(self.cell_width, len(item))\n",
        "    self.initialize_empty_layout()\n",
        "\n",
        "  def initialize_empty_layout(self):\n",
        "    self.layout = [[\"empty\" for _ in range(self.size)] for _ in range(self.size)]\n",
        "\n",
        "  def randomize(self):\n",
        "    self.initialize_empty_layout()\n",
        "    # Place random objects\n",
        "    for obj in self.config.objects:\n",
        "      x, y = random.randint(0, self.size-1), random.randint(0, self.size-1)\n",
        "      while self.layout[y][x] != \"empty\":\n",
        "        x, y = random.randint(0, self.size-1), random.randint(0, self.size-1)\n",
        "      self.layout[y][x] = obj\n",
        "\n",
        "    # Place random monsters\n",
        "    for monster in self.config.monsters:\n",
        "      x, y = random.randint(0, self.size-1), random.randint(0, self.size-1)\n",
        "      while self.layout[y][x] != \"empty\":\n",
        "        x, y = random.randint(0, self.size-1), random.randint(0, self.size-1)\n",
        "      self.layout[y][x] = monster\n",
        "\n",
        "class GameLevel:\n",
        "  def __init__(self, level_name: str):\n",
        "    self.level_name = level_name\n",
        "    self.config = None\n",
        "    self.level_layout = None\n",
        "\n",
        "  def __enter__(self):\n",
        "    print(f\"Initializing level: {self.level_name}\")\n",
        "    self.config = LevelConfig(self.level_name)\n",
        "    self.level_layout = LevelLayout(self.config)\n",
        "    self.level_layout.randomize()\n",
        "    return self\n",
        "\n",
        "  def __exit__(self, exc_type, exc_val, exc_tb):\n",
        "    print(f\"Cleaning up level: {self.level_name}\")\n",
        "    self.config = None\n",
        "    self.level_layout = None\n",
        "    if exc_type is not None:\n",
        "      print(f\"An error occurred: {exc_val}\")\n",
        "      return True\n",
        "\n",
        "  def display_layout(self):\n",
        "    if self.level_layout is None:\n",
        "      raise ValueError(\"Level layout has not been initialized\")\n",
        "\n",
        "    total_width = (self.level_layout.cell_width * self.level_layout.size) + (self.level_layout.size - 1)\n",
        "    print((\"+\" + \"-\" * self.level_layout.cell_width) * self.level_layout.size + \"+\")\n",
        "\n",
        "    for row in self.level_layout.layout:\n",
        "      formatted_row = \"|\" + \"|\".join(f\"{cell:^{self.level_layout.cell_width}}\" for cell in row) + \"|\"\n",
        "      print(formatted_row)\n",
        "      print((\"+\" + \"-\" * self.level_layout.cell_width) * self.level_layout.size + \"+\")"
      ],
      "metadata": {
        "id": "YCyVRyj-B4jX"
      },
      "execution_count": null,
      "outputs": []
    },
    {
      "cell_type": "code",
      "source": [
        "with GameLevel(\"Dungeon\") as game:\n",
        "  print(f\"Level Name: {game.level_name}\")\n",
        "  print(f\"Level Config: {game.config.__dict__}\")\n",
        "  print()\n",
        "  game.display_layout()"
      ],
      "metadata": {
        "colab": {
          "base_uri": "https://localhost:8080/"
        },
        "id": "RgrekLHsM7wc",
        "outputId": "03f4c6ea-2dbc-4df1-cd28-86be0b3bf43a"
      },
      "execution_count": null,
      "outputs": [
        {
          "output_type": "stream",
          "name": "stdout",
          "text": [
            "Initializing level: Dungeon\n",
            "Level Name: Dungeon\n",
            "Level Config: {'level_name': 'Dungeon', 'objects': ['💰 treasure chest', '🍾 health potion', '🪖 armor', '☠️ poison trap'], 'monsters': ['👺 goblin', '🧌 orc', '🐉 dragon']}\n",
            "\n",
            "+----------------+----------------+----------------+----------------+----------------+\n",
            "|     🧌 orc      |    👺 goblin    |     empty      |    🪖 armor     |     empty      |\n",
            "+----------------+----------------+----------------+----------------+----------------+\n",
            "|     empty      |     empty      |     empty      |     empty      |     empty      |\n",
            "+----------------+----------------+----------------+----------------+----------------+\n",
            "|     empty      |     empty      |     empty      |     empty      |     empty      |\n",
            "+----------------+----------------+----------------+----------------+----------------+\n",
            "|     empty      |     empty      |     empty      | ☠️ poison trap |     empty      |\n",
            "+----------------+----------------+----------------+----------------+----------------+\n",
            "|💰 treasure chest|     empty      |🍾 health potion |    🐉 dragon    |     empty      |\n",
            "+----------------+----------------+----------------+----------------+----------------+\n",
            "Cleaning up level: Dungeon\n"
          ]
        }
      ]
    },
    {
      "cell_type": "markdown",
      "source": [
        "## **Property Decorators**\n",
        "\n",
        "Property decorators in Python offer a clean, Pythonic way to control attribute access (get, set, delete) with intuitive syntax.\n",
        "\n",
        "- **Getter (`@property`)**\n",
        "\n",
        "  - Retrieves an attribute's value. Using `@property` allows direct attribute access without method calls.\n",
        "  - ❗ If only a getter is defined, the property is **read-only**.\n",
        "\n",
        "- **Setter (`@<property_name>.setter`)**\n",
        "  \n",
        "  - Sets or modifies an attribute's value. Allows adding validation or custom logic during assignment.\n",
        "\n",
        "- **Deleter (`@<property_name>.deleter`)**\n",
        "  \n",
        "  - Defines behavior when an attribute is deleted using `del`.\n"
      ],
      "metadata": {
        "id": "X4i4o34EdI0p"
      }
    },
    {
      "cell_type": "code",
      "source": [
        "class Sphere:\n",
        "  def __init__(self, radius: float):\n",
        "    self._radius = radius  # Protected attribute with a single underscore prefix\n",
        "\n",
        "  # getter for _radius attribute\n",
        "  @property\n",
        "  def radius(self) -> float:\n",
        "    return self._radius\n",
        "\n",
        "  # setter for _radius with custom logic\n",
        "  @radius.setter\n",
        "  def radius(self, new_radius: float):\n",
        "    if new_radius > 0:\n",
        "      self._radius = new_radius\n",
        "    else:\n",
        "      raise ValueError(\"Radius must be positive\")\n",
        "\n",
        "  @radius.deleter\n",
        "  def radius(self):\n",
        "    del self._radius\n",
        "\n",
        "  # volume is dynamically calculated using the radius. Which means, it will update everytime the radius changes\n",
        "  @property\n",
        "  def volume(self) -> float:\n",
        "    return round((4/3) * 3.14 * (self._radius ** 3), 2)\n",
        "\n",
        "  # surface area is also dynamically calculated\n",
        "  @property\n",
        "  def surface_area(self) -> float:\n",
        "    return round(4 * 3.14 * (self._radius ** 2), 2)"
      ],
      "metadata": {
        "id": "mqbsRY6TdI0q"
      },
      "execution_count": null,
      "outputs": []
    },
    {
      "cell_type": "markdown",
      "source": [
        "💡 Because properties are essentially methods that allow you to use them as if they were attributes, the `volume` and `surface_area` properties are dynamically recalculated every time the `_radius` attribute is updated. This ensures that these derived values always stay in sync with the current state of the object.\n"
      ],
      "metadata": {
        "id": "LJqGAM-rdI0q"
      }
    },
    {
      "cell_type": "code",
      "source": [
        "sphere = Sphere(10)\n",
        "print(f\"Radius: {sphere.radius}\")\n",
        "print(f\"Volume: {sphere.volume}\")\n",
        "print(f\"Surface Area: {sphere.surface_area}\")\n",
        "\n",
        "print(\"--------\")\n",
        "\n",
        "sphere.radius = 20\n",
        "print(f\"Radius: {sphere.radius}\")\n",
        "print(f\"Volume: {sphere.volume}\")\n",
        "print(f\"Surface Area: {sphere.surface_area}\")\n",
        "\n",
        "# Deleting the property\n",
        "del sphere.radius"
      ],
      "metadata": {
        "colab": {
          "base_uri": "https://localhost:8080/"
        },
        "outputId": "d7d8c732-cbce-490c-9a1f-48b5bc9589fb",
        "id": "_cd6cbTDdI0q"
      },
      "execution_count": null,
      "outputs": [
        {
          "output_type": "stream",
          "name": "stdout",
          "text": [
            "Radius: 10\n",
            "Volume: 4186.67\n",
            "Surface Area: 1256.0\n",
            "--------\n",
            "Radius: 20\n",
            "Volume: 33493.33\n",
            "Surface Area: 5024.0\n"
          ]
        }
      ]
    },
    {
      "cell_type": "markdown",
      "source": [
        "## **Additional Example: Anonymous Survey (Additional Material)**\n",
        "\n",
        "Now let's bring together what we've learned in today's class with a practical example: *an Anonymous Survey System*.\n",
        "\n",
        "**Overview**\n",
        "\n",
        "1. Design a class to manage survey questions, responses, and metadata.\n",
        "2. Use encapsulation to hide implementation details while exposing meaningful methods.\n",
        "3. Validate and handle user input efficiently.\n"
      ],
      "metadata": {
        "id": "uoOOAzsPL46x"
      }
    },
    {
      "cell_type": "code",
      "source": [
        "from typing import NamedTuple, Any\n",
        "\n",
        "class AnonymousSurvey:\n",
        "  # Data structure to hold question and metadata\n",
        "  __Question = NamedTuple(\"Question\", [(\"index\", int), (\"question\", str), (\"type_val\", Any)])\n",
        "  __Response = NamedTuple(\"Response\", [(\"index\", int), (\"question\", str), (\"response\", Any)])\n",
        "\n",
        "  # Private Class Attributes\n",
        "  __company: str = \"NYPL Python Academy\"\n",
        "  __survey_name: str = \"Post Course Survey\"\n",
        "  __survey_researcher: str = \"Timmy Tippytoes\"\n",
        "  __survey_questions: tuple[__Question] = (\n",
        "      __Question(0, \"What is your name?\", str),\n",
        "      __Question(1, \"What is your age?\", int),\n",
        "      __Question(2, \"What country are you currently located at?\", str),\n",
        "      __Question(3, \"What is your annual income?\", float),\n",
        "      __Question(4, \"What language did you first learn to speak?\", str),\n",
        "      __Question(5, \"Why did you decide to learn Python?\", str),\n",
        "      __Question(6, \"From 0 to 10, how satisfied are you with the course? (0: extremely unsatisfied; 10: extremely satisfied)\", int),\n",
        "      __Question(7, \"Any feedback on the instructor?\", str),\n",
        "  )\n",
        "\n",
        "  def __init__(self):\n",
        "    self._raw_responses: list = []\n",
        "    self.__rspdt: str | None = None\n",
        "\n",
        "  # Properties for accessing metadata\n",
        "  @property\n",
        "  def company(self) -> str:\n",
        "    return AnonymousSurvey.__company\n",
        "\n",
        "  # Set class attribute for the entire class\n",
        "  @company.setter\n",
        "  def company(self, value: str):\n",
        "    AnonymousSurvey.__company = value\n",
        "\n",
        "  @property\n",
        "  def survey_name(self) -> str:\n",
        "    return AnonymousSurvey.__survey_name\n",
        "\n",
        "  # Set class attribute for the entire class\n",
        "  @survey_name.setter\n",
        "  def survey_name(self, new_survey_name: str):\n",
        "    AnonymousSurvey.__survey_name = new_survey_name\n",
        "\n",
        "  @property\n",
        "  def survey_researcher(self) -> str:\n",
        "    return AnonymousSurvey.__survey_researcher\n",
        "\n",
        "  # Set class attribute for the entire class\n",
        "  @survey_researcher.setter\n",
        "  def survey_researcher(self, fullname: str):\n",
        "    AnonymousSurvey.__survey_researcher = fullname\n",
        "\n",
        "  @property\n",
        "  def respondent(self) -> str:\n",
        "    if not self.__rspdt:\n",
        "      raise ValueError(\"Survey not answered. Run the start() method before accessing respondent.\")\n",
        "    return self.__rspdt\n",
        "\n",
        "  # Start the survey and record responses\n",
        "  def start(self):\n",
        "    q_idx = 0\n",
        "    while q_idx < len(self.__survey_questions):\n",
        "      q = self.__survey_questions[q_idx]\n",
        "      response = input(f\"{q.question}: \")\n",
        "\n",
        "      # Only advance to next question if current question has been validated\n",
        "      if self.__validate_response(q, response):\n",
        "        self._raw_responses.append(self.__Response(index=q_idx, question=q.question, response=q.type_val(response)))\n",
        "        if q_idx == 0:\n",
        "          self.__rspdt = response\n",
        "        q_idx += 1\n",
        "      else:\n",
        "        print(\"Invalid response. Please try again.\")\n",
        "\n",
        "  # Validate response\n",
        "  def __validate_response(self, question: __Question, response: Any) -> bool:\n",
        "    try:\n",
        "      match question.index:\n",
        "        case 1:  # age\n",
        "          return 0 < question.type_val(response)  # cast to int\n",
        "        case 3:  # annual income\n",
        "          return 0 <= question.type_val(response)  # cast to float\n",
        "        case 6:  # course rating\n",
        "          return 0 <= question.type_val(response) <= 10  # cast to int\n",
        "        case _:\n",
        "          return isinstance(question.type_val(response), question.type_val)\n",
        "    except ValueError as e:\n",
        "      return False\n",
        "\n",
        "  # Reset survey responses\n",
        "  def reset(self):\n",
        "    self._raw_responses = []\n",
        "    self.__rspdt = None\n",
        "\n",
        "  # Show survey questions\n",
        "  def show_questions(self):\n",
        "    print(\"======= Questions =======\")\n",
        "    for q in self.__survey_questions:\n",
        "      print(f\"{q.index}. {q.question}\")\n",
        "\n",
        "  # Show survey responses\n",
        "  def show_responses(self):\n",
        "    if not self._raw_responses:\n",
        "      raise ValueError(\"No responses have been recorded. Run the start() method before accessing responses.\")\n",
        "    print(\"======= Responses =======\")\n",
        "    for r in self._raw_responses:\n",
        "      print(f\"{r.index}. {r.question}:\\n\\t>> {r.response}\")\n",
        "\n",
        "  # Mock survey responses (for testing)\n",
        "  def __mock_survey(self):\n",
        "    self.__rspdt = \"Survey Tester 001\"\n",
        "    self._raw_responses = [\n",
        "      self.__Response(index=0, question=self.__survey_questions[0].question, response=\"Test Respondent 001\"),\n",
        "      self.__Response(index=1, question=self.__survey_questions[1].question, response=30),\n",
        "      self.__Response(index=2, question=self.__survey_questions[2].question, response=\"La La Land\"),\n",
        "      self.__Response(index=3, question=self.__survey_questions[3].question, response=10000.69),\n",
        "      self.__Response(index=4, question=self.__survey_questions[4].question, response=\"Korean\"),\n",
        "      self.__Response(index=5, question=self.__survey_questions[5].question, response=\"I really like snakes!\"),\n",
        "      self.__Response(index=6, question=self.__survey_questions[6].question, response=9),\n",
        "      self.__Response(index=7, question=self.__survey_questions[7].question, response=\"🐍🐍🫰🏼🫰🏼\"),\n",
        "    ]"
      ],
      "metadata": {
        "id": "U5Ra16EvOGrB"
      },
      "execution_count": null,
      "outputs": []
    },
    {
      "cell_type": "markdown",
      "source": [
        "### **Explanation**\n",
        "\n",
        "1. **Encapsulation**\n",
        "\n",
        "  - The class uses private attributes like `__survey_questions` and `__rspdt` to hide implementation details from external access, ensuring that these variables are modified only through controlled methods.\n",
        "  \n",
        "  - Public methods like `start()`, `show_questions()`, and `show_responses()` provide a well-defined interface for interacting with the survey, keeping the underlying logic hidden.\n",
        "  \n",
        "  - This maintains data integrity and prevents unauthorized or accidental changes.\n",
        "\n",
        "2. **Input Validation**\n",
        "\n",
        "  - The private method `__validate_response()` ensures that each response matches the expected type and satisfies any additional constraints:\n",
        "\n",
        "    - For age, the response must be a positive number.\n",
        "    - For annual income, the response must be greater or equal to 0.\n",
        "    - For satisfaction ratings, the response must be an integer between 0 and 10.\n",
        "  \n",
        "  - By validating inputs before adding them to the responses, the class avoids runtime errors and maintains data consistency.\n",
        "\n",
        "3. **Properties for Controlled Access**\n",
        "\n",
        "  - Metadata like `company`, `survey_name`, and `survey_researcher` are accessible and modifiable through properties with getter and setter methods.\n",
        "\n",
        "  - This allows for controlled updates to these attributes while preventing direct modification of internal variables.\n",
        "\n",
        "4. **Dynamic and Flexible Question Handling**\n",
        "\n",
        "  - The `__survey_questions` attribute is a tuple of *named tuples*, making it easy to manage survey questions, their order, and expected types.\n",
        "\n",
        "  - Adding a new question requires only modifying the `__survey_questions` tuple without changing the rest of the class.\n",
        "\n",
        "5. **Mock Testing Capability**\n",
        "\n",
        "  - The `__mock_survey()` method provides a built-in way to populate the survey with predefined responses.\n",
        "\n",
        "  - This is especially useful for testing and debugging without having to manually input data every time.\n",
        "\n",
        "6. **Data Reset and Reusability**\n",
        "\n",
        "  - The `reset()` method clears all responses and reset the respondent, making the survey reusable for new participants.\n",
        "\n",
        "  - This supports multiple use cases, such as surveys conducted in a loop or across different sessions.\n",
        "\n",
        "7. **Error Handling**\n",
        "\n",
        "  - Attempts to access data before it is available (e.g., `responses` or `respondent`) raise descriptive errors so that users are guided to follow the correct sequence of operations.\n",
        "\n",
        "8. **Scalability and Extendability**\n",
        "\n",
        "  - The modular design makes it easy to extend the class.\n",
        "  - Adding new questions or question types is straightforward.\n",
        "  - Validation rules can be customized to handle more complex input formats.\n",
        "  - Additional methods can be implemented for even more operations (e.g., data export or analysis).\n",
        "\n",
        "10. **Enhanced User Interaction**\n",
        "  \n",
        "  - The `start()` method provides a user-friendly way to walk through the survey. It prompts users sequentially for each question, validates their input, and stores the responses.\n",
        "  \n",
        "  - Invalid inputs are rejected with clear feedback, encouraging users to retry until the input is valid.\n"
      ],
      "metadata": {
        "id": "43oKhZNOzWYc"
      }
    },
    {
      "cell_type": "code",
      "source": [
        "# ------ Start Survey ------\n",
        "my_survey = AnonymousSurvey()\n",
        "my_survey.start()\n",
        "\n",
        "print()\n",
        "print(my_survey.survey_name)\n",
        "print(\"-----------------------\")\n",
        "print(f\"Survey Company: {my_survey.company}\")\n",
        "print(f\"Survey Researcher: {my_survey.survey_researcher}\")\n",
        "print(f\"Respondent: {my_survey.respondent}\")\n",
        "print(\"-----------------------\")\n",
        "my_survey.show_questions()\n",
        "my_survey.show_responses()"
      ],
      "metadata": {
        "colab": {
          "base_uri": "https://localhost:8080/"
        },
        "id": "Ay97O9XNiOWi",
        "outputId": "d8021a5c-a2b8-4a6d-9f44-6118811cf842"
      },
      "execution_count": null,
      "outputs": [
        {
          "output_type": "stream",
          "name": "stdout",
          "text": [
            "What is your name?: Nikola Tesla\n",
            "What is your age?: 169\n",
            "What country are you currently located at?: Heaven\n",
            "What is your annual income?: -200\n",
            "Invalid response. Please try again.\n",
            "What is your annual income?: 0\n",
            "What language did you first learn to speak?: Science\n",
            "Why did you decide to learn Python?: I was starving, a snake's gotta do\n",
            "From 0 to 10, how satisfied are you with the course? (0: extremely unsatisfied; 10: extremely satisfied): -100\n",
            "Invalid response. Please try again.\n",
            "From 0 to 10, how satisfied are you with the course? (0: extremely unsatisfied; 10: extremely satisfied): 0\n",
            "Any feedback on the instructor?: I came here for actual snakes not some pseudo English!\n",
            "\n",
            "Post Course Survey\n",
            "-----------------------\n",
            "Survey Company: NYPL Python Academy\n",
            "Survey Researcher: Timmy Tippytoes\n",
            "Respondent: Nikola Tesla\n",
            "-----------------------\n",
            "======= Questions =======\n",
            "0. What is your name?\n",
            "1. What is your age?\n",
            "2. What country are you currently located at?\n",
            "3. What is your annual income?\n",
            "4. What language did you first learn to speak?\n",
            "5. Why did you decide to learn Python?\n",
            "6. From 0 to 10, how satisfied are you with the course? (0: extremely unsatisfied; 10: extremely satisfied)\n",
            "7. Any feedback on the instructor?\n",
            "======= Responses =======\n",
            "0. What is your name?:\n",
            "\t>> Nikola Tesla\n",
            "1. What is your age?:\n",
            "\t>> 169\n",
            "2. What country are you currently located at?:\n",
            "\t>> Heaven\n",
            "3. What is your annual income?:\n",
            "\t>> 0.0\n",
            "4. What language did you first learn to speak?:\n",
            "\t>> Science\n",
            "5. Why did you decide to learn Python?:\n",
            "\t>> I was starving, a snake's gotta do\n",
            "6. From 0 to 10, how satisfied are you with the course? (0: extremely unsatisfied; 10: extremely satisfied):\n",
            "\t>> 0\n",
            "7. Any feedback on the instructor?:\n",
            "\t>> I came here for actual snakes not some pseudo English!\n"
          ]
        }
      ]
    },
    {
      "cell_type": "code",
      "source": [
        "# @title Unit Test for `AnonymousSurvey` Class\n",
        "test_survey = AnonymousSurvey()\n",
        "\n",
        "# Mock Survey for test\n",
        "test_survey._AnonymousSurvey__mock_survey()\n",
        "\n",
        "# Test show_questions & show_responses\n",
        "test_survey.show_questions()\n",
        "print()\n",
        "test_survey.show_responses()\n",
        "\n",
        "# Test Respondent\n",
        "assert test_survey.respondent == \"Survey Tester 001\"\n",
        "\n",
        "# Test attributes and properties\n",
        "assert test_survey.company == \"NYPL Python Academy\"\n",
        "assert test_survey.survey_name == \"Post Course Survey\"\n",
        "assert test_survey.survey_researcher == \"Timmy Tippytoes\"\n",
        "\n",
        "AnonymousSurvey.company = \"New Python Dojo\"\n",
        "AnonymousSurvey.survey_name = \"Test Bubbly Survey\"\n",
        "AnonymousSurvey.survey_researcher = \"Bob Bobberston\"\n",
        "\n",
        "assert test_survey.company == \"New Python Dojo\"\n",
        "assert test_survey.survey_name == \"Test Bubbly Survey\"\n",
        "assert test_survey.survey_researcher == \"Bob Bobberston\"\n",
        "\n",
        "# Test reset\n",
        "test_survey.reset()\n",
        "assert test_survey._raw_responses == []\n",
        "assert test_survey._AnonymousSurvey__rspdt is None\n",
        "\n",
        "# Test Cleanup\n",
        "AnonymousSurvey.company = \"NYPL Python Academy\"\n",
        "AnonymousSurvey.survey_name = \"Post Course Survey\"\n",
        "AnonymousSurvey.survey_researcher = \"Timmy Tippytoes\""
      ],
      "metadata": {
        "cellView": "form",
        "id": "OX2r24WZZ278"
      },
      "execution_count": null,
      "outputs": []
    },
    {
      "cell_type": "markdown",
      "source": [
        "## **Dataclasses (Additional Material)**\n",
        "\n",
        "A dataclass is a class that ...\n",
        "\n",
        "<br>\n",
        "\n",
        "**Benefits of Dataclasses:**\n",
        "\n",
        "- **sth**\n",
        "\n",
        "  - ...\n",
        "  - ...\n",
        "\n",
        "- **sth**\n",
        "\n",
        "  - ...\n",
        "  - ...\n"
      ],
      "metadata": {
        "id": "po3q3HGxI2NA"
      }
    },
    {
      "cell_type": "code",
      "source": [
        "from dataclasses import dataclass\n",
        "from datetime import datetime\n",
        "\n",
        "@dataclass\n",
        "def ZoomMeetingInfo:\n",
        "  title: str\n",
        "  start_time: datetime.Date\n",
        "\n",
        "  def __post_init__(self):\n",
        "    ..."
      ],
      "metadata": {
        "id": "3Qkw8LeGI2mk"
      },
      "execution_count": null,
      "outputs": []
    },
    {
      "cell_type": "markdown",
      "source": [
        "## **Abstract Base Classes (Additional Material)**\n",
        "\n",
        "An Abstract Base Class (ABC) is a class that serves as a blueprint for other classes and cannot be instantiated directly. It defines a common interface that derived classes must implement, enforcing a contract for class behavior.\n",
        "\n",
        "<br>\n",
        "\n",
        "**Benefits of Abstract Base Classes:**\n",
        "\n",
        "- **Interface Enforcement**\n",
        "\n",
        "  - Ensures derived classes implement required methods\n",
        "  - Provides a clear contract for class behavior\n",
        "\n",
        "- **Code Organization**\n",
        "\n",
        "  - Creates a logical hierarchy of related classes\n",
        "  - Shares common attributes and methods\n"
      ],
      "metadata": {
        "id": "fdiqe7YkBjc3"
      }
    },
    {
      "cell_type": "code",
      "source": [
        "from abc import ABC, abstractmethod\n",
        "\n",
        "class ContentItem(ABC):\n",
        "  def __init__(self, title, creator):\n",
        "    self.title = title\n",
        "    self.creator = creator\n",
        "\n",
        "  @abstractmethod\n",
        "  def get_duration(self):\n",
        "    \"\"\"Return content duration in minutes. Implement in derived class.\"\"\"\n",
        "    pass\n",
        "\n",
        "  @abstractmethod\n",
        "  def get_info(self):\n",
        "    \"\"\"Return formatted content information. Implement in derived class.\"\"\"\n",
        "    pass\n",
        "\n",
        "class Movie(ContentItem):\n",
        "  def __init__(self, title, director, duration):\n",
        "    super().__init__(title, director)\n",
        "    self.duration = duration\n",
        "\n",
        "  def get_duration(self):\n",
        "    return self.duration\n",
        "\n",
        "  def get_info(self):\n",
        "    return f\"{self.title} directed by {self.creator}\""
      ],
      "metadata": {
        "id": "t7tziB39Zw3C"
      },
      "execution_count": null,
      "outputs": []
    },
    {
      "cell_type": "markdown",
      "source": [
        "ABCs provide a formal way to define interfaces in Python. Often times, you use ABCs to enforce the type of interfaces you need and leave the actual implementation detail to the derived classes.\n"
      ],
      "metadata": {
        "id": "hoZqHrlr6zJb"
      }
    },
    {
      "cell_type": "code",
      "source": [
        "# Cannot instantiate abstract class\n",
        "content = ContentItem(\"Title\", \"Creator\")  # This would raise an error"
      ],
      "metadata": {
        "colab": {
          "base_uri": "https://localhost:8080/",
          "height": 159
        },
        "id": "0793z1y36pWN",
        "outputId": "8f93ddcd-b03c-4f94-f46f-06465113708e"
      },
      "execution_count": null,
      "outputs": [
        {
          "output_type": "error",
          "ename": "TypeError",
          "evalue": "Can't instantiate abstract class ContentItem with abstract methods get_duration, get_info",
          "traceback": [
            "\u001b[0;31m---------------------------------------------------------------------------\u001b[0m",
            "\u001b[0;31mTypeError\u001b[0m                                 Traceback (most recent call last)",
            "\u001b[0;32m<ipython-input-26-d08266343046>\u001b[0m in \u001b[0;36m<cell line: 0>\u001b[0;34m()\u001b[0m\n\u001b[1;32m      1\u001b[0m \u001b[0;31m# Cannot instantiate abstract class\u001b[0m\u001b[0;34m\u001b[0m\u001b[0;34m\u001b[0m\u001b[0m\n\u001b[0;32m----> 2\u001b[0;31m \u001b[0mcontent\u001b[0m \u001b[0;34m=\u001b[0m \u001b[0mContentItem\u001b[0m\u001b[0;34m(\u001b[0m\u001b[0;34m\"Title\"\u001b[0m\u001b[0;34m,\u001b[0m \u001b[0;34m\"Creator\"\u001b[0m\u001b[0;34m)\u001b[0m  \u001b[0;31m# This would raise an error\u001b[0m\u001b[0;34m\u001b[0m\u001b[0;34m\u001b[0m\u001b[0m\n\u001b[0m",
            "\u001b[0;31mTypeError\u001b[0m: Can't instantiate abstract class ContentItem with abstract methods get_duration, get_info"
          ]
        }
      ]
    },
    {
      "cell_type": "code",
      "source": [
        "# Can instantiate concrete implementation\n",
        "movie = Movie(\"The Matrix\", \"Wachowskis\", 136)"
      ],
      "metadata": {
        "id": "EOcLMQK56sLw"
      },
      "execution_count": null,
      "outputs": []
    },
    {
      "cell_type": "markdown",
      "source": [
        "## **Conclusion**\n",
        "\n",
        "...\n"
      ],
      "metadata": {
        "id": "75f3W_HdnUyB"
      }
    }
  ]
}