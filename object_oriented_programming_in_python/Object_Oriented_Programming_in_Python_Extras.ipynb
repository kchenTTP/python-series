{
  "nbformat": 4,
  "nbformat_minor": 0,
  "metadata": {
    "colab": {
      "provenance": [],
      "toc_visible": true,
      "collapsed_sections": [
        "dsk4TXdoVUaK"
      ],
      "authorship_tag": "ABX9TyNdbcL+bo3jxzQGo75lqqz7",
      "include_colab_link": true
    },
    "kernelspec": {
      "name": "python3",
      "display_name": "Python 3"
    },
    "language_info": {
      "name": "python"
    }
  },
  "cells": [
    {
      "cell_type": "markdown",
      "metadata": {
        "id": "view-in-github",
        "colab_type": "text"
      },
      "source": [
        "<a href=\"https://colab.research.google.com/github/kchenTTP/python-series/blob/main/object_oriented_programming_in_python/Object_Oriented_Programming_in_Python_Extras.ipynb\" target=\"_parent\"><img src=\"https://colab.research.google.com/assets/colab-badge.svg\" alt=\"Open In Colab\"/></a>"
      ]
    },
    {
      "cell_type": "markdown",
      "source": [
        "# **Object Oriented Programming in Python Extras**\n",
        "\n",
        "Extra Concepts of OOP\n",
        "\n",
        "**Table of Contents**\n",
        "\n",
        "- [Special Methods & Attributes](#scrollTo=K3MSR-8x31WE)\n",
        "- [Dataclasses](#scrollTo=po3q3HGxI2NA)\n",
        "- [Abstract Base Classes](#scrollTo=fdiqe7YkBjc3)\n"
      ],
      "metadata": {
        "id": "u77EAJpG99fN"
      }
    },
    {
      "cell_type": "markdown",
      "source": [
        "## **Class Methods and Static Methods**\n"
      ],
      "metadata": {
        "id": "dsk4TXdoVUaK"
      }
    },
    {
      "cell_type": "markdown",
      "source": [
        "### **Class Methods**\n",
        "\n",
        "Class methods are methods that work with the class itself rather than instances of the class. They are decorated with `@classmethod` and receive the class as their first parameter (conventionally called `cls`). Here are a few reasons for using class methods:\n",
        "\n",
        "<br>\n",
        "\n",
        "**Managing Class-Level State**\n",
        "\n",
        "Class methods can modify or retrieve class-level state that applies to all instances.\n"
      ],
      "metadata": {
        "id": "VMRrLm3VcJWd"
      }
    },
    {
      "cell_type": "code",
      "source": [
        "class Employee:\n",
        "  company: str = \"Tech Corp\"\n",
        "  active_employees: int = 0\n",
        "\n",
        "  def __init__(self, name, salary):\n",
        "    self.name: str = name\n",
        "    self.salary: float = salary\n",
        "    Employee.active_employees += 1\n",
        "\n",
        "  def __del__(self):\n",
        "    Employee.active_employees -= 1\n",
        "\n",
        "  @classmethod\n",
        "  def set_company(cls, new_company):\n",
        "    cls.company = new_company\n",
        "\n",
        "  @classmethod\n",
        "  def get_active_employees(cls):\n",
        "    return cls.active_employees\n",
        "\n",
        "  @classmethod\n",
        "  def get_company(cls):\n",
        "    return cls.company\n",
        "\n",
        "# Using class methods\n",
        "print(f\"Company: {Employee.get_company()}\")\n",
        "Employee.set_company(\"New Corp\")\n",
        "print(f\"New Company: {Employee.get_company()}\")\n",
        "print(\"---------\")\n",
        "\n",
        "Tom = Employee(\"Tom\", 50000)\n",
        "Alice = Employee(\"Jenna\", 60000)\n",
        "print(f\"Active Employees: {Employee.get_active_employees()}\")\n",
        "\n",
        "del Alice\n",
        "print(f\"Active Employees: {Employee.get_active_employees()}\")"
      ],
      "metadata": {
        "id": "muihD4tocN1e"
      },
      "execution_count": null,
      "outputs": []
    },
    {
      "cell_type": "markdown",
      "source": [
        "**Factory Methods for Object Creation**\n",
        "\n",
        "Sometimes you need different ways to create objects from a class. Class methods can be used as an alternative constructor.\n",
        "\n",
        "> 📒 **Note:** Here, our class method returns a `cls` (the class) instance, providing an alternative way to create an object.\n"
      ],
      "metadata": {
        "id": "5SOwEBjIcR_L"
      }
    },
    {
      "cell_type": "code",
      "source": [
        "class Date:\n",
        "  def __init__(self, year: int, month: int, day: int):\n",
        "    self.year = year\n",
        "    self.month = month\n",
        "    self.day = day\n",
        "\n",
        "  @property\n",
        "  def date(self):\n",
        "    return f\"{self.year}-{self.month}-{self.day}\"\n",
        "\n",
        "  @classmethod\n",
        "  def from_string(cls, date_string: str) -> \"Date\":\n",
        "    try:\n",
        "      year, month, day = map(int, date_string.split('-'))\n",
        "    except ValueError:\n",
        "      raise ValueError(\"Invalid date format. Use 'YYYY-MM-DD'.\")\n",
        "    return cls(year, month, day)\n",
        "\n",
        "# Example\n",
        "date1 = Date(2024, 1, 15)   # Using __init__\n",
        "date2 = Date.from_string(\"2024-1-15\")  # Using alternate constructor\n",
        "\n",
        "print(date1.date)\n",
        "print(date2.date)"
      ],
      "metadata": {
        "id": "6j1qoFJEcaaw"
      },
      "execution_count": null,
      "outputs": []
    },
    {
      "cell_type": "markdown",
      "source": [
        "#### **Examples (Additional Material)**\n",
        "\n",
        "Now let's look at some real world examples at how you could use class methods\n"
      ],
      "metadata": {
        "id": "b3uMmcLfmNqs"
      }
    },
    {
      "cell_type": "markdown",
      "source": [
        "**Role-Based Access Control in a User Management System**\n"
      ],
      "metadata": {
        "id": "6DDRT7jaL7kT"
      }
    },
    {
      "cell_type": "code",
      "source": [
        "from typing import Literal\n",
        "\n",
        "class User:\n",
        "  roles: dict[str, list] = {\"admin\": [], \"editor\": [], \"viewer\": []}\n",
        "  permissions: dict[str, list[Literal[\"create\", \"read\", \"update\", \"delete\"]]] = {\n",
        "      \"admin\": [\"create\", \"read\", \"update\", \"delete\"],\n",
        "      \"editor\": [\"read\", \"update\"],\n",
        "      \"viewer\": [\"read\"],\n",
        "    }\n",
        "\n",
        "  def __init__(self, username: str, role: str = \"viewer\"):\n",
        "    if role not in User.roles:\n",
        "      raise ValueError(f\"Invalid role: {role}\")\n",
        "    self.username = username\n",
        "    self.role = role\n",
        "    User.roles[role].append(username)\n",
        "\n",
        "  @classmethod\n",
        "  def show_roles(cls):\n",
        "    print(cls.roles)\n",
        "\n",
        "  @classmethod\n",
        "  def get_users_by_role(cls, role: str) -> list:\n",
        "    if role not in cls.roles:\n",
        "      raise ValueError(f\"Role '{role}' does not exist.\")\n",
        "    return cls.roles[role]\n",
        "\n",
        "  def has_permission(self, action: Literal[\"create\", \"read\", \"update\", \"delete\"]) -> bool:\n",
        "    return action in User.permissions.get(self.role, [])\n",
        "\n",
        "  def perform_action(self, action: Literal[\"create\", \"read\", \"update\", \"delete\"]):\n",
        "    if self.has_permission(action):\n",
        "      return f\"{self.username} can {action}.\"\n",
        "    else:\n",
        "      return f\"{self.username} cannot {action} due to insufficient permissions.\"\n",
        "\n",
        "admin = User(\"Timothy\", \"admin\")\n",
        "editor = User(\"Jane\", \"editor\")\n",
        "viewer = User(\"Nora\", \"viewer\")\n",
        "User.show_roles()\n",
        "print(User.get_users_by_role(\"admin\"))\n",
        "print(\"----------\")\n",
        "\n",
        "# Perform actions based on permissions\n",
        "print(admin.perform_action(\"create\"))\n",
        "print(editor.perform_action(\"create\"))\n",
        "print(viewer.perform_action(\"read\"))\n",
        "print(viewer.perform_action(\"update\"))"
      ],
      "metadata": {
        "id": "T_h7mZPSnlfU",
        "colab": {
          "base_uri": "https://localhost:8080/"
        },
        "outputId": "4224ea57-3ad7-42ac-821d-66b82ce8c713"
      },
      "execution_count": null,
      "outputs": [
        {
          "output_type": "stream",
          "name": "stdout",
          "text": [
            "{'admin': ['Timothy'], 'editor': ['Jane'], 'viewer': ['Nora']}\n",
            "['Timothy']\n",
            "----------\n",
            "Timothy can create.\n",
            "Jane cannot create due to insufficient permissions.\n",
            "Nora can read.\n",
            "Nora cannot update due to insufficient permissions.\n"
          ]
        }
      ]
    },
    {
      "cell_type": "markdown",
      "source": [
        "**Caching Mechanism**\n",
        "\n",
        "> 💡 *Caching is a technique used to store a copy of data in a temporary storage location (called a **cache**) so that it can be accessed more quickly in the future.*\n"
      ],
      "metadata": {
        "id": "FaC0KaOBMtUD"
      }
    },
    {
      "cell_type": "code",
      "source": [
        "class URLShortener:\n",
        "  cache = {}\n",
        "\n",
        "  def __init__(self, long_url):\n",
        "    self.long_url = long_url\n",
        "    self.short_url = self._generate_short_url()\n",
        "    URLShortener.cache[self.short_url] = long_url\n",
        "\n",
        "  def _generate_short_url(self):\n",
        "    \"\"\"Generates a simple short URL.\"\"\"\n",
        "    return f\"short.ly/{hash(self.long_url) % 10000}\"\n",
        "\n",
        "  @classmethod\n",
        "  def get_long_url(cls, short_url):\n",
        "    \"\"\"Fetch the original URL from the cache.\"\"\"\n",
        "    return cls.cache.get(short_url, \"Not found\")\n",
        "\n",
        "  @classmethod\n",
        "  def cache_size(cls):\n",
        "    \"\"\"Returns the size of the cache.\"\"\"\n",
        "    return len(cls.cache)\n",
        "\n",
        "# Example Usage\n",
        "url1 = URLShortener(\"https://example.com/long-url\")\n",
        "url2 = URLShortener(\"https://anotherexample.com/very-long-url\")\n",
        "\n",
        "print(url1.short_url)\n",
        "print(URLShortener.get_long_url(url1.short_url))\n",
        "print(URLShortener.get_long_url(\"skdjksdjf\"))\n",
        "print(URLShortener.cache_size())"
      ],
      "metadata": {
        "colab": {
          "base_uri": "https://localhost:8080/"
        },
        "id": "ifh8WVE9MwJ4",
        "outputId": "09f5f9f2-87fa-4e68-92c4-f673030e2fe8"
      },
      "execution_count": null,
      "outputs": [
        {
          "output_type": "stream",
          "name": "stdout",
          "text": [
            "short.ly/2466\n",
            "https://example.com/long-url\n",
            "Not found\n",
            "2\n"
          ]
        }
      ]
    },
    {
      "cell_type": "markdown",
      "source": [
        "### **Static Methods**\n",
        "\n",
        "Static methods are methods that don't operate on either the instance or the class. They are decorated with `@staticmethod` and don't receive any special first parameter.\n",
        "\n",
        "> 📒 **Note:** Static methods are like utility functions that don't require access to the class or instance.\n"
      ],
      "metadata": {
        "id": "9Uyx1Oj9vOq_"
      }
    },
    {
      "cell_type": "code",
      "source": [
        "class MathUtils:\n",
        "  @staticmethod\n",
        "  def add(x, y):\n",
        "    return x + y\n",
        "\n",
        "  @staticmethod\n",
        "  def subtract(x, y):\n",
        "    return x - y\n",
        "\n",
        "  @staticmethod\n",
        "  def multiply(x, y):\n",
        "    return x * y\n",
        "\n",
        "  @staticmethod\n",
        "  def divide(x, y):\n",
        "    if y == 0:\n",
        "      raise ValueError(\"Division by zero is not allowed.\")\n",
        "    return x / y\n",
        "\n",
        "  @staticmethod\n",
        "  def power(x, y):\n",
        "    return x ** y\n",
        "\n",
        "# Using static methods\n",
        "print(MathUtils.add(5, 3))\n",
        "print(MathUtils.power(10, 2))"
      ],
      "metadata": {
        "colab": {
          "base_uri": "https://localhost:8080/"
        },
        "id": "_sPFQGD-YT_-",
        "outputId": "45e7580c-538b-4297-805d-b9ba6dee58d9"
      },
      "execution_count": null,
      "outputs": [
        {
          "output_type": "stream",
          "name": "stdout",
          "text": [
            "8\n",
            "100\n"
          ]
        }
      ]
    },
    {
      "cell_type": "code",
      "source": [
        "class Date:\n",
        "  @staticmethod\n",
        "  def is_valid_date(year: int, month: int, day: int) -> bool:\n",
        "    # Type validation\n",
        "    if not isinstance(year, int) or not isinstance(month, int) or not isinstance(day, int):\n",
        "      raise TypeError(\"All arguments must be integers\")\n",
        "\n",
        "    # Year validation\n",
        "    if year < 1:\n",
        "      return False\n",
        "\n",
        "    # Month validation\n",
        "    if month < 1 or month > 12:\n",
        "      return False\n",
        "\n",
        "    # Day validation\n",
        "    if day < 1 or day > 31:\n",
        "      return False\n",
        "    if month in [4, 6, 9, 11] and day > 30:\n",
        "      return False\n",
        "    if month == 2:\n",
        "      if Date.is_leap_year(year):\n",
        "        return day <= 29\n",
        "      else:\n",
        "        return day <= 28\n",
        "\n",
        "    return True\n",
        "\n",
        "  @staticmethod\n",
        "  def is_leap_year(year: int) -> bool:\n",
        "    # Type validation\n",
        "    if not isinstance(year, int):\n",
        "      raise TypeError(\"Year must be an integer\")\n",
        "\n",
        "    if year % 4 == 0:\n",
        "      if year % 100 == 0:\n",
        "        return year % 400 == 0\n",
        "      return True\n",
        "    return False\n",
        "\n",
        "# Using static methods\n",
        "print(Date.is_valid_date(2024, 1, 15))\n",
        "print(Date.is_leap_year(2024))\n",
        "print(Date.is_valid_date(-100, 1, 1))"
      ],
      "metadata": {
        "colab": {
          "base_uri": "https://localhost:8080/"
        },
        "id": "4-ulZqSmW3jB",
        "outputId": "ff7a4154-33a8-4230-c114-f21685cae350"
      },
      "execution_count": null,
      "outputs": [
        {
          "output_type": "stream",
          "name": "stdout",
          "text": [
            "True\n",
            "True\n",
            "False\n"
          ]
        }
      ]
    },
    {
      "cell_type": "code",
      "source": [
        "class Temperature:\n",
        "  def __init__(self, *, celcius: float | None = None, fahrenheit: float | None = None, kelvin: float | None = None):\n",
        "    # Check if one and only one of the temperature units is provided\n",
        "    if not celcius and not fahrenheit and not kelvin:\n",
        "      raise ValueError(\"At least one temperature unit must be provided\")\n",
        "    elif bool(celcius) + bool(fahrenheit) + bool(kelvin) > 1:\n",
        "      raise ValueError(\"Only one temperature unit can be provided\")\n",
        "\n",
        "    if celcius:\n",
        "      self.celcius = celcius\n",
        "      self.fahrenheit = self.celcius_to_fahrenheit(celcius)\n",
        "      self.kelvin = self.celcius_to_kelvin(celcius)\n",
        "    if fahrenheit:\n",
        "      self.fahrenheit = fahrenheit\n",
        "      self.celcius = self.fahrenheit_to_celcius(fahrenheit)\n",
        "      self.kelvin = self.fahrenheit_to_kelvin(fahrenheit)\n",
        "    if kelvin:\n",
        "      self.kelvin = kelvin\n",
        "      self.celcius = self.kelvin_to_celcius(kelvin)\n",
        "      self.fahrenheit = self.kelvin_to_fahrenheit(kelvin)\n",
        "\n",
        "  @staticmethod\n",
        "  def celcius_to_fahrenheit(celcius: float) -> float:\n",
        "    return (celcius * 9/5) + 32\n",
        "\n",
        "  @staticmethod\n",
        "  def celcius_to_kelvin(celcius: float) -> float:\n",
        "    return celcius + 273.15\n",
        "\n",
        "  @staticmethod\n",
        "  def fahrenheit_to_celcius(fahrenheit) -> float:\n",
        "    return (fahrenheit - 32) * 5/9\n",
        "\n",
        "  @staticmethod\n",
        "  def fahrenheit_to_kelvin(fahrenheit: float) -> float:\n",
        "    return Temperature.celcius_to_kelvin(Temperature.fahrenheit_to_celcius(fahrenheit))\n",
        "\n",
        "  @staticmethod\n",
        "  def kelvin_to_celcius(kelvin: float) -> float:\n",
        "    return kelvin - 273.15\n",
        "\n",
        "  @staticmethod\n",
        "  def kelvin_to_fahrenheit(kelvin: float) -> float:\n",
        "    return Temperature.celcius_to_fahrenheit(Temperature.kelvin_to_celcius(kelvin))\n",
        "\n",
        "# Using static methods\n",
        "celcius = 25.0\n",
        "\n",
        "print(f\"Fahrenheit: {Temperature.celcius_to_fahrenheit(celcius)}\")\n",
        "print(f\"Kelvin: {Temperature.celcius_to_kelvin(celcius)}\")"
      ],
      "metadata": {
        "colab": {
          "base_uri": "https://localhost:8080/"
        },
        "id": "dn-fsVv6UfzR",
        "outputId": "f20bae3d-43da-4b8a-aef6-f62b6486b188"
      },
      "execution_count": null,
      "outputs": [
        {
          "output_type": "stream",
          "name": "stdout",
          "text": [
            "Fahrenheit: 77.0\n",
            "Kelvin: 298.15\n"
          ]
        }
      ]
    },
    {
      "cell_type": "markdown",
      "source": [
        "## **Special Methods & Attributes**\n",
        "\n",
        "Python provides several special methods (also called **magic** methods or **dunder** methods) and attributes  that enable advanced functionality and customization for your classes. These methods start and end with ***double underscores*** (`__`) and are used internally by Python, but you can override them to define your class's behavior.\n"
      ],
      "metadata": {
        "id": "K3MSR-8x31WE"
      }
    },
    {
      "cell_type": "markdown",
      "source": [
        "### **Dunder Methods**\n"
      ],
      "metadata": {
        "id": "vg9-s_SgTqVs"
      }
    },
    {
      "cell_type": "markdown",
      "source": [
        "#### **Object Initialization and Destruction**\n",
        "\n",
        "**`__init__`**\n",
        "\n",
        "  - Used as the ***constructor*** of the class to initialize attributes.\n",
        "  - Called automatically when an object is created.\n",
        "\n",
        "**`__del__`**\n",
        "\n",
        "  - Used as the ***destructor*** of the class.\n",
        "  - Called when an object is about to be destroyed (rarely used).\n"
      ],
      "metadata": {
        "id": "GMP_yJmZDoWH"
      }
    },
    {
      "cell_type": "code",
      "source": [
        "class Creature:\n",
        "  def __init__(self, name: str):\n",
        "    self.name = name\n",
        "    print(f\"{self.name} has been created.\")\n",
        "\n",
        "  def __del__(self):\n",
        "    print(f\"{self.name} has been destroyed.\")\n",
        "\n",
        "# Example\n",
        "goblin = Creature(\"Goblin\")\n",
        "del goblin"
      ],
      "metadata": {
        "colab": {
          "base_uri": "https://localhost:8080/"
        },
        "id": "OxlgfqMeeaEx",
        "outputId": "16d246d3-2885-4cae-d309-4c3a0795a7d2"
      },
      "execution_count": null,
      "outputs": [
        {
          "output_type": "stream",
          "name": "stdout",
          "text": [
            "Goblin has been created.\n",
            "Goblin has been destroyed.\n"
          ]
        }
      ]
    },
    {
      "cell_type": "markdown",
      "source": [
        "#### **Object Representation**\n",
        "\n",
        "**`__str__`**\n",
        "\n",
        "  - Defines the human-readable string representation of an object.\n",
        "  - Used by `str()` and `print()`.\n",
        "\n",
        "**`__repr__`**\n",
        "\n",
        "  - Defines the official string representation of an object.\n",
        "  - Used by `repr()` and in debugging.\n",
        "  - If `__str__` is not defined, `str()` and `print()` will use `__repr__` instead.\n"
      ],
      "metadata": {
        "id": "zf2SvfrGedH8"
      }
    },
    {
      "cell_type": "code",
      "source": [
        "class Person:\n",
        "  def __init__(self, name, age):\n",
        "    self.name = name\n",
        "    self.age = age\n",
        "\n",
        "  def __str__(self):\n",
        "    return f\"{self.name}, {self.age} years old\"\n",
        "\n",
        "  def __repr__(self):\n",
        "    return f\"Person(name={self.name!r}, age={self.age!r})\"\n",
        "\n",
        "# Classes without string representation\n",
        "print(Creature)\n",
        "print(str(Creature))\n",
        "print(\"--------\")\n",
        "\n",
        "# Classes with string representation\n",
        "person = Person(\"Jeffery\", 25)\n",
        "print(person)\n",
        "print(str(person))\n",
        "print(repr(person))"
      ],
      "metadata": {
        "colab": {
          "base_uri": "https://localhost:8080/"
        },
        "id": "uMlO1G57exYW",
        "outputId": "69ed05d3-9e83-4f90-9054-a6a93e6863c3"
      },
      "execution_count": null,
      "outputs": [
        {
          "output_type": "stream",
          "name": "stdout",
          "text": [
            "<class '__main__.Creature'>\n",
            "<class '__main__.Creature'>\n",
            "--------\n",
            "Jeffery, 25 years old\n",
            "Jeffery, 25 years old\n",
            "Person(name='Jeffery', age=25)\n"
          ]
        }
      ]
    },
    {
      "cell_type": "markdown",
      "source": [
        "#### **Operator Overloading**\n",
        "\n",
        "##### **Arithmetic Operators**\n",
        "\n",
        "**`__add__`**, **`__sub__`**, **`__mul__`**, **`__truediv__`**, **`__floordiv__`**, **`__mod__`**, **`__pow__`**\n",
        "\n",
        "  - Define the behavior of arithmetic operators: `+`, `-`, `*`, `/`, `//`, `%`, `**`.\n",
        "\n",
        "##### **Comparison Operators**\n",
        "\n",
        "**`__eq__`**, **`__ne__`**, **`__lt__`**, **`__gt__`**, **`__le__`**, **`__ge__`**\n",
        "\n",
        "  - Define the behavior of comparison operators: `==`, `!=`, `<`, `>`, `<=`, `>=`.\n",
        "\n",
        "> ❗ When overloading operators, the dunder methods should only recieve `self` and `other` as the first two arguments.\n"
      ],
      "metadata": {
        "id": "5AHloqlJe4JC"
      }
    },
    {
      "cell_type": "code",
      "source": [
        "from typing import Union  # for type hint\n",
        "\n",
        "# Let's try to recreate our own string datatype\n",
        "class MyString:\n",
        "  def __init__(self, value: str):\n",
        "    self.value = value\n",
        "\n",
        "  # Arithmetic Operators\n",
        "  def __add__(self, other: Union[\"MyString\", str]) -> \"MyString\":\n",
        "    if isinstance(other, MyString):\n",
        "      return MyString(self.value + other.value)\n",
        "    elif isinstance(other, str):\n",
        "      return MyString(self.value + other)\n",
        "    else:\n",
        "      raise TypeError\n",
        "\n",
        "  def __mul__(self, other: int) -> \"MyString\":\n",
        "    if isinstance(other, int):\n",
        "      return MyString(self.value * other)\n",
        "    else:\n",
        "      raise TypeError\n",
        "\n",
        "  # Comparison Operators\n",
        "  def __eq__(self, other: Union[\"MyString\", str]) -> bool:\n",
        "    if isinstance(other, MyString):\n",
        "      return self.value == other.value\n",
        "    elif isinstance(other, str):\n",
        "      return self.value == other\n",
        "\n",
        "  def __ne__(self, other: Union[\"MyString\", str]) -> bool:\n",
        "    if isinstance(other, MyString):\n",
        "      return self.value != other.value\n",
        "    elif isinstance(other, str):\n",
        "      return self.value != other\n",
        "\n",
        "  # Representation Methods\n",
        "  def __str__(self):\n",
        "    return self.value\n",
        "\n",
        "  def __repr__(self):\n",
        "    return f\"MyString('{self.value}')\"\n",
        "\n",
        "# Example\n",
        "s1 = MyString(\"Hello\")\n",
        "s2 = MyString(\"World\")\n",
        "\n",
        "print(s1 + \" \" + s2)\n",
        "print(s1 * 3)\n",
        "print(s1 == \"Good morning\")\n",
        "print(s1 != s2)"
      ],
      "metadata": {
        "colab": {
          "base_uri": "https://localhost:8080/"
        },
        "id": "pLbmlCuJpoJ9",
        "outputId": "6206c613-4f8e-4edc-9859-82310e9550ae"
      },
      "execution_count": null,
      "outputs": [
        {
          "output_type": "stream",
          "name": "stdout",
          "text": [
            "Hello World\n",
            "HelloHelloHello\n",
            "False\n",
            "True\n"
          ]
        }
      ]
    },
    {
      "cell_type": "markdown",
      "source": [
        "#### **Container Behavior**\n",
        "\n",
        "**`__len__`**\n",
        "\n",
        "  - Defines the behavior of `len()`.\n",
        "\n",
        "**`__getitem__`**\n",
        "\n",
        "  - Defines behavior for indexing (e.g., `obj[key]`).\n",
        "\n",
        "**`__setitem__`**\n",
        "\n",
        "  - Defines behavior for assignment to indexed elements.\n",
        "\n",
        "**`__delitem__`**\n",
        "\n",
        "  - Defines behavior for deleting indexed elements.\n",
        "\n",
        "**`__iter__`**\n",
        "\n",
        "  - Makes an object iterable (used in loops).\n",
        "\n",
        "**`__contains__`**\n",
        "\n",
        "  - Defines the behavior of the `in` operator.\n"
      ],
      "metadata": {
        "id": "o9pIGxbzf5PZ"
      }
    },
    {
      "cell_type": "code",
      "source": [
        "from typing import Any  # for type hint\n",
        "\n",
        "# Let's try to recreate our own list datatype\n",
        "class MyList:\n",
        "  def __init__(self, *items: Any):\n",
        "    self._length = 0\n",
        "\n",
        "    # Dynamically setting attributes base on the number of arguements passed in when initialized\n",
        "    for i, item in enumerate(items):\n",
        "      setattr(self, f\"{i}\", item)\n",
        "      self._length += 1\n",
        "\n",
        "  def __len__(self):\n",
        "    return self._length\n",
        "\n",
        "  def __iter__(self):\n",
        "    for i in range(self._length):\n",
        "      yield getattr(self, f\"{i}\")\n",
        "\n",
        "  def __contains__(self, item: Any):\n",
        "    for i in range(self._length):\n",
        "      if getattr(self, f\"{i}\") == item:\n",
        "        return True\n",
        "    return False\n",
        "\n",
        "  def __str__(self):\n",
        "    return f\"{[getattr(self, f'{i}') for i in range(self._length)]}\"\n",
        "\n",
        "  def __getitem__(self, index: int):\n",
        "    if not isinstance(index, int):\n",
        "      raise TypeError(\"Index must be an integer\")\n",
        "    if index < 0 - self._length or index >= self._length:\n",
        "      raise IndexError(\"Index out of range\")\n",
        "\n",
        "    # Convert negative index to positive\n",
        "    if index < 0:\n",
        "      index = self._length + index\n",
        "\n",
        "    # Dynamically getting attributes\n",
        "    for i in range(self._length):\n",
        "      if i == index:\n",
        "        return getattr(self, f\"{i}\")\n",
        "\n",
        "  def __setitem__(self, index: int, value: Any):\n",
        "    if not isinstance(index, int):\n",
        "      raise TypeError(\"Index must be an integer\")\n",
        "    if index < 0 - self._length or index >= self._length:\n",
        "      raise IndexError(\"Index out of range\")\n",
        "\n",
        "    # Convert negative index to positive\n",
        "    if index < 0:\n",
        "      index = self._length + index\n",
        "\n",
        "    # Dynamically setting attributes\n",
        "    for i in range(self._length):\n",
        "      if i == index:\n",
        "        setattr(self, f\"{i}\", value)\n",
        "        break\n",
        "\n",
        "  def __delitem__(self, index: int):\n",
        "    if not isinstance(index, int):\n",
        "      raise TypeError(\"Index must be an integer\")\n",
        "    if index < 0 - self._length or index >= self._length:\n",
        "      raise IndexError(\"Index out of range\")\n",
        "\n",
        "    # Convert negative index to positive\n",
        "    if index < 0:\n",
        "      index = self._length + index\n",
        "\n",
        "    # Dynamically deleting attributes and adjust the rest of the attributes and length of object\n",
        "    for i in range(self._length):\n",
        "      if i == index:\n",
        "        delattr(self, f\"{i}\")\n",
        "      if i > index:\n",
        "        setattr(self, f\"{i - 1}\", getattr(self, f\"{i}\"))\n",
        "        delattr(self, f\"{i}\")\n",
        "    self._length -= 1\n",
        "\n",
        "# Example\n",
        "lst = MyList(1, 2, 3, 4, 5)\n",
        "\n",
        "print(lst)\n",
        "print(2 in lst)\n",
        "print(20 in lst)\n",
        "print(\"---------\")\n",
        "\n",
        "print(f\"Index 0: {lst[0]}\")\n",
        "lst[0] = 10\n",
        "print(f\"New Index 0: {lst[0]}\")\n",
        "print(\"---------\")\n",
        "\n",
        "print(f\"Length: {len(lst)}\")\n",
        "del lst[-2]\n",
        "print(f\"Length After Removing 1 Item: {len(lst)}\")\n",
        "print(\"---------\")\n",
        "\n",
        "for item in lst:\n",
        "  print(item)"
      ],
      "metadata": {
        "colab": {
          "base_uri": "https://localhost:8080/"
        },
        "id": "GyI3Isogw9ly",
        "outputId": "f562c798-c182-4332-dc03-2a72041f1b50"
      },
      "execution_count": null,
      "outputs": [
        {
          "output_type": "stream",
          "name": "stdout",
          "text": [
            "[1, 2, 3, 4, 5]\n",
            "True\n",
            "False\n",
            "---------\n",
            "Index 0: 1\n",
            "New Index 0: 10\n",
            "---------\n",
            "Length: 5\n",
            "Length After Removing 1 Item: 4\n",
            "---------\n",
            "10\n",
            "2\n",
            "3\n",
            "5\n"
          ]
        }
      ]
    },
    {
      "cell_type": "markdown",
      "source": [
        "> 📒 **Note:** `setattr`, `getattr`, and `delattr` are built-in functions that provide dynamic access to an object's attributes.\n"
      ],
      "metadata": {
        "id": "FrbXHSTq7-c_"
      }
    },
    {
      "cell_type": "markdown",
      "source": [
        "#### **Context Manager**\n",
        "\n",
        "**`__enter__`**\n",
        "\n",
        "  - Executes when entering the `with` block.\n",
        "  - Performs any necessary setup or initialization.\n",
        "  - Returns the object to be used within the `with` block.\n",
        "    - Often returns `self` to provide access to the instance.\n",
        "\n",
        "**`__exit__`**\n",
        "\n",
        "  - Executes when exiting the `with` block (whether normally or due to an exception).\n",
        "  - Handles cleanup and resource release.\n",
        "  - Receives exception information if one occurred:\n",
        "    - `exc_type`: Type of exception (e.g., `ValueError`, `TypeError`). `None` if no exception occurred.\n",
        "    - `exc_val`: The exception instance with error details. `None` if no exception occurred.\n",
        "    - `exc_tb`: Traceback object containing the call stack. `None` if no exception occurred.\n",
        "  - Return value controls exception propagation:\n",
        "    - `True`: Suppresses the exception.\n",
        "    - `False` or None: Allows the exception to propagate.\n"
      ],
      "metadata": {
        "id": "6TVt4uqugN6Z"
      }
    },
    {
      "cell_type": "code",
      "source": [
        "import time\n",
        "\n",
        "class Timer:\n",
        "  def __enter__(self):\n",
        "    self.start = time.perf_counter()\n",
        "    return self\n",
        "\n",
        "  def __exit__(self, exc_type, exc_val, exc_tb):\n",
        "    self.end = time.perf_counter()\n",
        "    self.duration = self.end - self.start\n",
        "    print(f\"Execution time: {self.duration:.4f} seconds\")\n",
        "\n",
        "# Example\n",
        "with Timer():\n",
        "    sum(range(1000000))"
      ],
      "metadata": {
        "colab": {
          "base_uri": "https://localhost:8080/"
        },
        "id": "rmzcyRVhgbx5",
        "outputId": "7488d179-9191-4388-e241-3ffebcd04cab"
      },
      "execution_count": null,
      "outputs": [
        {
          "output_type": "stream",
          "name": "stdout",
          "text": [
            "Execution time: 0.0217 seconds\n"
          ]
        }
      ]
    },
    {
      "cell_type": "markdown",
      "source": [
        "### **Special Attributes**\n",
        "\n",
        "**`__dict__`**\n",
        "\n",
        "A special attribute that stores the object's writable attributes as key-value pairs in a dictionary.\n",
        "\n",
        "**`__class__`**\n",
        "\n",
        "A special attribute that holds a reference to the class of the object.\n",
        "\n",
        "**`__doc__`**\n",
        "\n",
        "A special attribute that contains the docstring of the class, method, or function.\n"
      ],
      "metadata": {
        "id": "FqSGZ48CVDXN"
      }
    },
    {
      "cell_type": "code",
      "source": [
        "class MyClass:\n",
        "  \"\"\"😀 This is a simple class with a docstring.\"\"\"\n",
        "\n",
        "  cls_attr = 100\n",
        "\n",
        "  def __init__(self, value):\n",
        "    self.value = value\n",
        "\n",
        "  def my_method(self):\n",
        "    \"\"\"🐍 This is a method with a docstring.\"\"\"\n",
        "    pass\n",
        "\n",
        "obj = MyClass(42)\n",
        "\n",
        "print(obj.__dict__)\n",
        "print(MyClass.__dict__)\n",
        "print(obj.__class__)\n",
        "print(obj.__doc__)\n",
        "print(obj.my_method.__doc__)"
      ],
      "metadata": {
        "colab": {
          "base_uri": "https://localhost:8080/"
        },
        "id": "kjCpqHtMVkcF",
        "outputId": "4902c29e-fc0f-4013-b4c8-5b73478864c3"
      },
      "execution_count": null,
      "outputs": [
        {
          "output_type": "stream",
          "name": "stdout",
          "text": [
            "{'value': 42}\n",
            "{'__module__': '__main__', '__doc__': '😀 This is a simple class with a docstring.', 'cls_attr': 100, '__init__': <function MyClass.__init__ at 0x7f5730257380>, 'my_method': <function MyClass.my_method at 0x7f5730257240>, '__dict__': <attribute '__dict__' of 'MyClass' objects>, '__weakref__': <attribute '__weakref__' of 'MyClass' objects>}\n",
            "<class '__main__.MyClass'>\n",
            "😀 This is a simple class with a docstring.\n",
            "🐍 This is a method with a docstring.\n"
          ]
        }
      ]
    },
    {
      "cell_type": "markdown",
      "source": [
        "There are many more dunder methods and special attributes beyond those covered here, each serving specific purposes to customize and extend the behavior of objects in Python. Understanding and using these methods effectively can help you write cleaner, more Pythonic code.\n"
      ],
      "metadata": {
        "id": "58qYOQxRVERg"
      }
    },
    {
      "cell_type": "markdown",
      "source": [
        "### **More Examples (Additional Material)**\n"
      ],
      "metadata": {
        "id": "43wUuAfKT_w-"
      }
    },
    {
      "cell_type": "markdown",
      "source": [
        "**Circle**\n"
      ],
      "metadata": {
        "id": "e7puw5dWUnLB"
      }
    },
    {
      "cell_type": "code",
      "source": [
        "class Circle:\n",
        "  def __init__(self, radius: float):\n",
        "    self.radius = radius\n",
        "\n",
        "  @property\n",
        "  def area(self):\n",
        "    return 3.14 * (self.radius ** 2)\n",
        "\n",
        "  # Comparison Operators\n",
        "  def __eq__(self, other: \"Circle\"):\n",
        "    if not isinstance(other, Circle):\n",
        "      return False\n",
        "    return self.area == other.area\n",
        "\n",
        "  def __ne__(self, other: \"Circle\"):\n",
        "    if not isinstance(other, Circle):\n",
        "      return False\n",
        "    return self.area != other.area\n",
        "\n",
        "  def __lt__(self, other: \"Circle\"):\n",
        "    if not isinstance(other, Circle):\n",
        "      return False\n",
        "    return self.area < other.area\n",
        "\n",
        "  def __le__(self, other: \"Circle\"):\n",
        "    if not isinstance(other, Circle):\n",
        "      return False\n",
        "    return self.area <= other.area\n",
        "\n",
        "  def __gt__(self, other: \"Circle\"):\n",
        "    if not isinstance(other, Circle):\n",
        "      return False\n",
        "    return self.area > other.area\n",
        "\n",
        "  def __ge__(self, other: \"Circle\"):\n",
        "    if not isinstance(other, Circle):\n",
        "      return False\n",
        "    return self.area >= other.area\n",
        "\n",
        "# Example\n",
        "small_circle = Circle(10)\n",
        "big_circle = Circle(20)\n",
        "\n",
        "print(small_circle == big_circle)\n",
        "print(small_circle != big_circle)\n",
        "print(small_circle < big_circle)"
      ],
      "metadata": {
        "colab": {
          "base_uri": "https://localhost:8080/"
        },
        "id": "4OPzsYE1n5SE",
        "outputId": "75fb8d2f-3991-46c8-f504-c1e5e106b6dc"
      },
      "execution_count": null,
      "outputs": [
        {
          "output_type": "stream",
          "name": "stdout",
          "text": [
            "False\n",
            "True\n",
            "True\n"
          ]
        }
      ]
    },
    {
      "cell_type": "markdown",
      "source": [
        "**Game Level**\n"
      ],
      "metadata": {
        "id": "fGBLuTQAM1uL"
      }
    },
    {
      "cell_type": "code",
      "source": [
        "import random\n",
        "\n",
        "class LevelConfig:\n",
        "  def __init__(self, level_name: str):\n",
        "    self.level_name = level_name\n",
        "    self.objects = [\"💰 treasure chest\", \"🍾 health potion\", \"🪖 armor\", \"☠️ poison trap\"]\n",
        "    self.monsters = [\"👺 goblin\", \"🧌 orc\", \"🐉 dragon\"]\n",
        "\n",
        "class LevelLayout:\n",
        "  def __init__(self, config: LevelConfig):\n",
        "    self.config = config\n",
        "    self.layout = []\n",
        "    self.size = 5  # 5x5 grid\n",
        "    self.cell_width = 0\n",
        "    for item in self.config.objects + self.config.monsters:\n",
        "      self.cell_width = max(self.cell_width, len(item))\n",
        "    self.initialize_empty_layout()\n",
        "\n",
        "  def initialize_empty_layout(self):\n",
        "    self.layout = [[\"empty\" for _ in range(self.size)] for _ in range(self.size)]\n",
        "\n",
        "  def randomize(self):\n",
        "    self.initialize_empty_layout()\n",
        "    # Place random objects\n",
        "    for obj in self.config.objects:\n",
        "      x, y = random.randint(0, self.size-1), random.randint(0, self.size-1)\n",
        "      while self.layout[y][x] != \"empty\":\n",
        "        x, y = random.randint(0, self.size-1), random.randint(0, self.size-1)\n",
        "      self.layout[y][x] = obj\n",
        "\n",
        "    # Place random monsters\n",
        "    for monster in self.config.monsters:\n",
        "      x, y = random.randint(0, self.size-1), random.randint(0, self.size-1)\n",
        "      while self.layout[y][x] != \"empty\":\n",
        "        x, y = random.randint(0, self.size-1), random.randint(0, self.size-1)\n",
        "      self.layout[y][x] = monster\n",
        "\n",
        "class GameLevel:\n",
        "  def __init__(self, level_name: str):\n",
        "    self.level_name = level_name\n",
        "    self.config = None\n",
        "    self.level_layout = None\n",
        "\n",
        "  def __enter__(self):\n",
        "    print(f\"Initializing level: {self.level_name}\")\n",
        "    self.config = LevelConfig(self.level_name)\n",
        "    self.level_layout = LevelLayout(self.config)\n",
        "    self.level_layout.randomize()\n",
        "    return self\n",
        "\n",
        "  def __exit__(self, exc_type, exc_val, exc_tb):\n",
        "    print(f\"Cleaning up level: {self.level_name}\")\n",
        "    self.config = None\n",
        "    self.level_layout = None\n",
        "    if exc_type is not None:\n",
        "      print(f\"An error occurred: {exc_val}\")\n",
        "      return True\n",
        "\n",
        "  def display_layout(self):\n",
        "    if self.level_layout is None:\n",
        "      raise ValueError(\"Level layout has not been initialized\")\n",
        "\n",
        "    total_width = (self.level_layout.cell_width * self.level_layout.size) + (self.level_layout.size - 1)\n",
        "    print((\"+\" + \"-\" * self.level_layout.cell_width) * self.level_layout.size + \"+\")\n",
        "\n",
        "    for row in self.level_layout.layout:\n",
        "      formatted_row = \"|\" + \"|\".join(f\"{cell:^{self.level_layout.cell_width}}\" for cell in row) + \"|\"\n",
        "      print(formatted_row)\n",
        "      print((\"+\" + \"-\" * self.level_layout.cell_width) * self.level_layout.size + \"+\")"
      ],
      "metadata": {
        "id": "YCyVRyj-B4jX"
      },
      "execution_count": null,
      "outputs": []
    },
    {
      "cell_type": "code",
      "source": [
        "with GameLevel(\"Dungeon\") as game:\n",
        "  print(f\"Level Name: {game.level_name}\")\n",
        "  print(f\"Level Config: {game.config.__dict__}\")\n",
        "  print()\n",
        "  game.display_layout()"
      ],
      "metadata": {
        "colab": {
          "base_uri": "https://localhost:8080/"
        },
        "id": "RgrekLHsM7wc",
        "outputId": "03f4c6ea-2dbc-4df1-cd28-86be0b3bf43a"
      },
      "execution_count": null,
      "outputs": [
        {
          "output_type": "stream",
          "name": "stdout",
          "text": [
            "Initializing level: Dungeon\n",
            "Level Name: Dungeon\n",
            "Level Config: {'level_name': 'Dungeon', 'objects': ['💰 treasure chest', '🍾 health potion', '🪖 armor', '☠️ poison trap'], 'monsters': ['👺 goblin', '🧌 orc', '🐉 dragon']}\n",
            "\n",
            "+----------------+----------------+----------------+----------------+----------------+\n",
            "|     🧌 orc      |    👺 goblin    |     empty      |    🪖 armor     |     empty      |\n",
            "+----------------+----------------+----------------+----------------+----------------+\n",
            "|     empty      |     empty      |     empty      |     empty      |     empty      |\n",
            "+----------------+----------------+----------------+----------------+----------------+\n",
            "|     empty      |     empty      |     empty      |     empty      |     empty      |\n",
            "+----------------+----------------+----------------+----------------+----------------+\n",
            "|     empty      |     empty      |     empty      | ☠️ poison trap |     empty      |\n",
            "+----------------+----------------+----------------+----------------+----------------+\n",
            "|💰 treasure chest|     empty      |🍾 health potion |    🐉 dragon    |     empty      |\n",
            "+----------------+----------------+----------------+----------------+----------------+\n",
            "Cleaning up level: Dungeon\n"
          ]
        }
      ]
    },
    {
      "cell_type": "markdown",
      "source": [
        "## **Dataclasses (Additional Material)**\n",
        "\n",
        "A dataclass is a class that ...\n",
        "\n",
        "<br>\n",
        "\n",
        "**Benefits of Dataclasses:**\n",
        "\n",
        "- **sth**\n",
        "\n",
        "  - ...\n",
        "  - ...\n",
        "\n",
        "- **sth**\n",
        "\n",
        "  - ...\n",
        "  - ...\n"
      ],
      "metadata": {
        "id": "po3q3HGxI2NA"
      }
    },
    {
      "cell_type": "code",
      "source": [
        "from dataclasses import dataclass\n",
        "from datetime import datetime\n",
        "\n",
        "@dataclass\n",
        "def ZoomMeetingInfo:\n",
        "  title: str\n",
        "  start_time: datetime.Date\n",
        "\n",
        "  def __post_init__(self):\n",
        "    ..."
      ],
      "metadata": {
        "id": "3Qkw8LeGI2mk"
      },
      "execution_count": null,
      "outputs": []
    },
    {
      "cell_type": "markdown",
      "source": [
        "## **Abstract Base Classes (Additional Material)**\n",
        "\n",
        "An Abstract Base Class (ABC) is a class that serves as a blueprint for other classes and cannot be instantiated directly. It defines a common interface that derived classes must implement, enforcing a contract for class behavior.\n",
        "\n",
        "<br>\n",
        "\n",
        "**Benefits of Abstract Base Classes:**\n",
        "\n",
        "- **Interface Enforcement**\n",
        "\n",
        "  - Ensures derived classes implement required methods\n",
        "  - Provides a clear contract for class behavior\n",
        "\n",
        "- **Code Organization**\n",
        "\n",
        "  - Creates a logical hierarchy of related classes\n",
        "  - Shares common attributes and methods\n"
      ],
      "metadata": {
        "id": "fdiqe7YkBjc3"
      }
    },
    {
      "cell_type": "code",
      "source": [
        "from abc import ABC, abstractmethod\n",
        "\n",
        "class ContentItem(ABC):\n",
        "  def __init__(self, title, creator):\n",
        "    self.title = title\n",
        "    self.creator = creator\n",
        "\n",
        "  @abstractmethod\n",
        "  def get_duration(self):\n",
        "    \"\"\"Return content duration in minutes. Implement in derived class.\"\"\"\n",
        "    pass\n",
        "\n",
        "  @abstractmethod\n",
        "  def get_info(self):\n",
        "    \"\"\"Return formatted content information. Implement in derived class.\"\"\"\n",
        "    pass\n",
        "\n",
        "class Movie(ContentItem):\n",
        "  def __init__(self, title, director, duration):\n",
        "    super().__init__(title, director)\n",
        "    self.duration = duration\n",
        "\n",
        "  def get_duration(self):\n",
        "    return self.duration\n",
        "\n",
        "  def get_info(self):\n",
        "    return f\"{self.title} directed by {self.creator}\""
      ],
      "metadata": {
        "id": "t7tziB39Zw3C"
      },
      "execution_count": null,
      "outputs": []
    },
    {
      "cell_type": "markdown",
      "source": [
        "ABCs provide a formal way to define interfaces in Python. Often times, you use ABCs to enforce the type of interfaces you need and leave the actual implementation detail to the derived classes.\n"
      ],
      "metadata": {
        "id": "hoZqHrlr6zJb"
      }
    },
    {
      "cell_type": "code",
      "source": [
        "# Cannot instantiate abstract class\n",
        "content = ContentItem(\"Title\", \"Creator\")  # This would raise an error"
      ],
      "metadata": {
        "colab": {
          "base_uri": "https://localhost:8080/",
          "height": 159
        },
        "id": "0793z1y36pWN",
        "outputId": "8f93ddcd-b03c-4f94-f46f-06465113708e"
      },
      "execution_count": null,
      "outputs": [
        {
          "output_type": "error",
          "ename": "TypeError",
          "evalue": "Can't instantiate abstract class ContentItem with abstract methods get_duration, get_info",
          "traceback": [
            "\u001b[0;31m---------------------------------------------------------------------------\u001b[0m",
            "\u001b[0;31mTypeError\u001b[0m                                 Traceback (most recent call last)",
            "\u001b[0;32m<ipython-input-26-d08266343046>\u001b[0m in \u001b[0;36m<cell line: 0>\u001b[0;34m()\u001b[0m\n\u001b[1;32m      1\u001b[0m \u001b[0;31m# Cannot instantiate abstract class\u001b[0m\u001b[0;34m\u001b[0m\u001b[0;34m\u001b[0m\u001b[0m\n\u001b[0;32m----> 2\u001b[0;31m \u001b[0mcontent\u001b[0m \u001b[0;34m=\u001b[0m \u001b[0mContentItem\u001b[0m\u001b[0;34m(\u001b[0m\u001b[0;34m\"Title\"\u001b[0m\u001b[0;34m,\u001b[0m \u001b[0;34m\"Creator\"\u001b[0m\u001b[0;34m)\u001b[0m  \u001b[0;31m# This would raise an error\u001b[0m\u001b[0;34m\u001b[0m\u001b[0;34m\u001b[0m\u001b[0m\n\u001b[0m",
            "\u001b[0;31mTypeError\u001b[0m: Can't instantiate abstract class ContentItem with abstract methods get_duration, get_info"
          ]
        }
      ]
    },
    {
      "cell_type": "code",
      "source": [
        "# Can instantiate concrete implementation\n",
        "movie = Movie(\"The Matrix\", \"Wachowskis\", 136)"
      ],
      "metadata": {
        "id": "EOcLMQK56sLw"
      },
      "execution_count": null,
      "outputs": []
    },
    {
      "cell_type": "markdown",
      "source": [
        "## **Conclusion**\n",
        "\n",
        "...\n"
      ],
      "metadata": {
        "id": "75f3W_HdnUyB"
      }
    }
  ]
}