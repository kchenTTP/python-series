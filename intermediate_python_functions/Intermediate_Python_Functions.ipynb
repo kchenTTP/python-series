{
  "nbformat": 4,
  "nbformat_minor": 0,
  "metadata": {
    "colab": {
      "provenance": [],
      "toc_visible": true,
      "authorship_tag": "ABX9TyPo58n4TmnDdvnQ6am6mtf8",
      "include_colab_link": true
    },
    "kernelspec": {
      "name": "python3",
      "display_name": "Python 3"
    },
    "language_info": {
      "name": "python"
    }
  },
  "cells": [
    {
      "cell_type": "markdown",
      "metadata": {
        "id": "view-in-github",
        "colab_type": "text"
      },
      "source": [
        "<a href=\"https://colab.research.google.com/github/kchenTTP/python-series/blob/main/intermediate_python_functions/Intermediate_Python_Functions.ipynb\" target=\"_parent\"><img src=\"https://colab.research.google.com/assets/colab-badge.svg\" alt=\"Open In Colab\"/></a>"
      ]
    },
    {
      "cell_type": "markdown",
      "source": [
        "# **Intermediate Python Functions**\n",
        "\n",
        "In our fundamentals class, we learned about how to reuse code by defining functions. In this session, we'll deepen our understanding of python functions by covering some more features and best practices.\n",
        "\n",
        "\n",
        "### **Table of Contents**\n",
        "\n",
        "- [Default Parameters](#scrollTo=K3MSR-8x31WE)\n",
        "- [Variable-Length Arguments](#scrollTo=Fkz86bj94ARo)\n",
        "- [Keyword-Only Arguments](#scrollTo=wDCB-Js8bzBA)\n",
        "- [Function Scopes](#scrollTo=S5NweR1V40L9)\n",
        "- [Argument Passing](#scrollTo=4Zk7BOGEbGBj)\n"
      ],
      "metadata": {
        "id": "u77EAJpG99fN"
      }
    },
    {
      "cell_type": "markdown",
      "source": [
        "## **Default Parameters**\n",
        "\n",
        "Default parameters allow you to define functions where some arguments have predetermined values if not specified by the caller. This makes functions more flexible and easier to use. Here's what you need to know about default parameters:\n",
        "\n",
        "- Default parameters must come after non-default parameters\n",
        "- Default values are evaluated when the function is defined, not when it's called\n",
        "- Mutable default arguments (such as a list or dictionary) can cause unexpected behavior\n"
      ],
      "metadata": {
        "id": "K3MSR-8x31WE"
      }
    },
    {
      "cell_type": "code",
      "source": [
        "# Default parameter after required parameter\n",
        "\n",
        "def greet(name, greeting=\"Hello\"):\n",
        "  return f\"{greeting}, {name}!\""
      ],
      "metadata": {
        "id": "rUMQSNZH0FBE"
      },
      "execution_count": null,
      "outputs": []
    },
    {
      "cell_type": "code",
      "source": [
        "# Error: Default parameter before required parameter\n",
        "\n",
        "def bad_greet(greeting=\"Hello\", name):  # This will cause a SyntaxError\n",
        "  return f\"{greeting}, {name}!\""
      ],
      "metadata": {
        "colab": {
          "base_uri": "https://localhost:8080/",
          "height": 106
        },
        "id": "vPL5ujgw0rd-",
        "outputId": "d510f764-3ef0-4392-b9cf-4156737b03c2"
      },
      "execution_count": null,
      "outputs": [
        {
          "output_type": "error",
          "ename": "SyntaxError",
          "evalue": "non-default argument follows default argument (<ipython-input-30-708ba64091d4>, line 3)",
          "traceback": [
            "\u001b[0;36m  File \u001b[0;32m\"<ipython-input-30-708ba64091d4>\"\u001b[0;36m, line \u001b[0;32m3\u001b[0m\n\u001b[0;31m    def bad_greet(greeting=\"Hello\", name):  # This will cause a SyntaxError\u001b[0m\n\u001b[0m                                    ^\u001b[0m\n\u001b[0;31mSyntaxError\u001b[0m\u001b[0;31m:\u001b[0m non-default argument follows default argument\n"
          ]
        }
      ]
    },
    {
      "cell_type": "markdown",
      "source": [
        "💡 When using a function with default parameters, the parameters that have default values are optional. If you choose to pass an argument for these parameters, the provided value will override the default one."
      ],
      "metadata": {
        "id": "mvmIBW3y0TS0"
      }
    },
    {
      "cell_type": "code",
      "source": [
        "# Call function with default value\n",
        "print(greet(\"Alice\"))\n",
        "\n",
        "# Override default value\n",
        "print(greet(\"Bob\", \"Hi\"))\n",
        "print(greet(\"Tim\", \"G'day\"))"
      ],
      "metadata": {
        "colab": {
          "base_uri": "https://localhost:8080/"
        },
        "id": "d-gfqxr30fCg",
        "outputId": "c69be00c-c997-4d6c-b072-e34b8d30a095"
      },
      "execution_count": null,
      "outputs": [
        {
          "output_type": "stream",
          "name": "stdout",
          "text": [
            "Hello, Alice!\n",
            "Hi, Bob!\n",
            "G'day, Tim!\n"
          ]
        }
      ]
    },
    {
      "cell_type": "markdown",
      "source": [
        "### **Common Pitfall: Mutable Default Arguments**\n",
        "\n",
        "When using mutable default arguments, such as *lists* or *dictionaries*. If you modify the mutable object within the function, that change will persist across subsequent calls to the function. This can lead to unexpected behavior, as the default argument will retain its modified state instead of reverting to the initial value.\n",
        "\n",
        "> 💡 To understand why, look at the [Argument Passing](#scrollTo=4Zk7BOGEbGBj) section below.\n",
        "\n",
        "Take a look at the example below:"
      ],
      "metadata": {
        "id": "tyIIC_bz1pT7"
      }
    },
    {
      "cell_type": "code",
      "source": [
        "def duplicated_values(lst, duplicated=[], seen=[]):\n",
        "  \"\"\"Find duplicated values and keep track of all the values in a list.\"\"\"\n",
        "\n",
        "  for item in lst:\n",
        "    if item in seen:\n",
        "      duplicated.append(item)\n",
        "      continue # skip the rest of the code in the current iteration and go to the next iteration of the loop\n",
        "    seen.append(item)\n",
        "  return {\n",
        "      \"duplicated\": duplicated,\n",
        "      \"seen\": seen\n",
        "  }"
      ],
      "metadata": {
        "id": "lWedVv8118TJ"
      },
      "execution_count": null,
      "outputs": []
    },
    {
      "cell_type": "code",
      "source": [
        "# First call\n",
        "print(duplicated_values([1, 2, 3, 2]))\n",
        "\n",
        "# Second call\n",
        "print(duplicated_values([4, 4, 5, 6]))"
      ],
      "metadata": {
        "colab": {
          "base_uri": "https://localhost:8080/"
        },
        "id": "fJV2urhtCSyK",
        "outputId": "12544b06-8a66-4f20-f686-745b7df7fb2c"
      },
      "execution_count": null,
      "outputs": [
        {
          "output_type": "stream",
          "name": "stdout",
          "text": [
            "{'duplicated': [2], 'seen': [1, 2, 3]}\n",
            "{'duplicated': [2, 4], 'seen': [1, 2, 3, 4, 5, 6]}\n"
          ]
        }
      ]
    },
    {
      "cell_type": "markdown",
      "source": [
        "As you can see, in our second function call, even though we intended to create a new list with different values, the values from our first function call still appeared.\n",
        "\n",
        "This is because the mutable default argument (the list) retains any changes made to it across all calls to the function. Instead of starting fresh with each call, it continues using the modified list from previous calls.\n",
        "\n",
        "<br>\n",
        "\n",
        "To avoid this pitfall, it's recommended to use `None` as a default value and then create a new mutable object inside the function if needed."
      ],
      "metadata": {
        "id": "rnM5mhmE5CSx"
      }
    },
    {
      "cell_type": "code",
      "source": [
        "def duplicated_values_fixed(lst, duplicated = None, seen = None):\n",
        "  \"\"\"Find duplicated values and keep track of all the values in a list.\"\"\"\n",
        "\n",
        "  if duplicated is None:\n",
        "    duplicated = []\n",
        "  if seen is None:\n",
        "    seen = []\n",
        "\n",
        "  for item in lst:\n",
        "    if item in seen:\n",
        "      duplicated.append(item)\n",
        "      continue # skip the rest of the code in the current iteration and go to the next iteration of the loop\n",
        "    seen.append(item)\n",
        "  return {\n",
        "      \"duplicated\": duplicated,\n",
        "      \"seen\": seen\n",
        "  }"
      ],
      "metadata": {
        "id": "zaKelpNe5vTb"
      },
      "execution_count": null,
      "outputs": []
    },
    {
      "cell_type": "code",
      "source": [
        "# First call\n",
        "print(duplicated_values_fixed([1, 2, 3, 2]))\n",
        "\n",
        "# Second call\n",
        "print(duplicated_values_fixed([4, 4, 5, 6]))"
      ],
      "metadata": {
        "colab": {
          "base_uri": "https://localhost:8080/"
        },
        "id": "ZbON3GivCfHB",
        "outputId": "6a511bdd-a63d-43bb-a476-84836df577cf"
      },
      "execution_count": null,
      "outputs": [
        {
          "output_type": "stream",
          "name": "stdout",
          "text": [
            "{'duplicated': [2], 'seen': [1, 2, 3]}\n",
            "{'duplicated': [4], 'seen': [4, 5, 6]}\n"
          ]
        }
      ]
    },
    {
      "cell_type": "markdown",
      "source": [
        "This approach ensures that each call to `duplicated_values_fixed()` creates a new list if one isn't provided, keeping the function's behavior consistent and free from unintended side effects."
      ],
      "metadata": {
        "id": "kJiNGo616V3C"
      }
    },
    {
      "cell_type": "markdown",
      "source": [
        "### **Exercise**\n",
        "\n",
        "Create a function called `format_price()` that formats a price with optional currency and decimal places. Make sure to provide a default value for the parameters so that the function can still be used without explicitly passing them in.\n",
        "\n",
        "- Currency symbol example: $, €, ¥, £\n",
        "- Decimal places:\n",
        "  - `2`: 0.12\n",
        "  - `3`: 1.356\n"
      ],
      "metadata": {
        "id": "TYXQd3W67CGX"
      }
    },
    {
      "cell_type": "code",
      "source": [
        "# Your code Goes here\n"
      ],
      "metadata": {
        "id": "-OsZEABK7mVB"
      },
      "execution_count": null,
      "outputs": []
    },
    {
      "cell_type": "code",
      "source": [
        "# @title Solution\n",
        "\n",
        "def format_price(price, currency=\"$\", decimal_places=2):\n",
        "  return f\"{currency}{price:.{decimal_places}f}\"\n",
        "\n",
        "\n",
        "print(format_price(24.99))\n",
        "print(format_price(24.99, \"€\"))\n",
        "print(format_price(24.99, \"¥\", 0))"
      ],
      "metadata": {
        "cellView": "form",
        "id": "6d_JmYV07o1I"
      },
      "execution_count": null,
      "outputs": []
    },
    {
      "cell_type": "markdown",
      "source": [
        "## **Variable-Length Arguments**\n",
        "\n",
        "Python provides two special parameters for handling variable numbers of arguments: `*args` and `**kwargs`.\n",
        "\n",
        "- `*args`: Collects any number of **positional** arguments into a ***tuple***.\n",
        "- `**kwargs`: Collects any number of **keyword** arguments into a ***dictionary***.\n",
        "\n",
        "> ❗**IMPORTANT:** The order of argument matters:\n",
        ">\n",
        ">  `regular args` → `*args` → `default args` → `**kwargs`\n"
      ],
      "metadata": {
        "id": "Fkz86bj94ARo"
      }
    },
    {
      "cell_type": "code",
      "source": [
        "# Argument ordering\n",
        "def example_function(required, *args, default=\"default\", **kwargs):\n",
        "  print(f\"Required: {required}\")\n",
        "  print(f\"Args: {args}\")\n",
        "  print(f\"Default: {default}\")\n",
        "  print(f\"Kwargs: {kwargs}\")"
      ],
      "metadata": {
        "id": "ehZ0wd4f4Ouk"
      },
      "execution_count": null,
      "outputs": []
    },
    {
      "cell_type": "markdown",
      "source": [
        "Positional arguments must come before keyword arguments in the function call, or you'll encounter an error.\n"
      ],
      "metadata": {
        "id": "R2mp-B3rUo3X"
      }
    },
    {
      "cell_type": "code",
      "source": [
        "example_function(\"required\", 1, 2, 3, default=\"custom\", extra1=\"value1\", extra2=\"value2\")"
      ],
      "metadata": {
        "colab": {
          "base_uri": "https://localhost:8080/"
        },
        "id": "a1X_YFKtUoL2",
        "outputId": "e57450de-1608-439b-c061-85a41f015883"
      },
      "execution_count": null,
      "outputs": [
        {
          "output_type": "stream",
          "name": "stdout",
          "text": [
            "Required: required\n",
            "Args: (1, 2, 3)\n",
            "Default: custom\n",
            "Kwargs: {'extra1': 'value1', 'extra2': 'value2'}\n"
          ]
        }
      ]
    },
    {
      "cell_type": "markdown",
      "source": [
        "🚨 Typically, when you pass arguments with their parameter names, like `func(arg1=value)`, the order doesn't matter because each argument is explicitly tied to its parameter. However, if you mix positional arguments (`*args`) and keyword arguments (`**kwargs`), order becomes important.\n"
      ],
      "metadata": {
        "id": "VgqZ6hJOUXNa"
      }
    },
    {
      "cell_type": "markdown",
      "source": [
        "Inside the function, you can access `*args` using indices, as it is stored as a tuple, and you can access `**kwargs` using dictionary keys or methods like `.get()` or `.items()` since it's stored as a dictionary.\n"
      ],
      "metadata": {
        "id": "qikVbSRZGRLP"
      }
    },
    {
      "cell_type": "code",
      "source": [
        "# Accessing args and kwargs\n",
        "def example_function_2(*args, **kwargs):\n",
        "    # Accessing args\n",
        "    print(args[0])  # Access the first positional argument\n",
        "\n",
        "    # Accessing kwargs\n",
        "    print(kwargs.get('name'))  # Access the 'name' keyword argument if it exists\n",
        "    print(kwargs.items())  # Get all key-value pairs as a list of tuples\n",
        "\n",
        "    if 'age' in kwargs:\n",
        "        print(kwargs['age'])  # Access the 'age' keyword argument if it exists"
      ],
      "metadata": {
        "id": "bzUiU1__GCcA"
      },
      "execution_count": null,
      "outputs": []
    },
    {
      "cell_type": "code",
      "source": [
        "example_function_2(1, 2, 3, name=\"Alice\", age=25)"
      ],
      "metadata": {
        "colab": {
          "base_uri": "https://localhost:8080/"
        },
        "id": "EqMFjiZ0YNRB",
        "outputId": "ef0384b9-558a-4cd5-a5a0-3c9c1b183a12"
      },
      "execution_count": null,
      "outputs": [
        {
          "output_type": "stream",
          "name": "stdout",
          "text": [
            "1\n",
            "Alice\n",
            "dict_items([('name', 'Alice'), ('age', 25)])\n",
            "25\n"
          ]
        }
      ]
    },
    {
      "cell_type": "markdown",
      "source": [
        "Arguments can also be passed into a funciton in a list (if `*args`) or a dictionary (if `**kwargs`) while being **unpacked** like this:\n"
      ],
      "metadata": {
        "id": "4WYHjVBAVOeG"
      }
    },
    {
      "cell_type": "code",
      "source": [
        "arg_list = [\"apple\", \"banana\", \"kiwi\"]\n",
        "kwarg_dict = {\"name\": \"Alice\", \"age\": 25}\n",
        "\n",
        "example_function_2(*arg_list, **kwarg_dict)"
      ],
      "metadata": {
        "colab": {
          "base_uri": "https://localhost:8080/"
        },
        "id": "cwHMqEQ2VkAw",
        "outputId": "a81db156-bd6b-45f8-83e4-7599ceda162b"
      },
      "execution_count": null,
      "outputs": [
        {
          "output_type": "stream",
          "name": "stdout",
          "text": [
            "apple\n",
            "Alice\n",
            "dict_items([('name', 'Alice'), ('age', 25)])\n",
            "25\n"
          ]
        }
      ]
    },
    {
      "cell_type": "markdown",
      "source": [
        "- `*arg_list` when passing a list as argument is called list unpacking\n",
        "- `**kwarg_dict` when passing a dictionary as argument is called dictionary unpacking\n"
      ],
      "metadata": {
        "id": "iHogz28pVvJq"
      }
    },
    {
      "cell_type": "markdown",
      "source": [
        "> 📒 **NOTE:** The convention is to use `args` and `kwargs`, but any valid variable name works\n"
      ],
      "metadata": {
        "id": "ONUgGezTFtLf"
      }
    },
    {
      "cell_type": "code",
      "source": [
        "def sum(*numbers):\n",
        "  total = 0\n",
        "  for num in numbers:\n",
        "    total += num\n",
        "  return total\n",
        "\n",
        "print(sum(1, 2, 3))\n",
        "print(sum(4, 5, 6, 7))"
      ],
      "metadata": {
        "colab": {
          "base_uri": "https://localhost:8080/"
        },
        "id": "PyYCUxa1FbxH",
        "outputId": "5f1b94c5-b5c4-433f-ad9d-c0a85be185a6"
      },
      "execution_count": null,
      "outputs": [
        {
          "output_type": "stream",
          "name": "stdout",
          "text": [
            "6\n",
            "22\n"
          ]
        }
      ]
    },
    {
      "cell_type": "markdown",
      "source": [
        "### **Exercise: Generate API Endpoints**\n",
        "\n",
        "Many APIs allow you to pass multiple parameters to customize requests.\n",
        "\n",
        "Let's write a function that takes:\n",
        "1. a base API endpoint as argument\n",
        "2. your API key as argument\n",
        "3. a variable number of API parameters as keyword arguments\n",
        "\n",
        "This function will then generate a complete API URL with the parameters included.\n",
        "\n",
        "> Hint: Use `?` after the base API endpoint before passing in the parameters and use `&` for multiple API parameters\n",
        ">\n",
        "> Example: `https://www.google.com/search?q=apple&sourceid=chrome&ie=UTF-8`\n",
        "\n"
      ],
      "metadata": {
        "id": "9exNnxHXD16V"
      }
    },
    {
      "cell_type": "code",
      "source": [
        "example_endpoint = \"https://example.com/api\"\n",
        "api_key = \"my_api_key_123\"\n",
        "params = {\"format\": \"json\", \"limit\": 10}"
      ],
      "metadata": {
        "id": "-RdklVkPEsOM"
      },
      "execution_count": null,
      "outputs": []
    },
    {
      "cell_type": "code",
      "source": [
        "# Your code goes here\n"
      ],
      "metadata": {
        "id": "HaWFYCyREyMN"
      },
      "execution_count": null,
      "outputs": []
    },
    {
      "cell_type": "code",
      "source": [
        "# @title Solution\n",
        "\n",
        "def generate_api_endpoint(base_url, api_key, **params):\n",
        "  url = f\"{base_url}?api_key={api_key}\"\n",
        "  for key, value in params.items():\n",
        "    url += f\"&{key}={value}\"\n",
        "  return url\n",
        "\n",
        "# Test solution\n",
        "url = generate_api_endpoint(example_endpoint, api_key, format=\"json\", limit=10)\n",
        "print(url)\n",
        "url = generate_api_endpoint(example_endpoint, api_key, **params)\n",
        "print(url)"
      ],
      "metadata": {
        "cellView": "form",
        "id": "dw50gXyzE2p7"
      },
      "execution_count": null,
      "outputs": []
    },
    {
      "cell_type": "markdown",
      "source": [
        "## **Keyword-Only Arguments**\n",
        "\n",
        "You can use `*` to enforce that any parameter defined after `*` must be passed as a keyword argument.\n",
        "\n",
        "This means you must specify the parameter name when passing arguments to these parameters; otherwise, you'll get an error.\n",
        "\n",
        "> 📒 **Note**: This approach is especially useful for improving code readability and preventing accidental errors in function calls.\n"
      ],
      "metadata": {
        "id": "wDCB-Js8bzBA"
      }
    },
    {
      "cell_type": "code",
      "source": [
        "def greet_modified(name, *, greeting=\"Hello\"):\n",
        "  return f\"{greeting}, {name}!\"\n",
        "\n",
        "print(greet_modified(\"Alice\"))\n",
        "print(greet_modified(\"Bob\", greeting=\"Hi\"))"
      ],
      "metadata": {
        "colab": {
          "base_uri": "https://localhost:8080/"
        },
        "outputId": "68b24b54-3882-4073-a7a5-3a57f6e7a9b8",
        "id": "SzKsMfS9bzBB"
      },
      "execution_count": null,
      "outputs": [
        {
          "output_type": "stream",
          "name": "stdout",
          "text": [
            "Hello, Alice!\n",
            "Hi, Bob!\n"
          ]
        }
      ]
    },
    {
      "cell_type": "code",
      "source": [
        "# Not allowed: Didn't provide parameter name to keyword-only argument\n",
        "print(greet_modified(\"Tom\", \"Morning\"))"
      ],
      "metadata": {
        "colab": {
          "base_uri": "https://localhost:8080/",
          "height": 159
        },
        "outputId": "e97c03eb-82be-4085-9cb2-6cfa3ca5eaeb",
        "id": "Sa2zJGPbbzBC"
      },
      "execution_count": null,
      "outputs": [
        {
          "output_type": "error",
          "ename": "TypeError",
          "evalue": "greet_modified() takes 1 positional argument but 2 were given",
          "traceback": [
            "\u001b[0;31m---------------------------------------------------------------------------\u001b[0m",
            "\u001b[0;31mTypeError\u001b[0m                                 Traceback (most recent call last)",
            "\u001b[0;32m<ipython-input-15-102f0f6db3e7>\u001b[0m in \u001b[0;36m<cell line: 0>\u001b[0;34m()\u001b[0m\n\u001b[1;32m      1\u001b[0m \u001b[0;31m# Not allowed: Didn't provide parameter name to keyword-only argument\u001b[0m\u001b[0;34m\u001b[0m\u001b[0;34m\u001b[0m\u001b[0m\n\u001b[0;32m----> 2\u001b[0;31m \u001b[0mprint\u001b[0m\u001b[0;34m(\u001b[0m\u001b[0mgreet_modified\u001b[0m\u001b[0;34m(\u001b[0m\u001b[0;34m\"Tom\"\u001b[0m\u001b[0;34m,\u001b[0m \u001b[0;34m\"Morning\"\u001b[0m\u001b[0;34m)\u001b[0m\u001b[0;34m)\u001b[0m\u001b[0;34m\u001b[0m\u001b[0;34m\u001b[0m\u001b[0m\n\u001b[0m",
            "\u001b[0;31mTypeError\u001b[0m: greet_modified() takes 1 positional argument but 2 were given"
          ]
        }
      ]
    },
    {
      "cell_type": "code",
      "source": [
        "# Not allowed: Arguments in incorrect order\n",
        "print(greet_modified(name=\"Tom\", \"Morning\"))"
      ],
      "metadata": {
        "colab": {
          "base_uri": "https://localhost:8080/",
          "height": 106
        },
        "outputId": "e8d29c61-bfcf-4607-ac9f-dfa7f75ce763",
        "id": "Sd5A2IGtbzBC"
      },
      "execution_count": null,
      "outputs": [
        {
          "output_type": "error",
          "ename": "SyntaxError",
          "evalue": "positional argument follows keyword argument (<ipython-input-16-19dfc297c491>, line 2)",
          "traceback": [
            "\u001b[0;36m  File \u001b[0;32m\"<ipython-input-16-19dfc297c491>\"\u001b[0;36m, line \u001b[0;32m2\u001b[0m\n\u001b[0;31m    print(greet_modified(name=\"Tom\", \"Morning\"))\u001b[0m\n\u001b[0m                                              ^\u001b[0m\n\u001b[0;31mSyntaxError\u001b[0m\u001b[0;31m:\u001b[0m positional argument follows keyword argument\n"
          ]
        }
      ]
    },
    {
      "cell_type": "markdown",
      "source": [
        "## **Function Scopes**\n",
        "\n",
        "Function scopes define the accessibility and ***lifespan of variables*** within different parts of a program. Understanding scopes help prevent variable conflicts and ensures that functions work as intended by controlling where and how variables can be accessed. Here's what you need to know:\n",
        "\n",
        "- **Local Scope**: Variables defined within a function are local to that function and can't be accessed outside of it.\n",
        "- **Global Scope**: Variables defined outside any function are in the global scope and can be accessed from anywhere in the program, including inside functions (unless there's a variable inside the function that shares the same name).\n",
        "- **Nonlocal Scope**: Variables in a nested (enclosing) function can be accessed and modified in an inner function using the nonlocal keyword.\n",
        "\n",
        "> 📒 **The LEGB Rule**: Python follows the Local, Enclosing, Global, Built-in (LEGB) rule to determine the order of scope resolution.\n"
      ],
      "metadata": {
        "id": "S5NweR1V40L9"
      }
    },
    {
      "cell_type": "markdown",
      "source": [
        "### **Local Scope**\n",
        "\n",
        "Variables defined within a function are only accessible within that function. They cannot be accessed from outside unless explicitly returned.\n"
      ],
      "metadata": {
        "id": "M_uoFGL3Li90"
      }
    },
    {
      "cell_type": "code",
      "source": [
        "# Accessing local variable outside of function\n",
        "def foo():\n",
        "  # local variable\n",
        "  x = 50\n",
        "  print(f\"Local: {x = }\")\n",
        "\n",
        "foo()\n",
        "print(f\"Global: {x = }\")"
      ],
      "metadata": {
        "colab": {
          "base_uri": "https://localhost:8080/",
          "height": 193
        },
        "id": "zuroAM9OLKr4",
        "outputId": "302ed2d0-bffb-416f-f526-3058adb5932b"
      },
      "execution_count": null,
      "outputs": [
        {
          "output_type": "stream",
          "name": "stdout",
          "text": [
            "Local: x = 50\n"
          ]
        },
        {
          "output_type": "error",
          "ename": "NameError",
          "evalue": "name 'x' is not defined",
          "traceback": [
            "\u001b[0;31m---------------------------------------------------------------------------\u001b[0m",
            "\u001b[0;31mNameError\u001b[0m                                 Traceback (most recent call last)",
            "\u001b[0;32m<ipython-input-12-21a3af6a48e4>\u001b[0m in \u001b[0;36m<cell line: 0>\u001b[0;34m()\u001b[0m\n\u001b[1;32m      6\u001b[0m \u001b[0;34m\u001b[0m\u001b[0m\n\u001b[1;32m      7\u001b[0m \u001b[0mfoo\u001b[0m\u001b[0;34m(\u001b[0m\u001b[0;34m)\u001b[0m\u001b[0;34m\u001b[0m\u001b[0;34m\u001b[0m\u001b[0m\n\u001b[0;32m----> 8\u001b[0;31m \u001b[0mprint\u001b[0m\u001b[0;34m(\u001b[0m\u001b[0;34mf\"Global: {x = }\"\u001b[0m\u001b[0;34m)\u001b[0m\u001b[0;34m\u001b[0m\u001b[0;34m\u001b[0m\u001b[0m\n\u001b[0m",
            "\u001b[0;31mNameError\u001b[0m: name 'x' is not defined"
          ]
        }
      ]
    },
    {
      "cell_type": "markdown",
      "source": [
        "As you can see you'll get a `NameError` because Python cannot access the local variable `x`.\n",
        "\n",
        "> 💡 In order to access the variables within a function outside the function itself, you need to explicitly return it to the outside.\n"
      ],
      "metadata": {
        "id": "xhLTU8pRQe1B"
      }
    },
    {
      "cell_type": "code",
      "source": [
        "# Return local variable outside the function\n",
        "def bar():\n",
        "  y = 300\n",
        "  return y\n",
        "\n",
        "result = bar()\n",
        "print(f\"Global: {result = }\")"
      ],
      "metadata": {
        "colab": {
          "base_uri": "https://localhost:8080/"
        },
        "id": "10dZcdrHO6Rw",
        "outputId": "1657bcf3-5e02-40d9-d38e-eb3a4d872cda"
      },
      "execution_count": null,
      "outputs": [
        {
          "output_type": "stream",
          "name": "stdout",
          "text": [
            "Global: result = 300\n"
          ]
        }
      ]
    },
    {
      "cell_type": "markdown",
      "source": [
        "### **Global Scope**\n",
        "\n",
        "Variables defined outside any function are in the `global` scope and can be accessed from anywhere in the program.\n"
      ],
      "metadata": {
        "id": "0iVm908RQFNx"
      }
    },
    {
      "cell_type": "code",
      "source": [
        "# Accessing global variables within a function\n",
        "z = 200\n",
        "\n",
        "def baz():\n",
        "  print(f\"Global: {z = }\")\n",
        "\n",
        "baz()"
      ],
      "metadata": {
        "colab": {
          "base_uri": "https://localhost:8080/"
        },
        "id": "DP97yYDNOaV-",
        "outputId": "dda8905c-9f03-4df4-b8c7-791c2b7545b9"
      },
      "execution_count": null,
      "outputs": [
        {
          "output_type": "stream",
          "name": "stdout",
          "text": [
            "Global: z = 200\n"
          ]
        }
      ]
    },
    {
      "cell_type": "markdown",
      "source": [
        "> 🚨 You are, however, not allowed to reassign global variables within a function. Doing so will result in a new local variable with the same name being created."
      ],
      "metadata": {
        "id": "lmWMpLlgSwMt"
      }
    },
    {
      "cell_type": "code",
      "source": [
        "# Reassigning global variables within a function\n",
        "w = \"Hello\"\n",
        "\n",
        "def qux():\n",
        "  # Attempting to reassing new value\n",
        "  w = \"World\"\n",
        "  print(f\"Local: {w = }\")\n",
        "\n",
        "qux()\n",
        "print(f\"Global: {w = }\")"
      ],
      "metadata": {
        "colab": {
          "base_uri": "https://localhost:8080/"
        },
        "id": "PUrSImRYSsy5",
        "outputId": "e7ec8f70-33d7-4155-8c65-09419eb7288b"
      },
      "execution_count": null,
      "outputs": [
        {
          "output_type": "stream",
          "name": "stdout",
          "text": [
            "Local: w = 'World'\n",
            "Global: w = 'Hello'\n"
          ]
        }
      ]
    },
    {
      "cell_type": "markdown",
      "source": [
        "As you can see, we get two different values for `w`. This happens because one value is from the global variable, while the other is from within the function's local scope.\n",
        "\n",
        "If you need to modify a global variable inside a function, it's generally recommended to either:\n",
        "\n",
        "1. Pass the variable as an argument, modify it within the function, and then return the updated value.\n",
        "2. Use the `global` keyword to explicitly declare that you're modifying the global variable.\n"
      ],
      "metadata": {
        "id": "k-PjYjYlNcxs"
      }
    },
    {
      "cell_type": "code",
      "source": [
        "g = 100\n",
        "\n",
        "# Passing global variable as argument\n",
        "def quux(g):\n",
        "  g = 50\n",
        "  print(f\"Local: {g = }\")\n",
        "  return g\n",
        "\n",
        "# Reassigning new value to variable\n",
        "g = quux(g)\n",
        "print(f\"Global: {g = }\")"
      ],
      "metadata": {
        "colab": {
          "base_uri": "https://localhost:8080/"
        },
        "id": "ZR7n-yolN0LU",
        "outputId": "19ddd306-96ca-42ef-c219-c5bc6e2f3775"
      },
      "execution_count": null,
      "outputs": [
        {
          "output_type": "stream",
          "name": "stdout",
          "text": [
            "Local: g = 50\n",
            "Global: g = 50\n"
          ]
        }
      ]
    },
    {
      "cell_type": "code",
      "source": [
        "# Using the global keyword\n",
        "h = 100\n",
        "\n",
        "def quuz():\n",
        "  # Specify we're using the global variable and not defining a local one\n",
        "  global h\n",
        "  h = 50\n",
        "  print(f\"Local: {h = }\")\n",
        "\n",
        "quuz()\n",
        "print(f\"Global: {h = }\")"
      ],
      "metadata": {
        "colab": {
          "base_uri": "https://localhost:8080/"
        },
        "id": "-11FZ5tpV9Ti",
        "outputId": "21735b30-e224-455f-efaf-a44e1f00907b"
      },
      "execution_count": null,
      "outputs": [
        {
          "output_type": "stream",
          "name": "stdout",
          "text": [
            "Local: h = 50\n",
            "Global: h = 50\n"
          ]
        }
      ]
    },
    {
      "cell_type": "markdown",
      "source": [
        "### **Nonlocal (Enclosing) Scope**\n",
        "\n",
        "Nonlocal, or enclosing scope, refers to variables defined in a parent function that can be accessed and modified within a nested (inner) function. The `nonlocal` keyword allows you to work with these variables, enabling the inner function to modify the state of variables in its enclosing function.\n",
        "\n",
        "- **Nested Functions**: functions defined inside other functions.\n",
        "- **The `nonlocal` Keyword**: This keyword allows an inner function to modify a variable from the outer (enclosing) function's scope, rather than creating a new local variable.\n",
        "  \n",
        "> 🚨 Using nonlocal scope can be useful for managing state across nested functions without relying on global variables, but should be used thoughtfully to keep the code easy to follow.\n"
      ],
      "metadata": {
        "id": "hy-X4-66Wa0a"
      }
    },
    {
      "cell_type": "code",
      "source": [
        "# Nested functions\n",
        "def outer():\n",
        "  k = \"outer\"\n",
        "  def inner():\n",
        "    k = \"inner\"\n",
        "    print(f\"Inner function: {k = }\")\n",
        "\n",
        "  inner()\n",
        "  print(f\"Outer function: {k = }\")\n",
        "\n",
        "outer()"
      ],
      "metadata": {
        "colab": {
          "base_uri": "https://localhost:8080/"
        },
        "id": "C2mzZikdX_YZ",
        "outputId": "15b65004-a07f-4f72-ec40-89b2886bcde4"
      },
      "execution_count": null,
      "outputs": [
        {
          "output_type": "stream",
          "name": "stdout",
          "text": [
            "Inner function: k = 'inner'\n",
            "Outer function: k = 'outer'\n"
          ]
        }
      ]
    },
    {
      "cell_type": "code",
      "source": [
        "# Using the nonlocal keyword\n",
        "def outer2():\n",
        "  l = \"outer\"\n",
        "  def inner():\n",
        "    # Specify we're using the variable from the outer function and not defining a local one\n",
        "    nonlocal l\n",
        "    l = \"changed by inner\"\n",
        "    print(f\"Inner function: {l = }\")\n",
        "\n",
        "  inner()\n",
        "  print(f\"Outer function: {l = }\")\n",
        "\n",
        "outer2()"
      ],
      "metadata": {
        "colab": {
          "base_uri": "https://localhost:8080/"
        },
        "id": "ngNl4KUtahth",
        "outputId": "6aedd439-e37d-4441-9329-b17891fdb053"
      },
      "execution_count": null,
      "outputs": [
        {
          "output_type": "stream",
          "name": "stdout",
          "text": [
            "Inner function: l = 'changed by inner'\n",
            "Outer function: l = 'changed by inner'\n"
          ]
        }
      ]
    },
    {
      "cell_type": "markdown",
      "source": [
        "## **Argument Passing in Python**\n",
        "\n",
        "Python passes arguments to functions **by object reference** (often called \"pass-by-assignment\"). This means that:\n",
        "\n",
        "- `Pass by Value`: For **immutable types** (e.g., integers, strings, tuples), the function receives *a copy* of the reference, and the original object remains *unchanged* if modified inside the function.\n",
        "- `Pass by Reference`: For **mutable types** (e.g., lists, dictionaries), the function receives a reference to the same object, so any in-place modifications affect the original object outside the function.\n"
      ],
      "metadata": {
        "id": "4Zk7BOGEbGBj"
      }
    },
    {
      "cell_type": "code",
      "source": [
        "def modify_value(value):\n",
        "    # Local scope for modify_value\n",
        "    value += 5  # This modifies only the local copy for immutables\n",
        "    return value\n",
        "\n",
        "# Immutable argument passing\n",
        "num = 20\n",
        "print(f\"Before modify_value: {num = }\")\n",
        "num_2 = modify_value(num)\n",
        "print(f\"After modify_value: {num = }\")"
      ],
      "metadata": {
        "colab": {
          "base_uri": "https://localhost:8080/"
        },
        "id": "62dOADYhdWgr",
        "outputId": "4b9a3993-37eb-4fcf-ff2a-65bcc3c17111"
      },
      "execution_count": null,
      "outputs": [
        {
          "output_type": "stream",
          "name": "stdout",
          "text": [
            "Before modify_value: num = 20\n",
            "After modify_value: num = 20\n"
          ]
        }
      ]
    },
    {
      "cell_type": "markdown",
      "source": [
        "💡 You can see in the example below, the function is modifying the same list, even though it looks like we are passing the list of `[1, 2, 3]` in every time we call the function.\n"
      ],
      "metadata": {
        "id": "oc3rYkW4bp4G"
      }
    },
    {
      "cell_type": "code",
      "source": [
        "def modify_list(my_list):\n",
        "    # Local scope for modify_list\n",
        "    my_list.append(4)  # This modifies the original list (a mutable object)\n",
        "\n",
        "# Mutable argument passing\n",
        "numbers = [1, 2, 3]\n",
        "print(f\"Before modify_list: {numbers = }\")\n",
        "modify_list(numbers)\n",
        "print(f\"After modify_list: {numbers = }\")"
      ],
      "metadata": {
        "colab": {
          "base_uri": "https://localhost:8080/"
        },
        "id": "jdqc9_bXeCSr",
        "outputId": "1b75b5f8-c9e6-4ef7-bdf1-5f9bb01c5409"
      },
      "execution_count": null,
      "outputs": [
        {
          "output_type": "stream",
          "name": "stdout",
          "text": [
            "Before modify_list: numbers = [1, 2, 3]\n",
            "After modify_list: numbers = [1, 2, 3, 4]\n"
          ]
        }
      ]
    },
    {
      "cell_type": "markdown",
      "source": [
        "## **Conclusion**\n",
        "\n",
        "That's all for our intermediate Python functions class! If you want to dive deeper into the topics we covered, check out these resources:\n",
        "\n",
        "### **Additional Online Resources**\n",
        "\n",
        "- **[Python's Official Documentation on Functions](https://docs.python.org/3/tutorial/controlflow.html#defining-functions)**\n",
        "- **[W3Schools - Python Functions](https://www.w3schools.com/python/python_functions.asp)**\n",
        "- **[Real Python - Python Functions Tutorial](https://realpython.com/defining-your-own-python-function/)**\n",
        "- **[GeeksforGeeks - Python Functions](https://www.geeksforgeeks.org/python-functions/)**\n",
        "\n",
        "<br>\n",
        "\n",
        "If you're craving to learn even more about Python functions, join our advanced functions class! We'll dive into **lambda functions, decorators, recursion,** and more. Looking forward to seeing you there! 🚀\n"
      ],
      "metadata": {
        "id": "Oa2uBnEplyM2"
      }
    }
  ]
}