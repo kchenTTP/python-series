{
  "nbformat": 4,
  "nbformat_minor": 0,
  "metadata": {
    "colab": {
      "provenance": [],
      "toc_visible": true,
      "collapsed_sections": [
        "KNJQ7xbdZwCn"
      ],
      "authorship_tag": "ABX9TyPZFubEVxtoGZ1RN2R0yBbh",
      "include_colab_link": true
    },
    "kernelspec": {
      "name": "python3",
      "display_name": "Python 3"
    },
    "language_info": {
      "name": "python"
    }
  },
  "cells": [
    {
      "cell_type": "markdown",
      "metadata": {
        "id": "view-in-github",
        "colab_type": "text"
      },
      "source": [
        "<a href=\"https://colab.research.google.com/github/kchenTTP/python-series/blob/main/intermediate_python_functions/Intermediate_Python_Functions.ipynb\" target=\"_parent\"><img src=\"https://colab.research.google.com/assets/colab-badge.svg\" alt=\"Open In Colab\"/></a>"
      ]
    },
    {
      "cell_type": "markdown",
      "source": [
        "# **Intermediate Python Functions**\n",
        "\n",
        "In our fundamentals class, we explored how to reuse code by defining functions. Now, let's dive deeper into how we can enhance our functions for more complex tasks. This is the first of two classes that will focus on intermediate to advanced function concepts.\n",
        "\n",
        "**Table of Contents**\n",
        "\n",
        "- [Default Parameters](#scrollTo=K3MSR-8x31WE)\n",
        "- [Variable-Length Arguments](#scrollTo=Fkz86bj94ARo)\n",
        "- [Type Hints & Function Documentation](#scrollTo=nQ18LxcjJH90)\n",
        "  - [Type Hints](#scrollTo=87tpeu6uiwir)\n",
        "  - [Docstrings](#scrollTo=vVNXZ9nwYeFc)\n",
        "- [Functional Programming Concepts](#scrollTo=0GiASWE7xRbs)\n",
        "  - [Lambda Functions](#scrollTo=-F-K0eG5xRLz)\n",
        "  - [Higher-Order Functions](#scrollTo=XR0znysK2u90)\n",
        "\n",
        "These topics will not only help you write cleaner, more efficient code but also make your functions more powerful and adaptable in a variety of programming scenarios. Let's get started!\n",
        "\n"
      ],
      "metadata": {
        "id": "u77EAJpG99fN"
      }
    },
    {
      "cell_type": "markdown",
      "source": [
        "## **Default Parameters**\n",
        "\n",
        "Default parameters allow you to define functions where some arguments have predetermined values if not specified by the caller. This makes functions more flexible and easier to use while maintaining backward compatibility.\n",
        "\n",
        "**Key Concepts**\n",
        "\n",
        "- Default parameters must come after non-default parameters\n",
        "- Default values are evaluated when the function is defined, not when it's called\n",
        "- Mutable default arguments can cause unexpected behavior\n"
      ],
      "metadata": {
        "id": "K3MSR-8x31WE"
      }
    },
    {
      "cell_type": "code",
      "source": [
        "# Default parameter after required parameter\n",
        "def greet(name, greeting=\"Hello\"):\n",
        "  return f\"{greeting}, {name}!\""
      ],
      "metadata": {
        "id": "rUMQSNZH0FBE"
      },
      "execution_count": null,
      "outputs": []
    },
    {
      "cell_type": "code",
      "source": [
        "# BAD: Default parameter before required parameter\n",
        "def bad_greet(greeting=\"Hello\", name):  # This will cause a SyntaxError\n",
        "  return f\"{greeting}, {name}!\""
      ],
      "metadata": {
        "colab": {
          "base_uri": "https://localhost:8080/",
          "height": 106
        },
        "id": "vPL5ujgw0rd-",
        "outputId": "07968d21-ae1b-4a87-95ae-512761e720d0"
      },
      "execution_count": null,
      "outputs": [
        {
          "output_type": "error",
          "ename": "SyntaxError",
          "evalue": "non-default argument follows default argument (<ipython-input-4-0fefceb40d24>, line 2)",
          "traceback": [
            "\u001b[0;36m  File \u001b[0;32m\"<ipython-input-4-0fefceb40d24>\"\u001b[0;36m, line \u001b[0;32m2\u001b[0m\n\u001b[0;31m    def bad_greet(greeting=\"Hello\", name):  # This will cause a SyntaxError\u001b[0m\n\u001b[0m                                    ^\u001b[0m\n\u001b[0;31mSyntaxError\u001b[0m\u001b[0;31m:\u001b[0m non-default argument follows default argument\n"
          ]
        }
      ]
    },
    {
      "cell_type": "markdown",
      "source": [
        "💡 When using a function with default parameters, the parameters that have default values are optional. If you choose to pass an argument for these parameters, the provided value will override the default one."
      ],
      "metadata": {
        "id": "mvmIBW3y0TS0"
      }
    },
    {
      "cell_type": "code",
      "source": [
        "# Call function with default value\n",
        "print(greet(\"Alice\"))\n",
        "\n",
        "# Override default value\n",
        "print(greet(\"Bob\", \"Hi\"))\n",
        "print(greet(\"Tim\", \"G'day\"))"
      ],
      "metadata": {
        "colab": {
          "base_uri": "https://localhost:8080/"
        },
        "id": "d-gfqxr30fCg",
        "outputId": "9384bcc1-16bf-4266-c86b-19fa51884cd0"
      },
      "execution_count": null,
      "outputs": [
        {
          "output_type": "stream",
          "name": "stdout",
          "text": [
            "Hello, Alice!\n",
            "Hi, Bob!\n",
            "G'day, Tim!\n"
          ]
        }
      ]
    },
    {
      "cell_type": "markdown",
      "source": [
        "### **Common Pitfall: Mutable Default Arguments**\n",
        "\n",
        "When using mutable default arguments, such as lists or dictionaries. If you modify the mutable object within the function, that change will persist across subsequent calls to the function. This can lead to unexpected behavior, as the default argument will retain its modified state instead of reverting to the initial value.\n",
        "\n",
        "Take a look at the below example:"
      ],
      "metadata": {
        "id": "tyIIC_bz1pT7"
      }
    },
    {
      "cell_type": "code",
      "source": [
        "def duplicated_values(lst, duplicated=[], seen=[]):\n",
        "  for item in lst:\n",
        "    if item in seen:\n",
        "      duplicated.append(item)\n",
        "      continue\n",
        "    seen.append(item)\n",
        "  return {\n",
        "      \"duplicated\": duplicated,\n",
        "      \"seen\": seen\n",
        "  }\n",
        "\n",
        "# First call\n",
        "print(duplicated_values([1, 2, 3, 2]))\n",
        "# Second call\n",
        "print(duplicated_values([4, 4, 5, 6]))"
      ],
      "metadata": {
        "colab": {
          "base_uri": "https://localhost:8080/"
        },
        "id": "lWedVv8118TJ",
        "outputId": "b2f98534-6b1c-4f52-f27f-2ef1cb83bf74"
      },
      "execution_count": null,
      "outputs": [
        {
          "output_type": "stream",
          "name": "stdout",
          "text": [
            "{'duplicated': [2], 'seen': [1, 2, 3]}\n",
            "{'duplicated': [2, 4], 'seen': [1, 2, 3, 4, 5, 6]}\n"
          ]
        }
      ]
    },
    {
      "cell_type": "markdown",
      "source": [
        "As you can see, in our second function call, even though we intended to create a new list with different values, the values from our first function call still appeared.\n",
        "\n",
        "This is because the mutable default argument (the list) retains any changes made to it across all calls to the function. Instead of starting fresh with each call, it continues using the modified list from previous calls.\n",
        "\n",
        "<br>\n",
        "\n",
        "To avoid this pitfall, it's recommended to use `None` as a default value and then create a new mutable object inside the function if needed."
      ],
      "metadata": {
        "id": "rnM5mhmE5CSx"
      }
    },
    {
      "cell_type": "code",
      "source": [
        "def duplicated_values_fixed(lst, duplicated = None, seen = None):\n",
        "  if duplicated is None:\n",
        "    duplicated = []\n",
        "  if seen is None:\n",
        "    seen = []\n",
        "\n",
        "  for item in lst:\n",
        "    if item in seen:\n",
        "      duplicated.append(item)\n",
        "      continue\n",
        "    seen.append(item)\n",
        "  return {\n",
        "      \"duplicated\": duplicated,\n",
        "      \"seen\": seen\n",
        "  }\n",
        "\n",
        "# First call\n",
        "print(duplicated_values_fixed([1, 2, 3, 2]))\n",
        "# Second call\n",
        "print(duplicated_values_fixed([4, 4, 5, 6]))"
      ],
      "metadata": {
        "colab": {
          "base_uri": "https://localhost:8080/"
        },
        "id": "zaKelpNe5vTb",
        "outputId": "7cf22d33-836a-4e72-8b17-c2f6323eb020"
      },
      "execution_count": null,
      "outputs": [
        {
          "output_type": "stream",
          "name": "stdout",
          "text": [
            "{'duplicated': [2], 'seen': [1, 2, 3]}\n",
            "{'duplicated': [4], 'seen': [4, 5, 6]}\n"
          ]
        }
      ]
    },
    {
      "cell_type": "markdown",
      "source": [
        "This approach ensures that each call to `duplicated_values_fixed()` creates a new list if one isn't provided, keeping the function's behavior consistent and free from unintended side effects."
      ],
      "metadata": {
        "id": "kJiNGo616V3C"
      }
    },
    {
      "cell_type": "markdown",
      "source": [
        "### **Exercise**\n",
        "\n",
        "Create a function that formats a price with optional currency and decimal places.\n",
        "\n",
        "> Currency symbol example: $, €, ¥, £\n"
      ],
      "metadata": {
        "id": "TYXQd3W67CGX"
      }
    },
    {
      "cell_type": "code",
      "source": [
        "# Your code Goes here\n"
      ],
      "metadata": {
        "id": "-OsZEABK7mVB"
      },
      "execution_count": null,
      "outputs": []
    },
    {
      "cell_type": "code",
      "source": [
        "# @title Solution\n",
        "\n",
        "def format_price(price, currency=\"$\", decimal_places=2):\n",
        "  return f\"{currency}{price:.{decimal_places}f}\"\n",
        "\n",
        "\n",
        "print(format_price(24.99))\n",
        "print(format_price(24.99, \"€\"))\n",
        "print(format_price(24.99, \"¥\", 0))"
      ],
      "metadata": {
        "cellView": "form",
        "id": "6d_JmYV07o1I"
      },
      "execution_count": null,
      "outputs": []
    },
    {
      "cell_type": "markdown",
      "source": [
        "## **Variable-Length Arguments**\n",
        "\n",
        "Python provides two special parameters for handling variable numbers of arguments:\n",
        "\n",
        "- `*args`: Collects additional positional arguments into a ***tuple***\n",
        "- `**kwargs`: Collects additional keyword arguments into a ***dictionary***\n",
        "\n",
        "**Key Concepts**\n",
        "\n",
        "- `*args` allows passing any number of positional arguments\n",
        "- `**kwargs` allows passing any number of keyword arguments\n",
        "- Convention is to use `args` and `kwargs`, but any valid variable name works\n",
        "- The order or argument matters:\n",
        "\n",
        "  > `regular args` → `*args` → `default args` → `**kwargs`\n",
        "\n",
        "\n",
        "> 🚨 Typically, when you pass arguments with their parameter names, like `func(arg1=value)`, the order doesn't matter because each argument is explicitly tied to its parameter. However, if you mix positional arguments (`*args`) and keyword arguments (`**kwargs`), order becomes important.\n",
        ">\n",
        "> Positional arguments must come before keyword arguments in the function call, or you'll encounter an error.\n"
      ],
      "metadata": {
        "id": "Fkz86bj94ARo"
      }
    },
    {
      "cell_type": "code",
      "source": [
        "# Argument ordering\n",
        "def example_function(required, *args, default=\"default\", **kwargs):\n",
        "  print(f\"Required: {required}\")\n",
        "  print(f\"Args: {args}\")\n",
        "  print(f\"Default: {default}\")\n",
        "  print(f\"Kwargs: {kwargs}\")\n",
        "\n",
        "# Usage\n",
        "example_function(\"required\", 1, 2, 3, default=\"custom\", extra1=\"value1\", extra2=\"value2\")"
      ],
      "metadata": {
        "id": "ehZ0wd4f4Ouk",
        "colab": {
          "base_uri": "https://localhost:8080/"
        },
        "outputId": "f82a9b8f-b480-4ca6-c5fb-578be9cdd30f"
      },
      "execution_count": null,
      "outputs": [
        {
          "output_type": "stream",
          "name": "stdout",
          "text": [
            "Required: required\n",
            "Args: (1, 2, 3)\n",
            "Default: custom\n",
            "Kwargs: {'extra1': 'value1', 'extra2': 'value2'}\n"
          ]
        }
      ]
    },
    {
      "cell_type": "markdown",
      "source": [
        "You can access `*args` using indices, as it is stored as a tuple, and you can access `**kwargs` using dictionary methods like `.get()` or `.items()` since it's stored as a dictionary."
      ],
      "metadata": {
        "id": "qikVbSRZGRLP"
      }
    },
    {
      "cell_type": "code",
      "source": [
        "# Accessing args and kwargs\n",
        "def example_function_2(*args, **kwargs):\n",
        "    # Accessing args\n",
        "    print(args[0])  # Access the first positional argument\n",
        "\n",
        "    # Accessing kwargs\n",
        "    print(kwargs.get('name'))  # Access the 'name' keyword argument if it exists\n",
        "    print(kwargs.items())  # Get all key-value pairs as a list of tuples\n",
        "\n",
        "\n",
        "example_function_2(1, 2, 3, name=\"Alice\", age=25)"
      ],
      "metadata": {
        "colab": {
          "base_uri": "https://localhost:8080/"
        },
        "id": "bzUiU1__GCcA",
        "outputId": "db6df937-4263-428e-ad61-68f0f85e4947"
      },
      "execution_count": null,
      "outputs": [
        {
          "output_type": "stream",
          "name": "stdout",
          "text": [
            "1\n",
            "Alice\n",
            "dict_items([('name', 'Alice'), ('age', 25)])\n"
          ]
        }
      ]
    },
    {
      "cell_type": "markdown",
      "source": [
        "For example we could write a `sum()` function that takes in a variable amount of numbers and sum them all up:"
      ],
      "metadata": {
        "id": "ONUgGezTFtLf"
      }
    },
    {
      "cell_type": "code",
      "source": [
        "def sum(*args):\n",
        "  total = 0\n",
        "  for num in args:\n",
        "    total += num\n",
        "  return total\n",
        "\n",
        "print(sum(1, 2, 3))\n",
        "print(sum(4, 5, 6, 7))"
      ],
      "metadata": {
        "colab": {
          "base_uri": "https://localhost:8080/"
        },
        "id": "PyYCUxa1FbxH",
        "outputId": "bad8ca03-82a2-4000-b3d7-a7540885f4a2"
      },
      "execution_count": null,
      "outputs": [
        {
          "output_type": "stream",
          "name": "stdout",
          "text": [
            "6\n",
            "22\n"
          ]
        }
      ]
    },
    {
      "cell_type": "markdown",
      "source": [
        "### **Keyword-Only Arguments**\n",
        "\n",
        "You can use `*` to enforce that any parameter defined after `*` must be passed as a keyword argument.\n",
        "\n",
        "This means you must specify the parameter name when passing arguments to these parameters; otherwise, you'll get an error.\n",
        "\n",
        "> 📒 **Note**: This approach is especially useful for improving code readability and preventing accidental errors in function calls.\n"
      ],
      "metadata": {
        "id": "fA_tm77FARbA"
      }
    },
    {
      "cell_type": "code",
      "source": [
        "def greet_modified(name, *, greeting=\"Hello\"):\n",
        "  return f\"{greeting}, {name}!\"\n",
        "\n",
        "print(greet_modified(\"Alice\"))\n",
        "print(greet_modified(\"Bob\", greeting=\"Hi\"))"
      ],
      "metadata": {
        "colab": {
          "base_uri": "https://localhost:8080/"
        },
        "id": "Pf2a-olt_AVO",
        "outputId": "fee5ff9c-eab4-4e03-a0d9-5863cf979395"
      },
      "execution_count": null,
      "outputs": [
        {
          "output_type": "stream",
          "name": "stdout",
          "text": [
            "Hello, Alice!\n",
            "Hi, Bob!\n"
          ]
        }
      ]
    },
    {
      "cell_type": "code",
      "source": [
        "# Not allowed: Didn't provide parameter name to keyword-only argument\n",
        "print(greet_modified(\"Tom\", \"Morning\"))"
      ],
      "metadata": {
        "colab": {
          "base_uri": "https://localhost:8080/",
          "height": 159
        },
        "id": "scRHGkErC-Gl",
        "outputId": "2e9ba1ac-7bc7-4726-fbb0-c4b784be88ea"
      },
      "execution_count": null,
      "outputs": [
        {
          "output_type": "error",
          "ename": "TypeError",
          "evalue": "greet_modified() takes 1 positional argument but 2 were given",
          "traceback": [
            "\u001b[0;31m---------------------------------------------------------------------------\u001b[0m",
            "\u001b[0;31mTypeError\u001b[0m                                 Traceback (most recent call last)",
            "\u001b[0;32m<ipython-input-35-492c60edd062>\u001b[0m in \u001b[0;36m<cell line: 2>\u001b[0;34m()\u001b[0m\n\u001b[1;32m      1\u001b[0m \u001b[0;31m# Error\u001b[0m\u001b[0;34m\u001b[0m\u001b[0;34m\u001b[0m\u001b[0m\n\u001b[0;32m----> 2\u001b[0;31m \u001b[0mprint\u001b[0m\u001b[0;34m(\u001b[0m\u001b[0mgreet_modified\u001b[0m\u001b[0;34m(\u001b[0m\u001b[0;34m\"Tom\"\u001b[0m\u001b[0;34m,\u001b[0m \u001b[0;34m\"Morning\"\u001b[0m\u001b[0;34m)\u001b[0m\u001b[0;34m)\u001b[0m\u001b[0;34m\u001b[0m\u001b[0;34m\u001b[0m\u001b[0m\n\u001b[0m",
            "\u001b[0;31mTypeError\u001b[0m: greet_modified() takes 1 positional argument but 2 were given"
          ]
        }
      ]
    },
    {
      "cell_type": "code",
      "source": [
        "# Not allowed: Arguments in incorrect order\n",
        "print(greet_modified(name=\"Tom\", \"Morning\"))"
      ],
      "metadata": {
        "colab": {
          "base_uri": "https://localhost:8080/",
          "height": 106
        },
        "id": "95xMPZB7DBnU",
        "outputId": "8f025aed-dc21-49f8-b0f7-16ad3e79ea6f"
      },
      "execution_count": null,
      "outputs": [
        {
          "output_type": "error",
          "ename": "SyntaxError",
          "evalue": "positional argument follows keyword argument (<ipython-input-37-19dfc297c491>, line 2)",
          "traceback": [
            "\u001b[0;36m  File \u001b[0;32m\"<ipython-input-37-19dfc297c491>\"\u001b[0;36m, line \u001b[0;32m2\u001b[0m\n\u001b[0;31m    print(greet_modified(name=\"Tom\", \"Morning\"))\u001b[0m\n\u001b[0m                                              ^\u001b[0m\n\u001b[0;31mSyntaxError\u001b[0m\u001b[0;31m:\u001b[0m positional argument follows keyword argument\n"
          ]
        }
      ]
    },
    {
      "cell_type": "markdown",
      "source": [
        "### **Exercise: Generate API Endpoints**\n",
        "\n",
        "Many APIs allow you to pass multiple parameters to customize requests.\n",
        "\n",
        "Let's write a function that takes:\n",
        "1. a base API endpoint as argument\n",
        "2. your API key as argument\n",
        "3. a variable number of API parameters as keyword arguments\n",
        "\n",
        "This function will then generate a complete API URL with the parameters included.\n",
        "\n",
        "> Hint: Use `?` after the base API endpoint before passing in the parameters and use `&` for multiple API parameters\n",
        ">\n",
        "> Example: `https://www.google.com/search?q=apple&sourceid=chrome&ie=UTF-8`\n",
        "\n"
      ],
      "metadata": {
        "id": "9exNnxHXD16V"
      }
    },
    {
      "cell_type": "code",
      "source": [
        "example_endpoint = \"https://example.com/api\""
      ],
      "metadata": {
        "id": "-RdklVkPEsOM"
      },
      "execution_count": null,
      "outputs": []
    },
    {
      "cell_type": "code",
      "source": [
        "# Your code goes here\n"
      ],
      "metadata": {
        "id": "HaWFYCyREyMN"
      },
      "execution_count": null,
      "outputs": []
    },
    {
      "cell_type": "code",
      "source": [
        "# @title Solution\n",
        "\n",
        "def generate_api_endpoint(base_url, api_key, **params):\n",
        "  url = f\"{base_url}?api_key={api_key}\"\n",
        "  for key, value in params.items():\n",
        "    url += f\"&{key}={value}\"\n",
        "  return url\n",
        "\n",
        "\n",
        "api_key = \"my_api_key_123\"\n",
        "url = generate_api_endpoint(example_endpoint, api_key, format=\"json\", limit=10)\n",
        "print(url)"
      ],
      "metadata": {
        "cellView": "form",
        "id": "dw50gXyzE2p7"
      },
      "execution_count": null,
      "outputs": []
    },
    {
      "cell_type": "markdown",
      "source": [
        "## **Type Hints & Function Documentation**\n"
      ],
      "metadata": {
        "id": "nQ18LxcjJH90"
      }
    },
    {
      "cell_type": "markdown",
      "source": [
        "### **Type Hints**\n",
        "\n",
        "Type hints provide a way to annotate code with expected types.\n",
        "\n",
        "<br>\n",
        "\n",
        "**Benefits include:**\n",
        "\n",
        "- **Self-documenting code**\n",
        "  \n",
        "  Clarifies what types are expected, making code easier to read.\n",
        "\n",
        "- **IDE support and code completion**\n",
        "\n",
        "  Enhances code suggestions and error detection in many code editors.\n",
        "\n",
        "- **Static type checking**\n",
        "\n",
        "  Tools like [mypy](https://mypy.readthedocs.io/en/stable/index.html) can catch type-related errors before runtime.\n",
        "\n",
        "- **Ease of understanding and refactoring**\n",
        "\n",
        "  Simplifies the process of understanding code, especially in larger projects.\n",
        "\n",
        "<br>\n",
        "\n",
        "**Functions without type hints have:**\n",
        "\n",
        "- **Reduced Readability**\n",
        "\n",
        "  Functions without type hints can be harder to read and understand, as the expected types for parameters and return values are not explicitly stated.\n",
        "\n",
        "- **Limited IDE Support**\n",
        "\n",
        "  Functions lacking type hints cannot fully leverage IDE tooltip functionality, which provides insights into function usage and parameter data types.\n",
        "\n",
        "- **No Static Error Checking**\n",
        "\n",
        "  Linters cannot check for potential type-related errors, making it easier to overlook mistakes that could lead to runtime issues.\n",
        "\n",
        "<br>\n",
        "\n",
        "> 📒 **Note**: Type hints do not change the functionality of your code and are completely optional (except in some libraries, such as [FastAPI](https://fastapi.tiangolo.com/), where they enable features such as data validation and automatic documentation). However, including them can significantly improve the readability and maintainability of your code.\n",
        "\n",
        "<br>\n",
        "\n",
        "For more in-depth information on writing type hints, check out [Python's documentation](https://peps.python.org/pep-0484/)\n"
      ],
      "metadata": {
        "id": "87tpeu6uiwir"
      }
    },
    {
      "cell_type": "markdown",
      "source": [
        "Let's look at how we can write type hints ourself.\n"
      ],
      "metadata": {
        "id": "C5yrZLFMmJW0"
      }
    },
    {
      "cell_type": "code",
      "source": [
        "# Basic type hint example\n",
        "def process_string(text: str, times: int = 1) -> str:\n",
        "  return text * times\n",
        "\n",
        "def cube(number: float) -> float:\n",
        "  return number ** 3\n",
        "\n",
        "number = input(\"Enter a number: \") # input() function returns a string\n",
        "\n",
        "# We get a red squiggly line from the code editor because this will raise an error: strings cannot be used in arithmetic operations.\n",
        "print(cube(number))"
      ],
      "metadata": {
        "colab": {
          "base_uri": "https://localhost:8080/",
          "height": 315
        },
        "id": "QcOzjg8PooIY",
        "outputId": "237e90a6-2527-4139-93a0-eef70961c7f1"
      },
      "execution_count": null,
      "outputs": [
        {
          "name": "stdout",
          "output_type": "stream",
          "text": [
            "Enter a number: 3\n"
          ]
        },
        {
          "output_type": "error",
          "ename": "TypeError",
          "evalue": "unsupported operand type(s) for ** or pow(): 'str' and 'int'",
          "traceback": [
            "\u001b[0;31m---------------------------------------------------------------------------\u001b[0m",
            "\u001b[0;31mTypeError\u001b[0m                                 Traceback (most recent call last)",
            "\u001b[0;32m<ipython-input-49-5256f2aeaaac>\u001b[0m in \u001b[0;36m<cell line: 11>\u001b[0;34m()\u001b[0m\n\u001b[1;32m      9\u001b[0m \u001b[0;34m\u001b[0m\u001b[0m\n\u001b[1;32m     10\u001b[0m \u001b[0;31m# We get a red squiggly line from the code editor because this will raise an error: strings cannot be used in arithmetic operations.\u001b[0m\u001b[0;34m\u001b[0m\u001b[0;34m\u001b[0m\u001b[0m\n\u001b[0;32m---> 11\u001b[0;31m \u001b[0mprint\u001b[0m\u001b[0;34m(\u001b[0m\u001b[0mcube\u001b[0m\u001b[0;34m(\u001b[0m\u001b[0mnumber\u001b[0m\u001b[0;34m)\u001b[0m\u001b[0;34m)\u001b[0m\u001b[0;34m\u001b[0m\u001b[0;34m\u001b[0m\u001b[0m\n\u001b[0m",
            "\u001b[0;32m<ipython-input-49-5256f2aeaaac>\u001b[0m in \u001b[0;36mcube\u001b[0;34m(number)\u001b[0m\n\u001b[1;32m      4\u001b[0m \u001b[0;34m\u001b[0m\u001b[0m\n\u001b[1;32m      5\u001b[0m \u001b[0;32mdef\u001b[0m \u001b[0mcube\u001b[0m\u001b[0;34m(\u001b[0m\u001b[0mnumber\u001b[0m\u001b[0;34m:\u001b[0m \u001b[0mfloat\u001b[0m\u001b[0;34m)\u001b[0m \u001b[0;34m->\u001b[0m \u001b[0mfloat\u001b[0m\u001b[0;34m:\u001b[0m\u001b[0;34m\u001b[0m\u001b[0;34m\u001b[0m\u001b[0m\n\u001b[0;32m----> 6\u001b[0;31m   \u001b[0;32mreturn\u001b[0m \u001b[0mnumber\u001b[0m \u001b[0;34m**\u001b[0m \u001b[0;36m3\u001b[0m\u001b[0;34m\u001b[0m\u001b[0;34m\u001b[0m\u001b[0m\n\u001b[0m\u001b[1;32m      7\u001b[0m \u001b[0;34m\u001b[0m\u001b[0m\n\u001b[1;32m      8\u001b[0m \u001b[0mnumber\u001b[0m \u001b[0;34m=\u001b[0m \u001b[0minput\u001b[0m\u001b[0;34m(\u001b[0m\u001b[0;34m\"Enter a number: \"\u001b[0m\u001b[0;34m)\u001b[0m \u001b[0;31m# input() function returns a string\u001b[0m\u001b[0;34m\u001b[0m\u001b[0;34m\u001b[0m\u001b[0m\n",
            "\u001b[0;31mTypeError\u001b[0m: unsupported operand type(s) for ** or pow(): 'str' and 'int'"
          ]
        }
      ]
    },
    {
      "cell_type": "code",
      "source": [
        "# No type hint example\n",
        "def cube_(number):\n",
        "  return number ** 3\n",
        "\n",
        "number = input(\"Enter a number: \") # input() function returns a string\n",
        "\n",
        "# We don't get a red squiggly line from the code editor because it doesn't know what data type to expect even though this will clearly error\n",
        "print(cube_(number))"
      ],
      "metadata": {
        "colab": {
          "base_uri": "https://localhost:8080/",
          "height": 315
        },
        "id": "3MuipkNgp8TG",
        "outputId": "ea8fb51b-982d-4a84-f1e5-9102dbfa8b34"
      },
      "execution_count": null,
      "outputs": [
        {
          "name": "stdout",
          "output_type": "stream",
          "text": [
            "Enter a number: 2\n"
          ]
        },
        {
          "output_type": "error",
          "ename": "TypeError",
          "evalue": "unsupported operand type(s) for ** or pow(): 'str' and 'int'",
          "traceback": [
            "\u001b[0;31m---------------------------------------------------------------------------\u001b[0m",
            "\u001b[0;31mTypeError\u001b[0m                                 Traceback (most recent call last)",
            "\u001b[0;32m<ipython-input-50-cf8e997d030c>\u001b[0m in \u001b[0;36m<cell line: 7>\u001b[0;34m()\u001b[0m\n\u001b[1;32m      5\u001b[0m \u001b[0;34m\u001b[0m\u001b[0m\n\u001b[1;32m      6\u001b[0m \u001b[0;31m# We don't get a red squiggly line from the code editor because it doesn't know what data type to expect even though this will clearly error\u001b[0m\u001b[0;34m\u001b[0m\u001b[0;34m\u001b[0m\u001b[0m\n\u001b[0;32m----> 7\u001b[0;31m \u001b[0mprint\u001b[0m\u001b[0;34m(\u001b[0m\u001b[0mcube_\u001b[0m\u001b[0;34m(\u001b[0m\u001b[0mnumber\u001b[0m\u001b[0;34m)\u001b[0m\u001b[0;34m)\u001b[0m\u001b[0;34m\u001b[0m\u001b[0;34m\u001b[0m\u001b[0m\n\u001b[0m",
            "\u001b[0;32m<ipython-input-50-cf8e997d030c>\u001b[0m in \u001b[0;36mcube_\u001b[0;34m(number)\u001b[0m\n\u001b[1;32m      1\u001b[0m \u001b[0;32mdef\u001b[0m \u001b[0mcube_\u001b[0m\u001b[0;34m(\u001b[0m\u001b[0mnumber\u001b[0m\u001b[0;34m)\u001b[0m\u001b[0;34m:\u001b[0m\u001b[0;34m\u001b[0m\u001b[0;34m\u001b[0m\u001b[0m\n\u001b[0;32m----> 2\u001b[0;31m   \u001b[0;32mreturn\u001b[0m \u001b[0mnumber\u001b[0m \u001b[0;34m**\u001b[0m \u001b[0;36m3\u001b[0m\u001b[0;34m\u001b[0m\u001b[0;34m\u001b[0m\u001b[0m\n\u001b[0m\u001b[1;32m      3\u001b[0m \u001b[0;34m\u001b[0m\u001b[0m\n\u001b[1;32m      4\u001b[0m \u001b[0mnumber\u001b[0m \u001b[0;34m=\u001b[0m \u001b[0minput\u001b[0m\u001b[0;34m(\u001b[0m\u001b[0;34m\"Enter a number: \"\u001b[0m\u001b[0;34m)\u001b[0m \u001b[0;31m# input() function returns a string\u001b[0m\u001b[0;34m\u001b[0m\u001b[0;34m\u001b[0m\u001b[0m\n\u001b[1;32m      5\u001b[0m \u001b[0;34m\u001b[0m\u001b[0m\n",
            "\u001b[0;31mTypeError\u001b[0m: unsupported operand type(s) for ** or pow(): 'str' and 'int'"
          ]
        }
      ]
    },
    {
      "cell_type": "markdown",
      "source": [
        "If our function or variable can take or return multiple data types, we can use the `|` operator to separate multiple types:\n"
      ],
      "metadata": {
        "id": "qNBUE3h2qgfL"
      }
    },
    {
      "cell_type": "code",
      "source": [
        "# Multiple acceptable types\n",
        "def is_even(num: int | float) -> bool:\n",
        "  return num % 2 == 0"
      ],
      "metadata": {
        "id": "2f2x67BqrJT6"
      },
      "execution_count": null,
      "outputs": []
    },
    {
      "cell_type": "markdown",
      "source": [
        "We can even write type hints for variables\n",
        "\n",
        "> 🚨 There is no need to do this for every variable but for obscure ones where the datatype of the variable is very hard to infer, this is extremely useful!\n"
      ],
      "metadata": {
        "id": "xfDzr0FcwkuD"
      }
    },
    {
      "cell_type": "code",
      "source": [
        "# Type hinting variables\n",
        "num_1: int = 1\n",
        "num_2: float = 1.0\n",
        "\n",
        "var_3 = {\"a\": 1, \"b\": 2, \"c\": 3, \"d\": 4}\n",
        "num_3: int | None = var_3.get(\"apple\") # in this example get() can either return an 'int' or 'None'. Using type hint makes it clearer to see what kind of datatype you are getting"
      ],
      "metadata": {
        "id": "YkFY44Bhwu10"
      },
      "execution_count": null,
      "outputs": []
    },
    {
      "cell_type": "markdown",
      "source": [
        "#### Type Hints for Complex Data Types\n",
        "\n",
        "For more complex data types, you may need to import specific classes from the Python standard library or third-party libraries, or you can define your own custom data types.\n",
        "\n",
        "Here are a couple examples:"
      ],
      "metadata": {
        "id": "mM2zKM-BrKYi"
      }
    },
    {
      "cell_type": "code",
      "source": [
        "class CustomType:\n",
        "  def do_sth(self) -> None:\n",
        "    pass\n",
        "\n",
        "def construct_custom_type() -> CustomType:\n",
        "  return CustomType()"
      ],
      "metadata": {
        "id": "IhCAw8h_sGqX"
      },
      "execution_count": null,
      "outputs": []
    },
    {
      "cell_type": "code",
      "source": [
        "from collections.abc import Iterable\n",
        "\n",
        "def print_iterable(iterable: Iterable) -> None:\n",
        "  if not isinstance(iterable, Iterable):\n",
        "    raise TypeError(\"Expected an iterable\")\n",
        "\n",
        "  for item in iterable:\n",
        "    print(item)\n",
        "\n",
        "\n",
        "print_iterable([1, 2, 3])\n",
        "print_iterable((4, 5, 6))"
      ],
      "metadata": {
        "colab": {
          "base_uri": "https://localhost:8080/"
        },
        "id": "giTdi7Sur-uo",
        "outputId": "a6f3e5e3-29a1-44af-89ab-361b87b19a27"
      },
      "execution_count": null,
      "outputs": [
        {
          "output_type": "stream",
          "name": "stdout",
          "text": [
            "1\n",
            "2\n",
            "3\n",
            "4\n",
            "5\n",
            "6\n"
          ]
        }
      ]
    },
    {
      "cell_type": "code",
      "source": [
        "from typing import Literal\n",
        "\n",
        "def choose_color(color: Literal[\"red\", \"green\", \"blue\"]) -> None:\n",
        "  if not isinstance(color, str): raise TypeError(\"Expected a string\")\n",
        "  if not color.lower() in [\"red\", \"green\", \"blue\"]: raise ValueError(\"Invalid color\")\n",
        "\n",
        "  match color:\n",
        "    case \"red\":\n",
        "      pass\n",
        "    case \"green\":\n",
        "      pass\n",
        "    case \"blue\":\n",
        "      pass\n",
        "    case _:\n",
        "      print(\"Shouldn't be able to reach here, something is very wrong!\")\n",
        "  print(f\"You chose {color}\")\n",
        "\n",
        "choose_color(\"red\")\n",
        "choose_color(\"green\")\n",
        "choose_color(\"blue\")"
      ],
      "metadata": {
        "colab": {
          "base_uri": "https://localhost:8080/"
        },
        "id": "yZ0Sz6hhsEsl",
        "outputId": "7cb53441-34f6-463e-db3c-a91535a4085e"
      },
      "execution_count": null,
      "outputs": [
        {
          "output_type": "stream",
          "name": "stdout",
          "text": [
            "You chose red\n",
            "You chose green\n",
            "You chose blue\n"
          ]
        }
      ]
    },
    {
      "cell_type": "code",
      "source": [
        "from collections.abc import Callable\n",
        "from typing import Any\n",
        "\n",
        "def repeat_func(func: Callable, times: int, *args: Any, **kwargs: Any) -> None:\n",
        "  for _ in range(times):\n",
        "    rv = func(*args, **kwargs)\n",
        "    print(rv)\n",
        "\n",
        "\n",
        "repeat_func(greet, times=2, name=\"Timmy\", greeting=\"What's up\")\n",
        "repeat_func(cube, times=3, number=2)"
      ],
      "metadata": {
        "colab": {
          "base_uri": "https://localhost:8080/"
        },
        "id": "iGMy2vP5r-QZ",
        "outputId": "d89a3ddf-d8d2-4c7f-8872-73a9270ddd6e"
      },
      "execution_count": null,
      "outputs": [
        {
          "output_type": "stream",
          "name": "stdout",
          "text": [
            "What's up, Timmy!\n",
            "What's up, Timmy!\n",
            "8\n",
            "8\n",
            "8\n"
          ]
        }
      ]
    },
    {
      "cell_type": "code",
      "source": [
        "from typing import Optional, Union\n",
        "\n",
        "def process_data(items: list[dict[str, Union[str, int]]], config: Optional[dict[str, str]] = None) -> tuple[list[str], int]:\n",
        "  result = []\n",
        "  config = config or {}  # Use empty dict if config is None\n",
        "\n",
        "  for item in items:\n",
        "    # Get the field to process from config, default to 'name'\n",
        "    field = config.get('field', 'name')\n",
        "\n",
        "    # Get the value, convert to uppercase if it's a string\n",
        "    value = item.get(field, '')\n",
        "    if isinstance(value, str):\n",
        "      value = value.upper()\n",
        "\n",
        "    result.append(str(value))\n",
        "\n",
        "  return result, len(result)\n",
        "\n",
        "\n",
        "# Example:\n",
        "items = [\n",
        "    {'name': 'alice', 'age': 30},\n",
        "    {'name': 'bob', 'age': 25},\n",
        "    {'name': 'charlie', 'age': 35}\n",
        "]\n",
        "\n",
        "# Process names\n",
        "names, count = process_data(items)\n",
        "print(names)\n",
        "print(count)\n",
        "\n",
        "# Process ages with config\n",
        "ages, count = process_data(items, {'field': 'age'})\n",
        "print(ages)\n",
        "print(count)"
      ],
      "metadata": {
        "colab": {
          "base_uri": "https://localhost:8080/"
        },
        "id": "MkCj7PvOmIgO",
        "outputId": "503911a2-dc9d-44c7-eb18-e20e8e82d8ad"
      },
      "execution_count": null,
      "outputs": [
        {
          "output_type": "stream",
          "name": "stdout",
          "text": [
            "['ALICE', 'BOB', 'CHARLIE']\n",
            "3\n",
            "['30', '25', '35']\n",
            "3\n"
          ]
        }
      ]
    },
    {
      "cell_type": "code",
      "source": [
        "import pandas as pd\n",
        "\n",
        "def create_df(data: dict) -> pd.DataFrame:\n",
        "  return pd.DataFrame(data)\n",
        "\n",
        "\n",
        "data = {\n",
        "    'name': ['Alice', 'Bob', 'Charlie'],\n",
        "    'age': [25, 30, 35],\n",
        "    'city': ['New York', 'London', 'Paris']\n",
        "}\n",
        "\n",
        "df = create_df(data)\n",
        "df"
      ],
      "metadata": {
        "colab": {
          "base_uri": "https://localhost:8080/",
          "height": 143
        },
        "id": "zJVMLkYysCKM",
        "outputId": "f4dd7b69-bc13-426d-a120-42194943c648"
      },
      "execution_count": null,
      "outputs": [
        {
          "output_type": "execute_result",
          "data": {
            "text/plain": [
              "      name  age      city\n",
              "0    Alice   25  New York\n",
              "1      Bob   30    London\n",
              "2  Charlie   35     Paris"
            ],
            "text/html": [
              "\n",
              "  <div id=\"df-9f1d525d-17e6-48ed-a89e-aaeb2958311a\" class=\"colab-df-container\">\n",
              "    <div>\n",
              "<style scoped>\n",
              "    .dataframe tbody tr th:only-of-type {\n",
              "        vertical-align: middle;\n",
              "    }\n",
              "\n",
              "    .dataframe tbody tr th {\n",
              "        vertical-align: top;\n",
              "    }\n",
              "\n",
              "    .dataframe thead th {\n",
              "        text-align: right;\n",
              "    }\n",
              "</style>\n",
              "<table border=\"1\" class=\"dataframe\">\n",
              "  <thead>\n",
              "    <tr style=\"text-align: right;\">\n",
              "      <th></th>\n",
              "      <th>name</th>\n",
              "      <th>age</th>\n",
              "      <th>city</th>\n",
              "    </tr>\n",
              "  </thead>\n",
              "  <tbody>\n",
              "    <tr>\n",
              "      <th>0</th>\n",
              "      <td>Alice</td>\n",
              "      <td>25</td>\n",
              "      <td>New York</td>\n",
              "    </tr>\n",
              "    <tr>\n",
              "      <th>1</th>\n",
              "      <td>Bob</td>\n",
              "      <td>30</td>\n",
              "      <td>London</td>\n",
              "    </tr>\n",
              "    <tr>\n",
              "      <th>2</th>\n",
              "      <td>Charlie</td>\n",
              "      <td>35</td>\n",
              "      <td>Paris</td>\n",
              "    </tr>\n",
              "  </tbody>\n",
              "</table>\n",
              "</div>\n",
              "    <div class=\"colab-df-buttons\">\n",
              "\n",
              "  <div class=\"colab-df-container\">\n",
              "    <button class=\"colab-df-convert\" onclick=\"convertToInteractive('df-9f1d525d-17e6-48ed-a89e-aaeb2958311a')\"\n",
              "            title=\"Convert this dataframe to an interactive table.\"\n",
              "            style=\"display:none;\">\n",
              "\n",
              "  <svg xmlns=\"http://www.w3.org/2000/svg\" height=\"24px\" viewBox=\"0 -960 960 960\">\n",
              "    <path d=\"M120-120v-720h720v720H120Zm60-500h600v-160H180v160Zm220 220h160v-160H400v160Zm0 220h160v-160H400v160ZM180-400h160v-160H180v160Zm440 0h160v-160H620v160ZM180-180h160v-160H180v160Zm440 0h160v-160H620v160Z\"/>\n",
              "  </svg>\n",
              "    </button>\n",
              "\n",
              "  <style>\n",
              "    .colab-df-container {\n",
              "      display:flex;\n",
              "      gap: 12px;\n",
              "    }\n",
              "\n",
              "    .colab-df-convert {\n",
              "      background-color: #E8F0FE;\n",
              "      border: none;\n",
              "      border-radius: 50%;\n",
              "      cursor: pointer;\n",
              "      display: none;\n",
              "      fill: #1967D2;\n",
              "      height: 32px;\n",
              "      padding: 0 0 0 0;\n",
              "      width: 32px;\n",
              "    }\n",
              "\n",
              "    .colab-df-convert:hover {\n",
              "      background-color: #E2EBFA;\n",
              "      box-shadow: 0px 1px 2px rgba(60, 64, 67, 0.3), 0px 1px 3px 1px rgba(60, 64, 67, 0.15);\n",
              "      fill: #174EA6;\n",
              "    }\n",
              "\n",
              "    .colab-df-buttons div {\n",
              "      margin-bottom: 4px;\n",
              "    }\n",
              "\n",
              "    [theme=dark] .colab-df-convert {\n",
              "      background-color: #3B4455;\n",
              "      fill: #D2E3FC;\n",
              "    }\n",
              "\n",
              "    [theme=dark] .colab-df-convert:hover {\n",
              "      background-color: #434B5C;\n",
              "      box-shadow: 0px 1px 3px 1px rgba(0, 0, 0, 0.15);\n",
              "      filter: drop-shadow(0px 1px 2px rgba(0, 0, 0, 0.3));\n",
              "      fill: #FFFFFF;\n",
              "    }\n",
              "  </style>\n",
              "\n",
              "    <script>\n",
              "      const buttonEl =\n",
              "        document.querySelector('#df-9f1d525d-17e6-48ed-a89e-aaeb2958311a button.colab-df-convert');\n",
              "      buttonEl.style.display =\n",
              "        google.colab.kernel.accessAllowed ? 'block' : 'none';\n",
              "\n",
              "      async function convertToInteractive(key) {\n",
              "        const element = document.querySelector('#df-9f1d525d-17e6-48ed-a89e-aaeb2958311a');\n",
              "        const dataTable =\n",
              "          await google.colab.kernel.invokeFunction('convertToInteractive',\n",
              "                                                    [key], {});\n",
              "        if (!dataTable) return;\n",
              "\n",
              "        const docLinkHtml = 'Like what you see? Visit the ' +\n",
              "          '<a target=\"_blank\" href=https://colab.research.google.com/notebooks/data_table.ipynb>data table notebook</a>'\n",
              "          + ' to learn more about interactive tables.';\n",
              "        element.innerHTML = '';\n",
              "        dataTable['output_type'] = 'display_data';\n",
              "        await google.colab.output.renderOutput(dataTable, element);\n",
              "        const docLink = document.createElement('div');\n",
              "        docLink.innerHTML = docLinkHtml;\n",
              "        element.appendChild(docLink);\n",
              "      }\n",
              "    </script>\n",
              "  </div>\n",
              "\n",
              "\n",
              "<div id=\"df-b97e2432-a3e1-4d50-a431-b3f50e558e63\">\n",
              "  <button class=\"colab-df-quickchart\" onclick=\"quickchart('df-b97e2432-a3e1-4d50-a431-b3f50e558e63')\"\n",
              "            title=\"Suggest charts\"\n",
              "            style=\"display:none;\">\n",
              "\n",
              "<svg xmlns=\"http://www.w3.org/2000/svg\" height=\"24px\"viewBox=\"0 0 24 24\"\n",
              "     width=\"24px\">\n",
              "    <g>\n",
              "        <path d=\"M19 3H5c-1.1 0-2 .9-2 2v14c0 1.1.9 2 2 2h14c1.1 0 2-.9 2-2V5c0-1.1-.9-2-2-2zM9 17H7v-7h2v7zm4 0h-2V7h2v10zm4 0h-2v-4h2v4z\"/>\n",
              "    </g>\n",
              "</svg>\n",
              "  </button>\n",
              "\n",
              "<style>\n",
              "  .colab-df-quickchart {\n",
              "      --bg-color: #E8F0FE;\n",
              "      --fill-color: #1967D2;\n",
              "      --hover-bg-color: #E2EBFA;\n",
              "      --hover-fill-color: #174EA6;\n",
              "      --disabled-fill-color: #AAA;\n",
              "      --disabled-bg-color: #DDD;\n",
              "  }\n",
              "\n",
              "  [theme=dark] .colab-df-quickchart {\n",
              "      --bg-color: #3B4455;\n",
              "      --fill-color: #D2E3FC;\n",
              "      --hover-bg-color: #434B5C;\n",
              "      --hover-fill-color: #FFFFFF;\n",
              "      --disabled-bg-color: #3B4455;\n",
              "      --disabled-fill-color: #666;\n",
              "  }\n",
              "\n",
              "  .colab-df-quickchart {\n",
              "    background-color: var(--bg-color);\n",
              "    border: none;\n",
              "    border-radius: 50%;\n",
              "    cursor: pointer;\n",
              "    display: none;\n",
              "    fill: var(--fill-color);\n",
              "    height: 32px;\n",
              "    padding: 0;\n",
              "    width: 32px;\n",
              "  }\n",
              "\n",
              "  .colab-df-quickchart:hover {\n",
              "    background-color: var(--hover-bg-color);\n",
              "    box-shadow: 0 1px 2px rgba(60, 64, 67, 0.3), 0 1px 3px 1px rgba(60, 64, 67, 0.15);\n",
              "    fill: var(--button-hover-fill-color);\n",
              "  }\n",
              "\n",
              "  .colab-df-quickchart-complete:disabled,\n",
              "  .colab-df-quickchart-complete:disabled:hover {\n",
              "    background-color: var(--disabled-bg-color);\n",
              "    fill: var(--disabled-fill-color);\n",
              "    box-shadow: none;\n",
              "  }\n",
              "\n",
              "  .colab-df-spinner {\n",
              "    border: 2px solid var(--fill-color);\n",
              "    border-color: transparent;\n",
              "    border-bottom-color: var(--fill-color);\n",
              "    animation:\n",
              "      spin 1s steps(1) infinite;\n",
              "  }\n",
              "\n",
              "  @keyframes spin {\n",
              "    0% {\n",
              "      border-color: transparent;\n",
              "      border-bottom-color: var(--fill-color);\n",
              "      border-left-color: var(--fill-color);\n",
              "    }\n",
              "    20% {\n",
              "      border-color: transparent;\n",
              "      border-left-color: var(--fill-color);\n",
              "      border-top-color: var(--fill-color);\n",
              "    }\n",
              "    30% {\n",
              "      border-color: transparent;\n",
              "      border-left-color: var(--fill-color);\n",
              "      border-top-color: var(--fill-color);\n",
              "      border-right-color: var(--fill-color);\n",
              "    }\n",
              "    40% {\n",
              "      border-color: transparent;\n",
              "      border-right-color: var(--fill-color);\n",
              "      border-top-color: var(--fill-color);\n",
              "    }\n",
              "    60% {\n",
              "      border-color: transparent;\n",
              "      border-right-color: var(--fill-color);\n",
              "    }\n",
              "    80% {\n",
              "      border-color: transparent;\n",
              "      border-right-color: var(--fill-color);\n",
              "      border-bottom-color: var(--fill-color);\n",
              "    }\n",
              "    90% {\n",
              "      border-color: transparent;\n",
              "      border-bottom-color: var(--fill-color);\n",
              "    }\n",
              "  }\n",
              "</style>\n",
              "\n",
              "  <script>\n",
              "    async function quickchart(key) {\n",
              "      const quickchartButtonEl =\n",
              "        document.querySelector('#' + key + ' button');\n",
              "      quickchartButtonEl.disabled = true;  // To prevent multiple clicks.\n",
              "      quickchartButtonEl.classList.add('colab-df-spinner');\n",
              "      try {\n",
              "        const charts = await google.colab.kernel.invokeFunction(\n",
              "            'suggestCharts', [key], {});\n",
              "      } catch (error) {\n",
              "        console.error('Error during call to suggestCharts:', error);\n",
              "      }\n",
              "      quickchartButtonEl.classList.remove('colab-df-spinner');\n",
              "      quickchartButtonEl.classList.add('colab-df-quickchart-complete');\n",
              "    }\n",
              "    (() => {\n",
              "      let quickchartButtonEl =\n",
              "        document.querySelector('#df-b97e2432-a3e1-4d50-a431-b3f50e558e63 button');\n",
              "      quickchartButtonEl.style.display =\n",
              "        google.colab.kernel.accessAllowed ? 'block' : 'none';\n",
              "    })();\n",
              "  </script>\n",
              "</div>\n",
              "\n",
              "  <div id=\"id_396d25ca-fb68-4062-8c4b-f207a3706512\">\n",
              "    <style>\n",
              "      .colab-df-generate {\n",
              "        background-color: #E8F0FE;\n",
              "        border: none;\n",
              "        border-radius: 50%;\n",
              "        cursor: pointer;\n",
              "        display: none;\n",
              "        fill: #1967D2;\n",
              "        height: 32px;\n",
              "        padding: 0 0 0 0;\n",
              "        width: 32px;\n",
              "      }\n",
              "\n",
              "      .colab-df-generate:hover {\n",
              "        background-color: #E2EBFA;\n",
              "        box-shadow: 0px 1px 2px rgba(60, 64, 67, 0.3), 0px 1px 3px 1px rgba(60, 64, 67, 0.15);\n",
              "        fill: #174EA6;\n",
              "      }\n",
              "\n",
              "      [theme=dark] .colab-df-generate {\n",
              "        background-color: #3B4455;\n",
              "        fill: #D2E3FC;\n",
              "      }\n",
              "\n",
              "      [theme=dark] .colab-df-generate:hover {\n",
              "        background-color: #434B5C;\n",
              "        box-shadow: 0px 1px 3px 1px rgba(0, 0, 0, 0.15);\n",
              "        filter: drop-shadow(0px 1px 2px rgba(0, 0, 0, 0.3));\n",
              "        fill: #FFFFFF;\n",
              "      }\n",
              "    </style>\n",
              "    <button class=\"colab-df-generate\" onclick=\"generateWithVariable('df')\"\n",
              "            title=\"Generate code using this dataframe.\"\n",
              "            style=\"display:none;\">\n",
              "\n",
              "  <svg xmlns=\"http://www.w3.org/2000/svg\" height=\"24px\"viewBox=\"0 0 24 24\"\n",
              "       width=\"24px\">\n",
              "    <path d=\"M7,19H8.4L18.45,9,17,7.55,7,17.6ZM5,21V16.75L18.45,3.32a2,2,0,0,1,2.83,0l1.4,1.43a1.91,1.91,0,0,1,.58,1.4,1.91,1.91,0,0,1-.58,1.4L9.25,21ZM18.45,9,17,7.55Zm-12,3A5.31,5.31,0,0,0,4.9,8.1,5.31,5.31,0,0,0,1,6.5,5.31,5.31,0,0,0,4.9,4.9,5.31,5.31,0,0,0,6.5,1,5.31,5.31,0,0,0,8.1,4.9,5.31,5.31,0,0,0,12,6.5,5.46,5.46,0,0,0,6.5,12Z\"/>\n",
              "  </svg>\n",
              "    </button>\n",
              "    <script>\n",
              "      (() => {\n",
              "      const buttonEl =\n",
              "        document.querySelector('#id_396d25ca-fb68-4062-8c4b-f207a3706512 button.colab-df-generate');\n",
              "      buttonEl.style.display =\n",
              "        google.colab.kernel.accessAllowed ? 'block' : 'none';\n",
              "\n",
              "      buttonEl.onclick = () => {\n",
              "        google.colab.notebook.generateWithVariable('df');\n",
              "      }\n",
              "      })();\n",
              "    </script>\n",
              "  </div>\n",
              "\n",
              "    </div>\n",
              "  </div>\n"
            ],
            "application/vnd.google.colaboratory.intrinsic+json": {
              "type": "dataframe",
              "variable_name": "df",
              "summary": "{\n  \"name\": \"df\",\n  \"rows\": 3,\n  \"fields\": [\n    {\n      \"column\": \"name\",\n      \"properties\": {\n        \"dtype\": \"string\",\n        \"num_unique_values\": 3,\n        \"samples\": [\n          \"Alice\",\n          \"Bob\",\n          \"Charlie\"\n        ],\n        \"semantic_type\": \"\",\n        \"description\": \"\"\n      }\n    },\n    {\n      \"column\": \"age\",\n      \"properties\": {\n        \"dtype\": \"number\",\n        \"std\": 5,\n        \"min\": 25,\n        \"max\": 35,\n        \"num_unique_values\": 3,\n        \"samples\": [\n          25,\n          30,\n          35\n        ],\n        \"semantic_type\": \"\",\n        \"description\": \"\"\n      }\n    },\n    {\n      \"column\": \"city\",\n      \"properties\": {\n        \"dtype\": \"string\",\n        \"num_unique_values\": 3,\n        \"samples\": [\n          \"New York\",\n          \"London\",\n          \"Paris\"\n        ],\n        \"semantic_type\": \"\",\n        \"description\": \"\"\n      }\n    }\n  ]\n}"
            }
          },
          "metadata": {},
          "execution_count": 72
        }
      ]
    },
    {
      "cell_type": "markdown",
      "source": [
        "### **Docstrings**\n",
        "\n",
        "Docstrings provide a standardized way to document Python functions and can serve multiple purposes, including:\n",
        "\n",
        "- Clear documentation for other developers\n",
        "- Interactive help, such as through the help() function in Python or Language Server Protocols (LSPs) in code editors\n",
        "- Source for automatic documentation generators like [Sphinx](https://www.sphinx-doc.org/en/master/index.html) and [Swagger](https://swagger.io/docs/).\n",
        "\n",
        "A well-structured docstrings can improve code readability and make maintenance a lot easier. Here are a few popular docstring styles to consider:\n",
        "\n",
        "<br>\n",
        "\n",
        "**Common Docstring Styles**\n",
        "\n",
        "- [Google Style](https://github.com/google/styleguide/blob/gh-pages/pyguide.md#38-comments-and-docstrings): Known for its readability, with parameters and return values clearly outlined.\n",
        "- [NumPy Style](https://numpydoc.readthedocs.io/en/latest/format.html#docstring-standard): Particularly useful in scientific and data-centric projects, with structured sections for extended explanations.\n",
        "- [reStructuredText Style](https://sphinx-rtd-tutorial.readthedocs.io/en/latest/docstrings.html): Often used with Sphinx, this style supports extensive formatting options and compatibility with reStructuredText-based documentation tools.\n",
        "\n",
        "<br>\n",
        "\n",
        "For more in-depth information on writing effective docstrings, check out this [article on docstrings](https://www.dataquest.io/blog/documenting-in-python-with-docstrings/).\n"
      ],
      "metadata": {
        "id": "vVNXZ9nwYeFc"
      }
    },
    {
      "cell_type": "code",
      "source": [
        "# Google Style Example\n",
        "def scream(some_string: str) -> None:\n",
        "  \"\"\"Scream out the input string.\n",
        "\n",
        "  Converts all characters in a string to uppercase to simulate screaming. The longer the string, the more exclamation marks will be added at the end.\n",
        "\n",
        "  Args:\n",
        "    some_string (str): The string to convert to uppercase.\n",
        "\n",
        "  Returns:\n",
        "    None\n",
        "\n",
        "  Raises:\n",
        "    TypeError: If the input is not a string.\n",
        "    ValueError: If the input is an empty string.\n",
        "\n",
        "  Examples:\n",
        "    >>> scream_at_my_face(\"go home denis, you are drunk\")\n",
        "    GO HOME DENIS, YOU ARE DRUNK!!!!!!!!!!!!!!\n",
        "  \"\"\"\n",
        "  if not isinstance(some_string, str):\n",
        "    raise TypeError(f\"Expected a string, instead got: {type(some_string)}\")\n",
        "\n",
        "  some_string = some_string.strip()\n",
        "\n",
        "  if not some_string:\n",
        "    raise ValueError(\"Expected a non-empty string\")\n",
        "\n",
        "  volume = max(len(some_string) // 2, 1)\n",
        "  print(f\"{some_string.upper()}{'!' * volume}\")"
      ],
      "metadata": {
        "id": "NijtRom7gfND"
      },
      "execution_count": null,
      "outputs": []
    },
    {
      "cell_type": "markdown",
      "source": [
        "Now, if you use the `help()` function or hover your mouse over the function name in the code cell or an editor, the tooltip will show the function signature along with the docstring.\n",
        "\n",
        "This makes it much easier to quickly understand what the function does, its parameters, and any exceptions it may raise.\n"
      ],
      "metadata": {
        "id": "Gf-VezhYiJgm"
      }
    },
    {
      "cell_type": "code",
      "source": [
        "help(scream)"
      ],
      "metadata": {
        "colab": {
          "base_uri": "https://localhost:8080/"
        },
        "id": "hDoyPX9hiPxW",
        "outputId": "84a9302e-f1b9-4bc7-fdce-9d4464aad863"
      },
      "execution_count": null,
      "outputs": [
        {
          "output_type": "stream",
          "name": "stdout",
          "text": [
            "Help on function scream in module __main__:\n",
            "\n",
            "scream(some_string: str) -> None\n",
            "    Scream out the input string.\n",
            "    \n",
            "    Converts all characters in a string to uppercase to simulate screaming. The longer the string, the more exclamation marks will be added at the end.\n",
            "    \n",
            "    Args:\n",
            "      some_string (str): The string to convert to uppercase.\n",
            "    \n",
            "    Returns:\n",
            "      None\n",
            "    \n",
            "    Raises:\n",
            "      TypeError: If the input is not a string.\n",
            "      ValueError: If the input is an empty string.\n",
            "    \n",
            "    Examples:\n",
            "      >>> scream_at_my_face(\"go home denis, you are drunk\")\n",
            "      GO HOME DENIS, YOU ARE DRUNK!!!!!!!!!!!!!!\n",
            "\n"
          ]
        }
      ]
    },
    {
      "cell_type": "code",
      "source": [
        "# Try hovering your mouse over the the function name\n",
        "scream(\"hello\")\n",
        "scream(\"Mr. Potato Head, this is the last time I am going to tell you this. Stop removing your eyes\")"
      ],
      "metadata": {
        "colab": {
          "base_uri": "https://localhost:8080/"
        },
        "id": "GlIXnnbfhihr",
        "outputId": "421c0b7b-fe75-43f7-85ba-c50ef4cdcdec"
      },
      "execution_count": null,
      "outputs": [
        {
          "output_type": "stream",
          "name": "stdout",
          "text": [
            "HELLO!!\n",
            "MR. POTATO HEAD, THIS IS THE LAST TIME I AM GOING TO TELL YOU THIS. STOP REMOVING YOUR EYES!!!!!!!!!!!!!!!!!!!!!!!!!!!!!!!!!!!!!!!!!!!!!\n"
          ]
        }
      ]
    },
    {
      "cell_type": "markdown",
      "source": [
        "## **Functional Programming Concepts**\n",
        "\n"
      ],
      "metadata": {
        "id": "0GiASWE7xRbs"
      }
    },
    {
      "cell_type": "markdown",
      "source": [
        "### **Lambda Functions**\n",
        "\n",
        "Lambda functions are small, anonymous functions that can have any number of arguments but can only have one expression. They are useful for short operations that don't need a full function definition.\n",
        "\n",
        "**Key Concepts**\n",
        "\n",
        "- **Single Expression Only**\n",
        "\n",
        "  A lambda function can only contain one expression, which is evaluated and returned.\n",
        "\n",
        "- **Can be used as function arguments**\n",
        "\n",
        "  Lambda functions can be passed as arguments to higher-order functions like `map()`, `filter()`, and `sorted()`.\n",
        "  \n",
        "- **Useful for sorting and filtering**\n",
        "\n",
        "  They are often used for single usage operations like sorting lists or filtering data without needing a named function.\n",
        "\n",
        "- **Should be simple and readable**\n",
        "\n",
        "  Lambda functions are best for simple operations; complex logic should be implemented in a regular function for clarity.\n",
        "\n",
        "<br>\n",
        "\n",
        "**Syntax**\n",
        "\n",
        "```python\n",
        "lambda arguments: expression\n",
        "```\n"
      ],
      "metadata": {
        "id": "-F-K0eG5xRLz"
      }
    },
    {
      "cell_type": "markdown",
      "source": [
        "To show how lambda functions truely work underneath the hood. Here's a few lambda functions and their equivalent functions if they were defined like a regular function:"
      ],
      "metadata": {
        "id": "CgioQ_iPqvhK"
      }
    },
    {
      "cell_type": "code",
      "source": [
        "def square_verbose(x):\n",
        "  return x ** 2\n",
        "\n",
        "square = lambda x: x ** 2\n",
        "\n",
        "print(square_verbose(3))\n",
        "print(square(3))"
      ],
      "metadata": {
        "colab": {
          "base_uri": "https://localhost:8080/"
        },
        "id": "Di7WTd8cze9c",
        "outputId": "d3cd240a-7f4d-4ed2-8330-20f472b40356"
      },
      "execution_count": null,
      "outputs": [
        {
          "output_type": "stream",
          "name": "stdout",
          "text": [
            "9\n",
            "9\n"
          ]
        }
      ]
    },
    {
      "cell_type": "code",
      "source": [
        "def get_max_verbose(a, b):\n",
        "  return a if a > b else b\n",
        "\n",
        "get_max = lambda a, b: a if a > b else b\n",
        "\n",
        "print(get_max_verbose(1, 2))\n",
        "print(get_max(1, 2))"
      ],
      "metadata": {
        "colab": {
          "base_uri": "https://localhost:8080/"
        },
        "id": "Yiqo0H3trKKz",
        "outputId": "10defcc9-7cb6-4f57-d87d-5c6b825ad1d9"
      },
      "execution_count": null,
      "outputs": [
        {
          "output_type": "stream",
          "name": "stdout",
          "text": [
            "2\n",
            "2\n"
          ]
        }
      ]
    },
    {
      "cell_type": "markdown",
      "source": [
        "We can rewrite our `greet()` function to a lambda function that takes multiple arguments since it's a single expression function:\n"
      ],
      "metadata": {
        "id": "FZsOihwG0IlU"
      }
    },
    {
      "cell_type": "code",
      "source": [
        "# Lambda with multiple arguments\n",
        "greet_l = lambda name, greeting: f\"{greeting}, {name}!\"\n",
        "\n",
        "print(greet_l(\"Alice\", \"Hello\"))\n",
        "print(greet_l(\"Bob\", \"Hi\"))"
      ],
      "metadata": {
        "colab": {
          "base_uri": "https://localhost:8080/"
        },
        "id": "kcdQ_VHfzo-l",
        "outputId": "300be4e5-1059-4ab6-ff14-898ab355519c"
      },
      "execution_count": null,
      "outputs": [
        {
          "output_type": "stream",
          "name": "stdout",
          "text": [
            "Hello, Alice!\n",
            "Hi, Bob!\n"
          ]
        }
      ]
    },
    {
      "cell_type": "markdown",
      "source": [
        "Here are a couple more examples for lambda functions:\n"
      ],
      "metadata": {
        "id": "UVO06Vs60tVf"
      }
    },
    {
      "cell_type": "code",
      "source": [
        "# Lambda with conditional logic\n",
        "is_adult = lambda age: \"Adult\" if age >= 18 else \"Minor\"\n",
        "print(is_adult(25))\n",
        "print(is_adult(15))"
      ],
      "metadata": {
        "colab": {
          "base_uri": "https://localhost:8080/"
        },
        "id": "ZVf6dAUF0d4l",
        "outputId": "14b5f305-27f4-4034-f4f5-d7dd6f7e5e76"
      },
      "execution_count": null,
      "outputs": [
        {
          "output_type": "stream",
          "name": "stdout",
          "text": [
            "Adult\n",
            "Minor\n"
          ]
        }
      ]
    },
    {
      "cell_type": "code",
      "source": [
        "# Lambda with list comprehension\n",
        "format_names = lambda lst: [str(x).title() for x in lst]\n",
        "print(format_names([\"alice\", \"BOB\", \"ChArLiE\"]))\n",
        "\n",
        "flatten_list = lambda lst: [item for sublist in lst for item in sublist]\n",
        "print(flatten_list([[1, 2, 3], [4, 5], [6, 7, 8, 9]]))"
      ],
      "metadata": {
        "colab": {
          "base_uri": "https://localhost:8080/"
        },
        "id": "tahUfXrP03EK",
        "outputId": "c911614d-3d3b-4622-d0c6-f4601c6d42fd"
      },
      "execution_count": null,
      "outputs": [
        {
          "output_type": "stream",
          "name": "stdout",
          "text": [
            "['Alice', 'Bob', 'Charlie']\n",
            "[1, 2, 3, 4, 5, 6, 7, 8, 9]\n"
          ]
        }
      ]
    },
    {
      "cell_type": "markdown",
      "source": [
        "> 💡 Lambda functions are most commonly used with [higher-order functions](#scrollTo=XR0znysK2u90), which we will cover in the next section.\n"
      ],
      "metadata": {
        "id": "X9PWo__n1fSd"
      }
    },
    {
      "cell_type": "markdown",
      "source": [
        "#### **Example: Sort Dictionaries by Keys**\n",
        "\n",
        "Let's look at an example where we create a function that sorts a list of dictionaries of simliar construct (same keys) by the specified key.\n"
      ],
      "metadata": {
        "id": "Kfk5UEIm2N9Z"
      }
    },
    {
      "cell_type": "code",
      "source": [
        "def sort_objects(objects: list[dict[str, Any]], sort_key: str, reverse: bool=False) -> list[dict]:\n",
        "  \"\"\"Sort a list of dictionaries by a single key.\n",
        "\n",
        "  Args:\n",
        "    objects (list[dict[str, Any]]): List of dictionaries to sort\n",
        "    sort_key (str): The dictionary key to sort by\n",
        "    reverse (bool): Whether to reverse the sort\n",
        "\n",
        "  Returns:\n",
        "    Sorted list of dictionaries\n",
        "  \"\"\"\n",
        "  return sorted(\n",
        "      objects,\n",
        "      key=lambda x: x.get(sort_key, \"\"), # This will return the value of the sort_key which the sorted function will sort base on the values\n",
        "      reverse=reverse\n",
        "  )\n",
        "\n",
        "\n",
        "data = [\n",
        "    {\"name\": \"Timmy\", \"age\": 35, \"salary\": 60000},\n",
        "    {\"name\": \"John\", \"age\": 25, \"salary\": 55000},\n",
        "    {\"name\": \"Andrea\", \"age\": 30, \"salary\": 75000}\n",
        "]\n",
        "\n",
        "print(\"Sort by age:\", sort_objects(data, \"age\"))\n",
        "print(\"Sort by name:\", sort_objects(data, \"name\"))\n",
        "print(\"Sort by salary (rev):\", sort_objects(data, \"salary\", reverse=True)) # Sort by salary (descending)"
      ],
      "metadata": {
        "colab": {
          "base_uri": "https://localhost:8080/"
        },
        "id": "3Qocyoms2uex",
        "outputId": "c6f5fd17-fc2d-4fad-a6a2-3ab1102c859a"
      },
      "execution_count": null,
      "outputs": [
        {
          "output_type": "stream",
          "name": "stdout",
          "text": [
            "Sort by age: [{'name': 'John', 'age': 25, 'salary': 55000}, {'name': 'Andrea', 'age': 30, 'salary': 75000}, {'name': 'Timmy', 'age': 35, 'salary': 60000}]\n",
            "Sort by name: [{'name': 'Andrea', 'age': 30, 'salary': 75000}, {'name': 'John', 'age': 25, 'salary': 55000}, {'name': 'Timmy', 'age': 35, 'salary': 60000}]\n",
            "Sort by salary (rev): [{'name': 'Andrea', 'age': 30, 'salary': 75000}, {'name': 'Timmy', 'age': 35, 'salary': 60000}, {'name': 'John', 'age': 25, 'salary': 55000}]\n"
          ]
        }
      ]
    },
    {
      "cell_type": "markdown",
      "source": [
        "### **Higher-Order Functions**\n",
        "\n",
        "Higher-order functions are functions that can either:\n",
        "\n",
        "- Accept other functions as arguments\n",
        "- Return functions as results\n",
        "- Perform both of the above\n",
        "\n",
        "Here are a few examples of higher-order functions:\n"
      ],
      "metadata": {
        "id": "XR0znysK2u90"
      }
    },
    {
      "cell_type": "markdown",
      "source": [
        "#### **Example 1: BYOP (Bring Your Own *(string)* Processing)**\n",
        "\n",
        "This function takes a string and applies a specified function to it, along with any additional arguments.\n",
        "\n",
        "<br>\n",
        "\n",
        "**Components**\n",
        "\n",
        "-\t**Parameters**\n",
        "\t-\t*`text` (str):* The input string to be processed.\n",
        "\t-\t*`func` (Callable):* A function that will be applied to `text`. The function should take a string as its first argument and return a modified string.\n",
        "\t-\t_`*args`:_ Additional positional arguments that may be required by `func`.\n",
        "\t-\t*`**kwargs`:* Additional keyword arguments that may be required by `func`.\n",
        "\n",
        "-\t**Returns**\n",
        "\t-\tA processed string, which is the result of applying `func` to `text` with any optional arguments.\n",
        "\n",
        "<br>\n",
        "\n",
        "**Explanation**\n",
        "\n",
        "1.\tApplying the Function:\n",
        "\n",
        "  `process_string` calls the function `func` on `text`, passing any extra `*args` or `**kwargs` as needed by the function. This makes `process_string` adaptable to different kinds of string processing functions.\n"
      ],
      "metadata": {
        "id": "J6mRuWC-HYVS"
      }
    },
    {
      "cell_type": "code",
      "source": [
        "# Process a string with your function of choice\n",
        "def process_string(text: str, func: Callable[[str], str], *args, **kwargs) -> str:\n",
        "  return func(text, *args, **kwargs)\n",
        "\n",
        "print(process_string(\"hello world\", str.upper))\n",
        "print(process_string(\"tiMoTHy\", str.title))\n",
        "print(process_string(\"hello\", lambda x: x[::-1])) # Reverse a string\n",
        "print(process_string(\"a quick brown fox jumps over another fox\", str.replace, \"fox\", \"dog\"))"
      ],
      "metadata": {
        "colab": {
          "base_uri": "https://localhost:8080/"
        },
        "id": "C-4xc2hS7u_T",
        "outputId": "f83e2b8a-0458-447d-b288-3c104a2f990b"
      },
      "execution_count": null,
      "outputs": [
        {
          "output_type": "stream",
          "name": "stdout",
          "text": [
            "HELLO WORLD\n",
            "Timothy\n",
            "olleh\n",
            "a quick brown dog jumps over another dog\n"
          ]
        }
      ]
    },
    {
      "cell_type": "markdown",
      "source": [
        "#### **Example 2: Create Logger**\n",
        "\n",
        "This function creates custom logging functions with flexible log levels and timezone options to generate time-stamped log messages with a consistent format.\n",
        "\n",
        "<br>\n",
        "\n",
        "**Components**\n",
        "\n",
        "-\t**Parameters**\n",
        "\t- *`log_level` (str):* Specifies the log level or prefix (e.g., \"INFO\", \"WARNING\").\n",
        "  - *`timezone` (str):* An optional parameter with a default value of \"America/New_York\" that sets the timezone for the timestamp using `pytz`.\n",
        "\t- *`cache_len` (list):* A mutable list that stores the length of the longest `log_level`. This ensures all log entries align properly by standardizing the width of the log level display. A list of one integer can be provided to modify the prefix width but it needs to be larger than the length of `log_level`.\n",
        "\n",
        "- **Returns**\n",
        "\t- A logger function, which takes a single `message` parameter (the log message) and prints it with a formatted timestamp and log level prefix.\n",
        "\n",
        "<br>\n",
        "\n",
        "**Explanation**\n",
        "\n",
        "1.\tUpdating `cache_len` for Alignment:\n",
        "\n",
        "  `cache_len` is initialized as an empty list, storing the longest `log_level` length found so far. Using a mutable default argument allows each call to `create_logger` to share this list and alignment using the proper character length.\n",
        "\n",
        "\t-\tIf `cache_len` is empty, it initializes with the current `log_level` length.\n",
        "\t-\tIf `cache_len` already has a value, it updates only if the new `log_level` length is greater than the stored length.\n",
        "\n",
        "2.\tDefining the `logger` Inner Function:\n",
        "\n",
        "\tThis inner function `logger` formats and prints log messages using:\n",
        "\n",
        "    -\t`log_level`, left-aligned according to `cache_len[0]` to ensure consistent width across different loggers.\n",
        "    -\t`current_time`, a timestamp based on the `timezone` argument.\n",
        "    -\t`message`, the message to be logged.\n",
        "\n",
        "3.\tReturning the `logger` Function:\n",
        "\n",
        "  The `create_logger` function returns this `logger` function, which can be used as a customized logger with a prefix.\n"
      ],
      "metadata": {
        "id": "FQwQkK0mIkEi"
      }
    },
    {
      "cell_type": "code",
      "source": [
        "from datetime import datetime\n",
        "import pytz\n",
        "\n",
        "def create_logger(log_level: str, timezone: str=\"America/New_York\", cache_len: list=[]) -> Callable[[str], None]:\n",
        "  length = len(log_level)\n",
        "  if not cache_len:\n",
        "    cache_len.append(length)\n",
        "  else:\n",
        "    if length > cache_len[0]:\n",
        "      cache_len[0] = length\n",
        "\n",
        "  def logger(message: str) -> None:\n",
        "    current_time = datetime.strftime(datetime.now(tz=pytz.timezone(timezone)), \"%Y-%m-%d %H:%M:%S\")\n",
        "    print(f\"{log_level:<{cache_len[0]}} - {current_time} - {message}\")\n",
        "\n",
        "  return logger\n",
        "\n",
        "\n",
        "info_logger = create_logger(\"INFO\")\n",
        "warning_logger = create_logger(\"WARNING\")\n",
        "\n",
        "info_logger(\"This is an info message\")\n",
        "warning_logger(\"This is a warning message\")"
      ],
      "metadata": {
        "colab": {
          "base_uri": "https://localhost:8080/"
        },
        "id": "T0hMDWJrBBb0",
        "outputId": "be7efee6-c1b5-45fa-8567-a92578488a1d"
      },
      "execution_count": null,
      "outputs": [
        {
          "output_type": "stream",
          "name": "stdout",
          "text": [
            "INFO    - 2024-10-31 20:42:06 - This is an info message\n",
            "WARNING - 2024-10-31 20:42:06 - This is a warning message\n"
          ]
        }
      ]
    },
    {
      "cell_type": "markdown",
      "source": [
        "#### **Common Higher-Order Functions in Python**\n",
        "\n",
        "- `map()`\n",
        "- `filter()`\n",
        "- `reduce()`\n",
        "\n",
        "> 💡 These functions are very often used with [lambda functions](#scrollTo=-F-K0eG5xRLz)\n"
      ],
      "metadata": {
        "id": "9iKeKO2i7lrA"
      }
    },
    {
      "cell_type": "markdown",
      "source": [
        "##### **`map()`**\n",
        "\n",
        "Applies a function to every item in an iterable, creating a new iterable with the results. Useful for transforming data without using loops.\n"
      ],
      "metadata": {
        "id": "O-ic2tDwRbxX"
      }
    },
    {
      "cell_type": "code",
      "source": [
        "# Squaring a list of numbers\n",
        "numbers = [1, 2, 3, 4, 5]\n",
        "squared_numbers = list(map(lambda x: x ** 2, numbers))\n",
        "print(squared_numbers)"
      ],
      "metadata": {
        "id": "HVzA85-_xgt4",
        "colab": {
          "base_uri": "https://localhost:8080/"
        },
        "outputId": "9fee1478-fb14-4080-af51-e774e50c5b35"
      },
      "execution_count": null,
      "outputs": [
        {
          "output_type": "stream",
          "name": "stdout",
          "text": [
            "[1, 4, 9, 16, 25]\n"
          ]
        }
      ]
    },
    {
      "cell_type": "code",
      "source": [
        "# Process a list of names\n",
        "names = [\"Janice\", \"Allen  \", \"\\nBarba\"]\n",
        "processed_names = list(map(lambda x: x.strip().upper(), names))\n",
        "print(processed_names)"
      ],
      "metadata": {
        "colab": {
          "base_uri": "https://localhost:8080/"
        },
        "id": "XYnh18ELRbW7",
        "outputId": "f8ed9825-9fe1-452a-b6c8-7dce2b46635b"
      },
      "execution_count": null,
      "outputs": [
        {
          "output_type": "stream",
          "name": "stdout",
          "text": [
            "['JANICE', 'ALLEN', 'BARBA']\n"
          ]
        }
      ]
    },
    {
      "cell_type": "markdown",
      "source": [
        "##### **`filter()`**\n",
        "\n",
        "Selects items from an iterable based on a function that returns `True` or `False`, returning only items that meet the condition.\n"
      ],
      "metadata": {
        "id": "7Qd5Mz57UF9z"
      }
    },
    {
      "cell_type": "code",
      "source": [
        "# Filter even numbers\n",
        "numbers = [1, 2, 3, 4, 5]\n",
        "even_numbers = list(filter(lambda x: x % 2 == 0, numbers))\n",
        "print(even_numbers)\n",
        "\n",
        "# Filter number greater than or equal to 3\n",
        "filtered_numbers = list(filter(lambda x: x >= 3, numbers))\n",
        "print(filtered_numbers)"
      ],
      "metadata": {
        "colab": {
          "base_uri": "https://localhost:8080/"
        },
        "id": "ZCp7OiK7UemX",
        "outputId": "342406f3-e495-4883-f969-de36dfcd76ff"
      },
      "execution_count": null,
      "outputs": [
        {
          "output_type": "stream",
          "name": "stdout",
          "text": [
            "[2, 4]\n",
            "[3, 4, 5]\n"
          ]
        }
      ]
    },
    {
      "cell_type": "code",
      "source": [
        "# Get people who attended an event\n",
        "def attended_event(attendees: list[dict[str, Any]]) -> list[dict[str, str]]:\n",
        "  attended = list(filter(lambda x: x[\"attended\"], attendees))\n",
        "  return [p[\"name\"] for p in attended]\n",
        "\n",
        "# Get people who are late\n",
        "def is_late(attendees: list[dict[str, Any]], scheduled_time: str) -> list[dict[str, str]]:\n",
        "  hr, min = scheduled_time.split(\":\")\n",
        "  attended = list(filter(lambda x: x[\"attended\"], attendees))\n",
        "  arrived_same_hr = list(filter(lambda x: int(x[\"time_arrived\"].split(\":\")[0]) >= int(hr), attended))\n",
        "  late = list(filter(lambda x: int(x[\"time_arrived\"].split(\":\")[1]) > int(min), arrived_same_hr))\n",
        "  return [p[\"name\"] for p in late]\n",
        "\n",
        "attendees = [\n",
        "    {\"name\": \"Andy\", \"attended\": True, \"time_arrived\": \"11:34\"},\n",
        "    {\"name\": \"Joclyn\", \"attended\": True, \"time_arrived\": \"12:00\"},\n",
        "    {\"name\": \"Chandler\", \"attended\": True, \"time_arrived\": \"12:01\"},\n",
        "    {\"name\": \"David\", \"attended\": False, \"time_arrived\": \"\"}\n",
        "]\n",
        "\n",
        "present_attendees = attended_event(attendees)\n",
        "print(present_attendees)\n",
        "\n",
        "late_attendees = is_late(attendees, scheduled_time=\"12:00\")\n",
        "print(late_attendees)"
      ],
      "metadata": {
        "colab": {
          "base_uri": "https://localhost:8080/"
        },
        "id": "AHVHKLvLUFX3",
        "outputId": "6276bbeb-d19d-41ea-c14a-5a0e6be90118"
      },
      "execution_count": null,
      "outputs": [
        {
          "output_type": "stream",
          "name": "stdout",
          "text": [
            "['Andy', 'Joclyn', 'Chandler']\n",
            "['Chandler']\n"
          ]
        }
      ]
    },
    {
      "cell_type": "markdown",
      "source": [
        "##### **`reduce()` (Additional Material)**\n",
        "\n",
        "The `reduce()` function successively reduces an iterable to a single cumulative value by applying a specified function to pairs of items. The function used with reduce must accept two positional arguments, as it operates on pairs of items in sequence.\n",
        "\n",
        "It is commonly used for accumulating data, such as summing, multiplying, or otherwise combining items.\n",
        "\n",
        "> 📒 **Note:** reduce() requires importing from the functools module.\n",
        "\n",
        "**Syntax**\n",
        "\n",
        "```python\n",
        "reduce(lambda arg1, arg2: expression, Iterable)\n",
        "```\n"
      ],
      "metadata": {
        "id": "KNJQ7xbdZwCn"
      }
    },
    {
      "cell_type": "code",
      "source": [
        "from functools import reduce"
      ],
      "metadata": {
        "id": "pIQa-aisaW4I"
      },
      "execution_count": null,
      "outputs": []
    },
    {
      "cell_type": "code",
      "source": [
        "# Multiply all the numbers in the list\n",
        "numbers = [2, 3, 2, 5]\n",
        "product = reduce(lambda x, y: x * y, numbers)\n",
        "print(product)"
      ],
      "metadata": {
        "colab": {
          "base_uri": "https://localhost:8080/"
        },
        "id": "95m1NBW_aVY_",
        "outputId": "46768e3d-f51c-423b-ad46-53f700584007"
      },
      "execution_count": null,
      "outputs": [
        {
          "output_type": "stream",
          "name": "stdout",
          "text": [
            "60\n"
          ]
        }
      ]
    },
    {
      "cell_type": "markdown",
      "source": [
        "Here's how the cell above works:\n",
        "\n",
        "1. `reduce` applies a function cumulatively to items in an iterable, from left to right, to reduce them to a single value.\n",
        "2. Lambda Function: The `lambda x, y: x * y` function takes two parameters, `x` and `y`, and multiplies them. This function will be applied to each pair of numbers in numbers in sequence. `x` is the result of the lambda function for the previous pair.\n",
        "3. Reducing the List:\n",
        "  - `reduce` begins with the first two items in numbers (2 and 3) and multiplies them to get 6.\n",
        "  - Then it takes 6 and the next item (2) and multiplies them, resulting in 12.\n",
        "  - Finally, it takes 12 and the last item (5), multiplying them to get 60.\n"
      ],
      "metadata": {
        "id": "hR9UvmbUathV"
      }
    },
    {
      "cell_type": "markdown",
      "source": [
        "###### Examples\n",
        "Here's a couple more examples:\n",
        "\n",
        "> 📒 **Note:** It's okay to not understand the following examples.\n",
        "> - The mental model for `reduce()` and `lambda` functions is pretty tricky.\n",
        "> - Passing functions as arguments also feels weird since we're used to passing values as arguments.\n"
      ],
      "metadata": {
        "id": "ty0mnKzZfaee"
      }
    },
    {
      "cell_type": "code",
      "source": [
        "# Find maximum value\n",
        "numbers = [3, 5, 2, 8, 1]\n",
        "max_value = reduce(lambda x, y: x if x > y else y, numbers)\n",
        "print(max_value)"
      ],
      "metadata": {
        "colab": {
          "base_uri": "https://localhost:8080/"
        },
        "id": "spiNo3arfZwB",
        "outputId": "128a3b3a-ddbe-4fe4-94ed-5bc21b5589e4"
      },
      "execution_count": null,
      "outputs": [
        {
          "output_type": "stream",
          "name": "stdout",
          "text": [
            "8\n"
          ]
        }
      ]
    },
    {
      "cell_type": "code",
      "source": [
        "# Merge multiple dictionaries with conflict resolution\n",
        "dicts = [\n",
        "    {'a': 1, 'b': 2},\n",
        "    {'b': 3, 'c': 4},\n",
        "    {'c': 5, 'd': 6}\n",
        "]\n",
        "\n",
        "def merge_resolve(acc: dict, curr: dict) -> dict:\n",
        "  # Unpack previous dictionary to variable d\n",
        "  d = {**acc}\n",
        "\n",
        "  # If conflicted keys, choose the larger value\n",
        "  for k, v in curr.items():\n",
        "    if k in d:\n",
        "      d[k] = max(d[k], v)\n",
        "    else:\n",
        "      d[k] = v\n",
        "\n",
        "  return d\n",
        "\n",
        "merged = reduce(merge_resolve, dicts)\n",
        "print(merged)"
      ],
      "metadata": {
        "colab": {
          "base_uri": "https://localhost:8080/"
        },
        "id": "cWccsJnRhg2P",
        "outputId": "98c2d27a-9072-43a1-c480-a8fdd16d7c5a"
      },
      "execution_count": null,
      "outputs": [
        {
          "output_type": "stream",
          "name": "stdout",
          "text": [
            "{'a': 1, 'b': 3, 'c': 5, 'd': 6}\n"
          ]
        }
      ]
    },
    {
      "cell_type": "code",
      "source": [
        "# Compose multiple functions into a pipeline that takes a single argument\n",
        "def compose_functions(*funcs) -> Callable:\n",
        "  \"\"\"Compose (nest) multiple functions into a single function.\"\"\"\n",
        "  return reduce(lambda f, g: lambda x: f(g(x)), funcs)\n",
        "\n",
        "to_upper = lambda s: s.upper()\n",
        "remove_spaces = lambda s: s.replace(' ', '')\n",
        "add_exclamation = lambda s: s + '!'\n",
        "\n",
        "# Here we use compose_function to basically create a string processing pipeline\n",
        "pipeline = compose_functions(add_exclamation, to_upper, remove_spaces)\n",
        "print(pipeline(\"a quick brown fox jumps over a box\"))\n",
        "\n",
        "# Here's a url processing pipeline\n",
        "process_url = compose_functions(\n",
        "    lambda s: s.strip('/'),\n",
        "    lambda s: s.replace('http', 'https'),\n",
        "    lambda s: s.lower()\n",
        ")\n",
        "print(process_url(\"HTTP://WWW.GOOGLE.COM/\"))"
      ],
      "metadata": {
        "colab": {
          "base_uri": "https://localhost:8080/"
        },
        "id": "FoFazwqfhBv3",
        "outputId": "3f6b24d5-a754-47d0-e635-db58f347a8aa"
      },
      "execution_count": null,
      "outputs": [
        {
          "output_type": "stream",
          "name": "stdout",
          "text": [
            "AQUICKBROWNFOXJUMPSOVERABOX!\n",
            "https://www.google.com\n"
          ]
        }
      ]
    },
    {
      "cell_type": "code",
      "source": [
        "# @title Verbose version of the above `compose_functions` example\n",
        "def verbose_pipeline(*funcs):\n",
        "  def compose(f, g):\n",
        "    def composed_function(x):\n",
        "      g_result = g(x)\n",
        "      print(f\"After {g.__name__}: {g_result}\")\n",
        "      f_result = f(g_result)\n",
        "      print(f\"After {f.__name__}: {f_result}\")\n",
        "      return f_result\n",
        "    return composed_function\n",
        "\n",
        "  return reduce(compose, funcs)\n",
        "\n",
        "# Make our functions named for better debugging\n",
        "def remove_spaces(s): return s.replace(' ', '')\n",
        "def to_upper(s): return s.upper()\n",
        "def add_exclamation(s): return s + '!'\n",
        "\n",
        "pipeline = verbose_pipeline(add_exclamation, to_upper, remove_spaces)\n",
        "print(pipeline(\"a quick brown fox jumps over a box\"))\n",
        "\n",
        "print(\"=====\")\n",
        "process_url = verbose_pipeline(\n",
        "    lambda s: s.strip('/'),\n",
        "    lambda s: s.replace('http', 'https'),\n",
        "    lambda s: s.lower()\n",
        ")\n",
        "print(process_url(\"HTTP://WWW.GOOGLE.COM/\"))"
      ],
      "metadata": {
        "id": "wW3nHdvdlBAR"
      },
      "execution_count": null,
      "outputs": []
    }
  ]
}