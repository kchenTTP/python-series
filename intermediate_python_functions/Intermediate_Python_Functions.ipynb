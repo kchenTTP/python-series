{
  "nbformat": 4,
  "nbformat_minor": 0,
  "metadata": {
    "colab": {
      "provenance": [],
      "toc_visible": true,
      "authorship_tag": "ABX9TyPRB4UYjwTE8GDD0CFNuwyd",
      "include_colab_link": true
    },
    "kernelspec": {
      "name": "python3",
      "display_name": "Python 3"
    },
    "language_info": {
      "name": "python"
    }
  },
  "cells": [
    {
      "cell_type": "markdown",
      "metadata": {
        "id": "view-in-github",
        "colab_type": "text"
      },
      "source": [
        "<a href=\"https://colab.research.google.com/github/kchenTTP/python-series/blob/main/intermediate_python_functions/Intermediate_Python_Functions.ipynb\" target=\"_parent\"><img src=\"https://colab.research.google.com/assets/colab-badge.svg\" alt=\"Open In Colab\"/></a>"
      ]
    },
    {
      "cell_type": "markdown",
      "source": [
        "# **Intermediate Python Functions**\n",
        "\n",
        "In our fundamentals class, we learned about how to reuse code by defining functions. In this session, we'll deepen our understanding of python functions by covering some more features and best practices.\n",
        "\n",
        "\n",
        "### **Table of Contents**\n",
        "\n",
        "- [Default Parameters](#scrollTo=K3MSR-8x31WE)\n",
        "- [Variable-Length Arguments](#scrollTo=Fkz86bj94ARo)\n",
        "- [Function Scopes](#scrollTo=S5NweR1V40L9)\n",
        "- [Argument Passing](#scrollTo=4Zk7BOGEbGBj)\n",
        "- [Type Hints & Function Documentation](#scrollTo=nQ18LxcjJH90)\n"
      ],
      "metadata": {
        "id": "u77EAJpG99fN"
      }
    },
    {
      "cell_type": "markdown",
      "source": [
        "## **Default Parameters**\n",
        "\n",
        "Default parameters allow you to define functions where some arguments have predetermined values if not specified by the caller. This makes functions more flexible and easier to use. Here's what you need to know about default parameters:\n",
        "\n",
        "- Default parameters must come after non-default parameters\n",
        "- Default values are evaluated when the function is defined, not when it's called\n",
        "- Mutable default arguments (such as a list or dictionary) can cause unexpected behavior\n"
      ],
      "metadata": {
        "id": "K3MSR-8x31WE"
      }
    },
    {
      "cell_type": "code",
      "source": [
        "# Default parameter after required parameter\n",
        "\n",
        "def greet(name, greeting=\"Hello\"):\n",
        "  return f\"{greeting}, {name}!\""
      ],
      "metadata": {
        "id": "rUMQSNZH0FBE"
      },
      "execution_count": 29,
      "outputs": []
    },
    {
      "cell_type": "code",
      "source": [
        "# Error: Default parameter before required parameter\n",
        "\n",
        "def bad_greet(greeting=\"Hello\", name):  # This will cause a SyntaxError\n",
        "  return f\"{greeting}, {name}!\""
      ],
      "metadata": {
        "colab": {
          "base_uri": "https://localhost:8080/",
          "height": 106
        },
        "id": "vPL5ujgw0rd-",
        "outputId": "d510f764-3ef0-4392-b9cf-4156737b03c2"
      },
      "execution_count": 30,
      "outputs": [
        {
          "output_type": "error",
          "ename": "SyntaxError",
          "evalue": "non-default argument follows default argument (<ipython-input-30-708ba64091d4>, line 3)",
          "traceback": [
            "\u001b[0;36m  File \u001b[0;32m\"<ipython-input-30-708ba64091d4>\"\u001b[0;36m, line \u001b[0;32m3\u001b[0m\n\u001b[0;31m    def bad_greet(greeting=\"Hello\", name):  # This will cause a SyntaxError\u001b[0m\n\u001b[0m                                    ^\u001b[0m\n\u001b[0;31mSyntaxError\u001b[0m\u001b[0;31m:\u001b[0m non-default argument follows default argument\n"
          ]
        }
      ]
    },
    {
      "cell_type": "markdown",
      "source": [
        "💡 When using a function with default parameters, the parameters that have default values are optional. If you choose to pass an argument for these parameters, the provided value will override the default one."
      ],
      "metadata": {
        "id": "mvmIBW3y0TS0"
      }
    },
    {
      "cell_type": "code",
      "source": [
        "# Call function with default value\n",
        "print(greet(\"Alice\"))\n",
        "\n",
        "# Override default value\n",
        "print(greet(\"Bob\", \"Hi\"))\n",
        "print(greet(\"Tim\", \"G'day\"))"
      ],
      "metadata": {
        "colab": {
          "base_uri": "https://localhost:8080/"
        },
        "id": "d-gfqxr30fCg",
        "outputId": "c69be00c-c997-4d6c-b072-e34b8d30a095"
      },
      "execution_count": 45,
      "outputs": [
        {
          "output_type": "stream",
          "name": "stdout",
          "text": [
            "Hello, Alice!\n",
            "Hi, Bob!\n",
            "G'day, Tim!\n"
          ]
        }
      ]
    },
    {
      "cell_type": "markdown",
      "source": [
        "### **Common Pitfall: Mutable Default Arguments**\n",
        "\n",
        "When using mutable default arguments, such as *lists* or *dictionaries*. If you modify the mutable object within the function, that change will persist across subsequent calls to the function. This can lead to unexpected behavior, as the default argument will retain its modified state instead of reverting to the initial value.\n",
        "\n",
        "> 💡 To understand why, look at the [Argument Passing](#scrollTo=4Zk7BOGEbGBj) section below.\n",
        "\n",
        "Take a look at the example below:"
      ],
      "metadata": {
        "id": "tyIIC_bz1pT7"
      }
    },
    {
      "cell_type": "code",
      "source": [
        "def duplicated_values(lst, duplicated=[], seen=[]):\n",
        "  \"\"\"Find duplicated values and keep track of all the values in a list.\"\"\"\n",
        "\n",
        "  for item in lst:\n",
        "    if item in seen:\n",
        "      duplicated.append(item)\n",
        "      continue\n",
        "    seen.append(item)\n",
        "  return {\n",
        "      \"duplicated\": duplicated,\n",
        "      \"seen\": seen\n",
        "  }"
      ],
      "metadata": {
        "id": "lWedVv8118TJ"
      },
      "execution_count": 46,
      "outputs": []
    },
    {
      "cell_type": "code",
      "source": [
        "# First call\n",
        "print(duplicated_values([1, 2, 3, 2]))\n",
        "\n",
        "# Second call\n",
        "print(duplicated_values([4, 4, 5, 6]))"
      ],
      "metadata": {
        "colab": {
          "base_uri": "https://localhost:8080/"
        },
        "id": "fJV2urhtCSyK",
        "outputId": "12544b06-8a66-4f20-f686-745b7df7fb2c"
      },
      "execution_count": 47,
      "outputs": [
        {
          "output_type": "stream",
          "name": "stdout",
          "text": [
            "{'duplicated': [2], 'seen': [1, 2, 3]}\n",
            "{'duplicated': [2, 4], 'seen': [1, 2, 3, 4, 5, 6]}\n"
          ]
        }
      ]
    },
    {
      "cell_type": "markdown",
      "source": [
        "As you can see, in our second function call, even though we intended to create a new list with different values, the values from our first function call still appeared.\n",
        "\n",
        "This is because the mutable default argument (the list) retains any changes made to it across all calls to the function. Instead of starting fresh with each call, it continues using the modified list from previous calls.\n",
        "\n",
        "<br>\n",
        "\n",
        "To avoid this pitfall, it's recommended to use `None` as a default value and then create a new mutable object inside the function if needed."
      ],
      "metadata": {
        "id": "rnM5mhmE5CSx"
      }
    },
    {
      "cell_type": "code",
      "source": [
        "def duplicated_values_fixed(lst, duplicated = None, seen = None):\n",
        "  \"\"\"Find duplicated values and keep track of all the values in a list.\"\"\"\n",
        "\n",
        "  if duplicated is None:\n",
        "    duplicated = []\n",
        "  if seen is None:\n",
        "    seen = []\n",
        "\n",
        "  for item in lst:\n",
        "    if item in seen:\n",
        "      duplicated.append(item)\n",
        "      continue\n",
        "    seen.append(item)\n",
        "  return {\n",
        "      \"duplicated\": duplicated,\n",
        "      \"seen\": seen\n",
        "  }"
      ],
      "metadata": {
        "id": "zaKelpNe5vTb"
      },
      "execution_count": 48,
      "outputs": []
    },
    {
      "cell_type": "code",
      "source": [
        "# First call\n",
        "print(duplicated_values_fixed([1, 2, 3, 2]))\n",
        "\n",
        "# Second call\n",
        "print(duplicated_values_fixed([4, 4, 5, 6]))"
      ],
      "metadata": {
        "colab": {
          "base_uri": "https://localhost:8080/"
        },
        "id": "ZbON3GivCfHB",
        "outputId": "6a511bdd-a63d-43bb-a476-84836df577cf"
      },
      "execution_count": 49,
      "outputs": [
        {
          "output_type": "stream",
          "name": "stdout",
          "text": [
            "{'duplicated': [2], 'seen': [1, 2, 3]}\n",
            "{'duplicated': [4], 'seen': [4, 5, 6]}\n"
          ]
        }
      ]
    },
    {
      "cell_type": "markdown",
      "source": [
        "This approach ensures that each call to `duplicated_values_fixed()` creates a new list if one isn't provided, keeping the function's behavior consistent and free from unintended side effects."
      ],
      "metadata": {
        "id": "kJiNGo616V3C"
      }
    },
    {
      "cell_type": "markdown",
      "source": [
        "### **Exercise**\n",
        "\n",
        "Create a function called `format_price()` that formats a price with optional currency and decimal places. Make sure to provide a default value for the parameters so that the function can still be used without explicitly passing them in.\n",
        "\n",
        "- Currency symbol example: $, €, ¥, £\n",
        "- Decimal places:\n",
        "  - `2`: 0.12\n",
        "  - `3`: 1.356\n"
      ],
      "metadata": {
        "id": "TYXQd3W67CGX"
      }
    },
    {
      "cell_type": "code",
      "source": [
        "# Your code Goes here\n"
      ],
      "metadata": {
        "id": "-OsZEABK7mVB"
      },
      "execution_count": null,
      "outputs": []
    },
    {
      "cell_type": "code",
      "source": [
        "# @title Solution\n",
        "\n",
        "def format_price(price, currency=\"$\", decimal_places=2):\n",
        "  return f\"{currency}{price:.{decimal_places}f}\"\n",
        "\n",
        "\n",
        "print(format_price(24.99))\n",
        "print(format_price(24.99, \"€\"))\n",
        "print(format_price(24.99, \"¥\", 0))"
      ],
      "metadata": {
        "cellView": "form",
        "id": "6d_JmYV07o1I"
      },
      "execution_count": null,
      "outputs": []
    },
    {
      "cell_type": "markdown",
      "source": [
        "## **Variable-Length Arguments**\n",
        "\n",
        "Python provides two special parameters for handling variable numbers of arguments: `*args` and `**kwargs`.\n",
        "\n",
        "- `*args`: Collects any number of **positional** arguments into a ***tuple***.\n",
        "- `**kwargs`: Collects any number of **keyword** arguments into a ***dictionary***.\n",
        "\n",
        "> ❗**IMPORTANT:** The order of argument matters:\n",
        ">\n",
        ">  `regular args` → `*args` → `default args` → `**kwargs`\n"
      ],
      "metadata": {
        "id": "Fkz86bj94ARo"
      }
    },
    {
      "cell_type": "code",
      "source": [
        "# Argument ordering\n",
        "def example_function(required, *args, default=\"default\", **kwargs):\n",
        "  print(f\"Required: {required}\")\n",
        "  print(f\"Args: {args}\")\n",
        "  print(f\"Default: {default}\")\n",
        "  print(f\"Kwargs: {kwargs}\")"
      ],
      "metadata": {
        "id": "ehZ0wd4f4Ouk"
      },
      "execution_count": 50,
      "outputs": []
    },
    {
      "cell_type": "markdown",
      "source": [
        "Positional arguments must come before keyword arguments in the function call, or you'll encounter an error.\n"
      ],
      "metadata": {
        "id": "R2mp-B3rUo3X"
      }
    },
    {
      "cell_type": "code",
      "source": [
        "example_function(\"required\", 1, 2, 3, default=\"custom\", extra1=\"value1\", extra2=\"value2\")"
      ],
      "metadata": {
        "colab": {
          "base_uri": "https://localhost:8080/"
        },
        "id": "a1X_YFKtUoL2",
        "outputId": "e57450de-1608-439b-c061-85a41f015883"
      },
      "execution_count": 2,
      "outputs": [
        {
          "output_type": "stream",
          "name": "stdout",
          "text": [
            "Required: required\n",
            "Args: (1, 2, 3)\n",
            "Default: custom\n",
            "Kwargs: {'extra1': 'value1', 'extra2': 'value2'}\n"
          ]
        }
      ]
    },
    {
      "cell_type": "markdown",
      "source": [
        "🚨 Typically, when you pass arguments with their parameter names, like `func(arg1=value)`, the order doesn't matter because each argument is explicitly tied to its parameter. However, if you mix positional arguments (`*args`) and keyword arguments (`**kwargs`), order becomes important.\n"
      ],
      "metadata": {
        "id": "VgqZ6hJOUXNa"
      }
    },
    {
      "cell_type": "markdown",
      "source": [
        "Inside the function, you can access `*args` using indices, as it is stored as a tuple, and you can access `**kwargs` using dictionary keys or methods like `.get()` or `.items()` since it's stored as a dictionary.\n"
      ],
      "metadata": {
        "id": "qikVbSRZGRLP"
      }
    },
    {
      "cell_type": "code",
      "source": [
        "# Accessing args and kwargs\n",
        "def example_function_2(*args, **kwargs):\n",
        "    # Accessing args\n",
        "    print(args[0])  # Access the first positional argument\n",
        "\n",
        "    # Accessing kwargs\n",
        "    print(kwargs.get('name'))  # Access the 'name' keyword argument if it exists\n",
        "    print(kwargs.items())  # Get all key-value pairs as a list of tuples\n",
        "\n",
        "    if 'age' in kwargs:\n",
        "        print(kwargs['age'])  # Access the 'age' keyword argument if it exists"
      ],
      "metadata": {
        "id": "bzUiU1__GCcA"
      },
      "execution_count": 3,
      "outputs": []
    },
    {
      "cell_type": "code",
      "source": [
        "example_function_2(1, 2, 3, name=\"Alice\", age=25)"
      ],
      "metadata": {
        "colab": {
          "base_uri": "https://localhost:8080/"
        },
        "id": "EqMFjiZ0YNRB",
        "outputId": "ef0384b9-558a-4cd5-a5a0-3c9c1b183a12"
      },
      "execution_count": 4,
      "outputs": [
        {
          "output_type": "stream",
          "name": "stdout",
          "text": [
            "1\n",
            "Alice\n",
            "dict_items([('name', 'Alice'), ('age', 25)])\n",
            "25\n"
          ]
        }
      ]
    },
    {
      "cell_type": "markdown",
      "source": [
        "Arguments can also be passed into a funciton in a list (if `*args`) or a dictionary (if `**kwargs`) while being **unpacked** like this:\n"
      ],
      "metadata": {
        "id": "4WYHjVBAVOeG"
      }
    },
    {
      "cell_type": "code",
      "source": [
        "arg_list = [\"apple\", \"banana\", \"kiwi\"]\n",
        "kwarg_dict = {\"name\": \"Alice\", \"age\": 25}\n",
        "\n",
        "example_function_2(*arg_list, **kwarg_dict)"
      ],
      "metadata": {
        "colab": {
          "base_uri": "https://localhost:8080/"
        },
        "id": "cwHMqEQ2VkAw",
        "outputId": "a81db156-bd6b-45f8-83e4-7599ceda162b"
      },
      "execution_count": 5,
      "outputs": [
        {
          "output_type": "stream",
          "name": "stdout",
          "text": [
            "apple\n",
            "Alice\n",
            "dict_items([('name', 'Alice'), ('age', 25)])\n",
            "25\n"
          ]
        }
      ]
    },
    {
      "cell_type": "markdown",
      "source": [
        "- `*arg_list` when passing a list as argument is called list unpacking\n",
        "- `**kwarg_dict` when passing a dictionary as argument is called dictionary unpacking\n"
      ],
      "metadata": {
        "id": "iHogz28pVvJq"
      }
    },
    {
      "cell_type": "markdown",
      "source": [
        "> 📒 **NOTE:** The convention is to use `args` and `kwargs`, but any valid variable name works\n"
      ],
      "metadata": {
        "id": "ONUgGezTFtLf"
      }
    },
    {
      "cell_type": "code",
      "source": [
        "def sum(*numbers):\n",
        "  total = 0\n",
        "  for num in numbers:\n",
        "    total += num\n",
        "  return total\n",
        "\n",
        "print(sum(1, 2, 3))\n",
        "print(sum(4, 5, 6, 7))"
      ],
      "metadata": {
        "colab": {
          "base_uri": "https://localhost:8080/"
        },
        "id": "PyYCUxa1FbxH",
        "outputId": "5f1b94c5-b5c4-433f-ad9d-c0a85be185a6"
      },
      "execution_count": 1,
      "outputs": [
        {
          "output_type": "stream",
          "name": "stdout",
          "text": [
            "6\n",
            "22\n"
          ]
        }
      ]
    },
    {
      "cell_type": "markdown",
      "source": [
        "### **Keyword-Only Arguments**\n",
        "\n",
        "You can use `*` to enforce that any parameter defined after `*` must be passed as a keyword argument.\n",
        "\n",
        "This means you must specify the parameter name when passing arguments to these parameters; otherwise, you'll get an error.\n",
        "\n",
        "> 📒 **Note**: This approach is especially useful for improving code readability and preventing accidental errors in function calls.\n"
      ],
      "metadata": {
        "id": "fA_tm77FARbA"
      }
    },
    {
      "cell_type": "code",
      "source": [
        "def greet_modified(name, *, greeting=\"Hello\"):\n",
        "  return f\"{greeting}, {name}!\"\n",
        "\n",
        "print(greet_modified(\"Alice\"))\n",
        "print(greet_modified(\"Bob\", greeting=\"Hi\"))"
      ],
      "metadata": {
        "colab": {
          "base_uri": "https://localhost:8080/"
        },
        "id": "Pf2a-olt_AVO",
        "outputId": "68b24b54-3882-4073-a7a5-3a57f6e7a9b8"
      },
      "execution_count": 14,
      "outputs": [
        {
          "output_type": "stream",
          "name": "stdout",
          "text": [
            "Hello, Alice!\n",
            "Hi, Bob!\n"
          ]
        }
      ]
    },
    {
      "cell_type": "code",
      "source": [
        "# Not allowed: Didn't provide parameter name to keyword-only argument\n",
        "print(greet_modified(\"Tom\", \"Morning\"))"
      ],
      "metadata": {
        "colab": {
          "base_uri": "https://localhost:8080/",
          "height": 159
        },
        "id": "scRHGkErC-Gl",
        "outputId": "e97c03eb-82be-4085-9cb2-6cfa3ca5eaeb"
      },
      "execution_count": 15,
      "outputs": [
        {
          "output_type": "error",
          "ename": "TypeError",
          "evalue": "greet_modified() takes 1 positional argument but 2 were given",
          "traceback": [
            "\u001b[0;31m---------------------------------------------------------------------------\u001b[0m",
            "\u001b[0;31mTypeError\u001b[0m                                 Traceback (most recent call last)",
            "\u001b[0;32m<ipython-input-15-102f0f6db3e7>\u001b[0m in \u001b[0;36m<cell line: 0>\u001b[0;34m()\u001b[0m\n\u001b[1;32m      1\u001b[0m \u001b[0;31m# Not allowed: Didn't provide parameter name to keyword-only argument\u001b[0m\u001b[0;34m\u001b[0m\u001b[0;34m\u001b[0m\u001b[0m\n\u001b[0;32m----> 2\u001b[0;31m \u001b[0mprint\u001b[0m\u001b[0;34m(\u001b[0m\u001b[0mgreet_modified\u001b[0m\u001b[0;34m(\u001b[0m\u001b[0;34m\"Tom\"\u001b[0m\u001b[0;34m,\u001b[0m \u001b[0;34m\"Morning\"\u001b[0m\u001b[0;34m)\u001b[0m\u001b[0;34m)\u001b[0m\u001b[0;34m\u001b[0m\u001b[0;34m\u001b[0m\u001b[0m\n\u001b[0m",
            "\u001b[0;31mTypeError\u001b[0m: greet_modified() takes 1 positional argument but 2 were given"
          ]
        }
      ]
    },
    {
      "cell_type": "code",
      "source": [
        "# Not allowed: Arguments in incorrect order\n",
        "print(greet_modified(name=\"Tom\", \"Morning\"))"
      ],
      "metadata": {
        "colab": {
          "base_uri": "https://localhost:8080/",
          "height": 106
        },
        "id": "95xMPZB7DBnU",
        "outputId": "e8d29c61-bfcf-4607-ac9f-dfa7f75ce763"
      },
      "execution_count": 16,
      "outputs": [
        {
          "output_type": "error",
          "ename": "SyntaxError",
          "evalue": "positional argument follows keyword argument (<ipython-input-16-19dfc297c491>, line 2)",
          "traceback": [
            "\u001b[0;36m  File \u001b[0;32m\"<ipython-input-16-19dfc297c491>\"\u001b[0;36m, line \u001b[0;32m2\u001b[0m\n\u001b[0;31m    print(greet_modified(name=\"Tom\", \"Morning\"))\u001b[0m\n\u001b[0m                                              ^\u001b[0m\n\u001b[0;31mSyntaxError\u001b[0m\u001b[0;31m:\u001b[0m positional argument follows keyword argument\n"
          ]
        }
      ]
    },
    {
      "cell_type": "markdown",
      "source": [
        "### **Exercise: Generate API Endpoints**\n",
        "\n",
        "Many APIs allow you to pass multiple parameters to customize requests.\n",
        "\n",
        "Let's write a function that takes:\n",
        "1. a base API endpoint as argument\n",
        "2. your API key as argument\n",
        "3. a variable number of API parameters as keyword arguments\n",
        "\n",
        "This function will then generate a complete API URL with the parameters included.\n",
        "\n",
        "> Hint: Use `?` after the base API endpoint before passing in the parameters and use `&` for multiple API parameters\n",
        ">\n",
        "> Example: `https://www.google.com/search?q=apple&sourceid=chrome&ie=UTF-8`\n",
        "\n"
      ],
      "metadata": {
        "id": "9exNnxHXD16V"
      }
    },
    {
      "cell_type": "code",
      "source": [
        "example_endpoint = \"https://example.com/api\"\n",
        "api_key = \"my_api_key_123\"\n",
        "params = {\"format\": \"json\", \"limit\": 10}"
      ],
      "metadata": {
        "id": "-RdklVkPEsOM"
      },
      "execution_count": 9,
      "outputs": []
    },
    {
      "cell_type": "code",
      "source": [
        "# Your code goes here\n"
      ],
      "metadata": {
        "id": "HaWFYCyREyMN"
      },
      "execution_count": null,
      "outputs": []
    },
    {
      "cell_type": "code",
      "source": [
        "# @title Solution\n",
        "\n",
        "def generate_api_endpoint(base_url, api_key, **params):\n",
        "  url = f\"{base_url}?api_key={api_key}\"\n",
        "  for key, value in params.items():\n",
        "    url += f\"&{key}={value}\"\n",
        "  return url\n",
        "\n",
        "# Test solution\n",
        "url = generate_api_endpoint(example_endpoint, api_key, format=\"json\", limit=10)\n",
        "print(url)\n",
        "url = generate_api_endpoint(example_endpoint, api_key, **params)\n",
        "print(url)"
      ],
      "metadata": {
        "cellView": "form",
        "id": "dw50gXyzE2p7"
      },
      "execution_count": null,
      "outputs": []
    },
    {
      "cell_type": "markdown",
      "source": [
        "## **Function Scopes**\n",
        "\n",
        "Function scopes define the accessibility and ***lifespan of variables*** within different parts of a program. Understanding scopes help prevent variable conflicts and ensures that functions work as intended by controlling where and how variables can be accessed. Here's what you need to know:\n",
        "\n",
        "- **Local Scope**: Variables defined within a function are local to that function and can't be accessed outside of it.\n",
        "- **Global Scope**: Variables defined outside any function are in the global scope and can be accessed from anywhere in the program, including inside functions (unless there's a variable inside the function that shares the same name).\n",
        "- **Nonlocal Scope**: Variables in a nested (enclosing) function can be accessed and modified in an inner function using the nonlocal keyword.\n",
        "\n",
        "> 📒 **The LEGB Rule**: Python follows the Local, Enclosing, Global, Built-in (LEGB) rule to determine the order of scope resolution.\n"
      ],
      "metadata": {
        "id": "S5NweR1V40L9"
      }
    },
    {
      "cell_type": "markdown",
      "source": [
        "### **Local Scope**\n",
        "\n",
        "Variables defined within a function are only accessible within that function. They cannot be accessed from outside unless explicitly returned.\n"
      ],
      "metadata": {
        "id": "M_uoFGL3Li90"
      }
    },
    {
      "cell_type": "code",
      "source": [
        "# Accessing local variable outside of function\n",
        "def foo():\n",
        "  # local variable\n",
        "  x = 50\n",
        "  print(f\"Local: {x = }\")\n",
        "\n",
        "foo()\n",
        "print(f\"Global: {x = }\")"
      ],
      "metadata": {
        "colab": {
          "base_uri": "https://localhost:8080/",
          "height": 193
        },
        "id": "zuroAM9OLKr4",
        "outputId": "302ed2d0-bffb-416f-f526-3058adb5932b"
      },
      "execution_count": 12,
      "outputs": [
        {
          "output_type": "stream",
          "name": "stdout",
          "text": [
            "Local: x = 50\n"
          ]
        },
        {
          "output_type": "error",
          "ename": "NameError",
          "evalue": "name 'x' is not defined",
          "traceback": [
            "\u001b[0;31m---------------------------------------------------------------------------\u001b[0m",
            "\u001b[0;31mNameError\u001b[0m                                 Traceback (most recent call last)",
            "\u001b[0;32m<ipython-input-12-21a3af6a48e4>\u001b[0m in \u001b[0;36m<cell line: 0>\u001b[0;34m()\u001b[0m\n\u001b[1;32m      6\u001b[0m \u001b[0;34m\u001b[0m\u001b[0m\n\u001b[1;32m      7\u001b[0m \u001b[0mfoo\u001b[0m\u001b[0;34m(\u001b[0m\u001b[0;34m)\u001b[0m\u001b[0;34m\u001b[0m\u001b[0;34m\u001b[0m\u001b[0m\n\u001b[0;32m----> 8\u001b[0;31m \u001b[0mprint\u001b[0m\u001b[0;34m(\u001b[0m\u001b[0;34mf\"Global: {x = }\"\u001b[0m\u001b[0;34m)\u001b[0m\u001b[0;34m\u001b[0m\u001b[0;34m\u001b[0m\u001b[0m\n\u001b[0m",
            "\u001b[0;31mNameError\u001b[0m: name 'x' is not defined"
          ]
        }
      ]
    },
    {
      "cell_type": "markdown",
      "source": [
        "As you can see you'll get a `NameError` because Python cannot access the local variable `x`.\n",
        "\n",
        "> 💡 In order to access the variables within a function outside the function itself, you need to explicitly return it to the outside.\n"
      ],
      "metadata": {
        "id": "xhLTU8pRQe1B"
      }
    },
    {
      "cell_type": "code",
      "source": [
        "# Return local variable outside the function\n",
        "def bar():\n",
        "  y = 300\n",
        "  return y\n",
        "\n",
        "result = bar()\n",
        "print(f\"Global: {result = }\")"
      ],
      "metadata": {
        "colab": {
          "base_uri": "https://localhost:8080/"
        },
        "id": "10dZcdrHO6Rw",
        "outputId": "1657bcf3-5e02-40d9-d38e-eb3a4d872cda"
      },
      "execution_count": 13,
      "outputs": [
        {
          "output_type": "stream",
          "name": "stdout",
          "text": [
            "Global: result = 300\n"
          ]
        }
      ]
    },
    {
      "cell_type": "markdown",
      "source": [
        "### **Global Scope**\n",
        "\n",
        "Variables defined outside any function are in the `global` scope and can be accessed from anywhere in the program.\n"
      ],
      "metadata": {
        "id": "0iVm908RQFNx"
      }
    },
    {
      "cell_type": "code",
      "source": [
        "# Accessing global variables within a function\n",
        "z = 200\n",
        "\n",
        "def baz():\n",
        "  print(f\"Global: {z = }\")\n",
        "\n",
        "baz()"
      ],
      "metadata": {
        "colab": {
          "base_uri": "https://localhost:8080/"
        },
        "id": "DP97yYDNOaV-",
        "outputId": "dda8905c-9f03-4df4-b8c7-791c2b7545b9"
      },
      "execution_count": 14,
      "outputs": [
        {
          "output_type": "stream",
          "name": "stdout",
          "text": [
            "Global: z = 200\n"
          ]
        }
      ]
    },
    {
      "cell_type": "markdown",
      "source": [
        "> 🚨 You are, however, not allowed to reassign global variables within a function. Doing so will result in a new local variable with the same name being created."
      ],
      "metadata": {
        "id": "lmWMpLlgSwMt"
      }
    },
    {
      "cell_type": "code",
      "source": [
        "# Reassigning global variables within a function\n",
        "w = \"Hello\"\n",
        "\n",
        "def qux():\n",
        "  # Attempting to reassing new value\n",
        "  w = \"World\"\n",
        "  print(f\"Local: {w = }\")\n",
        "\n",
        "qux()\n",
        "print(f\"Global: {w = }\")"
      ],
      "metadata": {
        "colab": {
          "base_uri": "https://localhost:8080/"
        },
        "id": "PUrSImRYSsy5",
        "outputId": "e7ec8f70-33d7-4155-8c65-09419eb7288b"
      },
      "execution_count": 15,
      "outputs": [
        {
          "output_type": "stream",
          "name": "stdout",
          "text": [
            "Local: w = 'World'\n",
            "Global: w = 'Hello'\n"
          ]
        }
      ]
    },
    {
      "cell_type": "markdown",
      "source": [
        "As you can see, we get two different values for `w`. This happens because one value is from the global variable, while the other is from within the function's local scope.\n",
        "\n",
        "If you need to modify a global variable inside a function, it's generally recommended to either:\n",
        "\n",
        "1. Pass the variable as an argument, modify it within the function, and then return the updated value.\n",
        "2. Use the `global` keyword to explicitly declare that you're modifying the global variable.\n"
      ],
      "metadata": {
        "id": "k-PjYjYlNcxs"
      }
    },
    {
      "cell_type": "code",
      "source": [
        "g = 100\n",
        "\n",
        "# Passing global variable as argument\n",
        "def quux(g):\n",
        "  g = 50\n",
        "  print(f\"Local: {g = }\")\n",
        "  return g\n",
        "\n",
        "# Reassigning new value to variable\n",
        "g = quux(g)\n",
        "print(f\"Global: {g = }\")"
      ],
      "metadata": {
        "colab": {
          "base_uri": "https://localhost:8080/"
        },
        "id": "ZR7n-yolN0LU",
        "outputId": "19ddd306-96ca-42ef-c219-c5bc6e2f3775"
      },
      "execution_count": 16,
      "outputs": [
        {
          "output_type": "stream",
          "name": "stdout",
          "text": [
            "Local: g = 50\n",
            "Global: g = 50\n"
          ]
        }
      ]
    },
    {
      "cell_type": "code",
      "source": [
        "# Using the global keyword\n",
        "h = 100\n",
        "\n",
        "def quuz():\n",
        "  # Specify we're using the global variable and not defining a local one\n",
        "  global h\n",
        "  h = 50\n",
        "  print(f\"Local: {h = }\")\n",
        "\n",
        "quuz()\n",
        "print(f\"Global: {h = }\")"
      ],
      "metadata": {
        "colab": {
          "base_uri": "https://localhost:8080/"
        },
        "id": "-11FZ5tpV9Ti",
        "outputId": "21735b30-e224-455f-efaf-a44e1f00907b"
      },
      "execution_count": 17,
      "outputs": [
        {
          "output_type": "stream",
          "name": "stdout",
          "text": [
            "Local: h = 50\n",
            "Global: h = 50\n"
          ]
        }
      ]
    },
    {
      "cell_type": "markdown",
      "source": [
        "### **Nonlocal (Enclosing) Scope**\n",
        "\n",
        "Nonlocal, or enclosing scope, refers to variables defined in a parent function that can be accessed and modified within a nested (inner) function. The `nonlocal` keyword allows you to work with these variables, enabling the inner function to modify the state of variables in its enclosing function.\n",
        "\n",
        "- **Nested Functions**: functions defined inside other functions.\n",
        "- **The `nonlocal` Keyword**: This keyword allows an inner function to modify a variable from the outer (enclosing) function's scope, rather than creating a new local variable.\n",
        "  \n",
        "> 🚨 Using nonlocal scope can be useful for managing state across nested functions without relying on global variables, but should be used thoughtfully to keep the code easy to follow.\n"
      ],
      "metadata": {
        "id": "hy-X4-66Wa0a"
      }
    },
    {
      "cell_type": "code",
      "source": [
        "# Nested functions\n",
        "def outer():\n",
        "  k = \"outer\"\n",
        "  def inner():\n",
        "    k = \"inner\"\n",
        "    print(f\"Inner function: {k = }\")\n",
        "\n",
        "  inner()\n",
        "  print(f\"Outer function: {k = }\")\n",
        "\n",
        "outer()"
      ],
      "metadata": {
        "colab": {
          "base_uri": "https://localhost:8080/"
        },
        "id": "C2mzZikdX_YZ",
        "outputId": "15b65004-a07f-4f72-ec40-89b2886bcde4"
      },
      "execution_count": 18,
      "outputs": [
        {
          "output_type": "stream",
          "name": "stdout",
          "text": [
            "Inner function: k = 'inner'\n",
            "Outer function: k = 'outer'\n"
          ]
        }
      ]
    },
    {
      "cell_type": "code",
      "source": [
        "# Using the nonlocal keyword\n",
        "def outer2():\n",
        "  l = \"outer\"\n",
        "  def inner():\n",
        "    # Specify we're using the variable from the outer function and not defining a local one\n",
        "    nonlocal l\n",
        "    l = \"changed by inner\"\n",
        "    print(f\"Inner function: {l = }\")\n",
        "\n",
        "  inner()\n",
        "  print(f\"Outer function: {l = }\")\n",
        "\n",
        "outer2()"
      ],
      "metadata": {
        "colab": {
          "base_uri": "https://localhost:8080/"
        },
        "id": "ngNl4KUtahth",
        "outputId": "6aedd439-e37d-4441-9329-b17891fdb053"
      },
      "execution_count": 19,
      "outputs": [
        {
          "output_type": "stream",
          "name": "stdout",
          "text": [
            "Inner function: l = 'changed by inner'\n",
            "Outer function: l = 'changed by inner'\n"
          ]
        }
      ]
    },
    {
      "cell_type": "markdown",
      "source": [
        "## **Argument Passing in Python**\n",
        "\n",
        "Python passes arguments to functions **by object reference** (often called \"pass-by-assignment\"). This means that:\n",
        "\n",
        "- `Pass by Value`: For **immutable types** (e.g., integers, strings, tuples), the function receives *a copy* of the reference, and the original object remains *unchanged* if modified inside the function.\n",
        "- `Pass by Reference`: For **mutable types** (e.g., lists, dictionaries), the function receives a reference to the same object, so any in-place modifications affect the original object outside the function.\n"
      ],
      "metadata": {
        "id": "4Zk7BOGEbGBj"
      }
    },
    {
      "cell_type": "code",
      "source": [
        "def modify_value(value):\n",
        "    # Local scope for modify_value\n",
        "    value += 5  # This modifies only the local copy for immutables\n",
        "    return value\n",
        "\n",
        "# Immutable argument passing\n",
        "num = 20\n",
        "print(f\"Before modify_value: {num = }\")\n",
        "num_2 = modify_value(num)\n",
        "print(f\"After modify_value: {num = }\")"
      ],
      "metadata": {
        "colab": {
          "base_uri": "https://localhost:8080/"
        },
        "id": "62dOADYhdWgr",
        "outputId": "4b9a3993-37eb-4fcf-ff2a-65bcc3c17111"
      },
      "execution_count": 30,
      "outputs": [
        {
          "output_type": "stream",
          "name": "stdout",
          "text": [
            "Before modify_value: num = 20\n",
            "After modify_value: num = 20\n"
          ]
        }
      ]
    },
    {
      "cell_type": "markdown",
      "source": [
        "💡 You can see in the example below, the function is modifying the same list, even though it looks like we are passing the list of `[1, 2, 3]` in every time we call the function.\n"
      ],
      "metadata": {
        "id": "oc3rYkW4bp4G"
      }
    },
    {
      "cell_type": "code",
      "source": [
        "def modify_list(my_list):\n",
        "    # Local scope for modify_list\n",
        "    my_list.append(4)  # This modifies the original list (a mutable object)\n",
        "\n",
        "# Mutable argument passing\n",
        "numbers = [1, 2, 3]\n",
        "print(f\"Before modify_list: {numbers = }\")\n",
        "modify_list(numbers)\n",
        "print(f\"After modify_list: {numbers = }\")"
      ],
      "metadata": {
        "colab": {
          "base_uri": "https://localhost:8080/"
        },
        "id": "jdqc9_bXeCSr",
        "outputId": "1b75b5f8-c9e6-4ef7-bdf1-5f9bb01c5409"
      },
      "execution_count": 20,
      "outputs": [
        {
          "output_type": "stream",
          "name": "stdout",
          "text": [
            "Before modify_list: numbers = [1, 2, 3]\n",
            "After modify_list: numbers = [1, 2, 3, 4]\n"
          ]
        }
      ]
    },
    {
      "cell_type": "markdown",
      "source": [
        "## **Type Hints & Function Documentation**\n"
      ],
      "metadata": {
        "id": "nQ18LxcjJH90"
      }
    },
    {
      "cell_type": "markdown",
      "source": [
        "### **Type Hints**\n",
        "\n",
        "Type hints provide a way to annotate code with expected types.\n",
        "\n",
        "<br>\n",
        "\n",
        "**Benefits include:**\n",
        "\n",
        "- **Self-documenting code**\n",
        "  \n",
        "  Clarifies what types are expected, making code easier to read.\n",
        "\n",
        "- **IDE support and code completion**\n",
        "\n",
        "  Enhances code suggestions and error detection in many code editors.\n",
        "\n",
        "- **Static type checking**\n",
        "\n",
        "  Tools like [mypy](https://mypy.readthedocs.io/en/stable/index.html) or [pyright](https://github.com/microsoft/pyright) can catch type-related errors before runtime.\n",
        "\n",
        "- **Ease of understanding and refactoring**\n",
        "\n",
        "  Simplifies the process of understanding code, especially in larger projects.\n",
        "\n",
        "<br>\n",
        "\n",
        "> 📒 **Note**: Type hints do not change the functionality of your code and are completely optional. However, including them can significantly improve the readability and maintainability of your code.\n"
      ],
      "metadata": {
        "id": "87tpeu6uiwir"
      }
    },
    {
      "cell_type": "markdown",
      "source": [
        "Let's look at the difference between a function with type hints and a function without type hints:\n"
      ],
      "metadata": {
        "id": "E6naI8VEdPhn"
      }
    },
    {
      "cell_type": "code",
      "source": [
        "# No type hint example\n",
        "def cube_(number):\n",
        "  return number ** 3\n",
        "\n",
        "number = input(\"Enter a number: \") # input() function returns a string\n",
        "\n",
        "# We don't get a red squiggly line from the code editor because it doesn't know what data type to expect even though this will clearly error\n",
        "print(cube_(number))"
      ],
      "metadata": {
        "colab": {
          "base_uri": "https://localhost:8080/",
          "height": 315
        },
        "id": "3MuipkNgp8TG",
        "outputId": "aaeb3c26-76cb-4c3f-9786-9338dc3991a0"
      },
      "execution_count": 31,
      "outputs": [
        {
          "name": "stdout",
          "output_type": "stream",
          "text": [
            "Enter a number: two\n"
          ]
        },
        {
          "output_type": "error",
          "ename": "TypeError",
          "evalue": "unsupported operand type(s) for ** or pow(): 'str' and 'int'",
          "traceback": [
            "\u001b[0;31m---------------------------------------------------------------------------\u001b[0m",
            "\u001b[0;31mTypeError\u001b[0m                                 Traceback (most recent call last)",
            "\u001b[0;32m<ipython-input-31-30eb611a4aa9>\u001b[0m in \u001b[0;36m<cell line: 0>\u001b[0;34m()\u001b[0m\n\u001b[1;32m      6\u001b[0m \u001b[0;34m\u001b[0m\u001b[0m\n\u001b[1;32m      7\u001b[0m \u001b[0;31m# We don't get a red squiggly line from the code editor because it doesn't know what data type to expect even though this will clearly error\u001b[0m\u001b[0;34m\u001b[0m\u001b[0;34m\u001b[0m\u001b[0m\n\u001b[0;32m----> 8\u001b[0;31m \u001b[0mprint\u001b[0m\u001b[0;34m(\u001b[0m\u001b[0mcube_\u001b[0m\u001b[0;34m(\u001b[0m\u001b[0mnumber\u001b[0m\u001b[0;34m)\u001b[0m\u001b[0;34m)\u001b[0m\u001b[0;34m\u001b[0m\u001b[0;34m\u001b[0m\u001b[0m\n\u001b[0m",
            "\u001b[0;32m<ipython-input-31-30eb611a4aa9>\u001b[0m in \u001b[0;36mcube_\u001b[0;34m(number)\u001b[0m\n\u001b[1;32m      1\u001b[0m \u001b[0;31m# No type hint example\u001b[0m\u001b[0;34m\u001b[0m\u001b[0;34m\u001b[0m\u001b[0m\n\u001b[1;32m      2\u001b[0m \u001b[0;32mdef\u001b[0m \u001b[0mcube_\u001b[0m\u001b[0;34m(\u001b[0m\u001b[0mnumber\u001b[0m\u001b[0;34m)\u001b[0m\u001b[0;34m:\u001b[0m\u001b[0;34m\u001b[0m\u001b[0;34m\u001b[0m\u001b[0m\n\u001b[0;32m----> 3\u001b[0;31m   \u001b[0;32mreturn\u001b[0m \u001b[0mnumber\u001b[0m \u001b[0;34m**\u001b[0m \u001b[0;36m3\u001b[0m\u001b[0;34m\u001b[0m\u001b[0;34m\u001b[0m\u001b[0m\n\u001b[0m\u001b[1;32m      4\u001b[0m \u001b[0;34m\u001b[0m\u001b[0m\n\u001b[1;32m      5\u001b[0m \u001b[0mnumber\u001b[0m \u001b[0;34m=\u001b[0m \u001b[0minput\u001b[0m\u001b[0;34m(\u001b[0m\u001b[0;34m\"Enter a number: \"\u001b[0m\u001b[0;34m)\u001b[0m \u001b[0;31m# input() function returns a string\u001b[0m\u001b[0;34m\u001b[0m\u001b[0;34m\u001b[0m\u001b[0m\n",
            "\u001b[0;31mTypeError\u001b[0m: unsupported operand type(s) for ** or pow(): 'str' and 'int'"
          ]
        }
      ]
    },
    {
      "cell_type": "code",
      "source": [
        "# Basic type hint example\n",
        "def process_string(text: str, times: int = 1) -> str:\n",
        "  return text * times\n",
        "\n",
        "def cube(number: float) -> float:\n",
        "  return number ** 3\n",
        "\n",
        "number = input(\"Enter a number: \") # input() function returns a string\n",
        "\n",
        "# We get a red squiggly line from the code editor because this will raise an error: strings cannot be used in arithmetic operations.\n",
        "print(cube(number))"
      ],
      "metadata": {
        "colab": {
          "base_uri": "https://localhost:8080/",
          "height": 315
        },
        "id": "QcOzjg8PooIY",
        "outputId": "0d7f1030-bfe9-4341-c900-29b3dc2ec376"
      },
      "execution_count": 33,
      "outputs": [
        {
          "name": "stdout",
          "output_type": "stream",
          "text": [
            "Enter a number: two\n"
          ]
        },
        {
          "output_type": "error",
          "ename": "TypeError",
          "evalue": "unsupported operand type(s) for ** or pow(): 'str' and 'int'",
          "traceback": [
            "\u001b[0;31m---------------------------------------------------------------------------\u001b[0m",
            "\u001b[0;31mTypeError\u001b[0m                                 Traceback (most recent call last)",
            "\u001b[0;32m<ipython-input-33-5256f2aeaaac>\u001b[0m in \u001b[0;36m<cell line: 0>\u001b[0;34m()\u001b[0m\n\u001b[1;32m      9\u001b[0m \u001b[0;34m\u001b[0m\u001b[0m\n\u001b[1;32m     10\u001b[0m \u001b[0;31m# We get a red squiggly line from the code editor because this will raise an error: strings cannot be used in arithmetic operations.\u001b[0m\u001b[0;34m\u001b[0m\u001b[0;34m\u001b[0m\u001b[0m\n\u001b[0;32m---> 11\u001b[0;31m \u001b[0mprint\u001b[0m\u001b[0;34m(\u001b[0m\u001b[0mcube\u001b[0m\u001b[0;34m(\u001b[0m\u001b[0mnumber\u001b[0m\u001b[0;34m)\u001b[0m\u001b[0;34m)\u001b[0m\u001b[0;34m\u001b[0m\u001b[0;34m\u001b[0m\u001b[0m\n\u001b[0m",
            "\u001b[0;32m<ipython-input-33-5256f2aeaaac>\u001b[0m in \u001b[0;36mcube\u001b[0;34m(number)\u001b[0m\n\u001b[1;32m      4\u001b[0m \u001b[0;34m\u001b[0m\u001b[0m\n\u001b[1;32m      5\u001b[0m \u001b[0;32mdef\u001b[0m \u001b[0mcube\u001b[0m\u001b[0;34m(\u001b[0m\u001b[0mnumber\u001b[0m\u001b[0;34m:\u001b[0m \u001b[0mfloat\u001b[0m\u001b[0;34m)\u001b[0m \u001b[0;34m->\u001b[0m \u001b[0mfloat\u001b[0m\u001b[0;34m:\u001b[0m\u001b[0;34m\u001b[0m\u001b[0;34m\u001b[0m\u001b[0m\n\u001b[0;32m----> 6\u001b[0;31m   \u001b[0;32mreturn\u001b[0m \u001b[0mnumber\u001b[0m \u001b[0;34m**\u001b[0m \u001b[0;36m3\u001b[0m\u001b[0;34m\u001b[0m\u001b[0;34m\u001b[0m\u001b[0m\n\u001b[0m\u001b[1;32m      7\u001b[0m \u001b[0;34m\u001b[0m\u001b[0m\n\u001b[1;32m      8\u001b[0m \u001b[0mnumber\u001b[0m \u001b[0;34m=\u001b[0m \u001b[0minput\u001b[0m\u001b[0;34m(\u001b[0m\u001b[0;34m\"Enter a number: \"\u001b[0m\u001b[0;34m)\u001b[0m \u001b[0;31m# input() function returns a string\u001b[0m\u001b[0;34m\u001b[0m\u001b[0;34m\u001b[0m\u001b[0m\n",
            "\u001b[0;31mTypeError\u001b[0m: unsupported operand type(s) for ** or pow(): 'str' and 'int'"
          ]
        }
      ]
    },
    {
      "cell_type": "markdown",
      "source": [
        "We can even write type hints for variables\n",
        "\n",
        "> 🚨 There is no need to do this for every variable but for obscure ones where the datatype of the variable is very hard to infer, this is extremely useful!\n"
      ],
      "metadata": {
        "id": "xfDzr0FcwkuD"
      }
    },
    {
      "cell_type": "code",
      "source": [
        "# Type hinting variables\n",
        "num_1: int = 1\n",
        "num_2: float = 1.0\n",
        "\n",
        "var_3 = {\"a\": 1, \"b\": 2, \"c\": 3, \"d\": 4}\n",
        "num_3: int | None = var_3.get(\"apple\") # in this example get() can either return an 'int' or 'None'. Using type hint makes it clearer to see what kind of datatype you are getting"
      ],
      "metadata": {
        "id": "YkFY44Bhwu10"
      },
      "execution_count": 21,
      "outputs": []
    },
    {
      "cell_type": "markdown",
      "source": [
        "If our function or variable can take or return multiple data types, we can use the `|` operator to separate multiple types:\n"
      ],
      "metadata": {
        "id": "qNBUE3h2qgfL"
      }
    },
    {
      "cell_type": "code",
      "source": [
        "# Multiple acceptable types\n",
        "def is_even(num: int | float) -> bool:\n",
        "  return num % 2 == 0"
      ],
      "metadata": {
        "id": "2f2x67BqrJT6"
      },
      "execution_count": 22,
      "outputs": []
    },
    {
      "cell_type": "markdown",
      "source": [
        "Here are some more type hint examples:\n"
      ],
      "metadata": {
        "id": "mM2zKM-BrKYi"
      }
    },
    {
      "cell_type": "code",
      "source": [
        "class CustomType:\n",
        "  def do_sth(self) -> None:\n",
        "    pass\n",
        "\n",
        "# Using our own class for type hint\n",
        "def construct_custom_type() -> CustomType:\n",
        "  return CustomType()"
      ],
      "metadata": {
        "id": "IhCAw8h_sGqX"
      },
      "execution_count": 25,
      "outputs": []
    },
    {
      "cell_type": "code",
      "source": [
        "from typing import Literal\n",
        "\n",
        "# Parameter `color` expects string literals: \"red\", \"green\", or \"blue\"\n",
        "def choose_color(color: Literal[\"red\", \"green\", \"blue\"]) -> None:\n",
        "  if not isinstance(color, str): raise TypeError(\"Expected a string\")\n",
        "  if not color.lower() in [\"red\", \"green\", \"blue\"]: raise ValueError(\"Invalid color\")\n",
        "\n",
        "  match color:\n",
        "    case \"red\":\n",
        "      pass\n",
        "    case \"green\":\n",
        "      pass\n",
        "    case \"blue\":\n",
        "      pass\n",
        "    case _:\n",
        "      print(\"Shouldn't be able to reach here, something is very wrong!\")\n",
        "  print(f\"You chose {color}\")\n",
        "\n",
        "choose_color(\"red\")\n",
        "choose_color(\"green\")\n",
        "choose_color(\"blue\")"
      ],
      "metadata": {
        "colab": {
          "base_uri": "https://localhost:8080/"
        },
        "id": "yZ0Sz6hhsEsl",
        "outputId": "a073ed1c-5693-40b2-df82-ef9c67eb0830"
      },
      "execution_count": 26,
      "outputs": [
        {
          "output_type": "stream",
          "name": "stdout",
          "text": [
            "You chose red\n",
            "You chose green\n",
            "You chose blue\n"
          ]
        }
      ]
    },
    {
      "cell_type": "code",
      "source": [
        "from collections.abc import Callable\n",
        "from typing import Any\n",
        "\n",
        "# Parameter `func` expects a function or method. `args` and `kwargs` can be any data type\n",
        "def repeat_func(func: Callable, times: int, *args: Any, **kwargs: Any) -> None:\n",
        "  for _ in range(times):\n",
        "    rv = func(*args, **kwargs)\n",
        "    print(rv)\n",
        "\n",
        "\n",
        "repeat_func(greet, times=2, name=\"Timmy\", greeting=\"What's up\")\n",
        "repeat_func(cube, times=3, number=2)"
      ],
      "metadata": {
        "colab": {
          "base_uri": "https://localhost:8080/"
        },
        "id": "iGMy2vP5r-QZ",
        "outputId": "248d3695-6488-4b49-d9e9-c51f8cf6d6ac"
      },
      "execution_count": 34,
      "outputs": [
        {
          "output_type": "stream",
          "name": "stdout",
          "text": [
            "What's up, Timmy!\n",
            "What's up, Timmy!\n",
            "8\n",
            "8\n",
            "8\n"
          ]
        }
      ]
    },
    {
      "cell_type": "code",
      "source": [
        "import pandas as pd\n",
        "\n",
        "# Using data types from some python package\n",
        "def create_df(data: dict) -> pd.DataFrame:\n",
        "  return pd.DataFrame(data)\n",
        "\n",
        "\n",
        "data = {\n",
        "    'name': ['Alice', 'Bob', 'Charlie'],\n",
        "    'age': [25, 30, 35],\n",
        "    'city': ['New York', 'London', 'Paris']\n",
        "}\n",
        "\n",
        "df = create_df(data)\n",
        "df"
      ],
      "metadata": {
        "colab": {
          "base_uri": "https://localhost:8080/",
          "height": 143
        },
        "id": "zJVMLkYysCKM",
        "outputId": "d2853005-93ed-4610-9a4d-f2a3653fab12"
      },
      "execution_count": 36,
      "outputs": [
        {
          "output_type": "execute_result",
          "data": {
            "text/plain": [
              "      name  age      city\n",
              "0    Alice   25  New York\n",
              "1      Bob   30    London\n",
              "2  Charlie   35     Paris"
            ],
            "text/html": [
              "\n",
              "  <div id=\"df-2f22582b-2f26-4763-bd22-947f3ff83271\" class=\"colab-df-container\">\n",
              "    <div>\n",
              "<style scoped>\n",
              "    .dataframe tbody tr th:only-of-type {\n",
              "        vertical-align: middle;\n",
              "    }\n",
              "\n",
              "    .dataframe tbody tr th {\n",
              "        vertical-align: top;\n",
              "    }\n",
              "\n",
              "    .dataframe thead th {\n",
              "        text-align: right;\n",
              "    }\n",
              "</style>\n",
              "<table border=\"1\" class=\"dataframe\">\n",
              "  <thead>\n",
              "    <tr style=\"text-align: right;\">\n",
              "      <th></th>\n",
              "      <th>name</th>\n",
              "      <th>age</th>\n",
              "      <th>city</th>\n",
              "    </tr>\n",
              "  </thead>\n",
              "  <tbody>\n",
              "    <tr>\n",
              "      <th>0</th>\n",
              "      <td>Alice</td>\n",
              "      <td>25</td>\n",
              "      <td>New York</td>\n",
              "    </tr>\n",
              "    <tr>\n",
              "      <th>1</th>\n",
              "      <td>Bob</td>\n",
              "      <td>30</td>\n",
              "      <td>London</td>\n",
              "    </tr>\n",
              "    <tr>\n",
              "      <th>2</th>\n",
              "      <td>Charlie</td>\n",
              "      <td>35</td>\n",
              "      <td>Paris</td>\n",
              "    </tr>\n",
              "  </tbody>\n",
              "</table>\n",
              "</div>\n",
              "    <div class=\"colab-df-buttons\">\n",
              "\n",
              "  <div class=\"colab-df-container\">\n",
              "    <button class=\"colab-df-convert\" onclick=\"convertToInteractive('df-2f22582b-2f26-4763-bd22-947f3ff83271')\"\n",
              "            title=\"Convert this dataframe to an interactive table.\"\n",
              "            style=\"display:none;\">\n",
              "\n",
              "  <svg xmlns=\"http://www.w3.org/2000/svg\" height=\"24px\" viewBox=\"0 -960 960 960\">\n",
              "    <path d=\"M120-120v-720h720v720H120Zm60-500h600v-160H180v160Zm220 220h160v-160H400v160Zm0 220h160v-160H400v160ZM180-400h160v-160H180v160Zm440 0h160v-160H620v160ZM180-180h160v-160H180v160Zm440 0h160v-160H620v160Z\"/>\n",
              "  </svg>\n",
              "    </button>\n",
              "\n",
              "  <style>\n",
              "    .colab-df-container {\n",
              "      display:flex;\n",
              "      gap: 12px;\n",
              "    }\n",
              "\n",
              "    .colab-df-convert {\n",
              "      background-color: #E8F0FE;\n",
              "      border: none;\n",
              "      border-radius: 50%;\n",
              "      cursor: pointer;\n",
              "      display: none;\n",
              "      fill: #1967D2;\n",
              "      height: 32px;\n",
              "      padding: 0 0 0 0;\n",
              "      width: 32px;\n",
              "    }\n",
              "\n",
              "    .colab-df-convert:hover {\n",
              "      background-color: #E2EBFA;\n",
              "      box-shadow: 0px 1px 2px rgba(60, 64, 67, 0.3), 0px 1px 3px 1px rgba(60, 64, 67, 0.15);\n",
              "      fill: #174EA6;\n",
              "    }\n",
              "\n",
              "    .colab-df-buttons div {\n",
              "      margin-bottom: 4px;\n",
              "    }\n",
              "\n",
              "    [theme=dark] .colab-df-convert {\n",
              "      background-color: #3B4455;\n",
              "      fill: #D2E3FC;\n",
              "    }\n",
              "\n",
              "    [theme=dark] .colab-df-convert:hover {\n",
              "      background-color: #434B5C;\n",
              "      box-shadow: 0px 1px 3px 1px rgba(0, 0, 0, 0.15);\n",
              "      filter: drop-shadow(0px 1px 2px rgba(0, 0, 0, 0.3));\n",
              "      fill: #FFFFFF;\n",
              "    }\n",
              "  </style>\n",
              "\n",
              "    <script>\n",
              "      const buttonEl =\n",
              "        document.querySelector('#df-2f22582b-2f26-4763-bd22-947f3ff83271 button.colab-df-convert');\n",
              "      buttonEl.style.display =\n",
              "        google.colab.kernel.accessAllowed ? 'block' : 'none';\n",
              "\n",
              "      async function convertToInteractive(key) {\n",
              "        const element = document.querySelector('#df-2f22582b-2f26-4763-bd22-947f3ff83271');\n",
              "        const dataTable =\n",
              "          await google.colab.kernel.invokeFunction('convertToInteractive',\n",
              "                                                    [key], {});\n",
              "        if (!dataTable) return;\n",
              "\n",
              "        const docLinkHtml = 'Like what you see? Visit the ' +\n",
              "          '<a target=\"_blank\" href=https://colab.research.google.com/notebooks/data_table.ipynb>data table notebook</a>'\n",
              "          + ' to learn more about interactive tables.';\n",
              "        element.innerHTML = '';\n",
              "        dataTable['output_type'] = 'display_data';\n",
              "        await google.colab.output.renderOutput(dataTable, element);\n",
              "        const docLink = document.createElement('div');\n",
              "        docLink.innerHTML = docLinkHtml;\n",
              "        element.appendChild(docLink);\n",
              "      }\n",
              "    </script>\n",
              "  </div>\n",
              "\n",
              "\n",
              "<div id=\"df-f86629be-f5e6-466e-8721-4eaa5c6b0f84\">\n",
              "  <button class=\"colab-df-quickchart\" onclick=\"quickchart('df-f86629be-f5e6-466e-8721-4eaa5c6b0f84')\"\n",
              "            title=\"Suggest charts\"\n",
              "            style=\"display:none;\">\n",
              "\n",
              "<svg xmlns=\"http://www.w3.org/2000/svg\" height=\"24px\"viewBox=\"0 0 24 24\"\n",
              "     width=\"24px\">\n",
              "    <g>\n",
              "        <path d=\"M19 3H5c-1.1 0-2 .9-2 2v14c0 1.1.9 2 2 2h14c1.1 0 2-.9 2-2V5c0-1.1-.9-2-2-2zM9 17H7v-7h2v7zm4 0h-2V7h2v10zm4 0h-2v-4h2v4z\"/>\n",
              "    </g>\n",
              "</svg>\n",
              "  </button>\n",
              "\n",
              "<style>\n",
              "  .colab-df-quickchart {\n",
              "      --bg-color: #E8F0FE;\n",
              "      --fill-color: #1967D2;\n",
              "      --hover-bg-color: #E2EBFA;\n",
              "      --hover-fill-color: #174EA6;\n",
              "      --disabled-fill-color: #AAA;\n",
              "      --disabled-bg-color: #DDD;\n",
              "  }\n",
              "\n",
              "  [theme=dark] .colab-df-quickchart {\n",
              "      --bg-color: #3B4455;\n",
              "      --fill-color: #D2E3FC;\n",
              "      --hover-bg-color: #434B5C;\n",
              "      --hover-fill-color: #FFFFFF;\n",
              "      --disabled-bg-color: #3B4455;\n",
              "      --disabled-fill-color: #666;\n",
              "  }\n",
              "\n",
              "  .colab-df-quickchart {\n",
              "    background-color: var(--bg-color);\n",
              "    border: none;\n",
              "    border-radius: 50%;\n",
              "    cursor: pointer;\n",
              "    display: none;\n",
              "    fill: var(--fill-color);\n",
              "    height: 32px;\n",
              "    padding: 0;\n",
              "    width: 32px;\n",
              "  }\n",
              "\n",
              "  .colab-df-quickchart:hover {\n",
              "    background-color: var(--hover-bg-color);\n",
              "    box-shadow: 0 1px 2px rgba(60, 64, 67, 0.3), 0 1px 3px 1px rgba(60, 64, 67, 0.15);\n",
              "    fill: var(--button-hover-fill-color);\n",
              "  }\n",
              "\n",
              "  .colab-df-quickchart-complete:disabled,\n",
              "  .colab-df-quickchart-complete:disabled:hover {\n",
              "    background-color: var(--disabled-bg-color);\n",
              "    fill: var(--disabled-fill-color);\n",
              "    box-shadow: none;\n",
              "  }\n",
              "\n",
              "  .colab-df-spinner {\n",
              "    border: 2px solid var(--fill-color);\n",
              "    border-color: transparent;\n",
              "    border-bottom-color: var(--fill-color);\n",
              "    animation:\n",
              "      spin 1s steps(1) infinite;\n",
              "  }\n",
              "\n",
              "  @keyframes spin {\n",
              "    0% {\n",
              "      border-color: transparent;\n",
              "      border-bottom-color: var(--fill-color);\n",
              "      border-left-color: var(--fill-color);\n",
              "    }\n",
              "    20% {\n",
              "      border-color: transparent;\n",
              "      border-left-color: var(--fill-color);\n",
              "      border-top-color: var(--fill-color);\n",
              "    }\n",
              "    30% {\n",
              "      border-color: transparent;\n",
              "      border-left-color: var(--fill-color);\n",
              "      border-top-color: var(--fill-color);\n",
              "      border-right-color: var(--fill-color);\n",
              "    }\n",
              "    40% {\n",
              "      border-color: transparent;\n",
              "      border-right-color: var(--fill-color);\n",
              "      border-top-color: var(--fill-color);\n",
              "    }\n",
              "    60% {\n",
              "      border-color: transparent;\n",
              "      border-right-color: var(--fill-color);\n",
              "    }\n",
              "    80% {\n",
              "      border-color: transparent;\n",
              "      border-right-color: var(--fill-color);\n",
              "      border-bottom-color: var(--fill-color);\n",
              "    }\n",
              "    90% {\n",
              "      border-color: transparent;\n",
              "      border-bottom-color: var(--fill-color);\n",
              "    }\n",
              "  }\n",
              "</style>\n",
              "\n",
              "  <script>\n",
              "    async function quickchart(key) {\n",
              "      const quickchartButtonEl =\n",
              "        document.querySelector('#' + key + ' button');\n",
              "      quickchartButtonEl.disabled = true;  // To prevent multiple clicks.\n",
              "      quickchartButtonEl.classList.add('colab-df-spinner');\n",
              "      try {\n",
              "        const charts = await google.colab.kernel.invokeFunction(\n",
              "            'suggestCharts', [key], {});\n",
              "      } catch (error) {\n",
              "        console.error('Error during call to suggestCharts:', error);\n",
              "      }\n",
              "      quickchartButtonEl.classList.remove('colab-df-spinner');\n",
              "      quickchartButtonEl.classList.add('colab-df-quickchart-complete');\n",
              "    }\n",
              "    (() => {\n",
              "      let quickchartButtonEl =\n",
              "        document.querySelector('#df-f86629be-f5e6-466e-8721-4eaa5c6b0f84 button');\n",
              "      quickchartButtonEl.style.display =\n",
              "        google.colab.kernel.accessAllowed ? 'block' : 'none';\n",
              "    })();\n",
              "  </script>\n",
              "</div>\n",
              "\n",
              "  <div id=\"id_94e1ae42-2e98-491b-8d31-2f2dc2522a3e\">\n",
              "    <style>\n",
              "      .colab-df-generate {\n",
              "        background-color: #E8F0FE;\n",
              "        border: none;\n",
              "        border-radius: 50%;\n",
              "        cursor: pointer;\n",
              "        display: none;\n",
              "        fill: #1967D2;\n",
              "        height: 32px;\n",
              "        padding: 0 0 0 0;\n",
              "        width: 32px;\n",
              "      }\n",
              "\n",
              "      .colab-df-generate:hover {\n",
              "        background-color: #E2EBFA;\n",
              "        box-shadow: 0px 1px 2px rgba(60, 64, 67, 0.3), 0px 1px 3px 1px rgba(60, 64, 67, 0.15);\n",
              "        fill: #174EA6;\n",
              "      }\n",
              "\n",
              "      [theme=dark] .colab-df-generate {\n",
              "        background-color: #3B4455;\n",
              "        fill: #D2E3FC;\n",
              "      }\n",
              "\n",
              "      [theme=dark] .colab-df-generate:hover {\n",
              "        background-color: #434B5C;\n",
              "        box-shadow: 0px 1px 3px 1px rgba(0, 0, 0, 0.15);\n",
              "        filter: drop-shadow(0px 1px 2px rgba(0, 0, 0, 0.3));\n",
              "        fill: #FFFFFF;\n",
              "      }\n",
              "    </style>\n",
              "    <button class=\"colab-df-generate\" onclick=\"generateWithVariable('df')\"\n",
              "            title=\"Generate code using this dataframe.\"\n",
              "            style=\"display:none;\">\n",
              "\n",
              "  <svg xmlns=\"http://www.w3.org/2000/svg\" height=\"24px\"viewBox=\"0 0 24 24\"\n",
              "       width=\"24px\">\n",
              "    <path d=\"M7,19H8.4L18.45,9,17,7.55,7,17.6ZM5,21V16.75L18.45,3.32a2,2,0,0,1,2.83,0l1.4,1.43a1.91,1.91,0,0,1,.58,1.4,1.91,1.91,0,0,1-.58,1.4L9.25,21ZM18.45,9,17,7.55Zm-12,3A5.31,5.31,0,0,0,4.9,8.1,5.31,5.31,0,0,0,1,6.5,5.31,5.31,0,0,0,4.9,4.9,5.31,5.31,0,0,0,6.5,1,5.31,5.31,0,0,0,8.1,4.9,5.31,5.31,0,0,0,12,6.5,5.46,5.46,0,0,0,6.5,12Z\"/>\n",
              "  </svg>\n",
              "    </button>\n",
              "    <script>\n",
              "      (() => {\n",
              "      const buttonEl =\n",
              "        document.querySelector('#id_94e1ae42-2e98-491b-8d31-2f2dc2522a3e button.colab-df-generate');\n",
              "      buttonEl.style.display =\n",
              "        google.colab.kernel.accessAllowed ? 'block' : 'none';\n",
              "\n",
              "      buttonEl.onclick = () => {\n",
              "        google.colab.notebook.generateWithVariable('df');\n",
              "      }\n",
              "      })();\n",
              "    </script>\n",
              "  </div>\n",
              "\n",
              "    </div>\n",
              "  </div>\n"
            ],
            "application/vnd.google.colaboratory.intrinsic+json": {
              "type": "dataframe",
              "variable_name": "df",
              "summary": "{\n  \"name\": \"df\",\n  \"rows\": 3,\n  \"fields\": [\n    {\n      \"column\": \"name\",\n      \"properties\": {\n        \"dtype\": \"string\",\n        \"num_unique_values\": 3,\n        \"samples\": [\n          \"Alice\",\n          \"Bob\",\n          \"Charlie\"\n        ],\n        \"semantic_type\": \"\",\n        \"description\": \"\"\n      }\n    },\n    {\n      \"column\": \"age\",\n      \"properties\": {\n        \"dtype\": \"number\",\n        \"std\": 5,\n        \"min\": 25,\n        \"max\": 35,\n        \"num_unique_values\": 3,\n        \"samples\": [\n          25,\n          30,\n          35\n        ],\n        \"semantic_type\": \"\",\n        \"description\": \"\"\n      }\n    },\n    {\n      \"column\": \"city\",\n      \"properties\": {\n        \"dtype\": \"string\",\n        \"num_unique_values\": 3,\n        \"samples\": [\n          \"New York\",\n          \"London\",\n          \"Paris\"\n        ],\n        \"semantic_type\": \"\",\n        \"description\": \"\"\n      }\n    }\n  ]\n}"
            }
          },
          "metadata": {},
          "execution_count": 36
        }
      ]
    },
    {
      "cell_type": "markdown",
      "source": [
        "For more in-depth information on writing type hints, check out [Python's documentation](https://peps.python.org/pep-0484/)\n"
      ],
      "metadata": {
        "id": "K1RDuSP9dj7T"
      }
    },
    {
      "cell_type": "markdown",
      "source": [
        "### **Docstrings**\n",
        "\n",
        "Docstrings provide a standardized way to document Python functions and can serve multiple purposes, including:\n",
        "\n",
        "- Clear documentation for other developers\n",
        "- Interactive help, such as through the `help()` function in Python or hover text in code editors\n",
        "- Source for automatic documentation generators like [Sphinx](https://www.sphinx-doc.org/en/master/index.html) and [Swagger](https://swagger.io/docs/).\n",
        "\n",
        "A well-structured docstrings can improve code readability and make maintenance a lot easier. Here are a few popular docstring styles to consider:\n",
        "\n",
        "<br>\n",
        "\n",
        "**Common Docstring Styles**\n",
        "\n",
        "- [Google Style](https://github.com/google/styleguide/blob/gh-pages/pyguide.md#38-comments-and-docstrings): Known for its readability, with parameters and return values clearly outlined.\n",
        "- [NumPy Style](https://numpydoc.readthedocs.io/en/latest/format.html#docstring-standard): Particularly useful in scientific and data-centric projects, with structured sections for extended explanations.\n",
        "- [reStructuredText Style](https://sphinx-rtd-tutorial.readthedocs.io/en/latest/docstrings.html): Often used with Sphinx, this style supports extensive formatting options and compatibility with reStructuredText-based documentation tools.\n"
      ],
      "metadata": {
        "id": "vVNXZ9nwYeFc"
      }
    },
    {
      "cell_type": "code",
      "source": [
        "# Google Style Example\n",
        "def scream(some_string: str) -> None:\n",
        "  \"\"\"Scream out the input string.\n",
        "\n",
        "  Converts all characters in a string to uppercase to simulate screaming. The longer the string, the more exclamation marks will be added at the end.\n",
        "\n",
        "  Args:\n",
        "    some_string (str): The string to convert to uppercase.\n",
        "\n",
        "  Returns:\n",
        "    None\n",
        "\n",
        "  Raises:\n",
        "    TypeError: If the input is not a string.\n",
        "    ValueError: If the input is an empty string.\n",
        "\n",
        "  Examples:\n",
        "    >>> scream(\"go home denis, you are drunk\")\n",
        "    GO HOME DENIS, YOU ARE DRUNK!!!!!!!!!!!!!!\n",
        "  \"\"\"\n",
        "  if not isinstance(some_string, str):\n",
        "    raise TypeError(f\"Expected a string, instead got: {type(some_string)}\")\n",
        "\n",
        "  some_string = some_string.strip()\n",
        "\n",
        "  if not some_string:\n",
        "    raise ValueError(\"Expected a non-empty string\")\n",
        "\n",
        "  volume = max(len(some_string) // 2, 1)\n",
        "  print(f\"{some_string.upper()}{'!' * volume}\")"
      ],
      "metadata": {
        "id": "NijtRom7gfND"
      },
      "execution_count": 37,
      "outputs": []
    },
    {
      "cell_type": "markdown",
      "source": [
        "Now, if you use the `help()` function or hover your mouse over the function name in the code cell or an editor, the tooltip will show the function signature along with the docstring.\n",
        "\n",
        "This makes it much easier to quickly understand what the function does, its parameters, and any exceptions it may raise.\n"
      ],
      "metadata": {
        "id": "Gf-VezhYiJgm"
      }
    },
    {
      "cell_type": "code",
      "source": [
        "help(scream)"
      ],
      "metadata": {
        "colab": {
          "base_uri": "https://localhost:8080/"
        },
        "id": "hDoyPX9hiPxW",
        "outputId": "41e94546-a023-48db-f320-45c66e6747b4"
      },
      "execution_count": 38,
      "outputs": [
        {
          "output_type": "stream",
          "name": "stdout",
          "text": [
            "Help on function scream in module __main__:\n",
            "\n",
            "scream(some_string: str) -> None\n",
            "    Scream out the input string.\n",
            "    \n",
            "    Converts all characters in a string to uppercase to simulate screaming. The longer the string, the more exclamation marks will be added at the end.\n",
            "    \n",
            "    Args:\n",
            "      some_string (str): The string to convert to uppercase.\n",
            "    \n",
            "    Returns:\n",
            "      None\n",
            "    \n",
            "    Raises:\n",
            "      TypeError: If the input is not a string.\n",
            "      ValueError: If the input is an empty string.\n",
            "    \n",
            "    Examples:\n",
            "      >>> scream(\"go home denis, you are drunk\")\n",
            "      GO HOME DENIS, YOU ARE DRUNK!!!!!!!!!!!!!!\n",
            "\n"
          ]
        }
      ]
    },
    {
      "cell_type": "code",
      "source": [
        "# Try hovering your mouse over the the function name\n",
        "\n",
        "scream(\"Shhh\")\n",
        "scream(\"It's 10 past 12 already\")\n",
        "scream(\"Be quiet\")"
      ],
      "metadata": {
        "colab": {
          "base_uri": "https://localhost:8080/"
        },
        "id": "GlIXnnbfhihr",
        "outputId": "9967f2eb-6eea-4062-ce3a-3fe61211cd98"
      },
      "execution_count": 39,
      "outputs": [
        {
          "output_type": "stream",
          "name": "stdout",
          "text": [
            "SHHH!!\n",
            "IT'S 10 PAST 12 ALREADY!!!!!!!!!!!\n",
            "BE QUIET!!!!\n"
          ]
        }
      ]
    },
    {
      "cell_type": "markdown",
      "source": [
        "For more in-depth information on writing effective docstrings, check out this [article on docstrings](https://www.dataquest.io/blog/documenting-in-python-with-docstrings/).\n"
      ],
      "metadata": {
        "id": "5bC0WkyKfo4T"
      }
    },
    {
      "cell_type": "markdown",
      "source": [
        "## **Conclusion**\n",
        "\n",
        "That's all for our intermediate Python functions class! If you want to dive deeper into the topics we covered, check out these resources:\n",
        "\n",
        "### **Additional Online Resources**\n",
        "\n",
        "- **[Python's Official Documentation on Functions](https://docs.python.org/3/tutorial/controlflow.html#defining-functions)**\n",
        "- **[W3Schools - Python Functions](https://www.w3schools.com/python/python_functions.asp)**\n",
        "- **[Real Python - Python Functions Tutorial](https://realpython.com/defining-your-own-python-function/)**\n",
        "- **[GeeksforGeeks - Python Functions](https://www.geeksforgeeks.org/python-functions/)**\n",
        "\n",
        "<br>\n",
        "\n",
        "If you're craving to learn even more about Python functions, join our [advanced functions](https://colab.research.google.com/drive/1jV_L1nTbk2aEP3a2Il8smEcyzs20a2j3?usp=sharing) class! We'll dive into **lambda functions, decorators, recursion,** and more. Looking forward to seeing you there! 🚀\n"
      ],
      "metadata": {
        "id": "Oa2uBnEplyM2"
      }
    }
  ]
}