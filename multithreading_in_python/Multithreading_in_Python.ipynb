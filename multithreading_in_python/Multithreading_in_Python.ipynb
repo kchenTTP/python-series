{
  "nbformat": 4,
  "nbformat_minor": 0,
  "metadata": {
    "colab": {
      "provenance": [],
      "toc_visible": true,
      "collapsed_sections": [
        "Xa--WR-qxTHV"
      ],
      "authorship_tag": "ABX9TyMqCEZbkrNLCdJDhVZIq+1B",
      "include_colab_link": true
    },
    "kernelspec": {
      "name": "python3",
      "display_name": "Python 3"
    },
    "language_info": {
      "name": "python"
    }
  },
  "cells": [
    {
      "cell_type": "markdown",
      "metadata": {
        "id": "view-in-github",
        "colab_type": "text"
      },
      "source": [
        "<a href=\"https://colab.research.google.com/github/kchenTTP/python-series/blob/main/python_multithreading/Multithreading_in_Python.ipynb\" target=\"_parent\"><img src=\"https://colab.research.google.com/assets/colab-badge.svg\" alt=\"Open In Colab\"/></a>"
      ]
    },
    {
      "cell_type": "markdown",
      "source": [
        "# **Multithreading in Python**\n",
        "\n",
        "In the previous class on asynchronous programming, we had a first look at concurrency in programming using coroutines (event loops) to optimize I/O-bound tasks using coroutines. In this class, we will be diving a little bit deeper into concurrency in python and take a look at multithreading.\n",
        "\n",
        "**Table of Contents**\n",
        "\n",
        "- [Threads and Processes](#scrollTo=K3MSR-8x31WE)\n",
        "- [Multithreading](#scrollTo=Fkz86bj94ARo)\n",
        "- [Considerations When Using Multithreading](#scrollTo=nQ18LxcjJH90)\n"
      ],
      "metadata": {
        "id": "u77EAJpG99fN"
      }
    },
    {
      "cell_type": "markdown",
      "source": [
        "## **Threads and Processes**\n",
        "\n",
        "Before diving into multithreading and multiprocessing, let's first understand the basics of threads and processes.\n",
        "\n",
        "<br>\n",
        "\n",
        "<figure align=\"center\">\n",
        "  <img src=\"https://raw.githubusercontent.com/kchenTTP/python-series/refs/heads/main/python_multithreading/assets/threads-vs-processes.png\" alt=\"threads-vs-processes.png\" />\n",
        "  <figcaption>Threads vs processes</figcaption>\n",
        "</figure>\n",
        "\n",
        "<br>\n",
        "\n",
        "- **Threads**\n",
        "\n",
        "  - Lightweight units of execution within a process\n",
        "  - Think of a threads as a \"chain of command\" within a process\n",
        "  - A single thread can only execute one command at a time\n",
        "  - Separate threads share the same memory space and resources of the parent process\n",
        "  - Ideal for I/O-bound tasks, as the CPU can switch between threads when one is waiting for resources ([context switching](https://en.wikipedia.org/wiki/Context_switch))\n",
        "  - Faster to create and destroy than processes\n",
        "  - Easier to share data between threads, but requires careful synchronization to avoid issues like race conditions\n",
        "  - Limited by the Global Interpreter Lock ([GIL](#scrollTo=K3MSR-8x31WE&line=39&uniqifier=1)) in CPython for CPU-bound tasks\n",
        "\n",
        "<br>\n",
        "\n",
        "- **Processes**\n",
        "\n",
        "  - Heavyweight units of execution that can contain multiple threads\n",
        "  - Think of a process as an independent “program” running on your CPU\n",
        "  - Separate processes maintain their own distinct memory space and resources, enabling true [parallelism](https://en.wikipedia.org/wiki/Parallel_computing) across multiple CPU cores\n",
        "  - Ideal for CPU-bound tasks, as they can utilize multiple CPU cores effectively\n",
        "  - Processes have higher overhead for creation and require [inter-process communication](https://en.wikipedia.org/wiki/Inter-process_communication) to share data\n",
        "  - Offer better isolation between tasks, reducing the risk of shared state issues\n",
        "  - Since each process has its own Python interpreter instance, they are not limited by the [GIL](#scrollTo=K3MSR-8x31WE&line=39&uniqifier=1)\n",
        "\n",
        "<br>\n",
        "\n",
        "> 🤓 **Python Global Interpreter Lock (GIL)**\n",
        ">\n",
        "> The Global Interpreter Lock (GIL) is a mutex that ensures only one thread can control the Python interpreter at a time, preventing race conditions and ensuring memory safety.\n",
        ">\n",
        "> - In single-threaded programs, the GIL doesn't have much of an impact. However, in multithreaded programs, when multiple threads try to execute Python code, each thread must release the GIL before another can acquire it. This limits concurrency and makes multithreading better suited for I/O-bound tasks, where threads are often waiting for external resources anyway.\n",
        ">\n",
        "> - In contrast, multiprocessing programs use separate Python interpreters for each process, which mitigates the GIL's impact but consumes more resources since each process requires its own memory space and CPU allocation.\n",
        ">\n",
        "> [GIL Documentation](https://wiki.python.org/moin/GlobalInterpreterLock)\n",
        "\n",
        "<br>\n",
        "\n",
        "<figure align=\"center\">\n",
        "  <img src=\"https://raw.githubusercontent.com/kchenTTP/python-series/refs/heads/main/python_multithreading/assets/python-single-process-gil.png\" alt=\"python-single-process-gil.png\" />\n",
        "  <figcaption>Single process, multithreaded python program</figcaption>\n",
        "</figure>"
      ],
      "metadata": {
        "id": "K3MSR-8x31WE"
      }
    },
    {
      "cell_type": "markdown",
      "source": [
        "### **Coroutine vs Threads vs Processes**\n",
        "\n",
        "In the previous class, we learned about coroutines. Since coroutines and threads seem very similar and are both effective for I/O-bound tasks, it's important to understand how each approach handles concurrency and resource management.\n",
        "\n",
        "<br>\n",
        "\n",
        "<table>\n",
        "  <thead>\n",
        "    <tr>\n",
        "      <th>Aspect</th>\n",
        "      <th>Coroutines</th>\n",
        "      <th>Threads</th>\n",
        "      <th>Processes</th>\n",
        "    </tr>\n",
        "  </thead>\n",
        "  <tbody>\n",
        "    <tr>\n",
        "      <td><strong>Concurrency Model</strong></td>\n",
        "      <td>Cooperative multitasking within a single thread</td>\n",
        "      <td>Preemptive multitasking within a process</td>\n",
        "      <td>Parallel execution with separate processes</td>\n",
        "    </tr>\n",
        "    <tr>\n",
        "      <td><strong>Ideal for</strong></td>\n",
        "      <td>I/O-bound tasks (waiting for resources)</td>\n",
        "      <td>I/O-bound tasks, limited for CPU-bound tasks (GIL)</td>\n",
        "      <td>CPU-bound tasks (true parallelism)</td>\n",
        "    </tr>\n",
        "    <tr>\n",
        "      <td><strong>Resource Usage</strong></td>\n",
        "      <td>Lightweight, minimal overhead</td>\n",
        "      <td>More resource-intensive due to OS-level management</td>\n",
        "      <td>Heavy resource usage due to process creation and IPC</td>\n",
        "    </tr>\n",
        "    <tr>\n",
        "      <td><strong>Memory Sharing</strong></td>\n",
        "      <td>Shared memory within a single thread</td>\n",
        "      <td>Shared memory within the process, needs locks</td>\n",
        "      <td>Separate memory spaces for each process</td>\n",
        "    </tr>\n",
        "    <tr>\n",
        "      <td><strong>Synchronization</strong></td>\n",
        "      <td>Not required (runs in a single thread)</td>\n",
        "      <td>Requires locks and synchronization</td>\n",
        "      <td>Complex, requires inter-process communication (IPC)</td>\n",
        "    </tr>\n",
        "    <tr>\n",
        "      <td><strong>Parallelism</strong></td>\n",
        "      <td>No, runs in a single thread</td>\n",
        "      <td>No true parallelism (limited by GIL in CPython)</td>\n",
        "      <td>Yes, true parallelism using multiple CPU cores</td>\n",
        "    </tr>\n",
        "    <tr>\n",
        "      <td><strong>Ease of Use</strong></td>\n",
        "      <td>Simpler, no need for locks or complex management</td>\n",
        "      <td>More complex due to race conditions and deadlocks</td>\n",
        "      <td>Most complex, with higher overhead and IPC requirements</td>\n",
        "    </tr>\n",
        "    <tr>\n",
        "      <td><strong>Use Cases</strong></td>\n",
        "      <td>Handling many network or file I/O tasks simultaneously</td>\n",
        "      <td>Concurrent tasks within a process, some CPU tasks</td>\n",
        "      <td>CPU-intensive tasks that need full core utilization</td>\n",
        "    </tr>\n",
        "  </tbody>\n",
        "</table>\n"
      ],
      "metadata": {
        "id": "R7PyYOXVCdBT"
      }
    },
    {
      "cell_type": "markdown",
      "source": [
        "## **Multithreading**\n",
        "\n",
        "Multithreading is the act of using multiple threads to execute tasks concurrently within the same process, allowing a program to perform multiple operations simultaneously and improve efficiency by making better use of CPU resources.\n",
        "\n",
        "<br>\n",
        "\n",
        "In Python, there are several ways to achieve multithreading, each with unique syntax and applications. This section will cover the basics of the following methods:\n",
        "\n",
        "- `asyncio.to_thread()`\n",
        "- `concurrent.futures.ThreadPoolExecutor()`\n",
        "\n",
        "> 🚨 While you can use the `threading` library to manage individual threads, it's often unnecessary for most simpler tasks we encounter. Therefore, we won't cover it in this section.\n",
        "\n",
        "<br>\n",
        "\n",
        "**Imports**\n",
        "\n",
        "- `time`: Functions for time-based operations\n",
        "- `asyncio`: Library for writing concurrent code with async I/O\n",
        "- `requests`: Synchronous HTTP library\n",
        "- `typing`: Provides type hinting\n",
        "- `rich`: For enhanced text formatting and display\n"
      ],
      "metadata": {
        "id": "Fkz86bj94ARo"
      }
    },
    {
      "cell_type": "code",
      "source": [
        "import time\n",
        "import asyncio\n",
        "import requests\n",
        "from typing import Any, Callable, Coroutine\n",
        "from rich.pretty import pprint"
      ],
      "metadata": {
        "id": "ehZ0wd4f4Ouk"
      },
      "execution_count": null,
      "outputs": []
    },
    {
      "cell_type": "markdown",
      "source": [
        "### **`asyncio`**\n",
        "\n",
        "Previously, we used `asyncio` to write asynchronous code with Python's coroutine-based event loop. For asynchronous HTTP requests, we used the `httpx` library, as the synchronous `requests` library can't work directly with `asyncio` coroutines.\n",
        "\n",
        "<br>\n",
        "\n",
        "But what if there's no async-compatible alternative for a library?\n",
        "\n",
        "<br>\n",
        "\n",
        "In such cases, multithreading allows us to run multiple instances of blocking code on separate threads, achieving concurrency through context switching. With `asyncio`, we can use the `.to_thread()` method to run synchronous code in a separate thread while still maintaining the benefits of asynchrounus operations.\n",
        "\n",
        "\n"
      ],
      "metadata": {
        "id": "dG3Zxni5W3YX"
      }
    },
    {
      "cell_type": "markdown",
      "source": [
        "Let's look at an example of visiting multiple web pages. We have a function, `download_page()`, that takes a URL and fetches the page content. Since `requests.get(url)` is a blocking operation, we can create a wrapper function, `async_download_page()`, which uses `asyncio.to_thread()` to run this blocking code in a separate thread, making it non-blocking.\n"
      ],
      "metadata": {
        "id": "ZALytE2AulED"
      }
    },
    {
      "cell_type": "code",
      "source": [
        "urls = [\n",
        "  \"https://www.example.com\",\n",
        "  \"https://www.python.org\",\n",
        "  \"https://www.github.com\",\n",
        "  \"https://www.stackoverflow.com\",\n",
        "  \"https://www.wikipedia.org\"\n",
        "]"
      ],
      "metadata": {
        "id": "hBj8-v-UKa9b"
      },
      "execution_count": null,
      "outputs": []
    },
    {
      "cell_type": "code",
      "source": [
        "def download_page(url: str) -> dict:\n",
        "  print(f\"Downloading: {url}\")\n",
        "  resp = requests.get(url)  # blocking code\n",
        "  resp.raise_for_status()\n",
        "  time.sleep(0.5)  # blocking code simlutate downloading page content\n",
        "  return {\n",
        "      \"url\": url,\n",
        "      \"status\": resp.status_code,\n",
        "      \"length\": len(resp.text)\n",
        "  }\n",
        "\n",
        "\n",
        "async def async_download_page(url: str) -> Coroutine | dict:\n",
        "  return await asyncio.to_thread(download_page, url)\n",
        "\n",
        "\n",
        "# Sync page download\n",
        "start = time.perf_counter()\n",
        "print(\"Blocking code execution...\")\n",
        "for url in urls:\n",
        "  pprint(download_page(url))\n",
        "print(\"---\")\n",
        "print(f\"Time taken: {time.perf_counter() - start:.4f} seconds\")\n",
        "\n",
        "print(\"=========\")\n",
        "print()\n",
        "\n",
        "# Multithreading page download\n",
        "start = time.perf_counter()\n",
        "print(\"Multithreading code execution...\")\n",
        "result = await asyncio.gather(*[async_download_page(url) for url in urls])\n",
        "pprint(result)\n",
        "print(\"---\")\n",
        "print(f\"Time taken: {time.perf_counter() - start:.4f} seconds\")"
      ],
      "metadata": {
        "colab": {
          "base_uri": "https://localhost:8080/",
          "height": 536
        },
        "id": "y-6DyykNoIP-",
        "outputId": "26b61828-a8f8-4253-f873-50055d4de2e3"
      },
      "execution_count": null,
      "outputs": [
        {
          "output_type": "stream",
          "name": "stdout",
          "text": [
            "Blocking code execution...\n",
            "Downloading: https://www.example.com\n"
          ]
        },
        {
          "output_type": "display_data",
          "data": {
            "text/plain": [
              "\u001b[1m{\u001b[0m\u001b[32m'url'\u001b[0m: \u001b[32m'https://www.example.com'\u001b[0m, \u001b[32m'status'\u001b[0m: \u001b[1;36m200\u001b[0m, \u001b[32m'length'\u001b[0m: \u001b[1;36m1256\u001b[0m\u001b[1m}\u001b[0m\n"
            ],
            "text/html": [
              "<pre style=\"white-space:pre;overflow-x:auto;line-height:normal;font-family:Menlo,'DejaVu Sans Mono',consolas,'Courier New',monospace\"><span style=\"font-weight: bold\">{</span><span style=\"color: #008000; text-decoration-color: #008000\">'url'</span>: <span style=\"color: #008000; text-decoration-color: #008000\">'https://www.example.com'</span>, <span style=\"color: #008000; text-decoration-color: #008000\">'status'</span>: <span style=\"color: #008080; text-decoration-color: #008080; font-weight: bold\">200</span>, <span style=\"color: #008000; text-decoration-color: #008000\">'length'</span>: <span style=\"color: #008080; text-decoration-color: #008080; font-weight: bold\">1256</span><span style=\"font-weight: bold\">}</span>\n",
              "</pre>\n"
            ]
          },
          "metadata": {}
        },
        {
          "output_type": "stream",
          "name": "stdout",
          "text": [
            "Downloading: https://www.python.org\n"
          ]
        },
        {
          "output_type": "display_data",
          "data": {
            "text/plain": [
              "\u001b[1m{\u001b[0m\u001b[32m'url'\u001b[0m: \u001b[32m'https://www.python.org'\u001b[0m, \u001b[32m'status'\u001b[0m: \u001b[1;36m200\u001b[0m, \u001b[32m'length'\u001b[0m: \u001b[1;36m51334\u001b[0m\u001b[1m}\u001b[0m\n"
            ],
            "text/html": [
              "<pre style=\"white-space:pre;overflow-x:auto;line-height:normal;font-family:Menlo,'DejaVu Sans Mono',consolas,'Courier New',monospace\"><span style=\"font-weight: bold\">{</span><span style=\"color: #008000; text-decoration-color: #008000\">'url'</span>: <span style=\"color: #008000; text-decoration-color: #008000\">'https://www.python.org'</span>, <span style=\"color: #008000; text-decoration-color: #008000\">'status'</span>: <span style=\"color: #008080; text-decoration-color: #008080; font-weight: bold\">200</span>, <span style=\"color: #008000; text-decoration-color: #008000\">'length'</span>: <span style=\"color: #008080; text-decoration-color: #008080; font-weight: bold\">51334</span><span style=\"font-weight: bold\">}</span>\n",
              "</pre>\n"
            ]
          },
          "metadata": {}
        },
        {
          "output_type": "stream",
          "name": "stdout",
          "text": [
            "Downloading: https://www.github.com\n"
          ]
        },
        {
          "output_type": "display_data",
          "data": {
            "text/plain": [
              "\u001b[1m{\u001b[0m\u001b[32m'url'\u001b[0m: \u001b[32m'https://www.github.com'\u001b[0m, \u001b[32m'status'\u001b[0m: \u001b[1;36m200\u001b[0m, \u001b[32m'length'\u001b[0m: \u001b[1;36m155931\u001b[0m\u001b[1m}\u001b[0m\n"
            ],
            "text/html": [
              "<pre style=\"white-space:pre;overflow-x:auto;line-height:normal;font-family:Menlo,'DejaVu Sans Mono',consolas,'Courier New',monospace\"><span style=\"font-weight: bold\">{</span><span style=\"color: #008000; text-decoration-color: #008000\">'url'</span>: <span style=\"color: #008000; text-decoration-color: #008000\">'https://www.github.com'</span>, <span style=\"color: #008000; text-decoration-color: #008000\">'status'</span>: <span style=\"color: #008080; text-decoration-color: #008080; font-weight: bold\">200</span>, <span style=\"color: #008000; text-decoration-color: #008000\">'length'</span>: <span style=\"color: #008080; text-decoration-color: #008080; font-weight: bold\">155931</span><span style=\"font-weight: bold\">}</span>\n",
              "</pre>\n"
            ]
          },
          "metadata": {}
        },
        {
          "output_type": "stream",
          "name": "stdout",
          "text": [
            "Downloading: https://www.stackoverflow.com\n"
          ]
        },
        {
          "output_type": "display_data",
          "data": {
            "text/plain": [
              "\u001b[1m{\u001b[0m\u001b[32m'url'\u001b[0m: \u001b[32m'https://www.stackoverflow.com'\u001b[0m, \u001b[32m'status'\u001b[0m: \u001b[1;36m200\u001b[0m, \u001b[32m'length'\u001b[0m: \u001b[1;36m133137\u001b[0m\u001b[1m}\u001b[0m\n"
            ],
            "text/html": [
              "<pre style=\"white-space:pre;overflow-x:auto;line-height:normal;font-family:Menlo,'DejaVu Sans Mono',consolas,'Courier New',monospace\"><span style=\"font-weight: bold\">{</span><span style=\"color: #008000; text-decoration-color: #008000\">'url'</span>: <span style=\"color: #008000; text-decoration-color: #008000\">'https://www.stackoverflow.com'</span>, <span style=\"color: #008000; text-decoration-color: #008000\">'status'</span>: <span style=\"color: #008080; text-decoration-color: #008080; font-weight: bold\">200</span>, <span style=\"color: #008000; text-decoration-color: #008000\">'length'</span>: <span style=\"color: #008080; text-decoration-color: #008080; font-weight: bold\">133137</span><span style=\"font-weight: bold\">}</span>\n",
              "</pre>\n"
            ]
          },
          "metadata": {}
        },
        {
          "output_type": "stream",
          "name": "stdout",
          "text": [
            "Downloading: https://www.wikipedia.org\n"
          ]
        },
        {
          "output_type": "display_data",
          "data": {
            "text/plain": [
              "\u001b[1m{\u001b[0m\u001b[32m'url'\u001b[0m: \u001b[32m'https://www.wikipedia.org'\u001b[0m, \u001b[32m'status'\u001b[0m: \u001b[1;36m200\u001b[0m, \u001b[32m'length'\u001b[0m: \u001b[1;36m99998\u001b[0m\u001b[1m}\u001b[0m\n"
            ],
            "text/html": [
              "<pre style=\"white-space:pre;overflow-x:auto;line-height:normal;font-family:Menlo,'DejaVu Sans Mono',consolas,'Courier New',monospace\"><span style=\"font-weight: bold\">{</span><span style=\"color: #008000; text-decoration-color: #008000\">'url'</span>: <span style=\"color: #008000; text-decoration-color: #008000\">'https://www.wikipedia.org'</span>, <span style=\"color: #008000; text-decoration-color: #008000\">'status'</span>: <span style=\"color: #008080; text-decoration-color: #008080; font-weight: bold\">200</span>, <span style=\"color: #008000; text-decoration-color: #008000\">'length'</span>: <span style=\"color: #008080; text-decoration-color: #008080; font-weight: bold\">99998</span><span style=\"font-weight: bold\">}</span>\n",
              "</pre>\n"
            ]
          },
          "metadata": {}
        },
        {
          "output_type": "stream",
          "name": "stdout",
          "text": [
            "---\n",
            "Time taken: 3.3968 seconds\n",
            "=========\n",
            "\n",
            "Multithreading code execution...\n",
            "Downloading: https://www.example.com\n",
            "Downloading: https://www.python.org\n",
            "Downloading: https://www.github.com\n",
            "Downloading: https://www.stackoverflow.com\n",
            "Downloading: https://www.wikipedia.org\n"
          ]
        },
        {
          "output_type": "display_data",
          "data": {
            "text/plain": [
              "\u001b[1m[\u001b[0m\n",
              "\u001b[2;32m│   \u001b[0m\u001b[1m{\u001b[0m\u001b[32m'url'\u001b[0m: \u001b[32m'https://www.example.com'\u001b[0m, \u001b[32m'status'\u001b[0m: \u001b[1;36m200\u001b[0m, \u001b[32m'length'\u001b[0m: \u001b[1;36m1256\u001b[0m\u001b[1m}\u001b[0m,\n",
              "\u001b[2;32m│   \u001b[0m\u001b[1m{\u001b[0m\u001b[32m'url'\u001b[0m: \u001b[32m'https://www.python.org'\u001b[0m, \u001b[32m'status'\u001b[0m: \u001b[1;36m200\u001b[0m, \u001b[32m'length'\u001b[0m: \u001b[1;36m51334\u001b[0m\u001b[1m}\u001b[0m,\n",
              "\u001b[2;32m│   \u001b[0m\u001b[1m{\u001b[0m\u001b[32m'url'\u001b[0m: \u001b[32m'https://www.github.com'\u001b[0m, \u001b[32m'status'\u001b[0m: \u001b[1;36m200\u001b[0m, \u001b[32m'length'\u001b[0m: \u001b[1;36m155929\u001b[0m\u001b[1m}\u001b[0m,\n",
              "\u001b[2;32m│   \u001b[0m\u001b[1m{\u001b[0m\u001b[32m'url'\u001b[0m: \u001b[32m'https://www.stackoverflow.com'\u001b[0m, \u001b[32m'status'\u001b[0m: \u001b[1;36m200\u001b[0m, \u001b[32m'length'\u001b[0m: \u001b[1;36m133137\u001b[0m\u001b[1m}\u001b[0m,\n",
              "\u001b[2;32m│   \u001b[0m\u001b[1m{\u001b[0m\u001b[32m'url'\u001b[0m: \u001b[32m'https://www.wikipedia.org'\u001b[0m, \u001b[32m'status'\u001b[0m: \u001b[1;36m200\u001b[0m, \u001b[32m'length'\u001b[0m: \u001b[1;36m99998\u001b[0m\u001b[1m}\u001b[0m\n",
              "\u001b[1m]\u001b[0m\n"
            ],
            "text/html": [
              "<pre style=\"white-space:pre;overflow-x:auto;line-height:normal;font-family:Menlo,'DejaVu Sans Mono',consolas,'Courier New',monospace\"><span style=\"font-weight: bold\">[</span>\n",
              "<span style=\"color: #7fbf7f; text-decoration-color: #7fbf7f\">│   </span><span style=\"font-weight: bold\">{</span><span style=\"color: #008000; text-decoration-color: #008000\">'url'</span>: <span style=\"color: #008000; text-decoration-color: #008000\">'https://www.example.com'</span>, <span style=\"color: #008000; text-decoration-color: #008000\">'status'</span>: <span style=\"color: #008080; text-decoration-color: #008080; font-weight: bold\">200</span>, <span style=\"color: #008000; text-decoration-color: #008000\">'length'</span>: <span style=\"color: #008080; text-decoration-color: #008080; font-weight: bold\">1256</span><span style=\"font-weight: bold\">}</span>,\n",
              "<span style=\"color: #7fbf7f; text-decoration-color: #7fbf7f\">│   </span><span style=\"font-weight: bold\">{</span><span style=\"color: #008000; text-decoration-color: #008000\">'url'</span>: <span style=\"color: #008000; text-decoration-color: #008000\">'https://www.python.org'</span>, <span style=\"color: #008000; text-decoration-color: #008000\">'status'</span>: <span style=\"color: #008080; text-decoration-color: #008080; font-weight: bold\">200</span>, <span style=\"color: #008000; text-decoration-color: #008000\">'length'</span>: <span style=\"color: #008080; text-decoration-color: #008080; font-weight: bold\">51334</span><span style=\"font-weight: bold\">}</span>,\n",
              "<span style=\"color: #7fbf7f; text-decoration-color: #7fbf7f\">│   </span><span style=\"font-weight: bold\">{</span><span style=\"color: #008000; text-decoration-color: #008000\">'url'</span>: <span style=\"color: #008000; text-decoration-color: #008000\">'https://www.github.com'</span>, <span style=\"color: #008000; text-decoration-color: #008000\">'status'</span>: <span style=\"color: #008080; text-decoration-color: #008080; font-weight: bold\">200</span>, <span style=\"color: #008000; text-decoration-color: #008000\">'length'</span>: <span style=\"color: #008080; text-decoration-color: #008080; font-weight: bold\">155929</span><span style=\"font-weight: bold\">}</span>,\n",
              "<span style=\"color: #7fbf7f; text-decoration-color: #7fbf7f\">│   </span><span style=\"font-weight: bold\">{</span><span style=\"color: #008000; text-decoration-color: #008000\">'url'</span>: <span style=\"color: #008000; text-decoration-color: #008000\">'https://www.stackoverflow.com'</span>, <span style=\"color: #008000; text-decoration-color: #008000\">'status'</span>: <span style=\"color: #008080; text-decoration-color: #008080; font-weight: bold\">200</span>, <span style=\"color: #008000; text-decoration-color: #008000\">'length'</span>: <span style=\"color: #008080; text-decoration-color: #008080; font-weight: bold\">133137</span><span style=\"font-weight: bold\">}</span>,\n",
              "<span style=\"color: #7fbf7f; text-decoration-color: #7fbf7f\">│   </span><span style=\"font-weight: bold\">{</span><span style=\"color: #008000; text-decoration-color: #008000\">'url'</span>: <span style=\"color: #008000; text-decoration-color: #008000\">'https://www.wikipedia.org'</span>, <span style=\"color: #008000; text-decoration-color: #008000\">'status'</span>: <span style=\"color: #008080; text-decoration-color: #008080; font-weight: bold\">200</span>, <span style=\"color: #008000; text-decoration-color: #008000\">'length'</span>: <span style=\"color: #008080; text-decoration-color: #008080; font-weight: bold\">99998</span><span style=\"font-weight: bold\">}</span>\n",
              "<span style=\"font-weight: bold\">]</span>\n",
              "</pre>\n"
            ]
          },
          "metadata": {}
        },
        {
          "output_type": "stream",
          "name": "stdout",
          "text": [
            "---\n",
            "Time taken: 0.8047 seconds\n"
          ]
        }
      ]
    },
    {
      "cell_type": "markdown",
      "source": [
        "### **`concurrent.futures.ThreadPoolExecutor()`**\n",
        "\n",
        "The `concurrent.futures` module provides a high-level interface for asynchronously executing callables using threads or processes. The `ThreadPoolExecutor` class allows you to manage a pool of threads, making it easy to submit tasks and retrieve results without needing to manage the threads manually.\n",
        "\n",
        "<br>\n",
        "\n",
        "Here's a quick overview of how it works:\n",
        "\n",
        "  -\t**Create a Thread Pool**: Instantiate a `ThreadPoolExecutor` with a specified number of threads. If you don't specify, it defaults to the number of processors on your machine.\n",
        "  -\t**Submit Tasks**: Submit tasks using the `submit()` method, which returns a ***`Future`*** object representing the execution of the callable.\n",
        "  -\t**Gather Results**: Use the `result()` method on the ***`Future`*** object to obtain the result once the task has completed.\n",
        "\n",
        "  > ***`Futures`*** represent the eventual result (promise) of an asynchronous computation. They provide methods to check if the computation is done, wait for its completion, and retrieve the result.\n",
        "\n",
        "<br>\n",
        "\n",
        "> 📒 **Note:** You can use the `as_completed()` function to retrieve results as soon as they are available. This method does not maintain the order of the tasks as they were submitted.\n"
      ],
      "metadata": {
        "id": "65o7jLrP469t"
      }
    },
    {
      "cell_type": "code",
      "source": [
        "from concurrent.futures import ThreadPoolExecutor, as_completed"
      ],
      "metadata": {
        "id": "Ie33pSdNFU_9"
      },
      "execution_count": null,
      "outputs": []
    },
    {
      "cell_type": "code",
      "source": [
        "start = time.perf_counter()\n",
        "print(\"Multithreading code execution...\")\n",
        "\n",
        "results = []\n",
        "max_workers = len(urls)\n",
        "\n",
        "# Create a thread pool\n",
        "with ThreadPoolExecutor(max_workers=max_workers) as executor:\n",
        "  # Submit all tasks and get future objects\n",
        "  future_to_url = {\n",
        "    executor.submit(download_page, url): url\n",
        "    for url in urls\n",
        "  }\n",
        "\n",
        "  # Wait and collect results as they complete before execute more code below\n",
        "  for future in as_completed(future_to_url):\n",
        "    results.append(future.result())\n",
        "\n",
        "pprint(results)\n",
        "print(\"---\")\n",
        "print(f\"Time taken: {time.perf_counter() - start:.4f} seconds\")"
      ],
      "metadata": {
        "id": "SV3sURv_By0q",
        "colab": {
          "base_uri": "https://localhost:8080/",
          "height": 275
        },
        "outputId": "99273ba6-fbd0-4fb4-a80b-9270833a7fa3"
      },
      "execution_count": null,
      "outputs": [
        {
          "output_type": "stream",
          "name": "stdout",
          "text": [
            "Multithreading code execution...\n",
            "Downloading: https://www.example.com\n",
            "Downloading: https://www.python.org\n",
            "Downloading: https://www.github.com\n",
            "Downloading: https://www.stackoverflow.com\n",
            "Downloading: https://www.wikipedia.org\n"
          ]
        },
        {
          "output_type": "display_data",
          "data": {
            "text/plain": [
              "\u001b[1m[\u001b[0m\n",
              "\u001b[2;32m│   \u001b[0m\u001b[1m{\u001b[0m\u001b[32m'url'\u001b[0m: \u001b[32m'https://www.python.org'\u001b[0m, \u001b[32m'status'\u001b[0m: \u001b[1;36m200\u001b[0m, \u001b[32m'length'\u001b[0m: \u001b[1;36m51334\u001b[0m\u001b[1m}\u001b[0m,\n",
              "\u001b[2;32m│   \u001b[0m\u001b[1m{\u001b[0m\u001b[32m'url'\u001b[0m: \u001b[32m'https://www.example.com'\u001b[0m, \u001b[32m'status'\u001b[0m: \u001b[1;36m200\u001b[0m, \u001b[32m'length'\u001b[0m: \u001b[1;36m1256\u001b[0m\u001b[1m}\u001b[0m,\n",
              "\u001b[2;32m│   \u001b[0m\u001b[1m{\u001b[0m\u001b[32m'url'\u001b[0m: \u001b[32m'https://www.wikipedia.org'\u001b[0m, \u001b[32m'status'\u001b[0m: \u001b[1;36m200\u001b[0m, \u001b[32m'length'\u001b[0m: \u001b[1;36m99998\u001b[0m\u001b[1m}\u001b[0m,\n",
              "\u001b[2;32m│   \u001b[0m\u001b[1m{\u001b[0m\u001b[32m'url'\u001b[0m: \u001b[32m'https://www.github.com'\u001b[0m, \u001b[32m'status'\u001b[0m: \u001b[1;36m200\u001b[0m, \u001b[32m'length'\u001b[0m: \u001b[1;36m155930\u001b[0m\u001b[1m}\u001b[0m,\n",
              "\u001b[2;32m│   \u001b[0m\u001b[1m{\u001b[0m\u001b[32m'url'\u001b[0m: \u001b[32m'https://www.stackoverflow.com'\u001b[0m, \u001b[32m'status'\u001b[0m: \u001b[1;36m200\u001b[0m, \u001b[32m'length'\u001b[0m: \u001b[1;36m133137\u001b[0m\u001b[1m}\u001b[0m\n",
              "\u001b[1m]\u001b[0m\n"
            ],
            "text/html": [
              "<pre style=\"white-space:pre;overflow-x:auto;line-height:normal;font-family:Menlo,'DejaVu Sans Mono',consolas,'Courier New',monospace\"><span style=\"font-weight: bold\">[</span>\n",
              "<span style=\"color: #7fbf7f; text-decoration-color: #7fbf7f\">│   </span><span style=\"font-weight: bold\">{</span><span style=\"color: #008000; text-decoration-color: #008000\">'url'</span>: <span style=\"color: #008000; text-decoration-color: #008000\">'https://www.python.org'</span>, <span style=\"color: #008000; text-decoration-color: #008000\">'status'</span>: <span style=\"color: #008080; text-decoration-color: #008080; font-weight: bold\">200</span>, <span style=\"color: #008000; text-decoration-color: #008000\">'length'</span>: <span style=\"color: #008080; text-decoration-color: #008080; font-weight: bold\">51334</span><span style=\"font-weight: bold\">}</span>,\n",
              "<span style=\"color: #7fbf7f; text-decoration-color: #7fbf7f\">│   </span><span style=\"font-weight: bold\">{</span><span style=\"color: #008000; text-decoration-color: #008000\">'url'</span>: <span style=\"color: #008000; text-decoration-color: #008000\">'https://www.example.com'</span>, <span style=\"color: #008000; text-decoration-color: #008000\">'status'</span>: <span style=\"color: #008080; text-decoration-color: #008080; font-weight: bold\">200</span>, <span style=\"color: #008000; text-decoration-color: #008000\">'length'</span>: <span style=\"color: #008080; text-decoration-color: #008080; font-weight: bold\">1256</span><span style=\"font-weight: bold\">}</span>,\n",
              "<span style=\"color: #7fbf7f; text-decoration-color: #7fbf7f\">│   </span><span style=\"font-weight: bold\">{</span><span style=\"color: #008000; text-decoration-color: #008000\">'url'</span>: <span style=\"color: #008000; text-decoration-color: #008000\">'https://www.wikipedia.org'</span>, <span style=\"color: #008000; text-decoration-color: #008000\">'status'</span>: <span style=\"color: #008080; text-decoration-color: #008080; font-weight: bold\">200</span>, <span style=\"color: #008000; text-decoration-color: #008000\">'length'</span>: <span style=\"color: #008080; text-decoration-color: #008080; font-weight: bold\">99998</span><span style=\"font-weight: bold\">}</span>,\n",
              "<span style=\"color: #7fbf7f; text-decoration-color: #7fbf7f\">│   </span><span style=\"font-weight: bold\">{</span><span style=\"color: #008000; text-decoration-color: #008000\">'url'</span>: <span style=\"color: #008000; text-decoration-color: #008000\">'https://www.github.com'</span>, <span style=\"color: #008000; text-decoration-color: #008000\">'status'</span>: <span style=\"color: #008080; text-decoration-color: #008080; font-weight: bold\">200</span>, <span style=\"color: #008000; text-decoration-color: #008000\">'length'</span>: <span style=\"color: #008080; text-decoration-color: #008080; font-weight: bold\">155930</span><span style=\"font-weight: bold\">}</span>,\n",
              "<span style=\"color: #7fbf7f; text-decoration-color: #7fbf7f\">│   </span><span style=\"font-weight: bold\">{</span><span style=\"color: #008000; text-decoration-color: #008000\">'url'</span>: <span style=\"color: #008000; text-decoration-color: #008000\">'https://www.stackoverflow.com'</span>, <span style=\"color: #008000; text-decoration-color: #008000\">'status'</span>: <span style=\"color: #008080; text-decoration-color: #008080; font-weight: bold\">200</span>, <span style=\"color: #008000; text-decoration-color: #008000\">'length'</span>: <span style=\"color: #008080; text-decoration-color: #008080; font-weight: bold\">133137</span><span style=\"font-weight: bold\">}</span>\n",
              "<span style=\"font-weight: bold\">]</span>\n",
              "</pre>\n"
            ]
          },
          "metadata": {}
        },
        {
          "output_type": "stream",
          "name": "stdout",
          "text": [
            "---\n",
            "Time taken: 0.7961 seconds\n"
          ]
        }
      ]
    },
    {
      "cell_type": "markdown",
      "source": [
        "Nice, our code is running much faster now that we are using threads!"
      ],
      "metadata": {
        "id": "KGM1Kpu_OYnK"
      }
    },
    {
      "cell_type": "markdown",
      "source": [
        "### **`threading` (Additional Material)**\n",
        "\n",
        "The `threading` library in Python is a low-level module that allows you to create and manage threads manually. While it gives you more control over thread behavior, such as starting, stopping, and joining threads, it also requires more careful management to avoid common pitfalls like race conditions.\n",
        "\n",
        "<br>\n",
        "\n",
        "Here's a quick overview of how it works:\n",
        "\n",
        "  -\t**Creating Threads**: You can create a new thread by instantiating the `Thread` class and passing it a target function to execute.\n",
        "  -\t**Starting and Joining Threads**: Once a thread is created, you can start it with the `start()` method. To ensure the main program waits for a thread to complete its execution, you use the `join()` method.\n",
        "  -\t**Synchronization**: Since threads share the same memory space, synchronization mechanisms (like locks, semaphores, and conditions) are essential to prevent conflicts when accessing shared resources.\n",
        "\n",
        "<br>\n",
        "\n",
        "> 📒 **Note:** While the `threading` library provides flexibility, for most scenarios, especially I/O-bound tasks, `concurrent.futures.ThreadPoolExecutor()` offers a simpler and more efficient approach to concurrent programming in Python."
      ],
      "metadata": {
        "id": "Xa--WR-qxTHV"
      }
    },
    {
      "cell_type": "code",
      "source": [
        "import threading\n",
        "\n",
        "\n",
        "def download_page_t(url: str, results: list[Any]):\n",
        "  \"\"\"\n",
        "  Threads cannot return values. Therefore, we use a list to store the results.\n",
        "  Warning: This code is not thread-safe. For thread-safe append operation, use `threading.Lock()`.\n",
        "  \"\"\"\n",
        "  resp = requests.get(url)\n",
        "  time.sleep(0.5)\n",
        "  results.append(\n",
        "    {\n",
        "      \"url\": url,\n",
        "      \"status\": resp.status_code,\n",
        "      \"length\": len(resp.text)\n",
        "    }\n",
        "  )\n",
        "\n",
        "\n",
        "def download_page_t_safe(url: str, results: list[Any]):\n",
        "  \"\"\"\n",
        "  Thread-safe version.\n",
        "  \"\"\"\n",
        "  try:\n",
        "    resp = requests.get(url)\n",
        "    time.sleep(0.5)\n",
        "    # Thread-safe append operation\n",
        "    with threading.Lock():\n",
        "      results.append({\"url\": url, \"status\": resp.status_code, \"length\": len(resp.text)})\n",
        "  except Exception as e:\n",
        "    with threading.Lock():\n",
        "      results.append((url, f\"Error: {str(e)}\"))\n",
        "\n",
        "\n",
        "start = time.perf_counter()\n",
        "print(\"Multithreading code execution...\")\n",
        "\n",
        "# Create a list to hold results\n",
        "results = []\n",
        "threads = []\n",
        "\n",
        "for url in urls:\n",
        "  # Create a thread for each URL\n",
        "  thread = threading.Thread(target=download_page_t_safe, args=(url, results))\n",
        "  threads.append(thread)\n",
        "  thread.start()\n",
        "\n",
        "# Wait for all threads to complete\n",
        "for thread in threads:\n",
        "  thread.join()\n",
        "\n",
        "pprint(results)\n",
        "print(\"---\")\n",
        "print(f\"Time taken: {time.perf_counter() - start:.4f} seconds\")"
      ],
      "metadata": {
        "id": "Muu_YabGBvAZ",
        "colab": {
          "base_uri": "https://localhost:8080/"
        },
        "outputId": "ccdbc453-5379-4859-9028-cb5f7836050e"
      },
      "execution_count": null,
      "outputs": [
        {
          "output_type": "stream",
          "name": "stdout",
          "text": [
            "Multithreading code execution...\n"
          ]
        },
        {
          "output_type": "display_data",
          "data": {
            "text/plain": [
              "\u001b[1m[\u001b[0m\n",
              "\u001b[2;32m│   \u001b[0m\u001b[1m{\u001b[0m\u001b[32m'url'\u001b[0m: \u001b[32m'https://www.python.org'\u001b[0m, \u001b[32m'status'\u001b[0m: \u001b[1;36m200\u001b[0m, \u001b[32m'length'\u001b[0m: \u001b[1;36m51334\u001b[0m\u001b[1m}\u001b[0m,\n",
              "\u001b[2;32m│   \u001b[0m\u001b[1m{\u001b[0m\u001b[32m'url'\u001b[0m: \u001b[32m'https://www.example.com'\u001b[0m, \u001b[32m'status'\u001b[0m: \u001b[1;36m200\u001b[0m, \u001b[32m'length'\u001b[0m: \u001b[1;36m1256\u001b[0m\u001b[1m}\u001b[0m,\n",
              "\u001b[2;32m│   \u001b[0m\u001b[1m{\u001b[0m\u001b[32m'url'\u001b[0m: \u001b[32m'https://www.wikipedia.org'\u001b[0m, \u001b[32m'status'\u001b[0m: \u001b[1;36m200\u001b[0m, \u001b[32m'length'\u001b[0m: \u001b[1;36m99998\u001b[0m\u001b[1m}\u001b[0m,\n",
              "\u001b[2;32m│   \u001b[0m\u001b[1m{\u001b[0m\u001b[32m'url'\u001b[0m: \u001b[32m'https://www.github.com'\u001b[0m, \u001b[32m'status'\u001b[0m: \u001b[1;36m200\u001b[0m, \u001b[32m'length'\u001b[0m: \u001b[1;36m155929\u001b[0m\u001b[1m}\u001b[0m,\n",
              "\u001b[2;32m│   \u001b[0m\u001b[1m{\u001b[0m\u001b[32m'url'\u001b[0m: \u001b[32m'https://www.stackoverflow.com'\u001b[0m, \u001b[32m'status'\u001b[0m: \u001b[1;36m200\u001b[0m, \u001b[32m'length'\u001b[0m: \u001b[1;36m133137\u001b[0m\u001b[1m}\u001b[0m\n",
              "\u001b[1m]\u001b[0m\n"
            ],
            "text/html": [
              "<pre style=\"white-space:pre;overflow-x:auto;line-height:normal;font-family:Menlo,'DejaVu Sans Mono',consolas,'Courier New',monospace\"><span style=\"font-weight: bold\">[</span>\n",
              "<span style=\"color: #7fbf7f; text-decoration-color: #7fbf7f\">│   </span><span style=\"font-weight: bold\">{</span><span style=\"color: #008000; text-decoration-color: #008000\">'url'</span>: <span style=\"color: #008000; text-decoration-color: #008000\">'https://www.python.org'</span>, <span style=\"color: #008000; text-decoration-color: #008000\">'status'</span>: <span style=\"color: #008080; text-decoration-color: #008080; font-weight: bold\">200</span>, <span style=\"color: #008000; text-decoration-color: #008000\">'length'</span>: <span style=\"color: #008080; text-decoration-color: #008080; font-weight: bold\">51334</span><span style=\"font-weight: bold\">}</span>,\n",
              "<span style=\"color: #7fbf7f; text-decoration-color: #7fbf7f\">│   </span><span style=\"font-weight: bold\">{</span><span style=\"color: #008000; text-decoration-color: #008000\">'url'</span>: <span style=\"color: #008000; text-decoration-color: #008000\">'https://www.example.com'</span>, <span style=\"color: #008000; text-decoration-color: #008000\">'status'</span>: <span style=\"color: #008080; text-decoration-color: #008080; font-weight: bold\">200</span>, <span style=\"color: #008000; text-decoration-color: #008000\">'length'</span>: <span style=\"color: #008080; text-decoration-color: #008080; font-weight: bold\">1256</span><span style=\"font-weight: bold\">}</span>,\n",
              "<span style=\"color: #7fbf7f; text-decoration-color: #7fbf7f\">│   </span><span style=\"font-weight: bold\">{</span><span style=\"color: #008000; text-decoration-color: #008000\">'url'</span>: <span style=\"color: #008000; text-decoration-color: #008000\">'https://www.wikipedia.org'</span>, <span style=\"color: #008000; text-decoration-color: #008000\">'status'</span>: <span style=\"color: #008080; text-decoration-color: #008080; font-weight: bold\">200</span>, <span style=\"color: #008000; text-decoration-color: #008000\">'length'</span>: <span style=\"color: #008080; text-decoration-color: #008080; font-weight: bold\">99998</span><span style=\"font-weight: bold\">}</span>,\n",
              "<span style=\"color: #7fbf7f; text-decoration-color: #7fbf7f\">│   </span><span style=\"font-weight: bold\">{</span><span style=\"color: #008000; text-decoration-color: #008000\">'url'</span>: <span style=\"color: #008000; text-decoration-color: #008000\">'https://www.github.com'</span>, <span style=\"color: #008000; text-decoration-color: #008000\">'status'</span>: <span style=\"color: #008080; text-decoration-color: #008080; font-weight: bold\">200</span>, <span style=\"color: #008000; text-decoration-color: #008000\">'length'</span>: <span style=\"color: #008080; text-decoration-color: #008080; font-weight: bold\">155929</span><span style=\"font-weight: bold\">}</span>,\n",
              "<span style=\"color: #7fbf7f; text-decoration-color: #7fbf7f\">│   </span><span style=\"font-weight: bold\">{</span><span style=\"color: #008000; text-decoration-color: #008000\">'url'</span>: <span style=\"color: #008000; text-decoration-color: #008000\">'https://www.stackoverflow.com'</span>, <span style=\"color: #008000; text-decoration-color: #008000\">'status'</span>: <span style=\"color: #008080; text-decoration-color: #008080; font-weight: bold\">200</span>, <span style=\"color: #008000; text-decoration-color: #008000\">'length'</span>: <span style=\"color: #008080; text-decoration-color: #008080; font-weight: bold\">133137</span><span style=\"font-weight: bold\">}</span>\n",
              "<span style=\"font-weight: bold\">]</span>\n",
              "</pre>\n"
            ]
          },
          "metadata": {}
        },
        {
          "output_type": "stream",
          "name": "stdout",
          "text": [
            "---\n",
            "Time taken: 0.8122 seconds\n"
          ]
        }
      ]
    },
    {
      "cell_type": "markdown",
      "source": [
        "### **Example: Counting Machine**\n",
        "\n",
        "> 💡 Multithreading isn't just about optimizing your code. It's also used when you need your code to do multiple things at once (concurrency).\n",
        "\n",
        "<br>\n",
        "\n",
        "Consider a simple but practical application of multithreading: a counter that starts at any integer (or zero by default), displays the current count every second, and allows you to manually adjust the count by entering a number or stop the counter by entering 'stop'.\n",
        "\n",
        "<br>\n",
        "\n",
        "<div align=\"center\">\n",
        "<img src=\"https://media.giphy.com/media/v1.Y2lkPTc5MGI3NjExOGozaHB6d2k2ZGNqZmJnN3U3dG51eTRtZ3hnOTUyYXpqemYwdjU5MiZlcD12MV9naWZzX3NlYXJjaCZjdD1n/08GcL1Wmk88Z8ggOI8/giphy.gif\" alt=\"counting numbers\" style=/>\n",
        "<figcaption>How do you count numbers again?</figcaption>\n",
        "</div>\n",
        "\n",
        "To achieve this, we can employ two threads:\n",
        "\n",
        "1. **Counter Thread:**\n",
        "   - Displays the current count every second.\n",
        "\n",
        "2. **Input Thread:**\n",
        "   - Monitors user input.\n",
        "   - Adds the entered number to the count.\n",
        "\n",
        "By using separate threads, we can ensure that the counter keeps ticking while simultaneously allowing for user interaction.\n"
      ],
      "metadata": {
        "id": "eRvYSkTY4tpJ"
      }
    },
    {
      "cell_type": "code",
      "source": [
        "class Counter:\n",
        "  def __init__(self, count: int = 0):\n",
        "    self.count = count\n",
        "    self.running = True\n",
        "\n",
        "  def counter(self):\n",
        "    while self.running:\n",
        "      print(f\"Current count: {self.count}\")\n",
        "      time.sleep(1)\n",
        "\n",
        "  def check_input(self):\n",
        "    while self.running:\n",
        "      input_value = input(\"Enter a positive, negative integer, or 'stop': \")\n",
        "      if input_value.lower() == \"stop\":\n",
        "        self.running = False\n",
        "        break\n",
        "\n",
        "      try:\n",
        "        self.count += int(input_value)\n",
        "      except ValueError:\n",
        "        print(\"Invalid input. Please enter a positive or negative integer.\")\n",
        "\n",
        "  def start(self):\n",
        "    print(f\"Counter - starting count: {self.count}\")\n",
        "    print(\"Enter 'stop' to stop the counter\")\n",
        "    print(\"==========\")\n",
        "    time.sleep(3)\n",
        "\n",
        "    with ThreadPoolExecutor(max_workers=2) as executor:\n",
        "      executor.submit(self.counter)\n",
        "      executor.submit(self.check_input)"
      ],
      "metadata": {
        "id": "nfsncShnFvDY"
      },
      "execution_count": null,
      "outputs": []
    },
    {
      "cell_type": "code",
      "source": [
        "counter = Counter()\n",
        "counter.start()"
      ],
      "metadata": {
        "colab": {
          "base_uri": "https://localhost:8080/"
        },
        "id": "tC-83A-zLYTO",
        "outputId": "25597d5b-c85f-4fe4-9d02-c51e44a50ed8"
      },
      "execution_count": null,
      "outputs": [
        {
          "name": "stdout",
          "output_type": "stream",
          "text": [
            "Counter - starting count: 0\n",
            "Enter 'stop' to stop the counter\n",
            "==========\n",
            "Current count: 0\n",
            "Current count: 0\n",
            "Current count: 0\n",
            "Enter a positive, negative integer, or 'stop': 2\n",
            "Current count: 2\n",
            "Enter a positive, negative integer, or 'stop': 5\n",
            "Current count: 2\n",
            "Current count: 7\n",
            "Current count: 7\n",
            "Current count: 7\n",
            "Current count: 7\n",
            "Current count: 7\n",
            "Enter a positive, negative integer, or 'stop': 10\n",
            "Current count: 17\n",
            "Current count: 17\n",
            "Enter a positive, negative integer, or 'stop': 12\n",
            "Current count: 17\n",
            "Current count: 29\n",
            "Current count: 29\n",
            "Current count: 29\n",
            "Current count: 29\n",
            "Current count: 29\n",
            "Enter a positive, negative integer, or 'stop': -20\n",
            "Current count: 9\n",
            "Current count: 9\n",
            "Enter a positive, negative integer, or 'stop': stop\n"
          ]
        }
      ]
    },
    {
      "cell_type": "markdown",
      "source": [
        "Pretty cool, right? Our counter app can do two things at once, thanks to the magic of threads!\n"
      ],
      "metadata": {
        "id": "F8gCOebzN6Ps"
      }
    },
    {
      "cell_type": "markdown",
      "source": [
        "## **Considerations When Using Multithreading**\n",
        "\n",
        "When implementing multithreading, there are several critical factors to keep in mind to ensure optimal performance and avoid common pitfalls:\n",
        "\n",
        "- **Thread Safety and Synchronization**\n",
        "\n",
        "  In a multithreaded environment, threads accessing shared data can cause issues such as race conditions if not handled properly. Use locks, semaphores, or barriers to maintain thread safety, but avoid overusing them as they can reduce performance. When data consistency is essential, carefully consider which synchronization method best suits your needs.\n",
        "\n",
        "- **Overhead and Resource Costs**\n",
        "\n",
        "  Managing multiple threads introduces system overhead, which can reduce performance gains, especially for lightweight tasks. Multithreading is most effective for long-running or I/O-bound tasks, where the performance gain from concurrency justifies the added overhead.\n",
        "\n",
        "- **Global Interpreter Lock (GIL) Limitations in Python**\n",
        "\n",
        "  Python's GIL prevents true parallel execution of threads on CPU-bound tasks, limiting speed improvements. For CPU-intensive tasks, consider multiprocessing instead, as it bypasses the GIL and allows real parallelism.\n",
        "\n",
        "<br>\n",
        "\n",
        "Evaluating these factors can help you decide if multithreading is the best approach or if alternatives like multiprocessing or asynchronous programming might be more effective.\n",
        "\n",
        "In the next class, we will cover multiprocessing."
      ],
      "metadata": {
        "id": "nQ18LxcjJH90"
      }
    }
  ]
}