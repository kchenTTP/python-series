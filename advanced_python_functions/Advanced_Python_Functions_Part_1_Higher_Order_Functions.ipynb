{
  "nbformat": 4,
  "nbformat_minor": 0,
  "metadata": {
    "colab": {
      "provenance": [],
      "collapsed_sections": [
        "KNJQ7xbdZwCn"
      ],
      "toc_visible": true,
      "authorship_tag": "ABX9TyMtFv5XbgnnwC8Du6VLz0rh",
      "include_colab_link": true
    },
    "kernelspec": {
      "name": "python3",
      "display_name": "Python 3"
    },
    "language_info": {
      "name": "python"
    }
  },
  "cells": [
    {
      "cell_type": "markdown",
      "metadata": {
        "id": "view-in-github",
        "colab_type": "text"
      },
      "source": [
        "<a href=\"https://colab.research.google.com/github/kchenTTP/python-series/blob/main/advanced_python_functions/Advanced_Python_Functions_Part_1_Higher_Order_Functions.ipynb\" target=\"_parent\"><img src=\"https://colab.research.google.com/assets/colab-badge.svg\" alt=\"Open In Colab\"/></a>"
      ]
    },
    {
      "cell_type": "markdown",
      "source": [
        "# **Advanced Python Functions Part 1: Higher Order Functions**\n",
        "\n",
        "In our intermediate class, we covered default parameters, variable-length arguments, function scopes, and function documentation. Now, let's take it further by exploring some more advanced function concepts.\n",
        "\n",
        "## **Table of Contents**\n",
        "\n",
        "- [Higher-Order Functions](#scrollTo=XR0znysK2u90)\n",
        "- [Lambda Functions](#scrollTo=-F-K0eG5xRLz)\n",
        "- [Common Higher-Order Functions](#scrollTo=9iKeKO2i7lrA)\n",
        "  - [`sorted()`](#scrollTo=Kfk5UEIm2N9Z)\n",
        "  - [`map()`](#scrollTo=O-ic2tDwRbxX)\n",
        "  - [`filter()`](#scrollTo=7Qd5Mz57UF9z)\n"
      ],
      "metadata": {
        "id": "u77EAJpG99fN"
      }
    },
    {
      "cell_type": "code",
      "source": [
        "from typing import Callable, Any"
      ],
      "metadata": {
        "id": "VbT386J1qeex"
      },
      "execution_count": 1,
      "outputs": []
    },
    {
      "cell_type": "markdown",
      "source": [
        "## **Higher-Order Functions**\n",
        "\n",
        "Higher-order functions are functions that can either:\n",
        "\n",
        "- Accept other functions as arguments\n",
        "- Return functions as results\n",
        "- Perform both of the above\n"
      ],
      "metadata": {
        "id": "XR0znysK2u90"
      }
    },
    {
      "cell_type": "markdown",
      "source": [
        "### **Example 1: Function Tester**\n",
        "\n",
        "This function takes another function as input and tests it against a given value. If the function's return value matches the `expected_result`, the test passes; otherwise, it fails.\n"
      ],
      "metadata": {
        "id": "iVz7ix43y1_P"
      }
    },
    {
      "cell_type": "code",
      "source": [
        "def tester(func: Callable, *, expected_result: Any, **kwargs) -> None:\n",
        "  \"\"\"Test if function will return expected results\"\"\"\n",
        "  try:\n",
        "    res = func(**kwargs)\n",
        "    if not res and expected_result:\n",
        "      print(f\"FAILED: <{func.__name__}> expected '{expected_result}', got '{res}' instead\")\n",
        "      return\n",
        "    assert res == expected_result\n",
        "    print(f\"PASSED: <{func.__name__}>\")\n",
        "  except AssertionError:\n",
        "    print(f\"FAILED: <{func.__name__}> expected '{expected_result}', got '{res}' instead\")"
      ],
      "metadata": {
        "id": "7AregP71qN-f"
      },
      "execution_count": 2,
      "outputs": []
    },
    {
      "cell_type": "code",
      "source": [
        "def greet(name: str, greeting: str = \"Hello\") -> str:\n",
        "  return f\"{greeting}, {name}!\"\n",
        "\n",
        "def do_sth() -> None:\n",
        "  \"\"\"Function that is incorrectly defined\"\"\"\n",
        "  pass\n",
        "\n",
        "\n",
        "tester(greet, expected_result=\"Hello, Mike!\", name=\"Mike\")\n",
        "tester(greet, expected_result=\"G'day, Tim!\", name=\"Tim\", greeting=\"G'day\")\n",
        "tester(greet, expected_result=\"Hey, Mike!\", name=\"Mike\")\n",
        "tester(do_sth, expected_result=[\"a\", \"b\", \"c\"])"
      ],
      "metadata": {
        "colab": {
          "base_uri": "https://localhost:8080/"
        },
        "id": "KRTSHFRpyxZk",
        "outputId": "679107fd-8090-410f-ad4a-80eac9e18ffa"
      },
      "execution_count": 3,
      "outputs": [
        {
          "output_type": "stream",
          "name": "stdout",
          "text": [
            "PASSED: <greet>\n",
            "PASSED: <greet>\n",
            "FAILED: <greet> expected 'Hey, Mike!', got 'Hello, Mike!' instead\n",
            "FAILED: <do_sth> expected '['a', 'b', 'c']', got 'None' instead\n"
          ]
        }
      ]
    },
    {
      "cell_type": "markdown",
      "source": [
        "### **Example 2: Create Logger**\n",
        "\n",
        "This function creates custom logging functions with flexible log levels and timezone options to generate time-stamped log messages with a consistent format.\n",
        "\n",
        "<br>\n",
        "\n",
        "**Components**\n",
        "\n",
        "- **Parameters**\n",
        "  - *`log_level` (str):* Specifies the log level or prefix (e.g., \"INFO\", \"WARNING\").\n",
        "  - *`timezone` (str):* An optional parameter with a default value of \"America/New_York\" that sets the timezone for the timestamp using `pytz`.\n",
        "  - *`cache_len` (list):* A mutable list that stores the length of the longest `log_level`. This ensures all log entries align properly by standardizing the width of the log level display. A list of one integer can be provided to modify the prefix width but it needs to be larger than the length of `log_level`.\n",
        "\n",
        "- **Returns**\n",
        "  - A logger function, which takes a single `message` parameter (the log message) and prints it with a formatted timestamp and log level prefix.\n",
        "\n",
        "<br>\n",
        "\n",
        "> 📒 NOTE: Mutable default arguments (like the empty list in the function above) can be risky due to unintended side effects. However, in this case, I'm intentionally using a mutable default to track the length of different logging texts across the program.\n",
        "\n",
        "<br>\n",
        "\n",
        "**Explanation**\n",
        "\n",
        "1. Updating `cache_len` for Alignment:\n",
        "\n",
        "  `cache_len` is initialized as an empty list, storing the longest `log_level` length found so far. Using a mutable default argument allows each call to `create_logger` to share this list and alignment using the proper character length.\n",
        "\n",
        "  - If `cache_len` is empty, it initializes with the current `log_level` length.\n",
        "  - If `cache_len` already has a value, it updates only if the new `log_level` length is greater than the stored length.\n",
        "\n",
        "2. Defining the `logger` Inner Function:\n",
        "\n",
        "  This inner function `logger` formats and prints log messages using:\n",
        "  \n",
        "  - `log_level`, left-aligned according to `cache_len[0]` to ensure consistent width across different loggers.\n",
        "  - `current_time`, a timestamp based on the `timezone` argument.\n",
        "  - `message`, the message to be logged.\n",
        "\n",
        "3. Returning the `logger` Function:\n",
        "\n",
        "  The `create_logger` function returns this `logger` function, which can be used as a customized logger with a prefix.\n"
      ],
      "metadata": {
        "id": "FQwQkK0mIkEi"
      }
    },
    {
      "cell_type": "code",
      "source": [
        "from datetime import datetime\n",
        "import pytz\n",
        "\n",
        "def create_logger(log_level: str, timezone: str=\"America/New_York\", cache_len: list=[]) -> Callable[[str], None]:\n",
        "  length = len(log_level)\n",
        "  if not cache_len:\n",
        "    cache_len.append(length)\n",
        "  else:\n",
        "    if length > cache_len[0]:\n",
        "      cache_len[0] = length\n",
        "\n",
        "  def logger(message: str) -> None:\n",
        "    current_time = datetime.strftime(datetime.now(tz=pytz.timezone(timezone)), \"%Y-%m-%d %H:%M:%S\")\n",
        "    print(f\"{log_level:<{cache_len[0]}} - {current_time} - {message}\")\n",
        "\n",
        "  return logger\n",
        "\n",
        "\n",
        "info_logger = create_logger(\"INFO\")\n",
        "warning_logger = create_logger(\"WARNING\")\n",
        "\n",
        "info_logger(\"This is an info message\")\n",
        "warning_logger(\"This is a warning message\")"
      ],
      "metadata": {
        "colab": {
          "base_uri": "https://localhost:8080/"
        },
        "id": "T0hMDWJrBBb0",
        "outputId": "a6592d5c-fb33-4b0d-c14d-793a31895de3"
      },
      "execution_count": 4,
      "outputs": [
        {
          "output_type": "stream",
          "name": "stdout",
          "text": [
            "INFO    - 2025-04-02 15:35:30 - This is an info message\n",
            "WARNING - 2025-04-02 15:35:30 - This is a warning message\n"
          ]
        }
      ]
    },
    {
      "cell_type": "markdown",
      "source": [
        "## **Lambda Functions**\n",
        "\n",
        "Higher-order functions are powerful because they allow you to treat functions as first-class citizens, making your code more flexible and reusable.\n",
        "\n",
        "However, sometimes you only need a function once, and defining a full function for that can feel unnecessary. That's where **lambda functions** come in. They let you create quick, one-off functions without the overhead of a formal function definition.\n",
        "\n",
        "Lambda functions are small, anonymous functions that can take any number of arguments but must contain a **single expression**. They are particularly useful for short operations where defining a full function would be excessive.\n",
        "\n",
        "<br>\n",
        "\n",
        "**Key Concepts**\n",
        "\n",
        "- **Single Expression Only**\n",
        "\n",
        "  A lambda function can only contain one expression, which is evaluated and returned.\n",
        "\n",
        "- **Can be used as function arguments**\n",
        "\n",
        "  Lambda functions can be passed as arguments to higher-order functions like `map()`, `filter()`, and `sorted()`.\n",
        "  \n",
        "- **Useful for sorting and filtering**\n",
        "\n",
        "  They are often used for single usage operations like sorting lists or filtering data without needing a named function.\n",
        "\n",
        "- **Should be simple and readable**\n",
        "\n",
        "  Lambda functions are best for simple operations; complex logic should be implemented in a regular function for clarity.\n",
        "\n",
        "<br>\n",
        "\n",
        "**Syntax**\n",
        "\n",
        "```python\n",
        "lambda arguments: expression\n",
        "```\n"
      ],
      "metadata": {
        "id": "-F-K0eG5xRLz"
      }
    },
    {
      "cell_type": "markdown",
      "source": [
        "To show how lambda functions truely work underneath the hood. Here's a few lambda functions and their equivalent functions if they were defined like a regular function:"
      ],
      "metadata": {
        "id": "CgioQ_iPqvhK"
      }
    },
    {
      "cell_type": "code",
      "source": [
        "def square_verbose(x):\n",
        "  return x ** 2\n",
        "\n",
        "square = lambda x: x ** 2\n",
        "\n",
        "print(square_verbose(3))\n",
        "print(square(3))"
      ],
      "metadata": {
        "colab": {
          "base_uri": "https://localhost:8080/"
        },
        "id": "Di7WTd8cze9c",
        "outputId": "4b41978c-2f2e-4960-bdf6-0e1e7b05af37"
      },
      "execution_count": 5,
      "outputs": [
        {
          "output_type": "stream",
          "name": "stdout",
          "text": [
            "9\n",
            "9\n"
          ]
        }
      ]
    },
    {
      "cell_type": "code",
      "source": [
        "def get_max_verbose(a, b):\n",
        "  return a if a > b else b\n",
        "\n",
        "get_max = lambda a, b: a if a > b else b\n",
        "\n",
        "print(get_max_verbose(1, 2))\n",
        "print(get_max(1, 2))"
      ],
      "metadata": {
        "colab": {
          "base_uri": "https://localhost:8080/"
        },
        "id": "Yiqo0H3trKKz",
        "outputId": "e6fbb04c-f8ed-4dd0-dda6-48571b1a59f0"
      },
      "execution_count": 6,
      "outputs": [
        {
          "output_type": "stream",
          "name": "stdout",
          "text": [
            "2\n",
            "2\n"
          ]
        }
      ]
    },
    {
      "cell_type": "code",
      "source": [
        "# Lambda with conditional logic\n",
        "is_adult = lambda age: \"Adult\" if age >= 18 else \"Minor\"\n",
        "print(is_adult(25))\n",
        "print(is_adult(15))"
      ],
      "metadata": {
        "colab": {
          "base_uri": "https://localhost:8080/"
        },
        "id": "ZVf6dAUF0d4l",
        "outputId": "190c10a4-309c-4f16-911f-346c5d6f1ba1"
      },
      "execution_count": 7,
      "outputs": [
        {
          "output_type": "stream",
          "name": "stdout",
          "text": [
            "Adult\n",
            "Minor\n"
          ]
        }
      ]
    },
    {
      "cell_type": "code",
      "source": [
        "# Lambda with list comprehension\n",
        "format_names = lambda lst: [str(x).title() for x in lst]\n",
        "print(format_names([\"alice\", \"BOB\", \"ChArLiE\"]))\n",
        "\n",
        "flatten_list = lambda lst: [item for sublist in lst for item in sublist]\n",
        "print(flatten_list([[1, 2, 3], [4, 5], [6, 7, 8, 9]]))"
      ],
      "metadata": {
        "colab": {
          "base_uri": "https://localhost:8080/"
        },
        "id": "tahUfXrP03EK",
        "outputId": "c8aee463-3932-4dc1-978d-9db4d01f2cb3"
      },
      "execution_count": 8,
      "outputs": [
        {
          "output_type": "stream",
          "name": "stdout",
          "text": [
            "['Alice', 'Bob', 'Charlie']\n",
            "[1, 2, 3, 4, 5, 6, 7, 8, 9]\n"
          ]
        }
      ]
    },
    {
      "cell_type": "markdown",
      "source": [
        "> 💡 NOTE: You typically don't assign a lambda function to a variable (this is highly discouraged). Instead, use it directly where an anonymous function is needed, such as [higher-order functions](#scrollTo=XR0znysK2u90), which we will cover some in the next section.\n"
      ],
      "metadata": {
        "id": "FZsOihwG0IlU"
      }
    },
    {
      "cell_type": "markdown",
      "source": [
        "## **Common Higher-Order Functions in Python**\n",
        "\n",
        "- `sorted()`\n",
        "- `map()`\n",
        "- `filter()`\n",
        "- `reduce()`\n",
        "\n",
        "> 💡 These functions are very often used with [lambda functions](#scrollTo=-F-K0eG5xRLz)\n"
      ],
      "metadata": {
        "id": "9iKeKO2i7lrA"
      }
    },
    {
      "cell_type": "markdown",
      "source": [
        "### `sorted()`\n",
        "\n",
        "The `sorted()` function takes a list and sorts it based on the criteria specified in the `key` argument.\n"
      ],
      "metadata": {
        "id": "Kfk5UEIm2N9Z"
      }
    },
    {
      "cell_type": "code",
      "source": [
        "# How sorted works\n",
        "l1 = [2, 5, 1, 3, 4]\n",
        "\n",
        "print(sorted(l1))\n",
        "print(sorted(l1, key=lambda x: x)) # the is the default lambda function when sorting a list\n",
        "print(sorted(l1, reverse=True))\n",
        "\n",
        "# Sort list based on index 0\n",
        "l2 = [[4, 7], [9, 1], [3, 2]]\n",
        "\n",
        "print(sorted(l2, key=lambda x: x[0]))"
      ],
      "metadata": {
        "colab": {
          "base_uri": "https://localhost:8080/"
        },
        "id": "3kjnLpDQuXKF",
        "outputId": "cd5dfecb-b97d-4b8e-e05c-d531b978a266"
      },
      "execution_count": 9,
      "outputs": [
        {
          "output_type": "stream",
          "name": "stdout",
          "text": [
            "[1, 2, 3, 4, 5]\n",
            "[1, 2, 3, 4, 5]\n",
            "[5, 4, 3, 2, 1]\n",
            "[[3, 2], [4, 7], [9, 1]]\n"
          ]
        }
      ]
    },
    {
      "cell_type": "markdown",
      "source": [
        "We can even sort a list of dictionaries:\n"
      ],
      "metadata": {
        "id": "AirMfNFewWSh"
      }
    },
    {
      "cell_type": "code",
      "source": [
        "# Sort dictionary basd on a dictionary key\n",
        "def sort_objects(\n",
        "    objects: list[dict[str, Any]],\n",
        "    sort_key: str,\n",
        "    default_value: Any = \"\",\n",
        "    reverse: bool = False\n",
        ") -> list[dict]:\n",
        "  \"\"\"Sort a list of dictionaries by a single key.\n",
        "\n",
        "  Args:\n",
        "    objects (list[dict[str, Any]]): List of dictionaries to sort\n",
        "    sort_key (str): The dictionary key to sort by\n",
        "    reverse (bool): Whether to reverse the sort\n",
        "\n",
        "  Returns:\n",
        "    Sorted list of dictionaries\n",
        "  \"\"\"\n",
        "  return sorted(\n",
        "      objects,\n",
        "      key=lambda x: x.get(sort_key, default_value), # This will return the value of the sort_key which the sorted function will sort base on the values\n",
        "      reverse=reverse\n",
        "  )\n",
        "\n",
        "\n",
        "data = [\n",
        "    {\"name\": \"Timmy\", \"age\": 35, \"salary\": 60000},\n",
        "    {\"name\": \"John\", \"age\": 25, \"salary\": 55000},\n",
        "    {\"name\": \"Andrea\", \"age\": 30, \"salary\": 75000}\n",
        "]\n",
        "\n",
        "print(\"Sort by age:\", sort_objects(data, \"age\"))\n",
        "print(\"Sort by name:\", sort_objects(data, \"name\"))\n",
        "print(\"Sort by salary (rev):\", sort_objects(data, \"salary\", reverse=True)) # Sort by salary (descending)"
      ],
      "metadata": {
        "colab": {
          "base_uri": "https://localhost:8080/"
        },
        "id": "3Qocyoms2uex",
        "outputId": "04e1fc60-3f7c-45f7-aeed-9c6a7fb76e61"
      },
      "execution_count": 10,
      "outputs": [
        {
          "output_type": "stream",
          "name": "stdout",
          "text": [
            "Sort by age: [{'name': 'John', 'age': 25, 'salary': 55000}, {'name': 'Andrea', 'age': 30, 'salary': 75000}, {'name': 'Timmy', 'age': 35, 'salary': 60000}]\n",
            "Sort by name: [{'name': 'Andrea', 'age': 30, 'salary': 75000}, {'name': 'John', 'age': 25, 'salary': 55000}, {'name': 'Timmy', 'age': 35, 'salary': 60000}]\n",
            "Sort by salary (rev): [{'name': 'Andrea', 'age': 30, 'salary': 75000}, {'name': 'Timmy', 'age': 35, 'salary': 60000}, {'name': 'John', 'age': 25, 'salary': 55000}]\n"
          ]
        }
      ]
    },
    {
      "cell_type": "markdown",
      "source": [
        "### **`map()`**\n",
        "\n",
        "Applies a function to every item in an iterable, creating a new iterable with the results. Useful for transforming data without using loops.\n"
      ],
      "metadata": {
        "id": "O-ic2tDwRbxX"
      }
    },
    {
      "cell_type": "code",
      "source": [
        "# Squaring a list of numbers\n",
        "numbers = [1, 2, 3, 4, 5]\n",
        "squared_numbers = list(map(lambda x: x ** 2, numbers))\n",
        "print(squared_numbers)"
      ],
      "metadata": {
        "id": "HVzA85-_xgt4",
        "colab": {
          "base_uri": "https://localhost:8080/"
        },
        "outputId": "4b842cd7-a15d-463b-b59f-aa35acd04092"
      },
      "execution_count": 11,
      "outputs": [
        {
          "output_type": "stream",
          "name": "stdout",
          "text": [
            "[1, 4, 9, 16, 25]\n"
          ]
        }
      ]
    },
    {
      "cell_type": "code",
      "source": [
        "# Process a list of names\n",
        "names = [\"Janice\", \"Allen  \", \"\\nBarba\"]\n",
        "processed_names = list(map(lambda x: x.strip().upper(), names))\n",
        "print(processed_names)"
      ],
      "metadata": {
        "colab": {
          "base_uri": "https://localhost:8080/"
        },
        "id": "XYnh18ELRbW7",
        "outputId": "59eba1b4-5eaf-49dc-b9b7-f1c2af6a562d"
      },
      "execution_count": 12,
      "outputs": [
        {
          "output_type": "stream",
          "name": "stdout",
          "text": [
            "['JANICE', 'ALLEN', 'BARBA']\n"
          ]
        }
      ]
    },
    {
      "cell_type": "markdown",
      "source": [
        "### **`filter()`**\n",
        "\n",
        "Selects items from an iterable based on a function that returns `True` or `False`, returning only items that meet the condition.\n"
      ],
      "metadata": {
        "id": "7Qd5Mz57UF9z"
      }
    },
    {
      "cell_type": "code",
      "source": [
        "# Filter even numbers\n",
        "numbers = [1, 2, 3, 4, 5]\n",
        "even_numbers = list(filter(lambda x: x % 2 == 0, numbers))\n",
        "print(even_numbers)\n",
        "\n",
        "# Filter number greater than or equal to 3\n",
        "filtered_numbers = list(filter(lambda x: x >= 3, numbers))\n",
        "print(filtered_numbers)"
      ],
      "metadata": {
        "colab": {
          "base_uri": "https://localhost:8080/"
        },
        "id": "ZCp7OiK7UemX",
        "outputId": "7be53e88-90c0-4f6a-f44f-f9858e367b18"
      },
      "execution_count": 13,
      "outputs": [
        {
          "output_type": "stream",
          "name": "stdout",
          "text": [
            "[2, 4]\n",
            "[3, 4, 5]\n"
          ]
        }
      ]
    },
    {
      "cell_type": "markdown",
      "source": [
        "Here we have a group of people, let's use filter to see if they attended the event and whether they're late:\n"
      ],
      "metadata": {
        "id": "9NnVr_Fl7BhU"
      }
    },
    {
      "cell_type": "code",
      "source": [
        "attendees = [\n",
        "    {\"name\": \"Andy\", \"attended\": True, \"time_arrived\": \"11:34\"},\n",
        "    {\"name\": \"Joclyn\", \"attended\": True, \"time_arrived\": \"12:00\"},\n",
        "    {\"name\": \"Chandler\", \"attended\": True, \"time_arrived\": \"12:01\"},\n",
        "    {\"name\": \"David\", \"attended\": False, \"time_arrived\": \"\"}\n",
        "]"
      ],
      "metadata": {
        "id": "xruIwvkY7SuG"
      },
      "execution_count": 14,
      "outputs": []
    },
    {
      "cell_type": "code",
      "source": [
        "# Get people who attended an event\n",
        "def attended_event(attendees: list[dict[str, Any]]) -> list[dict[str, str]]:\n",
        "  attended = list(filter(lambda x: x[\"attended\"], attendees))\n",
        "  return [p[\"name\"] for p in attended]\n",
        "\n",
        "present_attendees = attended_event(attendees)\n",
        "print(present_attendees)"
      ],
      "metadata": {
        "colab": {
          "base_uri": "https://localhost:8080/"
        },
        "id": "AHVHKLvLUFX3",
        "outputId": "0ac27dfb-01b4-45e5-cf1e-efbf1339fcba"
      },
      "execution_count": 15,
      "outputs": [
        {
          "output_type": "stream",
          "name": "stdout",
          "text": [
            "['Andy', 'Joclyn', 'Chandler']\n"
          ]
        }
      ]
    },
    {
      "cell_type": "code",
      "source": [
        "# Get people who are late\n",
        "def is_late(attendees: list[dict[str, Any]], scheduled_time: str) -> list[dict[str, str]]:\n",
        "  attended = list(filter(lambda x: x[\"attended\"], attendees))\n",
        "\n",
        "  hr, min = scheduled_time.split(\":\")\n",
        "  arrived_same_hr = list(filter(lambda x: int(x[\"time_arrived\"].split(\":\")[0]) >= int(hr), attended))\n",
        "  late = list(filter(lambda x: int(x[\"time_arrived\"].split(\":\")[1]) > int(min), arrived_same_hr))\n",
        "\n",
        "  return [p[\"name\"] for p in late]\n",
        "\n",
        "\n",
        "late_attendees = is_late(attendees, scheduled_time=\"12:00\")\n",
        "print(late_attendees)"
      ],
      "metadata": {
        "colab": {
          "base_uri": "https://localhost:8080/"
        },
        "id": "VOFl6EYV7VLs",
        "outputId": "35f03bc2-f316-458d-97dd-bac694ee5453"
      },
      "execution_count": 16,
      "outputs": [
        {
          "output_type": "stream",
          "name": "stdout",
          "text": [
            "['Chandler']\n"
          ]
        }
      ]
    },
    {
      "cell_type": "markdown",
      "source": [
        "### **`reduce()` (Additional Material)**\n",
        "\n",
        "📒 NOTE: This section covers `reduce()`. While it is a very powerful function, it is less commonly used and can be harder to grasp. Feel free to skip this section until you're comfortable with lambda functions and passing functions as arguments."
      ],
      "metadata": {
        "id": "KNJQ7xbdZwCn"
      }
    },
    {
      "cell_type": "markdown",
      "source": [
        "The `reduce()` function successively reduces an iterable to a single cumulative value by applying a specified function to pairs of items. The function used with reduce must accept two positional arguments, as it operates on pairs of items in sequence.\n",
        "\n",
        "It is commonly used for accumulating data, such as summing, multiplying, or otherwise combining items.\n",
        "\n",
        "> 📒 **Note:** reduce() requires importing from the functools module.\n",
        "\n",
        "**Syntax**\n",
        "\n",
        "```python\n",
        "reduce(lambda arg1, arg2: expression, Iterable)\n",
        "```\n"
      ],
      "metadata": {
        "id": "ciUxFFzW8-mj"
      }
    },
    {
      "cell_type": "code",
      "source": [
        "from functools import reduce"
      ],
      "metadata": {
        "id": "pIQa-aisaW4I"
      },
      "execution_count": 17,
      "outputs": []
    },
    {
      "cell_type": "code",
      "source": [
        "# Multiply all the numbers in the list\n",
        "numbers = [2, 3, 2, 5]\n",
        "product = reduce(lambda prev, next: prev * next, numbers)\n",
        "print(product)"
      ],
      "metadata": {
        "colab": {
          "base_uri": "https://localhost:8080/"
        },
        "id": "95m1NBW_aVY_",
        "outputId": "a6365e16-e060-4e2c-d302-08c955717f7a"
      },
      "execution_count": 18,
      "outputs": [
        {
          "output_type": "stream",
          "name": "stdout",
          "text": [
            "60\n"
          ]
        }
      ]
    },
    {
      "cell_type": "markdown",
      "source": [
        "Here's how the cell above works:\n",
        "\n",
        "1. `reduce` applies a function cumulatively to items in an iterable, from left to right, to reduce them to a single value.\n",
        "2. Lambda Function: The `lambda x, y: x * y` function takes two parameters, `x` and `y`, and multiplies them. This function will be applied to each pair of numbers in numbers in sequence. `x` is the result of the lambda function for the previous pair.\n",
        "3. Reducing the List:\n",
        "  - `reduce` begins with the first two items in numbers (2 and 3) and multiplies them to get 6.\n",
        "  - Then it takes 6 and the next item (2) and multiplies them, resulting in 12.\n",
        "  - Finally, it takes 12 and the last item (5), multiplying them to get 60.\n"
      ],
      "metadata": {
        "id": "hR9UvmbUathV"
      }
    },
    {
      "cell_type": "markdown",
      "source": [
        "##### Examples\n",
        "Here's a couple more examples:\n",
        "\n",
        "> 📒 **Note:** It's okay to not understand the following examples.\n",
        "> - The mental model for `reduce()` and `lambda` functions is pretty tricky.\n",
        "> - Passing functions as arguments also feels weird since we're used to passing values as arguments.\n"
      ],
      "metadata": {
        "id": "ty0mnKzZfaee"
      }
    },
    {
      "cell_type": "code",
      "source": [
        "# Find maximum value\n",
        "numbers = [3, 5, 2, 8, 1]\n",
        "max_value = reduce(lambda x, y: x if x > y else y, numbers)\n",
        "print(max_value)"
      ],
      "metadata": {
        "colab": {
          "base_uri": "https://localhost:8080/"
        },
        "id": "spiNo3arfZwB",
        "outputId": "064808bb-9553-4bba-8229-a847c20378f5"
      },
      "execution_count": 19,
      "outputs": [
        {
          "output_type": "stream",
          "name": "stdout",
          "text": [
            "8\n"
          ]
        }
      ]
    },
    {
      "cell_type": "code",
      "source": [
        "# Merge multiple dictionaries with conflict resolution\n",
        "dicts = [\n",
        "    {'a': 1, 'b': 2},\n",
        "    {'b': 3, 'c': 4},\n",
        "    {'c': 5, 'd': 6}\n",
        "]\n",
        "\n",
        "def merge_resolve(acc: dict, curr: dict) -> dict:\n",
        "  # Unpack previous dictionary to variable d\n",
        "  d = {**acc}\n",
        "\n",
        "  # If conflicted keys, choose the larger value\n",
        "  for k, v in curr.items():\n",
        "    if k in d:\n",
        "      d[k] = max(d[k], v)\n",
        "    else:\n",
        "      d[k] = v\n",
        "\n",
        "  return d\n",
        "\n",
        "merged = reduce(merge_resolve, dicts)\n",
        "print(merged)"
      ],
      "metadata": {
        "colab": {
          "base_uri": "https://localhost:8080/"
        },
        "id": "cWccsJnRhg2P",
        "outputId": "3e1e36c5-0f3c-41d8-d8e7-8e19ad888612"
      },
      "execution_count": 20,
      "outputs": [
        {
          "output_type": "stream",
          "name": "stdout",
          "text": [
            "{'a': 1, 'b': 3, 'c': 5, 'd': 6}\n"
          ]
        }
      ]
    },
    {
      "cell_type": "code",
      "source": [
        "# Compose multiple functions into a pipeline that takes a single argument\n",
        "def compose_functions(*funcs) -> Callable:\n",
        "  \"\"\"Compose (nest) multiple functions into a single function.\"\"\"\n",
        "  return reduce(lambda f, g: lambda x: f(g(x)), funcs)\n",
        "\n",
        "to_upper = lambda s: s.upper()\n",
        "remove_spaces = lambda s: s.replace(' ', '_')\n",
        "add_exclamation = lambda s: s + '!'\n",
        "\n",
        "# Here we use compose_function to basically create a string processing pipeline\n",
        "pipeline = compose_functions(add_exclamation, to_upper, remove_spaces)\n",
        "print(pipeline(\"a quick brown fox jumps over a box\"))\n",
        "\n",
        "# Here's a url processing pipeline\n",
        "process_url = compose_functions(\n",
        "    lambda s: s.strip('/'),\n",
        "    lambda s: s.replace('http', 'https'),\n",
        "    lambda s: s.lower()\n",
        ")\n",
        "print(process_url(\"HTTP://WWW.GOOGLE.COM/\"))"
      ],
      "metadata": {
        "colab": {
          "base_uri": "https://localhost:8080/"
        },
        "id": "FoFazwqfhBv3",
        "outputId": "d1ee746e-278d-471c-df95-8a05c6fdec14"
      },
      "execution_count": 21,
      "outputs": [
        {
          "output_type": "stream",
          "name": "stdout",
          "text": [
            "A_QUICK_BROWN_FOX_JUMPS_OVER_A_BOX!\n",
            "https://www.google.com\n"
          ]
        }
      ]
    },
    {
      "cell_type": "code",
      "source": [
        "# @title Verbose version of the above `compose_functions` example\n",
        "def verbose_pipeline(*funcs):\n",
        "  def compose(f, g):\n",
        "    def composed_function(x):\n",
        "      g_result = g(x)\n",
        "      print(f\"After {g.__name__}: {g_result}\")\n",
        "      f_result = f(g_result)\n",
        "      print(f\"After {f.__name__}: {f_result}\")\n",
        "      return f_result\n",
        "    return composed_function\n",
        "\n",
        "  return reduce(compose, funcs)\n",
        "\n",
        "# Make our functions named for better debugging\n",
        "def remove_spaces(s):\n",
        "  return s.replace(' ', '')\n",
        "\n",
        "def to_upper(s):\n",
        "  return s.upper()\n",
        "\n",
        "def add_exclamation(s):\n",
        "  return s + '!'\n",
        "\n",
        "pipeline = verbose_pipeline(add_exclamation, to_upper, remove_spaces)\n",
        "print(pipeline(\"a quick brown fox jumps over a box\"))\n",
        "\n",
        "print(\"=====\")\n",
        "process_url = verbose_pipeline(\n",
        "    lambda s: s.strip('/'),\n",
        "    lambda s: s.replace('http', 'https'),\n",
        "    lambda s: s.lower()\n",
        ")\n",
        "print(process_url(\"HTTP://WWW.GOOGLE.COM/\"))"
      ],
      "metadata": {
        "id": "wW3nHdvdlBAR",
        "colab": {
          "base_uri": "https://localhost:8080/"
        },
        "outputId": "9d892733-2fc2-4187-b820-d517bb0c57a6"
      },
      "execution_count": 22,
      "outputs": [
        {
          "output_type": "stream",
          "name": "stdout",
          "text": [
            "After remove_spaces: aquickbrownfoxjumpsoverabox\n",
            "After to_upper: AQUICKBROWNFOXJUMPSOVERABOX\n",
            "After add_exclamation: AQUICKBROWNFOXJUMPSOVERABOX!\n",
            "After composed_function: AQUICKBROWNFOXJUMPSOVERABOX!\n",
            "AQUICKBROWNFOXJUMPSOVERABOX!\n",
            "=====\n",
            "After <lambda>: http://www.google.com/\n",
            "After <lambda>: https://www.google.com/\n",
            "After <lambda>: https://www.google.com\n",
            "After composed_function: https://www.google.com\n",
            "https://www.google.com\n"
          ]
        }
      ]
    },
    {
      "cell_type": "markdown",
      "source": [
        "## **Conclusion**\n",
        "\n",
        "That concludes our introduction to higher-order functions! We've explored how functions can be passed as arguments, the power of lambda functions, and common higher-order functions like `sorted()`, `map()`, and `filter()`.\n",
        "\n",
        "For a deeper look at these concepts, check out this article on higher-order functions and closures: [First-Class Functions and Closures in Python - freeCodeCamp](https://www.freecodecamp.org/news/first-class-functions-and-closures-in-python/)\n",
        "\n",
        "<br>\n",
        "\n",
        "In the next class, we'll take things a step further by looking at higher-order functions that return functions as outputs. We'll dive into `closures` and `decorators`, two powerful concepts that enable more advanced function manipulation and customization. See you then! 🚀\n"
      ],
      "metadata": {
        "id": "IBYsxLxr8JwL"
      }
    }
  ]
}