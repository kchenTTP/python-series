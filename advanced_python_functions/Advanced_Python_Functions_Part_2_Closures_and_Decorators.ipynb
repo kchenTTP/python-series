{
  "nbformat": 4,
  "nbformat_minor": 0,
  "metadata": {
    "colab": {
      "provenance": [],
      "collapsed_sections": [
        "P-gvv1GOOTLh",
        "P3Aj9Hiisdwx"
      ],
      "toc_visible": true,
      "authorship_tag": "ABX9TyPUTNBCeLDKhKcE6Bug/wMb",
      "include_colab_link": true
    },
    "kernelspec": {
      "name": "python3",
      "display_name": "Python 3"
    },
    "language_info": {
      "name": "python"
    }
  },
  "cells": [
    {
      "cell_type": "markdown",
      "metadata": {
        "id": "view-in-github",
        "colab_type": "text"
      },
      "source": [
        "<a href=\"https://colab.research.google.com/github/kchenTTP/python-series/blob/main/advanced_python_functions/Advanced_Python_Functions_Part_2_Closures_and_Decorators.ipynb\" target=\"_parent\"><img src=\"https://colab.research.google.com/assets/colab-badge.svg\" alt=\"Open In Colab\"/></a>"
      ]
    },
    {
      "cell_type": "markdown",
      "source": [
        "# **Advanced Python Functions Part 2: Closures & Decorators**\n",
        "\n",
        "In Part 1, we introduced higher-order functions and explored how functions can be passed as arguments. Now, let's take it a step further by looking at **higher-order functions that return functions as outputs**.\n",
        "\n",
        "## **Table of Contents**\n",
        "\n",
        "- [Closures](#scrollTo=bz-UTbfLev05)\n",
        "- [Decorators](#scrollTo=Fkz86bj94ARo)\n",
        "- [Common Decorators](#scrollTo=P3Aj9Hiisdwx)\n"
      ],
      "metadata": {
        "id": "u77EAJpG99fN"
      }
    },
    {
      "cell_type": "code",
      "source": [
        "# Import the libraries we will use in this class\n",
        "from typing import Callable, Any, Union  # Type hint"
      ],
      "metadata": {
        "id": "VbT386J1qeex"
      },
      "execution_count": 1,
      "outputs": []
    },
    {
      "cell_type": "markdown",
      "source": [
        "## **Higher-Order Function Refresher**\n",
        "\n",
        "Higher-order functions are functions that can either:\n",
        "\n",
        "- Accept other functions as arguments\n",
        "- Return functions as results\n",
        "- Perform both of the above\n",
        "\n",
        "Here's a function that takes a function as an argument:\n"
      ],
      "metadata": {
        "id": "djqTVQMjCIGM"
      }
    },
    {
      "cell_type": "code",
      "source": [
        "# Encrypt strings based on provided encryption algorithm\n",
        "def encrypt_message(message: str, encryption_algo: Callable[[str], str], **kwargs) -> str:\n",
        "  return encryption_algo(message, **kwargs)"
      ],
      "metadata": {
        "id": "US8mWzN2CXpd"
      },
      "execution_count": 2,
      "outputs": []
    },
    {
      "cell_type": "code",
      "source": [
        "# decrypt strings based on provided decryption algorithm\n",
        "def decrypt_message(message: str, decryption_algo: Callable[[str], str], **kwargs) -> str:\n",
        "  return decryption_algo(message, **kwargs)"
      ],
      "metadata": {
        "id": "emg1DenF4IzY"
      },
      "execution_count": 3,
      "outputs": []
    },
    {
      "cell_type": "markdown",
      "source": [
        "As you can see, both functions accept an encryption or decryption algorithm (a function) as an argument and execute it internally. Now, let's provide a simple encryption algorithm: the letter-number cipher.\n"
      ],
      "metadata": {
        "id": "sSFHVSZa4qHz"
      }
    },
    {
      "cell_type": "code",
      "source": [
        "def letter_number_cipher(message: str, decrypt: bool = False) -> str:\n",
        "  \"\"\"Encrypts or decrypts a message using a simple substitution cipher.\"\"\"\n",
        "\n",
        "  letter_to_number = {\n",
        "      ' ': 0, 'a': 1, 'b': 2, 'c': 3, 'd': 4, 'e': 5, 'f': 6, 'g': 7,\n",
        "      'h': 8, 'i': 9, 'j': 10, 'k': 11, 'l': 12, 'm': 13, 'n': 14,\n",
        "      'o': 15, 'p': 16, 'q': 17, 'r': 18, 's': 19, 't': 20, 'u': 21,\n",
        "      'v': 22, 'w': 23, 'x': 24, 'y': 25, 'z': 26\n",
        "  }\n",
        "  number_to_letter = {v: k for k, v in letter_to_number.items()} # Swap key & value\n",
        "\n",
        "  converted = []\n",
        "  if decrypt:\n",
        "    for num in message.split():\n",
        "      converted.append(number_to_letter[int(num)])\n",
        "\n",
        "    return ''.join(converted)\n",
        "\n",
        "  else:\n",
        "    # Encryption\n",
        "    for char in message.lower():\n",
        "      if char in letter_to_number:\n",
        "        converted.append(str(letter_to_number[char]))\n",
        "\n",
        "    return ' '.join(converted)"
      ],
      "metadata": {
        "id": "smZgLotTEdDN"
      },
      "execution_count": 4,
      "outputs": []
    },
    {
      "cell_type": "code",
      "source": [
        "message = \"Hello World!\"\n",
        "encrypted = encrypt_message(message, encryption_algo=letter_number_cipher)\n",
        "print(encrypted)\n",
        "\n",
        "message = \"Houston, we have a problem.\"\n",
        "encrypted = encrypt_message(message, encryption_algo=letter_number_cipher)\n",
        "print(encrypted)\n",
        "\n",
        "message = \"20 15 0 2 5 0 15 18 0 14 15 20 0 20 15 0 2 5 0 20 8 1 20 0 9 19 0 20 8 5 0 17 21 5 19 20 9 15 14\"\n",
        "print(decrypt_message(message, decryption_algo=letter_number_cipher, decrypt = True))"
      ],
      "metadata": {
        "colab": {
          "base_uri": "https://localhost:8080/"
        },
        "id": "sJYpZX_GU_Yw",
        "outputId": "8749b918-9295-4fa7-925b-2c4b3f08c4ab"
      },
      "execution_count": 5,
      "outputs": [
        {
          "output_type": "stream",
          "name": "stdout",
          "text": [
            "8 5 12 12 15 0 23 15 18 12 4\n",
            "8 15 21 19 20 15 14 0 23 5 0 8 1 22 5 0 1 0 16 18 15 2 12 5 13\n",
            "to be or not to be that is the question\n"
          ]
        }
      ]
    },
    {
      "cell_type": "markdown",
      "source": [
        "## **Closures**\n",
        "\n",
        "Now, let's look at higher-order functions that return a function. Closures are functions that capture and carry their enclosing scope with them. Or, in simpler terms, they are:\n",
        "\n",
        "> Functions that \"remember\" the environment (or the outer function) in which they were created, even if that environment is no longer in scope when the function is called.\n",
        "\n",
        "Here's how it works:\n"
      ],
      "metadata": {
        "id": "bz-UTbfLev05"
      }
    },
    {
      "cell_type": "code",
      "source": [
        "def outside(x):\n",
        "  def inside(y):\n",
        "    return x + y\n",
        "  return inside\n",
        "\n",
        "# Using closures\n",
        "add_five: Callable = outside(5)\n",
        "result = add_five(10)\n",
        "print(result)\n",
        "\n",
        "# This is the equivalent the above code\n",
        "print(outside(5)(10))"
      ],
      "metadata": {
        "colab": {
          "base_uri": "https://localhost:8080/"
        },
        "id": "thwcBnyCewPN",
        "outputId": "e4404b1d-1403-47c2-e388-e3babbae6401"
      },
      "execution_count": 6,
      "outputs": [
        {
          "output_type": "stream",
          "name": "stdout",
          "text": [
            "15\n",
            "15\n"
          ]
        }
      ]
    },
    {
      "cell_type": "markdown",
      "source": [
        "**Understanding Closures**\n",
        "\n",
        "1. **Defining the Closure**:\n",
        "\n",
        "  - We define an outer function `outside(x)`, which accepts a parameter `x`.\n",
        "  - Inside `outside`, we define an inner function `inside(y)`, which takes a parameter `y` and returns the sum of `x` and `y`.\n",
        "  - `inside` can access `x` because it is within the enclosing scope of `outside`.\n",
        "\n",
        "2. **Creating a Closure**:\n",
        "\n",
        "  - When we call `outside(5)`, Python creates a closure where `x` is set to `5`.\n",
        "  - The call to `outside(5)` returns the `inside` function with `x` retained in its environment, allowing us to assign this closure to `add_five`.\n",
        "\n",
        "3. **Using the Closure**:\n",
        "\n",
        "  - We can now call `add_five(10)`, where `y` is `10`.\n",
        "  - Since `add_five` retains `x = 5` in its environment, the result of `add_five(10)` is `5 + 10 = 15`.\n",
        "\n",
        "4. **Equivalent Inline Call**:\n",
        "\n",
        "  - We could also call `outside(5)(10)` directly, which immediately returns `15` without storing the closure in a variable.\n"
      ],
      "metadata": {
        "id": "H66rOrRvwGOC"
      }
    },
    {
      "cell_type": "markdown",
      "source": [
        "### **Example 1: Weighted Average Calculator**\n",
        "\n",
        "Let's look at an example of a higher order function that generates a function to compute the weighted average of a list of values.\n",
        "\n",
        "**Formula**:\n",
        "\n",
        "$$\\text{Weighted Average} = \\frac{\\sum_{i=1}^{n} w_i \\cdot x_i}{\\sum_{i=1}^{n} w_i}$$\n",
        "\n",
        "Here, we have 3 functions. The regular average, weighted average without using closure, and a weighted average with closure.\n"
      ],
      "metadata": {
        "id": "t9Xc4d5tHJJ4"
      }
    },
    {
      "cell_type": "code",
      "source": [
        "# Regular average for comparison\n",
        "def average(values: list) -> float | int:\n",
        "  return sum(values) / len(values)\n",
        "\n",
        "# Weighted average without using closure\n",
        "def weighted_average_no_closure(weights: list[float], values: list[float | int]) -> float | int:\n",
        "  \"\"\"Calculates the weighted average of given values using provided weights.\"\"\"\n",
        "  return sum(w * v for w, v in zip(weights, values)) / sum(weights)\n",
        "\n",
        "# Weighted average closure example\n",
        "def weighted_average(weights: list[float]) -> Callable[[list[float | int]], float | int]:\n",
        "  \"\"\"Returns a function that calculates the weighted average of given values.\"\"\"\n",
        "\n",
        "  def calculate_weighted_average(values: list[float | int]) -> float | int:\n",
        "    \"\"\"Calculates the weighted average for a given set of values.\"\"\"\n",
        "    return sum(w * v for w, v in zip(weights, values)) / sum(weights)\n",
        "\n",
        "  return calculate_weighted_average"
      ],
      "metadata": {
        "id": "WhYdOAt0DJjr"
      },
      "execution_count": 7,
      "outputs": []
    },
    {
      "cell_type": "markdown",
      "source": [
        "Let's first take a look at how using the weighted average without a closure would work:\n"
      ],
      "metadata": {
        "id": "wXZ2p0V4-CCj"
      }
    },
    {
      "cell_type": "code",
      "source": [
        "# Weighted average without using closure\n",
        "weights = [0.1, 0.3, 0.6]\n",
        "\n",
        "values = [10, 20, 30]\n",
        "print(weighted_average_no_closure(weights, values))\n",
        "\n",
        "values = [40, 50, 60]\n",
        "print(weighted_average_no_closure(weights, values))"
      ],
      "metadata": {
        "colab": {
          "base_uri": "https://localhost:8080/"
        },
        "id": "5N85VILO9Jel",
        "outputId": "37b39c78-59f5-494f-c305-179e62a36ec7"
      },
      "execution_count": 8,
      "outputs": [
        {
          "output_type": "stream",
          "name": "stdout",
          "text": [
            "25.0\n",
            "55.0\n"
          ]
        }
      ]
    },
    {
      "cell_type": "markdown",
      "source": [
        "As you can see, everytime you want to use it, you have to pass in **both** the `values` and the `weights`. Now, let's take a look at how it works *with* a closure this time.\n"
      ],
      "metadata": {
        "id": "U_J-DB3x9jjR"
      }
    },
    {
      "cell_type": "code",
      "source": [
        "weights = [0.1, 0.3, 0.6]\n",
        "\n",
        "calculate_weighted_average = weighted_average(weights)\n",
        "\n",
        "values = [10, 20, 30]\n",
        "print(calculate_weighted_average(values))\n",
        "\n",
        "values = [40, 50, 60]\n",
        "print(calculate_weighted_average(values))"
      ],
      "metadata": {
        "colab": {
          "base_uri": "https://localhost:8080/"
        },
        "id": "dCz_mAqB9HPf",
        "outputId": "9669416c-5fad-4ff2-8c69-67d51e4fb0c8"
      },
      "execution_count": 9,
      "outputs": [
        {
          "output_type": "stream",
          "name": "stdout",
          "text": [
            "25.0\n",
            "55.0\n"
          ]
        }
      ]
    },
    {
      "cell_type": "markdown",
      "source": [
        "Instead of having to pass in the weights every time, our `calculate_weighted_average` function now *remembers* the weights and when we use it in the future, we only have to pass in the `values`. This is the power of closures.\n",
        "\n",
        "You can also use it like this. Although, this is not how closures are typically used:\n"
      ],
      "metadata": {
        "id": "W_qkkESg_J21"
      }
    },
    {
      "cell_type": "code",
      "source": [
        "weights = [0.1, 0.3, 0.6]\n",
        "values = [10, 20, 30]\n",
        "\n",
        "print(weighted_average(weights)(values))"
      ],
      "metadata": {
        "colab": {
          "base_uri": "https://localhost:8080/"
        },
        "id": "z-osaFTy-Z8c",
        "outputId": "7bda4f49-8214-44d0-883b-049e5aae7cfe"
      },
      "execution_count": 10,
      "outputs": [
        {
          "output_type": "stream",
          "name": "stdout",
          "text": [
            "25.0\n"
          ]
        }
      ]
    },
    {
      "cell_type": "markdown",
      "source": [
        "### **Example 2: API Endpoint Creator**\n",
        "\n",
        "Let's look at another example.\n",
        "\n",
        "Many web API services require you to include your API key (which you've obtained from them) with every request to authenticate yourself. Instead of manually adding the API key to each HTTP request, we can create a function that remembers the key and automatically includes it in the endpoint URL whenever we access a different endpoint.\n",
        "\n",
        "<br>\n",
        "\n",
        "> 📒 A typical api endpoint: https://www.youtube.com/watch?v=dQw4w9WgXcQ&t=1s\n"
      ],
      "metadata": {
        "id": "sNhykziJw5R5"
      }
    },
    {
      "cell_type": "code",
      "source": [
        "def api_endpoint_creator(api_key: str) -> Callable:\n",
        "  def create_endpoint(endpoint: str, **params) -> str:\n",
        "    url = f\"{endpoint}?api_key={api_key}\"\n",
        "    for key, value in params.items():\n",
        "      url += f\"&{key}={value}\"\n",
        "    return url\n",
        "  return create_endpoint"
      ],
      "metadata": {
        "id": "TOBYUSThxvKZ"
      },
      "execution_count": 11,
      "outputs": []
    },
    {
      "cell_type": "markdown",
      "source": [
        "**Explanation**\n",
        "\n",
        "1. **Function Definition**: The `api_endpoint_creator` function takes an `api_key` as a parameter and defines a nested function `create_endpoint`. This inner function constructs a URL based on the given `endpoint` and any additional parameters provided.\n",
        "\n",
        "2. **Capturing State**: The `create_endpoint` function uses the `api_key` captured from the enclosing scope. Each time it is called, it builds a URL that includes this specific `api_key`.\n"
      ],
      "metadata": {
        "id": "KVtKqf0pCceF"
      }
    },
    {
      "cell_type": "code",
      "source": [
        "# Create our first api endpoint creator with our first api key\n",
        "api_key = \"thisisanapikey123\"\n",
        "create_endpoint = api_endpoint_creator(api_key)\n",
        "\n",
        "url_1 = create_endpoint(\"https://example.com/api-1\", format=\"json\", limit=10)\n",
        "url_2 = create_endpoint(\"https://example.com/api-2\", format=\"csv\", limit=20)\n",
        "\n",
        "print(url_1)\n",
        "print(url_2)"
      ],
      "metadata": {
        "colab": {
          "base_uri": "https://localhost:8080/"
        },
        "id": "YT3lJ2rJ376B",
        "outputId": "a503b984-0007-41a7-d9f0-da418b4ad77f"
      },
      "execution_count": 12,
      "outputs": [
        {
          "output_type": "stream",
          "name": "stdout",
          "text": [
            "https://example.com/api-1?api_key=thisisanapikey123&format=json&limit=10\n",
            "https://example.com/api-2?api_key=thisisanapikey123&format=csv&limit=20\n"
          ]
        }
      ]
    },
    {
      "cell_type": "code",
      "source": [
        "# Create our second api endpoint creator with our second api key\n",
        "api_key = \"admin-timmy-2000\"\n",
        "create_endpoint = api_endpoint_creator(api_key)\n",
        "\n",
        "url_1 = create_endpoint(\"https://example.com/api-1\", format=\"json\", limit=10)\n",
        "url_2 = create_endpoint(\"https://example.com/api-2\", format=\"csv\", limit=20)\n",
        "\n",
        "print(url_1)\n",
        "print(url_2)"
      ],
      "metadata": {
        "colab": {
          "base_uri": "https://localhost:8080/"
        },
        "id": "msj1qBik_ucy",
        "outputId": "83dacf39-51ac-4988-b785-18ddb2bc0f79"
      },
      "execution_count": 13,
      "outputs": [
        {
          "output_type": "stream",
          "name": "stdout",
          "text": [
            "https://example.com/api-1?api_key=admin-timmy-2000&format=json&limit=10\n",
            "https://example.com/api-2?api_key=admin-timmy-2000&format=csv&limit=20\n"
          ]
        }
      ]
    },
    {
      "cell_type": "markdown",
      "source": [
        "In both examples, we:\n",
        "\n",
        "1. **Created an Endpoint**: We create a specific endpoint generator by calling `api_endpoint_creator` with the first API key. This returns a `create_endpoint` function tailored to use the provided `api_key`.\n",
        "\n",
        "2. **Generated URLs**: When we call `create_endpoint` with different parameters, it constructs URLs that include the relevant API key and any other parameters provided.\n"
      ],
      "metadata": {
        "id": "-27rBqiPAkNF"
      }
    },
    {
      "cell_type": "markdown",
      "source": [
        "### **Example 3: Email Template Generator**\n",
        "\n",
        "Let's look at one last example of a closure to really drive the concept home.\n",
        "\n",
        "Many email services let you create templates and personalize certain parts (like names or dates) for different recipients. This process, known as mail merging, can be replicated using closures. Let's see how we can use a closure to build a simple string templating function that customizes emails dynamically.\n"
      ],
      "metadata": {
        "id": "-gAG1Wk5Bk-v"
      }
    },
    {
      "cell_type": "code",
      "source": [
        "def template_creator(template: str) -> Callable:\n",
        "  def create_email(**kwargs) -> str:\n",
        "    return template.format(**kwargs)\n",
        "  return create_email"
      ],
      "metadata": {
        "id": "pUdUKvdaCnsT"
      },
      "execution_count": 14,
      "outputs": []
    },
    {
      "cell_type": "markdown",
      "source": [
        "**Explanation**\n",
        "\n",
        "1. **Function Definition**: The `template_creator` function takes a `template` string as an argument, which contains any amount of placeholder text.\n",
        "\n",
        "2. **Nested Closure**: Inside `template_creator`, we define the `create_email` function. This function takes any amount of parameters (for the placeholders) and uses the `template` string to generate a personalized email by formatting it with the provided values.\n",
        "\n",
        "> 📒 For placeholder text, you need to use the exact same argument names you're going to pass to the enclosed function and surround it with curly brackets.\n"
      ],
      "metadata": {
        "id": "SN6QuudkFguN"
      }
    },
    {
      "cell_type": "code",
      "source": [
        "# Create an email template\n",
        "template = \"Hello {name},\\n\\n{message}\\n\\nBest regards,\\nYour friends at TechConnect\"\n",
        "generate_email = template_creator(template)\n",
        "\n",
        "# Using the email template generator\n",
        "names = [\"Thomas\", \"Mona\", \"Bob\"]\n",
        "for n in names:\n",
        "  print(generate_email(name=n, message=\"I hope you are doing well!\"))\n",
        "  print(\"\\n----\\n\")"
      ],
      "metadata": {
        "colab": {
          "base_uri": "https://localhost:8080/"
        },
        "id": "MTHUSxX4DQ-S",
        "outputId": "3cd869e8-9cf4-4f33-d293-98284b051c05"
      },
      "execution_count": 15,
      "outputs": [
        {
          "output_type": "stream",
          "name": "stdout",
          "text": [
            "Hello Thomas,\n",
            "\n",
            "I hope you are doing well!\n",
            "\n",
            "Best regards,\n",
            "Your friends at TechConnect\n",
            "\n",
            "----\n",
            "\n",
            "Hello Mona,\n",
            "\n",
            "I hope you are doing well!\n",
            "\n",
            "Best regards,\n",
            "Your friends at TechConnect\n",
            "\n",
            "----\n",
            "\n",
            "Hello Bob,\n",
            "\n",
            "I hope you are doing well!\n",
            "\n",
            "Best regards,\n",
            "Your friends at TechConnect\n",
            "\n",
            "----\n",
            "\n"
          ]
        }
      ]
    },
    {
      "cell_type": "code",
      "source": [
        "# Create an email template\n",
        "template = \"\"\"Hi {name}!\n",
        "\n",
        "Thank you for shopping at HappyPets.co\n",
        "\n",
        "Here's your receipt:\n",
        "\n",
        "{message}\n",
        "\n",
        "Best,\n",
        "Your Friends at HappyPets.co\"\"\"\n",
        "\n",
        "generate_receipt = template_creator(template)\n",
        "\n",
        "# Using the email template generator\n",
        "names = [\"Thomas\", \"Mona\", \"Bob\"]\n",
        "items = [\n",
        "    {\"Dog Treats\": \"$10\", \"Chew Toy\": \"$5\"},\n",
        "    {\"Cat Food\": \"$15\", \"Scratching Post\": \"$30\"},\n",
        "    {\"Bird Seed\": \"$8\", \"Bird Swing\": \"$12\"}\n",
        "]\n",
        "\n",
        "for n, item_dict in zip(names, items):\n",
        "    item_lines = [f\"{item}: {price}\" for item, price in item_dict.items()]\n",
        "    message = \"\\n\".join(item_lines)\n",
        "    print(generate_receipt(name=n, message=message))\n",
        "    print(\"\\n----\\n\")"
      ],
      "metadata": {
        "colab": {
          "base_uri": "https://localhost:8080/"
        },
        "id": "65QBlKERcVJO",
        "outputId": "d510880c-7240-4d42-b787-68657f081588"
      },
      "execution_count": 16,
      "outputs": [
        {
          "output_type": "stream",
          "name": "stdout",
          "text": [
            "Hi Thomas!\n",
            "\n",
            "Thank you for shopping at HappyPets.co\n",
            "\n",
            "Here's your receipt:\n",
            "\n",
            "Dog Treats: $10\n",
            "Chew Toy: $5\n",
            "\n",
            "Best,\n",
            "Your Friends at HappyPets.co\n",
            "\n",
            "----\n",
            "\n",
            "Hi Mona!\n",
            "\n",
            "Thank you for shopping at HappyPets.co\n",
            "\n",
            "Here's your receipt:\n",
            "\n",
            "Cat Food: $15\n",
            "Scratching Post: $30\n",
            "\n",
            "Best,\n",
            "Your Friends at HappyPets.co\n",
            "\n",
            "----\n",
            "\n",
            "Hi Bob!\n",
            "\n",
            "Thank you for shopping at HappyPets.co\n",
            "\n",
            "Here's your receipt:\n",
            "\n",
            "Bird Seed: $8\n",
            "Bird Swing: $12\n",
            "\n",
            "Best,\n",
            "Your Friends at HappyPets.co\n",
            "\n",
            "----\n",
            "\n"
          ]
        }
      ]
    },
    {
      "cell_type": "markdown",
      "source": [
        "**Here, we've**:\n",
        "\n",
        "1. **Created the Email Generator**: When we call `template_creator(template)`, it returns the `create_email` function, which is now configured to use the specific template we provided.\n",
        "\n",
        "2. **Generated Emails**: Each time we call `generate_email`, we pass in the recipient's name and the message. The function uses the stored template to create the final email.\n"
      ],
      "metadata": {
        "id": "QXWJTmYYD87u"
      }
    },
    {
      "cell_type": "markdown",
      "source": [
        "## **Decorators**\n",
        "\n",
        "Now that we've seen functions that take another function as an argument and functions that return a function, let's look as something that does both.\n",
        "\n",
        "**Decorators** allow you to modify or enhance the behavior of functions or methods without directly changing their source code. They are often used for logging, access control, caching, and other cross-cutting concerns.\n",
        "\n",
        "<br>\n",
        "\n",
        "**How Decorators Work**\n",
        "\n",
        "A decorator is a function that takes another function as an argument and returns a new function that usually extends the behavior of the original function.\n",
        "\n",
        "> You can either pass the function into a decorator when it's called, or you can apply a decorator to a function using the `@decorator_name` syntax before the function definition.\n"
      ],
      "metadata": {
        "id": "Fkz86bj94ARo"
      }
    },
    {
      "cell_type": "markdown",
      "source": [
        "### **Example 1: Timing a Function**\n",
        "\n",
        "First, let's look at a simple example of a decorator that measures the execution time of a function.\n",
        "\n",
        "Let's say we want to measure the execution time of multiple functions to monitor performance. We could add timing code like this to each function individually:"
      ],
      "metadata": {
        "id": "rBlxgjW-KE2s"
      }
    },
    {
      "cell_type": "code",
      "source": [
        "import time\n",
        "\n",
        "# No decorator example\n",
        "def some_function():\n",
        "  time.sleep(2)\n",
        "  print(\"Function executed\")\n",
        "\n",
        "\n",
        "start = time.perf_counter()\n",
        "some_function()\n",
        "end = time.perf_counter()\n",
        "print(f\"Time taken: {end - start:.4f} seconds\")"
      ],
      "metadata": {
        "colab": {
          "base_uri": "https://localhost:8080/"
        },
        "id": "gSIzz0IhIvTU",
        "outputId": "6f92caf0-bff2-4933-e785-a69e0767afc5"
      },
      "execution_count": 17,
      "outputs": [
        {
          "output_type": "stream",
          "name": "stdout",
          "text": [
            "Function executed\n",
            "Time taken: 2.0005 seconds\n"
          ]
        }
      ]
    },
    {
      "cell_type": "markdown",
      "source": [
        "However, repeating this code can be tedious and error-prone. Instead, we can create a decorator that handles the timing for us. This way, we only write the timing functionality **once** and can easily apply it to any function with a simple decorator!\n"
      ],
      "metadata": {
        "id": "hGNVx-fmJEWM"
      }
    },
    {
      "cell_type": "code",
      "source": [
        "def timer(func: Callable) -> Callable:\n",
        "  def wrapper(*args, **kwargs):\n",
        "    start = time.perf_counter()\n",
        "    rv = func(*args, **kwargs) # execute the passed in function here\n",
        "    print(f\"Function '{func.__name__}' executed in: {time.perf_counter() - start:.4f} seconds\")\n",
        "    return rv # return the return value of the passed in function\n",
        "  return wrapper"
      ],
      "metadata": {
        "id": "fr20nMuQKWg3"
      },
      "execution_count": 18,
      "outputs": []
    },
    {
      "cell_type": "markdown",
      "source": [
        "**Explanation**\n",
        "\n",
        "1. **Defining the Decorator**: The `timer` function takes a function `func` as an argument and defines a nested function `wrapper`. This `wrapper` function will enhance the original function's behavior.\n",
        "\n",
        "2. **Measuring Execution Time**: Inside the `wrapper`, we record the start time, call the original function, and then record the end time. We calculate the duration, print it out, as well as return whatever the original function returns.\n",
        "\n",
        "> 💡 Essentially, a decorator is a wrapper function around other functions\n",
        "\n",
        "<br>\n",
        "\n",
        "Now, we can use our `timer` decorator to measure the execution time of other functions. We have two ways to apply it:\n",
        "\n",
        "1. **Directly Passing the Function**: We can pass a function into `timer` when calling it, like so:\n"
      ],
      "metadata": {
        "id": "LgU2mGRdLU_7"
      }
    },
    {
      "cell_type": "code",
      "source": [
        "from urllib.request import urlopen\n",
        "\n",
        "def send_multiple_requests(lst: list[str]):\n",
        "  for url in lst:\n",
        "    urlopen(url)\n",
        "    print(f\"Opening: {url}\")\n",
        "\n",
        "timer(send_multiple_requests)([\"https://www.google.com\", \"https://www.bing.com\", \"https://example.com/\"])"
      ],
      "metadata": {
        "colab": {
          "base_uri": "https://localhost:8080/"
        },
        "id": "zYdWjh9oL6sh",
        "outputId": "d59a050d-4cf3-4ec1-e3f1-aa76639277e4"
      },
      "execution_count": 19,
      "outputs": [
        {
          "output_type": "stream",
          "name": "stdout",
          "text": [
            "Opening: https://www.google.com\n",
            "Opening: https://www.bing.com\n",
            "Opening: https://example.com/\n",
            "Function 'send_multiple_requests' executed in: 0.3664 seconds\n"
          ]
        }
      ]
    },
    {
      "cell_type": "markdown",
      "source": [
        "2. **Using `@timer` Syntax**: Alternatively, we can add `@timer` directly above the function definition. This automatically applies the `timer` decorator every time we call `send_multiple_requests`:\n"
      ],
      "metadata": {
        "id": "crNxj8NsNC3e"
      }
    },
    {
      "cell_type": "code",
      "source": [
        "@timer\n",
        "def send_multiple_requests(lst: list[str]):\n",
        "  from urllib.request import urlopen\n",
        "  for url in lst:\n",
        "    urlopen(url)\n",
        "    print(f\"Opening: {url}\")\n",
        "\n",
        "send_multiple_requests([\n",
        "    \"https://www.google.com\",\n",
        "    \"https://www.bing.com\",\n",
        "    \"https://example.com/\"\n",
        "])"
      ],
      "metadata": {
        "colab": {
          "base_uri": "https://localhost:8080/"
        },
        "id": "kNCwCroQNSUk",
        "outputId": "dab15939-fe49-49ba-d2bc-d73028b214ba"
      },
      "execution_count": 20,
      "outputs": [
        {
          "output_type": "stream",
          "name": "stdout",
          "text": [
            "Opening: https://www.google.com\n",
            "Opening: https://www.bing.com\n",
            "Opening: https://example.com/\n",
            "Function 'send_multiple_requests' executed in: 0.2652 seconds\n"
          ]
        }
      ]
    },
    {
      "cell_type": "markdown",
      "source": [
        "Using the `@timer` syntax makes it simple to add or remove the decorator as needed, keeping the function clean and readable while still benefiting from the timing functionality.\n"
      ],
      "metadata": {
        "id": "EkfHERhFOGC0"
      }
    },
    {
      "cell_type": "markdown",
      "source": [
        "### **Example 2: Ensuring a Function Only Executes Once**\n",
        "\n",
        "Sometimes, you want a function (like a setup or initialization step) to run only once, even if it's called multiple times.\n",
        "\n",
        "You could add a flag inside each function to track whether it's already run, but a cleaner way is to use a decorator like this:\n"
      ],
      "metadata": {
        "id": "_2DW78LeKxpS"
      }
    },
    {
      "cell_type": "code",
      "source": [
        "def once(func):\n",
        "  called = False\n",
        "  result = None\n",
        "\n",
        "  def wrapper(*args, **kwargs):\n",
        "    nonlocal called, result\n",
        "    if not called:\n",
        "      result = func(*args, **kwargs)\n",
        "      called = True\n",
        "    return result\n",
        "  return wrapper"
      ],
      "metadata": {
        "id": "VxDckXOlOe8E"
      },
      "execution_count": 21,
      "outputs": []
    },
    {
      "cell_type": "markdown",
      "source": [
        "**Explanation**\n",
        "\n",
        "1. **Defining the once Decorator**: The `once` function takes the original function `func` and defines a `wrapper` function inside it. The `wrapper` function then adds the behavior of ensuring the original function is executed only once.\n",
        "\n",
        "2. **Tracking Execution**: Inside the wrapper, we use a flag (`called`) to check if the function has already been executed. If it hasn't, we call the original function, set called to `True`, and store the result. On subsequent calls, the function simply returns the stored result without executing again.\n",
        "\n",
        "<br>\n",
        "\n",
        "Now, we can use our once decorator to ensure a function runs only once like so:\n"
      ],
      "metadata": {
        "id": "NTsbG7KlYVJ3"
      }
    },
    {
      "cell_type": "code",
      "source": [
        "@once\n",
        "def initialize():\n",
        "  print(\"Setting up resources...\")\n",
        "  return {\"status\": \"ready\"}\n",
        "\n",
        "# First call\n",
        "initialize()"
      ],
      "metadata": {
        "id": "Ppn5eIGuOlaC",
        "colab": {
          "base_uri": "https://localhost:8080/"
        },
        "outputId": "16f9c9c6-6a4d-493f-f17d-bd26baf8ac0c"
      },
      "execution_count": 22,
      "outputs": [
        {
          "output_type": "stream",
          "name": "stdout",
          "text": [
            "Setting up resources...\n"
          ]
        },
        {
          "output_type": "execute_result",
          "data": {
            "text/plain": [
              "{'status': 'ready'}"
            ]
          },
          "metadata": {},
          "execution_count": 22
        }
      ]
    },
    {
      "cell_type": "code",
      "source": [
        "# Second call just returns the result\n",
        "initialize()"
      ],
      "metadata": {
        "colab": {
          "base_uri": "https://localhost:8080/"
        },
        "id": "mHoCUajNX6wT",
        "outputId": "8be14663-e039-4102-8885-486ac7228240"
      },
      "execution_count": 23,
      "outputs": [
        {
          "output_type": "execute_result",
          "data": {
            "text/plain": [
              "{'status': 'ready'}"
            ]
          },
          "metadata": {},
          "execution_count": 23
        }
      ]
    },
    {
      "cell_type": "markdown",
      "source": [
        "This is really helpful for setup routines, connecting to a service, or loading configuration files, or any time you want to ensure a block of code runs just once, no matter how many times it's called.\n"
      ],
      "metadata": {
        "id": "K4HjsR7kYfIq"
      }
    },
    {
      "cell_type": "markdown",
      "source": [
        "### **Example 3: Function Argument Type Validator** (Additional Material)\n",
        "\n",
        "❗ This is a more advanced example that involves multiple levels of nested functions. Feel free to skip it for now if you're not yet comfortable with higher-order functions, closures, and decorators.\n"
      ],
      "metadata": {
        "id": "P-gvv1GOOTLh"
      }
    },
    {
      "cell_type": "markdown",
      "source": [
        "In this example, we'll create a decorator that validates argument types. This decorator will accept a flexible number of argument type specifications and check if the provided arguments match the expected types. This allows us to enforce type safety without needing to add multiple checks inside the function.\n"
      ],
      "metadata": {
        "id": "I5Gb0_pOJ9_3"
      }
    },
    {
      "cell_type": "code",
      "source": [
        "from functools import wraps\n",
        "\n",
        "def validate_args(**arg_types: type):\n",
        "  def decorator(func: Callable) -> Callable:\n",
        "    @wraps(func)\n",
        "    def wrapper(*args, **kwargs):\n",
        "      # Check positional arguments\n",
        "      for arg, arg_type in zip(args, arg_types.values()):\n",
        "        if not isinstance(arg, arg_type):\n",
        "          raise TypeError(f\"Expected argument '{arg}' of type {arg_type}, got {type(arg)}\")\n",
        "\n",
        "      # Check keyword argumemts\n",
        "      for k, v in kwargs.items():\n",
        "        if k in arg_types and not isinstance(v, arg_types[k]):\n",
        "          raise TypeError(f\"Expected argument '{k}' of type {arg_types[k]}, got {type(v)}\")\n",
        "      return func(*args, **kwargs)\n",
        "    return wrapper\n",
        "  return decorator"
      ],
      "metadata": {
        "id": "c1911ta8GcEy"
      },
      "execution_count": 24,
      "outputs": []
    },
    {
      "cell_type": "markdown",
      "source": [
        "**Explanation**\n",
        "\n",
        "1. **Decorator Definition**: The `validate_args` decorator takes keyword arguments, where each argument's name corresponds to the function's parameter name, and the value is the expected data type for that parameter.\n",
        "\n",
        "2. **Creating the Wrapper**: Inside the `decorator` function, we define the `wrapper` function that validates each positional and keyword argument against the provided `arg_types`.\n",
        "\n",
        "3. **Validating Arguments**:\n",
        "\n",
        "  - For positional arguments, we use `zip` to match each argument with its corresponding type in `arg_types.values()`.\n",
        "  - For keyword arguments, we check if each argument's name is in `arg_types` and validate its type.\n"
      ],
      "metadata": {
        "id": "mNcO81BKaCMz"
      }
    },
    {
      "cell_type": "markdown",
      "source": [
        "> 📒 **NOTE**:\n",
        ">\n",
        "> `functools.wraps` is a decorator that copies the original function's metadata (like its name, docstring, and annotations) to the wrapper function in a decorator. This makes the wrapped function look and behave more like the original when inspected, logged, or documented.\n"
      ],
      "metadata": {
        "id": "UmDGAh0xdI82"
      }
    },
    {
      "cell_type": "code",
      "source": [
        "@validate_args(a=int, b=int)\n",
        "def add_two_numbers(a: int, b: int) -> int:\n",
        "  return a + b\n",
        "\n",
        "# Correct usage\n",
        "add_two_numbers(1, 2)\n",
        "\n",
        "# Incorrect argument datatypes: our decorator will catch them and give us a TypeError\n",
        "add_two_numbers(\"a\", \"b\")"
      ],
      "metadata": {
        "colab": {
          "base_uri": "https://localhost:8080/",
          "height": 297
        },
        "id": "DKWiaU0lqEQh",
        "outputId": "c080b6ec-78d9-4146-e06e-56b7ca29435e"
      },
      "execution_count": 25,
      "outputs": [
        {
          "output_type": "error",
          "ename": "TypeError",
          "evalue": "Expected argument 'a' of type <class 'int'>, got <class 'str'>",
          "traceback": [
            "\u001b[0;31m---------------------------------------------------------------------------\u001b[0m",
            "\u001b[0;31mTypeError\u001b[0m                                 Traceback (most recent call last)",
            "\u001b[0;32m<ipython-input-25-a23721cc473b>\u001b[0m in \u001b[0;36m<cell line: 0>\u001b[0;34m()\u001b[0m\n\u001b[1;32m      7\u001b[0m \u001b[0;34m\u001b[0m\u001b[0m\n\u001b[1;32m      8\u001b[0m \u001b[0;31m# Incorrect argument datatypes: our decorator will catch them and give us a TypeError\u001b[0m\u001b[0;34m\u001b[0m\u001b[0;34m\u001b[0m\u001b[0m\n\u001b[0;32m----> 9\u001b[0;31m \u001b[0madd_two_numbers\u001b[0m\u001b[0;34m(\u001b[0m\u001b[0;34m\"a\"\u001b[0m\u001b[0;34m,\u001b[0m \u001b[0;34m\"b\"\u001b[0m\u001b[0;34m)\u001b[0m\u001b[0;34m\u001b[0m\u001b[0;34m\u001b[0m\u001b[0m\n\u001b[0m",
            "\u001b[0;32m<ipython-input-24-ccba3b2c74eb>\u001b[0m in \u001b[0;36mwrapper\u001b[0;34m(*args, **kwargs)\u001b[0m\n\u001b[1;32m      8\u001b[0m       \u001b[0;32mfor\u001b[0m \u001b[0marg\u001b[0m\u001b[0;34m,\u001b[0m \u001b[0marg_type\u001b[0m \u001b[0;32min\u001b[0m \u001b[0mzip\u001b[0m\u001b[0;34m(\u001b[0m\u001b[0margs\u001b[0m\u001b[0;34m,\u001b[0m \u001b[0marg_types\u001b[0m\u001b[0;34m.\u001b[0m\u001b[0mvalues\u001b[0m\u001b[0;34m(\u001b[0m\u001b[0;34m)\u001b[0m\u001b[0;34m)\u001b[0m\u001b[0;34m:\u001b[0m\u001b[0;34m\u001b[0m\u001b[0;34m\u001b[0m\u001b[0m\n\u001b[1;32m      9\u001b[0m         \u001b[0;32mif\u001b[0m \u001b[0;32mnot\u001b[0m \u001b[0misinstance\u001b[0m\u001b[0;34m(\u001b[0m\u001b[0marg\u001b[0m\u001b[0;34m,\u001b[0m \u001b[0marg_type\u001b[0m\u001b[0;34m)\u001b[0m\u001b[0;34m:\u001b[0m\u001b[0;34m\u001b[0m\u001b[0;34m\u001b[0m\u001b[0m\n\u001b[0;32m---> 10\u001b[0;31m           \u001b[0;32mraise\u001b[0m \u001b[0mTypeError\u001b[0m\u001b[0;34m(\u001b[0m\u001b[0;34mf\"Expected argument '{arg}' of type {arg_type}, got {type(arg)}\"\u001b[0m\u001b[0;34m)\u001b[0m\u001b[0;34m\u001b[0m\u001b[0;34m\u001b[0m\u001b[0m\n\u001b[0m\u001b[1;32m     11\u001b[0m \u001b[0;34m\u001b[0m\u001b[0m\n\u001b[1;32m     12\u001b[0m       \u001b[0;31m# Check keyword argumemts\u001b[0m\u001b[0;34m\u001b[0m\u001b[0;34m\u001b[0m\u001b[0m\n",
            "\u001b[0;31mTypeError\u001b[0m: Expected argument 'a' of type <class 'int'>, got <class 'str'>"
          ]
        }
      ]
    },
    {
      "cell_type": "code",
      "source": [
        "@validate_args(name=str, greeting=str)\n",
        "def greet(name: str, greeting: str = \"Hello\") -> str:\n",
        "  return f\"{greeting}, {name}!\"\n",
        "\n",
        "# Correct usage\n",
        "greet(\"Timmy\")\n",
        "greet(\"Timmy\", \"G'day\")\n",
        "\n",
        "# Incorrect argument datatypes\n",
        "greet(1, \"G'day\")"
      ],
      "metadata": {
        "colab": {
          "base_uri": "https://localhost:8080/",
          "height": 297
        },
        "id": "5aAXO9H9q2eh",
        "outputId": "864279db-6a0f-4d8f-9094-715262b50fb8"
      },
      "execution_count": 26,
      "outputs": [
        {
          "output_type": "error",
          "ename": "TypeError",
          "evalue": "Expected argument '1' of type <class 'str'>, got <class 'int'>",
          "traceback": [
            "\u001b[0;31m---------------------------------------------------------------------------\u001b[0m",
            "\u001b[0;31mTypeError\u001b[0m                                 Traceback (most recent call last)",
            "\u001b[0;32m<ipython-input-26-a58470a9e86a>\u001b[0m in \u001b[0;36m<cell line: 0>\u001b[0;34m()\u001b[0m\n\u001b[1;32m      8\u001b[0m \u001b[0;34m\u001b[0m\u001b[0m\n\u001b[1;32m      9\u001b[0m \u001b[0;31m# Incorrect argument datatypes\u001b[0m\u001b[0;34m\u001b[0m\u001b[0;34m\u001b[0m\u001b[0m\n\u001b[0;32m---> 10\u001b[0;31m \u001b[0mgreet\u001b[0m\u001b[0;34m(\u001b[0m\u001b[0;36m1\u001b[0m\u001b[0;34m,\u001b[0m \u001b[0;34m\"G'day\"\u001b[0m\u001b[0;34m)\u001b[0m\u001b[0;34m\u001b[0m\u001b[0;34m\u001b[0m\u001b[0m\n\u001b[0m",
            "\u001b[0;32m<ipython-input-24-ccba3b2c74eb>\u001b[0m in \u001b[0;36mwrapper\u001b[0;34m(*args, **kwargs)\u001b[0m\n\u001b[1;32m      8\u001b[0m       \u001b[0;32mfor\u001b[0m \u001b[0marg\u001b[0m\u001b[0;34m,\u001b[0m \u001b[0marg_type\u001b[0m \u001b[0;32min\u001b[0m \u001b[0mzip\u001b[0m\u001b[0;34m(\u001b[0m\u001b[0margs\u001b[0m\u001b[0;34m,\u001b[0m \u001b[0marg_types\u001b[0m\u001b[0;34m.\u001b[0m\u001b[0mvalues\u001b[0m\u001b[0;34m(\u001b[0m\u001b[0;34m)\u001b[0m\u001b[0;34m)\u001b[0m\u001b[0;34m:\u001b[0m\u001b[0;34m\u001b[0m\u001b[0;34m\u001b[0m\u001b[0m\n\u001b[1;32m      9\u001b[0m         \u001b[0;32mif\u001b[0m \u001b[0;32mnot\u001b[0m \u001b[0misinstance\u001b[0m\u001b[0;34m(\u001b[0m\u001b[0marg\u001b[0m\u001b[0;34m,\u001b[0m \u001b[0marg_type\u001b[0m\u001b[0;34m)\u001b[0m\u001b[0;34m:\u001b[0m\u001b[0;34m\u001b[0m\u001b[0;34m\u001b[0m\u001b[0m\n\u001b[0;32m---> 10\u001b[0;31m           \u001b[0;32mraise\u001b[0m \u001b[0mTypeError\u001b[0m\u001b[0;34m(\u001b[0m\u001b[0;34mf\"Expected argument '{arg}' of type {arg_type}, got {type(arg)}\"\u001b[0m\u001b[0;34m)\u001b[0m\u001b[0;34m\u001b[0m\u001b[0;34m\u001b[0m\u001b[0m\n\u001b[0m\u001b[1;32m     11\u001b[0m \u001b[0;34m\u001b[0m\u001b[0m\n\u001b[1;32m     12\u001b[0m       \u001b[0;31m# Check keyword argumemts\u001b[0m\u001b[0;34m\u001b[0m\u001b[0;34m\u001b[0m\u001b[0m\n",
            "\u001b[0;31mTypeError\u001b[0m: Expected argument '1' of type <class 'str'>, got <class 'int'>"
          ]
        }
      ]
    },
    {
      "cell_type": "code",
      "source": [
        "@validate_args(name=str, age=int)\n",
        "def introduce(name: str, age: int):\n",
        "  print(f\"My name is {name} and I am {age} years old.\")\n",
        "\n",
        "# Correct usage\n",
        "introduce(name=\"Alice\", age=30)  # Output: My name is Alice and I am 30 years old.\n",
        "\n",
        "# Incorrect argument datatypes\n",
        "introduce(name=\"Alice\", age=\"thirty\")"
      ],
      "metadata": {
        "colab": {
          "base_uri": "https://localhost:8080/",
          "height": 315
        },
        "id": "zFLNqtpLrukK",
        "outputId": "ea6373ef-f7fc-4e65-c6de-0625236bcbf2"
      },
      "execution_count": 27,
      "outputs": [
        {
          "output_type": "stream",
          "name": "stdout",
          "text": [
            "My name is Alice and I am 30 years old.\n"
          ]
        },
        {
          "output_type": "error",
          "ename": "TypeError",
          "evalue": "Expected argument 'age' of type <class 'int'>, got <class 'str'>",
          "traceback": [
            "\u001b[0;31m---------------------------------------------------------------------------\u001b[0m",
            "\u001b[0;31mTypeError\u001b[0m                                 Traceback (most recent call last)",
            "\u001b[0;32m<ipython-input-27-9ab5a63b9c3c>\u001b[0m in \u001b[0;36m<cell line: 0>\u001b[0;34m()\u001b[0m\n\u001b[1;32m      7\u001b[0m \u001b[0;34m\u001b[0m\u001b[0m\n\u001b[1;32m      8\u001b[0m \u001b[0;31m# Incorrect argument datatypes\u001b[0m\u001b[0;34m\u001b[0m\u001b[0;34m\u001b[0m\u001b[0m\n\u001b[0;32m----> 9\u001b[0;31m \u001b[0mintroduce\u001b[0m\u001b[0;34m(\u001b[0m\u001b[0mname\u001b[0m\u001b[0;34m=\u001b[0m\u001b[0;34m\"Alice\"\u001b[0m\u001b[0;34m,\u001b[0m \u001b[0mage\u001b[0m\u001b[0;34m=\u001b[0m\u001b[0;34m\"thirty\"\u001b[0m\u001b[0;34m)\u001b[0m\u001b[0;34m\u001b[0m\u001b[0;34m\u001b[0m\u001b[0m\n\u001b[0m",
            "\u001b[0;32m<ipython-input-24-ccba3b2c74eb>\u001b[0m in \u001b[0;36mwrapper\u001b[0;34m(*args, **kwargs)\u001b[0m\n\u001b[1;32m     13\u001b[0m       \u001b[0;32mfor\u001b[0m \u001b[0mk\u001b[0m\u001b[0;34m,\u001b[0m \u001b[0mv\u001b[0m \u001b[0;32min\u001b[0m \u001b[0mkwargs\u001b[0m\u001b[0;34m.\u001b[0m\u001b[0mitems\u001b[0m\u001b[0;34m(\u001b[0m\u001b[0;34m)\u001b[0m\u001b[0;34m:\u001b[0m\u001b[0;34m\u001b[0m\u001b[0;34m\u001b[0m\u001b[0m\n\u001b[1;32m     14\u001b[0m         \u001b[0;32mif\u001b[0m \u001b[0mk\u001b[0m \u001b[0;32min\u001b[0m \u001b[0marg_types\u001b[0m \u001b[0;32mand\u001b[0m \u001b[0;32mnot\u001b[0m \u001b[0misinstance\u001b[0m\u001b[0;34m(\u001b[0m\u001b[0mv\u001b[0m\u001b[0;34m,\u001b[0m \u001b[0marg_types\u001b[0m\u001b[0;34m[\u001b[0m\u001b[0mk\u001b[0m\u001b[0;34m]\u001b[0m\u001b[0;34m)\u001b[0m\u001b[0;34m:\u001b[0m\u001b[0;34m\u001b[0m\u001b[0;34m\u001b[0m\u001b[0m\n\u001b[0;32m---> 15\u001b[0;31m           \u001b[0;32mraise\u001b[0m \u001b[0mTypeError\u001b[0m\u001b[0;34m(\u001b[0m\u001b[0;34mf\"Expected argument '{k}' of type {arg_types[k]}, got {type(v)}\"\u001b[0m\u001b[0;34m)\u001b[0m\u001b[0;34m\u001b[0m\u001b[0;34m\u001b[0m\u001b[0m\n\u001b[0m\u001b[1;32m     16\u001b[0m       \u001b[0;32mreturn\u001b[0m \u001b[0mfunc\u001b[0m\u001b[0;34m(\u001b[0m\u001b[0;34m*\u001b[0m\u001b[0margs\u001b[0m\u001b[0;34m,\u001b[0m \u001b[0;34m**\u001b[0m\u001b[0mkwargs\u001b[0m\u001b[0;34m)\u001b[0m\u001b[0;34m\u001b[0m\u001b[0;34m\u001b[0m\u001b[0m\n\u001b[1;32m     17\u001b[0m     \u001b[0;32mreturn\u001b[0m \u001b[0mwrapper\u001b[0m\u001b[0;34m\u001b[0m\u001b[0;34m\u001b[0m\u001b[0m\n",
            "\u001b[0;31mTypeError\u001b[0m: Expected argument 'age' of type <class 'int'>, got <class 'str'>"
          ]
        }
      ]
    },
    {
      "cell_type": "markdown",
      "source": [
        "> 💡 **Tip:**\n",
        ">\n",
        "> If a decorator doesn't take arguments, you only need one nested function (the `wrapper`). But if the decorator itself takes arguments, you'll need two nested functions, one to handle the decorator arguments and another as the actual wrapper.\n"
      ],
      "metadata": {
        "id": "IezXXOajN86o"
      }
    },
    {
      "cell_type": "markdown",
      "source": [
        "## **Common Decorators (Additional Material)**\n",
        "\n",
        "❗ This section requires some basic object-oriented programming (OOP) knowledge. Feel free to skip ahead and come back when you learn about attributes and properties in object-oriented programming.\n"
      ],
      "metadata": {
        "id": "P3Aj9Hiisdwx"
      }
    },
    {
      "cell_type": "markdown",
      "source": [
        "### **`@functools.lru_cache`**\n",
        "\n",
        "The `@functools.lru_cache` decorator caches (stores) function results based on arguments, so repeated calls with the same inputs return instantly instead of recomputing.\n"
      ],
      "metadata": {
        "id": "nSsv5MMvx6Uv"
      }
    },
    {
      "cell_type": "code",
      "source": [
        "from functools import lru_cache\n",
        "import random\n",
        "\n",
        "# Simulate expensive database/API call\n",
        "def fetch_user_data(user_id):\n",
        "  time.sleep(2)  # Simulate network delay\n",
        "  return {\n",
        "      'id': user_id,\n",
        "      'name': f'User_{user_id}',\n",
        "      'score': random.randint(1, 100)\n",
        "  }\n",
        "\n",
        "# Without caching - slow every time\n",
        "def get_user_score(user_id):\n",
        "  data = fetch_user_data(user_id)\n",
        "  return data['score']\n",
        "\n",
        "# With caching - only slow the first time\n",
        "@lru_cache(maxsize=128)\n",
        "def get_user_score_cached(user_id):\n",
        "  data = fetch_user_data(user_id)\n",
        "  return data['score']"
      ],
      "metadata": {
        "id": "jl4gpyQeyKPR"
      },
      "execution_count": 28,
      "outputs": []
    },
    {
      "cell_type": "code",
      "source": [
        "# Compare the difference\n",
        "print(\"First calls:\")\n",
        "\n",
        "start = time.perf_counter()\n",
        "score1 = get_user_score(123)\n",
        "print(f\"Without cache: {score1} (took {time.perf_counter() - start:.2f}s)\")\n",
        "\n",
        "start = time.perf_counter()\n",
        "score2 = get_user_score_cached(123)\n",
        "print(f\"With cache: {score2} (took {time.perf_counter() - start:.2f}s)\")\n",
        "\n",
        "print(\"\\nSecond calls:\")\n",
        "\n",
        "# Second calls - cached version will be instant\n",
        "start = time.perf_counter()\n",
        "score1 = get_user_score(123)\n",
        "print(f\"Without cache: {score1} (took {time.perf_counter() - start:.2f}s)\")\n",
        "\n",
        "start = time.perf_counter()\n",
        "score2 = get_user_score_cached(123)\n",
        "print(f\"With cache: {score2} (took {time.perf_counter() - start:.2f}s)\")\n",
        "\n",
        "# Cache info\n",
        "print(\"\\nCache info:\", get_user_score_cached.cache_info())"
      ],
      "metadata": {
        "colab": {
          "base_uri": "https://localhost:8080/"
        },
        "id": "1JScwodizinr",
        "outputId": "9d76d77f-08c0-42a5-f5d9-b0f136258723"
      },
      "execution_count": 29,
      "outputs": [
        {
          "output_type": "stream",
          "name": "stdout",
          "text": [
            "First calls:\n",
            "Without cache: 1 (took 2.00s)\n",
            "With cache: 94 (took 2.00s)\n",
            "\n",
            "Second calls:\n",
            "Without cache: 87 (took 2.00s)\n",
            "With cache: 94 (took 0.00s)\n",
            "\n",
            "Cache info: CacheInfo(hits=1, misses=1, maxsize=128, currsize=1)\n"
          ]
        }
      ]
    },
    {
      "cell_type": "markdown",
      "source": [
        "📒 **Note:** You can also use more than one decorator at a time like this:"
      ],
      "metadata": {
        "id": "Op6LUYHkQf82"
      }
    },
    {
      "cell_type": "code",
      "source": [
        "@timer\n",
        "@lru_cache(maxsize=128)\n",
        "def do_stuff(x: int, y: int) -> int:\n",
        "  time.sleep(2)\n",
        "  return x + y\n",
        "\n",
        "_ = do_stuff(1, 2)\n",
        "_ = do_stuff(1, 2)"
      ],
      "metadata": {
        "colab": {
          "base_uri": "https://localhost:8080/"
        },
        "id": "5Wh4qKWVQggg",
        "outputId": "436acf1f-891e-423a-b969-934baa5123e2"
      },
      "execution_count": 30,
      "outputs": [
        {
          "output_type": "stream",
          "name": "stdout",
          "text": [
            "Function 'do_stuff' executed in: 2.0002 seconds\n",
            "Function 'do_stuff' executed in: 0.0000 seconds\n"
          ]
        }
      ]
    },
    {
      "cell_type": "markdown",
      "source": [
        "You can see that cached functions consistently return the same result when given the same arguments, as the result is stored from previous calls. This caching mechanism speeds up execution by avoiding repeated calculations for identical inputs.\n"
      ],
      "metadata": {
        "id": "dK2blPdb24DQ"
      }
    },
    {
      "cell_type": "markdown",
      "source": [
        "### **`@property`**\n",
        "\n",
        "The `@property` decorator allows you to define a method that can be accessed like an attribute, making it a **getter** without explicitly calling it as a method.\n"
      ],
      "metadata": {
        "id": "Ou6sTE13uGqd"
      }
    },
    {
      "cell_type": "code",
      "source": [
        "class Person:\n",
        "  def __init__(self, name: str, age: int) -> None:\n",
        "    self._name = name\n",
        "    self._age = age\n",
        "\n",
        "  @property\n",
        "  def name(self) -> str:\n",
        "    return self._name\n",
        "\n",
        "  @name.setter\n",
        "  def name(self, name: str) -> None:\n",
        "    self._name = name\n",
        "\n",
        "  @property\n",
        "  def age(self) -> int:\n",
        "    return self._age\n",
        "\n",
        "  @age.setter\n",
        "  def age(self, age: int) -> None:\n",
        "    self._age = age\n",
        "\n",
        "\n",
        "# Example\n",
        "person = Person(\"Timmy\", 25)\n",
        "\n",
        "# Use property getter to get properties\n",
        "print(\"Old Properties:\")\n",
        "print(person.name)\n",
        "print(person.age)\n",
        "\n",
        "# Use property setter to set properties\n",
        "person.name = \"Jason\"\n",
        "person.age = 32\n",
        "\n",
        "# Properties changed\n",
        "print(\"---\")\n",
        "print(\"New Properties:\")\n",
        "print(person.name)\n",
        "print(person.age)"
      ],
      "metadata": {
        "colab": {
          "base_uri": "https://localhost:8080/"
        },
        "id": "Uy_QzG5VuQS8",
        "outputId": "58e85e2e-1d61-4294-e79f-5f60290f3d08"
      },
      "execution_count": 31,
      "outputs": [
        {
          "output_type": "stream",
          "name": "stdout",
          "text": [
            "Old Properties:\n",
            "Timmy\n",
            "25\n",
            "---\n",
            "New Properties:\n",
            "Jason\n",
            "32\n"
          ]
        }
      ]
    },
    {
      "cell_type": "markdown",
      "source": [
        "### **`@dataclass`**\n",
        "\n",
        "The `@dataclass` decorator automatically generates useful special methods for a class, including:\n",
        "\n",
        "- `__init__` → Automatically creates an initializer based on class attributes.\n",
        "- `__repr__` → Provides a readable string representation of the object.\n",
        "- `__eq__` → Enables comparison between instances based on attribute values.\n",
        "- ... and others like `__hash__`, `__post_init__`, and field defaults.\n",
        "\n",
        "This makes defining simple data-holding classes much cleaner and more efficient.\n"
      ],
      "metadata": {
        "id": "j9SIJm6Uveqn"
      }
    },
    {
      "cell_type": "code",
      "source": [
        "from dataclasses import dataclass\n",
        "\n",
        "@dataclass\n",
        "class Point:\n",
        "  x: float\n",
        "  y: float\n",
        "\n",
        "# Create a Point object\n",
        "p1 = Point(1.0, 2.0)\n",
        "p2 = Point(3.2, 4.0)\n",
        "p3 = Point(1.0, 2.0)\n",
        "print(p1)\n",
        "print(p1 == p3)\n",
        "print(p1 == p2)"
      ],
      "metadata": {
        "colab": {
          "base_uri": "https://localhost:8080/"
        },
        "id": "AcS17oBAvt4F",
        "outputId": "d514e321-a58c-4ae9-92e2-31c2bc02c43d"
      },
      "execution_count": 32,
      "outputs": [
        {
          "output_type": "stream",
          "name": "stdout",
          "text": [
            "Point(x=1.0, y=2.0)\n",
            "True\n",
            "False\n"
          ]
        }
      ]
    },
    {
      "cell_type": "markdown",
      "source": [
        "The class created above is the exact same as the one created in the cell bellow, with a lot less boilerplate code:\n"
      ],
      "metadata": {
        "id": "65CzrJpRxG63"
      }
    },
    {
      "cell_type": "code",
      "source": [
        "class Point:\n",
        "  x: float\n",
        "  y: float\n",
        "\n",
        "  def __init__(self, x: float, y: float):\n",
        "    self.x = x\n",
        "    self.y = y\n",
        "\n",
        "  def __repr__(self) -> str:\n",
        "    return f\"Point(x={self.x}, y={self.y})\"\n",
        "\n",
        "  def __eq__(self, other: object) -> bool:\n",
        "    if not isinstance(other, Point):\n",
        "      return False\n",
        "    return self.x == other.x and self.y == other.y\n",
        "\n",
        "\n",
        "# Create a Point object\n",
        "p1 = Point(1.0, 2.0)\n",
        "p2 = Point(3.2, 4.0)\n",
        "p3 = Point(1.0, 2.0)\n",
        "print(p1)\n",
        "print(p1 == p3)\n",
        "print(p1 == p2)"
      ],
      "metadata": {
        "colab": {
          "base_uri": "https://localhost:8080/"
        },
        "id": "aNEKq7NbxOsU",
        "outputId": "38c16cc2-e2b2-41ca-93ac-dc8d0c4ef3bf"
      },
      "execution_count": 33,
      "outputs": [
        {
          "output_type": "stream",
          "name": "stdout",
          "text": [
            "Point(x=1.0, y=2.0)\n",
            "True\n",
            "False\n"
          ]
        }
      ]
    },
    {
      "cell_type": "markdown",
      "source": [
        "## **Conclusion**\n",
        "\n",
        "That's it for our class on closures and decorators. We explored how closures allow functions to retain state and how decorators provide a powerful way to modify functions dynamically.\n",
        "\n",
        "For more information, check out these resources:\n",
        "- [First-Class Functions and Closures in Python - freeCodeCamp](https://www.freecodecamp.org/news/first-class-functions-and-closures-in-python/)\n",
        "- [Decorators in Python - DataCamp](https://www.datacamp.com/tutorial/decorators-python)\n",
        "- [Primer on Python Decorators - Real Python](https://realpython.com/primer-on-python-decorators/)\n",
        "\n",
        "<br>\n",
        "\n",
        "In the next class, we'll look at `recursion` and how functions can call themselves to solve complex problems! 🐍\n"
      ],
      "metadata": {
        "id": "6X0nEIEJRHHj"
      }
    }
  ]
}