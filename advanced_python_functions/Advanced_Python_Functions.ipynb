{
  "nbformat": 4,
  "nbformat_minor": 0,
  "metadata": {
    "colab": {
      "provenance": [],
      "toc_visible": true,
      "authorship_tag": "ABX9TyNu6kNQjyENeh/itBvjYCOs",
      "include_colab_link": true
    },
    "kernelspec": {
      "name": "python3",
      "display_name": "Python 3"
    },
    "language_info": {
      "name": "python"
    }
  },
  "cells": [
    {
      "cell_type": "markdown",
      "metadata": {
        "id": "view-in-github",
        "colab_type": "text"
      },
      "source": [
        "<a href=\"https://colab.research.google.com/github/kchenTTP/python-series/blob/main/advanced_python_functions/Advanced_Python_Functions.ipynb\" target=\"_parent\"><img src=\"https://colab.research.google.com/assets/colab-badge.svg\" alt=\"Open In Colab\"/></a>"
      ]
    },
    {
      "cell_type": "markdown",
      "source": [
        "# **Advanced Python Functions**\n",
        "\n",
        "In our intermediate class, we covered default parameters, variable-length arguments, function documentation, and introduced some functional programming concepts. In this session, we'll explore function scopes, closures, decorators, and recursion in more depth.\n",
        "\n",
        "**Table of Contents**\n",
        "\n",
        "- [Function Scopes](#scrollTo=K3MSR-8x31WE)\n",
        "- [Closures](#scrollTo=bz-UTbfLev05)\n",
        "- [Decorators](#scrollTo=Fkz86bj94ARo)\n",
        "  - [Common Decorators](#scrollTo=P3Aj9Hiisdwx)\n",
        "- [Recursions](#scrollTo=nQ18LxcjJH90)\n"
      ],
      "metadata": {
        "id": "u77EAJpG99fN"
      }
    },
    {
      "cell_type": "code",
      "source": [
        "from typing import Callable, Any\n",
        "import time"
      ],
      "metadata": {
        "id": "VbT386J1qeex"
      },
      "execution_count": null,
      "outputs": []
    },
    {
      "cell_type": "markdown",
      "source": [
        "## **Function Scopes**\n",
        "\n",
        "Function scopes define the accessibility and ***lifespan of variables*** within different parts of a program. Understanding scopes helps prevent variable conflicts and ensures that functions work as intended by controlling where and how variables can be accessed.\n",
        "\n",
        "**Key Concepts**\n",
        "\n",
        "- **Local Scope**: Variables defined within a function are local to that function and can't be accessed outside of it.\n",
        "- **Global Scope**: Variables defined outside any function are in the global scope and can be accessed from anywhere in the program, including inside functions (unless there's a variable inside the function that shares the same name).\n",
        "- **Nonlocal Scope**: Variables in a nested (enclosing) function can be accessed and modified in an inner function using the nonlocal keyword.\n",
        "- **LEGB Rule**: Python follows the Local, Enclosing, Global, Built-in (LEGB) rule to determine the order of scope resolution.\n",
        "\n",
        "Understanding scope helps you manage variables effectively, avoid naming conflicts, and write cleaner, more predictable code.\n"
      ],
      "metadata": {
        "id": "K3MSR-8x31WE"
      }
    },
    {
      "cell_type": "markdown",
      "source": [
        "### **Local Scope**\n",
        "\n",
        "Variables defined within a function are only accessible within that function. They cannot be accessed from outside unless explicitly returned.\n"
      ],
      "metadata": {
        "id": "M_uoFGL3Li90"
      }
    },
    {
      "cell_type": "code",
      "source": [
        "# Accessing local variable outside of function\n",
        "def foo():\n",
        "  # local variable\n",
        "  x = 50\n",
        "  print(f\"Local: {x = }\")\n",
        "\n",
        "foo()\n",
        "print(f\"Global: {x = }\")"
      ],
      "metadata": {
        "colab": {
          "base_uri": "https://localhost:8080/",
          "height": 193
        },
        "id": "zuroAM9OLKr4",
        "outputId": "80d30128-82ac-407b-d08a-37950a262f59"
      },
      "execution_count": null,
      "outputs": [
        {
          "output_type": "stream",
          "name": "stdout",
          "text": [
            "Local: x = 50\n"
          ]
        },
        {
          "output_type": "error",
          "ename": "NameError",
          "evalue": "name 'x' is not defined",
          "traceback": [
            "\u001b[0;31m---------------------------------------------------------------------------\u001b[0m",
            "\u001b[0;31mNameError\u001b[0m                                 Traceback (most recent call last)",
            "\u001b[0;32m<ipython-input-1-3d2a077b7f17>\u001b[0m in \u001b[0;36m<cell line: 8>\u001b[0;34m()\u001b[0m\n\u001b[1;32m      6\u001b[0m \u001b[0;34m\u001b[0m\u001b[0m\n\u001b[1;32m      7\u001b[0m \u001b[0mfoo\u001b[0m\u001b[0;34m(\u001b[0m\u001b[0;34m)\u001b[0m\u001b[0;34m\u001b[0m\u001b[0;34m\u001b[0m\u001b[0m\n\u001b[0;32m----> 8\u001b[0;31m \u001b[0mprint\u001b[0m\u001b[0;34m(\u001b[0m\u001b[0;34mf\"Global: {x = }\"\u001b[0m\u001b[0;34m)\u001b[0m\u001b[0;34m\u001b[0m\u001b[0;34m\u001b[0m\u001b[0m\n\u001b[0m",
            "\u001b[0;31mNameError\u001b[0m: name 'x' is not defined"
          ]
        }
      ]
    },
    {
      "cell_type": "markdown",
      "source": [
        "As you can see you'll get a `NameError` because Python cannot access the local variable `x`.\n",
        "\n",
        "> 💡 In order to access the variables within a function outside the function itself, you need to explicitly return it to the outside.\n"
      ],
      "metadata": {
        "id": "xhLTU8pRQe1B"
      }
    },
    {
      "cell_type": "code",
      "source": [
        "# Return local variable outside the function\n",
        "def bar():\n",
        "  y = 300\n",
        "  return y\n",
        "\n",
        "result = bar()\n",
        "print(f\"Global: {result = }\")"
      ],
      "metadata": {
        "colab": {
          "base_uri": "https://localhost:8080/"
        },
        "id": "10dZcdrHO6Rw",
        "outputId": "03070a5b-ad38-46ce-97b9-4b14682b8360"
      },
      "execution_count": null,
      "outputs": [
        {
          "output_type": "stream",
          "name": "stdout",
          "text": [
            "Global: result = 300\n"
          ]
        }
      ]
    },
    {
      "cell_type": "markdown",
      "source": [
        "### **Global Scope**\n",
        "\n",
        "Variables defined outside any function are in the `global` scope and can be accessed from anywhere in the program.\n"
      ],
      "metadata": {
        "id": "0iVm908RQFNx"
      }
    },
    {
      "cell_type": "code",
      "source": [
        "# Accessing global variables within a function\n",
        "z = 200\n",
        "\n",
        "def baz():\n",
        "  print(f\"Global: {z = }\")\n",
        "\n",
        "baz()"
      ],
      "metadata": {
        "colab": {
          "base_uri": "https://localhost:8080/"
        },
        "id": "DP97yYDNOaV-",
        "outputId": "c87a3b00-f28a-43ef-a093-069eca4a02a9"
      },
      "execution_count": null,
      "outputs": [
        {
          "output_type": "stream",
          "name": "stdout",
          "text": [
            "Global: z = 200\n"
          ]
        }
      ]
    },
    {
      "cell_type": "markdown",
      "source": [
        "> 🚨 You are, however, not allowed to reassign global variables within a function. Doing so will result in a new local variable with the same name being created."
      ],
      "metadata": {
        "id": "lmWMpLlgSwMt"
      }
    },
    {
      "cell_type": "code",
      "source": [
        "# Reassigning global variables within a function\n",
        "w = \"Hello\"\n",
        "\n",
        "def qux():\n",
        "  # Attempting to reassing new value\n",
        "  w = \"World\"\n",
        "  print(f\"Local: {w = }\")\n",
        "\n",
        "qux()\n",
        "print(f\"Global: {w = }\")"
      ],
      "metadata": {
        "colab": {
          "base_uri": "https://localhost:8080/"
        },
        "id": "PUrSImRYSsy5",
        "outputId": "1a7716b9-c420-441f-e6b4-74032a926cdc"
      },
      "execution_count": null,
      "outputs": [
        {
          "output_type": "stream",
          "name": "stdout",
          "text": [
            "Local: w = 'World'\n",
            "Global: w = 'Hello'\n"
          ]
        }
      ]
    },
    {
      "cell_type": "markdown",
      "source": [
        "As you can see, we get two different values for `w`. This happens because one value is from the global variable, while the other is from within the function's local scope.\n",
        "\n",
        "If you need to modify a global variable inside a function, it's generally recommended to either:\n",
        "\n",
        "1. Pass the variable as an argument, modify it within the function, and then return the updated value.\n",
        "2. Use the `global` keyword to explicitly declare that you're modifying the global variable.\n"
      ],
      "metadata": {
        "id": "k-PjYjYlNcxs"
      }
    },
    {
      "cell_type": "code",
      "source": [
        "g = 100\n",
        "\n",
        "# Passing global variable as argument\n",
        "def quux(g):\n",
        "  g = 50\n",
        "  print(f\"Local: {g = }\")\n",
        "  return g\n",
        "\n",
        "# Reassigning new value to variable\n",
        "g = quux(g)\n",
        "print(f\"Global: {g = }\")"
      ],
      "metadata": {
        "colab": {
          "base_uri": "https://localhost:8080/"
        },
        "id": "ZR7n-yolN0LU",
        "outputId": "8cd3e56c-e62e-4fbb-8c93-98f602a96328"
      },
      "execution_count": null,
      "outputs": [
        {
          "output_type": "stream",
          "name": "stdout",
          "text": [
            "Local: g = 50\n",
            "Global: g = 50\n"
          ]
        }
      ]
    },
    {
      "cell_type": "code",
      "source": [
        "# Using the global keyword\n",
        "h = 100\n",
        "\n",
        "def quuz():\n",
        "  # Specify we're using the global variable and not defining a local one\n",
        "  global h\n",
        "  h = 50\n",
        "  print(f\"Local: {h = }\")\n",
        "\n",
        "quuz()\n",
        "print(f\"Global: {h = }\")"
      ],
      "metadata": {
        "colab": {
          "base_uri": "https://localhost:8080/"
        },
        "id": "-11FZ5tpV9Ti",
        "outputId": "670f1022-cc64-4e4b-8b5d-4595bf3bbfd7"
      },
      "execution_count": null,
      "outputs": [
        {
          "output_type": "stream",
          "name": "stdout",
          "text": [
            "Local: h = 50\n",
            "Global: h = 50\n"
          ]
        }
      ]
    },
    {
      "cell_type": "markdown",
      "source": [
        "### **Nonlocal (Enclosing) Scope**\n",
        "\n",
        "Nonlocal, or enclosing scope, refers to variables defined in a parent function that can be accessed and modified within a nested (inner) function. The `nonlocal` keyword allows you to work with these variables, enabling the inner function to modify the state of variables in its enclosing function.\n",
        "\n",
        "- **Nested Functions**: functions defined inside other functions.\n",
        "- **The `nonlocal` Keyword**: This keyword allows an inner function to modify a variable from the outer (enclosing) function's scope, rather than creating a new local variable.\n",
        "  \n",
        "> 🚨 Using nonlocal scope can be useful for managing state across nested functions without relying on global variables, but should be used thoughtfully to keep the code easy to follow.\n"
      ],
      "metadata": {
        "id": "hy-X4-66Wa0a"
      }
    },
    {
      "cell_type": "code",
      "source": [
        "# Nested functions\n",
        "def outer():\n",
        "  x = 10\n",
        "  def inner():\n",
        "    x = 20\n",
        "    print(f\"Inner function: {x = }\")\n",
        "\n",
        "  inner()\n",
        "  print(f\"Outer function: {x = }\")\n",
        "\n",
        "outer()"
      ],
      "metadata": {
        "colab": {
          "base_uri": "https://localhost:8080/"
        },
        "id": "C2mzZikdX_YZ",
        "outputId": "f1b60d29-1115-49dc-dc0c-32e18f90cafd"
      },
      "execution_count": null,
      "outputs": [
        {
          "output_type": "stream",
          "name": "stdout",
          "text": [
            "Inner function: x = 20\n",
            "Outer function: x = 10\n"
          ]
        }
      ]
    },
    {
      "cell_type": "code",
      "source": [
        "# Using the nonlocal keyword\n",
        "def outer():\n",
        "  x = 10\n",
        "  def inner():\n",
        "    # Specify we're using the variable from the outer function and not defining a local one\n",
        "    nonlocal x\n",
        "    x = 20\n",
        "    print(f\"Inner function: {x = }\")\n",
        "\n",
        "  inner()\n",
        "  print(f\"Outer function: {x = }\")\n",
        "\n",
        "outer()"
      ],
      "metadata": {
        "colab": {
          "base_uri": "https://localhost:8080/"
        },
        "id": "ngNl4KUtahth",
        "outputId": "7ff372ea-64b7-4c99-ada9-23e5daf05945"
      },
      "execution_count": null,
      "outputs": [
        {
          "output_type": "stream",
          "name": "stdout",
          "text": [
            "Inner function: x = 20\n",
            "Outer function: x = 20\n"
          ]
        }
      ]
    },
    {
      "cell_type": "markdown",
      "source": [
        "### **Argument Passing in Python**\n",
        "\n",
        "Python passes arguments to functions **by object reference** (often called \"pass-by-assignment\"). This means that:\n",
        "\n",
        "- For **immutable types** (e.g., integers, strings, tuples), the function receives a copy of the reference, and the original object remains unchanged if modified inside the function.\n",
        "- For **mutable types** (e.g., lists, dictionaries), the function receives a reference to the same object, so any in-place modifications affect the original object outside the function.\n",
        "  > 📒 **Note:** This is why in our last class, when we use an empty list as default parameters, we see side effects of different function calls modifying the same list.\n",
        "\n",
        "This behavior is sometimes called \"pass-by-value\" for immutables and \"pass-by-reference\" for mutables, but technically, Python always passes by object reference.\n"
      ],
      "metadata": {
        "id": "4Zk7BOGEbGBj"
      }
    },
    {
      "cell_type": "code",
      "source": [
        "def modify_value(value):\n",
        "    # Local scope for modify_value\n",
        "    value += 5  # This modifies only the local copy for immutables\n",
        "    return value\n",
        "\n",
        "# Immutable argument passing\n",
        "num = 20\n",
        "print(f\"Before modify_value: {num = }\")\n",
        "num_2 = modify_value(num)\n",
        "print(f\"After modify_value: {num = }\")"
      ],
      "metadata": {
        "colab": {
          "base_uri": "https://localhost:8080/"
        },
        "id": "62dOADYhdWgr",
        "outputId": "a45f435e-8b5c-4913-ac96-09292728cb2e"
      },
      "execution_count": null,
      "outputs": [
        {
          "output_type": "stream",
          "name": "stdout",
          "text": [
            "Before modify_value: num = 20\n",
            "After modify_value: num = 20\n"
          ]
        }
      ]
    },
    {
      "cell_type": "code",
      "source": [
        "def modify_list(my_list):\n",
        "    # Local scope for modify_list\n",
        "    my_list.append(4)  # This modifies the original list (a mutable object)\n",
        "\n",
        "# Mutable argument passing\n",
        "numbers = [1, 2, 3]\n",
        "print(f\"Before modify_list: {numbers = }\")\n",
        "modify_list(numbers)\n",
        "print(f\"After modify_list: {numbers = }\")"
      ],
      "metadata": {
        "colab": {
          "base_uri": "https://localhost:8080/"
        },
        "id": "jdqc9_bXeCSr",
        "outputId": "cc481b4c-8aee-45e7-9922-5e5305973af3"
      },
      "execution_count": null,
      "outputs": [
        {
          "output_type": "stream",
          "name": "stdout",
          "text": [
            "Before modify_list: numbers = [1, 2, 3]\n",
            "After modify_list: numbers = [1, 2, 3, 4]\n"
          ]
        }
      ]
    },
    {
      "cell_type": "markdown",
      "source": [
        "### **Higher-Order Functions Review**\n",
        "\n",
        "Higher-order functions are functions that can either:\n",
        "\n",
        "- Accept other functions as arguments\n",
        "- Return functions as results\n",
        "- Perform both of the above\n",
        "\n",
        "Below is a higher-order function that takes a function as an input and test it's output against known results."
      ],
      "metadata": {
        "id": "CI0GYLT7qBLU"
      }
    },
    {
      "cell_type": "code",
      "source": [
        "def tester(func: Callable, result: Any, **kwargs) -> None:\n",
        "  \"\"\"Test if function will return expected results\"\"\"\n",
        "  try:\n",
        "    rv = func(**kwargs)\n",
        "    if not rv and result:\n",
        "      print(f\"FAILED: <{func.__name__}> expected '{result}', got '{rv}' instead\")\n",
        "      return\n",
        "    assert rv == result\n",
        "    print(f\"PASSED: <{func.__name__}>\")\n",
        "  except AssertionError:\n",
        "    print(f\"FAILED: <{func.__name__}> expected '{result}', got '{rv}' instead\")\n",
        "\n",
        "def greet(name: str, greeting: str = \"Hello\") -> str:\n",
        "  return f\"{greeting}, {name}!\"\n",
        "\n",
        "def do_sth() -> None:\n",
        "  \"\"\"Function that is incorrectly defined\"\"\"\n",
        "  pass\n",
        "\n",
        "\n",
        "tester(greet, \"Hello, Mike!\", name=\"Mike\")\n",
        "tester(greet, \"G'day, Tim!\", name=\"Tim\", greeting=\"G'day\")\n",
        "tester(do_sth, [\"a\", \"b\", \"c\"])"
      ],
      "metadata": {
        "colab": {
          "base_uri": "https://localhost:8080/"
        },
        "id": "7AregP71qN-f",
        "outputId": "c85d43e8-0688-439a-9566-41c9c49810a0"
      },
      "execution_count": null,
      "outputs": [
        {
          "output_type": "stream",
          "name": "stdout",
          "text": [
            "PASSED: <greet>\n",
            "PASSED: <greet>\n",
            "FAILED: <do_sth> expected '['a', 'b', 'c']', got 'None' instead\n"
          ]
        }
      ]
    },
    {
      "cell_type": "markdown",
      "source": [
        "## **Closures**\n",
        "\n",
        "Closures are functions that capture and carry their enclosing scope with them. Or, in simpler terms, they are:\n",
        "\n",
        "> Functions that \"remember\" the environment in which they were created, even if that environment is no longer in scope when the function is called.\n",
        "\n",
        "Here's how it works:\n"
      ],
      "metadata": {
        "id": "bz-UTbfLev05"
      }
    },
    {
      "cell_type": "code",
      "source": [
        "def outside(x):\n",
        "  def inside(y):\n",
        "    return x + y\n",
        "  return inside\n",
        "\n",
        "# Using closures\n",
        "add_five = outside(5)\n",
        "result = add_five(10)\n",
        "print(result)\n",
        "\n",
        "# This is the equivalent the above code\n",
        "print(outside(5)(10))"
      ],
      "metadata": {
        "colab": {
          "base_uri": "https://localhost:8080/"
        },
        "id": "thwcBnyCewPN",
        "outputId": "1853244e-932e-4fc5-ea31-28f065cdb4a4"
      },
      "execution_count": null,
      "outputs": [
        {
          "output_type": "stream",
          "name": "stdout",
          "text": [
            "15\n",
            "15\n"
          ]
        }
      ]
    },
    {
      "cell_type": "markdown",
      "source": [
        "In this example, we demonstrate how closures allow a function to \"remember\" its enclosing scope.\n",
        "\n",
        "1. **Defining the Closure**:\n",
        "\n",
        "  - We define an outer function `outside(x)`, which accepts a parameter `x`.\n",
        "  - Inside `outside`, we define an inner function `inside(y)`, which takes a parameter `y` and returns the sum of `x` and `y`.\n",
        "  - `inside` can access `x` because it is within the enclosing scope of `outside`.\n",
        "\n",
        "2. **Creating a Closure**:\n",
        "\n",
        "  - When we call `outside(5)`, Python creates a closure where `x` is set to `5`.\n",
        "  - The call to `outside(5)` returns the `inside` function with `x` retained in its environment, allowing us to assign this closure to `add_five`.\n",
        "\n",
        "3. **Using the Closure**:\n",
        "\n",
        "  - We can now call `add_five(10)`, where `y` is `10`.\n",
        "  - Since `add_five` retains `x = 5` in its environment, the result of `add_five(10)` is `5 + 10 = 15`, which is printed.\n",
        "\n",
        "4. **Equivalent Inline Call**:\n",
        "\n",
        "  - We could also call `outside(5)(10)` directly, which immediately returns `15` without storing the closure in a variable.\n",
        "\n",
        "<br>\n",
        "\n",
        "As we can see closures are useful for creating functions with \"preset\" parameters or maintaining a state across multiple function calls, even if the original scope where the function was defined is no longer active.\n"
      ],
      "metadata": {
        "id": "H66rOrRvwGOC"
      }
    },
    {
      "cell_type": "markdown",
      "source": [
        "### **Example 1: API Endpoint Creator**\n",
        "\n",
        "In this example, we create a function that generates API endpoint URLs with an associated API key. The use of closures allows each endpoint creator to remember its specific API key, even after the outer function has completed.\n",
        "\n",
        "<br>\n",
        "\n",
        "1. **Function Definition**: The `api_endpoint_creator` function takes an `api_key` as a parameter and defines a nested function `create_endpoint`. This inner function constructs a URL based on the given `endpoint` and any additional parameters provided.\n",
        "\n",
        "2. **Capturing State**: The `create_endpoint` function uses the `api_key` captured from the enclosing scope. Each time it is called, it builds a URL that includes this specific `api_key`.\n",
        "\n"
      ],
      "metadata": {
        "id": "sNhykziJw5R5"
      }
    },
    {
      "cell_type": "code",
      "source": [
        "def api_endpoint_creator(api_key: str) -> Callable:\n",
        "  def create_endpoint(endpoint: str, **params) -> str:\n",
        "    url = f\"{endpoint}?api_key={api_key}\"\n",
        "    for key, value in params.items():\n",
        "      url += f\"&{key}={value}\"\n",
        "    return url\n",
        "  return create_endpoint"
      ],
      "metadata": {
        "id": "TOBYUSThxvKZ"
      },
      "execution_count": null,
      "outputs": []
    },
    {
      "cell_type": "code",
      "source": [
        "# Create our first api endpoint creator with our first api key\n",
        "api_key = \"api_key_123\"\n",
        "create_endpoint = api_endpoint_creator(api_key)\n",
        "url_1 = create_endpoint(\"https://example.com/api\", format=\"json\", limit=10)\n",
        "url_2 = create_endpoint(\"https://example.com/api\", format=\"csv\", limit=20)\n",
        "print(url_1)\n",
        "print(url_2)"
      ],
      "metadata": {
        "colab": {
          "base_uri": "https://localhost:8080/"
        },
        "id": "YT3lJ2rJ376B",
        "outputId": "9ed9f7fc-04b8-47ac-c63b-1c489859e656"
      },
      "execution_count": null,
      "outputs": [
        {
          "output_type": "stream",
          "name": "stdout",
          "text": [
            "https://example.com/api?api_key=api_key_123&format=json&limit=10\n",
            "https://example.com/api?api_key=api_key_123&format=csv&limit=20\n"
          ]
        }
      ]
    },
    {
      "cell_type": "code",
      "source": [
        "# Create our second api endpoint creator with our second api key\n",
        "api_key = \"admin_timmy_2000\"\n",
        "create_endpoint = api_endpoint_creator(api_key)\n",
        "url_1 = create_endpoint(\"https://example.com/api\", format=\"json\", limit=10)\n",
        "url_2 = create_endpoint(\"https://example.com/api\", format=\"csv\", limit=20)\n",
        "print(url_1)\n",
        "print(url_2)"
      ],
      "metadata": {
        "colab": {
          "base_uri": "https://localhost:8080/"
        },
        "id": "msj1qBik_ucy",
        "outputId": "d25e46a4-88e2-4e0d-b5c3-d9515b83c4c3"
      },
      "execution_count": null,
      "outputs": [
        {
          "output_type": "stream",
          "name": "stdout",
          "text": [
            "https://example.com/api?api_key=admin_timmy_2000&format=json&limit=10\n",
            "https://example.com/api?api_key=admin_timmy_2000&format=csv&limit=20\n"
          ]
        }
      ]
    },
    {
      "cell_type": "markdown",
      "source": [
        "In both examples, we:\n",
        "\n",
        "1. **Creating an Endpoint**: We create a specific endpoint generator by calling `api_endpoint_creator` with the first API key. This returns a `create_endpoint` function tailored to use the provided `api_key`.\n",
        "\n",
        "2. **Generating URLs**: When we call `create_endpoint` with different parameters, it constructs URLs that include the relevant API key and any other parameters provided.\n"
      ],
      "metadata": {
        "id": "-27rBqiPAkNF"
      }
    },
    {
      "cell_type": "markdown",
      "source": [
        "### **Example 2: Email Template Generator**\n",
        "\n",
        "In this example, we'll create a function that generates email templates, allowing you to easily create personalized messages without having to format the message every time.\n",
        "\n",
        "<br>\n",
        "\n",
        "**Explanation**\n",
        "\n",
        "1. **Function Definition**: The `template_creator` function takes a `template` string as an argument, which contains placeholders for `name` and `message`.\n",
        "\n",
        "2. **Nested Closure**: Inside `template_creator`, we define the `create_email` function. This function takes `name` and `message` as parameters and uses the `template` string to generate a personalized email by formatting it with the provided values.\n"
      ],
      "metadata": {
        "id": "-gAG1Wk5Bk-v"
      }
    },
    {
      "cell_type": "code",
      "source": [
        "def template_creator(template: str) -> Callable:\n",
        "  def create_email(name: str, message: str) -> str:\n",
        "    return template.format(name=name, message=message)\n",
        "  return create_email"
      ],
      "metadata": {
        "id": "pUdUKvdaCnsT"
      },
      "execution_count": null,
      "outputs": []
    },
    {
      "cell_type": "code",
      "source": [
        "# Create an email template\n",
        "template = \"Hello {name},\\n\\n{message}\\n\\nBest regards,\\nYour Friend\"\n",
        "generate_email = template_creator(template)\n",
        "\n",
        "# Using the email template generator\n",
        "email_1 = generate_email(\"Alice\", \"I hope you are doing well!\")\n",
        "email_2 = generate_email(\"Bob\", \"Looking forward to our meeting next week.\")\n",
        "print(email_1)\n",
        "print()\n",
        "print(\"----\")\n",
        "print()\n",
        "print(email_2)"
      ],
      "metadata": {
        "colab": {
          "base_uri": "https://localhost:8080/"
        },
        "id": "MTHUSxX4DQ-S",
        "outputId": "59b3aa62-e0a5-4f15-d346-4c59923fbad6"
      },
      "execution_count": null,
      "outputs": [
        {
          "output_type": "stream",
          "name": "stdout",
          "text": [
            "Hello Alice,\n",
            "\n",
            "I hope you are doing well!\n",
            "\n",
            "Best regards,\n",
            "Your Friend\n",
            "\n",
            "----\n",
            "\n",
            "Hello Bob,\n",
            "\n",
            "Looking forward to our meeting next week.\n",
            "\n",
            "Best regards,\n",
            "Your Friend\n"
          ]
        }
      ]
    },
    {
      "cell_type": "markdown",
      "source": [
        "Here, we:\n",
        "\n",
        "1. **Created the Email Generator**: When we call `template_creator(template)`, it returns the `create_email` function, which is now configured to use the specific template we provided.\n",
        "\n",
        "2. **Generated Emails**: Each time we call `generate_email`, we pass in the recipient's name and the message. The function uses the stored template to create the final email.\n",
        "\n",
        "3. **Output**:\n",
        "   - The first call to `generate_email(\"Alice\", \"I hope you are doing well!\")` generates:\n",
        "     ```\n",
        "     Hello Alice,\n",
        "     \n",
        "     I hope you are doing well!\n",
        "     \n",
        "     Best regards,\n",
        "     Your Friend\n",
        "     ```\n",
        "   - The second call to `generate_email(\"Bob\", \"Looking forward to our meeting next week.\")` generates:\n",
        "     ```\n",
        "     Hello Bob,\n",
        "     \n",
        "     Looking forward to our meeting next week.\n",
        "     \n",
        "     Best regards,\n",
        "     Your Friend\n",
        "     ```\n"
      ],
      "metadata": {
        "id": "QXWJTmYYD87u"
      }
    },
    {
      "cell_type": "markdown",
      "source": [
        "## **Decorators**\n",
        "\n",
        "Decorators allow you to modify or enhance the behavior of functions or methods without directly changing their source code. They are often used for logging, access control, caching, and other cross-cutting concerns.\n",
        "\n",
        "<br>\n",
        "\n",
        "**How Decorators Work**\n",
        "\n",
        "A decorator is a function that takes another function as an argument and returns a new function that usually extends the behavior of the original function.\n",
        "\n",
        "> You can either pass the function into a decorator when it's called, or you can apply a decorator to a function using the `@decorator_name` syntax before the function definition.\n",
        "\n",
        "<br>\n",
        "\n",
        "Let's take a look at some examples:"
      ],
      "metadata": {
        "id": "Fkz86bj94ARo"
      }
    },
    {
      "cell_type": "markdown",
      "source": [
        "### **Example 1: Timing a Function**\n",
        "\n",
        "First, let's look at a simple example of a decorator that measures the execution time of a function."
      ],
      "metadata": {
        "id": "rBlxgjW-KE2s"
      }
    },
    {
      "cell_type": "code",
      "source": [
        "# No decorator example\n",
        "def some_function():\n",
        "  time.sleep(2)\n",
        "  print(\"Function executed\")\n",
        "\n",
        "\n",
        "start = time.perf_counter()\n",
        "some_function()\n",
        "end = time.perf_counter()\n",
        "print(f\"Time taken: {end - start:.4f} seconds\")"
      ],
      "metadata": {
        "colab": {
          "base_uri": "https://localhost:8080/"
        },
        "id": "gSIzz0IhIvTU",
        "outputId": "95da6a5d-8dc8-4e32-f8c5-1ec00f1d700e"
      },
      "execution_count": null,
      "outputs": [
        {
          "output_type": "stream",
          "name": "stdout",
          "text": [
            "Function executed\n",
            "Time taken: 2.0025 seconds\n"
          ]
        }
      ]
    },
    {
      "cell_type": "markdown",
      "source": [
        "Let's say we want to measure the execution time of multiple functions to monitor performance. We could add timing code like this to each function individually:\n",
        "\n",
        "```python\n",
        "start = time.perf_counter()\n",
        "func()\n",
        "end = time.perf_counter()\n",
        "print(f\"Time taken: {end - start:.4f} seconds\")\n",
        "```\n",
        "\n",
        "However, repeating this code can be tedious and error-prone. Instead, we can create a decorator that handles the timing for us. This way, we only write the timing functionality **once** and can easily apply it to any function with a simple decorator!\n"
      ],
      "metadata": {
        "id": "hGNVx-fmJEWM"
      }
    },
    {
      "cell_type": "code",
      "source": [
        "import functools\n",
        "\n",
        "def timer(func: Callable) -> Callable:\n",
        "  @functools.wraps\n",
        "  def wrapper(*args, **kwargs):\n",
        "    start = time.perf_counter()\n",
        "    rv = func(*args, **kwargs)\n",
        "    print(f\"Function '{func.__name__}' executed in: {time.perf_counter() - start:.4f} seconds\")\n",
        "    return rv\n",
        "  return wrapper"
      ],
      "metadata": {
        "id": "fr20nMuQKWg3"
      },
      "execution_count": null,
      "outputs": []
    },
    {
      "cell_type": "markdown",
      "source": [
        "**Explanation**\n",
        "\n",
        "1. **Defining the Decorator**: The `timer` function takes a function `func` as an argument and defines a nested function `wrapper`. This `wrapper` function will enhance the original function's behavior.\n",
        "\n",
        "2. **Measuring Execution Time**: Inside the `wrapper`, we record the start time, call the original function, and then record the end time. We calculate the duration, print it out, as well as return whatever the original function returns.\n",
        "\n",
        "> 💡 Essentially, a decorator is a wrapper function around other functions\n",
        "\n",
        "<br>\n",
        "\n",
        "Now, we can use our `timer` decorator to measure the execution time of other functions. We have two ways to apply it:\n",
        "\n",
        "1. **Directly Passing the Function**: We can pass a function into `timer` when calling it, like so:\n"
      ],
      "metadata": {
        "id": "LgU2mGRdLU_7"
      }
    },
    {
      "cell_type": "code",
      "source": [
        "def send_multiple_requests(lst: list[str]):\n",
        "  from urllib.request import urlopen\n",
        "  for url in lst:\n",
        "    urlopen(url)\n",
        "    print(f\"Opening: {url}\")\n",
        "\n",
        "timer(send_multiple_requests)([\"https://www.google.com\", \"https://www.bing.com\", \"https://example.com/\"])"
      ],
      "metadata": {
        "colab": {
          "base_uri": "https://localhost:8080/"
        },
        "id": "zYdWjh9oL6sh",
        "outputId": "2b9c9fb2-f98d-4957-ded9-ab73a0264baf"
      },
      "execution_count": null,
      "outputs": [
        {
          "output_type": "stream",
          "name": "stdout",
          "text": [
            "Opening: https://www.google.com\n",
            "Opening: https://www.bing.com\n",
            "Opening: https://example.com/\n",
            "Function 'send_multiple_requests' executed in: 0.3869 seconds\n"
          ]
        }
      ]
    },
    {
      "cell_type": "markdown",
      "source": [
        "2. **Using `@timer` Syntax**: Alternatively, we can add `@timer` directly above the function definition. This automatically applies the `timer` decorator every time we call `send_multiple_requests`:\n"
      ],
      "metadata": {
        "id": "crNxj8NsNC3e"
      }
    },
    {
      "cell_type": "code",
      "source": [
        "@timer\n",
        "def send_multiple_requests(lst: list[str]):\n",
        "  from urllib.request import urlopen\n",
        "  for url in lst:\n",
        "    urlopen(url)\n",
        "    print(f\"Opening: {url}\")\n",
        "\n",
        "send_multiple_requests([\n",
        "    \"https://www.google.com\",\n",
        "    \"https://www.bing.com\",\n",
        "    \"https://example.com/\"\n",
        "])"
      ],
      "metadata": {
        "colab": {
          "base_uri": "https://localhost:8080/"
        },
        "id": "kNCwCroQNSUk",
        "outputId": "f292ad7b-27b3-42a6-f8f4-173a9f7f16ab"
      },
      "execution_count": null,
      "outputs": [
        {
          "output_type": "stream",
          "name": "stdout",
          "text": [
            "Opening: https://www.google.com\n",
            "Opening: https://www.bing.com\n",
            "Opening: https://example.com/\n",
            "Function 'send_multiple_requests' executed in: 0.2530 seconds\n"
          ]
        }
      ]
    },
    {
      "cell_type": "markdown",
      "source": [
        "Using the `@timer` syntax makes it simple to add or remove the decorator as needed, keeping the function clean and readable while still benefiting from the timing functionality.\n"
      ],
      "metadata": {
        "id": "EkfHERhFOGC0"
      }
    },
    {
      "cell_type": "markdown",
      "source": [
        "### **Example 2: Function Argument Type Validator**\n",
        "\n",
        "In this example, we'll create a decorator that validates argument types. This decorator will accept a flexible number of argument type specifications and check if the provided arguments match the expected types. This allows us to enforce type safety without needing to add multiple checks inside the function.\n",
        "\n",
        "<br>\n",
        "\n",
        "**Explanation**\n",
        "\n",
        "1. **Decorator Definition**: The `validate_args` decorator takes keyword arguments, where each argument's name corresponds to the function's parameter name, and the value is the expected data type for that parameter.\n",
        "\n",
        "2. **Creating the Wrapper**: Inside the `decorator` function, we define the `wrapper` function that validates each positional and keyword argument against the provided `arg_types`.\n",
        "\n",
        "3. **Validating Arguments**:\n",
        "  - For positional arguments, we use `zip` to match each argument with its corresponding type in `arg_types.values()`.\n",
        "  - For keyword arguments, we check if each argument's name is in `arg_types` and validate its type.\n"
      ],
      "metadata": {
        "id": "P-gvv1GOOTLh"
      }
    },
    {
      "cell_type": "code",
      "source": [
        "def validate_args(**arg_types: type):\n",
        "  def decorator(func: Callable) -> Callable:\n",
        "    def wrapper(*args, **kwargs):\n",
        "      # Check positional arguments\n",
        "      for arg, arg_type in zip(args, arg_types.values()):\n",
        "        if not isinstance(arg, arg_type):\n",
        "          raise TypeError(f\"Expected argument '{arg}' of type {arg_type}, got {type(arg)}\")\n",
        "\n",
        "      # Check keyword argumemts\n",
        "      for k, v in kwargs.items():\n",
        "        if k in arg_types and not isinstance(v, arg_types[k]):\n",
        "          raise TypeError(f\"Expected argument '{k}' of type {arg_types[k]}, got {type(v)}\")\n",
        "      return func(*args, **kwargs)\n",
        "    return wrapper\n",
        "  return decorator"
      ],
      "metadata": {
        "id": "c1911ta8GcEy"
      },
      "execution_count": null,
      "outputs": []
    },
    {
      "cell_type": "code",
      "source": [
        "@validate_args(a=int, b=int)\n",
        "def add_two_numbers(a: int, b: int) -> int:\n",
        "  return a + b\n",
        "\n",
        "# Correct usage\n",
        "add_two_numbers(1, 2)\n",
        "\n",
        "# Incorrect usage\n",
        "add_two_numbers(\"a\", \"b\")"
      ],
      "metadata": {
        "colab": {
          "base_uri": "https://localhost:8080/",
          "height": 297
        },
        "id": "DKWiaU0lqEQh",
        "outputId": "3e6f43e0-9d0f-42b9-f3c6-86af01e77fc4"
      },
      "execution_count": null,
      "outputs": [
        {
          "output_type": "error",
          "ename": "TypeError",
          "evalue": "Expected argument 'a' of type <class 'int'>, got <class 'str'>",
          "traceback": [
            "\u001b[0;31m---------------------------------------------------------------------------\u001b[0m",
            "\u001b[0;31mTypeError\u001b[0m                                 Traceback (most recent call last)",
            "\u001b[0;32m<ipython-input-10-376de2579e86>\u001b[0m in \u001b[0;36m<cell line: 9>\u001b[0;34m()\u001b[0m\n\u001b[1;32m      7\u001b[0m \u001b[0;34m\u001b[0m\u001b[0m\n\u001b[1;32m      8\u001b[0m \u001b[0;31m# Incorrect usage\u001b[0m\u001b[0;34m\u001b[0m\u001b[0;34m\u001b[0m\u001b[0m\n\u001b[0;32m----> 9\u001b[0;31m \u001b[0madd_two_numbers\u001b[0m\u001b[0;34m(\u001b[0m\u001b[0;34m\"a\"\u001b[0m\u001b[0;34m,\u001b[0m \u001b[0;34m\"b\"\u001b[0m\u001b[0;34m)\u001b[0m\u001b[0;34m\u001b[0m\u001b[0;34m\u001b[0m\u001b[0m\n\u001b[0m",
            "\u001b[0;32m<ipython-input-2-a869b46b35e8>\u001b[0m in \u001b[0;36mwrapper\u001b[0;34m(*args, **kwargs)\u001b[0m\n\u001b[1;32m      4\u001b[0m       \u001b[0;32mfor\u001b[0m \u001b[0marg\u001b[0m\u001b[0;34m,\u001b[0m \u001b[0marg_type\u001b[0m \u001b[0;32min\u001b[0m \u001b[0mzip\u001b[0m\u001b[0;34m(\u001b[0m\u001b[0margs\u001b[0m\u001b[0;34m,\u001b[0m \u001b[0marg_types\u001b[0m\u001b[0;34m.\u001b[0m\u001b[0mvalues\u001b[0m\u001b[0;34m(\u001b[0m\u001b[0;34m)\u001b[0m\u001b[0;34m)\u001b[0m\u001b[0;34m:\u001b[0m\u001b[0;34m\u001b[0m\u001b[0;34m\u001b[0m\u001b[0m\n\u001b[1;32m      5\u001b[0m         \u001b[0;32mif\u001b[0m \u001b[0;32mnot\u001b[0m \u001b[0misinstance\u001b[0m\u001b[0;34m(\u001b[0m\u001b[0marg\u001b[0m\u001b[0;34m,\u001b[0m \u001b[0marg_type\u001b[0m\u001b[0;34m)\u001b[0m\u001b[0;34m:\u001b[0m\u001b[0;34m\u001b[0m\u001b[0;34m\u001b[0m\u001b[0m\n\u001b[0;32m----> 6\u001b[0;31m           \u001b[0;32mraise\u001b[0m \u001b[0mTypeError\u001b[0m\u001b[0;34m(\u001b[0m\u001b[0;34mf\"Expected argument '{arg}' of type {arg_type}, got {type(arg)}\"\u001b[0m\u001b[0;34m)\u001b[0m\u001b[0;34m\u001b[0m\u001b[0;34m\u001b[0m\u001b[0m\n\u001b[0m\u001b[1;32m      7\u001b[0m \u001b[0;34m\u001b[0m\u001b[0m\n\u001b[1;32m      8\u001b[0m       \u001b[0;32mfor\u001b[0m \u001b[0mk\u001b[0m\u001b[0;34m,\u001b[0m \u001b[0mv\u001b[0m \u001b[0;32min\u001b[0m \u001b[0mkwargs\u001b[0m\u001b[0;34m.\u001b[0m\u001b[0mitems\u001b[0m\u001b[0;34m(\u001b[0m\u001b[0;34m)\u001b[0m\u001b[0;34m:\u001b[0m\u001b[0;34m\u001b[0m\u001b[0;34m\u001b[0m\u001b[0m\n",
            "\u001b[0;31mTypeError\u001b[0m: Expected argument 'a' of type <class 'int'>, got <class 'str'>"
          ]
        }
      ]
    },
    {
      "cell_type": "code",
      "source": [
        "@validate_args(name=str, greeting=str)\n",
        "def greet(name: str, greeting: str = \"Hello\") -> str:\n",
        "  return f\"{greeting}, {name}!\"\n",
        "\n",
        "# Correct usage\n",
        "greet(\"Timmy\")\n",
        "greet(\"Timmy\", \"G'day\")\n",
        "\n",
        "# Incorrect usage\n",
        "greet(1, \"G'day\")"
      ],
      "metadata": {
        "colab": {
          "base_uri": "https://localhost:8080/",
          "height": 297
        },
        "id": "5aAXO9H9q2eh",
        "outputId": "8369d787-3699-403d-9954-89bbac4161e5"
      },
      "execution_count": null,
      "outputs": [
        {
          "output_type": "error",
          "ename": "TypeError",
          "evalue": "Expected argument '1' of type <class 'str'>, got <class 'int'>",
          "traceback": [
            "\u001b[0;31m---------------------------------------------------------------------------\u001b[0m",
            "\u001b[0;31mTypeError\u001b[0m                                 Traceback (most recent call last)",
            "\u001b[0;32m<ipython-input-9-b14c00a2320d>\u001b[0m in \u001b[0;36m<cell line: 10>\u001b[0;34m()\u001b[0m\n\u001b[1;32m      8\u001b[0m \u001b[0;34m\u001b[0m\u001b[0m\n\u001b[1;32m      9\u001b[0m \u001b[0;31m# Incorrect usage\u001b[0m\u001b[0;34m\u001b[0m\u001b[0;34m\u001b[0m\u001b[0m\n\u001b[0;32m---> 10\u001b[0;31m \u001b[0mgreet\u001b[0m\u001b[0;34m(\u001b[0m\u001b[0;36m1\u001b[0m\u001b[0;34m,\u001b[0m \u001b[0;34m\"G'day\"\u001b[0m\u001b[0;34m)\u001b[0m\u001b[0;34m\u001b[0m\u001b[0;34m\u001b[0m\u001b[0m\n\u001b[0m",
            "\u001b[0;32m<ipython-input-2-a869b46b35e8>\u001b[0m in \u001b[0;36mwrapper\u001b[0;34m(*args, **kwargs)\u001b[0m\n\u001b[1;32m      4\u001b[0m       \u001b[0;32mfor\u001b[0m \u001b[0marg\u001b[0m\u001b[0;34m,\u001b[0m \u001b[0marg_type\u001b[0m \u001b[0;32min\u001b[0m \u001b[0mzip\u001b[0m\u001b[0;34m(\u001b[0m\u001b[0margs\u001b[0m\u001b[0;34m,\u001b[0m \u001b[0marg_types\u001b[0m\u001b[0;34m.\u001b[0m\u001b[0mvalues\u001b[0m\u001b[0;34m(\u001b[0m\u001b[0;34m)\u001b[0m\u001b[0;34m)\u001b[0m\u001b[0;34m:\u001b[0m\u001b[0;34m\u001b[0m\u001b[0;34m\u001b[0m\u001b[0m\n\u001b[1;32m      5\u001b[0m         \u001b[0;32mif\u001b[0m \u001b[0;32mnot\u001b[0m \u001b[0misinstance\u001b[0m\u001b[0;34m(\u001b[0m\u001b[0marg\u001b[0m\u001b[0;34m,\u001b[0m \u001b[0marg_type\u001b[0m\u001b[0;34m)\u001b[0m\u001b[0;34m:\u001b[0m\u001b[0;34m\u001b[0m\u001b[0;34m\u001b[0m\u001b[0m\n\u001b[0;32m----> 6\u001b[0;31m           \u001b[0;32mraise\u001b[0m \u001b[0mTypeError\u001b[0m\u001b[0;34m(\u001b[0m\u001b[0;34mf\"Expected argument '{arg}' of type {arg_type}, got {type(arg)}\"\u001b[0m\u001b[0;34m)\u001b[0m\u001b[0;34m\u001b[0m\u001b[0;34m\u001b[0m\u001b[0m\n\u001b[0m\u001b[1;32m      7\u001b[0m \u001b[0;34m\u001b[0m\u001b[0m\n\u001b[1;32m      8\u001b[0m       \u001b[0;32mfor\u001b[0m \u001b[0mk\u001b[0m\u001b[0;34m,\u001b[0m \u001b[0mv\u001b[0m \u001b[0;32min\u001b[0m \u001b[0mkwargs\u001b[0m\u001b[0;34m.\u001b[0m\u001b[0mitems\u001b[0m\u001b[0;34m(\u001b[0m\u001b[0;34m)\u001b[0m\u001b[0;34m:\u001b[0m\u001b[0;34m\u001b[0m\u001b[0;34m\u001b[0m\u001b[0m\n",
            "\u001b[0;31mTypeError\u001b[0m: Expected argument '1' of type <class 'str'>, got <class 'int'>"
          ]
        }
      ]
    },
    {
      "cell_type": "code",
      "source": [
        "@validate_args(name=str, age=int)\n",
        "def introduce(name: str, age: int):\n",
        "  print(f\"My name is {name} and I am {age} years old.\")\n",
        "\n",
        "# Correct usage\n",
        "introduce(name=\"Alice\", age=30)  # Output: My name is Alice and I am 30 years old.\n",
        "\n",
        "# Incorrect usage\n",
        "introduce(name=\"Alice\", age=\"thirty\")"
      ],
      "metadata": {
        "colab": {
          "base_uri": "https://localhost:8080/",
          "height": 315
        },
        "id": "zFLNqtpLrukK",
        "outputId": "de82ad0b-eab8-42ad-af81-4e6276913d62"
      },
      "execution_count": null,
      "outputs": [
        {
          "output_type": "stream",
          "name": "stdout",
          "text": [
            "My name is Alice and I am 30 years old.\n"
          ]
        },
        {
          "output_type": "error",
          "ename": "TypeError",
          "evalue": "Expected argument 'age' of type <class 'int'>, got <class 'str'>",
          "traceback": [
            "\u001b[0;31m---------------------------------------------------------------------------\u001b[0m",
            "\u001b[0;31mTypeError\u001b[0m                                 Traceback (most recent call last)",
            "\u001b[0;32m<ipython-input-8-686bdb502f76>\u001b[0m in \u001b[0;36m<cell line: 9>\u001b[0;34m()\u001b[0m\n\u001b[1;32m      7\u001b[0m \u001b[0;34m\u001b[0m\u001b[0m\n\u001b[1;32m      8\u001b[0m \u001b[0;31m# Incorrect usage\u001b[0m\u001b[0;34m\u001b[0m\u001b[0;34m\u001b[0m\u001b[0m\n\u001b[0;32m----> 9\u001b[0;31m \u001b[0mintroduce\u001b[0m\u001b[0;34m(\u001b[0m\u001b[0mname\u001b[0m\u001b[0;34m=\u001b[0m\u001b[0;34m\"Alice\"\u001b[0m\u001b[0;34m,\u001b[0m \u001b[0mage\u001b[0m\u001b[0;34m=\u001b[0m\u001b[0;34m\"thirty\"\u001b[0m\u001b[0;34m)\u001b[0m\u001b[0;34m\u001b[0m\u001b[0;34m\u001b[0m\u001b[0m\n\u001b[0m",
            "\u001b[0;32m<ipython-input-2-a869b46b35e8>\u001b[0m in \u001b[0;36mwrapper\u001b[0;34m(*args, **kwargs)\u001b[0m\n\u001b[1;32m      8\u001b[0m       \u001b[0;32mfor\u001b[0m \u001b[0mk\u001b[0m\u001b[0;34m,\u001b[0m \u001b[0mv\u001b[0m \u001b[0;32min\u001b[0m \u001b[0mkwargs\u001b[0m\u001b[0;34m.\u001b[0m\u001b[0mitems\u001b[0m\u001b[0;34m(\u001b[0m\u001b[0;34m)\u001b[0m\u001b[0;34m:\u001b[0m\u001b[0;34m\u001b[0m\u001b[0;34m\u001b[0m\u001b[0m\n\u001b[1;32m      9\u001b[0m         \u001b[0;32mif\u001b[0m \u001b[0mk\u001b[0m \u001b[0;32min\u001b[0m \u001b[0marg_types\u001b[0m \u001b[0;32mand\u001b[0m \u001b[0;32mnot\u001b[0m \u001b[0misinstance\u001b[0m\u001b[0;34m(\u001b[0m\u001b[0mv\u001b[0m\u001b[0;34m,\u001b[0m \u001b[0marg_types\u001b[0m\u001b[0;34m[\u001b[0m\u001b[0mk\u001b[0m\u001b[0;34m]\u001b[0m\u001b[0;34m)\u001b[0m\u001b[0;34m:\u001b[0m\u001b[0;34m\u001b[0m\u001b[0;34m\u001b[0m\u001b[0m\n\u001b[0;32m---> 10\u001b[0;31m           \u001b[0;32mraise\u001b[0m \u001b[0mTypeError\u001b[0m\u001b[0;34m(\u001b[0m\u001b[0;34mf\"Expected argument '{k}' of type {arg_types[k]}, got {type(v)}\"\u001b[0m\u001b[0;34m)\u001b[0m\u001b[0;34m\u001b[0m\u001b[0;34m\u001b[0m\u001b[0m\n\u001b[0m\u001b[1;32m     11\u001b[0m       \u001b[0;32mreturn\u001b[0m \u001b[0mfunc\u001b[0m\u001b[0;34m(\u001b[0m\u001b[0;34m*\u001b[0m\u001b[0margs\u001b[0m\u001b[0;34m,\u001b[0m \u001b[0;34m**\u001b[0m\u001b[0mkwargs\u001b[0m\u001b[0;34m)\u001b[0m\u001b[0;34m\u001b[0m\u001b[0;34m\u001b[0m\u001b[0m\n\u001b[1;32m     12\u001b[0m     \u001b[0;32mreturn\u001b[0m \u001b[0mwrapper\u001b[0m\u001b[0;34m\u001b[0m\u001b[0;34m\u001b[0m\u001b[0m\n",
            "\u001b[0;31mTypeError\u001b[0m: Expected argument 'age' of type <class 'int'>, got <class 'str'>"
          ]
        }
      ]
    },
    {
      "cell_type": "markdown",
      "source": [
        "### **Common Decorators**\n",
        "\n",
        "Now let's take a look at some commonly used decorators in Python.\n",
        "\n",
        "- `@property`\n",
        "- `@dataclass`\n",
        "- `@functools.lru_cache`\n"
      ],
      "metadata": {
        "id": "P3Aj9Hiisdwx"
      }
    },
    {
      "cell_type": "markdown",
      "source": [
        "#### **`@property`**\n",
        "\n",
        "This turns a method into a \"getter\" property.\n"
      ],
      "metadata": {
        "id": "Ou6sTE13uGqd"
      }
    },
    {
      "cell_type": "code",
      "source": [
        "class Person:\n",
        "  def __init__(self, name: str, age: int) -> None:\n",
        "    self._name = name\n",
        "    self._age = age\n",
        "\n",
        "  @property\n",
        "  def name(self) -> str:\n",
        "    return self._name\n",
        "\n",
        "  @name.setter\n",
        "  def name(self, name: str) -> None:\n",
        "    self._name = name\n",
        "\n",
        "  @property\n",
        "  def age(self) -> int:\n",
        "    return self._age\n",
        "\n",
        "  @age.setter\n",
        "  def age(self, age: int) -> None:\n",
        "    self._age = age\n",
        "\n",
        "\n",
        "# Example\n",
        "person = Person(\"Timmy\", 25)\n",
        "\n",
        "# Use property getter to get properties\n",
        "print(\"Old Properties:\")\n",
        "print(person.name)\n",
        "print(person.age)\n",
        "\n",
        "# Use property setter to set properties\n",
        "person.name = \"Jason\"\n",
        "person.age = 32\n",
        "\n",
        "# Properties changed\n",
        "print(\"---\")\n",
        "print(\"New Properties:\")\n",
        "print(person.name)\n",
        "print(person.age)"
      ],
      "metadata": {
        "colab": {
          "base_uri": "https://localhost:8080/"
        },
        "id": "Uy_QzG5VuQS8",
        "outputId": "4e30604c-db5d-412d-eb4c-41d39da93f76"
      },
      "execution_count": null,
      "outputs": [
        {
          "output_type": "stream",
          "name": "stdout",
          "text": [
            "Old Properties:\n",
            "Timmy\n",
            "25\n",
            "---\n",
            "New Properties:\n",
            "Jason\n",
            "32\n"
          ]
        }
      ]
    },
    {
      "cell_type": "markdown",
      "source": [
        "#### **`@dataclass`**\n",
        "\n",
        "Automatically adds generated special methods:\n",
        "- `__init__`\n",
        "- `__repr__`\n",
        "- `__eq__`\n",
        "- ...etc.\n"
      ],
      "metadata": {
        "id": "j9SIJm6Uveqn"
      }
    },
    {
      "cell_type": "code",
      "source": [
        "from dataclasses import dataclass\n",
        "\n",
        "@dataclass\n",
        "class Point:\n",
        "  x: float\n",
        "  y: float\n",
        "\n",
        "# Create a Point object\n",
        "p1 = Point(1.0, 2.0)\n",
        "p2 = Point(3.2, 4.0)\n",
        "p3 = Point(1.0, 2.0)\n",
        "print(p1)\n",
        "print(p1 == p3)\n",
        "print(p1 == p2)"
      ],
      "metadata": {
        "colab": {
          "base_uri": "https://localhost:8080/"
        },
        "id": "AcS17oBAvt4F",
        "outputId": "72c94107-fb51-4cd0-842f-4a2f1d66857e"
      },
      "execution_count": null,
      "outputs": [
        {
          "output_type": "stream",
          "name": "stdout",
          "text": [
            "Point(x=1.0, y=2.0)\n",
            "True\n",
            "False\n"
          ]
        }
      ]
    },
    {
      "cell_type": "markdown",
      "source": [
        "The class created above is the exact same as the one created in the cell bellow, with a lot less boilerplate code:\n"
      ],
      "metadata": {
        "id": "65CzrJpRxG63"
      }
    },
    {
      "cell_type": "code",
      "source": [
        "class Point:\n",
        "  x: float\n",
        "  y: float\n",
        "\n",
        "  def __init__(self, x: float, y: float):\n",
        "    self.x = x\n",
        "    self.y = y\n",
        "\n",
        "  def __repr__(self) -> str:\n",
        "    return f\"Point(x={self.x}, y={self.y})\"\n",
        "\n",
        "  def __eq__(self, other: object) -> bool:\n",
        "    if not isinstance(other, Point):\n",
        "      return False\n",
        "    return self.x == other.x and self.y == other.y\n",
        "\n",
        "\n",
        "# Create a Point object\n",
        "p1 = Point(1.0, 2.0)\n",
        "p2 = Point(3.2, 4.0)\n",
        "p3 = Point(1.0, 2.0)\n",
        "print(p1)\n",
        "print(p1 == p3)\n",
        "print(p1 == p2)"
      ],
      "metadata": {
        "colab": {
          "base_uri": "https://localhost:8080/"
        },
        "id": "aNEKq7NbxOsU",
        "outputId": "2395cf83-da2a-4585-da67-cf49b358a464"
      },
      "execution_count": null,
      "outputs": [
        {
          "output_type": "stream",
          "name": "stdout",
          "text": [
            "Point(x=1.0, y=2.0)\n",
            "True\n",
            "False\n"
          ]
        }
      ]
    },
    {
      "cell_type": "markdown",
      "source": [
        "#### **`@functools.lru_cache`**\n",
        "\n",
        "Caches (stores) function results based on arguments:\n",
        "\n",
        "> 📒 **Note:** You can use more than one decorator at a time\n"
      ],
      "metadata": {
        "id": "nSsv5MMvx6Uv"
      }
    },
    {
      "cell_type": "code",
      "source": [
        "from functools import lru_cache\n",
        "import random\n",
        "\n",
        "\n",
        "# Simulate expensive database/API call\n",
        "def fetch_user_data(user_id):\n",
        "  time.sleep(2)  # Simulate network delay\n",
        "  return {\n",
        "      'id': user_id,\n",
        "      'name': f'User_{user_id}',\n",
        "      'score': random.randint(1, 100)\n",
        "  }\n",
        "\n",
        "# Without caching - slow every time\n",
        "def get_user_score(user_id):\n",
        "  data = fetch_user_data(user_id)\n",
        "  return data['score']\n",
        "\n",
        "# With caching - only slow the first time\n",
        "@lru_cache(maxsize=128)\n",
        "def get_user_score_cached(user_id):\n",
        "  data = fetch_user_data(user_id)\n",
        "  return data['score']"
      ],
      "metadata": {
        "id": "jl4gpyQeyKPR"
      },
      "execution_count": null,
      "outputs": []
    },
    {
      "cell_type": "code",
      "source": [
        "# Compare the difference\n",
        "print(\"First calls:\")\n",
        "\n",
        "start = time.perf_counter()\n",
        "score1 = get_user_score(123)\n",
        "print(f\"Without cache: {score1} (took {time.perf_counter() - start:.2f}s)\")\n",
        "\n",
        "start = time.perf_counter()\n",
        "score2 = get_user_score_cached(123)\n",
        "print(f\"With cache: {score2} (took {time.perf_counter() - start:.2f}s)\")\n",
        "\n",
        "print(\"\\nSecond calls:\")\n",
        "\n",
        "# Second calls - cached version will be instant\n",
        "start = time.perf_counter()\n",
        "score1 = get_user_score(123)\n",
        "print(f\"Without cache: {score1} (took {time.perf_counter() - start:.2f}s)\")\n",
        "\n",
        "start = time.perf_counter()\n",
        "score2 = get_user_score_cached(123)\n",
        "print(f\"With cache: {score2} (took {time.perf_counter() - start:.2f}s)\")\n",
        "\n",
        "# Cache info\n",
        "print(\"\\nCache info:\", get_user_score_cached.cache_info())"
      ],
      "metadata": {
        "colab": {
          "base_uri": "https://localhost:8080/"
        },
        "id": "1JScwodizinr",
        "outputId": "6a697972-eff4-4c07-ebe1-ef5862214070"
      },
      "execution_count": null,
      "outputs": [
        {
          "output_type": "stream",
          "name": "stdout",
          "text": [
            "First calls:\n",
            "Without cache: 7 (took 2.00s)\n",
            "With cache: 82 (took 0.00s)\n",
            "\n",
            "Second calls:\n",
            "Without cache: 94 (took 2.00s)\n",
            "With cache: 82 (took 0.00s)\n",
            "\n",
            "Cache info: CacheInfo(hits=5, misses=1, maxsize=128, currsize=1)\n"
          ]
        }
      ]
    },
    {
      "cell_type": "markdown",
      "source": [
        "You can see that cached functions consistently return the same result when given the same arguments, as the result is stored from previous calls. This caching mechanism speeds up execution by avoiding repeated calculations for identical inputs.\n"
      ],
      "metadata": {
        "id": "dK2blPdb24DQ"
      }
    },
    {
      "cell_type": "markdown",
      "source": [
        "## **Recursions**\n",
        "\n",
        "Recursion is a programming technique where a function calls itself to solve a problem. Each recursive call breaks down the problem into smaller sub-problems until it reaches a base case, which stops the recursion.\n",
        "\n",
        "Recursion is particularly useful for tasks like traversing data structures, solving mathematical problems (like factorial or Fibonacci sequences), and working with problems that can naturally be divided into smaller instances of the same problem.\n"
      ],
      "metadata": {
        "id": "nQ18LxcjJH90"
      }
    },
    {
      "cell_type": "markdown",
      "source": [
        "**How Recursion Works**\n",
        "\n",
        "In a recursive function, two key components are essential:\n",
        "\n",
        "1. **Base Case**: The condition that stops further recursive calls. Without a base case, the function would continue calling itself indefinitely, leading to a stack overflow.\n",
        "   \n",
        "2. **Recursive Case**: The part of the function where it calls itself with modified arguments, moving towards the base case.\n"
      ],
      "metadata": {
        "id": "0gkSXXXs4b24"
      }
    },
    {
      "cell_type": "markdown",
      "source": [
        "### **Example 1: Calculating Factorials**\n",
        "\n",
        "Let's look at an example to understand recursion better. Here's a simple recursive function to calculate the factorial of a number:\n",
        "\n",
        "<br>\n",
        "\n",
        "**Explanation**\n",
        "\n",
        "1. **Base Case**: When `n` is 0, the function returns 1, ending the recursion.\n",
        "2. **Recursive Case**: For any `n > 0`, the function calls itself with `n - 1`, multiplying `n` by the result of the recursive call.\n",
        "\n",
        "Each recursive call reduces `n` by 1, eventually reaching the base case, where the recursion stops.\n"
      ],
      "metadata": {
        "id": "1ScsJbqD4knk"
      }
    },
    {
      "cell_type": "code",
      "source": [
        "def factorial(n: int) -> int:\n",
        "  if n <= 0:\n",
        "    return 1\n",
        "  return n * factorial(n - 1)"
      ],
      "metadata": {
        "id": "QIy47vUU3_TH"
      },
      "execution_count": null,
      "outputs": []
    },
    {
      "cell_type": "code",
      "source": [
        "print(factorial(3))\n",
        "print(factorial(4))\n",
        "print(factorial(5))"
      ],
      "metadata": {
        "colab": {
          "base_uri": "https://localhost:8080/"
        },
        "id": "PPL_WeKREvuq",
        "outputId": "1c8728be-145c-48f6-ef16-3738ef95e981"
      },
      "execution_count": null,
      "outputs": [
        {
          "output_type": "stream",
          "name": "stdout",
          "text": [
            "6\n",
            "24\n",
            "120\n"
          ]
        }
      ]
    },
    {
      "cell_type": "markdown",
      "source": [
        "### **Example 2: Sum of a List of Numbers**\n",
        "\n",
        "This example demonstrates a recursive function to calculate the sum of numbers in a list. It can handle both integers and floats, and even single numbers if a non-list value is provided.\n",
        "\n",
        "<br>\n",
        "\n",
        "**Explanation**\n",
        "\n",
        "1. **Base Case**:\n",
        "  - If `lst` is an empty list (`[]`), the function returns 0. This stops the recursion when there are no more elements to add.\n",
        "   \n",
        "2. **Single Number Check**:\n",
        "  - If `lst` is not a list (e.g., a single integer or float), the function simply returns that value. This ensures that the function can handle both lists and individual numbers.\n",
        "\n",
        "3. **Recursive Case**:\n",
        "  - If `lst` is a list with elements, the function calculates the sum of the first element (`lst[0]`) plus the sum of the rest of the list (`lst[1:]`). This recursive call breaks down the list until it reaches the base case or a single number.\n",
        "\n",
        "Each recursive call processes one element from `lst`, eventually summing up all values to produce the total.\n"
      ],
      "metadata": {
        "id": "A9DBEdbu732C"
      }
    },
    {
      "cell_type": "code",
      "source": [
        "def list_sum(lst: list[int | float] | int | float) -> int | float:\n",
        "  if not lst:\n",
        "    return 0\n",
        "  if not isinstance(lst, list):\n",
        "    return lst\n",
        "\n",
        "  return list_sum(lst[0]) + list_sum(lst[1:])"
      ],
      "metadata": {
        "id": "pd4xwrjA8DcD"
      },
      "execution_count": null,
      "outputs": []
    },
    {
      "cell_type": "code",
      "source": [
        "print(list_sum([1, 2, 3, 4, 5]))\n",
        "print(list_sum([3.2, 1.5, 0.8]))"
      ],
      "metadata": {
        "colab": {
          "base_uri": "https://localhost:8080/"
        },
        "id": "otZ8JUZQEsWp",
        "outputId": "15be27ec-e5a2-4311-ac60-f36bf41cc461"
      },
      "execution_count": null,
      "outputs": [
        {
          "output_type": "stream",
          "name": "stdout",
          "text": [
            "15\n",
            "5.5\n"
          ]
        }
      ]
    },
    {
      "cell_type": "markdown",
      "source": [
        "### **Example 3: Flattening Nested Lists**\n",
        "\n",
        "Recursion is especially useful when working with nested structures, like lists within lists. Here's a simple recursive function that \"flattens\" a nested list into a single list of elements:\n",
        "\n",
        "<br>\n",
        "\n",
        "**Explanation**\n",
        "\n",
        "1. **Base Case**: If the list `lst` is empty (`[]`), the function simply returns an empty list. This stops the recursion when there are no more elements to process.\n",
        "\n",
        "2. **Recursive Case**:\n",
        "  - If the first element in `lst` is a list, the function calls itself on this element (`flatten_list(lst[0])`) to flatten it further. It then combines this result with the recursive call to `flatten_list(lst[1:])`, which processes the rest of the list.\n",
        "  - If the first element is not a list, it's added to the flattened result by returning `[lst[0]] + flatten_list(lst[1:])`.\n"
      ],
      "metadata": {
        "id": "uru8Zsqz4saw"
      }
    },
    {
      "cell_type": "code",
      "source": [
        "from typing import Any\n",
        "\n",
        "def flatten_list(lst: list[list | Any]) -> list[Any]:\n",
        "  if not lst:\n",
        "    return []\n",
        "\n",
        "  if isinstance(lst[0], list):\n",
        "    return flatten_list(lst[0]) + flatten_list(lst[1:])\n",
        "  else:\n",
        "    return [lst[0]] + flatten_list(lst[1:])"
      ],
      "metadata": {
        "id": "IihtMO3E4sJI"
      },
      "execution_count": null,
      "outputs": []
    },
    {
      "cell_type": "code",
      "source": [
        "l1 = [1, 2, [3, 4, [5, 6]], 7, [8, 9]]\n",
        "print(flatten_list(l1))\n",
        "\n",
        "l2 = [\"a\", [\"b\", [\"c\", \"d\"], \"e\"], [\"f\", \"g\"], \"h\"]\n",
        "print(flatten_list(l2))"
      ],
      "metadata": {
        "colab": {
          "base_uri": "https://localhost:8080/"
        },
        "id": "pOXG29VC6NDA",
        "outputId": "b4978b5d-a682-4495-b382-21825063fc24"
      },
      "execution_count": null,
      "outputs": [
        {
          "output_type": "stream",
          "name": "stdout",
          "text": [
            "[1, 2, 3, 4, 5, 6, 7, 8, 9]\n",
            "['a', 'b', 'c', 'd', 'e', 'f', 'g', 'h']\n"
          ]
        }
      ]
    },
    {
      "cell_type": "markdown",
      "source": [
        "### **Example 4: Count Total Files in Directory**\n",
        "\n",
        "This example demonstrates a recursive function to count the total number of files within a directory, including those in any subdirectories. The function uses recursion to dive into each subdirectory, adding up the files found.\n",
        "\n",
        "<br>\n",
        "\n",
        "**Explanation**\n",
        "\n",
        "1. **Initialize Total Count**:\n",
        "  - `total` is set to 0 and will hold the count of files found in the directory and its subdirectories.\n",
        "\n",
        "2. **Directory Iteration**:\n",
        "  - The function iterates over each item in the directory specified by `dir`.\n",
        "   \n",
        "3. **File Check**:\n",
        "  - If an item is a file, the count (`total`) is incremented by 1.\n",
        "   \n",
        "4. **Recursive Call for Subdirectories**:\n",
        "  - If an item is a subdirectory, the function calls itself on that subdirectory (`count_files(path)`). This recursive call dives deeper, adding the count of files within each subdirectory to the total.\n",
        "\n",
        "The recursion continues until all subdirectories have been explored, allowing us to count every file in a directory.\n"
      ],
      "metadata": {
        "id": "VA8tlxuU_5iv"
      }
    },
    {
      "cell_type": "code",
      "source": [
        "import os\n",
        "\n",
        "def count_files(dir: str) -> int:\n",
        "  total = 0\n",
        "  for item in os.listdir(dir):\n",
        "    path = os.path.join(dir, item)\n",
        "    if os.path.isfile(path):\n",
        "      total += 1\n",
        "    elif os.path.isdir(path):\n",
        "      total += count_files(path)\n",
        "  return total"
      ],
      "metadata": {
        "id": "qHnfrexG_-dF"
      },
      "execution_count": null,
      "outputs": []
    },
    {
      "cell_type": "code",
      "source": [
        "print(count_files(\"/content/sample_data\"))\n",
        "print(count_files(\"/opt\"))"
      ],
      "metadata": {
        "colab": {
          "base_uri": "https://localhost:8080/"
        },
        "id": "9_ByCUdyEm_P",
        "outputId": "16140b18-b806-4be9-ad82-17621cc2c0f1"
      },
      "execution_count": null,
      "outputs": [
        {
          "output_type": "stream",
          "name": "stdout",
          "text": [
            "6\n",
            "848\n"
          ]
        }
      ]
    },
    {
      "cell_type": "markdown",
      "source": [
        "### **Things to Consider**\n",
        "\n",
        "When using recursion, there are a few important factors to keep in mind to ensure your solution is efficient and reliable:\n",
        "\n",
        "- **Base Case is Crucial**\n",
        "\n",
        "  Every recursive function must have a well-defined base case to stop the recursion. Without it, the function will result in infinite recursion, causing a **stack overflow**.\n",
        "\n",
        "- **Stack Limitations**\n",
        "\n",
        "  Recursive calls consume stack space (memory space), and Python has a default recursion limit (usually 1000). If the recursion depth exceeds this limit, a `RecursionError` will occur.\n",
        "\n",
        "- **Performance Concerns**\n",
        "\n",
        "  Recursion can be inefficient if the same calculations are repeated multiple times. Consider memoization or caching to improve performance for such cases.\n",
        "\n",
        "- **Readable Alternatives**\n",
        "\n",
        "  Some recursive problems can also be solved iteratively. If recursion makes the solution harder to understand or debug, consider using a loop instead.\n",
        "\n",
        "By considering these points, you can write robust and efficient recursive functions while avoiding common pitfalls.\n"
      ],
      "metadata": {
        "id": "-kYOFpylNHWr"
      }
    }
  ]
}