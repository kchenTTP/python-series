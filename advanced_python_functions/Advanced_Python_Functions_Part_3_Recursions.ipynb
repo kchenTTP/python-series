{
  "nbformat": 4,
  "nbformat_minor": 0,
  "metadata": {
    "colab": {
      "provenance": [],
      "toc_visible": true,
      "include_colab_link": true
    },
    "kernelspec": {
      "name": "python3",
      "display_name": "Python 3"
    },
    "language_info": {
      "name": "python"
    }
  },
  "cells": [
    {
      "cell_type": "markdown",
      "metadata": {
        "id": "view-in-github",
        "colab_type": "text"
      },
      "source": [
        "<a href=\"https://colab.research.google.com/github/kchenTTP/python-series/blob/main/advanced_python_functions/Advanced_Python_Functions_Part_3_Recursions.ipynb\" target=\"_parent\"><img src=\"https://colab.research.google.com/assets/colab-badge.svg\" alt=\"Open In Colab\"/></a>"
      ]
    },
    {
      "cell_type": "markdown",
      "source": [
        "# **Advanced Python Functions Part 3: Recursion**\n",
        "\n",
        "In the last two classes, we explored higher-order functions, closures, and decorators. In this final session of the *Advanced Python Functions* series, we'll look at another powerful concept in programming: **recursion**.\n",
        "\n",
        "We'll break down how it works, when to use it, and go through some simple examples to help it all click.\n",
        "\n",
        "## **Table of Contents**\n",
        "\n",
        "- [Recursion](#scrollTo=nQ18LxcjJH90)\n"
      ],
      "metadata": {
        "id": "u77EAJpG99fN"
      }
    },
    {
      "cell_type": "code",
      "source": [
        "# Import the libraries we will use in this class\n",
        "from typing import Callable, Any  # Type hint\n",
        "import os                         # Operating system\n",
        "import time                       # Time"
      ],
      "metadata": {
        "id": "VbT386J1qeex"
      },
      "execution_count": 1,
      "outputs": []
    },
    {
      "cell_type": "markdown",
      "source": [
        "## **Recursions**\n",
        "\n",
        "Recursion is a programming technique where a function calls itself to solve a problem. Each recursive call breaks down the problem into smaller sub-problems until it reaches a **base case**, which stops the recursion.\n",
        "\n",
        "Recursion is particularly useful for tasks like traversing data structures, solving mathematical problems (like factorial or Fibonacci sequences), and working with problems that can naturally be divided into smaller instances of the same problem.\n"
      ],
      "metadata": {
        "id": "nQ18LxcjJH90"
      }
    },
    {
      "cell_type": "markdown",
      "source": [
        "**How Recursion Works**\n",
        "\n",
        "In a recursive function, two key components are essential:\n",
        "\n",
        "1. **Base Case**: The condition that stops further recursive calls. Without a base case, the function would continue calling itself indefinitely, leading to a stack overflow (kind of like running out of memory).\n",
        "   \n",
        "2. **Recursive Case**: The part of the function where it calls itself with modified arguments, moving towards the base case.\n"
      ],
      "metadata": {
        "id": "0gkSXXXs4b24"
      }
    },
    {
      "cell_type": "markdown",
      "source": [
        "### **Example 1: Calculating Factorials**\n",
        "\n",
        "Let's look at an example to understand recursion better. Here's a simple recursive function to calculate the factorial of a number:\n"
      ],
      "metadata": {
        "id": "1ScsJbqD4knk"
      }
    },
    {
      "cell_type": "code",
      "source": [
        "# N Factorial = n * (n - 1) * (n - 2) * ... * 3 * 2 * 1\n",
        "def factorial(n: int) -> int:\n",
        "  if n <= 1:\n",
        "    return 1\n",
        "  return n * factorial(n - 1)"
      ],
      "metadata": {
        "id": "QIy47vUU3_TH"
      },
      "execution_count": 2,
      "outputs": []
    },
    {
      "cell_type": "markdown",
      "source": [
        "**Explanation**\n",
        "\n",
        "1. **Base Case**: When `n` is 0, the function returns 1, ending the recursion.\n",
        "2. **Recursive Case**: For any `n > 0`, the function calls itself with `n - 1`, multiplying `n` by the result of the recursive call.\n",
        "\n",
        "Each recursive call reduces `n` by 1, eventually reaching the base case, where the recursion stops.\n"
      ],
      "metadata": {
        "id": "RYULxbKdcRtX"
      }
    },
    {
      "cell_type": "code",
      "source": [
        "print(factorial(3))\n",
        "print(factorial(4))\n",
        "print(factorial(5))"
      ],
      "metadata": {
        "colab": {
          "base_uri": "https://localhost:8080/"
        },
        "id": "PPL_WeKREvuq",
        "outputId": "9a4a9ab8-d323-4306-9faf-35ca59a6c895"
      },
      "execution_count": 3,
      "outputs": [
        {
          "output_type": "stream",
          "name": "stdout",
          "text": [
            "6\n",
            "24\n",
            "120\n"
          ]
        }
      ]
    },
    {
      "cell_type": "markdown",
      "source": [
        "### **Example 2: Sum of a List of Numbers**\n",
        "\n",
        "Now let's look at another example of a recursive function that sums up all the numbers inside a list.\n"
      ],
      "metadata": {
        "id": "A9DBEdbu732C"
      }
    },
    {
      "cell_type": "code",
      "source": [
        "def list_sum(numbers: list[int | float] | int | float) -> int | float:\n",
        "  if not isinstance(numbers, list):\n",
        "    return numbers\n",
        "  if not numbers:\n",
        "    return 0\n",
        "\n",
        "  return numbers[0] + list_sum(numbers[1:])"
      ],
      "metadata": {
        "id": "pd4xwrjA8DcD"
      },
      "execution_count": 4,
      "outputs": []
    },
    {
      "cell_type": "markdown",
      "source": [
        "**Explanation**\n",
        "\n",
        "1. **Base Case 1**:\n",
        "\n",
        "  If `lst` is not a list (e.g., a single integer or float), the function simply returns that value. This ensures that the function can handle both lists and individual numbers.\n",
        "\n",
        "2. **Base Case 2**:\n",
        "\n",
        "  If `lst` is an empty list (`[]`), the function returns 0. This stops the recursion when there are no more elements to add.\n",
        "\n",
        "3. **Recursive Case**:\n",
        "\n",
        "  If `lst` is a list with elements, the function calculates the sum of the first element (`lst[0]`) plus the sum of the rest of the list (`lst[1:]`). This recursive call breaks down the list until it reaches the base case.\n",
        "\n",
        "Each recursive call processes one element from `lst`, eventually summing up all values to produce the total.\n"
      ],
      "metadata": {
        "id": "XaZGmqgCcpvN"
      }
    },
    {
      "cell_type": "code",
      "source": [
        "print(list_sum([1, 2, 3, 4, 5]))\n",
        "print(list_sum([3.2, 1.5, 0.8]))"
      ],
      "metadata": {
        "colab": {
          "base_uri": "https://localhost:8080/"
        },
        "id": "otZ8JUZQEsWp",
        "outputId": "1c32e075-5ee7-4171-f63b-a3a79d7e9a82"
      },
      "execution_count": 5,
      "outputs": [
        {
          "output_type": "stream",
          "name": "stdout",
          "text": [
            "15\n",
            "5.5\n"
          ]
        }
      ]
    },
    {
      "cell_type": "markdown",
      "source": [
        "### **Example 3: Flattening Nested Lists**\n",
        "\n",
        "Recursion is especially useful when working with nested structures, like nested lists. Here's a simple recursive function that \"flattens\" a nested list into a single list of elements:\n"
      ],
      "metadata": {
        "id": "uru8Zsqz4saw"
      }
    },
    {
      "cell_type": "code",
      "source": [
        "def flatten_list(lst: list[list | Any]) -> list[Any]:\n",
        "  if not lst:\n",
        "    return []\n",
        "\n",
        "  if isinstance(lst[0], list):\n",
        "    # Handle nested list item\n",
        "    return flatten_list(lst[0]) + flatten_list(lst[1:])\n",
        "  else:\n",
        "    return [lst[0]] + flatten_list(lst[1:])"
      ],
      "metadata": {
        "id": "IihtMO3E4sJI"
      },
      "execution_count": 6,
      "outputs": []
    },
    {
      "cell_type": "markdown",
      "source": [
        "**Explanation**\n",
        "\n",
        "1. **Base Case**:\n",
        "\n",
        "  If the list `lst` is empty (`[]`), the function simply returns an empty list. This stops the recursion when there are no more elements to process.\n",
        "\n",
        "> It also helps prevent index out-of-bound errors like accessing index 0 on an empty list.\n",
        "\n",
        "2. **Recursive Case**:\n",
        "\n",
        "  - If the first element in `lst` is a list, the function calls itself on this element (`flatten_list(lst[0])`) to flatten it further. It then combines this result with the recursive call to `flatten_list(lst[1:])`, which processes the rest of the list.\n",
        "  - If the first element is not a list, it's added to the flattened result by returning `[lst[0]] + flatten_list(lst[1:])`.\n"
      ],
      "metadata": {
        "id": "KM7tBgEOfu8b"
      }
    },
    {
      "cell_type": "code",
      "source": [
        "l1 = [1, 2, [3, 4, [5, 6]], 7, [8, 9]]\n",
        "print(flatten_list(l1))\n",
        "\n",
        "l2 = [\"a\", [\"b\", [\"c\", \"d\"], \"e\"], [\"f\", \"g\"], \"h\"]\n",
        "print(flatten_list(l2))"
      ],
      "metadata": {
        "colab": {
          "base_uri": "https://localhost:8080/"
        },
        "id": "pOXG29VC6NDA",
        "outputId": "b9e5222c-3455-4a05-be77-c7ec5613982c"
      },
      "execution_count": 7,
      "outputs": [
        {
          "output_type": "stream",
          "name": "stdout",
          "text": [
            "[1, 2, 3, 4, 5, 6, 7, 8, 9]\n",
            "['a', 'b', 'c', 'd', 'e', 'f', 'g', 'h']\n"
          ]
        }
      ]
    },
    {
      "cell_type": "markdown",
      "source": [
        "### **Example 4: Count Total Files in Directory**\n",
        "\n",
        "Let's look at another example of counting the total number of files inside a directory (including subdirectories) using recursion.\n"
      ],
      "metadata": {
        "id": "VA8tlxuU_5iv"
      }
    },
    {
      "cell_type": "code",
      "source": [
        "def count_files(path: str) -> int | None:\n",
        "  # Error handling for non-existing path\n",
        "  if not os.path.exists(path):\n",
        "    raise ValueError(f\"Path '{path}' does not exist.\")\n",
        "  if os.path.isfile(path):\n",
        "    return 1\n",
        "\n",
        "  return sum(count_files(os.path.join(path, item)) for item in os.listdir(path))"
      ],
      "metadata": {
        "id": "qHnfrexG_-dF"
      },
      "execution_count": 8,
      "outputs": []
    },
    {
      "cell_type": "markdown",
      "source": [
        "**Explanation**\n",
        "\n",
        "1. **Path Validation**:\n",
        "\n",
        "  If the path doesn't exist, it raise an `ValueError`.\n",
        "\n",
        "3. **File Check**:\n",
        "\n",
        "  If the path points to a file (`os.path.isfile(path)`), it returns 1, counting that single file.\n",
        "\n",
        "4. **Directory Processing**:\n",
        "\n",
        "  If the path points to a directory, then it uses a list comprehension with `sum()` to:\n",
        "  - List all items in the directory using `os.listdir(path)`\n",
        "  - For each item, create its full path with `os.path.join(path, item)`\n",
        "  - Call `count_files()` recursively on each item\n",
        "  - Sum up all the returned counts\n"
      ],
      "metadata": {
        "id": "lvngtRXqxeUN"
      }
    },
    {
      "cell_type": "code",
      "source": [
        "print(count_files(\"/content/sample_data\"))\n",
        "print(count_files(\"/opt\"))"
      ],
      "metadata": {
        "colab": {
          "base_uri": "https://localhost:8080/"
        },
        "id": "9_ByCUdyEm_P",
        "outputId": "8b799262-df69-4416-ac9d-09d8cf66d3be"
      },
      "execution_count": 9,
      "outputs": [
        {
          "output_type": "stream",
          "name": "stdout",
          "text": [
            "6\n",
            "910\n"
          ]
        }
      ]
    },
    {
      "cell_type": "markdown",
      "source": [
        "There's actually a more elegant solution with `os.walk()` but we're in a class about recursions! 😈\n"
      ],
      "metadata": {
        "id": "ZsMzSlnAh558"
      }
    },
    {
      "cell_type": "code",
      "source": [
        "def count_files_walk(dir: str) -> int:\n",
        "  return sum(len(files) for root, dirs, files in os.walk(dir))"
      ],
      "metadata": {
        "id": "c4ZzRgR7y6uf"
      },
      "execution_count": 10,
      "outputs": []
    },
    {
      "cell_type": "code",
      "source": [
        "print(count_files_walk(\"/content/sample_data\"))\n",
        "print(count_files_walk(\"/opt\"))"
      ],
      "metadata": {
        "id": "b67p1oEozNXs",
        "colab": {
          "base_uri": "https://localhost:8080/"
        },
        "outputId": "5f6eced2-3abd-46f2-ad4f-02269c422051"
      },
      "execution_count": 11,
      "outputs": [
        {
          "output_type": "stream",
          "name": "stdout",
          "text": [
            "6\n",
            "910\n"
          ]
        }
      ]
    },
    {
      "cell_type": "markdown",
      "source": [
        "You can also use shell commands like these from a terminal to get the same results:\n"
      ],
      "metadata": {
        "id": "G7JbaZgvz7Ln"
      }
    },
    {
      "cell_type": "code",
      "source": [
        "!find /content/sample_data -type f,l | wc -l\n",
        "!find /opt -type f,l | wc -l"
      ],
      "metadata": {
        "colab": {
          "base_uri": "https://localhost:8080/"
        },
        "id": "2_EBoPlHiB_R",
        "outputId": "b6a05a1a-e1e3-435a-841a-20f041dd7cc9"
      },
      "execution_count": 12,
      "outputs": [
        {
          "output_type": "stream",
          "name": "stdout",
          "text": [
            "6\n",
            "910\n"
          ]
        }
      ]
    },
    {
      "cell_type": "markdown",
      "source": [
        "### **Example 5: Countdown Timer**\n",
        "\n",
        "Recursion can also be used as an alternative to a loop, like this:\n",
        "\n",
        "> 📒 This technique is commonly seen in functional programming paradigms.\n"
      ],
      "metadata": {
        "id": "a9r9Dcjc2SQu"
      }
    },
    {
      "cell_type": "code",
      "source": [
        "def countdown(n: int | float, step: int | float = 1, precision: int = 0) -> None:\n",
        "  if n < 0:\n",
        "    return\n",
        "  print(f\"{n:.{precision}f}\")\n",
        "  time.sleep(step)\n",
        "  return countdown(n - step, step, precision)"
      ],
      "metadata": {
        "id": "gxpaFsPx0Mzz"
      },
      "execution_count": 13,
      "outputs": []
    },
    {
      "cell_type": "code",
      "source": [
        "countdown(5)"
      ],
      "metadata": {
        "colab": {
          "base_uri": "https://localhost:8080/"
        },
        "id": "zIRsDh882y2j",
        "outputId": "e660cc68-736f-4289-8047-3a6dfa31ff0e"
      },
      "execution_count": 14,
      "outputs": [
        {
          "output_type": "stream",
          "name": "stdout",
          "text": [
            "5\n",
            "4\n",
            "3\n",
            "2\n",
            "1\n",
            "0\n"
          ]
        }
      ]
    },
    {
      "cell_type": "code",
      "source": [
        "# The equivilant in a for loop\n",
        "def countdown_loop(n: int | float, step: int | float = 1, precision: int = 0) -> None:\n",
        "  while n >= 0:\n",
        "    print(f\"{n:.{precision}f}\")\n",
        "    time.sleep(step)\n",
        "    n -= step"
      ],
      "metadata": {
        "id": "ylN-zEwmVfbe"
      },
      "execution_count": 15,
      "outputs": []
    },
    {
      "cell_type": "code",
      "source": [
        "countdown_loop(5)"
      ],
      "metadata": {
        "colab": {
          "base_uri": "https://localhost:8080/"
        },
        "id": "XM7EY6GYVs8R",
        "outputId": "e7608c2e-6963-452d-a0cc-3edcef15e168"
      },
      "execution_count": 16,
      "outputs": [
        {
          "output_type": "stream",
          "name": "stdout",
          "text": [
            "5\n",
            "4\n",
            "3\n",
            "2\n",
            "1\n",
            "0\n"
          ]
        }
      ]
    },
    {
      "cell_type": "markdown",
      "source": [
        "**Explanation**\n",
        "\n",
        "0. **Parameter Setup**:\n",
        "\n",
        "  - `n`: The starting number to count down from (can be an integer or float)\n",
        "  - `step`: How much to decrease the counter by each time (defaults to 1)\n",
        "  - `precision`: How many decimal places to display (defaults to 0)\n",
        "\n",
        "1. **Base Case Check**:\n",
        "\n",
        "  If `n` becomes negative, the function stops (returns without doing anything)\n",
        "\n",
        "3. **Display Current Value**:\n",
        "\n",
        "  - Prints the current count with formatted precision using an f-string: `f\"{n:.{precision}f}\"`\n",
        "  - The `:.{precision}f` part formats the number with the specified number of decimal places\n",
        "\n",
        "4. **Time Delay**:\n",
        "\n",
        "  - Waits for `step` seconds using `time.sleep(step)` before continuing\n",
        "  - Note that the `step` parameter serves dual purposes: it controls both the countdown decrement and the time delay\n",
        "\n",
        "5. **Recursive Call**:\n",
        "\n",
        "  - Calls itself with `n - step` to decrease the counter\n",
        "  - Passes along the same `step` and `precision` values\n",
        "  - Uses recursion rather than a loop to continue the countdown\n",
        "\n",
        "The function counts down until `n` becomes negative, printing each value and waiting between iterations."
      ],
      "metadata": {
        "id": "t1b9XS6k3T9C"
      }
    },
    {
      "cell_type": "markdown",
      "source": [
        "## **Things to Consider**\n",
        "\n",
        "When using recursion, there are a few important factors to keep in mind to ensure your solution is efficient and reliable:\n",
        "\n",
        "- **Readable Alternatives**\n",
        "\n",
        "  Some recursive problems can also be solved iteratively. If recursion makes the solution harder to understand or debug, consider using a loop instead.\n"
      ],
      "metadata": {
        "id": "-kYOFpylNHWr"
      }
    },
    {
      "cell_type": "code",
      "source": [
        "def factorial_recursive(n):\n",
        "  if n <= 1:\n",
        "    return 1\n",
        "  return n * factorial(n - 1)"
      ],
      "metadata": {
        "id": "UUxs-_1A7e30"
      },
      "execution_count": 17,
      "outputs": []
    },
    {
      "cell_type": "markdown",
      "source": [
        "While this recursive solution is elegant, it can be harder to debug and understand for those unfamiliar with recursion.\n"
      ],
      "metadata": {
        "id": "unXMGCrl_CO8"
      }
    },
    {
      "cell_type": "code",
      "source": [
        "def factorial_iterative(n):\n",
        "  result = 1\n",
        "  for i in range(1, n+1):\n",
        "    result *= i\n",
        "  return result"
      ],
      "metadata": {
        "id": "UYy7kyXv_SMk"
      },
      "execution_count": 18,
      "outputs": []
    },
    {
      "cell_type": "markdown",
      "source": [
        "Both produce the same result, but the iterative version is more straightforward and may be preferred in situations where code readability and maintenance are priorities.\n"
      ],
      "metadata": {
        "id": "W5ErGcJ1_UAf"
      }
    },
    {
      "cell_type": "markdown",
      "source": [
        "- **Base Case is Crucial**\n",
        "\n",
        "  Every recursive function must have a well-defined base case to stop the recursion. Without it, the function will result in infinite recursion, causing a **stack overflow**.\n",
        "\n",
        "- **Stack Limitations**\n",
        "\n",
        "  Recursive calls consume stack space (memory space), and Python has a default recursion limit (usually 1000). If the recursion depth exceeds this limit, a `RecursionError` will occur.\n",
        "  "
      ],
      "metadata": {
        "id": "DAHEMqyS7Xqy"
      }
    },
    {
      "cell_type": "markdown",
      "source": [
        "Here's an example of a function that is missing a base case, which leads to a `RecursionError`.\n",
        "\n",
        "> 📒 There are ways to avoid this, but it requires jumping through some hoops to achieve it.\n"
      ],
      "metadata": {
        "id": "wvhtKXuq5ijn"
      }
    },
    {
      "cell_type": "code",
      "source": [
        "def incorrect_countdown(n):\n",
        "  # Base case is missing or unreachable\n",
        "  print(n)\n",
        "\n",
        "  # Recursive call that doesn't properly approach the base case\n",
        "  return incorrect_countdown(n - 0.5)  # Will never reach 0 exactly with float values\n",
        "\n",
        "# This will cause a stack overflow\n",
        "incorrect_countdown(10)"
      ],
      "metadata": {
        "id": "9FvO78tB2qic"
      },
      "execution_count": null,
      "outputs": []
    },
    {
      "cell_type": "markdown",
      "source": [
        "- **Performance Concerns**\n",
        "\n",
        "  Recursion can be inefficient if the same calculations are repeated multiple times. Consider memoization or caching to improve performance for such cases.\n"
      ],
      "metadata": {
        "id": "VMYrp3Yo7aBP"
      }
    },
    {
      "cell_type": "code",
      "source": [
        "def fibonacci(n):\n",
        "  if n <= 1:\n",
        "    return n\n",
        "  return fibonacci(n - 1) + fibonacci(n - 2)\n",
        "\n",
        "n = time.perf_counter()\n",
        "print(fibonacci(35))\n",
        "print(f\"Total time: {time.perf_counter() - n:.2f}s\")"
      ],
      "metadata": {
        "colab": {
          "base_uri": "https://localhost:8080/"
        },
        "id": "TtEpcuvE7y8b",
        "outputId": "a5312ae1-f9a3-4ad8-efde-e97b0cfbad6b"
      },
      "execution_count": 19,
      "outputs": [
        {
          "output_type": "stream",
          "name": "stdout",
          "text": [
            "9227465\n",
            "Total time: 2.00s\n"
          ]
        }
      ]
    },
    {
      "cell_type": "code",
      "source": [
        "def fibonacci_memo(n, memo={}):\n",
        "  if n in memo:\n",
        "    return memo[n]\n",
        "  if n <= 1:\n",
        "    return n\n",
        "  memo[n] = fibonacci_memo(n - 1, memo) + fibonacci_memo(n - 2, memo)\n",
        "  return memo[n]\n",
        "\n",
        "n = time.perf_counter()\n",
        "print(fibonacci_memo(35))\n",
        "print(f\"Total time: {time.perf_counter() - n:.2f}s\")"
      ],
      "metadata": {
        "colab": {
          "base_uri": "https://localhost:8080/"
        },
        "id": "-ArRI2bc7896",
        "outputId": "ede1a83f-c4e6-43f7-ddef-4e681bbbf56f"
      },
      "execution_count": 20,
      "outputs": [
        {
          "output_type": "stream",
          "name": "stdout",
          "text": [
            "9227465\n",
            "Total time: 0.00s\n"
          ]
        }
      ]
    },
    {
      "cell_type": "code",
      "source": [
        "from functools import lru_cache\n",
        "\n",
        "@lru_cache(maxsize=None)\n",
        "def fibonacci_cache(n):\n",
        "  if n <= 1:\n",
        "    return n\n",
        "  return fibonacci_cache(n - 1) + fibonacci_cache(n - 2)\n",
        "\n",
        "n = time.perf_counter()\n",
        "print(fibonacci_cache(35))\n",
        "print(f\"Total time: {time.perf_counter() - n:.2f}s\")"
      ],
      "metadata": {
        "colab": {
          "base_uri": "https://localhost:8080/"
        },
        "id": "OV-VXChh9Ryy",
        "outputId": "476d99f1-ef2b-41ff-ac45-aefc40e20d55"
      },
      "execution_count": 21,
      "outputs": [
        {
          "output_type": "stream",
          "name": "stdout",
          "text": [
            "9227465\n",
            "Total time: 0.00s\n"
          ]
        }
      ]
    },
    {
      "cell_type": "markdown",
      "source": [
        "## **Conclusion**\n",
        "\n",
        "That's it for the hardest portion of our *Advanced Python Functions* series. If you'd like to dive deeper into recursion, check out these resources:\n",
        "\n",
        "- [W3Schools: Python Recursion](https://www.w3schools.com/python/gloss_python_function_recursion.asp)  \n",
        "- [Real Python: Understanding Recursion](https://realpython.com/python-recursion/)\n",
        "\n",
        "Have fun recursive coding! 😺\n"
      ],
      "metadata": {
        "id": "HKdeedUmnH6w"
      }
    }
  ]
}