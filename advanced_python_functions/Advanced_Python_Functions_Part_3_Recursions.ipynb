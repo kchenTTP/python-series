{
  "nbformat": 4,
  "nbformat_minor": 0,
  "metadata": {
    "colab": {
      "provenance": [],
      "toc_visible": true,
      "authorship_tag": "ABX9TyOZKKUmGGbth7mTtYwZNQyg",
      "include_colab_link": true
    },
    "kernelspec": {
      "name": "python3",
      "display_name": "Python 3"
    },
    "language_info": {
      "name": "python"
    }
  },
  "cells": [
    {
      "cell_type": "markdown",
      "metadata": {
        "id": "view-in-github",
        "colab_type": "text"
      },
      "source": [
        "<a href=\"https://colab.research.google.com/github/kchenTTP/python-series/blob/main/advanced_python_functions/Advanced_Python_Functions_Part_3_Recursions.ipynb\" target=\"_parent\"><img src=\"https://colab.research.google.com/assets/colab-badge.svg\" alt=\"Open In Colab\"/></a>"
      ]
    },
    {
      "cell_type": "markdown",
      "source": [
        "# **Advanced Python Functions Part 3: Recursion**\n",
        "\n",
        "In the last two classes, we explored higher-order functions, closures, and decorators. In this final session of the *Advanced Python Functions* series, we'll look at another powerful concept in programming: **recursion**.\n",
        "\n",
        "We'll break down how it works, when to use it, and go through some simple examples to help it all click.\n",
        "\n",
        "## **Table of Contents**\n",
        "\n",
        "- [Recursion](#scrollTo=nQ18LxcjJH90)\n"
      ],
      "metadata": {
        "id": "u77EAJpG99fN"
      }
    },
    {
      "cell_type": "code",
      "source": [
        "from typing import Callable, Any\n",
        "import time"
      ],
      "metadata": {
        "id": "VbT386J1qeex"
      },
      "execution_count": 1,
      "outputs": []
    },
    {
      "cell_type": "markdown",
      "source": [
        "## **Recursions**\n",
        "\n",
        "Recursion is a programming technique where a function calls itself to solve a problem. Each recursive call breaks down the problem into smaller sub-problems until it reaches a **base case**, which stops the recursion.\n",
        "\n",
        "Recursion is particularly useful for tasks like traversing data structures, solving mathematical problems (like factorial or Fibonacci sequences), and working with problems that can naturally be divided into smaller instances of the same problem.\n"
      ],
      "metadata": {
        "id": "nQ18LxcjJH90"
      }
    },
    {
      "cell_type": "markdown",
      "source": [
        "**How Recursion Works**\n",
        "\n",
        "In a recursive function, two key components are essential:\n",
        "\n",
        "1. **Base Case**: The condition that stops further recursive calls. Without a base case, the function would continue calling itself indefinitely, leading to a stack overflow (kind of like running out of memory).\n",
        "   \n",
        "2. **Recursive Case**: The part of the function where it calls itself with modified arguments, moving towards the base case.\n"
      ],
      "metadata": {
        "id": "0gkSXXXs4b24"
      }
    },
    {
      "cell_type": "markdown",
      "source": [
        "### **Example 1: Calculating Factorials**\n",
        "\n",
        "Let's look at an example to understand recursion better. Here's a simple recursive function to calculate the factorial of a number:\n",
        "\n",
        "<br>\n",
        "\n",
        "**Explanation**\n",
        "\n",
        "1. **Base Case**: When `n` is 0, the function returns 1, ending the recursion.\n",
        "2. **Recursive Case**: For any `n > 0`, the function calls itself with `n - 1`, multiplying `n` by the result of the recursive call.\n",
        "\n",
        "Each recursive call reduces `n` by 1, eventually reaching the base case, where the recursion stops.\n"
      ],
      "metadata": {
        "id": "1ScsJbqD4knk"
      }
    },
    {
      "cell_type": "code",
      "source": [
        "def factorial(n: int) -> int:\n",
        "  if n <= 1:\n",
        "    return 1\n",
        "  return n * factorial(n - 1)"
      ],
      "metadata": {
        "id": "QIy47vUU3_TH"
      },
      "execution_count": 2,
      "outputs": []
    },
    {
      "cell_type": "code",
      "source": [
        "print(factorial(3))\n",
        "print(factorial(4))\n",
        "print(factorial(5))"
      ],
      "metadata": {
        "colab": {
          "base_uri": "https://localhost:8080/"
        },
        "id": "PPL_WeKREvuq",
        "outputId": "32ae4a75-dddb-4301-b643-fe1fb3b194b3"
      },
      "execution_count": 3,
      "outputs": [
        {
          "output_type": "stream",
          "name": "stdout",
          "text": [
            "6\n",
            "24\n",
            "120\n"
          ]
        }
      ]
    },
    {
      "cell_type": "markdown",
      "source": [
        "### **Example 2: Sum of a List of Numbers**\n",
        "\n",
        "This example demonstrates a recursive function to calculate the sum of numbers in a list. It can handle both integers and floats, and even single numbers if a non-list value is provided.\n",
        "\n",
        "<br>\n",
        "\n",
        "**Explanation**\n",
        "\n",
        "1. **Base Case**:\n",
        "  - If `lst` is an empty list (`[]`), the function returns 0. This stops the recursion when there are no more elements to add.\n",
        "   \n",
        "2. **Single Number Check**:\n",
        "  - If `lst` is not a list (e.g., a single integer or float), the function simply returns that value. This ensures that the function can handle both lists and individual numbers.\n",
        "\n",
        "3. **Recursive Case**:\n",
        "  - If `lst` is a list with elements, the function calculates the sum of the first element (`lst[0]`) plus the sum of the rest of the list (`lst[1:]`). This recursive call breaks down the list until it reaches the base case or a single number.\n",
        "\n",
        "Each recursive call processes one element from `lst`, eventually summing up all values to produce the total.\n"
      ],
      "metadata": {
        "id": "A9DBEdbu732C"
      }
    },
    {
      "cell_type": "code",
      "source": [
        "def list_sum(lst: list[int | float] | int | float) -> int | float:\n",
        "  if not lst:\n",
        "    return 0\n",
        "  if not isinstance(lst, list):\n",
        "    return lst\n",
        "\n",
        "  return lst[0] + list_sum(lst[1:])"
      ],
      "metadata": {
        "id": "pd4xwrjA8DcD"
      },
      "execution_count": 4,
      "outputs": []
    },
    {
      "cell_type": "code",
      "source": [
        "print(list_sum([1, 2, 3, 4, 5]))\n",
        "print(list_sum([3.2, 1.5, 0.8]))"
      ],
      "metadata": {
        "colab": {
          "base_uri": "https://localhost:8080/"
        },
        "id": "otZ8JUZQEsWp",
        "outputId": "38f020e7-759d-4255-f459-5b9132e072b8"
      },
      "execution_count": 5,
      "outputs": [
        {
          "output_type": "stream",
          "name": "stdout",
          "text": [
            "15\n",
            "5.5\n"
          ]
        }
      ]
    },
    {
      "cell_type": "markdown",
      "source": [
        "### **Example 3: Flattening Nested Lists**\n",
        "\n",
        "Recursion is especially useful when working with nested structures, like lists within lists. Here's a simple recursive function that \"flattens\" a nested list into a single list of elements:\n",
        "\n",
        "<br>\n",
        "\n",
        "**Explanation**\n",
        "\n",
        "1. **Base Case**: If the list `lst` is empty (`[]`), the function simply returns an empty list. This stops the recursion when there are no more elements to process.\n",
        "\n",
        "> It also helps prevent index out-of-bound errors.\n",
        "\n",
        "2. **Recursive Case**:\n",
        "  - If the first element in `lst` is a list, the function calls itself on this element (`flatten_list(lst[0])`) to flatten it further. It then combines this result with the recursive call to `flatten_list(lst[1:])`, which processes the rest of the list.\n",
        "  - If the first element is not a list, it's added to the flattened result by returning `[lst[0]] + flatten_list(lst[1:])`.\n"
      ],
      "metadata": {
        "id": "uru8Zsqz4saw"
      }
    },
    {
      "cell_type": "code",
      "source": [
        "from typing import Any\n",
        "\n",
        "def flatten_list(lst: list[list | Any]) -> list[Any]:\n",
        "  if not lst:\n",
        "    return []\n",
        "\n",
        "  if isinstance(lst[0], list):\n",
        "    return flatten_list(lst[0]) + flatten_list(lst[1:])\n",
        "  else:\n",
        "    return [lst[0]] + flatten_list(lst[1:])"
      ],
      "metadata": {
        "id": "IihtMO3E4sJI"
      },
      "execution_count": 6,
      "outputs": []
    },
    {
      "cell_type": "code",
      "source": [
        "l1 = [1, 2, [3, 4, [5, 6]], 7, [8, 9]]\n",
        "print(flatten_list(l1))\n",
        "\n",
        "l2 = [\"a\", [\"b\", [\"c\", \"d\"], \"e\"], [\"f\", \"g\"], \"h\"]\n",
        "print(flatten_list(l2))"
      ],
      "metadata": {
        "colab": {
          "base_uri": "https://localhost:8080/"
        },
        "id": "pOXG29VC6NDA",
        "outputId": "7b553cba-ee88-497f-ca8a-9267db6bf77e"
      },
      "execution_count": 7,
      "outputs": [
        {
          "output_type": "stream",
          "name": "stdout",
          "text": [
            "[1, 2, 3, 4, 5, 6, 7, 8, 9]\n",
            "['a', 'b', 'c', 'd', 'e', 'f', 'g', 'h']\n"
          ]
        }
      ]
    },
    {
      "cell_type": "markdown",
      "source": [
        "### **Example 4: Count Total Files in Directory**\n",
        "\n",
        "This example demonstrates a recursive function to count the total number of files within a directory, including those in any subdirectories. The function uses recursion to dive into each subdirectory, adding up the files found.\n",
        "\n",
        "<br>\n",
        "\n",
        "**Explanation**\n",
        "\n",
        "1. **Initialize Total Count**:\n",
        "  - `total` is set to 0 and will hold the count of files found in the directory and its subdirectories.\n",
        "\n",
        "2. **Directory Iteration**:\n",
        "  - The function iterates over each item in the directory specified by `dir`.\n",
        "   \n",
        "3. **File Check**:\n",
        "  - If an item is a file, the count (`total`) is incremented by 1.\n",
        "   \n",
        "4. **Recursive Call for Subdirectories**:\n",
        "  - If an item is a subdirectory, the function calls itself on that subdirectory (`count_files(path)`). This recursive call dives deeper, adding the count of files within each subdirectory to the total.\n",
        "\n",
        "The recursion continues until all subdirectories have been explored, allowing us to count every file in a directory.\n"
      ],
      "metadata": {
        "id": "VA8tlxuU_5iv"
      }
    },
    {
      "cell_type": "code",
      "source": [
        "import os\n",
        "\n",
        "def count_files(dir: str) -> int:\n",
        "  total = 0\n",
        "  for item in os.listdir(dir):\n",
        "    path = os.path.join(dir, item)\n",
        "    if os.path.isfile(path):\n",
        "      total += 1\n",
        "    elif os.path.isdir(path):\n",
        "      total += count_files(path)\n",
        "  return total"
      ],
      "metadata": {
        "id": "qHnfrexG_-dF"
      },
      "execution_count": 8,
      "outputs": []
    },
    {
      "cell_type": "code",
      "source": [
        "print(count_files(\"/content/sample_data\"))\n",
        "print(count_files(\"/opt\"))"
      ],
      "metadata": {
        "colab": {
          "base_uri": "https://localhost:8080/"
        },
        "id": "9_ByCUdyEm_P",
        "outputId": "17310494-ea64-40e8-ff6e-7e86cbc73d8c"
      },
      "execution_count": 9,
      "outputs": [
        {
          "output_type": "stream",
          "name": "stdout",
          "text": [
            "6\n",
            "910\n"
          ]
        }
      ]
    },
    {
      "cell_type": "markdown",
      "source": [
        "## **Things to Consider**\n",
        "\n",
        "When using recursion, there are a few important factors to keep in mind to ensure your solution is efficient and reliable:\n",
        "\n",
        "- **Base Case is Crucial**\n",
        "\n",
        "  Every recursive function must have a well-defined base case to stop the recursion. Without it, the function will result in infinite recursion, causing a **stack overflow**.\n",
        "\n",
        "- **Stack Limitations**\n",
        "\n",
        "  Recursive calls consume stack space (memory space), and Python has a default recursion limit (usually 1000). If the recursion depth exceeds this limit, a `RecursionError` will occur.\n",
        "\n",
        "- **Performance Concerns**\n",
        "\n",
        "  Recursion can be inefficient if the same calculations are repeated multiple times. Consider memoization or caching to improve performance for such cases.\n",
        "\n",
        "- **Readable Alternatives**\n",
        "\n",
        "  Some recursive problems can also be solved iteratively. If recursion makes the solution harder to understand or debug, consider using a loop instead.\n"
      ],
      "metadata": {
        "id": "-kYOFpylNHWr"
      }
    },
    {
      "cell_type": "markdown",
      "source": [
        "## **Conclusion**\n",
        "\n",
        "That's it for the hardest portion of our *Advanced Python Functions* series. If you'd like to dive deeper into recursion, check out these resources:\n",
        "\n",
        "- [W3Schools: Python Recursion](https://www.w3schools.com/python/gloss_python_function_recursion.asp)  \n",
        "- [Real Python: Understanding Recursion](https://realpython.com/python-recursion/)\n",
        "\n",
        "Happy coding 🐍\n"
      ],
      "metadata": {
        "id": "HKdeedUmnH6w"
      }
    }
  ]
}