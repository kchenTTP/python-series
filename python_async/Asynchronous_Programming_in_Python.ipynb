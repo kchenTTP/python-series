{
  "nbformat": 4,
  "nbformat_minor": 0,
  "metadata": {
    "colab": {
      "provenance": [],
      "toc_visible": true
    },
    "kernelspec": {
      "name": "python3",
      "display_name": "Python 3"
    },
    "language_info": {
      "name": "python"
    }
  },
  "cells": [
    {
      "cell_type": "markdown",
      "source": [
        "# **Asynchronous Programming in Python**\n",
        "\n",
        "This is the first of two classes on concurrent programming in Python. In this session, we'll focus on asynchronous programming, while the next class will cover multithreading and multiprocessing.\n",
        "\n",
        "**Table of Contents**\n",
        "\n",
        "- [Problem: Blocking Operations](#scrollTo=AWI1a7rl77sN)\n",
        "- [Synchronous vs Asynchronous](#scrollTo=JZ16CoowTHyL)\n",
        "- [Concurrency, Parallelism, and Coroutines](#scrollTo=OyXHgwifCHvr)\n",
        "- [`async`, `await`, and `asyncio`](#scrollTo=b7Jmexer5jjv)\n",
        "- [Exercise: Asynchronous API Calls](#scrollTo=Lt4pMMM6LbI9)\n"
      ],
      "metadata": {
        "id": "u77EAJpG99fN"
      }
    },
    {
      "cell_type": "markdown",
      "source": [
        "## **Problem: Blocking Operations**\n",
        "\n",
        "Blocking operations pause the execution of a program until they are fully completed. When these operations occur, no other tasks can be processed until the blocking operation finishes. These operations are usually categorized as either **CPU-bound** or **I/O-bound**.\n",
        "\n",
        "- **CPU-bound tasks**\n",
        "\n",
        "  Tasks that spend most of the time performing calculations. They are limited by the processing power of your central processing unit (CPU).\n",
        "\n",
        "- **I/O-bound tasks**\n",
        "\n",
        "  Tasks that spend most of the time waiting on input/output operations. They are limited by the speed of data transfer between external systems.\n",
        "\n",
        "> In this class, we'll focus on handling I/O-bound tasks, while we will cover CPU-bound tasks in the next session.\n",
        "\n",
        "<br>\n",
        "\n",
        "### **Common I/O-bound operations**:\n",
        "\n",
        "**File operations**\n",
        "-\tReading or writing large files from/to a disk.\n",
        "-\tCopying or moving files between directories or storage devices.\n",
        "\n",
        "**Network communication**\n",
        "-\tDownloading/uploading files over the internet.\n",
        "-\tMaking HTTP requests to APIs or websites.\n",
        "-\tReal-time streaming (audio/video) where the program waits for data packets.\n",
        "\n",
        "**Database interactions**\n",
        "-\tQuerying a remote database (e.g., fetching records from a cloud database).\n",
        "-\tInserting, updating, or deleting records in a database.\n",
        "\n",
        "**User input/output**\n",
        "-\tWaiting for user input through a keyboard or mouse.\n",
        "-\tProcessing clicks, form submissions, or other user events in a GUI application.\n",
        "\n",
        "**Device I/O**\n",
        "-\tInteracting with external devices, like reading data from a USB drive, sensors, or a camera.\n",
        "-\tCommunicating with hardware components such as hard drives or peripheral devices.\n"
      ],
      "metadata": {
        "id": "AWI1a7rl77sN"
      }
    },
    {
      "cell_type": "markdown",
      "source": [
        "### **Example 1: Simulate Database Interactions**\n",
        "\n",
        "Consider this example of getting user information from a database for a social media:"
      ],
      "metadata": {
        "id": "8jnPXNon75gI"
      }
    },
    {
      "cell_type": "code",
      "source": [
        "# Libraries to time our code and simluate blocking operations\n",
        "import time\n",
        "import random"
      ],
      "metadata": {
        "id": "Ktf2TbXNIZll"
      },
      "execution_count": null,
      "outputs": []
    },
    {
      "cell_type": "code",
      "source": [
        "def fetch_from_database():\n",
        "  print(\"Fetching user data from database...\")\n",
        "  print(\"---\")\n",
        "  time.sleep(4)  # Simulating a slow operation\n",
        "  return {\"id\": 12, \"name\": \"Tommy\", \"followers\": 100, \"following\": 35}\n",
        "\n",
        "\n",
        "def fetch_user_posts():\n",
        "  print(\"Fetching user posts...\")\n",
        "  print(\"---\")\n",
        "  time.sleep(3)  # Simulating a slow operation\n",
        "  return {\"post1\": \"I am a teapot!\", \"post2\": \"What happend to my ice cream :(\", \"post3\": \"I've been waiting in a line for 3hrs!\"}\n",
        "\n",
        "\n",
        "def fetch_notifications():\n",
        "  print(\"Fetching notifications...\")\n",
        "  print(\"---\")\n",
        "  time.sleep(2)  # Simulating a slow operation\n",
        "  return [\"New post\", \"New follower\", \"New friend request\"]\n",
        "\n",
        "\n",
        "def get_user_data():\n",
        "  user = fetch_from_database()          # Takes 4 second\n",
        "  posts = fetch_user_posts()            # Takes 3 second\n",
        "  notifications = fetch_notifications() # Takes 2 second\n",
        "  return user, posts, notifications     # Total: 9 seconds!\n",
        "\n",
        "\n",
        "# Execute our code and time it\n",
        "start_time = time.perf_counter()\n",
        "user, posts, notifications = get_user_data()\n",
        "end_time = time.perf_counter()\n",
        "print(\"User information:\")\n",
        "print(user)\n",
        "print(posts)\n",
        "print(notifications)\n",
        "print(\"---\")\n",
        "\n",
        "# Log the time it takes to finish operation\n",
        "print(f\"Finished in {end_time - start_time:.2f} seconds\")"
      ],
      "metadata": {
        "colab": {
          "base_uri": "https://localhost:8080/"
        },
        "id": "9DpKfOFG3Qen",
        "outputId": "2b2e38a8-49b4-4c51-a4d6-1b47969f9441"
      },
      "execution_count": null,
      "outputs": [
        {
          "output_type": "stream",
          "name": "stdout",
          "text": [
            "Fetching user data from database...\n",
            "---\n",
            "Fetching user posts...\n",
            "---\n",
            "Fetching notifications...\n",
            "---\n",
            "User information:\n",
            "{'id': 12, 'name': 'Tommy', 'followers': 100, 'following': 35}\n",
            "{'post1': 'I am a teapot!', 'post2': 'What happend to my ice cream :(', 'post3': \"I've been waiting in a line for 3hrs!\"}\n",
            "['New post', 'New follower', 'New friend request']\n",
            "---\n",
            "Finished in 9.01 seconds\n"
          ]
        }
      ]
    },
    {
      "cell_type": "markdown",
      "source": [
        "### **Example 2: Simulate Multiple HTTP Requests**\n",
        "\n",
        "Or this example of performing multiple HTTP requests within a loop:"
      ],
      "metadata": {
        "id": "TGrnvACmHU9J"
      }
    },
    {
      "cell_type": "code",
      "source": [
        "# This is to control our simulation\n",
        "random.seed(0)\n",
        "\n",
        "\n",
        "def sim_request(n):\n",
        "  print(f\"Starting processing task: {n}\")\n",
        "\n",
        "  # Pick random int between 2 to 4 to simulate a blocking operation\n",
        "  delay = random.randint(2, 4)\n",
        "  print(f\"Process time: {delay} second(s)\")\n",
        "\n",
        "  # Randomly delay between 2 to 4 seconds to simulate the time it takes to wait for a http response\n",
        "  time.sleep(delay)\n",
        "  print(f\"Finished processing task: {n}\")\n",
        "\n",
        "\n",
        "def make_n_requests(n):\n",
        "  # Perform the blocking task n times\n",
        "  for i in range(1, n + 1):\n",
        "    sim_request(i)\n",
        "    print(\"---\")\n",
        "\n",
        "\n",
        "# Execute our code and time it\n",
        "start_time = time.perf_counter()\n",
        "make_n_requests(3)\n",
        "end_time = time.perf_counter()\n",
        "\n",
        "# Log the time it takes to finish operation\n",
        "print(f\"Finished in {end_time - start_time:.2f} seconds\")"
      ],
      "metadata": {
        "colab": {
          "base_uri": "https://localhost:8080/"
        },
        "id": "kE9zbq6hMLwy",
        "outputId": "b4b0e2be-8de3-4f05-8a78-70f4757e99b4"
      },
      "execution_count": null,
      "outputs": [
        {
          "output_type": "stream",
          "name": "stdout",
          "text": [
            "Starting processing task: 1\n",
            "Process time: 3 second(s)\n",
            "Finished processing task: 1\n",
            "---\n",
            "Starting processing task: 2\n",
            "Process time: 3 second(s)\n",
            "Finished processing task: 2\n",
            "---\n",
            "Starting processing task: 3\n",
            "Process time: 2 second(s)\n",
            "Finished processing task: 3\n",
            "---\n",
            "Finished in 8.01 seconds\n"
          ]
        }
      ]
    },
    {
      "cell_type": "markdown",
      "source": [
        "In the first example, the program has to perform back-to-back database interactions. In the second example, the program has to perform multiple http requests within a loop. These are really slow because database interactions and http requests are blocking operations and while the blocking operation is happening, the rest of the program is just waiting for those operations to finish. To solve the problem of our program stalling, we can leverage Python **coroutines** (asynchronous programming) to write code that are more efficient."
      ],
      "metadata": {
        "id": "U5f210Yg6g_c"
      }
    },
    {
      "cell_type": "markdown",
      "source": [
        "## **Synchronous vs Asynchronous**\n",
        "\n",
        "In traditional programming, operations happen one after another. This is called **synchronous programming** (such as the examples above). When you encounter a slow operation, your program waits for it to finish before moving on. This can lead to performance bottlenecks if the operations take a long time to complete.\n",
        "\n",
        "To help Alleviate this problem, we can use python **coroutines** to start multiple tasks **concurrently** and gather the results when they are done without having to wait to perform other tasks (Sort of like a chef who starts the rice cooker, then chops vegetables and prepare seasoning while the rice cooks). Python coroutines are what we refer to as **asynchronous programming**, which can greatly speed up your programs.\n",
        "\n",
        "<figure align=\"center\">\n",
        "  <img src=\"https://raw.githubusercontent.com/kchenTTP/python-async/5f0c90201af6e2631ef11093583239519403c8bb/assets/sync-vs-async.png\" alt=\"sync-vs-async.png\" />\n",
        "  <figcaption>Synchronous vs asynchronous</figcaption>\n",
        "</figure>\n"
      ],
      "metadata": {
        "id": "JZ16CoowTHyL"
      }
    },
    {
      "cell_type": "markdown",
      "source": [
        "## **Concurrency, Parallelism, and Coroutines**\n",
        "\n",
        "Before we optimize the examples above for speed, let's first understand the difference between **concurrency** and **parallelism**, as well as **coroutines** in Python.\n",
        "\n",
        "<br>\n",
        "\n",
        "#### **Concurrency**\n",
        "\n",
        "In computer science, concurrency means that multiple functions or tasks are making progress at the same time, but not necessarily simultaneously *([Wikipedia](https://en.wikipedia.org/wiki/Concurrency_(computer_science)))*. This is not to be confused with parallelism, which means making progress simultaneously. Both concurrency and parallelism are ways to achieve multitasking.\n",
        "\n",
        "#### **Parellelism**\n",
        "\n",
        "Parallelism refers to the ability to execute multiple tasks or calculations simultaneously by utilizing multiple processors or CPU cores. Unlike concurrency, which manages multiple tasks within a single processor, parallelism actually performs tasks at the exact same time on different processors.\n",
        "\n",
        "<br>\n",
        "\n",
        "> In Python, multitasking can be achieved in several ways:\n",
        ">\n",
        "> - Coroutines (`asyncio`): Achieves concurrency using an event loop in a single thread\n",
        "> - Threads (`concurrent.futures.ThreadPoolExecutor` & `threading`): Allows concurrent execution using multiple threads, but not true parallelism due to Python's Global Interpreter Lock (GIL)\n",
        "> - Processes (`concurrent.futures.ProcessPoolExecutor` & `multiprocessing`): Achieves parallel execution by running tasks in separate processes\n",
        ">\n",
        "> For this course, we'll only focus on **coroutines**.\n",
        "\n",
        "<br>\n",
        "\n",
        "#### **Coroutines**\n",
        "\n",
        "Coroutines are functions that can pause and resume. They use an event loop to switch between tasks without blocking the program. Although tasks make progress concurrently, they don't run simultaneously (parallelism). In Python, coroutines are created with the `async` and `await` keyword to allow long-running tasks to yield control, so other tasks can run without waiting.\n",
        "\n",
        "<br>\n",
        "\n",
        "<figure align=\"center\">\n",
        "  <img src=\"https://raw.githubusercontent.com/kchenTTP/python-async/5f0c90201af6e2631ef11093583239519403c8bb/assets/event-loop.png\" alt=\"event-loop.png\" />\n",
        "  <figcaption>Python event loop</figcaption>\n",
        "</figure>\n"
      ],
      "metadata": {
        "id": "OyXHgwifCHvr"
      }
    },
    {
      "cell_type": "markdown",
      "source": [
        "## **async, await, and asyncio**\n",
        "\n",
        "To creat asynchronous programs in python, we can leverage the `async` and `await` keyword as well as the `asyncio` library.\n",
        "\n",
        "**`async`**\n",
        "\n",
        "The `async` keyword tells Python that a function is a coroutine. Think of it as a \"pausable\" function.\n",
        "\n",
        "**`await`**\n",
        "\n",
        "The `await` keyword is like a \"pause and wait\" sign. It tells Python to pause the function until the awaited operation completes.\n",
        "\n",
        "> 🚨 You can only use `await` inside async functions.\n"
      ],
      "metadata": {
        "id": "b7Jmexer5jjv"
      }
    },
    {
      "cell_type": "markdown",
      "source": [
        "### **Optimize - Example 1: Simulate Database Interactions**\n",
        "\n",
        "Now we can optimize the [first example](#scrollTo=8jnPXNon75gI) by making the function asynchronous using `async` and `await`.\n",
        "\n",
        "Let's import `asyncio` first to use the asyncrhonous version of `time.sleep()`"
      ],
      "metadata": {
        "id": "YwNOxo7T-l4U"
      }
    },
    {
      "cell_type": "code",
      "execution_count": null,
      "metadata": {
        "id": "0UbiE1OB9eX6"
      },
      "outputs": [],
      "source": [
        "import asyncio"
      ]
    },
    {
      "cell_type": "markdown",
      "source": [
        "First, convert the function to an asynchronous one:\n",
        "1. Add the `async` keyword in front of the function signature.\n",
        "2. Add the `await` keyword before blocking operations (such as network calls, database interactions, file read...etc). In our code, `sleep()` is the blocking operation so we want to put await before `sleep()`.\n",
        "3. Use the asynchronous version of `sleep()` since not all python functions and libraries support coroutines."
      ],
      "metadata": {
        "id": "-hFHNVtNBYe0"
      }
    },
    {
      "cell_type": "code",
      "source": [
        "async def async_fetch_from_database():\n",
        "  print(\"Fetching user data from database...\")\n",
        "  await asyncio.sleep(4)\n",
        "  return {\"id\": 12, \"name\": \"Tommy\", \"followers\": 100, \"following\": 35}\n",
        "\n",
        "\n",
        "async def async_fetch_user_posts():\n",
        "  print(\"Fetching user posts...\")\n",
        "  await asyncio.sleep(3)\n",
        "  return {\"post1\": \"I am a teapot!\", \"post2\": \"What happend to my ice cream :(\", \"post3\": \"I've been waiting in a line for 3hrs!\"}\n",
        "\n",
        "\n",
        "async def async_fetch_notifications():\n",
        "  print(\"Fetching notifications...\")\n",
        "  await asyncio.sleep(2)\n",
        "  return [\"New post\", \"New follower\", \"New friend request\"]"
      ],
      "metadata": {
        "id": "trAoYAbB8A03"
      },
      "execution_count": null,
      "outputs": []
    },
    {
      "cell_type": "markdown",
      "source": [
        "Great! We've successfully converted the database interaction functions to coroutines. We can stop here and Python won't complain. However, without an event loop (like the one from `asyncio`), you can define and await for coroutines, but they won't run concurrently.\n",
        "\n",
        "Let's see how we can make our functions run concurrently using `asyncio` below."
      ],
      "metadata": {
        "id": "W1nfD5a7C9--"
      }
    },
    {
      "cell_type": "markdown",
      "source": [
        "**`asyncio`**\n",
        "\n",
        "`asyncio` is a library in Python that provides an event loop as its core functionality to write concurrent code using the async/await syntax.\n",
        "\n",
        "asyncio is used as a foundation for multiple Python asynchronous frameworks that provide high-performance network and web-servers, database connection libraries, distributed task queues, etc.\n",
        "\n",
        "asyncio is often a perfect fit for IO-bound and high-level structured network code.\n",
        "\n",
        "[Documentation](https://docs.python.org/3/library/asyncio-task.html#asyncio.gather)\n",
        "\n",
        "<br>\n",
        "\n",
        "---\n",
        "\n",
        "**Usage**\n",
        "\n",
        "- `asyncio.gather()`: Run awaitable objects in the function argument sequence concurrently.\n",
        "\n",
        "  > ❗Important: Without this `gather()` step, your program will not be executed asynchronously.\n",
        "\n",
        "- `asyncio.run()`: Run the top-level entry point function (if no event loop is present)\n",
        "  > 🚨 If an event loop is already running (such as in Google Colab), simply use `await` before the top-level entry point function."
      ],
      "metadata": {
        "id": "IOj2yEET8Bdg"
      }
    },
    {
      "cell_type": "code",
      "source": [
        "async def async_get_user_data():\n",
        "  user, posts, notifications = await asyncio.gather(async_fetch_from_database(), async_fetch_user_posts(), async_fetch_notifications())\n",
        "  return user, posts, notifications"
      ],
      "metadata": {
        "id": "o_XhjSd2HXCv"
      },
      "execution_count": null,
      "outputs": []
    },
    {
      "cell_type": "markdown",
      "source": [
        "Now lets test our optimized code to see if it's running any faster"
      ],
      "metadata": {
        "id": "4s1N01dlHcGi"
      }
    },
    {
      "cell_type": "code",
      "source": [
        "# Execute our code and time it\n",
        "start_time = time.perf_counter()\n",
        "\n",
        "# Use this only in Colab or Jupyter notebooks since there is already an existing event loop running in colab\n",
        "user, posts, notifications = await async_get_user_data()\n",
        "\n",
        "# In your python script files (.py) comment out the above line and use this line below instead\n",
        "# asyncio.run(get_user_data())\n",
        "\n",
        "print(\"---\")\n",
        "\n",
        "end_time = time.perf_counter()\n",
        "print(\"User information:\")\n",
        "print(user)\n",
        "print(posts)\n",
        "print(notifications)\n",
        "print(\"---\")\n",
        "\n",
        "# Log the time it takes to finish operation\n",
        "print(f\"Finished in {end_time - start_time:.2f} seconds\")"
      ],
      "metadata": {
        "colab": {
          "base_uri": "https://localhost:8080/"
        },
        "id": "E21yiIqN_z1z",
        "outputId": "c2b49299-e8c8-449c-9fed-6b37ad8b6568"
      },
      "execution_count": null,
      "outputs": [
        {
          "output_type": "stream",
          "name": "stdout",
          "text": [
            "Fetching user data from database...\n",
            "Fetching user posts...\n",
            "Fetching notifications...\n",
            "---\n",
            "User information:\n",
            "{'id': 12, 'name': 'Tommy', 'followers': 100, 'following': 35}\n",
            "{'post1': 'I am a teapot!', 'post2': 'What happend to my ice cream :(', 'post3': \"I've been waiting in a line for 3hrs!\"}\n",
            "['New post', 'New follower', 'New friend request']\n",
            "---\n",
            "Finished in 4.00 seconds\n"
          ]
        }
      ]
    },
    {
      "cell_type": "markdown",
      "source": [
        "\n",
        "<div align=\"center\">\n",
        "<img src=\"https://i.pinimg.com/originals/84/df/28/84df2849675395d4acafa8859e6813bd.gif\" alt=\"minions celebration gif\" style=/>\n",
        "<figcaption>Minions celebrating</figcaption>\n",
        "</div>\n",
        "\n",
        "We've successfully optimized our code! The time it takes to run our program now takes around 4 seconds to finish as opposed to the original 9 seconds! That's less than half the amount of the original time!\n"
      ],
      "metadata": {
        "id": "FNPaJIXIH-N2"
      }
    },
    {
      "cell_type": "markdown",
      "source": [
        "### **Optimize - Example 2: Simulate Multiple HTTP Requests**\n",
        "\n",
        "We can also optimize the [second example](#scrollTo=TGrnvACmHU9J) using `async`, `await`, and `asyncio`"
      ],
      "metadata": {
        "id": "JCXKEIXM_zFh"
      }
    },
    {
      "cell_type": "code",
      "source": [
        "# This is to control our simulation\n",
        "random.seed(0)\n",
        "\n",
        "\n",
        "async def async_sim_request(n):\n",
        "  print(f\"Starting processing task: {n}\")\n",
        "\n",
        "  # Pick random int between 2 to 4\n",
        "  delay = random.randint(2, 4)\n",
        "  print(f\"Process time: {delay} second(s)\")\n",
        "\n",
        "  # Randomly delay between 2 to 4 seconds to simulate the time it takes to perform tasks\n",
        "  await asyncio.sleep(delay)\n",
        "  print(f\"Finished processing task: {n}\")\n",
        "\n",
        "\n",
        "async def async_make_n_requests(n):\n",
        "  tasks = []\n",
        "\n",
        "  # Instead of performing the task right away, first create a list of tasks\n",
        "  for i in range(1, n + 1):\n",
        "    tasks.append(async_sim_request(i))\n",
        "\n",
        "  # Then afterwards execute all the tasks asynchronously at once\n",
        "  await asyncio.gather(*tasks)\n",
        "\n",
        "\n",
        "\n",
        "# Execute our code and time it\n",
        "start_time = time.perf_counter()\n",
        "\n",
        "# Use this only in Colab or Jupyter notebooks since there is already an existing event loop running in colab\n",
        "await async_make_n_requests(3)\n",
        "\n",
        "# In your python script files (.py) comment out the above line and use this line below instead\n",
        "# asyncio.run(async_do_n_tasks(3))\n",
        "\n",
        "print(\"---\")\n",
        "\n",
        "end_time = time.perf_counter()\n",
        "\n",
        "# Log the time it takes to finish operation\n",
        "print(f\"Finished in {end_time - start_time:.2f} seconds\")"
      ],
      "metadata": {
        "colab": {
          "base_uri": "https://localhost:8080/"
        },
        "id": "C7ZBBfYCQrXv",
        "outputId": "149861ff-6c7a-49e3-e9a0-6e08a50d3461"
      },
      "execution_count": null,
      "outputs": [
        {
          "output_type": "stream",
          "name": "stdout",
          "text": [
            "Starting processing task: 1\n",
            "Process time: 3 second(s)\n",
            "Starting processing task: 2\n",
            "Process time: 3 second(s)\n",
            "Starting processing task: 3\n",
            "Process time: 2 second(s)\n",
            "Finished processing task: 3\n",
            "Finished processing task: 1\n",
            "Finished processing task: 2\n",
            "---\n",
            "Finished in 3.00 seconds\n"
          ]
        }
      ]
    },
    {
      "cell_type": "markdown",
      "source": [
        "\n",
        "<div align=\"center\">\n",
        "<img src=\"https://y.yarn.co/d391ed43-a8b9-46c5-83f8-f81ed05c58ab_text.gif\" alt=\"hip hip hooray gif\" style=/>\n",
        "<figcaption>Hip hip hooray!!!</figcaption>\n",
        "</div>\n",
        "\n",
        "We've successfully optimized our code again! It now takes around 3 seconds to run our code instead of the original 8 seconds!"
      ],
      "metadata": {
        "id": "_45q3W6cKXyU"
      }
    },
    {
      "cell_type": "markdown",
      "source": [
        "## **Exercise: Asynchronous API Calls**\n",
        "\n",
        "In this exercise, we will be speeding up multiple API calls using coroutines.\n",
        "\n",
        "**Scenario**\n",
        "\n",
        "You're interested in multiple [NASA API](https://api.nasa.gov/)'s Astronomy Picture of the Day (APOD) from the past year but waiting for all of them takes a while. How can we optimize our code so we don't have to wait forever?"
      ],
      "metadata": {
        "id": "Lt4pMMM6LbI9"
      }
    },
    {
      "cell_type": "markdown",
      "source": [
        "### Install Asynchronous HTTP Library\n",
        "`requests` cannot leverage the asynchronous capabilities of python so we'll need to use another library that can: `httpx`\n",
        "\n",
        "> Note: In the next class, we'll explore multithreading as an alternative solution for libraries that don't fully support Python's coroutine features.\n",
        "\n"
      ],
      "metadata": {
        "id": "WHcR7u3NH-r-"
      }
    },
    {
      "cell_type": "code",
      "source": [
        "!pip install httpx"
      ],
      "metadata": {
        "colab": {
          "base_uri": "https://localhost:8080/"
        },
        "id": "JkjGeQG0WYQ1",
        "outputId": "75923e45-ca40-4549-af21-ec3abad4dbe7"
      },
      "execution_count": null,
      "outputs": [
        {
          "output_type": "stream",
          "name": "stdout",
          "text": [
            "Collecting httpx\n",
            "  Downloading httpx-0.27.2-py3-none-any.whl.metadata (7.1 kB)\n",
            "Requirement already satisfied: anyio in /usr/local/lib/python3.10/dist-packages (from httpx) (3.7.1)\n",
            "Requirement already satisfied: certifi in /usr/local/lib/python3.10/dist-packages (from httpx) (2024.8.30)\n",
            "Collecting httpcore==1.* (from httpx)\n",
            "  Downloading httpcore-1.0.6-py3-none-any.whl.metadata (21 kB)\n",
            "Requirement already satisfied: idna in /usr/local/lib/python3.10/dist-packages (from httpx) (3.10)\n",
            "Requirement already satisfied: sniffio in /usr/local/lib/python3.10/dist-packages (from httpx) (1.3.1)\n",
            "Collecting h11<0.15,>=0.13 (from httpcore==1.*->httpx)\n",
            "  Downloading h11-0.14.0-py3-none-any.whl.metadata (8.2 kB)\n",
            "Requirement already satisfied: exceptiongroup in /usr/local/lib/python3.10/dist-packages (from anyio->httpx) (1.2.2)\n",
            "Downloading httpx-0.27.2-py3-none-any.whl (76 kB)\n",
            "\u001b[2K   \u001b[90m━━━━━━━━━━━━━━━━━━━━━━━━━━━━━━━━━━━━━━━━\u001b[0m \u001b[32m76.4/76.4 kB\u001b[0m \u001b[31m7.1 MB/s\u001b[0m eta \u001b[36m0:00:00\u001b[0m\n",
            "\u001b[?25hDownloading httpcore-1.0.6-py3-none-any.whl (78 kB)\n",
            "\u001b[2K   \u001b[90m━━━━━━━━━━━━━━━━━━━━━━━━━━━━━━━━━━━━━━━━\u001b[0m \u001b[32m78.0/78.0 kB\u001b[0m \u001b[31m6.5 MB/s\u001b[0m eta \u001b[36m0:00:00\u001b[0m\n",
            "\u001b[?25hDownloading h11-0.14.0-py3-none-any.whl (58 kB)\n",
            "\u001b[2K   \u001b[90m━━━━━━━━━━━━━━━━━━━━━━━━━━━━━━━━━━━━━━━━\u001b[0m \u001b[32m58.3/58.3 kB\u001b[0m \u001b[31m5.1 MB/s\u001b[0m eta \u001b[36m0:00:00\u001b[0m\n",
            "\u001b[?25hInstalling collected packages: h11, httpcore, httpx\n",
            "Successfully installed h11-0.14.0 httpcore-1.0.6 httpx-0.27.2\n"
          ]
        }
      ]
    },
    {
      "cell_type": "markdown",
      "source": [
        "### Import Libraries\n",
        "\n",
        "- `httpx`: Asynchronous HTTP library that handles async requests\n",
        "- `requests`: Synchronous HTTP library\n",
        "- `typing`: For type hints\n",
        "- `dataclasses`: Classes purely for storing data\n",
        "- `datetime`: Date and time library\n",
        "- `IPython.display`: Display images\n",
        "- `rich`: For rich text formatting\n",
        "- `google.colab.userdata`: For Colab Secrets management"
      ],
      "metadata": {
        "id": "4eoc9I9m_muc"
      }
    },
    {
      "cell_type": "code",
      "source": [
        "import httpx\n",
        "import requests\n",
        "\n",
        "from typing import Generator\n",
        "from dataclasses import dataclass\n",
        "import datetime\n",
        "\n",
        "from IPython.display import Image, display\n",
        "from rich.pretty import pprint\n",
        "\n",
        "from google.colab import userdata"
      ],
      "metadata": {
        "id": "0WfmI9vIKcjI"
      },
      "execution_count": null,
      "outputs": []
    },
    {
      "cell_type": "markdown",
      "source": [
        "### Store API Key in Colab Secrets\n",
        "\n",
        "See the 🔑 icon on the left side of your Colab notebook? That is where you should store your secrets. Copy your api key that you got from NASA API and store it there. Give it a name of `nasa_key`.\n",
        "\n",
        "We can then access the api key safely in our code by running the below cell\n",
        "\n",
        "> 🚨 Never store your api keys directly inside your code as a string. It is extremely unsafe."
      ],
      "metadata": {
        "id": "nP71r7ONUDqi"
      }
    },
    {
      "cell_type": "code",
      "source": [
        "# NASA API key\n",
        "nasa_key = userdata.get('nasa_key')"
      ],
      "metadata": {
        "id": "yhgkkx3zUB1I"
      },
      "execution_count": null,
      "outputs": []
    },
    {
      "cell_type": "markdown",
      "source": [
        "Store the APOD API endpoint"
      ],
      "metadata": {
        "id": "-9_ZpJBVCHzQ"
      }
    },
    {
      "cell_type": "code",
      "source": [
        "# store the astronomy picture of the day api endpoint\n",
        "apod_endpoint = 'https://api.nasa.gov/planetary/apod'"
      ],
      "metadata": {
        "id": "nVRBkFhNBinJ"
      },
      "execution_count": null,
      "outputs": []
    },
    {
      "cell_type": "markdown",
      "source": [
        "### Helper Functions\n",
        "\n",
        "Let's write some helper functions to help us with:\n",
        "- storing the APOD information\n",
        "- getting the first day of each month in a year\n",
        "- constructing the api endpoints with parameters\n",
        "- displaying the apod"
      ],
      "metadata": {
        "id": "Bv0AjyO1CMuL"
      }
    },
    {
      "cell_type": "code",
      "source": [
        "@dataclass\n",
        "class APOD:\n",
        "  title: str\n",
        "  date: str\n",
        "  explanation: str\n",
        "  url: str\n",
        "\n",
        "\n",
        "def first_day_of_months_generator(year: int) -> Generator:\n",
        "  for month in range(1, 13):\n",
        "    yield datetime.date(year, month, 1).strftime('%Y-%m-%d')\n",
        "\n",
        "\n",
        "def create_endpoint(endpoint: str, api_key: str, **params) -> str:\n",
        "  endpoint = endpoint + \"?\"\n",
        "  for k, v in params.items():\n",
        "    endpoint = endpoint + f\"{k}={v}&\"\n",
        "  endpoint = endpoint + f\"api_key={api_key}\"\n",
        "  return endpoint\n",
        "\n",
        "\n",
        "def display_apods(apods: list[APOD]) -> None:\n",
        "  import textwrap  # For wrapping text\n",
        "\n",
        "  for apod in apods:\n",
        "    print(f\"Title: {apod.title}\")\n",
        "    print(f\"Date: {apod.date}\")\n",
        "    print(f\"Explanation: {textwrap.fill(apod.explanation, width=80)}\")\n",
        "    display(Image(url=apod.url, width=700))\n",
        "    print(\"---\")"
      ],
      "metadata": {
        "id": "AomUytdMBy2k"
      },
      "execution_count": null,
      "outputs": []
    },
    {
      "cell_type": "markdown",
      "source": [
        "### Sync API Calls\n",
        "\n",
        "Now let's first try using the `request` library (synchronous) to make the API calls"
      ],
      "metadata": {
        "id": "O_hsjEhuDB7g"
      }
    },
    {
      "cell_type": "code",
      "source": [
        "# Create a function that makes the synchronous api calls\n",
        "def get_apods(dates: Generator, endpoint: str, api_key: str, **params):\n",
        "  result = []\n",
        "  with requests.Session() as session:\n",
        "    for date in dates:\n",
        "      pprint(f\"Getting APOD for: {date}\")\n",
        "      url = create_endpoint(endpoint, api_key, date=date, **params)\n",
        "      resp = session.get(url)\n",
        "      resp.raise_for_status()\n",
        "      result.append(\n",
        "          APOD(\n",
        "              title=resp.json()['title'],\n",
        "              date=resp.json()['date'],\n",
        "              explanation=resp.json()['explanation'],\n",
        "              url=resp.json()['url']\n",
        "          )\n",
        "      )\n",
        "  return result\n",
        "\n",
        "\n",
        "# Call and time our function\n",
        "start_time = time.perf_counter()\n",
        "\n",
        "results = get_apods(first_day_of_months_generator(2023), apod_endpoint, nasa_key, thumbs=True)\n",
        "print(\"---\")\n",
        "pprint(results)\n",
        "\n",
        "print(\"---\")\n",
        "pprint(f\"Finished in {time.perf_counter() - start_time:.2f} seconds\")"
      ],
      "metadata": {
        "colab": {
          "base_uri": "https://localhost:8080/",
          "height": 1000
        },
        "id": "WUG7E4gUWPMz",
        "outputId": "a6ca220b-d537-4584-a678-2f8ccd57dc27"
      },
      "execution_count": null,
      "outputs": [
        {
          "output_type": "display_data",
          "data": {
            "text/plain": [
              "\u001b[32m'Getting APOD for: 2023-01-01'\u001b[0m\n"
            ],
            "text/html": [
              "<pre style=\"white-space:pre;overflow-x:auto;line-height:normal;font-family:Menlo,'DejaVu Sans Mono',consolas,'Courier New',monospace\"><span style=\"color: #008000; text-decoration-color: #008000\">'Getting APOD for: 2023-01-01'</span>\n",
              "</pre>\n"
            ]
          },
          "metadata": {}
        },
        {
          "output_type": "display_data",
          "data": {
            "text/plain": [
              "\u001b[32m'Getting APOD for: 2023-02-01'\u001b[0m\n"
            ],
            "text/html": [
              "<pre style=\"white-space:pre;overflow-x:auto;line-height:normal;font-family:Menlo,'DejaVu Sans Mono',consolas,'Courier New',monospace\"><span style=\"color: #008000; text-decoration-color: #008000\">'Getting APOD for: 2023-02-01'</span>\n",
              "</pre>\n"
            ]
          },
          "metadata": {}
        },
        {
          "output_type": "display_data",
          "data": {
            "text/plain": [
              "\u001b[32m'Getting APOD for: 2023-03-01'\u001b[0m\n"
            ],
            "text/html": [
              "<pre style=\"white-space:pre;overflow-x:auto;line-height:normal;font-family:Menlo,'DejaVu Sans Mono',consolas,'Courier New',monospace\"><span style=\"color: #008000; text-decoration-color: #008000\">'Getting APOD for: 2023-03-01'</span>\n",
              "</pre>\n"
            ]
          },
          "metadata": {}
        },
        {
          "output_type": "display_data",
          "data": {
            "text/plain": [
              "\u001b[32m'Getting APOD for: 2023-04-01'\u001b[0m\n"
            ],
            "text/html": [
              "<pre style=\"white-space:pre;overflow-x:auto;line-height:normal;font-family:Menlo,'DejaVu Sans Mono',consolas,'Courier New',monospace\"><span style=\"color: #008000; text-decoration-color: #008000\">'Getting APOD for: 2023-04-01'</span>\n",
              "</pre>\n"
            ]
          },
          "metadata": {}
        },
        {
          "output_type": "display_data",
          "data": {
            "text/plain": [
              "\u001b[32m'Getting APOD for: 2023-05-01'\u001b[0m\n"
            ],
            "text/html": [
              "<pre style=\"white-space:pre;overflow-x:auto;line-height:normal;font-family:Menlo,'DejaVu Sans Mono',consolas,'Courier New',monospace\"><span style=\"color: #008000; text-decoration-color: #008000\">'Getting APOD for: 2023-05-01'</span>\n",
              "</pre>\n"
            ]
          },
          "metadata": {}
        },
        {
          "output_type": "display_data",
          "data": {
            "text/plain": [
              "\u001b[32m'Getting APOD for: 2023-06-01'\u001b[0m\n"
            ],
            "text/html": [
              "<pre style=\"white-space:pre;overflow-x:auto;line-height:normal;font-family:Menlo,'DejaVu Sans Mono',consolas,'Courier New',monospace\"><span style=\"color: #008000; text-decoration-color: #008000\">'Getting APOD for: 2023-06-01'</span>\n",
              "</pre>\n"
            ]
          },
          "metadata": {}
        },
        {
          "output_type": "display_data",
          "data": {
            "text/plain": [
              "\u001b[32m'Getting APOD for: 2023-07-01'\u001b[0m\n"
            ],
            "text/html": [
              "<pre style=\"white-space:pre;overflow-x:auto;line-height:normal;font-family:Menlo,'DejaVu Sans Mono',consolas,'Courier New',monospace\"><span style=\"color: #008000; text-decoration-color: #008000\">'Getting APOD for: 2023-07-01'</span>\n",
              "</pre>\n"
            ]
          },
          "metadata": {}
        },
        {
          "output_type": "display_data",
          "data": {
            "text/plain": [
              "\u001b[32m'Getting APOD for: 2023-08-01'\u001b[0m\n"
            ],
            "text/html": [
              "<pre style=\"white-space:pre;overflow-x:auto;line-height:normal;font-family:Menlo,'DejaVu Sans Mono',consolas,'Courier New',monospace\"><span style=\"color: #008000; text-decoration-color: #008000\">'Getting APOD for: 2023-08-01'</span>\n",
              "</pre>\n"
            ]
          },
          "metadata": {}
        },
        {
          "output_type": "display_data",
          "data": {
            "text/plain": [
              "\u001b[32m'Getting APOD for: 2023-09-01'\u001b[0m\n"
            ],
            "text/html": [
              "<pre style=\"white-space:pre;overflow-x:auto;line-height:normal;font-family:Menlo,'DejaVu Sans Mono',consolas,'Courier New',monospace\"><span style=\"color: #008000; text-decoration-color: #008000\">'Getting APOD for: 2023-09-01'</span>\n",
              "</pre>\n"
            ]
          },
          "metadata": {}
        },
        {
          "output_type": "display_data",
          "data": {
            "text/plain": [
              "\u001b[32m'Getting APOD for: 2023-10-01'\u001b[0m\n"
            ],
            "text/html": [
              "<pre style=\"white-space:pre;overflow-x:auto;line-height:normal;font-family:Menlo,'DejaVu Sans Mono',consolas,'Courier New',monospace\"><span style=\"color: #008000; text-decoration-color: #008000\">'Getting APOD for: 2023-10-01'</span>\n",
              "</pre>\n"
            ]
          },
          "metadata": {}
        },
        {
          "output_type": "display_data",
          "data": {
            "text/plain": [
              "\u001b[32m'Getting APOD for: 2023-11-01'\u001b[0m\n"
            ],
            "text/html": [
              "<pre style=\"white-space:pre;overflow-x:auto;line-height:normal;font-family:Menlo,'DejaVu Sans Mono',consolas,'Courier New',monospace\"><span style=\"color: #008000; text-decoration-color: #008000\">'Getting APOD for: 2023-11-01'</span>\n",
              "</pre>\n"
            ]
          },
          "metadata": {}
        },
        {
          "output_type": "display_data",
          "data": {
            "text/plain": [
              "\u001b[32m'Getting APOD for: 2023-12-01'\u001b[0m\n"
            ],
            "text/html": [
              "<pre style=\"white-space:pre;overflow-x:auto;line-height:normal;font-family:Menlo,'DejaVu Sans Mono',consolas,'Courier New',monospace\"><span style=\"color: #008000; text-decoration-color: #008000\">'Getting APOD for: 2023-12-01'</span>\n",
              "</pre>\n"
            ]
          },
          "metadata": {}
        },
        {
          "output_type": "stream",
          "name": "stdout",
          "text": [
            "---\n"
          ]
        },
        {
          "output_type": "display_data",
          "data": {
            "text/plain": [
              "\u001b[1m[\u001b[0m\n",
              "\u001b[2;32m│   \u001b[0m\u001b[1;35mAPOD\u001b[0m\u001b[1m(\u001b[0m\n",
              "\u001b[2;32m│   │   \u001b[0m\u001b[33mtitle\u001b[0m=\u001b[32m'The Largest Rock in our Solar System'\u001b[0m,\n",
              "\u001b[2;32m│   │   \u001b[0m\u001b[33mdate\u001b[0m=\u001b[32m'2023-01-01'\u001b[0m,\n",
              "\u001b[2;32m│   │   \u001b[0m\u001b[33mexplanation\u001b[0m=\u001b[32m\"There\u001b[0m\u001b[32m, that dot on the right, that's the largest rock known in our Solar System. It is larger than every known asteroid, moon, and comet nucleus.  It is larger than any other local rocky planet.  This rock is so large its gravity makes it into a large ball that holds heavy gases near its surface.  \u001b[0m\u001b[32m(\u001b[0m\u001b[32mIt used to be the largest known rock of any type until the recent discoveries of large dense planets orbiting other stars.\u001b[0m\u001b[32m)\u001b[0m\u001b[32m  The Voyager 1 spacecraft took the featured picture -- famously called Pale Blue Dot -- of this giant space rock in 1990 from the outer Solar System.  Today, this rock starts another orbit around its parent star, for roughly the 5 billionth time, spinning over 350 times during each trip.  Happy Gregorian Calendar New Year to all inhabitants of this rock we call Earth.\"\u001b[0m,\n",
              "\u001b[2;32m│   │   \u001b[0m\u001b[33murl\u001b[0m=\u001b[32m'https://apod.nasa.gov/apod/image/2301/PaleBlueDotOrig_Voyager1_960.jpg'\u001b[0m\n",
              "\u001b[2;32m│   \u001b[0m\u001b[1m)\u001b[0m,\n",
              "\u001b[2;32m│   \u001b[0m\u001b[1;35mAPOD\u001b[0m\u001b[1m(\u001b[0m\n",
              "\u001b[2;32m│   │   \u001b[0m\u001b[33mtitle\u001b[0m=\u001b[32m'The Seventh World of Trappist-1'\u001b[0m,\n",
              "\u001b[2;32m│   │   \u001b[0m\u001b[33mdate\u001b[0m=\u001b[32m'2023-02-01'\u001b[0m,\n",
              "\u001b[2;32m│   │   \u001b[0m\u001b[33mexplanation\u001b[0m=\u001b[32m\"Seven\u001b[0m\u001b[32m worlds orbit the ultracool dwarf star TRAPPIST-1. A mere 40 light-years away, many of the exoplanets were discovered in 2016 using the Transiting Planets and Planetesimals Small Telescope \u001b[0m\u001b[32m(\u001b[0m\u001b[32mTRAPPIST\u001b[0m\u001b[32m)\u001b[0m\u001b[32m located at  La Silla Observatory in Chile and later confirmed with telescope including NASA's Spitzer Space Telescope. The TRAPPIST-1 planets are likely all rocky and similar in size to Earth, and so compose one of the largest treasure troves of terrestrial planets ever detected around a single star. Because they orbit very close to their faint, tiny star they could also have regions where surface temperatures allow for the presence of ice or even liquid water, a key ingredient for life. Their tantalizing proximity to Earth makes them prime candidates for future telescopic explorations of the atmospheres of potentially habitable planets.  All seven exoplanets appear in the featured illustration, which imagines a view from the most distant known world of this system, TRAPPIST-1h, as having a rocky landscape covered in ice. Meanwhile, in the imagined background, one of the system's inner planets crosses in front of the dim, orange, nearly Jupiter-sized parent star.   Astrophysicists: Browse 3,000+ codes in the Astrophysics Source Code Library\"\u001b[0m,\n",
              "\u001b[2;32m│   │   \u001b[0m\u001b[33murl\u001b[0m=\u001b[32m'https://apod.nasa.gov/apod/image/2302/Trappist1h_Carroll_960.jpg'\u001b[0m\n",
              "\u001b[2;32m│   \u001b[0m\u001b[1m)\u001b[0m,\n",
              "\u001b[2;32m│   \u001b[0m\u001b[1;35mAPOD\u001b[0m\u001b[1m(\u001b[0m\n",
              "\u001b[2;32m│   │   \u001b[0m\u001b[33mtitle\u001b[0m=\u001b[32m'The Flaming Star Nebula'\u001b[0m,\n",
              "\u001b[2;32m│   │   \u001b[0m\u001b[33mdate\u001b[0m=\u001b[32m'2023-03-01'\u001b[0m,\n",
              "\u001b[2;32m│   │   \u001b[0m\u001b[33mexplanation\u001b[0m=\u001b[32m\"Is\u001b[0m\u001b[32m star AE Aurigae on fire? No.  Even though AE Aurigae is named the Flaming Star and the surrounding nebula IC 405 is named the Flaming Star Nebula, and even though the nebula appears to some like a swirling flame, there is no fire.  Fire, typically defined as the rapid molecular acquisition of oxygen, happens only when sufficient oxygen is present and is not important in such high-energy, low-oxygen environments such as stars.  The bright star AE Aurigae occurs near the center of the Flaming Star Nebula and is so hot it glows blue, emitting light so energetic it knocks electrons away from surrounding gas. When a proton recaptures an electron, light is emitted, as seen in the surrounding emission nebula.  Captured here three weeks ago, the Flaming Star Nebula is visible near the composite image's center, between the red Tadpole Nebula on the left and blue-tailed Comet ZTF on the right.  The Flaming Star Nebula lies about 1,500 light years distant, spans about 5 light years, and is visible with a small telescope toward the constellation of the Charioteer \u001b[0m\u001b[32m(\u001b[0m\u001b[32mAuriga\u001b[0m\u001b[32m)\u001b[0m\u001b[32m.\"\u001b[0m,\n",
              "\u001b[2;32m│   │   \u001b[0m\u001b[33murl\u001b[0m=\u001b[32m'https://apod.nasa.gov/apod/image/2303/FlamingStarComet_Roell_1080.jpg'\u001b[0m\n",
              "\u001b[2;32m│   \u001b[0m\u001b[1m)\u001b[0m,\n",
              "\u001b[2;32m│   \u001b[0m\u001b[1;35mAPOD\u001b[0m\u001b[1m(\u001b[0m\n",
              "\u001b[2;32m│   │   \u001b[0m\u001b[33mtitle\u001b[0m=\u001b[32m'NGC 2442: Galaxy in Volans'\u001b[0m,\n",
              "\u001b[2;32m│   │   \u001b[0m\u001b[33mdate\u001b[0m=\u001b[32m'2023-04-01'\u001b[0m,\n",
              "\u001b[2;32m│   │   \u001b[0m\u001b[33mexplanation\u001b[0m=\u001b[32m\"Distorted\u001b[0m\u001b[32m galaxy NGC 2442 can be found in the southern constellation of the flying fish, \u001b[0m\u001b[32m(\u001b[0m\u001b[32mPiscis\u001b[0m\u001b[32m)\u001b[0m\u001b[32m Volans. Located about 50 million light-years away, the galaxy's two spiral arms extending from a pronounced central bar give it a hook-shaped appearance in this deep colorful image, with spiky foreground stars scattered across the telescopic field of view. The image also reveals the distant galaxy's obscuring dust lanes, young blue star clusters and reddish star forming regions surrounding a core of yellowish light from an older population of stars. But the star forming regions seem more concentrated along the drawn-out \u001b[0m\u001b[32m(\u001b[0m\u001b[32mupper right\u001b[0m\u001b[32m)\u001b[0m\u001b[32m spiral arm. The distorted structure is likely the result of an ancient close encounter with the smaller galaxy seen near the top left of the frame. The two interacting galaxies are separated by about 150,000 light-years at the estimated distance of NGC 2442.\"\u001b[0m,\n",
              "\u001b[2;32m│   │   \u001b[0m\u001b[33murl\u001b[0m=\u001b[32m'https://apod.nasa.gov/apod/image/2304/NGC2442-NicolasROLLAND_signatur1024.jpg'\u001b[0m\n",
              "\u001b[2;32m│   \u001b[0m\u001b[1m)\u001b[0m,\n",
              "\u001b[2;32m│   \u001b[0m\u001b[1;35mAPOD\u001b[0m\u001b[1m(\u001b[0m\n",
              "\u001b[2;32m│   │   \u001b[0m\u001b[33mtitle\u001b[0m=\u001b[32m'Carina Nebula North'\u001b[0m,\n",
              "\u001b[2;32m│   │   \u001b[0m\u001b[33mdate\u001b[0m=\u001b[32m'2023-05-01'\u001b[0m,\n",
              "\u001b[2;32m│   │   \u001b[0m\u001b[33mexplanation\u001b[0m=\u001b[32m'The Great Carina Nebula is home to strange stars and iconic nebulas. Named for its home constellation, the huge star-forming region is larger and brighter than the Great Orion Nebula but less well known because it is so far south -- and because so much of humanity lives so far north.  The featured image shows in great detail the northernmost part of the Carina Nebula. On the bottom left is the Gabriela Mistral Nebula consisting of an emission nebula of glowing gas \u001b[0m\u001b[32m(\u001b[0m\u001b[32mIC 2599\u001b[0m\u001b[32m)\u001b[0m\u001b[32m surrounding the small open cluster of stars \u001b[0m\u001b[32m(\u001b[0m\u001b[32mNGC 3324\u001b[0m\u001b[32m)\u001b[0m\u001b[32m. Above the image center is the larger star cluster NGC 3293, while to its right is the emission nebula Loden 153.  The most famous occupant of the Carina Nebula, however, is not shown. Off the image to the lower right is the bright, erratic, and doomed star known as Eta Carinae -- a star once one of the brightest stars in the sky and now predicted to explode in a supernova sometime in the next few million years.'\u001b[0m,\n",
              "\u001b[2;32m│   │   \u001b[0m\u001b[33murl\u001b[0m=\u001b[32m'https://apod.nasa.gov/apod/image/2305/CarNorth_Taylor_960.jpg'\u001b[0m\n",
              "\u001b[2;32m│   \u001b[0m\u001b[1m)\u001b[0m,\n",
              "\u001b[2;32m│   \u001b[0m\u001b[1;35mAPOD\u001b[0m\u001b[1m(\u001b[0m\n",
              "\u001b[2;32m│   │   \u001b[0m\u001b[33mtitle\u001b[0m=\u001b[32m'Recycling Cassiopeia A'\u001b[0m,\n",
              "\u001b[2;32m│   │   \u001b[0m\u001b[33mdate\u001b[0m=\u001b[32m'2023-06-01'\u001b[0m,\n",
              "\u001b[2;32m│   │   \u001b[0m\u001b[33mexplanation\u001b[0m=\u001b[32m\"Massive\u001b[0m\u001b[32m stars in our Milky Way Galaxy live spectacular lives.  Collapsing from vast cosmic clouds, their nuclear furnaces ignite and create heavy elements in their cores. After a few million years, the enriched material is blasted back into interstellar space where star formation can begin anew. The expanding debris cloud known as Cassiopeia A is an example of this final phase of the stellar life cycle. Light from the explosion which created this supernova remnant would have been first seen in planet Earth's sky about 350 years ago, although it took that light about 11,000 years to reach us. This false-color image, composed of X-ray and optical image data from the Chandra X-ray Observatory and Hubble Space Telescope, shows the still hot filaments and knots in the remnant. It spans about 30 light-years at the estimated distance of Cassiopeia A. High-energy X-ray emission from specific elements has been color coded, silicon in red, sulfur in yellow, calcium in green and iron in purple, to help astronomers explore the recycling of our galaxy's star stuff. Still expanding, the outer blast wave is seen in blue hues. The bright speck near the center is a neutron star, the incredibly dense, collapsed remains of the massive stellar core.\"\u001b[0m,\n",
              "\u001b[2;32m│   │   \u001b[0m\u001b[33murl\u001b[0m=\u001b[32m'https://apod.nasa.gov/apod/image/2306/Chandrafirstlight_0_1024.jpg'\u001b[0m\n",
              "\u001b[2;32m│   \u001b[0m\u001b[1m)\u001b[0m,\n",
              "\u001b[2;32m│   \u001b[0m\u001b[1;35mAPOD\u001b[0m\u001b[1m(\u001b[0m\n",
              "\u001b[2;32m│   │   \u001b[0m\u001b[33mtitle\u001b[0m=\u001b[32m'Three Galaxies in Draco'\u001b[0m,\n",
              "\u001b[2;32m│   │   \u001b[0m\u001b[33mdate\u001b[0m=\u001b[32m'2023-07-01'\u001b[0m,\n",
              "\u001b[2;32m│   │   \u001b[0m\u001b[33mexplanation\u001b[0m=\u001b[32m'This tantalizing trio of galaxies sometimes called the Draco Group, is located in the northern constellation of \u001b[0m\u001b[32m(\u001b[0m\u001b[32myou guessed it\u001b[0m\u001b[32m)\u001b[0m\u001b[32m Draco, the Dragon. From left to right are face-on spiral NGC 5985, elliptical galaxy NGC 5982, and edge-on spiral NGC 5981, all found within this single telescopic field of view that spans a little more than the width of the full moon. While the group is far too small to be a galaxy cluster, and has not been catalogued as a compact galaxy group, the three galaxies all do lie roughly 100 million light-years from planet Earth. Not as well known as other tight groupings of galaxies, the contrast in visual appearance still makes this triplet an attractive subject for astroimagers. On close examination with spectrographs, the bright core of striking spiral NGC 5985 shows prominent emission in specific wavelengths of light, prompting astronomers to classify it as a Seyfert, a type of active galaxy. This impressively deep exposure hints at a faint dim halo along with sharp-edged shells surrounding elliptical NGC 5982, evidence of past galactic mergers. It also reveals many even more distant background galaxies.'\u001b[0m,\n",
              "\u001b[2;32m│   │   \u001b[0m\u001b[33murl\u001b[0m=\u001b[32m'https://apod.nasa.gov/apod/image/2307/DracoTrio_TeamOmicron1024.jpg'\u001b[0m\n",
              "\u001b[2;32m│   \u001b[0m\u001b[1m)\u001b[0m,\n",
              "\u001b[2;32m│   \u001b[0m\u001b[1;35mAPOD\u001b[0m\u001b[1m(\u001b[0m\n",
              "\u001b[2;32m│   │   \u001b[0m\u001b[33mtitle\u001b[0m=\u001b[32m'Monster Solar Prominence'\u001b[0m,\n",
              "\u001b[2;32m│   │   \u001b[0m\u001b[33mdate\u001b[0m=\u001b[32m'2023-08-01'\u001b[0m,\n",
              "\u001b[2;32m│   │   \u001b[0m\u001b[33mexplanation\u001b[0m=\u001b[32m'The monsters that live on the Sun are not like us. They are larger than the Earth and made of gas hotter than in any teapot. They have no eyes, but at times, many tentacles. They float.  Usually, they slowly change shape and just fade back onto the Sun over about a month. Sometimes, though, they suddenly explode and unleash\\xa0energetic particles into the Solar System that can attack the Earth.\\xa0 Pictured is a huge solar prominence imaged almost two weeks ago in the light of hydrogen. Captured by a small telescope in Gilbert, Arizona, USA, the monsteresque plume of gas was held aloft by the ever-present but ever-changing magnetic field near the surface of the Sun. Our active Sun continues to show an unusually\\xa0high number\\xa0of prominences, filaments, sunspots, and large active regions\\xa0as solar maximum approaches in 2025.'\u001b[0m,\n",
              "\u001b[2;32m│   │   \u001b[0m\u001b[33murl\u001b[0m=\u001b[32m'https://apod.nasa.gov/apod/image/2308/SunMonster_Wenz_960.jpg'\u001b[0m\n",
              "\u001b[2;32m│   \u001b[0m\u001b[1m)\u001b[0m,\n",
              "\u001b[2;32m│   \u001b[0m\u001b[1;35mAPOD\u001b[0m\u001b[1m(\u001b[0m\n",
              "\u001b[2;32m│   │   \u001b[0m\u001b[33mtitle\u001b[0m=\u001b[32m'The Great Globular Cluster in Hercules'\u001b[0m,\n",
              "\u001b[2;32m│   │   \u001b[0m\u001b[33mdate\u001b[0m=\u001b[32m'2023-09-01'\u001b[0m,\n",
              "\u001b[2;32m│   │   \u001b[0m\u001b[33mexplanation\u001b[0m=\u001b[32m'In 1716, English astronomer Edmond Halley noted, \"This is but a little Patch, but it shows itself to the naked Eye, when the Sky is serene and the Moon absent.\" Of course, M13 is now less modestly recognized as the Great Globular Cluster in Hercules, one of the brightest globular star clusters in the northern sky. Sharp telescopic views like this one reveal the spectacular cluster\\'s hundreds of thousands of stars. At a distance of 25,000 light-years, the cluster stars crowd into a region 150 light-years in diameter. Approaching the cluster core, upwards of 100 stars could be contained in a cube just 3 light-years on a side. For comparison, the closest star to the Sun is over 4 light-years away. The remarkable range of brightness recorded in this image follows stars into the dense cluster core.'\u001b[0m,\n",
              "\u001b[2;32m│   │   \u001b[0m\u001b[33murl\u001b[0m=\u001b[32m'https://apod.nasa.gov/apod/image/2309/M13-totale-en-cours-crop8_1024.jpg'\u001b[0m\n",
              "\u001b[2;32m│   \u001b[0m\u001b[1m)\u001b[0m,\n",
              "\u001b[2;32m│   \u001b[0m\u001b[1;35mAPOD\u001b[0m\u001b[1m(\u001b[0m\n",
              "\u001b[2;32m│   │   \u001b[0m\u001b[33mtitle\u001b[0m=\u001b[32m'A Desert Eclipse'\u001b[0m,\n",
              "\u001b[2;32m│   │   \u001b[0m\u001b[33mdate\u001b[0m=\u001b[32m'2023-10-01'\u001b[0m,\n",
              "\u001b[2;32m│   │   \u001b[0m\u001b[33mexplanation\u001b[0m=\u001b[32m'A good place to see a ring-of-fire eclipse, it seemed, would be from a desert. In a desert, there should be relatively few obscuring clouds and trees.  Therefore late December of 2019, a group of photographers traveled to the United Arab Emirates and Rub al-Khali, the largest continuous sand desert in world, to capture clear images of an unusual eclipse that would be passing over.  A ring-of-fire eclipse is an annular eclipse that occurs when the Moon is far enough away on its elliptical orbit around the Earth so that it appears too small, angularly, to cover the entire Sun. At the maximum of an annular eclipse, the edges of the Sun can be seen all around the edges of the Moon, so that the Moon appears to be a dark spot that covers most -- but not all -- of the Sun. This particular eclipse, they knew, would peak soon after sunrise.  After seeking out such a dry and barren place, it turned out that some of the most interesting eclipse images actually included a tree in the foreground, because, in addition to the sand dunes, the tree gave the surreal background a contrasting sense of normalcy, scale, and texture.  On Saturday, October 14, a new ring of fire will be visible through clear skies from a thin swath crossing both North and South America.'\u001b[0m,\n",
              "\u001b[2;32m│   │   \u001b[0m\u001b[33murl\u001b[0m=\u001b[32m'https://apod.nasa.gov/apod/image/2310/DesertEclipse_Daviron_960.jpg'\u001b[0m\n",
              "\u001b[2;32m│   \u001b[0m\u001b[1m)\u001b[0m,\n",
              "\u001b[2;32m│   \u001b[0m\u001b[1;35mAPOD\u001b[0m\u001b[1m(\u001b[0m\n",
              "\u001b[2;32m│   │   \u001b[0m\u001b[33mtitle\u001b[0m=\u001b[32m'Annular Solar Eclipse over Utah'\u001b[0m,\n",
              "\u001b[2;32m│   │   \u001b[0m\u001b[33mdate\u001b[0m=\u001b[32m'2023-11-01'\u001b[0m,\n",
              "\u001b[2;32m│   │   \u001b[0m\u001b[33mexplanation\u001b[0m=\u001b[32m'Part of the Sun disappeared earlier this month, but few people were worried. The missing part, which included the center from some locations, just went behind the Moon in what is known as an annular solar eclipse.  Featured here is an eclipse sequence taken as the Moon was overtaking the rising Sun in the sky. The foreground hill is Factory Butte in Utah, USA. The rays flaring out from the Sun are not real -- they result from camera aperture diffraction and are known as sunstar. The Moon is real, but appears only in silhouette in this ring-of-fire eclipse. As stunning as this eclipse sequence is, it was considered just practice by the astrophotographer.  The reason? She hopes to use this experience to better photograph the total solar eclipse that will occur over North America on April 8, 2024.   Apply today \u001b[0m\u001b[32m(\u001b[0m\u001b[32mUSA\u001b[0m\u001b[32m)\u001b[0m\u001b[32m: Become a NASA Partner Eclipse Ambassador  Eclipse Album: Selected images sent in to APOD'\u001b[0m,\n",
              "\u001b[2;32m│   │   \u001b[0m\u001b[33murl\u001b[0m=\u001b[32m'https://apod.nasa.gov/apod/image/2311/UtahEclipseB_Kiczenski_960.jpg'\u001b[0m\n",
              "\u001b[2;32m│   \u001b[0m\u001b[1m)\u001b[0m,\n",
              "\u001b[2;32m│   \u001b[0m\u001b[1;35mAPOD\u001b[0m\u001b[1m(\u001b[0m\n",
              "\u001b[2;32m│   │   \u001b[0m\u001b[33mtitle\u001b[0m=\u001b[32m'Milky Way Rising'\u001b[0m,\n",
              "\u001b[2;32m│   │   \u001b[0m\u001b[33mdate\u001b[0m=\u001b[32m'2023-12-01'\u001b[0m,\n",
              "\u001b[2;32m│   │   \u001b[0m\u001b[33mexplanation\u001b[0m=\u001b[32m\"The\u001b[0m\u001b[32m core of the Milky Way is rising beyond the Chilean mountain-top La Silla Observatory in this deep night skyscape. Seen toward the constellation Sagittarius, our home galaxy's center is flanked on the left, by the European Southern Observatory's New Technology Telescope which pioneered the use of active optics to accurately control the shape of large telescope mirrors. To the right stands the ESO 3.6-meter Telescope, home of the exoplanet hunting HARPS and NIRPS spectrographs. Between them, the galaxy's central bulge is filled with obscuring clouds of interstellar dust, bright stars, clusters, and nebulae. Prominent reddish hydrogen emission from the star-forming Lagoon Nebula, M8, is near center. The Trifid Nebula, M20, combines blue light of a dusty reflection nebula with reddish emission just left of the cosmic Lagoon. Both are popular stops on telescopic tours of the galactic center. The composited image is a stack of separate exposures for ground and sky made in April 2023, all captured consecutively with the same framing and camera equipment.\"\u001b[0m,\n",
              "\u001b[2;32m│   │   \u001b[0m\u001b[33murl\u001b[0m=\u001b[32m'https://apod.nasa.gov/apod/image/2312/_MG_2485-mod_APOD1024.jpg'\u001b[0m\n",
              "\u001b[2;32m│   \u001b[0m\u001b[1m)\u001b[0m\n",
              "\u001b[1m]\u001b[0m\n"
            ],
            "text/html": [
              "<pre style=\"white-space:pre;overflow-x:auto;line-height:normal;font-family:Menlo,'DejaVu Sans Mono',consolas,'Courier New',monospace\"><span style=\"font-weight: bold\">[</span>\n",
              "<span style=\"color: #7fbf7f; text-decoration-color: #7fbf7f\">│   </span><span style=\"color: #800080; text-decoration-color: #800080; font-weight: bold\">APOD</span><span style=\"font-weight: bold\">(</span>\n",
              "<span style=\"color: #7fbf7f; text-decoration-color: #7fbf7f\">│   │   </span><span style=\"color: #808000; text-decoration-color: #808000\">title</span>=<span style=\"color: #008000; text-decoration-color: #008000\">'The Largest Rock in our Solar System'</span>,\n",
              "<span style=\"color: #7fbf7f; text-decoration-color: #7fbf7f\">│   │   </span><span style=\"color: #808000; text-decoration-color: #808000\">date</span>=<span style=\"color: #008000; text-decoration-color: #008000\">'2023-01-01'</span>,\n",
              "<span style=\"color: #7fbf7f; text-decoration-color: #7fbf7f\">│   │   </span><span style=\"color: #808000; text-decoration-color: #808000\">explanation</span>=<span style=\"color: #008000; text-decoration-color: #008000\">\"There, that dot on the right, that's the largest rock known in our Solar System. It is larger than every known asteroid, moon, and comet nucleus.  It is larger than any other local rocky planet.  This rock is so large its gravity makes it into a large ball that holds heavy gases near its surface.  (It used to be the largest known rock of any type until the recent discoveries of large dense planets orbiting other stars.)  The Voyager 1 spacecraft took the featured picture -- famously called Pale Blue Dot -- of this giant space rock in 1990 from the outer Solar System.  Today, this rock starts another orbit around its parent star, for roughly the 5 billionth time, spinning over 350 times during each trip.  Happy Gregorian Calendar New Year to all inhabitants of this rock we call Earth.\"</span>,\n",
              "<span style=\"color: #7fbf7f; text-decoration-color: #7fbf7f\">│   │   </span><span style=\"color: #808000; text-decoration-color: #808000\">url</span>=<span style=\"color: #008000; text-decoration-color: #008000\">'https://apod.nasa.gov/apod/image/2301/PaleBlueDotOrig_Voyager1_960.jpg'</span>\n",
              "<span style=\"color: #7fbf7f; text-decoration-color: #7fbf7f\">│   </span><span style=\"font-weight: bold\">)</span>,\n",
              "<span style=\"color: #7fbf7f; text-decoration-color: #7fbf7f\">│   </span><span style=\"color: #800080; text-decoration-color: #800080; font-weight: bold\">APOD</span><span style=\"font-weight: bold\">(</span>\n",
              "<span style=\"color: #7fbf7f; text-decoration-color: #7fbf7f\">│   │   </span><span style=\"color: #808000; text-decoration-color: #808000\">title</span>=<span style=\"color: #008000; text-decoration-color: #008000\">'The Seventh World of Trappist-1'</span>,\n",
              "<span style=\"color: #7fbf7f; text-decoration-color: #7fbf7f\">│   │   </span><span style=\"color: #808000; text-decoration-color: #808000\">date</span>=<span style=\"color: #008000; text-decoration-color: #008000\">'2023-02-01'</span>,\n",
              "<span style=\"color: #7fbf7f; text-decoration-color: #7fbf7f\">│   │   </span><span style=\"color: #808000; text-decoration-color: #808000\">explanation</span>=<span style=\"color: #008000; text-decoration-color: #008000\">\"Seven worlds orbit the ultracool dwarf star TRAPPIST-1. A mere 40 light-years away, many of the exoplanets were discovered in 2016 using the Transiting Planets and Planetesimals Small Telescope (TRAPPIST) located at  La Silla Observatory in Chile and later confirmed with telescope including NASA's Spitzer Space Telescope. The TRAPPIST-1 planets are likely all rocky and similar in size to Earth, and so compose one of the largest treasure troves of terrestrial planets ever detected around a single star. Because they orbit very close to their faint, tiny star they could also have regions where surface temperatures allow for the presence of ice or even liquid water, a key ingredient for life. Their tantalizing proximity to Earth makes them prime candidates for future telescopic explorations of the atmospheres of potentially habitable planets.  All seven exoplanets appear in the featured illustration, which imagines a view from the most distant known world of this system, TRAPPIST-1h, as having a rocky landscape covered in ice. Meanwhile, in the imagined background, one of the system's inner planets crosses in front of the dim, orange, nearly Jupiter-sized parent star.   Astrophysicists: Browse 3,000+ codes in the Astrophysics Source Code Library\"</span>,\n",
              "<span style=\"color: #7fbf7f; text-decoration-color: #7fbf7f\">│   │   </span><span style=\"color: #808000; text-decoration-color: #808000\">url</span>=<span style=\"color: #008000; text-decoration-color: #008000\">'https://apod.nasa.gov/apod/image/2302/Trappist1h_Carroll_960.jpg'</span>\n",
              "<span style=\"color: #7fbf7f; text-decoration-color: #7fbf7f\">│   </span><span style=\"font-weight: bold\">)</span>,\n",
              "<span style=\"color: #7fbf7f; text-decoration-color: #7fbf7f\">│   </span><span style=\"color: #800080; text-decoration-color: #800080; font-weight: bold\">APOD</span><span style=\"font-weight: bold\">(</span>\n",
              "<span style=\"color: #7fbf7f; text-decoration-color: #7fbf7f\">│   │   </span><span style=\"color: #808000; text-decoration-color: #808000\">title</span>=<span style=\"color: #008000; text-decoration-color: #008000\">'The Flaming Star Nebula'</span>,\n",
              "<span style=\"color: #7fbf7f; text-decoration-color: #7fbf7f\">│   │   </span><span style=\"color: #808000; text-decoration-color: #808000\">date</span>=<span style=\"color: #008000; text-decoration-color: #008000\">'2023-03-01'</span>,\n",
              "<span style=\"color: #7fbf7f; text-decoration-color: #7fbf7f\">│   │   </span><span style=\"color: #808000; text-decoration-color: #808000\">explanation</span>=<span style=\"color: #008000; text-decoration-color: #008000\">\"Is star AE Aurigae on fire? No.  Even though AE Aurigae is named the Flaming Star and the surrounding nebula IC 405 is named the Flaming Star Nebula, and even though the nebula appears to some like a swirling flame, there is no fire.  Fire, typically defined as the rapid molecular acquisition of oxygen, happens only when sufficient oxygen is present and is not important in such high-energy, low-oxygen environments such as stars.  The bright star AE Aurigae occurs near the center of the Flaming Star Nebula and is so hot it glows blue, emitting light so energetic it knocks electrons away from surrounding gas. When a proton recaptures an electron, light is emitted, as seen in the surrounding emission nebula.  Captured here three weeks ago, the Flaming Star Nebula is visible near the composite image's center, between the red Tadpole Nebula on the left and blue-tailed Comet ZTF on the right.  The Flaming Star Nebula lies about 1,500 light years distant, spans about 5 light years, and is visible with a small telescope toward the constellation of the Charioteer (Auriga).\"</span>,\n",
              "<span style=\"color: #7fbf7f; text-decoration-color: #7fbf7f\">│   │   </span><span style=\"color: #808000; text-decoration-color: #808000\">url</span>=<span style=\"color: #008000; text-decoration-color: #008000\">'https://apod.nasa.gov/apod/image/2303/FlamingStarComet_Roell_1080.jpg'</span>\n",
              "<span style=\"color: #7fbf7f; text-decoration-color: #7fbf7f\">│   </span><span style=\"font-weight: bold\">)</span>,\n",
              "<span style=\"color: #7fbf7f; text-decoration-color: #7fbf7f\">│   </span><span style=\"color: #800080; text-decoration-color: #800080; font-weight: bold\">APOD</span><span style=\"font-weight: bold\">(</span>\n",
              "<span style=\"color: #7fbf7f; text-decoration-color: #7fbf7f\">│   │   </span><span style=\"color: #808000; text-decoration-color: #808000\">title</span>=<span style=\"color: #008000; text-decoration-color: #008000\">'NGC 2442: Galaxy in Volans'</span>,\n",
              "<span style=\"color: #7fbf7f; text-decoration-color: #7fbf7f\">│   │   </span><span style=\"color: #808000; text-decoration-color: #808000\">date</span>=<span style=\"color: #008000; text-decoration-color: #008000\">'2023-04-01'</span>,\n",
              "<span style=\"color: #7fbf7f; text-decoration-color: #7fbf7f\">│   │   </span><span style=\"color: #808000; text-decoration-color: #808000\">explanation</span>=<span style=\"color: #008000; text-decoration-color: #008000\">\"Distorted galaxy NGC 2442 can be found in the southern constellation of the flying fish, (Piscis) Volans. Located about 50 million light-years away, the galaxy's two spiral arms extending from a pronounced central bar give it a hook-shaped appearance in this deep colorful image, with spiky foreground stars scattered across the telescopic field of view. The image also reveals the distant galaxy's obscuring dust lanes, young blue star clusters and reddish star forming regions surrounding a core of yellowish light from an older population of stars. But the star forming regions seem more concentrated along the drawn-out (upper right) spiral arm. The distorted structure is likely the result of an ancient close encounter with the smaller galaxy seen near the top left of the frame. The two interacting galaxies are separated by about 150,000 light-years at the estimated distance of NGC 2442.\"</span>,\n",
              "<span style=\"color: #7fbf7f; text-decoration-color: #7fbf7f\">│   │   </span><span style=\"color: #808000; text-decoration-color: #808000\">url</span>=<span style=\"color: #008000; text-decoration-color: #008000\">'https://apod.nasa.gov/apod/image/2304/NGC2442-NicolasROLLAND_signatur1024.jpg'</span>\n",
              "<span style=\"color: #7fbf7f; text-decoration-color: #7fbf7f\">│   </span><span style=\"font-weight: bold\">)</span>,\n",
              "<span style=\"color: #7fbf7f; text-decoration-color: #7fbf7f\">│   </span><span style=\"color: #800080; text-decoration-color: #800080; font-weight: bold\">APOD</span><span style=\"font-weight: bold\">(</span>\n",
              "<span style=\"color: #7fbf7f; text-decoration-color: #7fbf7f\">│   │   </span><span style=\"color: #808000; text-decoration-color: #808000\">title</span>=<span style=\"color: #008000; text-decoration-color: #008000\">'Carina Nebula North'</span>,\n",
              "<span style=\"color: #7fbf7f; text-decoration-color: #7fbf7f\">│   │   </span><span style=\"color: #808000; text-decoration-color: #808000\">date</span>=<span style=\"color: #008000; text-decoration-color: #008000\">'2023-05-01'</span>,\n",
              "<span style=\"color: #7fbf7f; text-decoration-color: #7fbf7f\">│   │   </span><span style=\"color: #808000; text-decoration-color: #808000\">explanation</span>=<span style=\"color: #008000; text-decoration-color: #008000\">'The Great Carina Nebula is home to strange stars and iconic nebulas. Named for its home constellation, the huge star-forming region is larger and brighter than the Great Orion Nebula but less well known because it is so far south -- and because so much of humanity lives so far north.  The featured image shows in great detail the northernmost part of the Carina Nebula. On the bottom left is the Gabriela Mistral Nebula consisting of an emission nebula of glowing gas (IC 2599) surrounding the small open cluster of stars (NGC 3324). Above the image center is the larger star cluster NGC 3293, while to its right is the emission nebula Loden 153.  The most famous occupant of the Carina Nebula, however, is not shown. Off the image to the lower right is the bright, erratic, and doomed star known as Eta Carinae -- a star once one of the brightest stars in the sky and now predicted to explode in a supernova sometime in the next few million years.'</span>,\n",
              "<span style=\"color: #7fbf7f; text-decoration-color: #7fbf7f\">│   │   </span><span style=\"color: #808000; text-decoration-color: #808000\">url</span>=<span style=\"color: #008000; text-decoration-color: #008000\">'https://apod.nasa.gov/apod/image/2305/CarNorth_Taylor_960.jpg'</span>\n",
              "<span style=\"color: #7fbf7f; text-decoration-color: #7fbf7f\">│   </span><span style=\"font-weight: bold\">)</span>,\n",
              "<span style=\"color: #7fbf7f; text-decoration-color: #7fbf7f\">│   </span><span style=\"color: #800080; text-decoration-color: #800080; font-weight: bold\">APOD</span><span style=\"font-weight: bold\">(</span>\n",
              "<span style=\"color: #7fbf7f; text-decoration-color: #7fbf7f\">│   │   </span><span style=\"color: #808000; text-decoration-color: #808000\">title</span>=<span style=\"color: #008000; text-decoration-color: #008000\">'Recycling Cassiopeia A'</span>,\n",
              "<span style=\"color: #7fbf7f; text-decoration-color: #7fbf7f\">│   │   </span><span style=\"color: #808000; text-decoration-color: #808000\">date</span>=<span style=\"color: #008000; text-decoration-color: #008000\">'2023-06-01'</span>,\n",
              "<span style=\"color: #7fbf7f; text-decoration-color: #7fbf7f\">│   │   </span><span style=\"color: #808000; text-decoration-color: #808000\">explanation</span>=<span style=\"color: #008000; text-decoration-color: #008000\">\"Massive stars in our Milky Way Galaxy live spectacular lives.  Collapsing from vast cosmic clouds, their nuclear furnaces ignite and create heavy elements in their cores. After a few million years, the enriched material is blasted back into interstellar space where star formation can begin anew. The expanding debris cloud known as Cassiopeia A is an example of this final phase of the stellar life cycle. Light from the explosion which created this supernova remnant would have been first seen in planet Earth's sky about 350 years ago, although it took that light about 11,000 years to reach us. This false-color image, composed of X-ray and optical image data from the Chandra X-ray Observatory and Hubble Space Telescope, shows the still hot filaments and knots in the remnant. It spans about 30 light-years at the estimated distance of Cassiopeia A. High-energy X-ray emission from specific elements has been color coded, silicon in red, sulfur in yellow, calcium in green and iron in purple, to help astronomers explore the recycling of our galaxy's star stuff. Still expanding, the outer blast wave is seen in blue hues. The bright speck near the center is a neutron star, the incredibly dense, collapsed remains of the massive stellar core.\"</span>,\n",
              "<span style=\"color: #7fbf7f; text-decoration-color: #7fbf7f\">│   │   </span><span style=\"color: #808000; text-decoration-color: #808000\">url</span>=<span style=\"color: #008000; text-decoration-color: #008000\">'https://apod.nasa.gov/apod/image/2306/Chandrafirstlight_0_1024.jpg'</span>\n",
              "<span style=\"color: #7fbf7f; text-decoration-color: #7fbf7f\">│   </span><span style=\"font-weight: bold\">)</span>,\n",
              "<span style=\"color: #7fbf7f; text-decoration-color: #7fbf7f\">│   </span><span style=\"color: #800080; text-decoration-color: #800080; font-weight: bold\">APOD</span><span style=\"font-weight: bold\">(</span>\n",
              "<span style=\"color: #7fbf7f; text-decoration-color: #7fbf7f\">│   │   </span><span style=\"color: #808000; text-decoration-color: #808000\">title</span>=<span style=\"color: #008000; text-decoration-color: #008000\">'Three Galaxies in Draco'</span>,\n",
              "<span style=\"color: #7fbf7f; text-decoration-color: #7fbf7f\">│   │   </span><span style=\"color: #808000; text-decoration-color: #808000\">date</span>=<span style=\"color: #008000; text-decoration-color: #008000\">'2023-07-01'</span>,\n",
              "<span style=\"color: #7fbf7f; text-decoration-color: #7fbf7f\">│   │   </span><span style=\"color: #808000; text-decoration-color: #808000\">explanation</span>=<span style=\"color: #008000; text-decoration-color: #008000\">'This tantalizing trio of galaxies sometimes called the Draco Group, is located in the northern constellation of (you guessed it) Draco, the Dragon. From left to right are face-on spiral NGC 5985, elliptical galaxy NGC 5982, and edge-on spiral NGC 5981, all found within this single telescopic field of view that spans a little more than the width of the full moon. While the group is far too small to be a galaxy cluster, and has not been catalogued as a compact galaxy group, the three galaxies all do lie roughly 100 million light-years from planet Earth. Not as well known as other tight groupings of galaxies, the contrast in visual appearance still makes this triplet an attractive subject for astroimagers. On close examination with spectrographs, the bright core of striking spiral NGC 5985 shows prominent emission in specific wavelengths of light, prompting astronomers to classify it as a Seyfert, a type of active galaxy. This impressively deep exposure hints at a faint dim halo along with sharp-edged shells surrounding elliptical NGC 5982, evidence of past galactic mergers. It also reveals many even more distant background galaxies.'</span>,\n",
              "<span style=\"color: #7fbf7f; text-decoration-color: #7fbf7f\">│   │   </span><span style=\"color: #808000; text-decoration-color: #808000\">url</span>=<span style=\"color: #008000; text-decoration-color: #008000\">'https://apod.nasa.gov/apod/image/2307/DracoTrio_TeamOmicron1024.jpg'</span>\n",
              "<span style=\"color: #7fbf7f; text-decoration-color: #7fbf7f\">│   </span><span style=\"font-weight: bold\">)</span>,\n",
              "<span style=\"color: #7fbf7f; text-decoration-color: #7fbf7f\">│   </span><span style=\"color: #800080; text-decoration-color: #800080; font-weight: bold\">APOD</span><span style=\"font-weight: bold\">(</span>\n",
              "<span style=\"color: #7fbf7f; text-decoration-color: #7fbf7f\">│   │   </span><span style=\"color: #808000; text-decoration-color: #808000\">title</span>=<span style=\"color: #008000; text-decoration-color: #008000\">'Monster Solar Prominence'</span>,\n",
              "<span style=\"color: #7fbf7f; text-decoration-color: #7fbf7f\">│   │   </span><span style=\"color: #808000; text-decoration-color: #808000\">date</span>=<span style=\"color: #008000; text-decoration-color: #008000\">'2023-08-01'</span>,\n",
              "<span style=\"color: #7fbf7f; text-decoration-color: #7fbf7f\">│   │   </span><span style=\"color: #808000; text-decoration-color: #808000\">explanation</span>=<span style=\"color: #008000; text-decoration-color: #008000\">'The monsters that live on the Sun are not like us. They are larger than the Earth and made of gas hotter than in any teapot. They have no eyes, but at times, many tentacles. They float.  Usually, they slowly change shape and just fade back onto the Sun over about a month. Sometimes, though, they suddenly explode and unleash\\xa0energetic particles into the Solar System that can attack the Earth.\\xa0 Pictured is a huge solar prominence imaged almost two weeks ago in the light of hydrogen. Captured by a small telescope in Gilbert, Arizona, USA, the monsteresque plume of gas was held aloft by the ever-present but ever-changing magnetic field near the surface of the Sun. Our active Sun continues to show an unusually\\xa0high number\\xa0of prominences, filaments, sunspots, and large active regions\\xa0as solar maximum approaches in 2025.'</span>,\n",
              "<span style=\"color: #7fbf7f; text-decoration-color: #7fbf7f\">│   │   </span><span style=\"color: #808000; text-decoration-color: #808000\">url</span>=<span style=\"color: #008000; text-decoration-color: #008000\">'https://apod.nasa.gov/apod/image/2308/SunMonster_Wenz_960.jpg'</span>\n",
              "<span style=\"color: #7fbf7f; text-decoration-color: #7fbf7f\">│   </span><span style=\"font-weight: bold\">)</span>,\n",
              "<span style=\"color: #7fbf7f; text-decoration-color: #7fbf7f\">│   </span><span style=\"color: #800080; text-decoration-color: #800080; font-weight: bold\">APOD</span><span style=\"font-weight: bold\">(</span>\n",
              "<span style=\"color: #7fbf7f; text-decoration-color: #7fbf7f\">│   │   </span><span style=\"color: #808000; text-decoration-color: #808000\">title</span>=<span style=\"color: #008000; text-decoration-color: #008000\">'The Great Globular Cluster in Hercules'</span>,\n",
              "<span style=\"color: #7fbf7f; text-decoration-color: #7fbf7f\">│   │   </span><span style=\"color: #808000; text-decoration-color: #808000\">date</span>=<span style=\"color: #008000; text-decoration-color: #008000\">'2023-09-01'</span>,\n",
              "<span style=\"color: #7fbf7f; text-decoration-color: #7fbf7f\">│   │   </span><span style=\"color: #808000; text-decoration-color: #808000\">explanation</span>=<span style=\"color: #008000; text-decoration-color: #008000\">'In 1716, English astronomer Edmond Halley noted, \"This is but a little Patch, but it shows itself to the naked Eye, when the Sky is serene and the Moon absent.\" Of course, M13 is now less modestly recognized as the Great Globular Cluster in Hercules, one of the brightest globular star clusters in the northern sky. Sharp telescopic views like this one reveal the spectacular cluster\\'s hundreds of thousands of stars. At a distance of 25,000 light-years, the cluster stars crowd into a region 150 light-years in diameter. Approaching the cluster core, upwards of 100 stars could be contained in a cube just 3 light-years on a side. For comparison, the closest star to the Sun is over 4 light-years away. The remarkable range of brightness recorded in this image follows stars into the dense cluster core.'</span>,\n",
              "<span style=\"color: #7fbf7f; text-decoration-color: #7fbf7f\">│   │   </span><span style=\"color: #808000; text-decoration-color: #808000\">url</span>=<span style=\"color: #008000; text-decoration-color: #008000\">'https://apod.nasa.gov/apod/image/2309/M13-totale-en-cours-crop8_1024.jpg'</span>\n",
              "<span style=\"color: #7fbf7f; text-decoration-color: #7fbf7f\">│   </span><span style=\"font-weight: bold\">)</span>,\n",
              "<span style=\"color: #7fbf7f; text-decoration-color: #7fbf7f\">│   </span><span style=\"color: #800080; text-decoration-color: #800080; font-weight: bold\">APOD</span><span style=\"font-weight: bold\">(</span>\n",
              "<span style=\"color: #7fbf7f; text-decoration-color: #7fbf7f\">│   │   </span><span style=\"color: #808000; text-decoration-color: #808000\">title</span>=<span style=\"color: #008000; text-decoration-color: #008000\">'A Desert Eclipse'</span>,\n",
              "<span style=\"color: #7fbf7f; text-decoration-color: #7fbf7f\">│   │   </span><span style=\"color: #808000; text-decoration-color: #808000\">date</span>=<span style=\"color: #008000; text-decoration-color: #008000\">'2023-10-01'</span>,\n",
              "<span style=\"color: #7fbf7f; text-decoration-color: #7fbf7f\">│   │   </span><span style=\"color: #808000; text-decoration-color: #808000\">explanation</span>=<span style=\"color: #008000; text-decoration-color: #008000\">'A good place to see a ring-of-fire eclipse, it seemed, would be from a desert. In a desert, there should be relatively few obscuring clouds and trees.  Therefore late December of 2019, a group of photographers traveled to the United Arab Emirates and Rub al-Khali, the largest continuous sand desert in world, to capture clear images of an unusual eclipse that would be passing over.  A ring-of-fire eclipse is an annular eclipse that occurs when the Moon is far enough away on its elliptical orbit around the Earth so that it appears too small, angularly, to cover the entire Sun. At the maximum of an annular eclipse, the edges of the Sun can be seen all around the edges of the Moon, so that the Moon appears to be a dark spot that covers most -- but not all -- of the Sun. This particular eclipse, they knew, would peak soon after sunrise.  After seeking out such a dry and barren place, it turned out that some of the most interesting eclipse images actually included a tree in the foreground, because, in addition to the sand dunes, the tree gave the surreal background a contrasting sense of normalcy, scale, and texture.  On Saturday, October 14, a new ring of fire will be visible through clear skies from a thin swath crossing both North and South America.'</span>,\n",
              "<span style=\"color: #7fbf7f; text-decoration-color: #7fbf7f\">│   │   </span><span style=\"color: #808000; text-decoration-color: #808000\">url</span>=<span style=\"color: #008000; text-decoration-color: #008000\">'https://apod.nasa.gov/apod/image/2310/DesertEclipse_Daviron_960.jpg'</span>\n",
              "<span style=\"color: #7fbf7f; text-decoration-color: #7fbf7f\">│   </span><span style=\"font-weight: bold\">)</span>,\n",
              "<span style=\"color: #7fbf7f; text-decoration-color: #7fbf7f\">│   </span><span style=\"color: #800080; text-decoration-color: #800080; font-weight: bold\">APOD</span><span style=\"font-weight: bold\">(</span>\n",
              "<span style=\"color: #7fbf7f; text-decoration-color: #7fbf7f\">│   │   </span><span style=\"color: #808000; text-decoration-color: #808000\">title</span>=<span style=\"color: #008000; text-decoration-color: #008000\">'Annular Solar Eclipse over Utah'</span>,\n",
              "<span style=\"color: #7fbf7f; text-decoration-color: #7fbf7f\">│   │   </span><span style=\"color: #808000; text-decoration-color: #808000\">date</span>=<span style=\"color: #008000; text-decoration-color: #008000\">'2023-11-01'</span>,\n",
              "<span style=\"color: #7fbf7f; text-decoration-color: #7fbf7f\">│   │   </span><span style=\"color: #808000; text-decoration-color: #808000\">explanation</span>=<span style=\"color: #008000; text-decoration-color: #008000\">'Part of the Sun disappeared earlier this month, but few people were worried. The missing part, which included the center from some locations, just went behind the Moon in what is known as an annular solar eclipse.  Featured here is an eclipse sequence taken as the Moon was overtaking the rising Sun in the sky. The foreground hill is Factory Butte in Utah, USA. The rays flaring out from the Sun are not real -- they result from camera aperture diffraction and are known as sunstar. The Moon is real, but appears only in silhouette in this ring-of-fire eclipse. As stunning as this eclipse sequence is, it was considered just practice by the astrophotographer.  The reason? She hopes to use this experience to better photograph the total solar eclipse that will occur over North America on April 8, 2024.   Apply today (USA): Become a NASA Partner Eclipse Ambassador  Eclipse Album: Selected images sent in to APOD'</span>,\n",
              "<span style=\"color: #7fbf7f; text-decoration-color: #7fbf7f\">│   │   </span><span style=\"color: #808000; text-decoration-color: #808000\">url</span>=<span style=\"color: #008000; text-decoration-color: #008000\">'https://apod.nasa.gov/apod/image/2311/UtahEclipseB_Kiczenski_960.jpg'</span>\n",
              "<span style=\"color: #7fbf7f; text-decoration-color: #7fbf7f\">│   </span><span style=\"font-weight: bold\">)</span>,\n",
              "<span style=\"color: #7fbf7f; text-decoration-color: #7fbf7f\">│   </span><span style=\"color: #800080; text-decoration-color: #800080; font-weight: bold\">APOD</span><span style=\"font-weight: bold\">(</span>\n",
              "<span style=\"color: #7fbf7f; text-decoration-color: #7fbf7f\">│   │   </span><span style=\"color: #808000; text-decoration-color: #808000\">title</span>=<span style=\"color: #008000; text-decoration-color: #008000\">'Milky Way Rising'</span>,\n",
              "<span style=\"color: #7fbf7f; text-decoration-color: #7fbf7f\">│   │   </span><span style=\"color: #808000; text-decoration-color: #808000\">date</span>=<span style=\"color: #008000; text-decoration-color: #008000\">'2023-12-01'</span>,\n",
              "<span style=\"color: #7fbf7f; text-decoration-color: #7fbf7f\">│   │   </span><span style=\"color: #808000; text-decoration-color: #808000\">explanation</span>=<span style=\"color: #008000; text-decoration-color: #008000\">\"The core of the Milky Way is rising beyond the Chilean mountain-top La Silla Observatory in this deep night skyscape. Seen toward the constellation Sagittarius, our home galaxy's center is flanked on the left, by the European Southern Observatory's New Technology Telescope which pioneered the use of active optics to accurately control the shape of large telescope mirrors. To the right stands the ESO 3.6-meter Telescope, home of the exoplanet hunting HARPS and NIRPS spectrographs. Between them, the galaxy's central bulge is filled with obscuring clouds of interstellar dust, bright stars, clusters, and nebulae. Prominent reddish hydrogen emission from the star-forming Lagoon Nebula, M8, is near center. The Trifid Nebula, M20, combines blue light of a dusty reflection nebula with reddish emission just left of the cosmic Lagoon. Both are popular stops on telescopic tours of the galactic center. The composited image is a stack of separate exposures for ground and sky made in April 2023, all captured consecutively with the same framing and camera equipment.\"</span>,\n",
              "<span style=\"color: #7fbf7f; text-decoration-color: #7fbf7f\">│   │   </span><span style=\"color: #808000; text-decoration-color: #808000\">url</span>=<span style=\"color: #008000; text-decoration-color: #008000\">'https://apod.nasa.gov/apod/image/2312/_MG_2485-mod_APOD1024.jpg'</span>\n",
              "<span style=\"color: #7fbf7f; text-decoration-color: #7fbf7f\">│   </span><span style=\"font-weight: bold\">)</span>\n",
              "<span style=\"font-weight: bold\">]</span>\n",
              "</pre>\n"
            ]
          },
          "metadata": {}
        },
        {
          "output_type": "stream",
          "name": "stdout",
          "text": [
            "---\n"
          ]
        },
        {
          "output_type": "display_data",
          "data": {
            "text/plain": [
              "\u001b[32m'Finished in 2.50 seconds'\u001b[0m\n"
            ],
            "text/html": [
              "<pre style=\"white-space:pre;overflow-x:auto;line-height:normal;font-family:Menlo,'DejaVu Sans Mono',consolas,'Courier New',monospace\"><span style=\"color: #008000; text-decoration-color: #008000\">'Finished in 2.50 seconds'</span>\n",
              "</pre>\n"
            ]
          },
          "metadata": {}
        }
      ]
    },
    {
      "cell_type": "markdown",
      "source": [
        "### Async API Calls\n",
        "\n",
        "Then we try using the `httpx` library (asynchronous) to make the API calls"
      ],
      "metadata": {
        "id": "QbHEy77BGh8k"
      }
    },
    {
      "cell_type": "code",
      "source": [
        "# Create functions that do asynchronous api calls\n",
        "async def get_apod(date: str, endpoint: str, api_key: str, **params):\n",
        "  url = create_endpoint(endpoint, api_key, **params)\n",
        "  async with httpx.AsyncClient() as client:\n",
        "    resp = await client.get(url, params={**params, 'date': date, 'api_key': api_key})\n",
        "    resp.raise_for_status()\n",
        "    return APOD(\n",
        "        title=resp.json()['title'],\n",
        "        date=resp.json()['date'],\n",
        "        explanation=resp.json()['explanation'],\n",
        "        url=resp.json()['url']\n",
        "    )\n",
        "\n",
        "\n",
        "async def get_apods_from_gen(dates: Generator, endpoint: str, api_key: str, **params):\n",
        "  tasks = []\n",
        "  for date in dates:\n",
        "    pprint(f\"Getting APOD for: {date}\")\n",
        "    tasks.append(get_apod(date, endpoint, api_key))\n",
        "  return await asyncio.gather(*tasks)\n",
        "\n",
        "\n",
        "# Call and time our functions\n",
        "start_time = time.perf_counter()\n",
        "\n",
        "# Use this only in Colab or Jupyter notebooks since there is already an existing event loop running in colab\n",
        "apods = await get_apods_from_gen(first_day_of_months_generator(2023), apod_endpoint, nasa_key, thumbs=True)\n",
        "\n",
        "# In your python script files (.py) comment out the above line and use this line below instead\n",
        "# apods = asyncio.run(get_apods_from_gen(first_day_of_months_generator(2023), apod_endpoint, nasa_key, thumbs=True))\n",
        "\n",
        "print(\"---\")\n",
        "pprint(apods)\n",
        "\n",
        "print(\"---\")\n",
        "pprint(f\"Finished in {time.perf_counter() - start_time:.2f} seconds\")"
      ],
      "metadata": {
        "colab": {
          "base_uri": "https://localhost:8080/",
          "height": 1000
        },
        "id": "vVK1tt6iXfXk",
        "outputId": "36e6e8be-34c1-47fd-9b76-dc60277126ca"
      },
      "execution_count": null,
      "outputs": [
        {
          "output_type": "display_data",
          "data": {
            "text/plain": [
              "\u001b[32m'Getting APOD for: 2023-01-01'\u001b[0m\n"
            ],
            "text/html": [
              "<pre style=\"white-space:pre;overflow-x:auto;line-height:normal;font-family:Menlo,'DejaVu Sans Mono',consolas,'Courier New',monospace\"><span style=\"color: #008000; text-decoration-color: #008000\">'Getting APOD for: 2023-01-01'</span>\n",
              "</pre>\n"
            ]
          },
          "metadata": {}
        },
        {
          "output_type": "display_data",
          "data": {
            "text/plain": [
              "\u001b[32m'Getting APOD for: 2023-02-01'\u001b[0m\n"
            ],
            "text/html": [
              "<pre style=\"white-space:pre;overflow-x:auto;line-height:normal;font-family:Menlo,'DejaVu Sans Mono',consolas,'Courier New',monospace\"><span style=\"color: #008000; text-decoration-color: #008000\">'Getting APOD for: 2023-02-01'</span>\n",
              "</pre>\n"
            ]
          },
          "metadata": {}
        },
        {
          "output_type": "display_data",
          "data": {
            "text/plain": [
              "\u001b[32m'Getting APOD for: 2023-03-01'\u001b[0m\n"
            ],
            "text/html": [
              "<pre style=\"white-space:pre;overflow-x:auto;line-height:normal;font-family:Menlo,'DejaVu Sans Mono',consolas,'Courier New',monospace\"><span style=\"color: #008000; text-decoration-color: #008000\">'Getting APOD for: 2023-03-01'</span>\n",
              "</pre>\n"
            ]
          },
          "metadata": {}
        },
        {
          "output_type": "display_data",
          "data": {
            "text/plain": [
              "\u001b[32m'Getting APOD for: 2023-04-01'\u001b[0m\n"
            ],
            "text/html": [
              "<pre style=\"white-space:pre;overflow-x:auto;line-height:normal;font-family:Menlo,'DejaVu Sans Mono',consolas,'Courier New',monospace\"><span style=\"color: #008000; text-decoration-color: #008000\">'Getting APOD for: 2023-04-01'</span>\n",
              "</pre>\n"
            ]
          },
          "metadata": {}
        },
        {
          "output_type": "display_data",
          "data": {
            "text/plain": [
              "\u001b[32m'Getting APOD for: 2023-05-01'\u001b[0m\n"
            ],
            "text/html": [
              "<pre style=\"white-space:pre;overflow-x:auto;line-height:normal;font-family:Menlo,'DejaVu Sans Mono',consolas,'Courier New',monospace\"><span style=\"color: #008000; text-decoration-color: #008000\">'Getting APOD for: 2023-05-01'</span>\n",
              "</pre>\n"
            ]
          },
          "metadata": {}
        },
        {
          "output_type": "display_data",
          "data": {
            "text/plain": [
              "\u001b[32m'Getting APOD for: 2023-06-01'\u001b[0m\n"
            ],
            "text/html": [
              "<pre style=\"white-space:pre;overflow-x:auto;line-height:normal;font-family:Menlo,'DejaVu Sans Mono',consolas,'Courier New',monospace\"><span style=\"color: #008000; text-decoration-color: #008000\">'Getting APOD for: 2023-06-01'</span>\n",
              "</pre>\n"
            ]
          },
          "metadata": {}
        },
        {
          "output_type": "display_data",
          "data": {
            "text/plain": [
              "\u001b[32m'Getting APOD for: 2023-07-01'\u001b[0m\n"
            ],
            "text/html": [
              "<pre style=\"white-space:pre;overflow-x:auto;line-height:normal;font-family:Menlo,'DejaVu Sans Mono',consolas,'Courier New',monospace\"><span style=\"color: #008000; text-decoration-color: #008000\">'Getting APOD for: 2023-07-01'</span>\n",
              "</pre>\n"
            ]
          },
          "metadata": {}
        },
        {
          "output_type": "display_data",
          "data": {
            "text/plain": [
              "\u001b[32m'Getting APOD for: 2023-08-01'\u001b[0m\n"
            ],
            "text/html": [
              "<pre style=\"white-space:pre;overflow-x:auto;line-height:normal;font-family:Menlo,'DejaVu Sans Mono',consolas,'Courier New',monospace\"><span style=\"color: #008000; text-decoration-color: #008000\">'Getting APOD for: 2023-08-01'</span>\n",
              "</pre>\n"
            ]
          },
          "metadata": {}
        },
        {
          "output_type": "display_data",
          "data": {
            "text/plain": [
              "\u001b[32m'Getting APOD for: 2023-09-01'\u001b[0m\n"
            ],
            "text/html": [
              "<pre style=\"white-space:pre;overflow-x:auto;line-height:normal;font-family:Menlo,'DejaVu Sans Mono',consolas,'Courier New',monospace\"><span style=\"color: #008000; text-decoration-color: #008000\">'Getting APOD for: 2023-09-01'</span>\n",
              "</pre>\n"
            ]
          },
          "metadata": {}
        },
        {
          "output_type": "display_data",
          "data": {
            "text/plain": [
              "\u001b[32m'Getting APOD for: 2023-10-01'\u001b[0m\n"
            ],
            "text/html": [
              "<pre style=\"white-space:pre;overflow-x:auto;line-height:normal;font-family:Menlo,'DejaVu Sans Mono',consolas,'Courier New',monospace\"><span style=\"color: #008000; text-decoration-color: #008000\">'Getting APOD for: 2023-10-01'</span>\n",
              "</pre>\n"
            ]
          },
          "metadata": {}
        },
        {
          "output_type": "display_data",
          "data": {
            "text/plain": [
              "\u001b[32m'Getting APOD for: 2023-11-01'\u001b[0m\n"
            ],
            "text/html": [
              "<pre style=\"white-space:pre;overflow-x:auto;line-height:normal;font-family:Menlo,'DejaVu Sans Mono',consolas,'Courier New',monospace\"><span style=\"color: #008000; text-decoration-color: #008000\">'Getting APOD for: 2023-11-01'</span>\n",
              "</pre>\n"
            ]
          },
          "metadata": {}
        },
        {
          "output_type": "display_data",
          "data": {
            "text/plain": [
              "\u001b[32m'Getting APOD for: 2023-12-01'\u001b[0m\n"
            ],
            "text/html": [
              "<pre style=\"white-space:pre;overflow-x:auto;line-height:normal;font-family:Menlo,'DejaVu Sans Mono',consolas,'Courier New',monospace\"><span style=\"color: #008000; text-decoration-color: #008000\">'Getting APOD for: 2023-12-01'</span>\n",
              "</pre>\n"
            ]
          },
          "metadata": {}
        },
        {
          "output_type": "stream",
          "name": "stdout",
          "text": [
            "---\n"
          ]
        },
        {
          "output_type": "display_data",
          "data": {
            "text/plain": [
              "\u001b[1m[\u001b[0m\n",
              "\u001b[2;32m│   \u001b[0m\u001b[1;35mAPOD\u001b[0m\u001b[1m(\u001b[0m\n",
              "\u001b[2;32m│   │   \u001b[0m\u001b[33mtitle\u001b[0m=\u001b[32m'The Largest Rock in our Solar System'\u001b[0m,\n",
              "\u001b[2;32m│   │   \u001b[0m\u001b[33mdate\u001b[0m=\u001b[32m'2023-01-01'\u001b[0m,\n",
              "\u001b[2;32m│   │   \u001b[0m\u001b[33mexplanation\u001b[0m=\u001b[32m\"There\u001b[0m\u001b[32m, that dot on the right, that's the largest rock known in our Solar System. It is larger than every known asteroid, moon, and comet nucleus.  It is larger than any other local rocky planet.  This rock is so large its gravity makes it into a large ball that holds heavy gases near its surface.  \u001b[0m\u001b[32m(\u001b[0m\u001b[32mIt used to be the largest known rock of any type until the recent discoveries of large dense planets orbiting other stars.\u001b[0m\u001b[32m)\u001b[0m\u001b[32m  The Voyager 1 spacecraft took the featured picture -- famously called Pale Blue Dot -- of this giant space rock in 1990 from the outer Solar System.  Today, this rock starts another orbit around its parent star, for roughly the 5 billionth time, spinning over 350 times during each trip.  Happy Gregorian Calendar New Year to all inhabitants of this rock we call Earth.\"\u001b[0m,\n",
              "\u001b[2;32m│   │   \u001b[0m\u001b[33murl\u001b[0m=\u001b[32m'https://apod.nasa.gov/apod/image/2301/PaleBlueDotOrig_Voyager1_960.jpg'\u001b[0m\n",
              "\u001b[2;32m│   \u001b[0m\u001b[1m)\u001b[0m,\n",
              "\u001b[2;32m│   \u001b[0m\u001b[1;35mAPOD\u001b[0m\u001b[1m(\u001b[0m\n",
              "\u001b[2;32m│   │   \u001b[0m\u001b[33mtitle\u001b[0m=\u001b[32m'The Seventh World of Trappist-1'\u001b[0m,\n",
              "\u001b[2;32m│   │   \u001b[0m\u001b[33mdate\u001b[0m=\u001b[32m'2023-02-01'\u001b[0m,\n",
              "\u001b[2;32m│   │   \u001b[0m\u001b[33mexplanation\u001b[0m=\u001b[32m\"Seven\u001b[0m\u001b[32m worlds orbit the ultracool dwarf star TRAPPIST-1. A mere 40 light-years away, many of the exoplanets were discovered in 2016 using the Transiting Planets and Planetesimals Small Telescope \u001b[0m\u001b[32m(\u001b[0m\u001b[32mTRAPPIST\u001b[0m\u001b[32m)\u001b[0m\u001b[32m located at  La Silla Observatory in Chile and later confirmed with telescope including NASA's Spitzer Space Telescope. The TRAPPIST-1 planets are likely all rocky and similar in size to Earth, and so compose one of the largest treasure troves of terrestrial planets ever detected around a single star. Because they orbit very close to their faint, tiny star they could also have regions where surface temperatures allow for the presence of ice or even liquid water, a key ingredient for life. Their tantalizing proximity to Earth makes them prime candidates for future telescopic explorations of the atmospheres of potentially habitable planets.  All seven exoplanets appear in the featured illustration, which imagines a view from the most distant known world of this system, TRAPPIST-1h, as having a rocky landscape covered in ice. Meanwhile, in the imagined background, one of the system's inner planets crosses in front of the dim, orange, nearly Jupiter-sized parent star.   Astrophysicists: Browse 3,000+ codes in the Astrophysics Source Code Library\"\u001b[0m,\n",
              "\u001b[2;32m│   │   \u001b[0m\u001b[33murl\u001b[0m=\u001b[32m'https://apod.nasa.gov/apod/image/2302/Trappist1h_Carroll_960.jpg'\u001b[0m\n",
              "\u001b[2;32m│   \u001b[0m\u001b[1m)\u001b[0m,\n",
              "\u001b[2;32m│   \u001b[0m\u001b[1;35mAPOD\u001b[0m\u001b[1m(\u001b[0m\n",
              "\u001b[2;32m│   │   \u001b[0m\u001b[33mtitle\u001b[0m=\u001b[32m'The Flaming Star Nebula'\u001b[0m,\n",
              "\u001b[2;32m│   │   \u001b[0m\u001b[33mdate\u001b[0m=\u001b[32m'2023-03-01'\u001b[0m,\n",
              "\u001b[2;32m│   │   \u001b[0m\u001b[33mexplanation\u001b[0m=\u001b[32m\"Is\u001b[0m\u001b[32m star AE Aurigae on fire? No.  Even though AE Aurigae is named the Flaming Star and the surrounding nebula IC 405 is named the Flaming Star Nebula, and even though the nebula appears to some like a swirling flame, there is no fire.  Fire, typically defined as the rapid molecular acquisition of oxygen, happens only when sufficient oxygen is present and is not important in such high-energy, low-oxygen environments such as stars.  The bright star AE Aurigae occurs near the center of the Flaming Star Nebula and is so hot it glows blue, emitting light so energetic it knocks electrons away from surrounding gas. When a proton recaptures an electron, light is emitted, as seen in the surrounding emission nebula.  Captured here three weeks ago, the Flaming Star Nebula is visible near the composite image's center, between the red Tadpole Nebula on the left and blue-tailed Comet ZTF on the right.  The Flaming Star Nebula lies about 1,500 light years distant, spans about 5 light years, and is visible with a small telescope toward the constellation of the Charioteer \u001b[0m\u001b[32m(\u001b[0m\u001b[32mAuriga\u001b[0m\u001b[32m)\u001b[0m\u001b[32m.\"\u001b[0m,\n",
              "\u001b[2;32m│   │   \u001b[0m\u001b[33murl\u001b[0m=\u001b[32m'https://apod.nasa.gov/apod/image/2303/FlamingStarComet_Roell_1080.jpg'\u001b[0m\n",
              "\u001b[2;32m│   \u001b[0m\u001b[1m)\u001b[0m,\n",
              "\u001b[2;32m│   \u001b[0m\u001b[1;35mAPOD\u001b[0m\u001b[1m(\u001b[0m\n",
              "\u001b[2;32m│   │   \u001b[0m\u001b[33mtitle\u001b[0m=\u001b[32m'NGC 2442: Galaxy in Volans'\u001b[0m,\n",
              "\u001b[2;32m│   │   \u001b[0m\u001b[33mdate\u001b[0m=\u001b[32m'2023-04-01'\u001b[0m,\n",
              "\u001b[2;32m│   │   \u001b[0m\u001b[33mexplanation\u001b[0m=\u001b[32m\"Distorted\u001b[0m\u001b[32m galaxy NGC 2442 can be found in the southern constellation of the flying fish, \u001b[0m\u001b[32m(\u001b[0m\u001b[32mPiscis\u001b[0m\u001b[32m)\u001b[0m\u001b[32m Volans. Located about 50 million light-years away, the galaxy's two spiral arms extending from a pronounced central bar give it a hook-shaped appearance in this deep colorful image, with spiky foreground stars scattered across the telescopic field of view. The image also reveals the distant galaxy's obscuring dust lanes, young blue star clusters and reddish star forming regions surrounding a core of yellowish light from an older population of stars. But the star forming regions seem more concentrated along the drawn-out \u001b[0m\u001b[32m(\u001b[0m\u001b[32mupper right\u001b[0m\u001b[32m)\u001b[0m\u001b[32m spiral arm. The distorted structure is likely the result of an ancient close encounter with the smaller galaxy seen near the top left of the frame. The two interacting galaxies are separated by about 150,000 light-years at the estimated distance of NGC 2442.\"\u001b[0m,\n",
              "\u001b[2;32m│   │   \u001b[0m\u001b[33murl\u001b[0m=\u001b[32m'https://apod.nasa.gov/apod/image/2304/NGC2442-NicolasROLLAND_signatur1024.jpg'\u001b[0m\n",
              "\u001b[2;32m│   \u001b[0m\u001b[1m)\u001b[0m,\n",
              "\u001b[2;32m│   \u001b[0m\u001b[1;35mAPOD\u001b[0m\u001b[1m(\u001b[0m\n",
              "\u001b[2;32m│   │   \u001b[0m\u001b[33mtitle\u001b[0m=\u001b[32m'Carina Nebula North'\u001b[0m,\n",
              "\u001b[2;32m│   │   \u001b[0m\u001b[33mdate\u001b[0m=\u001b[32m'2023-05-01'\u001b[0m,\n",
              "\u001b[2;32m│   │   \u001b[0m\u001b[33mexplanation\u001b[0m=\u001b[32m'The Great Carina Nebula is home to strange stars and iconic nebulas. Named for its home constellation, the huge star-forming region is larger and brighter than the Great Orion Nebula but less well known because it is so far south -- and because so much of humanity lives so far north.  The featured image shows in great detail the northernmost part of the Carina Nebula. On the bottom left is the Gabriela Mistral Nebula consisting of an emission nebula of glowing gas \u001b[0m\u001b[32m(\u001b[0m\u001b[32mIC 2599\u001b[0m\u001b[32m)\u001b[0m\u001b[32m surrounding the small open cluster of stars \u001b[0m\u001b[32m(\u001b[0m\u001b[32mNGC 3324\u001b[0m\u001b[32m)\u001b[0m\u001b[32m. Above the image center is the larger star cluster NGC 3293, while to its right is the emission nebula Loden 153.  The most famous occupant of the Carina Nebula, however, is not shown. Off the image to the lower right is the bright, erratic, and doomed star known as Eta Carinae -- a star once one of the brightest stars in the sky and now predicted to explode in a supernova sometime in the next few million years.'\u001b[0m,\n",
              "\u001b[2;32m│   │   \u001b[0m\u001b[33murl\u001b[0m=\u001b[32m'https://apod.nasa.gov/apod/image/2305/CarNorth_Taylor_960.jpg'\u001b[0m\n",
              "\u001b[2;32m│   \u001b[0m\u001b[1m)\u001b[0m,\n",
              "\u001b[2;32m│   \u001b[0m\u001b[1;35mAPOD\u001b[0m\u001b[1m(\u001b[0m\n",
              "\u001b[2;32m│   │   \u001b[0m\u001b[33mtitle\u001b[0m=\u001b[32m'Recycling Cassiopeia A'\u001b[0m,\n",
              "\u001b[2;32m│   │   \u001b[0m\u001b[33mdate\u001b[0m=\u001b[32m'2023-06-01'\u001b[0m,\n",
              "\u001b[2;32m│   │   \u001b[0m\u001b[33mexplanation\u001b[0m=\u001b[32m\"Massive\u001b[0m\u001b[32m stars in our Milky Way Galaxy live spectacular lives.  Collapsing from vast cosmic clouds, their nuclear furnaces ignite and create heavy elements in their cores. After a few million years, the enriched material is blasted back into interstellar space where star formation can begin anew. The expanding debris cloud known as Cassiopeia A is an example of this final phase of the stellar life cycle. Light from the explosion which created this supernova remnant would have been first seen in planet Earth's sky about 350 years ago, although it took that light about 11,000 years to reach us. This false-color image, composed of X-ray and optical image data from the Chandra X-ray Observatory and Hubble Space Telescope, shows the still hot filaments and knots in the remnant. It spans about 30 light-years at the estimated distance of Cassiopeia A. High-energy X-ray emission from specific elements has been color coded, silicon in red, sulfur in yellow, calcium in green and iron in purple, to help astronomers explore the recycling of our galaxy's star stuff. Still expanding, the outer blast wave is seen in blue hues. The bright speck near the center is a neutron star, the incredibly dense, collapsed remains of the massive stellar core.\"\u001b[0m,\n",
              "\u001b[2;32m│   │   \u001b[0m\u001b[33murl\u001b[0m=\u001b[32m'https://apod.nasa.gov/apod/image/2306/Chandrafirstlight_0_1024.jpg'\u001b[0m\n",
              "\u001b[2;32m│   \u001b[0m\u001b[1m)\u001b[0m,\n",
              "\u001b[2;32m│   \u001b[0m\u001b[1;35mAPOD\u001b[0m\u001b[1m(\u001b[0m\n",
              "\u001b[2;32m│   │   \u001b[0m\u001b[33mtitle\u001b[0m=\u001b[32m'Three Galaxies in Draco'\u001b[0m,\n",
              "\u001b[2;32m│   │   \u001b[0m\u001b[33mdate\u001b[0m=\u001b[32m'2023-07-01'\u001b[0m,\n",
              "\u001b[2;32m│   │   \u001b[0m\u001b[33mexplanation\u001b[0m=\u001b[32m'This tantalizing trio of galaxies sometimes called the Draco Group, is located in the northern constellation of \u001b[0m\u001b[32m(\u001b[0m\u001b[32myou guessed it\u001b[0m\u001b[32m)\u001b[0m\u001b[32m Draco, the Dragon. From left to right are face-on spiral NGC 5985, elliptical galaxy NGC 5982, and edge-on spiral NGC 5981, all found within this single telescopic field of view that spans a little more than the width of the full moon. While the group is far too small to be a galaxy cluster, and has not been catalogued as a compact galaxy group, the three galaxies all do lie roughly 100 million light-years from planet Earth. Not as well known as other tight groupings of galaxies, the contrast in visual appearance still makes this triplet an attractive subject for astroimagers. On close examination with spectrographs, the bright core of striking spiral NGC 5985 shows prominent emission in specific wavelengths of light, prompting astronomers to classify it as a Seyfert, a type of active galaxy. This impressively deep exposure hints at a faint dim halo along with sharp-edged shells surrounding elliptical NGC 5982, evidence of past galactic mergers. It also reveals many even more distant background galaxies.'\u001b[0m,\n",
              "\u001b[2;32m│   │   \u001b[0m\u001b[33murl\u001b[0m=\u001b[32m'https://apod.nasa.gov/apod/image/2307/DracoTrio_TeamOmicron1024.jpg'\u001b[0m\n",
              "\u001b[2;32m│   \u001b[0m\u001b[1m)\u001b[0m,\n",
              "\u001b[2;32m│   \u001b[0m\u001b[1;35mAPOD\u001b[0m\u001b[1m(\u001b[0m\n",
              "\u001b[2;32m│   │   \u001b[0m\u001b[33mtitle\u001b[0m=\u001b[32m'Monster Solar Prominence'\u001b[0m,\n",
              "\u001b[2;32m│   │   \u001b[0m\u001b[33mdate\u001b[0m=\u001b[32m'2023-08-01'\u001b[0m,\n",
              "\u001b[2;32m│   │   \u001b[0m\u001b[33mexplanation\u001b[0m=\u001b[32m'The monsters that live on the Sun are not like us. They are larger than the Earth and made of gas hotter than in any teapot. They have no eyes, but at times, many tentacles. They float.  Usually, they slowly change shape and just fade back onto the Sun over about a month. Sometimes, though, they suddenly explode and unleash\\xa0energetic particles into the Solar System that can attack the Earth.\\xa0 Pictured is a huge solar prominence imaged almost two weeks ago in the light of hydrogen. Captured by a small telescope in Gilbert, Arizona, USA, the monsteresque plume of gas was held aloft by the ever-present but ever-changing magnetic field near the surface of the Sun. Our active Sun continues to show an unusually\\xa0high number\\xa0of prominences, filaments, sunspots, and large active regions\\xa0as solar maximum approaches in 2025.'\u001b[0m,\n",
              "\u001b[2;32m│   │   \u001b[0m\u001b[33murl\u001b[0m=\u001b[32m'https://apod.nasa.gov/apod/image/2308/SunMonster_Wenz_960.jpg'\u001b[0m\n",
              "\u001b[2;32m│   \u001b[0m\u001b[1m)\u001b[0m,\n",
              "\u001b[2;32m│   \u001b[0m\u001b[1;35mAPOD\u001b[0m\u001b[1m(\u001b[0m\n",
              "\u001b[2;32m│   │   \u001b[0m\u001b[33mtitle\u001b[0m=\u001b[32m'The Great Globular Cluster in Hercules'\u001b[0m,\n",
              "\u001b[2;32m│   │   \u001b[0m\u001b[33mdate\u001b[0m=\u001b[32m'2023-09-01'\u001b[0m,\n",
              "\u001b[2;32m│   │   \u001b[0m\u001b[33mexplanation\u001b[0m=\u001b[32m'In 1716, English astronomer Edmond Halley noted, \"This is but a little Patch, but it shows itself to the naked Eye, when the Sky is serene and the Moon absent.\" Of course, M13 is now less modestly recognized as the Great Globular Cluster in Hercules, one of the brightest globular star clusters in the northern sky. Sharp telescopic views like this one reveal the spectacular cluster\\'s hundreds of thousands of stars. At a distance of 25,000 light-years, the cluster stars crowd into a region 150 light-years in diameter. Approaching the cluster core, upwards of 100 stars could be contained in a cube just 3 light-years on a side. For comparison, the closest star to the Sun is over 4 light-years away. The remarkable range of brightness recorded in this image follows stars into the dense cluster core.'\u001b[0m,\n",
              "\u001b[2;32m│   │   \u001b[0m\u001b[33murl\u001b[0m=\u001b[32m'https://apod.nasa.gov/apod/image/2309/M13-totale-en-cours-crop8_1024.jpg'\u001b[0m\n",
              "\u001b[2;32m│   \u001b[0m\u001b[1m)\u001b[0m,\n",
              "\u001b[2;32m│   \u001b[0m\u001b[1;35mAPOD\u001b[0m\u001b[1m(\u001b[0m\n",
              "\u001b[2;32m│   │   \u001b[0m\u001b[33mtitle\u001b[0m=\u001b[32m'A Desert Eclipse'\u001b[0m,\n",
              "\u001b[2;32m│   │   \u001b[0m\u001b[33mdate\u001b[0m=\u001b[32m'2023-10-01'\u001b[0m,\n",
              "\u001b[2;32m│   │   \u001b[0m\u001b[33mexplanation\u001b[0m=\u001b[32m'A good place to see a ring-of-fire eclipse, it seemed, would be from a desert. In a desert, there should be relatively few obscuring clouds and trees.  Therefore late December of 2019, a group of photographers traveled to the United Arab Emirates and Rub al-Khali, the largest continuous sand desert in world, to capture clear images of an unusual eclipse that would be passing over.  A ring-of-fire eclipse is an annular eclipse that occurs when the Moon is far enough away on its elliptical orbit around the Earth so that it appears too small, angularly, to cover the entire Sun. At the maximum of an annular eclipse, the edges of the Sun can be seen all around the edges of the Moon, so that the Moon appears to be a dark spot that covers most -- but not all -- of the Sun. This particular eclipse, they knew, would peak soon after sunrise.  After seeking out such a dry and barren place, it turned out that some of the most interesting eclipse images actually included a tree in the foreground, because, in addition to the sand dunes, the tree gave the surreal background a contrasting sense of normalcy, scale, and texture.  On Saturday, October 14, a new ring of fire will be visible through clear skies from a thin swath crossing both North and South America.'\u001b[0m,\n",
              "\u001b[2;32m│   │   \u001b[0m\u001b[33murl\u001b[0m=\u001b[32m'https://apod.nasa.gov/apod/image/2310/DesertEclipse_Daviron_960.jpg'\u001b[0m\n",
              "\u001b[2;32m│   \u001b[0m\u001b[1m)\u001b[0m,\n",
              "\u001b[2;32m│   \u001b[0m\u001b[1;35mAPOD\u001b[0m\u001b[1m(\u001b[0m\n",
              "\u001b[2;32m│   │   \u001b[0m\u001b[33mtitle\u001b[0m=\u001b[32m'Annular Solar Eclipse over Utah'\u001b[0m,\n",
              "\u001b[2;32m│   │   \u001b[0m\u001b[33mdate\u001b[0m=\u001b[32m'2023-11-01'\u001b[0m,\n",
              "\u001b[2;32m│   │   \u001b[0m\u001b[33mexplanation\u001b[0m=\u001b[32m'Part of the Sun disappeared earlier this month, but few people were worried. The missing part, which included the center from some locations, just went behind the Moon in what is known as an annular solar eclipse.  Featured here is an eclipse sequence taken as the Moon was overtaking the rising Sun in the sky. The foreground hill is Factory Butte in Utah, USA. The rays flaring out from the Sun are not real -- they result from camera aperture diffraction and are known as sunstar. The Moon is real, but appears only in silhouette in this ring-of-fire eclipse. As stunning as this eclipse sequence is, it was considered just practice by the astrophotographer.  The reason? She hopes to use this experience to better photograph the total solar eclipse that will occur over North America on April 8, 2024.   Apply today \u001b[0m\u001b[32m(\u001b[0m\u001b[32mUSA\u001b[0m\u001b[32m)\u001b[0m\u001b[32m: Become a NASA Partner Eclipse Ambassador  Eclipse Album: Selected images sent in to APOD'\u001b[0m,\n",
              "\u001b[2;32m│   │   \u001b[0m\u001b[33murl\u001b[0m=\u001b[32m'https://apod.nasa.gov/apod/image/2311/UtahEclipseB_Kiczenski_960.jpg'\u001b[0m\n",
              "\u001b[2;32m│   \u001b[0m\u001b[1m)\u001b[0m,\n",
              "\u001b[2;32m│   \u001b[0m\u001b[1;35mAPOD\u001b[0m\u001b[1m(\u001b[0m\n",
              "\u001b[2;32m│   │   \u001b[0m\u001b[33mtitle\u001b[0m=\u001b[32m'Milky Way Rising'\u001b[0m,\n",
              "\u001b[2;32m│   │   \u001b[0m\u001b[33mdate\u001b[0m=\u001b[32m'2023-12-01'\u001b[0m,\n",
              "\u001b[2;32m│   │   \u001b[0m\u001b[33mexplanation\u001b[0m=\u001b[32m\"The\u001b[0m\u001b[32m core of the Milky Way is rising beyond the Chilean mountain-top La Silla Observatory in this deep night skyscape. Seen toward the constellation Sagittarius, our home galaxy's center is flanked on the left, by the European Southern Observatory's New Technology Telescope which pioneered the use of active optics to accurately control the shape of large telescope mirrors. To the right stands the ESO 3.6-meter Telescope, home of the exoplanet hunting HARPS and NIRPS spectrographs. Between them, the galaxy's central bulge is filled with obscuring clouds of interstellar dust, bright stars, clusters, and nebulae. Prominent reddish hydrogen emission from the star-forming Lagoon Nebula, M8, is near center. The Trifid Nebula, M20, combines blue light of a dusty reflection nebula with reddish emission just left of the cosmic Lagoon. Both are popular stops on telescopic tours of the galactic center. The composited image is a stack of separate exposures for ground and sky made in April 2023, all captured consecutively with the same framing and camera equipment.\"\u001b[0m,\n",
              "\u001b[2;32m│   │   \u001b[0m\u001b[33murl\u001b[0m=\u001b[32m'https://apod.nasa.gov/apod/image/2312/_MG_2485-mod_APOD1024.jpg'\u001b[0m\n",
              "\u001b[2;32m│   \u001b[0m\u001b[1m)\u001b[0m\n",
              "\u001b[1m]\u001b[0m\n"
            ],
            "text/html": [
              "<pre style=\"white-space:pre;overflow-x:auto;line-height:normal;font-family:Menlo,'DejaVu Sans Mono',consolas,'Courier New',monospace\"><span style=\"font-weight: bold\">[</span>\n",
              "<span style=\"color: #7fbf7f; text-decoration-color: #7fbf7f\">│   </span><span style=\"color: #800080; text-decoration-color: #800080; font-weight: bold\">APOD</span><span style=\"font-weight: bold\">(</span>\n",
              "<span style=\"color: #7fbf7f; text-decoration-color: #7fbf7f\">│   │   </span><span style=\"color: #808000; text-decoration-color: #808000\">title</span>=<span style=\"color: #008000; text-decoration-color: #008000\">'The Largest Rock in our Solar System'</span>,\n",
              "<span style=\"color: #7fbf7f; text-decoration-color: #7fbf7f\">│   │   </span><span style=\"color: #808000; text-decoration-color: #808000\">date</span>=<span style=\"color: #008000; text-decoration-color: #008000\">'2023-01-01'</span>,\n",
              "<span style=\"color: #7fbf7f; text-decoration-color: #7fbf7f\">│   │   </span><span style=\"color: #808000; text-decoration-color: #808000\">explanation</span>=<span style=\"color: #008000; text-decoration-color: #008000\">\"There, that dot on the right, that's the largest rock known in our Solar System. It is larger than every known asteroid, moon, and comet nucleus.  It is larger than any other local rocky planet.  This rock is so large its gravity makes it into a large ball that holds heavy gases near its surface.  (It used to be the largest known rock of any type until the recent discoveries of large dense planets orbiting other stars.)  The Voyager 1 spacecraft took the featured picture -- famously called Pale Blue Dot -- of this giant space rock in 1990 from the outer Solar System.  Today, this rock starts another orbit around its parent star, for roughly the 5 billionth time, spinning over 350 times during each trip.  Happy Gregorian Calendar New Year to all inhabitants of this rock we call Earth.\"</span>,\n",
              "<span style=\"color: #7fbf7f; text-decoration-color: #7fbf7f\">│   │   </span><span style=\"color: #808000; text-decoration-color: #808000\">url</span>=<span style=\"color: #008000; text-decoration-color: #008000\">'https://apod.nasa.gov/apod/image/2301/PaleBlueDotOrig_Voyager1_960.jpg'</span>\n",
              "<span style=\"color: #7fbf7f; text-decoration-color: #7fbf7f\">│   </span><span style=\"font-weight: bold\">)</span>,\n",
              "<span style=\"color: #7fbf7f; text-decoration-color: #7fbf7f\">│   </span><span style=\"color: #800080; text-decoration-color: #800080; font-weight: bold\">APOD</span><span style=\"font-weight: bold\">(</span>\n",
              "<span style=\"color: #7fbf7f; text-decoration-color: #7fbf7f\">│   │   </span><span style=\"color: #808000; text-decoration-color: #808000\">title</span>=<span style=\"color: #008000; text-decoration-color: #008000\">'The Seventh World of Trappist-1'</span>,\n",
              "<span style=\"color: #7fbf7f; text-decoration-color: #7fbf7f\">│   │   </span><span style=\"color: #808000; text-decoration-color: #808000\">date</span>=<span style=\"color: #008000; text-decoration-color: #008000\">'2023-02-01'</span>,\n",
              "<span style=\"color: #7fbf7f; text-decoration-color: #7fbf7f\">│   │   </span><span style=\"color: #808000; text-decoration-color: #808000\">explanation</span>=<span style=\"color: #008000; text-decoration-color: #008000\">\"Seven worlds orbit the ultracool dwarf star TRAPPIST-1. A mere 40 light-years away, many of the exoplanets were discovered in 2016 using the Transiting Planets and Planetesimals Small Telescope (TRAPPIST) located at  La Silla Observatory in Chile and later confirmed with telescope including NASA's Spitzer Space Telescope. The TRAPPIST-1 planets are likely all rocky and similar in size to Earth, and so compose one of the largest treasure troves of terrestrial planets ever detected around a single star. Because they orbit very close to their faint, tiny star they could also have regions where surface temperatures allow for the presence of ice or even liquid water, a key ingredient for life. Their tantalizing proximity to Earth makes them prime candidates for future telescopic explorations of the atmospheres of potentially habitable planets.  All seven exoplanets appear in the featured illustration, which imagines a view from the most distant known world of this system, TRAPPIST-1h, as having a rocky landscape covered in ice. Meanwhile, in the imagined background, one of the system's inner planets crosses in front of the dim, orange, nearly Jupiter-sized parent star.   Astrophysicists: Browse 3,000+ codes in the Astrophysics Source Code Library\"</span>,\n",
              "<span style=\"color: #7fbf7f; text-decoration-color: #7fbf7f\">│   │   </span><span style=\"color: #808000; text-decoration-color: #808000\">url</span>=<span style=\"color: #008000; text-decoration-color: #008000\">'https://apod.nasa.gov/apod/image/2302/Trappist1h_Carroll_960.jpg'</span>\n",
              "<span style=\"color: #7fbf7f; text-decoration-color: #7fbf7f\">│   </span><span style=\"font-weight: bold\">)</span>,\n",
              "<span style=\"color: #7fbf7f; text-decoration-color: #7fbf7f\">│   </span><span style=\"color: #800080; text-decoration-color: #800080; font-weight: bold\">APOD</span><span style=\"font-weight: bold\">(</span>\n",
              "<span style=\"color: #7fbf7f; text-decoration-color: #7fbf7f\">│   │   </span><span style=\"color: #808000; text-decoration-color: #808000\">title</span>=<span style=\"color: #008000; text-decoration-color: #008000\">'The Flaming Star Nebula'</span>,\n",
              "<span style=\"color: #7fbf7f; text-decoration-color: #7fbf7f\">│   │   </span><span style=\"color: #808000; text-decoration-color: #808000\">date</span>=<span style=\"color: #008000; text-decoration-color: #008000\">'2023-03-01'</span>,\n",
              "<span style=\"color: #7fbf7f; text-decoration-color: #7fbf7f\">│   │   </span><span style=\"color: #808000; text-decoration-color: #808000\">explanation</span>=<span style=\"color: #008000; text-decoration-color: #008000\">\"Is star AE Aurigae on fire? No.  Even though AE Aurigae is named the Flaming Star and the surrounding nebula IC 405 is named the Flaming Star Nebula, and even though the nebula appears to some like a swirling flame, there is no fire.  Fire, typically defined as the rapid molecular acquisition of oxygen, happens only when sufficient oxygen is present and is not important in such high-energy, low-oxygen environments such as stars.  The bright star AE Aurigae occurs near the center of the Flaming Star Nebula and is so hot it glows blue, emitting light so energetic it knocks electrons away from surrounding gas. When a proton recaptures an electron, light is emitted, as seen in the surrounding emission nebula.  Captured here three weeks ago, the Flaming Star Nebula is visible near the composite image's center, between the red Tadpole Nebula on the left and blue-tailed Comet ZTF on the right.  The Flaming Star Nebula lies about 1,500 light years distant, spans about 5 light years, and is visible with a small telescope toward the constellation of the Charioteer (Auriga).\"</span>,\n",
              "<span style=\"color: #7fbf7f; text-decoration-color: #7fbf7f\">│   │   </span><span style=\"color: #808000; text-decoration-color: #808000\">url</span>=<span style=\"color: #008000; text-decoration-color: #008000\">'https://apod.nasa.gov/apod/image/2303/FlamingStarComet_Roell_1080.jpg'</span>\n",
              "<span style=\"color: #7fbf7f; text-decoration-color: #7fbf7f\">│   </span><span style=\"font-weight: bold\">)</span>,\n",
              "<span style=\"color: #7fbf7f; text-decoration-color: #7fbf7f\">│   </span><span style=\"color: #800080; text-decoration-color: #800080; font-weight: bold\">APOD</span><span style=\"font-weight: bold\">(</span>\n",
              "<span style=\"color: #7fbf7f; text-decoration-color: #7fbf7f\">│   │   </span><span style=\"color: #808000; text-decoration-color: #808000\">title</span>=<span style=\"color: #008000; text-decoration-color: #008000\">'NGC 2442: Galaxy in Volans'</span>,\n",
              "<span style=\"color: #7fbf7f; text-decoration-color: #7fbf7f\">│   │   </span><span style=\"color: #808000; text-decoration-color: #808000\">date</span>=<span style=\"color: #008000; text-decoration-color: #008000\">'2023-04-01'</span>,\n",
              "<span style=\"color: #7fbf7f; text-decoration-color: #7fbf7f\">│   │   </span><span style=\"color: #808000; text-decoration-color: #808000\">explanation</span>=<span style=\"color: #008000; text-decoration-color: #008000\">\"Distorted galaxy NGC 2442 can be found in the southern constellation of the flying fish, (Piscis) Volans. Located about 50 million light-years away, the galaxy's two spiral arms extending from a pronounced central bar give it a hook-shaped appearance in this deep colorful image, with spiky foreground stars scattered across the telescopic field of view. The image also reveals the distant galaxy's obscuring dust lanes, young blue star clusters and reddish star forming regions surrounding a core of yellowish light from an older population of stars. But the star forming regions seem more concentrated along the drawn-out (upper right) spiral arm. The distorted structure is likely the result of an ancient close encounter with the smaller galaxy seen near the top left of the frame. The two interacting galaxies are separated by about 150,000 light-years at the estimated distance of NGC 2442.\"</span>,\n",
              "<span style=\"color: #7fbf7f; text-decoration-color: #7fbf7f\">│   │   </span><span style=\"color: #808000; text-decoration-color: #808000\">url</span>=<span style=\"color: #008000; text-decoration-color: #008000\">'https://apod.nasa.gov/apod/image/2304/NGC2442-NicolasROLLAND_signatur1024.jpg'</span>\n",
              "<span style=\"color: #7fbf7f; text-decoration-color: #7fbf7f\">│   </span><span style=\"font-weight: bold\">)</span>,\n",
              "<span style=\"color: #7fbf7f; text-decoration-color: #7fbf7f\">│   </span><span style=\"color: #800080; text-decoration-color: #800080; font-weight: bold\">APOD</span><span style=\"font-weight: bold\">(</span>\n",
              "<span style=\"color: #7fbf7f; text-decoration-color: #7fbf7f\">│   │   </span><span style=\"color: #808000; text-decoration-color: #808000\">title</span>=<span style=\"color: #008000; text-decoration-color: #008000\">'Carina Nebula North'</span>,\n",
              "<span style=\"color: #7fbf7f; text-decoration-color: #7fbf7f\">│   │   </span><span style=\"color: #808000; text-decoration-color: #808000\">date</span>=<span style=\"color: #008000; text-decoration-color: #008000\">'2023-05-01'</span>,\n",
              "<span style=\"color: #7fbf7f; text-decoration-color: #7fbf7f\">│   │   </span><span style=\"color: #808000; text-decoration-color: #808000\">explanation</span>=<span style=\"color: #008000; text-decoration-color: #008000\">'The Great Carina Nebula is home to strange stars and iconic nebulas. Named for its home constellation, the huge star-forming region is larger and brighter than the Great Orion Nebula but less well known because it is so far south -- and because so much of humanity lives so far north.  The featured image shows in great detail the northernmost part of the Carina Nebula. On the bottom left is the Gabriela Mistral Nebula consisting of an emission nebula of glowing gas (IC 2599) surrounding the small open cluster of stars (NGC 3324). Above the image center is the larger star cluster NGC 3293, while to its right is the emission nebula Loden 153.  The most famous occupant of the Carina Nebula, however, is not shown. Off the image to the lower right is the bright, erratic, and doomed star known as Eta Carinae -- a star once one of the brightest stars in the sky and now predicted to explode in a supernova sometime in the next few million years.'</span>,\n",
              "<span style=\"color: #7fbf7f; text-decoration-color: #7fbf7f\">│   │   </span><span style=\"color: #808000; text-decoration-color: #808000\">url</span>=<span style=\"color: #008000; text-decoration-color: #008000\">'https://apod.nasa.gov/apod/image/2305/CarNorth_Taylor_960.jpg'</span>\n",
              "<span style=\"color: #7fbf7f; text-decoration-color: #7fbf7f\">│   </span><span style=\"font-weight: bold\">)</span>,\n",
              "<span style=\"color: #7fbf7f; text-decoration-color: #7fbf7f\">│   </span><span style=\"color: #800080; text-decoration-color: #800080; font-weight: bold\">APOD</span><span style=\"font-weight: bold\">(</span>\n",
              "<span style=\"color: #7fbf7f; text-decoration-color: #7fbf7f\">│   │   </span><span style=\"color: #808000; text-decoration-color: #808000\">title</span>=<span style=\"color: #008000; text-decoration-color: #008000\">'Recycling Cassiopeia A'</span>,\n",
              "<span style=\"color: #7fbf7f; text-decoration-color: #7fbf7f\">│   │   </span><span style=\"color: #808000; text-decoration-color: #808000\">date</span>=<span style=\"color: #008000; text-decoration-color: #008000\">'2023-06-01'</span>,\n",
              "<span style=\"color: #7fbf7f; text-decoration-color: #7fbf7f\">│   │   </span><span style=\"color: #808000; text-decoration-color: #808000\">explanation</span>=<span style=\"color: #008000; text-decoration-color: #008000\">\"Massive stars in our Milky Way Galaxy live spectacular lives.  Collapsing from vast cosmic clouds, their nuclear furnaces ignite and create heavy elements in their cores. After a few million years, the enriched material is blasted back into interstellar space where star formation can begin anew. The expanding debris cloud known as Cassiopeia A is an example of this final phase of the stellar life cycle. Light from the explosion which created this supernova remnant would have been first seen in planet Earth's sky about 350 years ago, although it took that light about 11,000 years to reach us. This false-color image, composed of X-ray and optical image data from the Chandra X-ray Observatory and Hubble Space Telescope, shows the still hot filaments and knots in the remnant. It spans about 30 light-years at the estimated distance of Cassiopeia A. High-energy X-ray emission from specific elements has been color coded, silicon in red, sulfur in yellow, calcium in green and iron in purple, to help astronomers explore the recycling of our galaxy's star stuff. Still expanding, the outer blast wave is seen in blue hues. The bright speck near the center is a neutron star, the incredibly dense, collapsed remains of the massive stellar core.\"</span>,\n",
              "<span style=\"color: #7fbf7f; text-decoration-color: #7fbf7f\">│   │   </span><span style=\"color: #808000; text-decoration-color: #808000\">url</span>=<span style=\"color: #008000; text-decoration-color: #008000\">'https://apod.nasa.gov/apod/image/2306/Chandrafirstlight_0_1024.jpg'</span>\n",
              "<span style=\"color: #7fbf7f; text-decoration-color: #7fbf7f\">│   </span><span style=\"font-weight: bold\">)</span>,\n",
              "<span style=\"color: #7fbf7f; text-decoration-color: #7fbf7f\">│   </span><span style=\"color: #800080; text-decoration-color: #800080; font-weight: bold\">APOD</span><span style=\"font-weight: bold\">(</span>\n",
              "<span style=\"color: #7fbf7f; text-decoration-color: #7fbf7f\">│   │   </span><span style=\"color: #808000; text-decoration-color: #808000\">title</span>=<span style=\"color: #008000; text-decoration-color: #008000\">'Three Galaxies in Draco'</span>,\n",
              "<span style=\"color: #7fbf7f; text-decoration-color: #7fbf7f\">│   │   </span><span style=\"color: #808000; text-decoration-color: #808000\">date</span>=<span style=\"color: #008000; text-decoration-color: #008000\">'2023-07-01'</span>,\n",
              "<span style=\"color: #7fbf7f; text-decoration-color: #7fbf7f\">│   │   </span><span style=\"color: #808000; text-decoration-color: #808000\">explanation</span>=<span style=\"color: #008000; text-decoration-color: #008000\">'This tantalizing trio of galaxies sometimes called the Draco Group, is located in the northern constellation of (you guessed it) Draco, the Dragon. From left to right are face-on spiral NGC 5985, elliptical galaxy NGC 5982, and edge-on spiral NGC 5981, all found within this single telescopic field of view that spans a little more than the width of the full moon. While the group is far too small to be a galaxy cluster, and has not been catalogued as a compact galaxy group, the three galaxies all do lie roughly 100 million light-years from planet Earth. Not as well known as other tight groupings of galaxies, the contrast in visual appearance still makes this triplet an attractive subject for astroimagers. On close examination with spectrographs, the bright core of striking spiral NGC 5985 shows prominent emission in specific wavelengths of light, prompting astronomers to classify it as a Seyfert, a type of active galaxy. This impressively deep exposure hints at a faint dim halo along with sharp-edged shells surrounding elliptical NGC 5982, evidence of past galactic mergers. It also reveals many even more distant background galaxies.'</span>,\n",
              "<span style=\"color: #7fbf7f; text-decoration-color: #7fbf7f\">│   │   </span><span style=\"color: #808000; text-decoration-color: #808000\">url</span>=<span style=\"color: #008000; text-decoration-color: #008000\">'https://apod.nasa.gov/apod/image/2307/DracoTrio_TeamOmicron1024.jpg'</span>\n",
              "<span style=\"color: #7fbf7f; text-decoration-color: #7fbf7f\">│   </span><span style=\"font-weight: bold\">)</span>,\n",
              "<span style=\"color: #7fbf7f; text-decoration-color: #7fbf7f\">│   </span><span style=\"color: #800080; text-decoration-color: #800080; font-weight: bold\">APOD</span><span style=\"font-weight: bold\">(</span>\n",
              "<span style=\"color: #7fbf7f; text-decoration-color: #7fbf7f\">│   │   </span><span style=\"color: #808000; text-decoration-color: #808000\">title</span>=<span style=\"color: #008000; text-decoration-color: #008000\">'Monster Solar Prominence'</span>,\n",
              "<span style=\"color: #7fbf7f; text-decoration-color: #7fbf7f\">│   │   </span><span style=\"color: #808000; text-decoration-color: #808000\">date</span>=<span style=\"color: #008000; text-decoration-color: #008000\">'2023-08-01'</span>,\n",
              "<span style=\"color: #7fbf7f; text-decoration-color: #7fbf7f\">│   │   </span><span style=\"color: #808000; text-decoration-color: #808000\">explanation</span>=<span style=\"color: #008000; text-decoration-color: #008000\">'The monsters that live on the Sun are not like us. They are larger than the Earth and made of gas hotter than in any teapot. They have no eyes, but at times, many tentacles. They float.  Usually, they slowly change shape and just fade back onto the Sun over about a month. Sometimes, though, they suddenly explode and unleash\\xa0energetic particles into the Solar System that can attack the Earth.\\xa0 Pictured is a huge solar prominence imaged almost two weeks ago in the light of hydrogen. Captured by a small telescope in Gilbert, Arizona, USA, the monsteresque plume of gas was held aloft by the ever-present but ever-changing magnetic field near the surface of the Sun. Our active Sun continues to show an unusually\\xa0high number\\xa0of prominences, filaments, sunspots, and large active regions\\xa0as solar maximum approaches in 2025.'</span>,\n",
              "<span style=\"color: #7fbf7f; text-decoration-color: #7fbf7f\">│   │   </span><span style=\"color: #808000; text-decoration-color: #808000\">url</span>=<span style=\"color: #008000; text-decoration-color: #008000\">'https://apod.nasa.gov/apod/image/2308/SunMonster_Wenz_960.jpg'</span>\n",
              "<span style=\"color: #7fbf7f; text-decoration-color: #7fbf7f\">│   </span><span style=\"font-weight: bold\">)</span>,\n",
              "<span style=\"color: #7fbf7f; text-decoration-color: #7fbf7f\">│   </span><span style=\"color: #800080; text-decoration-color: #800080; font-weight: bold\">APOD</span><span style=\"font-weight: bold\">(</span>\n",
              "<span style=\"color: #7fbf7f; text-decoration-color: #7fbf7f\">│   │   </span><span style=\"color: #808000; text-decoration-color: #808000\">title</span>=<span style=\"color: #008000; text-decoration-color: #008000\">'The Great Globular Cluster in Hercules'</span>,\n",
              "<span style=\"color: #7fbf7f; text-decoration-color: #7fbf7f\">│   │   </span><span style=\"color: #808000; text-decoration-color: #808000\">date</span>=<span style=\"color: #008000; text-decoration-color: #008000\">'2023-09-01'</span>,\n",
              "<span style=\"color: #7fbf7f; text-decoration-color: #7fbf7f\">│   │   </span><span style=\"color: #808000; text-decoration-color: #808000\">explanation</span>=<span style=\"color: #008000; text-decoration-color: #008000\">'In 1716, English astronomer Edmond Halley noted, \"This is but a little Patch, but it shows itself to the naked Eye, when the Sky is serene and the Moon absent.\" Of course, M13 is now less modestly recognized as the Great Globular Cluster in Hercules, one of the brightest globular star clusters in the northern sky. Sharp telescopic views like this one reveal the spectacular cluster\\'s hundreds of thousands of stars. At a distance of 25,000 light-years, the cluster stars crowd into a region 150 light-years in diameter. Approaching the cluster core, upwards of 100 stars could be contained in a cube just 3 light-years on a side. For comparison, the closest star to the Sun is over 4 light-years away. The remarkable range of brightness recorded in this image follows stars into the dense cluster core.'</span>,\n",
              "<span style=\"color: #7fbf7f; text-decoration-color: #7fbf7f\">│   │   </span><span style=\"color: #808000; text-decoration-color: #808000\">url</span>=<span style=\"color: #008000; text-decoration-color: #008000\">'https://apod.nasa.gov/apod/image/2309/M13-totale-en-cours-crop8_1024.jpg'</span>\n",
              "<span style=\"color: #7fbf7f; text-decoration-color: #7fbf7f\">│   </span><span style=\"font-weight: bold\">)</span>,\n",
              "<span style=\"color: #7fbf7f; text-decoration-color: #7fbf7f\">│   </span><span style=\"color: #800080; text-decoration-color: #800080; font-weight: bold\">APOD</span><span style=\"font-weight: bold\">(</span>\n",
              "<span style=\"color: #7fbf7f; text-decoration-color: #7fbf7f\">│   │   </span><span style=\"color: #808000; text-decoration-color: #808000\">title</span>=<span style=\"color: #008000; text-decoration-color: #008000\">'A Desert Eclipse'</span>,\n",
              "<span style=\"color: #7fbf7f; text-decoration-color: #7fbf7f\">│   │   </span><span style=\"color: #808000; text-decoration-color: #808000\">date</span>=<span style=\"color: #008000; text-decoration-color: #008000\">'2023-10-01'</span>,\n",
              "<span style=\"color: #7fbf7f; text-decoration-color: #7fbf7f\">│   │   </span><span style=\"color: #808000; text-decoration-color: #808000\">explanation</span>=<span style=\"color: #008000; text-decoration-color: #008000\">'A good place to see a ring-of-fire eclipse, it seemed, would be from a desert. In a desert, there should be relatively few obscuring clouds and trees.  Therefore late December of 2019, a group of photographers traveled to the United Arab Emirates and Rub al-Khali, the largest continuous sand desert in world, to capture clear images of an unusual eclipse that would be passing over.  A ring-of-fire eclipse is an annular eclipse that occurs when the Moon is far enough away on its elliptical orbit around the Earth so that it appears too small, angularly, to cover the entire Sun. At the maximum of an annular eclipse, the edges of the Sun can be seen all around the edges of the Moon, so that the Moon appears to be a dark spot that covers most -- but not all -- of the Sun. This particular eclipse, they knew, would peak soon after sunrise.  After seeking out such a dry and barren place, it turned out that some of the most interesting eclipse images actually included a tree in the foreground, because, in addition to the sand dunes, the tree gave the surreal background a contrasting sense of normalcy, scale, and texture.  On Saturday, October 14, a new ring of fire will be visible through clear skies from a thin swath crossing both North and South America.'</span>,\n",
              "<span style=\"color: #7fbf7f; text-decoration-color: #7fbf7f\">│   │   </span><span style=\"color: #808000; text-decoration-color: #808000\">url</span>=<span style=\"color: #008000; text-decoration-color: #008000\">'https://apod.nasa.gov/apod/image/2310/DesertEclipse_Daviron_960.jpg'</span>\n",
              "<span style=\"color: #7fbf7f; text-decoration-color: #7fbf7f\">│   </span><span style=\"font-weight: bold\">)</span>,\n",
              "<span style=\"color: #7fbf7f; text-decoration-color: #7fbf7f\">│   </span><span style=\"color: #800080; text-decoration-color: #800080; font-weight: bold\">APOD</span><span style=\"font-weight: bold\">(</span>\n",
              "<span style=\"color: #7fbf7f; text-decoration-color: #7fbf7f\">│   │   </span><span style=\"color: #808000; text-decoration-color: #808000\">title</span>=<span style=\"color: #008000; text-decoration-color: #008000\">'Annular Solar Eclipse over Utah'</span>,\n",
              "<span style=\"color: #7fbf7f; text-decoration-color: #7fbf7f\">│   │   </span><span style=\"color: #808000; text-decoration-color: #808000\">date</span>=<span style=\"color: #008000; text-decoration-color: #008000\">'2023-11-01'</span>,\n",
              "<span style=\"color: #7fbf7f; text-decoration-color: #7fbf7f\">│   │   </span><span style=\"color: #808000; text-decoration-color: #808000\">explanation</span>=<span style=\"color: #008000; text-decoration-color: #008000\">'Part of the Sun disappeared earlier this month, but few people were worried. The missing part, which included the center from some locations, just went behind the Moon in what is known as an annular solar eclipse.  Featured here is an eclipse sequence taken as the Moon was overtaking the rising Sun in the sky. The foreground hill is Factory Butte in Utah, USA. The rays flaring out from the Sun are not real -- they result from camera aperture diffraction and are known as sunstar. The Moon is real, but appears only in silhouette in this ring-of-fire eclipse. As stunning as this eclipse sequence is, it was considered just practice by the astrophotographer.  The reason? She hopes to use this experience to better photograph the total solar eclipse that will occur over North America on April 8, 2024.   Apply today (USA): Become a NASA Partner Eclipse Ambassador  Eclipse Album: Selected images sent in to APOD'</span>,\n",
              "<span style=\"color: #7fbf7f; text-decoration-color: #7fbf7f\">│   │   </span><span style=\"color: #808000; text-decoration-color: #808000\">url</span>=<span style=\"color: #008000; text-decoration-color: #008000\">'https://apod.nasa.gov/apod/image/2311/UtahEclipseB_Kiczenski_960.jpg'</span>\n",
              "<span style=\"color: #7fbf7f; text-decoration-color: #7fbf7f\">│   </span><span style=\"font-weight: bold\">)</span>,\n",
              "<span style=\"color: #7fbf7f; text-decoration-color: #7fbf7f\">│   </span><span style=\"color: #800080; text-decoration-color: #800080; font-weight: bold\">APOD</span><span style=\"font-weight: bold\">(</span>\n",
              "<span style=\"color: #7fbf7f; text-decoration-color: #7fbf7f\">│   │   </span><span style=\"color: #808000; text-decoration-color: #808000\">title</span>=<span style=\"color: #008000; text-decoration-color: #008000\">'Milky Way Rising'</span>,\n",
              "<span style=\"color: #7fbf7f; text-decoration-color: #7fbf7f\">│   │   </span><span style=\"color: #808000; text-decoration-color: #808000\">date</span>=<span style=\"color: #008000; text-decoration-color: #008000\">'2023-12-01'</span>,\n",
              "<span style=\"color: #7fbf7f; text-decoration-color: #7fbf7f\">│   │   </span><span style=\"color: #808000; text-decoration-color: #808000\">explanation</span>=<span style=\"color: #008000; text-decoration-color: #008000\">\"The core of the Milky Way is rising beyond the Chilean mountain-top La Silla Observatory in this deep night skyscape. Seen toward the constellation Sagittarius, our home galaxy's center is flanked on the left, by the European Southern Observatory's New Technology Telescope which pioneered the use of active optics to accurately control the shape of large telescope mirrors. To the right stands the ESO 3.6-meter Telescope, home of the exoplanet hunting HARPS and NIRPS spectrographs. Between them, the galaxy's central bulge is filled with obscuring clouds of interstellar dust, bright stars, clusters, and nebulae. Prominent reddish hydrogen emission from the star-forming Lagoon Nebula, M8, is near center. The Trifid Nebula, M20, combines blue light of a dusty reflection nebula with reddish emission just left of the cosmic Lagoon. Both are popular stops on telescopic tours of the galactic center. The composited image is a stack of separate exposures for ground and sky made in April 2023, all captured consecutively with the same framing and camera equipment.\"</span>,\n",
              "<span style=\"color: #7fbf7f; text-decoration-color: #7fbf7f\">│   │   </span><span style=\"color: #808000; text-decoration-color: #808000\">url</span>=<span style=\"color: #008000; text-decoration-color: #008000\">'https://apod.nasa.gov/apod/image/2312/_MG_2485-mod_APOD1024.jpg'</span>\n",
              "<span style=\"color: #7fbf7f; text-decoration-color: #7fbf7f\">│   </span><span style=\"font-weight: bold\">)</span>\n",
              "<span style=\"font-weight: bold\">]</span>\n",
              "</pre>\n"
            ]
          },
          "metadata": {}
        },
        {
          "output_type": "stream",
          "name": "stdout",
          "text": [
            "---\n"
          ]
        },
        {
          "output_type": "display_data",
          "data": {
            "text/plain": [
              "\u001b[32m'Finished in 1.34 seconds'\u001b[0m\n"
            ],
            "text/html": [
              "<pre style=\"white-space:pre;overflow-x:auto;line-height:normal;font-family:Menlo,'DejaVu Sans Mono',consolas,'Courier New',monospace\"><span style=\"color: #008000; text-decoration-color: #008000\">'Finished in 1.34 seconds'</span>\n",
              "</pre>\n"
            ]
          },
          "metadata": {}
        }
      ]
    },
    {
      "cell_type": "markdown",
      "source": [
        "As you can see, the asynchronous api calls are faster. Maybe not by a lot but we're only making 12 API calls here so there might not be a huge amount of difference at the moment. However, when the number of API calls go up, that's when the asynchronous version of our code will truly shine.\n",
        "\n",
        "> 🚨 Just be careful you don't exceed the rate limit of the API and you should be fine doing this asynchronously.\n",
        "\n",
        "<br>\n",
        "\n",
        "Now let's take a look at all the beautiful Astronomy Picture of the Day we just got!"
      ],
      "metadata": {
        "id": "VPTOvH3iHfEc"
      }
    },
    {
      "cell_type": "code",
      "source": [
        "display_apods(apods)"
      ],
      "metadata": {
        "colab": {
          "base_uri": "https://localhost:8080/",
          "height": 1000
        },
        "id": "o0rkEJ0xSOb-",
        "outputId": "4479c5cd-ff19-4947-f7c2-ba0d7b727c68"
      },
      "execution_count": null,
      "outputs": [
        {
          "output_type": "stream",
          "name": "stdout",
          "text": [
            "Title: The Largest Rock in our Solar System\n",
            "Date: 2023-01-01\n",
            "Explanation: There, that dot on the right, that's the largest rock known in our Solar System.\n",
            "It is larger than every known asteroid, moon, and comet nucleus.  It is larger\n",
            "than any other local rocky planet.  This rock is so large its gravity makes it\n",
            "into a large ball that holds heavy gases near its surface.  (It used to be the\n",
            "largest known rock of any type until the recent discoveries of large dense\n",
            "planets orbiting other stars.)  The Voyager 1 spacecraft took the featured\n",
            "picture -- famously called Pale Blue Dot -- of this giant space rock in 1990\n",
            "from the outer Solar System.  Today, this rock starts another orbit around its\n",
            "parent star, for roughly the 5 billionth time, spinning over 350 times during\n",
            "each trip.  Happy Gregorian Calendar New Year to all inhabitants of this rock we\n",
            "call Earth.\n"
          ]
        },
        {
          "output_type": "display_data",
          "data": {
            "text/html": [
              "<img src=\"https://apod.nasa.gov/apod/image/2301/PaleBlueDotOrig_Voyager1_960.jpg\" width=\"700\"/>"
            ],
            "text/plain": [
              "<IPython.core.display.Image object>"
            ]
          },
          "metadata": {}
        },
        {
          "output_type": "stream",
          "name": "stdout",
          "text": [
            "---\n",
            "Title: The Seventh World of Trappist-1\n",
            "Date: 2023-02-01\n",
            "Explanation: Seven worlds orbit the ultracool dwarf star TRAPPIST-1. A mere 40 light-years\n",
            "away, many of the exoplanets were discovered in 2016 using the Transiting\n",
            "Planets and Planetesimals Small Telescope (TRAPPIST) located at  La Silla\n",
            "Observatory in Chile and later confirmed with telescope including NASA's Spitzer\n",
            "Space Telescope. The TRAPPIST-1 planets are likely all rocky and similar in size\n",
            "to Earth, and so compose one of the largest treasure troves of terrestrial\n",
            "planets ever detected around a single star. Because they orbit very close to\n",
            "their faint, tiny star they could also have regions where surface temperatures\n",
            "allow for the presence of ice or even liquid water, a key ingredient for life.\n",
            "Their tantalizing proximity to Earth makes them prime candidates for future\n",
            "telescopic explorations of the atmospheres of potentially habitable planets.\n",
            "All seven exoplanets appear in the featured illustration, which imagines a view\n",
            "from the most distant known world of this system, TRAPPIST-1h, as having a rocky\n",
            "landscape covered in ice. Meanwhile, in the imagined background, one of the\n",
            "system's inner planets crosses in front of the dim, orange, nearly Jupiter-sized\n",
            "parent star.   Astrophysicists: Browse 3,000+ codes in the Astrophysics Source\n",
            "Code Library\n"
          ]
        },
        {
          "output_type": "display_data",
          "data": {
            "text/html": [
              "<img src=\"https://apod.nasa.gov/apod/image/2302/Trappist1h_Carroll_960.jpg\" width=\"700\"/>"
            ],
            "text/plain": [
              "<IPython.core.display.Image object>"
            ]
          },
          "metadata": {}
        },
        {
          "output_type": "stream",
          "name": "stdout",
          "text": [
            "---\n",
            "Title: The Flaming Star Nebula\n",
            "Date: 2023-03-01\n",
            "Explanation: Is star AE Aurigae on fire? No.  Even though AE Aurigae is named the Flaming\n",
            "Star and the surrounding nebula IC 405 is named the Flaming Star Nebula, and\n",
            "even though the nebula appears to some like a swirling flame, there is no fire.\n",
            "Fire, typically defined as the rapid molecular acquisition of oxygen, happens\n",
            "only when sufficient oxygen is present and is not important in such high-energy,\n",
            "low-oxygen environments such as stars.  The bright star AE Aurigae occurs near\n",
            "the center of the Flaming Star Nebula and is so hot it glows blue, emitting\n",
            "light so energetic it knocks electrons away from surrounding gas. When a proton\n",
            "recaptures an electron, light is emitted, as seen in the surrounding emission\n",
            "nebula.  Captured here three weeks ago, the Flaming Star Nebula is visible near\n",
            "the composite image's center, between the red Tadpole Nebula on the left and\n",
            "blue-tailed Comet ZTF on the right.  The Flaming Star Nebula lies about 1,500\n",
            "light years distant, spans about 5 light years, and is visible with a small\n",
            "telescope toward the constellation of the Charioteer (Auriga).\n"
          ]
        },
        {
          "output_type": "display_data",
          "data": {
            "text/html": [
              "<img src=\"https://apod.nasa.gov/apod/image/2303/FlamingStarComet_Roell_1080.jpg\" width=\"700\"/>"
            ],
            "text/plain": [
              "<IPython.core.display.Image object>"
            ]
          },
          "metadata": {}
        },
        {
          "output_type": "stream",
          "name": "stdout",
          "text": [
            "---\n",
            "Title: NGC 2442: Galaxy in Volans\n",
            "Date: 2023-04-01\n",
            "Explanation: Distorted galaxy NGC 2442 can be found in the southern constellation of the\n",
            "flying fish, (Piscis) Volans. Located about 50 million light-years away, the\n",
            "galaxy's two spiral arms extending from a pronounced central bar give it a hook-\n",
            "shaped appearance in this deep colorful image, with spiky foreground stars\n",
            "scattered across the telescopic field of view. The image also reveals the\n",
            "distant galaxy's obscuring dust lanes, young blue star clusters and reddish star\n",
            "forming regions surrounding a core of yellowish light from an older population\n",
            "of stars. But the star forming regions seem more concentrated along the drawn-\n",
            "out (upper right) spiral arm. The distorted structure is likely the result of an\n",
            "ancient close encounter with the smaller galaxy seen near the top left of the\n",
            "frame. The two interacting galaxies are separated by about 150,000 light-years\n",
            "at the estimated distance of NGC 2442.\n"
          ]
        },
        {
          "output_type": "display_data",
          "data": {
            "text/html": [
              "<img src=\"https://apod.nasa.gov/apod/image/2304/NGC2442-NicolasROLLAND_signatur1024.jpg\" width=\"700\"/>"
            ],
            "text/plain": [
              "<IPython.core.display.Image object>"
            ]
          },
          "metadata": {}
        },
        {
          "output_type": "stream",
          "name": "stdout",
          "text": [
            "---\n",
            "Title: Carina Nebula North\n",
            "Date: 2023-05-01\n",
            "Explanation: The Great Carina Nebula is home to strange stars and iconic nebulas. Named for\n",
            "its home constellation, the huge star-forming region is larger and brighter than\n",
            "the Great Orion Nebula but less well known because it is so far south -- and\n",
            "because so much of humanity lives so far north.  The featured image shows in\n",
            "great detail the northernmost part of the Carina Nebula. On the bottom left is\n",
            "the Gabriela Mistral Nebula consisting of an emission nebula of glowing gas (IC\n",
            "2599) surrounding the small open cluster of stars (NGC 3324). Above the image\n",
            "center is the larger star cluster NGC 3293, while to its right is the emission\n",
            "nebula Loden 153.  The most famous occupant of the Carina Nebula, however, is\n",
            "not shown. Off the image to the lower right is the bright, erratic, and doomed\n",
            "star known as Eta Carinae -- a star once one of the brightest stars in the sky\n",
            "and now predicted to explode in a supernova sometime in the next few million\n",
            "years.\n"
          ]
        },
        {
          "output_type": "display_data",
          "data": {
            "text/html": [
              "<img src=\"https://apod.nasa.gov/apod/image/2305/CarNorth_Taylor_960.jpg\" width=\"700\"/>"
            ],
            "text/plain": [
              "<IPython.core.display.Image object>"
            ]
          },
          "metadata": {}
        },
        {
          "output_type": "stream",
          "name": "stdout",
          "text": [
            "---\n",
            "Title: Recycling Cassiopeia A\n",
            "Date: 2023-06-01\n",
            "Explanation: Massive stars in our Milky Way Galaxy live spectacular lives.  Collapsing from\n",
            "vast cosmic clouds, their nuclear furnaces ignite and create heavy elements in\n",
            "their cores. After a few million years, the enriched material is blasted back\n",
            "into interstellar space where star formation can begin anew. The expanding\n",
            "debris cloud known as Cassiopeia A is an example of this final phase of the\n",
            "stellar life cycle. Light from the explosion which created this supernova\n",
            "remnant would have been first seen in planet Earth's sky about 350 years ago,\n",
            "although it took that light about 11,000 years to reach us. This false-color\n",
            "image, composed of X-ray and optical image data from the Chandra X-ray\n",
            "Observatory and Hubble Space Telescope, shows the still hot filaments and knots\n",
            "in the remnant. It spans about 30 light-years at the estimated distance of\n",
            "Cassiopeia A. High-energy X-ray emission from specific elements has been color\n",
            "coded, silicon in red, sulfur in yellow, calcium in green and iron in purple, to\n",
            "help astronomers explore the recycling of our galaxy's star stuff. Still\n",
            "expanding, the outer blast wave is seen in blue hues. The bright speck near the\n",
            "center is a neutron star, the incredibly dense, collapsed remains of the massive\n",
            "stellar core.\n"
          ]
        },
        {
          "output_type": "display_data",
          "data": {
            "text/html": [
              "<img src=\"https://apod.nasa.gov/apod/image/2306/Chandrafirstlight_0_1024.jpg\" width=\"700\"/>"
            ],
            "text/plain": [
              "<IPython.core.display.Image object>"
            ]
          },
          "metadata": {}
        },
        {
          "output_type": "stream",
          "name": "stdout",
          "text": [
            "---\n",
            "Title: Three Galaxies in Draco\n",
            "Date: 2023-07-01\n",
            "Explanation: This tantalizing trio of galaxies sometimes called the Draco Group, is located\n",
            "in the northern constellation of (you guessed it) Draco, the Dragon. From left\n",
            "to right are face-on spiral NGC 5985, elliptical galaxy NGC 5982, and edge-on\n",
            "spiral NGC 5981, all found within this single telescopic field of view that\n",
            "spans a little more than the width of the full moon. While the group is far too\n",
            "small to be a galaxy cluster, and has not been catalogued as a compact galaxy\n",
            "group, the three galaxies all do lie roughly 100 million light-years from planet\n",
            "Earth. Not as well known as other tight groupings of galaxies, the contrast in\n",
            "visual appearance still makes this triplet an attractive subject for\n",
            "astroimagers. On close examination with spectrographs, the bright core of\n",
            "striking spiral NGC 5985 shows prominent emission in specific wavelengths of\n",
            "light, prompting astronomers to classify it as a Seyfert, a type of active\n",
            "galaxy. This impressively deep exposure hints at a faint dim halo along with\n",
            "sharp-edged shells surrounding elliptical NGC 5982, evidence of past galactic\n",
            "mergers. It also reveals many even more distant background galaxies.\n"
          ]
        },
        {
          "output_type": "display_data",
          "data": {
            "text/html": [
              "<img src=\"https://apod.nasa.gov/apod/image/2307/DracoTrio_TeamOmicron1024.jpg\" width=\"700\"/>"
            ],
            "text/plain": [
              "<IPython.core.display.Image object>"
            ]
          },
          "metadata": {}
        },
        {
          "output_type": "stream",
          "name": "stdout",
          "text": [
            "---\n",
            "Title: Monster Solar Prominence\n",
            "Date: 2023-08-01\n",
            "Explanation: The monsters that live on the Sun are not like us. They are larger than the\n",
            "Earth and made of gas hotter than in any teapot. They have no eyes, but at\n",
            "times, many tentacles. They float.  Usually, they slowly change shape and just\n",
            "fade back onto the Sun over about a month. Sometimes, though, they suddenly\n",
            "explode and unleash energetic particles into the Solar System that can attack\n",
            "the Earth.  Pictured is a huge solar prominence imaged almost two weeks ago in\n",
            "the light of hydrogen. Captured by a small telescope in Gilbert, Arizona, USA,\n",
            "the monsteresque plume of gas was held aloft by the ever-present but ever-\n",
            "changing magnetic field near the surface of the Sun. Our active Sun continues to\n",
            "show an unusually high number of prominences, filaments, sunspots, and large\n",
            "active regions as solar maximum approaches in 2025.\n"
          ]
        },
        {
          "output_type": "display_data",
          "data": {
            "text/html": [
              "<img src=\"https://apod.nasa.gov/apod/image/2308/SunMonster_Wenz_960.jpg\" width=\"700\"/>"
            ],
            "text/plain": [
              "<IPython.core.display.Image object>"
            ]
          },
          "metadata": {}
        },
        {
          "output_type": "stream",
          "name": "stdout",
          "text": [
            "---\n",
            "Title: The Great Globular Cluster in Hercules\n",
            "Date: 2023-09-01\n",
            "Explanation: In 1716, English astronomer Edmond Halley noted, \"This is but a little Patch,\n",
            "but it shows itself to the naked Eye, when the Sky is serene and the Moon\n",
            "absent.\" Of course, M13 is now less modestly recognized as the Great Globular\n",
            "Cluster in Hercules, one of the brightest globular star clusters in the northern\n",
            "sky. Sharp telescopic views like this one reveal the spectacular cluster's\n",
            "hundreds of thousands of stars. At a distance of 25,000 light-years, the cluster\n",
            "stars crowd into a region 150 light-years in diameter. Approaching the cluster\n",
            "core, upwards of 100 stars could be contained in a cube just 3 light-years on a\n",
            "side. For comparison, the closest star to the Sun is over 4 light-years away.\n",
            "The remarkable range of brightness recorded in this image follows stars into the\n",
            "dense cluster core.\n"
          ]
        },
        {
          "output_type": "display_data",
          "data": {
            "text/html": [
              "<img src=\"https://apod.nasa.gov/apod/image/2309/M13-totale-en-cours-crop8_1024.jpg\" width=\"700\"/>"
            ],
            "text/plain": [
              "<IPython.core.display.Image object>"
            ]
          },
          "metadata": {}
        },
        {
          "output_type": "stream",
          "name": "stdout",
          "text": [
            "---\n",
            "Title: A Desert Eclipse\n",
            "Date: 2023-10-01\n",
            "Explanation: A good place to see a ring-of-fire eclipse, it seemed, would be from a desert.\n",
            "In a desert, there should be relatively few obscuring clouds and trees.\n",
            "Therefore late December of 2019, a group of photographers traveled to the United\n",
            "Arab Emirates and Rub al-Khali, the largest continuous sand desert in world, to\n",
            "capture clear images of an unusual eclipse that would be passing over.  A ring-\n",
            "of-fire eclipse is an annular eclipse that occurs when the Moon is far enough\n",
            "away on its elliptical orbit around the Earth so that it appears too small,\n",
            "angularly, to cover the entire Sun. At the maximum of an annular eclipse, the\n",
            "edges of the Sun can be seen all around the edges of the Moon, so that the Moon\n",
            "appears to be a dark spot that covers most -- but not all -- of the Sun. This\n",
            "particular eclipse, they knew, would peak soon after sunrise.  After seeking out\n",
            "such a dry and barren place, it turned out that some of the most interesting\n",
            "eclipse images actually included a tree in the foreground, because, in addition\n",
            "to the sand dunes, the tree gave the surreal background a contrasting sense of\n",
            "normalcy, scale, and texture.  On Saturday, October 14, a new ring of fire will\n",
            "be visible through clear skies from a thin swath crossing both North and South\n",
            "America.\n"
          ]
        },
        {
          "output_type": "display_data",
          "data": {
            "text/html": [
              "<img src=\"https://apod.nasa.gov/apod/image/2310/DesertEclipse_Daviron_960.jpg\" width=\"700\"/>"
            ],
            "text/plain": [
              "<IPython.core.display.Image object>"
            ]
          },
          "metadata": {}
        },
        {
          "output_type": "stream",
          "name": "stdout",
          "text": [
            "---\n",
            "Title: Annular Solar Eclipse over Utah\n",
            "Date: 2023-11-01\n",
            "Explanation: Part of the Sun disappeared earlier this month, but few people were worried. The\n",
            "missing part, which included the center from some locations, just went behind\n",
            "the Moon in what is known as an annular solar eclipse.  Featured here is an\n",
            "eclipse sequence taken as the Moon was overtaking the rising Sun in the sky. The\n",
            "foreground hill is Factory Butte in Utah, USA. The rays flaring out from the Sun\n",
            "are not real -- they result from camera aperture diffraction and are known as\n",
            "sunstar. The Moon is real, but appears only in silhouette in this ring-of-fire\n",
            "eclipse. As stunning as this eclipse sequence is, it was considered just\n",
            "practice by the astrophotographer.  The reason? She hopes to use this experience\n",
            "to better photograph the total solar eclipse that will occur over North America\n",
            "on April 8, 2024.   Apply today (USA): Become a NASA Partner Eclipse Ambassador\n",
            "Eclipse Album: Selected images sent in to APOD\n"
          ]
        },
        {
          "output_type": "display_data",
          "data": {
            "text/html": [
              "<img src=\"https://apod.nasa.gov/apod/image/2311/UtahEclipseB_Kiczenski_960.jpg\" width=\"700\"/>"
            ],
            "text/plain": [
              "<IPython.core.display.Image object>"
            ]
          },
          "metadata": {}
        },
        {
          "output_type": "stream",
          "name": "stdout",
          "text": [
            "---\n",
            "Title: Milky Way Rising\n",
            "Date: 2023-12-01\n",
            "Explanation: The core of the Milky Way is rising beyond the Chilean mountain-top La Silla\n",
            "Observatory in this deep night skyscape. Seen toward the constellation\n",
            "Sagittarius, our home galaxy's center is flanked on the left, by the European\n",
            "Southern Observatory's New Technology Telescope which pioneered the use of\n",
            "active optics to accurately control the shape of large telescope mirrors. To the\n",
            "right stands the ESO 3.6-meter Telescope, home of the exoplanet hunting HARPS\n",
            "and NIRPS spectrographs. Between them, the galaxy's central bulge is filled with\n",
            "obscuring clouds of interstellar dust, bright stars, clusters, and nebulae.\n",
            "Prominent reddish hydrogen emission from the star-forming Lagoon Nebula, M8, is\n",
            "near center. The Trifid Nebula, M20, combines blue light of a dusty reflection\n",
            "nebula with reddish emission just left of the cosmic Lagoon. Both are popular\n",
            "stops on telescopic tours of the galactic center. The composited image is a\n",
            "stack of separate exposures for ground and sky made in April 2023, all captured\n",
            "consecutively with the same framing and camera equipment.\n"
          ]
        },
        {
          "output_type": "display_data",
          "data": {
            "text/html": [
              "<img src=\"https://apod.nasa.gov/apod/image/2312/_MG_2485-mod_APOD1024.jpg\" width=\"700\"/>"
            ],
            "text/plain": [
              "<IPython.core.display.Image object>"
            ]
          },
          "metadata": {}
        },
        {
          "output_type": "stream",
          "name": "stdout",
          "text": [
            "---\n"
          ]
        }
      ]
    }
  ]
}